{
 "cells": [
  {
   "cell_type": "code",
   "execution_count": 1,
   "id": "b9e9a3de-1b49-4b66-8e8b-f96b16d5fb65",
   "metadata": {},
   "outputs": [],
   "source": [
    "import numpy as np"
   ]
  },
  {
   "cell_type": "code",
   "execution_count": 2,
   "id": "5ce6b81b-49eb-4b16-b5e7-c4414d160afb",
   "metadata": {},
   "outputs": [],
   "source": [
    "from pyomo.environ import *\n",
    "from pyomo.environ import RangeSet\n",
    "from pyomo.environ import value"
   ]
  },
  {
   "cell_type": "code",
   "execution_count": 3,
   "id": "4fa8e6b5-0986-4101-90ca-ba9b0137748e",
   "metadata": {},
   "outputs": [],
   "source": [
    "A = np.array([\n",
    "    [1,0,-1,0,0,0,0,0,0],\n",
    "    [0,1,0,-1,0,0,0,0,0],\n",
    "    [0,0,1,1,-1,0,0,0.6,0],\n",
    "    [0,0,0,0,1,-1,0.5,0,0],\n",
    "    [0,0,0,0,0,1,0,0,0],\n",
    "    [0,0,0,0,0,1,-1,-1,-1]\n",
    "])"
   ]
  },
  {
   "cell_type": "code",
   "execution_count": 12,
   "id": "685b8cef-561e-4441-8cf2-c732c9397dcc",
   "metadata": {},
   "outputs": [],
   "source": [
    "B = np.array ([\n",
    "    [1,0.5,1,1,0,0,0.2,0.6,0]\n",
    "])"
   ]
  },
  {
   "cell_type": "code",
   "execution_count": 13,
   "id": "47ba69b1-7d6a-4125-bae9-4fc060817d8b",
   "metadata": {},
   "outputs": [],
   "source": [
    "C = np.array ([\n",
    "    [1]\n",
    "])"
   ]
  },
  {
   "cell_type": "code",
   "execution_count": 14,
   "id": "806a6ddb-8333-4930-bba9-97aeed3dfe89",
   "metadata": {},
   "outputs": [],
   "source": [
    "coef_GWP=C@B\n",
    "coef_GWP=np.array(coef_GWP)\n",
    "coef_GWP = coef_GWP.reshape(-1)"
   ]
  },
  {
   "cell_type": "code",
   "execution_count": 15,
   "id": "31ca453c-2eb2-4abb-8a60-d897e50939f8",
   "metadata": {},
   "outputs": [],
   "source": [
    "F=1\n",
    "f=np.zeros(len(A))\n",
    "f[4]=F"
   ]
  },
  {
   "cell_type": "code",
   "execution_count": 16,
   "id": "cca30ba7-5716-4b95-b4ec-1de05a35995c",
   "metadata": {},
   "outputs": [
    {
     "data": {
      "text/plain": [
       "{'Problem': [{'Name': 'unknown', 'Lower bound': 0.95, 'Upper bound': 0.95, 'Number of objectives': 1, 'Number of constraints': 16, 'Number of variables': 10, 'Number of nonzeros': 26, 'Sense': 'minimize'}], 'Solver': [{'Status': 'ok', 'Termination condition': 'optimal', 'Statistics': {'Branch and bound': {'Number of bounded subproblems': 0, 'Number of created subproblems': 0}}, 'Error rc': 0, 'Time': 0.04315900802612305}], 'Solution': [OrderedDict([('number of solutions', 0), ('number of solutions displayed', 0)])]}"
      ]
     },
     "execution_count": 16,
     "metadata": {},
     "output_type": "execute_result"
    }
   ],
   "source": [
    "positive_s_indices = []\n",
    "positive_s_indices = list(range(1, len(np.transpose(A))+1))\n",
    "#Model Formulation\n",
    "# Create the model\n",
    "model = ConcreteModel()\n",
    "\n",
    "# Define the decision variable\n",
    "model.set_s = RangeSet(len(np.transpose(A)))\n",
    "model.s = Var(model.set_s)\n",
    "model.set_positive_scale = Set(initialize=positive_s_indices)\n",
    "\n",
    "#model constraint: As = f and s>=0\n",
    "model.set_balance = RangeSet(len(f))\n",
    "def balance(model, p): # As = f\n",
    "    return sum(A[p-1,i-1]*model.s[i] for i in model.set_s) == f[p-1]\n",
    "def positive_scale(model, i): # s>=0\n",
    "    return (model.s[i]>=0)\n",
    "\n",
    "model.balance_constraints = Constraint(model.set_balance, rule=balance)\n",
    "model.positive_scale_constraints = Constraint(model.set_positive_scale, rule=positive_scale)\n",
    "\n",
    "model.obj = Objective(expr = sum(coef_GWP[i-1]*model.s[i] for i in model.set_s), sense=minimize)\n",
    "#Solver\n",
    "solver = SolverFactory('glpk')\n",
    "solver.solve(model) # solves and updates instance"
   ]
  },
  {
   "cell_type": "code",
   "execution_count": 17,
   "id": "f9d39b23-2b4b-47fb-8f99-d6690a79e930",
   "metadata": {},
   "outputs": [
    {
     "data": {
      "text/plain": [
       "0.95"
      ]
     },
     "execution_count": 17,
     "metadata": {},
     "output_type": "execute_result"
    }
   ],
   "source": [
    "value(model.obj)"
   ]
  },
  {
   "cell_type": "code",
   "execution_count": 18,
   "id": "508abc6b-f21f-4ae1-9e9d-97b813ffd498",
   "metadata": {},
   "outputs": [],
   "source": [
    "scaling_factors = []\n",
    "for j in model.s:\n",
    "    scaling_factors.append(model.s[j].value)       "
   ]
  },
  {
   "cell_type": "code",
   "execution_count": 19,
   "id": "5a87c1d9-df9e-421a-a8ee-c80881555e24",
   "metadata": {},
   "outputs": [
    {
     "data": {
      "text/plain": [
       "[0.0, 0.5, 0.0, 0.5, 0.5, 1.0, 1.0, 0.0, -0.0]"
      ]
     },
     "execution_count": 19,
     "metadata": {},
     "output_type": "execute_result"
    }
   ],
   "source": [
    "scaling_factors"
   ]
  },
  {
   "cell_type": "code",
   "execution_count": null,
   "id": "80e642b6-a695-4a86-90e7-d76e66e2713a",
   "metadata": {},
   "outputs": [],
   "source": []
  }
 ],
 "metadata": {
  "kernelspec": {
   "display_name": "Python 3 (ipykernel)",
   "language": "python",
   "name": "python3"
  },
  "language_info": {
   "codemirror_mode": {
    "name": "ipython",
    "version": 3
   },
   "file_extension": ".py",
   "mimetype": "text/x-python",
   "name": "python",
   "nbconvert_exporter": "python",
   "pygments_lexer": "ipython3",
   "version": "3.9.13"
  }
 },
 "nbformat": 4,
 "nbformat_minor": 5
}
