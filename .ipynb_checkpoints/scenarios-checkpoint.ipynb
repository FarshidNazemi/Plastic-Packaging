{
 "cells": [
  {
   "cell_type": "markdown",
   "id": "46b22411-4a12-499f-bf0a-ea172845452e",
   "metadata": {
    "tags": []
   },
   "source": [
    "# General Setup"
   ]
  },
  {
   "cell_type": "code",
   "execution_count": 1,
   "id": "dc6f414d-0b01-4bd7-b53b-5551718a3d8a",
   "metadata": {},
   "outputs": [],
   "source": [
    "import numpy as np\n",
    "import pandas as pd\n",
    "import matplotlib.pyplot as plt\n",
    "import copy\n",
    "from pyomo.environ import *\n",
    "from pyomo.environ import RangeSet\n",
    "from pyomo.environ import value"
   ]
  },
  {
   "cell_type": "code",
   "execution_count": 2,
   "id": "7e2fd1f7-12f2-4c55-b110-5a114f8f9c60",
   "metadata": {},
   "outputs": [],
   "source": [
    "A_url = \"https://raw.githubusercontent.com/FarshidNazemi/Plastic-Packaging/refs/heads/main/csv-files/A%20(USLCI)-Design.csv\"\n",
    "B_url = \"https://raw.githubusercontent.com/FarshidNazemi/Plastic-Packaging/refs/heads/main/csv-files/B%20(USLCI)-Design.csv\"\n",
    "C_url = \"https://raw.githubusercontent.com/FarshidNazemi/Plastic-Packaging/refs/heads/main/csv-files/C%20(USLCI)-Design.csv\""
   ]
  },
  {
   "cell_type": "code",
   "execution_count": 3,
   "id": "32dafa57-fcfb-4969-bc76-bbdf80fecf38",
   "metadata": {},
   "outputs": [],
   "source": [
    "A_df_org = pd.read_csv(A_url,header=None)\n",
    "B_df_org = pd.read_csv(B_url,header=None)\n",
    "C_df_org = pd.read_csv(C_url,header=None)\n",
    "C_df = C_df_org"
   ]
  },
  {
   "cell_type": "code",
   "execution_count": 4,
   "id": "0f6cae29-215b-4e14-b710-234ebb83f8ca",
   "metadata": {},
   "outputs": [],
   "source": [
    "A_df_org.to_csv('A_df_org.csv', index=False)\n",
    "B_df_org.to_csv('B_df_org.csv', index=False)"
   ]
  },
  {
   "cell_type": "markdown",
   "id": "6447bbfb-851d-4d4c-bbcc-77659432f486",
   "metadata": {},
   "source": [
    "### Removing Transportation from A and B"
   ]
  },
  {
   "cell_type": "code",
   "execution_count": 5,
   "id": "8f64c71a-4e02-4227-905b-b2ba1ee0a5f2",
   "metadata": {},
   "outputs": [],
   "source": [
    "transport_processes = ['Transport, barge, average fuel mix',\n",
    "                            'Transport, barge, diesel powered',\n",
    "                            'Transport, barge, residual fuel oil powered',\n",
    "                            'Transport, combination truck, average fuel mix',\n",
    "                            'Transport, combination truck, diesel powered',\n",
    "                            'Transport, ocean freighter, average fuel mix',\n",
    "                            'Transport, ocean freighter, diesel powered',\n",
    "                            'Transport, ocean freighter, residual fuel oil powered',\n",
    "                            'Transport, pipeline, natural gas',\n",
    "                            'Transport, pipeline, unspecified petroleum products',\n",
    "                            'Transport, single unit truck, diesel powered',\n",
    "                            'Transport, train, diesel powered']"
   ]
  },
  {
   "cell_type": "code",
   "execution_count": 6,
   "id": "cd4a9b28-a62b-4dd1-82da-eb89441baf35",
   "metadata": {},
   "outputs": [],
   "source": [
    "#finding columns in A with transportation \n",
    "store_index_transport_A_col = []\n",
    "stored_index_A = 0\n",
    "for i in range(len(A_df_org.T)):\n",
    "    if str(A_df_org.iloc[0, i]) in transport_processes:\n",
    "        stored_index_A = i\n",
    "        store_index_transport_A_col.append(stored_index_A)"
   ]
  },
  {
   "cell_type": "code",
   "execution_count": 7,
   "id": "9197d087-7080-429a-8365-352a11d4f9c4",
   "metadata": {},
   "outputs": [],
   "source": [
    "#finding columns in B with transportation\n",
    "store_index_transport_B = []\n",
    "stored_index_B = 0\n",
    "for i in range(len(B_df_org.T)):\n",
    "    if str(B_df_org.iloc[0, i]) in transport_processes:\n",
    "        stored_index_B = i\n",
    "        store_index_transport_B.append(stored_index_B)"
   ]
  },
  {
   "cell_type": "code",
   "execution_count": 8,
   "id": "e6ef147e-996b-46e4-b328-d18efa7d5899",
   "metadata": {},
   "outputs": [],
   "source": [
    "A_df_org = A_df_org.drop(A_df_org.columns[store_index_transport_A_col], axis=1)\n",
    "B_df_org = B_df_org.drop(B_df_org.columns[store_index_transport_B], axis=1)"
   ]
  },
  {
   "cell_type": "code",
   "execution_count": 9,
   "id": "5d5ebe84-94fa-45b7-8c7f-182fc56fdefc",
   "metadata": {},
   "outputs": [],
   "source": [
    "#Finding Transportation rows\n",
    "store_index_transport_A_row = []\n",
    "stored_index_A = 0\n",
    "for i in range(len(A_df_org)):\n",
    "    if str(A_df_org.iloc[i, 0]) in transport_processes:\n",
    "        stored_index_A = i\n",
    "        store_index_transport_A_row.append(stored_index_A)"
   ]
  },
  {
   "cell_type": "code",
   "execution_count": 10,
   "id": "1f134272-e7ca-4b08-8770-7ed3d33b239d",
   "metadata": {},
   "outputs": [],
   "source": [
    "#removing transportation rows from A\n",
    "A_df_org = A_df_org.drop(A_df_org.columns[store_index_transport_A_row], axis=0)"
   ]
  },
  {
   "cell_type": "code",
   "execution_count": 11,
   "id": "c37df637-05d5-4dba-91fd-05c1b05fd3d2",
   "metadata": {},
   "outputs": [],
   "source": [
    "A_df_org.to_csv('A_df_org_transport.csv', index=False)"
   ]
  },
  {
   "cell_type": "markdown",
   "id": "e0ddaa5c-7e4b-429d-a3ec-3db096f61b5c",
   "metadata": {
    "tags": []
   },
   "source": [
    "# Scenario 1: EoL"
   ]
  },
  {
   "cell_type": "markdown",
   "id": "a9387f4e-2481-4945-87b9-bf245d814d2b",
   "metadata": {},
   "source": [
    "## b:  Electricity generation UUIDs in USLCI"
   ]
  },
  {
   "cell_type": "code",
   "execution_count": 12,
   "id": "e1b56b94-f30b-4c36-8b11-fe99a9832a5f",
   "metadata": {},
   "outputs": [],
   "source": [
    "electricity_processes = ['Electrcity, solar photovoltatic',\n",
    "                         'Electricity',\n",
    "                         'Electricity, at cogen, for natural gas turbine',\n",
    "                         'Electricity, at Grid, US, 2010',\n",
    "                         'Electricity, biomass, at power plant',\n",
    "                         'Electricity, bituminous coal, at power plant',\n",
    "                         'Electricity, concentrated solar power (CSP)',\n",
    "                         'Electricity, diesel, at power plant',\n",
    "                         'Electricity, Eastern US, 2014',\n",
    "                         'Electricity, lignite coal, at power plant',\n",
    "                         'Electricity, natural gas, at power plant',\n",
    "                         'Electricity, nuclear, at power plant',\n",
    "                         'Electricity, residual fuel oil, at power plant',\n",
    "                         'Electricity, solar'\n",
    "                            ]"
   ]
  },
  {
   "cell_type": "code",
   "execution_count": 13,
   "id": "02d2ee8e-02d5-4a2a-813f-f05b25777b0f",
   "metadata": {},
   "outputs": [],
   "source": [
    "#finding columns in A with electricity generation\n",
    "store_index_electricity_A_col = []\n",
    "stored_index_A = 0\n",
    "for i in range(len(A_df_org.T)):\n",
    "    if str(A_df_org.iloc[0, i]) in electricity_processes:\n",
    "        stored_index_A = i\n",
    "        store_index_electricity_A_col.append(stored_index_A)"
   ]
  },
  {
   "cell_type": "code",
   "execution_count": 14,
   "id": "d94142e3-909d-4cb8-8328-52a90c4d87de",
   "metadata": {},
   "outputs": [],
   "source": [
    "#finding rows in A with electricity generation\n",
    "store_index_electricity_A_row = []\n",
    "stored_index_A = 0\n",
    "for i in range(len(A_df_org)):\n",
    "    if str(A_df_org.iloc[i, 0]) in electricity_processes:\n",
    "        stored_index_A = i\n",
    "        store_index_electricity_A_row.append(stored_index_A)"
   ]
  },
  {
   "cell_type": "code",
   "execution_count": 15,
   "id": "2e4961c6-889f-4987-9d36-534c1f266bd1",
   "metadata": {},
   "outputs": [],
   "source": [
    "#finding columns in B with electricity generation\n",
    "store_index_electricity_B = []\n",
    "stored_index_B = 0\n",
    "for i in range(len(B_df_org.T)):\n",
    "    if str(B_df_org.iloc[0, i]) in electricity_processes:\n",
    "        stored_index_B = i\n",
    "        store_index_electricity_B.append(stored_index_B)"
   ]
  },
  {
   "cell_type": "markdown",
   "id": "55bd650e-82fe-4266-8352-6609df6b6f77",
   "metadata": {},
   "source": [
    "### Removing corresponding electricity columns from A and B"
   ]
  },
  {
   "cell_type": "code",
   "execution_count": 16,
   "id": "674dcf86-0ae2-45cb-8e95-7deb10876d25",
   "metadata": {},
   "outputs": [],
   "source": [
    "A_df_org = A_df_org.drop(A_df_org.columns[store_index_electricity_A_col], axis=1)\n",
    "B_df_org = B_df_org.drop(B_df_org.columns[store_index_electricity_B], axis=1)"
   ]
  },
  {
   "cell_type": "markdown",
   "id": "7ee0a975-5a35-4956-992d-14f0a235486b",
   "metadata": {},
   "source": [
    "### Aggregating all electricity flows in each process"
   ]
  },
  {
   "cell_type": "code",
   "execution_count": 17,
   "id": "5916341e-9a21-4cc4-a609-12725ab3271c",
   "metadata": {},
   "outputs": [],
   "source": [
    "electricity_sums = np.sum(np.array(A_df_org.loc[store_index_electricity_A_row].iloc[:, 10:].replace(np.nan, 0), dtype=float), axis=0)"
   ]
  },
  {
   "cell_type": "code",
   "execution_count": 18,
   "id": "06c6b75d-e954-41a8-b7db-b0f27e9307f7",
   "metadata": {},
   "outputs": [],
   "source": [
    "# Reset index and drop the old index\n",
    "A_df_org_tr = A_df_org.T.reset_index(drop=True)"
   ]
  },
  {
   "cell_type": "code",
   "execution_count": 19,
   "id": "dd11fe84-39dd-45df-b184-56ae5cb24047",
   "metadata": {
    "tags": []
   },
   "outputs": [],
   "source": [
    "A_df_org = A_df_org_tr.T"
   ]
  },
  {
   "cell_type": "code",
   "execution_count": 20,
   "id": "51a9998c-7ea2-46f0-b629-ec0673d361a0",
   "metadata": {},
   "outputs": [],
   "source": [
    "# Reset index and drop the old index\n",
    "B_df_org_tr = B_df_org.T.reset_index(drop=True)"
   ]
  },
  {
   "cell_type": "code",
   "execution_count": 21,
   "id": "768ce929-94e0-488e-b457-bef0abc628de",
   "metadata": {
    "tags": []
   },
   "outputs": [],
   "source": [
    "B_df_org = B_df_org_tr.T"
   ]
  },
  {
   "cell_type": "markdown",
   "id": "4bd107b8-cc06-4302-a3f4-830086be39b1",
   "metadata": {},
   "source": [
    "### Removing electricity rows from A"
   ]
  },
  {
   "cell_type": "code",
   "execution_count": 22,
   "id": "f4deb90f-a1a4-487a-b042-644b9dce4e58",
   "metadata": {},
   "outputs": [],
   "source": [
    "A_df_org = A_df_org.drop(A_df_org.columns[store_index_electricity_A_row], axis=0)"
   ]
  },
  {
   "cell_type": "markdown",
   "id": "8d89ff3b-279c-4285-8d90-dc42e11da51a",
   "metadata": {
    "tags": []
   },
   "source": [
    "### Add new electricity rows and columns"
   ]
  },
  {
   "cell_type": "code",
   "execution_count": 23,
   "id": "eefd23f6-22f4-4626-a063-acdbbeaa68a2",
   "metadata": {},
   "outputs": [],
   "source": [
    "new_elec = [\n",
    "        'Electricity',\n",
    "        'Electrcity, natural gas ',\n",
    "        'Electrcity, coal',\n",
    "        'Electrcity, oil',\n",
    "        'Electrcity, nuclear',\n",
    "        'Electrcity, wind',\n",
    "        'Electricity, solar',\n",
    "        'Electricity, hydropower',\n",
    "        'Electrcity, biopower',\n",
    "        'Electrcity, geothermal',\n",
    "        'Electrcity, ocean energy']\n",
    "\n",
    "new_elec_row = [\n",
    "        'Electricity',\n",
    "        'Electrcity, natural gas ',\n",
    "        'Electrcity, coal',\n",
    "        'Electrcity, oil',\n",
    "        'Electrcity, nuclear',\n",
    "        'Electrcity, wind',\n",
    "        'Electricity, solar',\n",
    "        'Electricity, hydropower',\n",
    "        'Electrcity, biopower',\n",
    "        'Electrcity, geothermal',\n",
    "        'Electrcity, ocean energy']"
   ]
  },
  {
   "cell_type": "code",
   "execution_count": 24,
   "id": "d1a135c7-38d6-4205-9740-15264f0c04b2",
   "metadata": {},
   "outputs": [],
   "source": [
    "# Append new rows in A\n",
    "\n",
    "# Convert new_elec to a DataFrame\n",
    "new_elec_df = pd.DataFrame(new_elec_row) \n",
    "\n",
    "# Append new_elec to the first row\n",
    "A_df_org = pd.concat([A_df_org, new_elec_df], ignore_index=True)"
   ]
  },
  {
   "cell_type": "code",
   "execution_count": 25,
   "id": "8106a419-9aee-4ff2-aaca-c0eed99ffa32",
   "metadata": {},
   "outputs": [],
   "source": [
    "# Append new columns in A\n",
    "for elec in new_elec:\n",
    "    A_df_org[elec] = None  # Create a new column with None values\n",
    "\n",
    "# Set the first row of each new column to the corresponding value\n",
    "for idx, elec in enumerate(new_elec):\n",
    "    A_df_org.at[0, elec] = elec  # Set the value in the first row"
   ]
  },
  {
   "cell_type": "code",
   "execution_count": 26,
   "id": "ac0c5f92-456c-4ba1-a9a0-970f960785b6",
   "metadata": {},
   "outputs": [],
   "source": [
    "# Append new columns in B\n",
    "for elec in new_elec:\n",
    "    B_df_org[elec] = None  # Create a new column with None values\n",
    "\n",
    "# Set the first row of each new column to the corresponding value\n",
    "for idx, elec in enumerate(new_elec):\n",
    "    B_df_org.at[0, elec] = elec  # Set the value in the first row"
   ]
  },
  {
   "cell_type": "code",
   "execution_count": 27,
   "id": "dddeead5-8fa0-4ae0-a3a2-44aea1f4931f",
   "metadata": {},
   "outputs": [],
   "source": [
    "# Reset index and drop the old index\n",
    "A_df_org_tr = A_df_org.T.reset_index(drop=True)"
   ]
  },
  {
   "cell_type": "code",
   "execution_count": 28,
   "id": "7ae2486c-1b1f-4c33-8a9f-c9b7cd009f65",
   "metadata": {
    "tags": []
   },
   "outputs": [],
   "source": [
    "A_df_org = A_df_org_tr.T"
   ]
  },
  {
   "cell_type": "code",
   "execution_count": 29,
   "id": "cbc5da79-8fdf-40f5-830d-275de8d36290",
   "metadata": {},
   "outputs": [],
   "source": [
    "# Reset index and drop the old index\n",
    "B_df_org_tr = B_df_org.T.reset_index(drop=True)"
   ]
  },
  {
   "cell_type": "code",
   "execution_count": 30,
   "id": "c2419d8c-bf26-4478-ba22-4507b268d5f6",
   "metadata": {
    "tags": []
   },
   "outputs": [],
   "source": [
    "B_df_org = B_df_org_tr.T"
   ]
  },
  {
   "cell_type": "code",
   "execution_count": 31,
   "id": "899928e4-6d39-437a-a662-cf60e771f937",
   "metadata": {},
   "outputs": [],
   "source": [
    "A_df_org.reset_index(drop=True, inplace=True)"
   ]
  },
  {
   "cell_type": "code",
   "execution_count": 32,
   "id": "8b06b9e9-86c3-4d8b-8264-6bd8eefa360b",
   "metadata": {},
   "outputs": [],
   "source": [
    "A_df_org.to_csv('A_df_org_electricity.csv', index=False)\n",
    "B_df_org.to_csv('B_df_org_electricity.csv', index=False)"
   ]
  },
  {
   "cell_type": "markdown",
   "id": "a1220e38-7b3d-435f-bd42-230f3beebf81",
   "metadata": {
    "tags": []
   },
   "source": [
    "## Heat"
   ]
  },
  {
   "cell_type": "code",
   "execution_count": 33,
   "id": "e25586c1-d12b-46dd-9875-8fb5eb7ea26e",
   "metadata": {},
   "outputs": [],
   "source": [
    "heat_processes = [\n",
    "    '73cd1596-214d-3403-87f1-f69fc3818886', #'Bituminous coal, combusted in industrial boiler',\n",
    "    'e04995fa-935b-316c-b112-5b436c8ea3d6', #'Diesel, combusted in industrial boiler',\n",
    "    'f6e5887d-644b-44ee-bb9d-5c2fd3d07b4a', #'Heat',\n",
    "    '97624ce0-6d6a-3376-bfa7-c663b3c7e48d', #'Heat, onsite boiler, hardwood mill, average, SE',\n",
    "    '833c3f72-fbbe-37ea-adf8-929b47ec0255', #'Heat, onsite boiler, hardwood mill, average, SE',\n",
    "    'eb6394c1-0d19-3be3-99ab-ec572dec9926', #'Lignite coal, combusted in industrial boiler',\n",
    "    'f77da622-e84d-3639-8917-fcf792aaee13', #'Liquefied petroleum gas, combusted in industrial boiler',\n",
    "    'bb1dc159-fe13-3f8e-8197-361e8c770ba3', #'Natural gas, combusted in industrial boiler',\n",
    "    'f179160d-d402-3e37-8d65-93d09f309b99', #'Natural gas, combusted in industrial boiler, at hydrocracker, for ethylene',\n",
    "    'ea080df3-3823-3f40-89ed-1a45b561230e', #'Natural gas, combusted in industrial boiler, at hydrocracker, for pyrolysis gas',\n",
    "    '654a5cf6-185f-3d91-89ef-42442d1825e8', #'Residual fuel oil, combusted in industrial boiler',\n",
    "    '75c3bc19-9aeb-30a9-a43f-c862c7354c85', #Wood fuel, hardwood, generated at lumber mill, combusted in industrial boiler, SE\n",
    "    'ccf86743-6a0f-39d5-949e-6b2950bae209', #Wood fuel, hardwood, purchased, combusted in industrial boiler, SE\n",
    "    'ba4fbc4f-a9ab-387c-8bdd-9308dc19f404', #Wood fuel, unspecified\n",
    "    '1a76ed77-b97d-3070-85b7-b1f41906cece', #Wood waste, unspecified, combusted in industrial boiler\n",
    "]"
   ]
  },
  {
   "cell_type": "code",
   "execution_count": 34,
   "id": "36abe2c8-21a1-4cfd-b39d-d87e59d75379",
   "metadata": {},
   "outputs": [],
   "source": [
    "Mj_per_unit = [23.9, #'Bituminous coal, combusted in industrial boiler',\n",
    "               37.4, #'Diesel, combusted in industrial boiler',\n",
    "               1, #'Heat',\n",
    "               1, #'Heat, onsite boiler, hardwood mill, average, SE',\n",
    "               1, #'Heat, onsite boiler, hardwood mill, average, SE',\n",
    "               23.9, #'Lignite coal, combusted in industrial boiler',\n",
    "               26, #'Liquefied petroleum gas, combusted in industrial boiler',\n",
    "               40, #'Natural gas, combusted in industrial boiler',\n",
    "               40, #'Natural gas, combusted in industrial boiler, at hydrocracker, for ethylene',\n",
    "               40, #'Natural gas, combusted in industrial boiler, at hydrocracker, for pyrolysis gas',\n",
    "               37, #'Residual fuel oil, combusted in industrial boiler',\n",
    "               16, #Wood fuel, hardwood, generated at lumber mill, combusted in industrial boiler, SE\n",
    "               16, #Wood fuel, hardwood, purchased, combusted in industrial boiler, SE\n",
    "               16, #Wood fuel, unspecified\n",
    "               16] #Wood waste, unspecified, combusted in industrial boiler"
   ]
  },
  {
   "cell_type": "code",
   "execution_count": 35,
   "id": "27765062-b622-48b0-8706-bbc19e4bc91f",
   "metadata": {},
   "outputs": [],
   "source": [
    "boiler_efficiency = [1, 1, 1, 1, 1, 1, 1, 1, 1, 1, 1, 1, 1, 1, 1]"
   ]
  },
  {
   "cell_type": "code",
   "execution_count": 36,
   "id": "c0bc6f88-651b-47f0-a19f-6946e8c2b83e",
   "metadata": {},
   "outputs": [],
   "source": [
    "#step 1: identify all heat columns in A and B\n",
    "#finding columns in A with electricity generation\n",
    "store_index_heat_A_col = []\n",
    "stored_index_A = 0\n",
    "for i in range(len(A_df_org.T)):\n",
    "    if str(A_df_org.iloc[3, i]) in heat_processes:\n",
    "        stored_index_A = i\n",
    "        store_index_heat_A_col.append(stored_index_A)"
   ]
  },
  {
   "cell_type": "code",
   "execution_count": 37,
   "id": "7ea696a9-ff53-4e88-809d-3773ad0975e9",
   "metadata": {},
   "outputs": [
    {
     "data": {
      "text/plain": [
       "[26, 36, 51, 52, 53, 69, 71, 91, 92, 93, 120, 131, 132, 133, 134]"
      ]
     },
     "execution_count": 37,
     "metadata": {},
     "output_type": "execute_result"
    }
   ],
   "source": [
    "store_index_heat_A_col"
   ]
  },
  {
   "cell_type": "code",
   "execution_count": 38,
   "id": "69a153a2-6a18-40f2-aeab-7885e9908615",
   "metadata": {},
   "outputs": [],
   "source": [
    "#finding rows in A with electricity generation\n",
    "store_index_heat_A_row = []\n",
    "stored_index_A = 0\n",
    "for i in range(len(A_df_org)):\n",
    "    if str(A_df_org.iloc[i, 3]) in heat_processes:\n",
    "        stored_index_A = i\n",
    "        store_index_heat_A_row.append(stored_index_A)"
   ]
  },
  {
   "cell_type": "code",
   "execution_count": 39,
   "id": "dfa0254a-db6b-4806-9beb-b072bae04a74",
   "metadata": {},
   "outputs": [
    {
     "data": {
      "text/plain": [
       "[25, 34, 43, 44, 45, 58, 60, 76, 77, 78, 99, 109, 110, 111, 112]"
      ]
     },
     "execution_count": 39,
     "metadata": {},
     "output_type": "execute_result"
    }
   ],
   "source": [
    "store_index_heat_A_row"
   ]
  },
  {
   "cell_type": "code",
   "execution_count": 40,
   "id": "8d3ea148-9a8c-4312-8327-1b1e3dc8949b",
   "metadata": {},
   "outputs": [],
   "source": [
    "#finding columns in B with electricity generation\n",
    "#finding columns in B with electricity generation\n",
    "store_index_heat_B = []\n",
    "stored_index_B = 0\n",
    "for i in range(len(B_df_org.T)):\n",
    "    if str(B_df_org.iloc[3, i]) in heat_processes:\n",
    "        stored_index_B = i\n",
    "        store_index_heat_B.append(stored_index_B)"
   ]
  },
  {
   "cell_type": "code",
   "execution_count": 41,
   "id": "e45a3c3d-390d-4a4a-b86f-5941dafab8b0",
   "metadata": {},
   "outputs": [
    {
     "data": {
      "text/plain": [
       "[23, 33, 48, 49, 50, 66, 68, 88, 89, 90, 117, 128, 129, 130, 131]"
      ]
     },
     "execution_count": 41,
     "metadata": {},
     "output_type": "execute_result"
    }
   ],
   "source": [
    "store_index_heat_B"
   ]
  },
  {
   "cell_type": "code",
   "execution_count": 42,
   "id": "c18dc79b-b0fd-4181-b23a-1b1fe2e7adc6",
   "metadata": {},
   "outputs": [],
   "source": [
    "#Step 2: Remove heat columns from A and B\n",
    "A_df_org = A_df_org.drop(A_df_org.columns[store_index_heat_A_col], axis=1)\n",
    "B_df_org = B_df_org.drop(B_df_org.columns[store_index_heat_B], axis=1)"
   ]
  },
  {
   "cell_type": "code",
   "execution_count": 43,
   "id": "5fd942be-450e-4638-91af-b45f485f06fa",
   "metadata": {},
   "outputs": [],
   "source": [
    "A_df_org.to_csv('A_df_org_heat-1.csv', index=False)\n",
    "B_df_org.to_csv('B_df_org_heat-1.csv', index=False)"
   ]
  },
  {
   "cell_type": "code",
   "execution_count": 44,
   "id": "78169ece-c3b8-41c2-a865-ee5125a87f61",
   "metadata": {},
   "outputs": [],
   "source": [
    "X = np.array(Mj_per_unit) * np.array(boiler_efficiency)\n",
    "Y = np.array(A_df_org.loc[store_index_heat_A_row].iloc[:, 10:].replace(np.nan, 0), dtype=float)"
   ]
  },
  {
   "cell_type": "code",
   "execution_count": 45,
   "id": "5aa92d66-5c41-4416-b18a-2c17745fe113",
   "metadata": {},
   "outputs": [],
   "source": [
    "#Step 3: aggregate heat rows from A and B and convert them to absolute heat needed\n",
    "heat_sums = []\n",
    "heat_sums = np.transpose(Y)@X"
   ]
  },
  {
   "cell_type": "code",
   "execution_count": 46,
   "id": "fa9d686a-e685-44a0-9024-93e369d91e62",
   "metadata": {},
   "outputs": [],
   "source": [
    "# Reset index and drop the old index\n",
    "A_df_org_tr = A_df_org.T.reset_index(drop=True)\n",
    "A_df_org = A_df_org_tr.T\n",
    "# Reset index and drop the old index\n",
    "B_df_org_tr = B_df_org.T.reset_index(drop=True)\n",
    "B_df_org = B_df_org_tr.T\n",
    "A_df_org = A_df_org.drop(A_df_org.columns[store_index_heat_A_row], axis=0)\n",
    "# Reset index and drop the old index\n",
    "A_df_org_tr = A_df_org.T.reset_index(drop=True)\n",
    "A_df_org = A_df_org_tr.T\n",
    "# Reset index and drop the old index\n",
    "B_df_org_tr = B_df_org.T.reset_index(drop=True)\n",
    "B_df_org = B_df_org_tr.T\n",
    "A_df_org.reset_index(drop=True, inplace=True)"
   ]
  },
  {
   "cell_type": "code",
   "execution_count": 47,
   "id": "005b82de-ec39-4650-ab3d-9202862d25d2",
   "metadata": {},
   "outputs": [],
   "source": [
    "A_df_org.to_csv('A_df_org_heat-2.csv', index=False)\n",
    "B_df_org.to_csv('B_df_org_heat-2.csv', index=False)"
   ]
  },
  {
   "cell_type": "code",
   "execution_count": 48,
   "id": "d3619a0b-b3b8-4029-98db-645ca099ad5b",
   "metadata": {},
   "outputs": [],
   "source": [
    "update_store_index_heat_A_col = [x-10 for x in store_index_heat_A_col]"
   ]
  },
  {
   "cell_type": "code",
   "execution_count": 49,
   "id": "00751979-a027-4d82-a0da-4c30b4025088",
   "metadata": {},
   "outputs": [
    {
     "data": {
      "text/plain": [
       "[16, 26, 41, 42, 43, 59, 61, 81, 82, 83, 110, 121, 122, 123, 124]"
      ]
     },
     "execution_count": 49,
     "metadata": {},
     "output_type": "execute_result"
    }
   ],
   "source": [
    "update_store_index_heat_A_col"
   ]
  },
  {
   "cell_type": "code",
   "execution_count": 50,
   "id": "8029e6f7-c57b-458e-a11d-c88762d5e8ee",
   "metadata": {},
   "outputs": [],
   "source": [
    "electricity_sums = np.delete(electricity_sums,update_store_index_heat_A_col)"
   ]
  },
  {
   "cell_type": "code",
   "execution_count": 51,
   "id": "39dcc0a7-f559-486c-abd9-f42672518dbc",
   "metadata": {},
   "outputs": [],
   "source": [
    "for i in range(len(heat_sums)-len(electricity_sums)):\n",
    "    electricity_sums = np.append(electricity_sums, 0)"
   ]
  },
  {
   "cell_type": "markdown",
   "id": "435bda6b-75ef-4b9d-9dee-406d6467ac8d",
   "metadata": {
    "tags": []
   },
   "source": [
    "### Add new heat rows and columns"
   ]
  },
  {
   "cell_type": "code",
   "execution_count": 52,
   "id": "89632941-d7a1-436f-810c-3568d0b62e13",
   "metadata": {},
   "outputs": [],
   "source": [
    "new_heat = [\n",
    "        'Heat',\n",
    "        'Heat, oil',\n",
    "        'Heat, coal',\n",
    "        'Heat, natural gas',\n",
    "        'Heat, traditional biomass']\n",
    "\n",
    "new_heat_row = [\n",
    "        'Heat',\n",
    "        'Heat, oil',\n",
    "        'Heat, coal',\n",
    "        'Heat, natural gas',\n",
    "        'Heat, traditional biomass']"
   ]
  },
  {
   "cell_type": "code",
   "execution_count": 53,
   "id": "102a15ba-9d85-4834-addd-6a6f5f939ac7",
   "metadata": {},
   "outputs": [],
   "source": [
    "for i in range(len(new_heat)):\n",
    "    electricity_sums = np.append(electricity_sums, 0)"
   ]
  },
  {
   "cell_type": "code",
   "execution_count": 54,
   "id": "3fe04b44-bfcc-4e15-b03a-4e1e534c2e66",
   "metadata": {},
   "outputs": [],
   "source": [
    "for i in range(len(new_heat)):\n",
    "    heat_sums = np.append(heat_sums, 0)"
   ]
  },
  {
   "cell_type": "code",
   "execution_count": 55,
   "id": "799948ff-d4ad-497b-b13d-639789f2f703",
   "metadata": {},
   "outputs": [],
   "source": [
    "# Append new rows in A\n",
    "\n",
    "# Convert new_elec to a DataFrame\n",
    "new_heat_df = pd.DataFrame(new_heat_row) \n",
    "\n",
    "# Append new_elec to the first row\n",
    "A_df_org = pd.concat([A_df_org, new_heat_df], ignore_index=True)"
   ]
  },
  {
   "cell_type": "code",
   "execution_count": 56,
   "id": "21ac87ac-5a43-4927-9e44-3c860986c508",
   "metadata": {},
   "outputs": [],
   "source": [
    "# Append new columns in A\n",
    "for heat in new_heat:\n",
    "    A_df_org[heat] = None  # Create a new column with None values\n",
    "\n",
    "# Set the first row of each new column to the corresponding value\n",
    "for idx, heat in enumerate(new_heat):\n",
    "    A_df_org.at[0, heat] = heat  # Set the value in the first row"
   ]
  },
  {
   "cell_type": "code",
   "execution_count": 57,
   "id": "8ab8758f-8829-44e4-8427-fa5387be9920",
   "metadata": {},
   "outputs": [],
   "source": [
    "# Append new columns in B\n",
    "for heat in new_heat:\n",
    "    B_df_org[heat] = None  # Create a new column with None values\n",
    "\n",
    "# Set the first row of each new column to the corresponding value\n",
    "for idx, heat in enumerate(new_heat):\n",
    "    B_df_org.at[0, heat] = heat  # Set the value in the first row"
   ]
  },
  {
   "cell_type": "code",
   "execution_count": 58,
   "id": "112ec79a-186b-4a59-839a-a1704c5eca09",
   "metadata": {},
   "outputs": [],
   "source": [
    "# Reset index and drop the old index\n",
    "A_df_org_tr = A_df_org.T.reset_index(drop=True)\n",
    "A_df_org = A_df_org_tr.T\n",
    "# Reset index and drop the old index\n",
    "B_df_org_tr = B_df_org.T.reset_index(drop=True)\n",
    "B_df_org = B_df_org_tr.T\n",
    "A_df_org.reset_index(drop=True, inplace=True)"
   ]
  },
  {
   "cell_type": "code",
   "execution_count": 59,
   "id": "1bf347cd-e9d0-48b7-8009-b82e45112864",
   "metadata": {},
   "outputs": [],
   "source": [
    "A_df_org.to_csv('A_df_org_heat.csv', index=False)\n",
    "B_df_org.to_csv('B_df_org_heat.csv', index=False)"
   ]
  },
  {
   "cell_type": "markdown",
   "id": "d6c3e4ad-2f15-4585-a35e-2761f6e06464",
   "metadata": {},
   "source": [
    "### Add electricity and heat values to A and B"
   ]
  },
  {
   "cell_type": "code",
   "execution_count": 60,
   "id": "428631cc-1e59-44b1-b3f4-07ecc7f4100d",
   "metadata": {},
   "outputs": [],
   "source": [
    "for i in range (len(A_df_org.T)-10):\n",
    "    A_df_org.iloc [A_df_org.index[A_df_org.iloc[:, 0] == 'Electricity'].tolist()[0],i+10] = electricity_sums[i]"
   ]
  },
  {
   "cell_type": "code",
   "execution_count": 61,
   "id": "669cfc39-0672-4802-be83-a8d6f85e1639",
   "metadata": {},
   "outputs": [],
   "source": [
    "for i in range (len(A_df_org.T)-10):\n",
    "    A_df_org.iloc [A_df_org.index[A_df_org.iloc[:, 0] == 'Heat'].tolist()[0],i+10] = heat_sums[i]"
   ]
  },
  {
   "cell_type": "code",
   "execution_count": 62,
   "id": "f8ae5a96-4e7a-4418-955c-42149849c3cd",
   "metadata": {},
   "outputs": [],
   "source": [
    "A_df_org.iloc [A_df_org.index[A_df_org.iloc[:, 0] == 'Electricity'].tolist()[0],\n",
    "  A_df_org.T.index[A_df_org.T.iloc[:, 0] == 'Electricity'].tolist()[0]] = 1\n",
    "\n",
    "A_df_org.iloc [A_df_org.index[A_df_org.iloc[:, 0] == 'Electrcity, natural gas '].tolist()[0],\n",
    "  A_df_org.T.index[A_df_org.T.iloc[:, 0] == 'Electricity'].tolist()[0]] = - 0.23\n",
    "\n",
    "A_df_org.iloc [A_df_org.index[A_df_org.iloc[:, 0] == 'Electrcity, coal'].tolist()[0],\n",
    "  A_df_org.T.index[A_df_org.T.iloc[:, 0] == 'Electricity'].tolist()[0]] = - 0.36\n",
    "\n",
    "A_df_org.iloc [A_df_org.index[A_df_org.iloc[:, 0] == 'Electrcity, oil'].tolist()[0],\n",
    "  A_df_org.T.index[A_df_org.T.iloc[:, 0] == 'Electricity'].tolist()[0]] = - 0.03\n",
    "\n",
    "A_df_org.iloc [A_df_org.index[A_df_org.iloc[:, 0] == 'Electrcity, nuclear'].tolist()[0],\n",
    "  A_df_org.T.index[A_df_org.T.iloc[:, 0] == 'Electricity'].tolist()[0]] = - 0.09\n",
    "\n",
    "A_df_org.iloc [A_df_org.index[A_df_org.iloc[:, 0] == 'Electrcity, wind'].tolist()[0],\n",
    "  A_df_org.T.index[A_df_org.T.iloc[:, 0] == 'Electricity'].tolist()[0]] = - 0.08\n",
    "\n",
    "A_df_org.iloc [A_df_org.index[A_df_org.iloc[:, 0] == 'Electricity, solar'].tolist()[0],\n",
    "  A_df_org.T.index[A_df_org.T.iloc[:, 0] == 'Electricity'].tolist()[0]] = - 0.06\n",
    "\n",
    "A_df_org.iloc [A_df_org.index[A_df_org.iloc[:, 0] == 'Electricity, hydropower'].tolist()[0],\n",
    "  A_df_org.T.index[A_df_org.T.iloc[:, 0] == 'Electricity'].tolist()[0]] = - 0.14\n",
    "\n",
    "A_df_org.iloc [A_df_org.index[A_df_org.iloc[:, 0] == 'Electrcity, biopower'].tolist()[0],\n",
    "  A_df_org.T.index[A_df_org.T.iloc[:, 0] == 'Electricity'].tolist()[0]] = - 0.02\n",
    "\n",
    "A_df_org.iloc [A_df_org.index[A_df_org.iloc[:, 0] == 'Electrcity, geothermal'].tolist()[0],\n",
    "  A_df_org.T.index[A_df_org.T.iloc[:, 0] == 'Electricity'].tolist()[0]] = 0\n",
    "\n",
    "A_df_org.iloc [A_df_org.index[A_df_org.iloc[:, 0] == 'Electrcity, ocean energy'].tolist()[0],\n",
    "  A_df_org.T.index[A_df_org.T.iloc[:, 0] == 'Electricity'].tolist()[0]] = 0\n",
    "\n",
    "#rest of the matrix\n",
    "A_df_org.iloc [A_df_org.index[A_df_org.iloc[:, 0] == 'Electrcity, natural gas '].tolist()[0],\n",
    "  A_df_org.T.index[A_df_org.T.iloc[:, 0] == 'Electrcity, natural gas '].tolist()[0]] = 1\n",
    "\n",
    "A_df_org.iloc [A_df_org.index[A_df_org.iloc[:, 0] == 'Electrcity, coal'].tolist()[0],\n",
    "  A_df_org.T.index[A_df_org.T.iloc[:, 0] == 'Electrcity, coal'].tolist()[0]] = 1\n",
    "\n",
    "A_df_org.iloc [A_df_org.index[A_df_org.iloc[:, 0] == 'Electrcity, oil'].tolist()[0],\n",
    "  A_df_org.T.index[A_df_org.T.iloc[:, 0] == 'Electrcity, oil'].tolist()[0]] = 1\n",
    "\n",
    "A_df_org.iloc [A_df_org.index[A_df_org.iloc[:, 0] == 'Electrcity, nuclear'].tolist()[0],\n",
    "  A_df_org.T.index[A_df_org.T.iloc[:, 0] == 'Electrcity, nuclear'].tolist()[0]] = 1\n",
    "\n",
    "A_df_org.iloc [A_df_org.index[A_df_org.iloc[:, 0] == 'Electrcity, wind'].tolist()[0],\n",
    "  A_df_org.T.index[A_df_org.T.iloc[:, 0] == 'Electrcity, wind'].tolist()[0]] = 1\n",
    "\n",
    "A_df_org.iloc [A_df_org.index[A_df_org.iloc[:, 0] == 'Electricity, solar'].tolist()[0],\n",
    "  A_df_org.T.index[A_df_org.T.iloc[:, 0] == 'Electricity, solar'].tolist()[0]] = 1\n",
    "\n",
    "A_df_org.iloc [A_df_org.index[A_df_org.iloc[:, 0] == 'Electricity, hydropower'].tolist()[0],\n",
    "  A_df_org.T.index[A_df_org.T.iloc[:, 0] == 'Electricity, hydropower'].tolist()[0]] = 1\n",
    "\n",
    "A_df_org.iloc [A_df_org.index[A_df_org.iloc[:, 0] == 'Electrcity, biopower'].tolist()[0],\n",
    "  A_df_org.T.index[A_df_org.T.iloc[:, 0] == 'Electrcity, biopower'].tolist()[0]] = 1\n",
    "\n",
    "A_df_org.iloc [A_df_org.index[A_df_org.iloc[:, 0] == 'Electrcity, geothermal'].tolist()[0],\n",
    "  A_df_org.T.index[A_df_org.T.iloc[:, 0] == 'Electrcity, geothermal'].tolist()[0]] = 1\n",
    "\n",
    "A_df_org.iloc [A_df_org.index[A_df_org.iloc[:, 0] == 'Electrcity, ocean energy'].tolist()[0],\n",
    "  A_df_org.T.index[A_df_org.T.iloc[:, 0] == 'Electrcity, ocean energy'].tolist()[0]] = 1"
   ]
  },
  {
   "cell_type": "code",
   "execution_count": 63,
   "id": "62c3fa21-e6b0-490e-a945-739aca3a3260",
   "metadata": {},
   "outputs": [],
   "source": [
    "A_df_org.iloc [A_df_org.index[A_df_org.iloc[:, 0] == 'Heat'].tolist()[0],\n",
    "  A_df_org.T.index[A_df_org.T.iloc[:, 0] == 'Heat'].tolist()[0]] = 1\n",
    "\n",
    "A_df_org.iloc [A_df_org.index[A_df_org.iloc[:, 0] == 'Heat, oil'].tolist()[0],\n",
    "  A_df_org.T.index[A_df_org.T.iloc[:, 0] == 'Heat'].tolist()[0]] = - 0.34\n",
    "\n",
    "A_df_org.iloc [A_df_org.index[A_df_org.iloc[:, 0] == 'Heat, coal'].tolist()[0],\n",
    "  A_df_org.T.index[A_df_org.T.iloc[:, 0] == 'Heat'].tolist()[0]] = - 0.28\n",
    "\n",
    "A_df_org.iloc [A_df_org.index[A_df_org.iloc[:, 0] == 'Heat, natural gas'].tolist()[0],\n",
    "  A_df_org.T.index[A_df_org.T.iloc[:, 0] == 'Heat'].tolist()[0]] = - 0.25\n",
    "\n",
    "A_df_org.iloc [A_df_org.index[A_df_org.iloc[:, 0] == 'Heat, traditional biomass'].tolist()[0],\n",
    "  A_df_org.T.index[A_df_org.T.iloc[:, 0] == 'Heat'].tolist()[0]] = - 0.13\n",
    "\n",
    "#rest of the matrix\n",
    "A_df_org.iloc [A_df_org.index[A_df_org.iloc[:, 0] == 'Heat, oil'].tolist()[0],\n",
    "  A_df_org.T.index[A_df_org.T.iloc[:, 0] == 'Heat, oil'].tolist()[0]] = 1\n",
    "\n",
    "A_df_org.iloc [A_df_org.index[A_df_org.iloc[:, 0] == 'Heat, coal'].tolist()[0],\n",
    "  A_df_org.T.index[A_df_org.T.iloc[:, 0] == 'Heat, coal'].tolist()[0]] = 1\n",
    "\n",
    "A_df_org.iloc [A_df_org.index[A_df_org.iloc[:, 0] == 'Heat, natural gas'].tolist()[0],\n",
    "  A_df_org.T.index[A_df_org.T.iloc[:, 0] == 'Heat, natural gas'].tolist()[0]] = 1\n",
    "\n",
    "A_df_org.iloc [A_df_org.index[A_df_org.iloc[:, 0] == 'Heat, traditional biomass'].tolist()[0],\n",
    "  A_df_org.T.index[A_df_org.T.iloc[:, 0] == 'Heat, traditional biomass'].tolist()[0]] = 1"
   ]
  },
  {
   "cell_type": "code",
   "execution_count": 64,
   "id": "d164806b-3856-47e9-8969-be6880136209",
   "metadata": {},
   "outputs": [],
   "source": [
    "B_df_org.iloc [B_df_org.index[B_df_org.iloc[:, 0] == 'b6f010fb-a764-3063-af2d-bcb8309a97b7'].tolist()[0],\n",
    "  B_df_org.T.index[B_df_org.iloc[0, :] == 'Electrcity, natural gas '].tolist()[0]] = 0.460/3.6\n",
    "\n",
    "B_df_org.iloc [B_df_org.index[B_df_org.iloc[:, 0] == 'b6f010fb-a764-3063-af2d-bcb8309a97b7'].tolist()[0],\n",
    "  B_df_org.T.index[B_df_org.iloc[0, :] == 'Electrcity, coal'].tolist()[0]] = 1/3.6\n",
    "\n",
    "B_df_org.iloc [B_df_org.index[B_df_org.iloc[:, 0] == 'b6f010fb-a764-3063-af2d-bcb8309a97b7'].tolist()[0],\n",
    "  B_df_org.T.index[B_df_org.iloc[0, :] == 'Electrcity, oil'].tolist()[0]] = 0.841/3.6\n",
    "\n",
    "B_df_org.iloc [B_df_org.index[B_df_org.iloc[:, 0] == 'b6f010fb-a764-3063-af2d-bcb8309a97b7'].tolist()[0],\n",
    "  B_df_org.T.index[B_df_org.iloc[0, :] == 'Electrcity, nuclear'].tolist()[0]] = 0.016/3.6\n",
    "\n",
    "B_df_org.iloc [B_df_org.index[B_df_org.iloc[:, 0] == 'b6f010fb-a764-3063-af2d-bcb8309a97b7'].tolist()[0],\n",
    "  B_df_org.T.index[B_df_org.iloc[0, :] == 'Electrcity, wind'].tolist()[0]] = 0.011/3.6\n",
    "\n",
    "B_df_org.iloc [B_df_org.index[B_df_org.iloc[:, 0] == 'b6f010fb-a764-3063-af2d-bcb8309a97b7'].tolist()[0],\n",
    "  B_df_org.T.index[B_df_org.iloc[0, :] == 'Electricity, solar'].tolist()[0]] = 0.045/3.6\n",
    "\n",
    "B_df_org.iloc [B_df_org.index[B_df_org.iloc[:, 0] == 'b6f010fb-a764-3063-af2d-bcb8309a97b7'].tolist()[0],\n",
    "  B_df_org.T.index[B_df_org.iloc[0, :] == 'Electricity, hydropower'].tolist()[0]] = 0.0065/3.6\n",
    "\n",
    "B_df_org.iloc [B_df_org.index[B_df_org.iloc[:, 0] == 'b6f010fb-a764-3063-af2d-bcb8309a97b7'].tolist()[0],\n",
    "  B_df_org.T.index[B_df_org.iloc[0, :] == 'Electrcity, biopower'].tolist()[0]] = 0.039/3.6\n",
    "\n",
    "B_df_org.iloc [B_df_org.index[B_df_org.iloc[:, 0] == 'b6f010fb-a764-3063-af2d-bcb8309a97b7'].tolist()[0],\n",
    "  B_df_org.T.index[B_df_org.iloc[0, :] == 'Electrcity, geothermal'].tolist()[0]] = 0.045/3.6\n",
    "\n",
    "B_df_org.iloc [B_df_org.index[B_df_org.iloc[:, 0] == 'b6f010fb-a764-3063-af2d-bcb8309a97b7'].tolist()[0],\n",
    "  B_df_org.T.index[B_df_org.iloc[0, :] == 'Electrcity, ocean energy'].tolist()[0]] = 0.008/3.6"
   ]
  },
  {
   "cell_type": "code",
   "execution_count": 65,
   "id": "1d1f0138-a393-4f57-bc19-557063f14b63",
   "metadata": {},
   "outputs": [],
   "source": [
    "B_df_org.iloc [B_df_org.index[B_df_org.iloc[:, 0] == 'b6f010fb-a764-3063-af2d-bcb8309a97b7'].tolist()[0],\n",
    "  B_df_org.T.index[B_df_org.iloc[0, :] == 'Heat, oil'].tolist()[0]] = 0.072\n",
    "\n",
    "B_df_org.iloc [B_df_org.index[B_df_org.iloc[:, 0] == 'b6f010fb-a764-3063-af2d-bcb8309a97b7'].tolist()[0],\n",
    "  B_df_org.T.index[B_df_org.iloc[0, :] == 'Heat, coal'].tolist()[0]] = 0.101\n",
    "\n",
    "B_df_org.iloc [B_df_org.index[B_df_org.iloc[:, 0] == 'b6f010fb-a764-3063-af2d-bcb8309a97b7'].tolist()[0],\n",
    "  B_df_org.T.index[B_df_org.iloc[0, :] == 'Heat, natural gas'].tolist()[0]] = 0.056\n",
    "\n",
    "B_df_org.iloc [B_df_org.index[B_df_org.iloc[:, 0] == 'b6f010fb-a764-3063-af2d-bcb8309a97b7'].tolist()[0],\n",
    "  B_df_org.T.index[B_df_org.iloc[0, :] == 'Heat, traditional biomass'].tolist()[0]] = 0.025"
   ]
  },
  {
   "cell_type": "code",
   "execution_count": 66,
   "id": "bb635a7a-c9a6-4d1e-910b-ec3589408ea9",
   "metadata": {},
   "outputs": [],
   "source": [
    "A_df_org.to_csv('A_df_org_heat-5.csv', index=False)\n",
    "B_df_org.to_csv('B_df_org_heat-5.csv', index=False)"
   ]
  },
  {
   "cell_type": "markdown",
   "id": "2a22627d-ea9a-4a1b-9c01-f5538cb41d91",
   "metadata": {},
   "source": [
    "## Generation of A, B, and C"
   ]
  },
  {
   "cell_type": "code",
   "execution_count": 67,
   "id": "3beb2e23-ea33-465a-8bf1-55d0b1f393f0",
   "metadata": {},
   "outputs": [],
   "source": [
    "A_df = copy.copy(A_df_org)\n",
    "B_df = copy.copy(B_df_org)"
   ]
  },
  {
   "cell_type": "code",
   "execution_count": 68,
   "id": "de2be654-2721-4cae-b92e-9c2dfb97b37f",
   "metadata": {},
   "outputs": [],
   "source": [
    "#Building A matrix\n",
    "# Step 1: Delete the first 10 columns\n",
    "A_df = A_df.drop(A_df.columns[:10], axis=1)\n",
    "\n",
    "# Step 2: Delete the first 10 rows \n",
    "A_df = A_df.iloc[10:]\n",
    "\n",
    "#Replacing empty values with zero and getting the final A matrix\n",
    "A=A_df\n",
    "A=A.replace(np.nan, 0)\n",
    "A=np.array(A,dtype='float64')"
   ]
  },
  {
   "cell_type": "code",
   "execution_count": 69,
   "id": "65d84d6b-2744-48d2-9dfe-7a7136ed9810",
   "metadata": {},
   "outputs": [],
   "source": [
    "# Building B matrix\n",
    "# Step 1: Delete the first 7 columns\n",
    "B_df = B_df.drop(B_df.columns[:7], axis=1)\n",
    "\n",
    "# Step 2: Delete the first 10 rows (first row is heading, so put 3)\n",
    "B_df = B_df.iloc[10:]\n",
    "\n",
    "# Replacing empty values with zero\n",
    "B_df = B_df.replace(np.nan, 0)\n",
    "\n",
    "# Converting all elements to float, handling empty strings and stripping whitespace\n",
    "def convert_to_float(x):\n",
    "    if isinstance(x, str):\n",
    "        x = x.strip()  # Remove any leading/trailing whitespace\n",
    "        if x == '':  # Handle empty strings\n",
    "            return 0.0\n",
    "        try:\n",
    "            return float(x)\n",
    "        except ValueError:\n",
    "            return 0.0  # Or raise an error if you want to catch non-numeric strings\n",
    "    return x\n",
    "\n",
    "B_df = B_df.applymap(convert_to_float)\n",
    "\n",
    "# Converting to a NumPy array\n",
    "B = np.array(B_df, dtype=float)"
   ]
  },
  {
   "cell_type": "code",
   "execution_count": 70,
   "id": "5c0e7799-7aa0-4010-b472-1ad812416e91",
   "metadata": {},
   "outputs": [],
   "source": [
    "#Building C matrix\n",
    "# Step 1: Delete the first 7 columns\n",
    "C_df = C_df.drop(C_df.columns[:7], axis=1)\n",
    "\n",
    "# Step 2: Delete the first 5 rows (first row is heading, so put 3)\n",
    "C_df = C_df.iloc[5:]\n",
    "\n",
    "#Replacing empty values with zero and getting the final B matrix\n",
    "C=C_df\n",
    "C=C.replace(np.nan, 0)\n",
    "C=np.array(C,dtype='float64')"
   ]
  },
  {
   "cell_type": "code",
   "execution_count": 71,
   "id": "981b7d23-cc99-4bd8-80e0-112778bea15c",
   "metadata": {},
   "outputs": [],
   "source": [
    "#Functional Unit\n",
    "# F = 168.450 million metric tons = 168,450,000 metric tons = 168,450,000,000 kg\n",
    "F=168450000000\n",
    "F=int(F)\n",
    "#defining f matrix\n",
    "f=np.zeros(len(A))\n",
    "f[0]=F"
   ]
  },
  {
   "cell_type": "code",
   "execution_count": 74,
   "id": "68e285b7-9280-4455-9908-e29eb6cf4d36",
   "metadata": {},
   "outputs": [],
   "source": [
    "C_gwp_wo_seq= np.transpose(C)[[0]]\n",
    "coef_GWP_wo_seq = C_gwp_wo_seq@B\n",
    "coef_GWP_wo_seq = np.array(coef_GWP_wo_seq)\n",
    "coef_GWP_wo_seq = coef_GWP_wo_seq.reshape(-1)"
   ]
  },
  {
   "cell_type": "code",
   "execution_count": 96,
   "id": "b27f3756-f294-475a-8f35-3f85df271f08",
   "metadata": {},
   "outputs": [
    {
     "data": {
      "text/plain": [
       "{'Problem': [{'Name': 'x128', 'Lower bound': 250781611354.24124, 'Upper bound': 250781611354.24124, 'Number of objectives': 1, 'Number of constraints': 239, 'Number of variables': 128, 'Number of binary variables': 0, 'Number of integer variables': 0, 'Number of continuous variables': 128, 'Number of nonzeros': 669, 'Sense': 'minimize'}], 'Solver': [{'Status': 'ok', 'Return code': '0', 'Message': 'Model was solved to optimality (subject to tolerances), and an optimal solution is available.', 'Termination condition': 'optimal', 'Termination message': 'Model was solved to optimality (subject to tolerances), and an optimal solution is available.', 'Wall time': '0.0008249282836914062', 'Error rc': 0, 'Time': 0.21617484092712402}], 'Solution': [OrderedDict([('number of solutions', 0), ('number of solutions displayed', 0)])]}"
      ]
     },
     "execution_count": 96,
     "metadata": {},
     "output_type": "execute_result"
    }
   ],
   "source": [
    "#Model Formulation\n",
    "# Create the model\n",
    "model = ConcreteModel()\n",
    "# List of processes with negative scaling factor due to open loop recovery and substitution approach\n",
    "negative_s_indices = []\n",
    "positive_s_indices = []\n",
    "all_s_indices = []\n",
    "\n",
    "search_elements_zero = ['High-tech MRF',\n",
    "                        #'Med-tech MRF',\n",
    "                        #'Low-tech MRF',\n",
    "                        'bio-ethylene production (monomer)',\n",
    "                        'bio-propylene production (monomer)',\n",
    "                        'bio-EG production (monomer)',\n",
    "                        'bio-styrene production (monomer)',\n",
    "                        'bio-vinyl chloride production (monomer)',]\n",
    "\n",
    "search_elements_zero_or_negative = []\n",
    "\n",
    "search_elements_zero_or_negative_or_positive = []\n",
    "\n",
    "#Search for elements in the first row of the DataFrame\n",
    "negative_s_indices = [A_df_org.iloc[0,:].tolist().index(elem) for elem in search_elements_zero_or_negative]\n",
    "negative_s_indices = [i-9 for i in negative_s_indices]\n",
    "zero_s_indices = [A_df_org.iloc[0,:].tolist().index(elem) for elem in search_elements_zero]\n",
    "zero_s_indices = [i-9 for i in zero_s_indices]\n",
    "all_s_indices = list(range(1, len(np.transpose(A))+1))\n",
    "positive_s_indices = all_s_indices\n",
    "\n",
    "\n",
    "# Define the decision variable\n",
    "model.set_s = RangeSet(len(np.transpose(A)))\n",
    "model.s = Var(model.set_s)\n",
    "model.set_negative_scale = Set(initialize=negative_s_indices)\n",
    "model.set_positive_scale = Set(initialize=positive_s_indices)\n",
    "model.set_zero_scale = Set(initialize=zero_s_indices)\n",
    "\n",
    "\n",
    "e = 0\n",
    "#model constraint: As = f and s>=0\n",
    "model.set_balance = RangeSet(len(f))\n",
    "def balance(model, p): # As = f\n",
    "    return sum(A[p-1,i-1]*model.s[i] for i in model.set_s) == f[p-1]\n",
    "def negative_scale(model, i):\n",
    "    return (model.s[i]<=0)\n",
    "def positive_scale(model, i):\n",
    "    return (model.s[i]>=e)\n",
    "def zero_scale(model, i):\n",
    "    return (model.s[i]==e)\n",
    "\n",
    "model.balance_constraints = Constraint(model.set_balance, rule=balance)\n",
    "#model.negative_scale_constraints = Constraint(model.set_negative_scale, rule=negative_scale)\n",
    "model.positive_scale_constraints = Constraint(model.set_positive_scale, rule=positive_scale)\n",
    "model.zero_scale_constraints = Constraint(model.set_zero_scale, rule=zero_scale)\n",
    "\n",
    "\n",
    "model.obj = Objective(expr = sum(coef_GWP_wo_seq[i-1]*model.s[i] for i in model.set_s), sense=minimize)\n",
    "#Solver\n",
    "solver = SolverFactory('gurobi')\n",
    "solver.solve(model) # solves and updates instance"
   ]
  },
  {
   "cell_type": "code",
   "execution_count": 97,
   "id": "4ff71e16-ab92-40c5-bce2-66b988e7a643",
   "metadata": {},
   "outputs": [],
   "source": [
    "#total CO2 emission (kg CO2eq)\n",
    "GWP_best_wo_seq = value(model.obj)"
   ]
  },
  {
   "cell_type": "code",
   "execution_count": 98,
   "id": "31f6a297-5026-4cfa-8bf3-2e91b761804c",
   "metadata": {},
   "outputs": [
    {
     "data": {
      "text/plain": [
       "250781611354.2413"
      ]
     },
     "execution_count": 98,
     "metadata": {},
     "output_type": "execute_result"
    }
   ],
   "source": [
    "GWP_best_wo_seq"
   ]
  },
  {
   "cell_type": "code",
   "execution_count": 99,
   "id": "25736806-976c-40ab-9d25-7c320ba46445",
   "metadata": {},
   "outputs": [],
   "source": [
    "#kg CO2 eq per kg of packaging product\n",
    "GWP_best_wo_seq_per_kg = value(model.obj)/168450000000 "
   ]
  },
  {
   "cell_type": "code",
   "execution_count": 100,
   "id": "46089797-60fe-44f1-86a5-90863b1e845e",
   "metadata": {},
   "outputs": [
    {
     "data": {
      "text/plain": [
       "1.48875993680167"
      ]
     },
     "execution_count": 100,
     "metadata": {},
     "output_type": "execute_result"
    }
   ],
   "source": [
    "GWP_best_wo_seq_per_kg"
   ]
  },
  {
   "cell_type": "code",
   "execution_count": 101,
   "id": "8e66c510-b344-4f49-b6d8-37d0c985dbab",
   "metadata": {},
   "outputs": [],
   "source": [
    "scaling_factors_wo_seq = []\n",
    "for j in model.s:\n",
    "    scaling_factors_wo_seq.append(model.s[j].value)  "
   ]
  },
  {
   "cell_type": "code",
   "execution_count": 102,
   "id": "98589029-c5d5-49d7-b29a-6c97f03601eb",
   "metadata": {},
   "outputs": [
    {
     "data": {
      "text/plain": [
       "[41933851140.15352, 0.0, 0.0]"
      ]
     },
     "execution_count": 102,
     "metadata": {},
     "output_type": "execute_result"
    }
   ],
   "source": [
    "#1. monomer production\n",
    "#ethylene\n",
    "ethylene_s_indices = []\n",
    "scaling_factors_ethylene = []\n",
    "search_elements_ethylene = [\n",
    "    'fossil-ethylene production (monomer)',\n",
    "    'pyrolysis (monomer production), HDPE sorted',\n",
    "    'pyrolysis (monomer production), LDPE sorted'\n",
    "]\n",
    "ethylene_s_indices = [A_df_org.iloc[0,:].tolist().index(elem) for elem in search_elements_ethylene]\n",
    "ethylene_s_indices = [i-9 for i in ethylene_s_indices]\n",
    "for j in ethylene_s_indices:\n",
    "    scaling_factors_ethylene.append(model.s[j].value)\n",
    "scaling_factors_ethylene"
   ]
  },
  {
   "cell_type": "code",
   "execution_count": 103,
   "id": "0ff46b4d-568b-4c8d-9c9c-d76c69a77839",
   "metadata": {},
   "outputs": [
    {
     "data": {
      "text/plain": [
       "[17897772039.904514, 0.0]"
      ]
     },
     "execution_count": 103,
     "metadata": {},
     "output_type": "execute_result"
    }
   ],
   "source": [
    "#propylene\n",
    "propylene_s_indices = []\n",
    "scaling_factors_propylene = []\n",
    "search_elements_propylene = [\n",
    "    'fossil-propylene production (monomer)',\n",
    "    'pyrolysis (monomer production), PP sorted',\n",
    "]\n",
    "propylene_s_indices = [A_df_org.iloc[0,:].tolist().index(elem) for elem in search_elements_propylene]\n",
    "propylene_s_indices = [i-9 for i in propylene_s_indices]\n",
    "for j in propylene_s_indices:\n",
    "    scaling_factors_propylene.append(model.s[j].value)\n",
    "scaling_factors_propylene   "
   ]
  },
  {
   "cell_type": "code",
   "execution_count": 104,
   "id": "b2c2b808-7a45-4466-aea8-0a7686c0997f",
   "metadata": {},
   "outputs": [
    {
     "data": {
      "text/plain": [
       "[8003191666.057436, 0.0, 0.0]"
      ]
     },
     "execution_count": 104,
     "metadata": {},
     "output_type": "execute_result"
    }
   ],
   "source": [
    "#MEG\n",
    "MEG_s_indices = []\n",
    "scaling_factors_MEG = []\n",
    "search_elements_MEG = [\n",
    "    'fossil-EG production (monomer)',\n",
    "    'depolymerization, enzymatic hyrdrolysis, PET sorted',\n",
    "    'depolymerization, glycolysis, PET sorted'\n",
    "]\n",
    "MEG_s_indices = [A_df_org.iloc[0,:].tolist().index(elem) for elem in search_elements_MEG]\n",
    "MEG_s_indices = [i-9 for i in MEG_s_indices]\n",
    "for j in MEG_s_indices:\n",
    "    scaling_factors_MEG.append(model.s[j].value)\n",
    "scaling_factors_MEG   "
   ]
  },
  {
   "cell_type": "code",
   "execution_count": 105,
   "id": "57ec662a-89e9-4ab4-8b51-d9e03f4a1088",
   "metadata": {},
   "outputs": [
    {
     "data": {
      "text/plain": [
       "[4950906029.9179535, 0.0]"
      ]
     },
     "execution_count": 105,
     "metadata": {},
     "output_type": "execute_result"
    }
   ],
   "source": [
    "#styrene\n",
    "styrene_s_indices = []\n",
    "scaling_factors_styrene = []\n",
    "search_elements_styrene = [\n",
    "    'fossil-styrene production (monomer)',\n",
    "    'chemical recycling with metal oxide, PS sorted',\n",
    "]\n",
    "styrene_s_indices = [A_df_org.iloc[0,:].tolist().index(elem) for elem in search_elements_styrene]\n",
    "styrene_s_indices = [i-9 for i in styrene_s_indices]\n",
    "for j in styrene_s_indices:\n",
    "    scaling_factors_styrene.append(model.s[j].value)\n",
    "scaling_factors_styrene "
   ]
  },
  {
   "cell_type": "code",
   "execution_count": 106,
   "id": "ad786f65-1c20-4169-9155-6cb59029883a",
   "metadata": {},
   "outputs": [
    {
     "data": {
      "text/plain": [
       "[2047222703.169283]"
      ]
     },
     "execution_count": 106,
     "metadata": {},
     "output_type": "execute_result"
    }
   ],
   "source": [
    "#vinyl chloride\n",
    "vinyl_chloride_s_indices = []\n",
    "scaling_factors_vinyl_chloride = []\n",
    "search_elements_vinyl_chloride = [\n",
    "    'fossil-vinyl chloride production (monomer)',\n",
    "]\n",
    "vinyl_chloride_s_indices = [A_df_org.iloc[0,:].tolist().index(elem) for elem in search_elements_vinyl_chloride]\n",
    "vinyl_chloride_s_indices = [i-9 for i in vinyl_chloride_s_indices]\n",
    "for j in vinyl_chloride_s_indices:\n",
    "    scaling_factors_vinyl_chloride.append(model.s[j].value)\n",
    "scaling_factors_vinyl_chloride  "
   ]
  },
  {
   "cell_type": "code",
   "execution_count": 107,
   "id": "9254c427-a833-45bf-b846-c7288c89bdee",
   "metadata": {},
   "outputs": [
    {
     "data": {
      "text/plain": [
       "[0.0, 0.0, 20425908923.105957, 15613837013.467352]"
      ]
     },
     "execution_count": 107,
     "metadata": {},
     "output_type": "execute_result"
    }
   ],
   "source": [
    "# 2. polymers\n",
    "#polyethylene\n",
    "scaling_factors_polyethylene = []\n",
    "polyethylene_s_indices = []\n",
    "search_elements_polyethylene = [\n",
    "    'advanced recycling, STRAP, multi-layer plastic packaging',\n",
    "    'advanced recycling, delamination, multi-layer plastic packaging',\n",
    "    'LDPE production',\n",
    "    'mechanical recycling, LDPE sorted'\n",
    "]\n",
    "polyethylene_s_indices = [A_df_org.iloc[0,:].tolist().index(elem) for elem in search_elements_polyethylene]\n",
    "polyethylene_s_indices = [i-9 for i in polyethylene_s_indices]\n",
    "for j in polyethylene_s_indices:\n",
    "    scaling_factors_polyethylene.append(model.s[j].value)\n",
    "scaling_factors_polyethylene"
   ]
  },
  {
   "cell_type": "code",
   "execution_count": 108,
   "id": "6d141c65-8304-44f7-9645-8e3800c1a89e",
   "metadata": {},
   "outputs": [
    {
     "data": {
      "text/plain": [
       "[0.0, 0.0, 21817563062.337997, 16435449829.503]"
      ]
     },
     "execution_count": 108,
     "metadata": {},
     "output_type": "execute_result"
    }
   ],
   "source": [
    "#polyethylene\n",
    "scaling_factors_polyethylene = []\n",
    "polyethylene_s_indices = []\n",
    "search_elements_polyethylene = [\n",
    "    'advanced recycling, delamination, multi-layer plastic packaging',\n",
    "    'advanced recycling, STRAP, multi-layer plastic packaging',\n",
    "    'HDPE production',\n",
    "    'mechanical recycling, HDPE sorted'\n",
    "]\n",
    "polyethylene_s_indices = [A_df_org.iloc[0,:].tolist().index(elem) for elem in search_elements_polyethylene]\n",
    "polyethylene_s_indices = [i-9 for i in polyethylene_s_indices]\n",
    "for j in polyethylene_s_indices:\n",
    "    scaling_factors_polyethylene.append(model.s[j].value)\n",
    "scaling_factors_polyethylene"
   ]
  },
  {
   "cell_type": "code",
   "execution_count": 109,
   "id": "bf6f1de6-89f0-4b34-ad12-fc4352956141",
   "metadata": {},
   "outputs": [
    {
     "data": {
      "text/plain": [
       "[0.0, 0.0, 29672055324.770195, 22352339516.157]"
      ]
     },
     "execution_count": 109,
     "metadata": {},
     "output_type": "execute_result"
    }
   ],
   "source": [
    "#polypropylene\n",
    "scaling_factors_polypropylene = []\n",
    "polypropylene_s_indices = []\n",
    "search_elements_polypropylene = [\n",
    "    'advanced recycling, delamination, multi-layer plastic packaging',\n",
    "    'advanced recycling, STRAP, multi-layer plastic packaging',\n",
    "    'PP production',\n",
    "    'mechanical recycling, PP sorted'\n",
    "]\n",
    "polypropylene_s_indices = [A_df_org.iloc[0,:].tolist().index(elem) for elem in search_elements_polypropylene]\n",
    "polypropylene_s_indices = [i-9 for i in polypropylene_s_indices]\n",
    "for j in polypropylene_s_indices:\n",
    "    scaling_factors_polypropylene.append(model.s[j].value)\n",
    "scaling_factors_polypropylene"
   ]
  },
  {
   "cell_type": "code",
   "execution_count": 110,
   "id": "5d25222d-1bb2-4bf5-883d-c19304631c4f",
   "metadata": {},
   "outputs": [
    {
     "data": {
      "text/plain": [
       "[0.0, 0.0, 23184216877.33904, 17001591710.417252]"
      ]
     },
     "execution_count": 110,
     "metadata": {},
     "output_type": "execute_result"
    }
   ],
   "source": [
    "#polyethylene terephthalate\n",
    "scaling_factors_PET = []\n",
    "PET_s_indices = []\n",
    "search_elements_PET = [\n",
    "    'advanced recycling, delamination, multi-layer plastic packaging',\n",
    "    'advanced recycling, STRAP, multi-layer plastic packaging',\n",
    "    'PET production',\n",
    "    'mechanical recycling, PET sorted'\n",
    "]\n",
    "PET_s_indices = [A_df_org.iloc[0,:].tolist().index(elem) for elem in search_elements_PET]\n",
    "PET_s_indices = [i-9 for i in PET_s_indices]\n",
    "for j in PET_s_indices:\n",
    "    scaling_factors_PET.append(model.s[j].value)\n",
    "scaling_factors_PET"
   ]
  },
  {
   "cell_type": "code",
   "execution_count": 111,
   "id": "4e9261f5-61c2-4471-a53f-b4acf66dcb8f",
   "metadata": {},
   "outputs": [
    {
     "data": {
      "text/plain": [
       "[0.0, 0.0, 5021202870.099344, 3913062690.073875]"
      ]
     },
     "execution_count": 111,
     "metadata": {},
     "output_type": "execute_result"
    }
   ],
   "source": [
    "#polystyrene terephthalate\n",
    "scaling_factors_PS = []\n",
    "PS_s_indices = []\n",
    "search_elements_PS = [\n",
    "    'advanced recycling, delamination, multi-layer plastic packaging',\n",
    "    'advanced recycling, STRAP, multi-layer plastic packaging',\n",
    "    'PS production',\n",
    "    'mechanical recycling, PS sorted'\n",
    "]\n",
    "PS_s_indices = [A_df_org.iloc[0,:].tolist().index(elem) for elem in search_elements_PS]\n",
    "PS_s_indices = [i-9 for i in PS_s_indices]\n",
    "for j in PS_s_indices:\n",
    "    scaling_factors_PS.append(model.s[j].value)\n",
    "scaling_factors_PS"
   ]
  },
  {
   "cell_type": "code",
   "execution_count": 112,
   "id": "a89a43fe-40c9-483d-8f89-ab9afec90903",
   "metadata": {},
   "outputs": [
    {
     "data": {
      "text/plain": [
       "[0.0, 0.0, 2053382851.7244563, 1461078.174929727]"
      ]
     },
     "execution_count": 112,
     "metadata": {},
     "output_type": "execute_result"
    }
   ],
   "source": [
    "#polyvinyl chloride\n",
    "scaling_factors_PVC = []\n",
    "PVC_s_indices = []\n",
    "search_elements_PVC = [\n",
    "    'advanced recycling, delamination, multi-layer plastic packaging',\n",
    "    'advanced recycling, STRAP, multi-layer plastic packaging',\n",
    "    'PVC production',\n",
    "    'mechanical recycling, PVC sorted'\n",
    "]\n",
    "PVC_s_indices = [A_df_org.iloc[0,:].tolist().index(elem) for elem in search_elements_PVC]\n",
    "PVC_s_indices = [i-9 for i in PVC_s_indices]\n",
    "for j in PVC_s_indices:\n",
    "    scaling_factors_PVC.append(model.s[j].value)\n",
    "scaling_factors_PVC"
   ]
  },
  {
   "cell_type": "code",
   "execution_count": 113,
   "id": "592292f2-89cc-4d4b-b197-6c397c313e62",
   "metadata": {},
   "outputs": [
    {
     "data": {
      "text/plain": [
       "[0.0, 0.0, 0.0, 160027500000.0, 0.0]"
      ]
     },
     "execution_count": 113,
     "metadata": {},
     "output_type": "execute_result"
    }
   ],
   "source": [
    "#3. mixed plastic collected waste (sorting, energy recovery, landfill, mismanaged)\n",
    "\n",
    "scaling_factors_mixed = []\n",
    "mixed_s_indices = []\n",
    "search_elements_mixed = [\n",
    "    'incineration, electricity recovery, plastic packaging waste',\n",
    "    'landfill, plastic packaging waste',\n",
    "    'High-tech MRF',\n",
    "    'Med-tech MRF',\n",
    "    'Low-tech MRF',\n",
    "]\n",
    "mixed_s_indices = [A_df_org.iloc[0,:].tolist().index(elem) for elem in search_elements_mixed]\n",
    "mixed_s_indices = [i-9 for i in mixed_s_indices]\n",
    "for j in mixed_s_indices:\n",
    "    scaling_factors_mixed.append(model.s[j].value)\n",
    "scaling_factors_mixed"
   ]
  },
  {
   "cell_type": "code",
   "execution_count": 114,
   "id": "e23d860b-ed37-4685-8720-1246569adc12",
   "metadata": {},
   "outputs": [
    {
     "data": {
      "text/plain": [
       "[0.0, 0.0, 60010312500.0, 0.0, 0.0]"
      ]
     },
     "execution_count": 114,
     "metadata": {},
     "output_type": "execute_result"
    }
   ],
   "source": [
    "#4. mixed plastic waste, sorted (sorting, energy recovery, landfill, mismanaged)\n",
    "\n",
    "scaling_factors_mixed = []\n",
    "mixed_s_indices = []\n",
    "search_elements_mixed = [\n",
    "    'cement clinker, mixed plastic packaging, sorted',\n",
    "    'plastic lumber production from sorted mixed plastic waste',\n",
    "    'pyrolysis, feedstock recycling, mixed plastic waste, sorted',\n",
    "    'PET fiber production from sorted PET waste',\n",
    "    'road pavement production from sorted mixed plastic waste'\n",
    "]\n",
    "mixed_s_indices = [A_df_org.iloc[0,:].tolist().index(elem) for elem in search_elements_mixed]\n",
    "mixed_s_indices = [i-9 for i in mixed_s_indices]\n",
    "for j in mixed_s_indices:\n",
    "    scaling_factors_mixed.append(model.s[j].value)\n",
    "scaling_factors_mixed"
   ]
  },
  {
   "cell_type": "code",
   "execution_count": 94,
   "id": "007be644-fa8a-481e-ba9b-be60252863b0",
   "metadata": {},
   "outputs": [
    {
     "data": {
      "text/plain": [
       "[24017538114.78966, 0.0]"
      ]
     },
     "execution_count": 94,
     "metadata": {},
     "output_type": "execute_result"
    }
   ],
   "source": [
    "#5. Plastic residues\n",
    "scaling_factors_mixed = []\n",
    "mixed_s_indices = []\n",
    "search_elements_mixed = [\n",
    "    'landfill, plastic residues',\n",
    "    'incineration, electricity recovery, plastic residues'\n",
    "]\n",
    "mixed_s_indices = [A_df_org.iloc[0,:].tolist().index(elem) for elem in search_elements_mixed]\n",
    "mixed_s_indices = [i-9 for i in mixed_s_indices]\n",
    "for j in mixed_s_indices:\n",
    "    scaling_factors_mixed.append(model.s[j].value)\n",
    "scaling_factors_mixed"
   ]
  },
  {
   "cell_type": "code",
   "execution_count": 95,
   "id": "51e7dd8b-c557-44d2-8c6e-d23c41ecb0c8",
   "metadata": {},
   "outputs": [
    {
     "data": {
      "text/plain": [
       "[198058799010.88776,\n",
       " 310005076712.69385,\n",
       " 25833756392.724487,\n",
       " 77501269178.17346,\n",
       " 68890017047.2653,\n",
       " 51667512785.448975,\n",
       " 120557529832.7143,\n",
       " 17222504261.816326,\n",
       " 0.0,\n",
       " 0.0]"
      ]
     },
     "execution_count": 95,
     "metadata": {},
     "output_type": "execute_result"
    }
   ],
   "source": [
    "#6. Energy Grid\n",
    "scaling_factors_mixed = []\n",
    "mixed_s_indices = []\n",
    "search_elements_mixed = [\n",
    "        'Electrcity, natural gas ',\n",
    "        'Electrcity, coal',\n",
    "        'Electrcity, oil',\n",
    "        'Electrcity, nuclear',\n",
    "        'Electrcity, wind',\n",
    "        'Electricity, solar',\n",
    "        'Electricity, hydropower',\n",
    "        'Electrcity, biopower',\n",
    "        'Electrcity, geothermal',\n",
    "        'Electrcity, ocean energy']\n",
    "mixed_s_indices = [A_df_org.iloc[0,:].tolist().index(elem) for elem in search_elements_mixed]\n",
    "mixed_s_indices = [i-9 for i in mixed_s_indices]\n",
    "for j in mixed_s_indices:\n",
    "    scaling_factors_mixed.append(model.s[j].value)\n",
    "scaling_factors_mixed"
   ]
  },
  {
   "cell_type": "markdown",
   "id": "8669310c-83da-4b6c-a995-8df09637b02d",
   "metadata": {
    "jp-MarkdownHeadingCollapsed": true,
    "tags": []
   },
   "source": [
    "# Scenario 2: EoL + Sorting"
   ]
  },
  {
   "cell_type": "markdown",
   "id": "ba4b37bb-7e74-48a2-93c0-5cfa7fd00abf",
   "metadata": {},
   "source": [
    "## b:  Electricity generation UUIDs in USLCI"
   ]
  },
  {
   "cell_type": "code",
   "execution_count": 12,
   "id": "c4cc6a75-4668-47a6-a30a-35bd17053ccc",
   "metadata": {},
   "outputs": [],
   "source": [
    "electricity_processes = ['Electrcity, solar photovoltatic',\n",
    "                         'Electricity',\n",
    "                         'Electricity, at cogen, for natural gas turbine',\n",
    "                         'Electricity, at Grid, US, 2010',\n",
    "                         'Electricity, biomass, at power plant',\n",
    "                         'Electricity, bituminous coal, at power plant',\n",
    "                         'Electricity, concentrated solar power (CSP)',\n",
    "                         'Electricity, diesel, at power plant',\n",
    "                         'Electricity, Eastern US, 2014',\n",
    "                         'Electricity, lignite coal, at power plant',\n",
    "                         'Electricity, natural gas, at power plant',\n",
    "                         'Electricity, nuclear, at power plant',\n",
    "                         'Electricity, residual fuel oil, at power plant',\n",
    "                         'Electricity, solar'\n",
    "                            ]"
   ]
  },
  {
   "cell_type": "code",
   "execution_count": 13,
   "id": "d0f96da5-a4ba-4f49-aff1-64929b88a039",
   "metadata": {},
   "outputs": [],
   "source": [
    "#finding columns in A with electricity generation\n",
    "store_index_electricity_A_col = []\n",
    "stored_index_A = 0\n",
    "for i in range(len(A_df_org.T)):\n",
    "    if str(A_df_org.iloc[0, i]) in electricity_processes:\n",
    "        stored_index_A = i\n",
    "        store_index_electricity_A_col.append(stored_index_A)"
   ]
  },
  {
   "cell_type": "code",
   "execution_count": 14,
   "id": "ccf90fc3-eb17-4f1c-b1d5-cac4fc0be4b6",
   "metadata": {},
   "outputs": [],
   "source": [
    "#finding rows in A with electricity generation\n",
    "store_index_electricity_A_row = []\n",
    "stored_index_A = 0\n",
    "for i in range(len(A_df_org)):\n",
    "    if str(A_df_org.iloc[i, 0]) in electricity_processes:\n",
    "        stored_index_A = i\n",
    "        store_index_electricity_A_row.append(stored_index_A)"
   ]
  },
  {
   "cell_type": "code",
   "execution_count": 15,
   "id": "09449c6c-8c17-490e-b266-23e88539124b",
   "metadata": {},
   "outputs": [],
   "source": [
    "#finding columns in B with electricity generation\n",
    "store_index_electricity_B = []\n",
    "stored_index_B = 0\n",
    "for i in range(len(B_df_org.T)):\n",
    "    if str(B_df_org.iloc[0, i]) in electricity_processes:\n",
    "        stored_index_B = i\n",
    "        store_index_electricity_B.append(stored_index_B)"
   ]
  },
  {
   "cell_type": "markdown",
   "id": "58b21930-1f61-4831-9728-ec8466883568",
   "metadata": {},
   "source": [
    "### Removing corresponding electricity columns from A and B"
   ]
  },
  {
   "cell_type": "code",
   "execution_count": 16,
   "id": "c68e2c70-eaf6-4030-b7e2-e6346d4f3e1b",
   "metadata": {},
   "outputs": [],
   "source": [
    "A_df_org = A_df_org.drop(A_df_org.columns[store_index_electricity_A_col], axis=1)\n",
    "B_df_org = B_df_org.drop(B_df_org.columns[store_index_electricity_B], axis=1)"
   ]
  },
  {
   "cell_type": "markdown",
   "id": "148dc04a-8975-4550-8dc2-86d1a8892385",
   "metadata": {},
   "source": [
    "### Aggregating all electricity flows in each process"
   ]
  },
  {
   "cell_type": "code",
   "execution_count": 17,
   "id": "2bd2591f-82ce-43ee-bf00-1c39fbb8dfe6",
   "metadata": {},
   "outputs": [],
   "source": [
    "electricity_sums = np.sum(np.array(A_df_org.loc[store_index_electricity_A_row].iloc[:, 10:].replace(np.nan, 0), dtype=float), axis=0)"
   ]
  },
  {
   "cell_type": "code",
   "execution_count": 18,
   "id": "73dc3654-e307-4077-a89a-2041cdc86279",
   "metadata": {},
   "outputs": [],
   "source": [
    "# Reset index and drop the old index\n",
    "A_df_org_tr = A_df_org.T.reset_index(drop=True)"
   ]
  },
  {
   "cell_type": "code",
   "execution_count": 19,
   "id": "793103d5-46bd-4dbc-b5e7-91e1da24de3d",
   "metadata": {
    "tags": []
   },
   "outputs": [],
   "source": [
    "A_df_org = A_df_org_tr.T"
   ]
  },
  {
   "cell_type": "code",
   "execution_count": 20,
   "id": "4e27addf-a35f-4091-afb7-dd285665b57a",
   "metadata": {},
   "outputs": [],
   "source": [
    "# Reset index and drop the old index\n",
    "B_df_org_tr = B_df_org.T.reset_index(drop=True)"
   ]
  },
  {
   "cell_type": "code",
   "execution_count": 21,
   "id": "640a80ae-df35-474a-a67e-dae2e345247b",
   "metadata": {
    "tags": []
   },
   "outputs": [],
   "source": [
    "B_df_org = B_df_org_tr.T"
   ]
  },
  {
   "cell_type": "markdown",
   "id": "46aa6da1-c717-4784-a1c6-64826f40f04f",
   "metadata": {},
   "source": [
    "### Removing electricity rows from A"
   ]
  },
  {
   "cell_type": "code",
   "execution_count": 22,
   "id": "fd346506-8766-4abe-a9e4-137fbdedc106",
   "metadata": {},
   "outputs": [],
   "source": [
    "A_df_org = A_df_org.drop(A_df_org.columns[store_index_electricity_A_row], axis=0)"
   ]
  },
  {
   "cell_type": "markdown",
   "id": "378b6108-fc58-4434-8747-6bf6c89c1851",
   "metadata": {
    "tags": []
   },
   "source": [
    "### Add new electricity rows and columns"
   ]
  },
  {
   "cell_type": "code",
   "execution_count": 23,
   "id": "03b50c0e-0fcd-478d-87ce-0e1135153a39",
   "metadata": {},
   "outputs": [],
   "source": [
    "new_elec = [\n",
    "        'Electricity',\n",
    "        'Electrcity, natural gas ',\n",
    "        'Electrcity, coal',\n",
    "        'Electrcity, oil',\n",
    "        'Electrcity, nuclear',\n",
    "        'Electrcity, wind',\n",
    "        'Electricity, solar',\n",
    "        'Electricity, hydropower',\n",
    "        'Electrcity, biopower',\n",
    "        'Electrcity, geothermal',\n",
    "        'Electrcity, ocean energy']\n",
    "\n",
    "new_elec_row = [\n",
    "        'Electricity',\n",
    "        'Electrcity, natural gas ',\n",
    "        'Electrcity, coal',\n",
    "        'Electrcity, oil',\n",
    "        'Electrcity, nuclear',\n",
    "        'Electrcity, wind',\n",
    "        'Electricity, solar',\n",
    "        'Electricity, hydropower',\n",
    "        'Electrcity, biopower',\n",
    "        'Electrcity, geothermal',\n",
    "        'Electrcity, ocean energy']"
   ]
  },
  {
   "cell_type": "code",
   "execution_count": 24,
   "id": "6036d162-a9f4-4fc8-a4a7-827cf98117c1",
   "metadata": {},
   "outputs": [],
   "source": [
    "# Append new rows in A\n",
    "\n",
    "# Convert new_elec to a DataFrame\n",
    "new_elec_df = pd.DataFrame(new_elec_row) \n",
    "\n",
    "# Append new_elec to the first row\n",
    "A_df_org = pd.concat([A_df_org, new_elec_df], ignore_index=True)"
   ]
  },
  {
   "cell_type": "code",
   "execution_count": 25,
   "id": "49df4fd4-bdab-4e86-b0c3-8b0835a01b8e",
   "metadata": {},
   "outputs": [],
   "source": [
    "# Append new columns in A\n",
    "for elec in new_elec:\n",
    "    A_df_org[elec] = None  # Create a new column with None values\n",
    "\n",
    "# Set the first row of each new column to the corresponding value\n",
    "for idx, elec in enumerate(new_elec):\n",
    "    A_df_org.at[0, elec] = elec  # Set the value in the first row"
   ]
  },
  {
   "cell_type": "code",
   "execution_count": 26,
   "id": "22811ea7-4c14-4f9d-bdbe-a35cb8aec11c",
   "metadata": {},
   "outputs": [],
   "source": [
    "# Append new columns in B\n",
    "for elec in new_elec:\n",
    "    B_df_org[elec] = None  # Create a new column with None values\n",
    "\n",
    "# Set the first row of each new column to the corresponding value\n",
    "for idx, elec in enumerate(new_elec):\n",
    "    B_df_org.at[0, elec] = elec  # Set the value in the first row"
   ]
  },
  {
   "cell_type": "code",
   "execution_count": 27,
   "id": "3eab92f2-9fb6-490d-82d3-d0a89bbec92f",
   "metadata": {},
   "outputs": [],
   "source": [
    "# Reset index and drop the old index\n",
    "A_df_org_tr = A_df_org.T.reset_index(drop=True)"
   ]
  },
  {
   "cell_type": "code",
   "execution_count": 28,
   "id": "b6631116-721b-4fff-9757-0ef75e9c980e",
   "metadata": {
    "tags": []
   },
   "outputs": [],
   "source": [
    "A_df_org = A_df_org_tr.T"
   ]
  },
  {
   "cell_type": "code",
   "execution_count": 29,
   "id": "601c752e-2e53-47dd-a89a-b738e3323117",
   "metadata": {},
   "outputs": [],
   "source": [
    "# Reset index and drop the old index\n",
    "B_df_org_tr = B_df_org.T.reset_index(drop=True)"
   ]
  },
  {
   "cell_type": "code",
   "execution_count": 30,
   "id": "0ffdac62-85af-4882-abb1-f10d25f734c6",
   "metadata": {
    "tags": []
   },
   "outputs": [],
   "source": [
    "B_df_org = B_df_org_tr.T"
   ]
  },
  {
   "cell_type": "code",
   "execution_count": 31,
   "id": "6b556dfd-76d1-4ea4-bcbe-5af33d23dc98",
   "metadata": {},
   "outputs": [],
   "source": [
    "A_df_org.reset_index(drop=True, inplace=True)"
   ]
  },
  {
   "cell_type": "code",
   "execution_count": 32,
   "id": "62862d8d-f0a5-4652-912e-af07b908b408",
   "metadata": {},
   "outputs": [],
   "source": [
    "A_df_org.to_csv('A_df_org_electricity.csv', index=False)\n",
    "B_df_org.to_csv('B_df_org_electricity.csv', index=False)"
   ]
  },
  {
   "cell_type": "markdown",
   "id": "a29a8c2d-4ee4-4247-9ee5-eb91a71598db",
   "metadata": {},
   "source": [
    "## Heat"
   ]
  },
  {
   "cell_type": "code",
   "execution_count": 33,
   "id": "0259adec-71b3-4b71-8bb5-a5222a6b309b",
   "metadata": {},
   "outputs": [],
   "source": [
    "heat_processes = [\n",
    "    '73cd1596-214d-3403-87f1-f69fc3818886', #'Bituminous coal, combusted in industrial boiler',\n",
    "    'e04995fa-935b-316c-b112-5b436c8ea3d6', #'Diesel, combusted in industrial boiler',\n",
    "    'f6e5887d-644b-44ee-bb9d-5c2fd3d07b4a', #'Heat',\n",
    "    '97624ce0-6d6a-3376-bfa7-c663b3c7e48d', #'Heat, onsite boiler, hardwood mill, average, SE',\n",
    "    '833c3f72-fbbe-37ea-adf8-929b47ec0255', #'Heat, onsite boiler, hardwood mill, average, SE',\n",
    "    'eb6394c1-0d19-3be3-99ab-ec572dec9926', #'Lignite coal, combusted in industrial boiler',\n",
    "    'f77da622-e84d-3639-8917-fcf792aaee13', #'Liquefied petroleum gas, combusted in industrial boiler',\n",
    "    'bb1dc159-fe13-3f8e-8197-361e8c770ba3', #'Natural gas, combusted in industrial boiler',\n",
    "    'f179160d-d402-3e37-8d65-93d09f309b99', #'Natural gas, combusted in industrial boiler, at hydrocracker, for ethylene',\n",
    "    'ea080df3-3823-3f40-89ed-1a45b561230e', #'Natural gas, combusted in industrial boiler, at hydrocracker, for pyrolysis gas',\n",
    "    '654a5cf6-185f-3d91-89ef-42442d1825e8', #'Residual fuel oil, combusted in industrial boiler',\n",
    "    '75c3bc19-9aeb-30a9-a43f-c862c7354c85', #Wood fuel, hardwood, generated at lumber mill, combusted in industrial boiler, SE\n",
    "    'ccf86743-6a0f-39d5-949e-6b2950bae209', #Wood fuel, hardwood, purchased, combusted in industrial boiler, SE\n",
    "    'ba4fbc4f-a9ab-387c-8bdd-9308dc19f404', #Wood fuel, unspecified\n",
    "    '1a76ed77-b97d-3070-85b7-b1f41906cece', #Wood waste, unspecified, combusted in industrial boiler\n",
    "]"
   ]
  },
  {
   "cell_type": "code",
   "execution_count": 34,
   "id": "873edf51-6783-45d7-b5d2-138f7ab08a7d",
   "metadata": {},
   "outputs": [],
   "source": [
    "Mj_per_unit = [23.9, #'Bituminous coal, combusted in industrial boiler',\n",
    "               37.4, #'Diesel, combusted in industrial boiler',\n",
    "               1, #'Heat',\n",
    "               1, #'Heat, onsite boiler, hardwood mill, average, SE',\n",
    "               1, #'Heat, onsite boiler, hardwood mill, average, SE',\n",
    "               23.9, #'Lignite coal, combusted in industrial boiler',\n",
    "               26, #'Liquefied petroleum gas, combusted in industrial boiler',\n",
    "               40, #'Natural gas, combusted in industrial boiler',\n",
    "               40, #'Natural gas, combusted in industrial boiler, at hydrocracker, for ethylene',\n",
    "               40, #'Natural gas, combusted in industrial boiler, at hydrocracker, for pyrolysis gas',\n",
    "               37, #'Residual fuel oil, combusted in industrial boiler',\n",
    "               16, #Wood fuel, hardwood, generated at lumber mill, combusted in industrial boiler, SE\n",
    "               16, #Wood fuel, hardwood, purchased, combusted in industrial boiler, SE\n",
    "               16, #Wood fuel, unspecified\n",
    "               16] #Wood waste, unspecified, combusted in industrial boiler"
   ]
  },
  {
   "cell_type": "code",
   "execution_count": 35,
   "id": "d0272ee8-8a1a-4c6f-b44c-9c30b318b9e2",
   "metadata": {},
   "outputs": [],
   "source": [
    "boiler_efficiency = [1, 1, 1, 1, 1, 1, 1, 1, 1, 1, 1, 1, 1, 1, 1]"
   ]
  },
  {
   "cell_type": "code",
   "execution_count": 36,
   "id": "09300411-b159-4a48-bf44-37de511d8437",
   "metadata": {},
   "outputs": [],
   "source": [
    "#step 1: identify all heat columns in A and B\n",
    "#finding columns in A with electricity generation\n",
    "store_index_heat_A_col = []\n",
    "stored_index_A = 0\n",
    "for i in range(len(A_df_org.T)):\n",
    "    if str(A_df_org.iloc[3, i]) in heat_processes:\n",
    "        stored_index_A = i\n",
    "        store_index_heat_A_col.append(stored_index_A)"
   ]
  },
  {
   "cell_type": "code",
   "execution_count": 37,
   "id": "a8123f71-6334-4abe-8c1d-6c544c7b9e38",
   "metadata": {},
   "outputs": [
    {
     "data": {
      "text/plain": [
       "[26, 36, 51, 52, 53, 69, 71, 91, 92, 93, 120, 131, 132, 133, 134]"
      ]
     },
     "execution_count": 37,
     "metadata": {},
     "output_type": "execute_result"
    }
   ],
   "source": [
    "store_index_heat_A_col"
   ]
  },
  {
   "cell_type": "code",
   "execution_count": 38,
   "id": "28c33581-2303-44aa-85c2-ba80b6ed78a2",
   "metadata": {},
   "outputs": [],
   "source": [
    "#finding rows in A with electricity generation\n",
    "store_index_heat_A_row = []\n",
    "stored_index_A = 0\n",
    "for i in range(len(A_df_org)):\n",
    "    if str(A_df_org.iloc[i, 3]) in heat_processes:\n",
    "        stored_index_A = i\n",
    "        store_index_heat_A_row.append(stored_index_A)"
   ]
  },
  {
   "cell_type": "code",
   "execution_count": 39,
   "id": "9bccde74-8f9f-426b-ab32-9fe01bf7500c",
   "metadata": {},
   "outputs": [
    {
     "data": {
      "text/plain": [
       "[25, 34, 43, 44, 45, 58, 60, 76, 77, 78, 99, 109, 110, 111, 112]"
      ]
     },
     "execution_count": 39,
     "metadata": {},
     "output_type": "execute_result"
    }
   ],
   "source": [
    "store_index_heat_A_row"
   ]
  },
  {
   "cell_type": "code",
   "execution_count": 40,
   "id": "6e5259e5-d913-421d-8a3d-45037407ef71",
   "metadata": {},
   "outputs": [],
   "source": [
    "#finding columns in B with electricity generation\n",
    "#finding columns in B with electricity generation\n",
    "store_index_heat_B = []\n",
    "stored_index_B = 0\n",
    "for i in range(len(B_df_org.T)):\n",
    "    if str(B_df_org.iloc[3, i]) in heat_processes:\n",
    "        stored_index_B = i\n",
    "        store_index_heat_B.append(stored_index_B)"
   ]
  },
  {
   "cell_type": "code",
   "execution_count": 41,
   "id": "073c099a-6698-4609-810c-940da1a4a04c",
   "metadata": {},
   "outputs": [
    {
     "data": {
      "text/plain": [
       "[23, 33, 48, 49, 50, 66, 68, 88, 89, 90, 117, 128, 129, 130, 131]"
      ]
     },
     "execution_count": 41,
     "metadata": {},
     "output_type": "execute_result"
    }
   ],
   "source": [
    "store_index_heat_B"
   ]
  },
  {
   "cell_type": "code",
   "execution_count": 42,
   "id": "21bc3d2e-32d1-4424-8b02-10aeecdab8d9",
   "metadata": {},
   "outputs": [],
   "source": [
    "#Step 2: Remove heat columns from A and B\n",
    "A_df_org = A_df_org.drop(A_df_org.columns[store_index_heat_A_col], axis=1)\n",
    "B_df_org = B_df_org.drop(B_df_org.columns[store_index_heat_B], axis=1)"
   ]
  },
  {
   "cell_type": "code",
   "execution_count": 43,
   "id": "b19dd96a-70a6-4f25-886c-8a30a79e697f",
   "metadata": {},
   "outputs": [],
   "source": [
    "A_df_org.to_csv('A_df_org_heat-1.csv', index=False)\n",
    "B_df_org.to_csv('B_df_org_heat-1.csv', index=False)"
   ]
  },
  {
   "cell_type": "code",
   "execution_count": 44,
   "id": "361bdfd6-04a1-484b-ab11-2904f9030a0c",
   "metadata": {},
   "outputs": [],
   "source": [
    "X = np.array(Mj_per_unit) * np.array(boiler_efficiency)\n",
    "Y = np.array(A_df_org.loc[store_index_heat_A_row].iloc[:, 10:].replace(np.nan, 0), dtype=float)"
   ]
  },
  {
   "cell_type": "code",
   "execution_count": 45,
   "id": "3b719859-ebbb-45a6-ada3-d981ae0734b6",
   "metadata": {},
   "outputs": [],
   "source": [
    "#Step 3: aggregate heat rows from A and B and convert them to absolute heat needed\n",
    "heat_sums = []\n",
    "heat_sums = np.transpose(Y)@X"
   ]
  },
  {
   "cell_type": "code",
   "execution_count": 46,
   "id": "2802eb8c-3554-4bc6-8a29-7b645c1bc97c",
   "metadata": {},
   "outputs": [],
   "source": [
    "# Reset index and drop the old index\n",
    "A_df_org_tr = A_df_org.T.reset_index(drop=True)\n",
    "A_df_org = A_df_org_tr.T\n",
    "# Reset index and drop the old index\n",
    "B_df_org_tr = B_df_org.T.reset_index(drop=True)\n",
    "B_df_org = B_df_org_tr.T\n",
    "A_df_org = A_df_org.drop(A_df_org.columns[store_index_heat_A_row], axis=0)\n",
    "# Reset index and drop the old index\n",
    "A_df_org_tr = A_df_org.T.reset_index(drop=True)\n",
    "A_df_org = A_df_org_tr.T\n",
    "# Reset index and drop the old index\n",
    "B_df_org_tr = B_df_org.T.reset_index(drop=True)\n",
    "B_df_org = B_df_org_tr.T\n",
    "A_df_org.reset_index(drop=True, inplace=True)"
   ]
  },
  {
   "cell_type": "code",
   "execution_count": 47,
   "id": "ad160bf6-3451-43c2-abd0-e9f95140e40f",
   "metadata": {},
   "outputs": [],
   "source": [
    "A_df_org.to_csv('A_df_org_heat-2.csv', index=False)\n",
    "B_df_org.to_csv('B_df_org_heat-2.csv', index=False)"
   ]
  },
  {
   "cell_type": "code",
   "execution_count": 48,
   "id": "43a9cd11-3f06-48c9-96e5-9ad47316b77e",
   "metadata": {},
   "outputs": [],
   "source": [
    "update_store_index_heat_A_col = [x-10 for x in store_index_heat_A_col]"
   ]
  },
  {
   "cell_type": "code",
   "execution_count": 49,
   "id": "4c7281a6-4f48-4e1f-8a4e-e887f7fb79e0",
   "metadata": {},
   "outputs": [
    {
     "data": {
      "text/plain": [
       "[16, 26, 41, 42, 43, 59, 61, 81, 82, 83, 110, 121, 122, 123, 124]"
      ]
     },
     "execution_count": 49,
     "metadata": {},
     "output_type": "execute_result"
    }
   ],
   "source": [
    "update_store_index_heat_A_col"
   ]
  },
  {
   "cell_type": "code",
   "execution_count": 50,
   "id": "b20f1cd8-f04c-420f-99f6-41ee3bbf3456",
   "metadata": {},
   "outputs": [],
   "source": [
    "electricity_sums = np.delete(electricity_sums,update_store_index_heat_A_col)"
   ]
  },
  {
   "cell_type": "code",
   "execution_count": 51,
   "id": "652050c6-2b17-4797-b641-6f43e195223d",
   "metadata": {},
   "outputs": [],
   "source": [
    "for i in range(len(heat_sums)-len(electricity_sums)):\n",
    "    electricity_sums = np.append(electricity_sums, 0)"
   ]
  },
  {
   "cell_type": "markdown",
   "id": "5fd1c8f9-782a-4216-aa6d-0f9106c292db",
   "metadata": {
    "tags": []
   },
   "source": [
    "### Add new heat rows and columns"
   ]
  },
  {
   "cell_type": "code",
   "execution_count": 52,
   "id": "83dfea5c-1052-4b7a-aff0-0a15bacc1e72",
   "metadata": {},
   "outputs": [],
   "source": [
    "new_heat = [\n",
    "        'Heat',\n",
    "        'Heat, oil',\n",
    "        'Heat, coal',\n",
    "        'Heat, natural gas',\n",
    "        'Heat, traditional biomass']\n",
    "\n",
    "new_heat_row = [\n",
    "        'Heat',\n",
    "        'Heat, oil',\n",
    "        'Heat, coal',\n",
    "        'Heat, natural gas',\n",
    "        'Heat, traditional biomass']"
   ]
  },
  {
   "cell_type": "code",
   "execution_count": 53,
   "id": "c6b47d8f-26fa-40be-8549-59e5257bda89",
   "metadata": {},
   "outputs": [],
   "source": [
    "for i in range(len(new_heat)):\n",
    "    electricity_sums = np.append(electricity_sums, 0)"
   ]
  },
  {
   "cell_type": "code",
   "execution_count": 54,
   "id": "3d0d03f9-bb88-4ffe-b361-6bc351ef759e",
   "metadata": {},
   "outputs": [],
   "source": [
    "for i in range(len(new_heat)):\n",
    "    heat_sums = np.append(heat_sums, 0)"
   ]
  },
  {
   "cell_type": "code",
   "execution_count": 55,
   "id": "37fd4c1e-0d25-49cf-92f4-04797deddffb",
   "metadata": {},
   "outputs": [],
   "source": [
    "# Append new rows in A\n",
    "\n",
    "# Convert new_elec to a DataFrame\n",
    "new_heat_df = pd.DataFrame(new_heat_row) \n",
    "\n",
    "# Append new_elec to the first row\n",
    "A_df_org = pd.concat([A_df_org, new_heat_df], ignore_index=True)"
   ]
  },
  {
   "cell_type": "code",
   "execution_count": 56,
   "id": "ac990102-74eb-49a2-9efd-9ab729b19c0a",
   "metadata": {},
   "outputs": [],
   "source": [
    "# Append new columns in A\n",
    "for heat in new_heat:\n",
    "    A_df_org[heat] = None  # Create a new column with None values\n",
    "\n",
    "# Set the first row of each new column to the corresponding value\n",
    "for idx, heat in enumerate(new_heat):\n",
    "    A_df_org.at[0, heat] = heat  # Set the value in the first row"
   ]
  },
  {
   "cell_type": "code",
   "execution_count": 57,
   "id": "4355cf01-5e89-4dd4-90fd-2f318a1cbe76",
   "metadata": {},
   "outputs": [],
   "source": [
    "# Append new columns in B\n",
    "for heat in new_heat:\n",
    "    B_df_org[heat] = None  # Create a new column with None values\n",
    "\n",
    "# Set the first row of each new column to the corresponding value\n",
    "for idx, heat in enumerate(new_heat):\n",
    "    B_df_org.at[0, heat] = heat  # Set the value in the first row"
   ]
  },
  {
   "cell_type": "code",
   "execution_count": 58,
   "id": "cbdf8516-4f7b-4295-ab69-accfe37e5dff",
   "metadata": {},
   "outputs": [],
   "source": [
    "# Reset index and drop the old index\n",
    "A_df_org_tr = A_df_org.T.reset_index(drop=True)\n",
    "A_df_org = A_df_org_tr.T\n",
    "# Reset index and drop the old index\n",
    "B_df_org_tr = B_df_org.T.reset_index(drop=True)\n",
    "B_df_org = B_df_org_tr.T\n",
    "A_df_org.reset_index(drop=True, inplace=True)"
   ]
  },
  {
   "cell_type": "code",
   "execution_count": 59,
   "id": "d7940483-3ba1-4249-974b-03cc5ff71c2c",
   "metadata": {},
   "outputs": [],
   "source": [
    "A_df_org.to_csv('A_df_org_heat.csv', index=False)\n",
    "B_df_org.to_csv('B_df_org_heat.csv', index=False)"
   ]
  },
  {
   "cell_type": "markdown",
   "id": "705231a6-3787-44ab-9c31-551e07edafde",
   "metadata": {},
   "source": [
    "### Add electricity and heat values to A and B"
   ]
  },
  {
   "cell_type": "code",
   "execution_count": 60,
   "id": "acb264bc-4248-4698-b13d-3d6a2da9beae",
   "metadata": {},
   "outputs": [],
   "source": [
    "for i in range (len(A_df_org.T)-10):\n",
    "    A_df_org.iloc [A_df_org.index[A_df_org.iloc[:, 0] == 'Electricity'].tolist()[0],i+10] = electricity_sums[i]"
   ]
  },
  {
   "cell_type": "code",
   "execution_count": 61,
   "id": "7457378a-5773-4cd0-bccc-1e179c1e0aed",
   "metadata": {},
   "outputs": [],
   "source": [
    "for i in range (len(A_df_org.T)-10):\n",
    "    A_df_org.iloc [A_df_org.index[A_df_org.iloc[:, 0] == 'Heat'].tolist()[0],i+10] = heat_sums[i]"
   ]
  },
  {
   "cell_type": "code",
   "execution_count": 62,
   "id": "f0b9075a-b295-4a72-9de1-c47e8b518b42",
   "metadata": {},
   "outputs": [],
   "source": [
    "A_df_org.iloc [A_df_org.index[A_df_org.iloc[:, 0] == 'Electricity'].tolist()[0],\n",
    "  A_df_org.T.index[A_df_org.T.iloc[:, 0] == 'Electricity'].tolist()[0]] = 1\n",
    "\n",
    "A_df_org.iloc [A_df_org.index[A_df_org.iloc[:, 0] == 'Electrcity, natural gas '].tolist()[0],\n",
    "  A_df_org.T.index[A_df_org.T.iloc[:, 0] == 'Electricity'].tolist()[0]] = - 0.23\n",
    "\n",
    "A_df_org.iloc [A_df_org.index[A_df_org.iloc[:, 0] == 'Electrcity, coal'].tolist()[0],\n",
    "  A_df_org.T.index[A_df_org.T.iloc[:, 0] == 'Electricity'].tolist()[0]] = - 0.36\n",
    "\n",
    "A_df_org.iloc [A_df_org.index[A_df_org.iloc[:, 0] == 'Electrcity, oil'].tolist()[0],\n",
    "  A_df_org.T.index[A_df_org.T.iloc[:, 0] == 'Electricity'].tolist()[0]] = - 0.03\n",
    "\n",
    "A_df_org.iloc [A_df_org.index[A_df_org.iloc[:, 0] == 'Electrcity, nuclear'].tolist()[0],\n",
    "  A_df_org.T.index[A_df_org.T.iloc[:, 0] == 'Electricity'].tolist()[0]] = - 0.09\n",
    "\n",
    "A_df_org.iloc [A_df_org.index[A_df_org.iloc[:, 0] == 'Electrcity, wind'].tolist()[0],\n",
    "  A_df_org.T.index[A_df_org.T.iloc[:, 0] == 'Electricity'].tolist()[0]] = - 0.08\n",
    "\n",
    "A_df_org.iloc [A_df_org.index[A_df_org.iloc[:, 0] == 'Electricity, solar'].tolist()[0],\n",
    "  A_df_org.T.index[A_df_org.T.iloc[:, 0] == 'Electricity'].tolist()[0]] = - 0.06\n",
    "\n",
    "A_df_org.iloc [A_df_org.index[A_df_org.iloc[:, 0] == 'Electricity, hydropower'].tolist()[0],\n",
    "  A_df_org.T.index[A_df_org.T.iloc[:, 0] == 'Electricity'].tolist()[0]] = - 0.14\n",
    "\n",
    "A_df_org.iloc [A_df_org.index[A_df_org.iloc[:, 0] == 'Electrcity, biopower'].tolist()[0],\n",
    "  A_df_org.T.index[A_df_org.T.iloc[:, 0] == 'Electricity'].tolist()[0]] = - 0.02\n",
    "\n",
    "A_df_org.iloc [A_df_org.index[A_df_org.iloc[:, 0] == 'Electrcity, geothermal'].tolist()[0],\n",
    "  A_df_org.T.index[A_df_org.T.iloc[:, 0] == 'Electricity'].tolist()[0]] = 0\n",
    "\n",
    "A_df_org.iloc [A_df_org.index[A_df_org.iloc[:, 0] == 'Electrcity, ocean energy'].tolist()[0],\n",
    "  A_df_org.T.index[A_df_org.T.iloc[:, 0] == 'Electricity'].tolist()[0]] = 0\n",
    "\n",
    "#rest of the matrix\n",
    "A_df_org.iloc [A_df_org.index[A_df_org.iloc[:, 0] == 'Electrcity, natural gas '].tolist()[0],\n",
    "  A_df_org.T.index[A_df_org.T.iloc[:, 0] == 'Electrcity, natural gas '].tolist()[0]] = 1\n",
    "\n",
    "A_df_org.iloc [A_df_org.index[A_df_org.iloc[:, 0] == 'Electrcity, coal'].tolist()[0],\n",
    "  A_df_org.T.index[A_df_org.T.iloc[:, 0] == 'Electrcity, coal'].tolist()[0]] = 1\n",
    "\n",
    "A_df_org.iloc [A_df_org.index[A_df_org.iloc[:, 0] == 'Electrcity, oil'].tolist()[0],\n",
    "  A_df_org.T.index[A_df_org.T.iloc[:, 0] == 'Electrcity, oil'].tolist()[0]] = 1\n",
    "\n",
    "A_df_org.iloc [A_df_org.index[A_df_org.iloc[:, 0] == 'Electrcity, nuclear'].tolist()[0],\n",
    "  A_df_org.T.index[A_df_org.T.iloc[:, 0] == 'Electrcity, nuclear'].tolist()[0]] = 1\n",
    "\n",
    "A_df_org.iloc [A_df_org.index[A_df_org.iloc[:, 0] == 'Electrcity, wind'].tolist()[0],\n",
    "  A_df_org.T.index[A_df_org.T.iloc[:, 0] == 'Electrcity, wind'].tolist()[0]] = 1\n",
    "\n",
    "A_df_org.iloc [A_df_org.index[A_df_org.iloc[:, 0] == 'Electricity, solar'].tolist()[0],\n",
    "  A_df_org.T.index[A_df_org.T.iloc[:, 0] == 'Electricity, solar'].tolist()[0]] = 1\n",
    "\n",
    "A_df_org.iloc [A_df_org.index[A_df_org.iloc[:, 0] == 'Electricity, hydropower'].tolist()[0],\n",
    "  A_df_org.T.index[A_df_org.T.iloc[:, 0] == 'Electricity, hydropower'].tolist()[0]] = 1\n",
    "\n",
    "A_df_org.iloc [A_df_org.index[A_df_org.iloc[:, 0] == 'Electrcity, biopower'].tolist()[0],\n",
    "  A_df_org.T.index[A_df_org.T.iloc[:, 0] == 'Electrcity, biopower'].tolist()[0]] = 1\n",
    "\n",
    "A_df_org.iloc [A_df_org.index[A_df_org.iloc[:, 0] == 'Electrcity, geothermal'].tolist()[0],\n",
    "  A_df_org.T.index[A_df_org.T.iloc[:, 0] == 'Electrcity, geothermal'].tolist()[0]] = 1\n",
    "\n",
    "A_df_org.iloc [A_df_org.index[A_df_org.iloc[:, 0] == 'Electrcity, ocean energy'].tolist()[0],\n",
    "  A_df_org.T.index[A_df_org.T.iloc[:, 0] == 'Electrcity, ocean energy'].tolist()[0]] = 1"
   ]
  },
  {
   "cell_type": "code",
   "execution_count": 63,
   "id": "fe8faa92-3d5b-4e7e-9ded-9675e2755d02",
   "metadata": {},
   "outputs": [],
   "source": [
    "A_df_org.iloc [A_df_org.index[A_df_org.iloc[:, 0] == 'Heat'].tolist()[0],\n",
    "  A_df_org.T.index[A_df_org.T.iloc[:, 0] == 'Heat'].tolist()[0]] = 1\n",
    "\n",
    "A_df_org.iloc [A_df_org.index[A_df_org.iloc[:, 0] == 'Heat, oil'].tolist()[0],\n",
    "  A_df_org.T.index[A_df_org.T.iloc[:, 0] == 'Heat'].tolist()[0]] = - 0.34\n",
    "\n",
    "A_df_org.iloc [A_df_org.index[A_df_org.iloc[:, 0] == 'Heat, coal'].tolist()[0],\n",
    "  A_df_org.T.index[A_df_org.T.iloc[:, 0] == 'Heat'].tolist()[0]] = - 0.28\n",
    "\n",
    "A_df_org.iloc [A_df_org.index[A_df_org.iloc[:, 0] == 'Heat, natural gas'].tolist()[0],\n",
    "  A_df_org.T.index[A_df_org.T.iloc[:, 0] == 'Heat'].tolist()[0]] = - 0.25\n",
    "\n",
    "A_df_org.iloc [A_df_org.index[A_df_org.iloc[:, 0] == 'Heat, traditional biomass'].tolist()[0],\n",
    "  A_df_org.T.index[A_df_org.T.iloc[:, 0] == 'Heat'].tolist()[0]] = - 0.13\n",
    "\n",
    "#rest of the matrix\n",
    "A_df_org.iloc [A_df_org.index[A_df_org.iloc[:, 0] == 'Heat, oil'].tolist()[0],\n",
    "  A_df_org.T.index[A_df_org.T.iloc[:, 0] == 'Heat, oil'].tolist()[0]] = 1\n",
    "\n",
    "A_df_org.iloc [A_df_org.index[A_df_org.iloc[:, 0] == 'Heat, coal'].tolist()[0],\n",
    "  A_df_org.T.index[A_df_org.T.iloc[:, 0] == 'Heat, coal'].tolist()[0]] = 1\n",
    "\n",
    "A_df_org.iloc [A_df_org.index[A_df_org.iloc[:, 0] == 'Heat, natural gas'].tolist()[0],\n",
    "  A_df_org.T.index[A_df_org.T.iloc[:, 0] == 'Heat, natural gas'].tolist()[0]] = 1\n",
    "\n",
    "A_df_org.iloc [A_df_org.index[A_df_org.iloc[:, 0] == 'Heat, traditional biomass'].tolist()[0],\n",
    "  A_df_org.T.index[A_df_org.T.iloc[:, 0] == 'Heat, traditional biomass'].tolist()[0]] = 1"
   ]
  },
  {
   "cell_type": "code",
   "execution_count": 64,
   "id": "111c6466-2ebc-4024-bda4-4cb75345c4e0",
   "metadata": {},
   "outputs": [],
   "source": [
    "B_df_org.iloc [B_df_org.index[B_df_org.iloc[:, 0] == 'b6f010fb-a764-3063-af2d-bcb8309a97b7'].tolist()[0],\n",
    "  B_df_org.T.index[B_df_org.iloc[0, :] == 'Electrcity, natural gas '].tolist()[0]] = 0.460/3.6\n",
    "\n",
    "B_df_org.iloc [B_df_org.index[B_df_org.iloc[:, 0] == 'b6f010fb-a764-3063-af2d-bcb8309a97b7'].tolist()[0],\n",
    "  B_df_org.T.index[B_df_org.iloc[0, :] == 'Electrcity, coal'].tolist()[0]] = 1/3.6\n",
    "\n",
    "B_df_org.iloc [B_df_org.index[B_df_org.iloc[:, 0] == 'b6f010fb-a764-3063-af2d-bcb8309a97b7'].tolist()[0],\n",
    "  B_df_org.T.index[B_df_org.iloc[0, :] == 'Electrcity, oil'].tolist()[0]] = 0.841/3.6\n",
    "\n",
    "B_df_org.iloc [B_df_org.index[B_df_org.iloc[:, 0] == 'b6f010fb-a764-3063-af2d-bcb8309a97b7'].tolist()[0],\n",
    "  B_df_org.T.index[B_df_org.iloc[0, :] == 'Electrcity, nuclear'].tolist()[0]] = 0.016/3.6\n",
    "\n",
    "B_df_org.iloc [B_df_org.index[B_df_org.iloc[:, 0] == 'b6f010fb-a764-3063-af2d-bcb8309a97b7'].tolist()[0],\n",
    "  B_df_org.T.index[B_df_org.iloc[0, :] == 'Electrcity, wind'].tolist()[0]] = 0.011/3.6\n",
    "\n",
    "B_df_org.iloc [B_df_org.index[B_df_org.iloc[:, 0] == 'b6f010fb-a764-3063-af2d-bcb8309a97b7'].tolist()[0],\n",
    "  B_df_org.T.index[B_df_org.iloc[0, :] == 'Electricity, solar'].tolist()[0]] = 0.045/3.6\n",
    "\n",
    "B_df_org.iloc [B_df_org.index[B_df_org.iloc[:, 0] == 'b6f010fb-a764-3063-af2d-bcb8309a97b7'].tolist()[0],\n",
    "  B_df_org.T.index[B_df_org.iloc[0, :] == 'Electricity, hydropower'].tolist()[0]] = 0.0065/3.6\n",
    "\n",
    "B_df_org.iloc [B_df_org.index[B_df_org.iloc[:, 0] == 'b6f010fb-a764-3063-af2d-bcb8309a97b7'].tolist()[0],\n",
    "  B_df_org.T.index[B_df_org.iloc[0, :] == 'Electrcity, biopower'].tolist()[0]] = 0.039/3.6\n",
    "\n",
    "B_df_org.iloc [B_df_org.index[B_df_org.iloc[:, 0] == 'b6f010fb-a764-3063-af2d-bcb8309a97b7'].tolist()[0],\n",
    "  B_df_org.T.index[B_df_org.iloc[0, :] == 'Electrcity, geothermal'].tolist()[0]] = 0.045/3.6\n",
    "\n",
    "B_df_org.iloc [B_df_org.index[B_df_org.iloc[:, 0] == 'b6f010fb-a764-3063-af2d-bcb8309a97b7'].tolist()[0],\n",
    "  B_df_org.T.index[B_df_org.iloc[0, :] == 'Electrcity, ocean energy'].tolist()[0]] = 0.008/3.6"
   ]
  },
  {
   "cell_type": "code",
   "execution_count": 65,
   "id": "5e3d1786-b2c4-418b-a5cd-642b5abba854",
   "metadata": {},
   "outputs": [],
   "source": [
    "B_df_org.iloc [B_df_org.index[B_df_org.iloc[:, 0] == 'b6f010fb-a764-3063-af2d-bcb8309a97b7'].tolist()[0],\n",
    "  B_df_org.T.index[B_df_org.iloc[0, :] == 'Heat, oil'].tolist()[0]] = 0.072\n",
    "\n",
    "B_df_org.iloc [B_df_org.index[B_df_org.iloc[:, 0] == 'b6f010fb-a764-3063-af2d-bcb8309a97b7'].tolist()[0],\n",
    "  B_df_org.T.index[B_df_org.iloc[0, :] == 'Heat, coal'].tolist()[0]] = 0.101\n",
    "\n",
    "B_df_org.iloc [B_df_org.index[B_df_org.iloc[:, 0] == 'b6f010fb-a764-3063-af2d-bcb8309a97b7'].tolist()[0],\n",
    "  B_df_org.T.index[B_df_org.iloc[0, :] == 'Heat, natural gas'].tolist()[0]] = 0.056\n",
    "\n",
    "B_df_org.iloc [B_df_org.index[B_df_org.iloc[:, 0] == 'b6f010fb-a764-3063-af2d-bcb8309a97b7'].tolist()[0],\n",
    "  B_df_org.T.index[B_df_org.iloc[0, :] == 'Heat, traditional biomass'].tolist()[0]] = 0.025"
   ]
  },
  {
   "cell_type": "code",
   "execution_count": 66,
   "id": "6d65e2f8-6c27-44a1-91b3-f3294b34ff42",
   "metadata": {},
   "outputs": [],
   "source": [
    "A_df_org.to_csv('A_df_org_heat-5.csv', index=False)\n",
    "B_df_org.to_csv('B_df_org_heat-5.csv', index=False)"
   ]
  },
  {
   "cell_type": "markdown",
   "id": "05baa102-f2ff-410e-afe0-bce1e9b69f06",
   "metadata": {},
   "source": [
    "## Generation of A, B, and C"
   ]
  },
  {
   "cell_type": "code",
   "execution_count": 67,
   "id": "c8a505f1-cd85-448d-83ae-be7ed8bfa349",
   "metadata": {},
   "outputs": [],
   "source": [
    "A_df = copy.copy(A_df_org)\n",
    "B_df = copy.copy(B_df_org)"
   ]
  },
  {
   "cell_type": "code",
   "execution_count": 68,
   "id": "4f1c85d9-0adf-4241-ac32-b9a791c20ed5",
   "metadata": {},
   "outputs": [],
   "source": [
    "#Building A matrix\n",
    "# Step 1: Delete the first 10 columns\n",
    "A_df = A_df.drop(A_df.columns[:10], axis=1)\n",
    "\n",
    "# Step 2: Delete the first 10 rows \n",
    "A_df = A_df.iloc[10:]\n",
    "\n",
    "#Replacing empty values with zero and getting the final A matrix\n",
    "A=A_df\n",
    "A=A.replace(np.nan, 0)\n",
    "A=np.array(A,dtype='float64')"
   ]
  },
  {
   "cell_type": "code",
   "execution_count": 69,
   "id": "9e5e9f0d-8566-43b9-8379-0ab3f85737b3",
   "metadata": {},
   "outputs": [],
   "source": [
    "# Building B matrix\n",
    "# Step 1: Delete the first 7 columns\n",
    "B_df = B_df.drop(B_df.columns[:7], axis=1)\n",
    "\n",
    "# Step 2: Delete the first 10 rows (first row is heading, so put 3)\n",
    "B_df = B_df.iloc[10:]\n",
    "\n",
    "# Replacing empty values with zero\n",
    "B_df = B_df.replace(np.nan, 0)\n",
    "\n",
    "# Converting all elements to float, handling empty strings and stripping whitespace\n",
    "def convert_to_float(x):\n",
    "    if isinstance(x, str):\n",
    "        x = x.strip()  # Remove any leading/trailing whitespace\n",
    "        if x == '':  # Handle empty strings\n",
    "            return 0.0\n",
    "        try:\n",
    "            return float(x)\n",
    "        except ValueError:\n",
    "            return 0.0  # Or raise an error if you want to catch non-numeric strings\n",
    "    return x\n",
    "\n",
    "B_df = B_df.applymap(convert_to_float)\n",
    "\n",
    "# Converting to a NumPy array\n",
    "B = np.array(B_df, dtype=float)"
   ]
  },
  {
   "cell_type": "code",
   "execution_count": 70,
   "id": "43a9dfcc-cfce-4f16-b373-fe66fbf3a464",
   "metadata": {},
   "outputs": [],
   "source": [
    "#Building C matrix\n",
    "# Step 1: Delete the first 7 columns\n",
    "C_df = C_df.drop(C_df.columns[:7], axis=1)\n",
    "\n",
    "# Step 2: Delete the first 5 rows (first row is heading, so put 3)\n",
    "C_df = C_df.iloc[5:]\n",
    "\n",
    "#Replacing empty values with zero and getting the final B matrix\n",
    "C=C_df\n",
    "C=C.replace(np.nan, 0)\n",
    "C=np.array(C,dtype='float64')"
   ]
  },
  {
   "cell_type": "code",
   "execution_count": 71,
   "id": "64561d1d-7438-47eb-931a-c958db5282a6",
   "metadata": {},
   "outputs": [],
   "source": [
    "#Functional Unit\n",
    "# F = 168.450 million metric tons = 168,450,000 metric tons = 168,450,000,000 kg\n",
    "F=168450000000\n",
    "F=int(F)\n",
    "#defining f matrix\n",
    "f=np.zeros(len(A))\n",
    "f[0]=F"
   ]
  },
  {
   "cell_type": "code",
   "execution_count": 72,
   "id": "e87f450f-9d6e-44da-8034-823281390d20",
   "metadata": {},
   "outputs": [],
   "source": [
    "C_gwp_wo_seq= np.transpose(C)[[0]]\n",
    "coef_GWP_wo_seq = C_gwp_wo_seq@B\n",
    "coef_GWP_wo_seq = np.array(coef_GWP_wo_seq)\n",
    "coef_GWP_wo_seq = coef_GWP_wo_seq.reshape(-1)"
   ]
  },
  {
   "cell_type": "code",
   "execution_count": 73,
   "id": "2e0a2664-6867-4a8c-b9f4-387e2db1920e",
   "metadata": {},
   "outputs": [
    {
     "data": {
      "text/plain": [
       "{'Problem': [{'Name': 'x128', 'Lower bound': 192711620001.48285, 'Upper bound': 192711620001.48285, 'Number of objectives': 1, 'Number of constraints': 238, 'Number of variables': 128, 'Number of binary variables': 0, 'Number of integer variables': 0, 'Number of continuous variables': 128, 'Number of nonzeros': 668, 'Sense': 'minimize'}], 'Solver': [{'Status': 'ok', 'Return code': '0', 'Message': 'Model was solved to optimality (subject to tolerances), and an optimal solution is available.', 'Termination condition': 'optimal', 'Termination message': 'Model was solved to optimality (subject to tolerances), and an optimal solution is available.', 'Wall time': '0.012444019317626953', 'Error rc': 0, 'Time': 0.13211870193481445}], 'Solution': [OrderedDict([('number of solutions', 0), ('number of solutions displayed', 0)])]}"
      ]
     },
     "execution_count": 73,
     "metadata": {},
     "output_type": "execute_result"
    }
   ],
   "source": [
    "#Model Formulation\n",
    "# Create the model\n",
    "model = ConcreteModel()\n",
    "# List of processes with negative scaling factor due to open loop recovery and substitution approach\n",
    "negative_s_indices = []\n",
    "positive_s_indices = []\n",
    "all_s_indices = []\n",
    "\n",
    "search_elements_zero = [#'High-tech MRF',\n",
    "                        #'Med-tech MRF',\n",
    "                        #'Low-tech MRF',\n",
    "                        'bio-ethylene production (monomer)',\n",
    "                        'bio-propylene production (monomer)',\n",
    "                        'bio-EG production (monomer)',\n",
    "                        'bio-styrene production (monomer)',\n",
    "                        'bio-vinyl chloride production (monomer)',]\n",
    "\n",
    "search_elements_zero_or_negative = []\n",
    "\n",
    "search_elements_zero_or_negative_or_positive = []\n",
    "\n",
    "#Search for elements in the first row of the DataFrame\n",
    "negative_s_indices = [A_df_org.iloc[0,:].tolist().index(elem) for elem in search_elements_zero_or_negative]\n",
    "negative_s_indices = [i-9 for i in negative_s_indices]\n",
    "zero_s_indices = [A_df_org.iloc[0,:].tolist().index(elem) for elem in search_elements_zero]\n",
    "zero_s_indices = [i-9 for i in zero_s_indices]\n",
    "all_s_indices = list(range(1, len(np.transpose(A))+1))\n",
    "positive_s_indices = all_s_indices\n",
    "\n",
    "\n",
    "# Define the decision variable\n",
    "model.set_s = RangeSet(len(np.transpose(A)))\n",
    "model.s = Var(model.set_s)\n",
    "model.set_negative_scale = Set(initialize=negative_s_indices)\n",
    "model.set_positive_scale = Set(initialize=positive_s_indices)\n",
    "model.set_zero_scale = Set(initialize=zero_s_indices)\n",
    "\n",
    "\n",
    "e = 0\n",
    "#model constraint: As = f and s>=0\n",
    "model.set_balance = RangeSet(len(f))\n",
    "def balance(model, p): # As = f\n",
    "    return sum(A[p-1,i-1]*model.s[i] for i in model.set_s) == f[p-1]\n",
    "def negative_scale(model, i):\n",
    "    return (model.s[i]<=0)\n",
    "def positive_scale(model, i):\n",
    "    return (model.s[i]>=e)\n",
    "def zero_scale(model, i):\n",
    "    return (model.s[i]==e)\n",
    "\n",
    "model.balance_constraints = Constraint(model.set_balance, rule=balance)\n",
    "#model.negative_scale_constraints = Constraint(model.set_negative_scale, rule=negative_scale)\n",
    "model.positive_scale_constraints = Constraint(model.set_positive_scale, rule=positive_scale)\n",
    "model.zero_scale_constraints = Constraint(model.set_zero_scale, rule=zero_scale)\n",
    "\n",
    "\n",
    "model.obj = Objective(expr = sum(coef_GWP_wo_seq[i-1]*model.s[i] for i in model.set_s), sense=minimize)\n",
    "#Solver\n",
    "solver = SolverFactory('gurobi')\n",
    "solver.solve(model) # solves and updates instance"
   ]
  },
  {
   "cell_type": "code",
   "execution_count": 74,
   "id": "c1c4434a-b748-4496-9fd3-7c9d5d91223f",
   "metadata": {},
   "outputs": [],
   "source": [
    "#total CO2 emission (kg CO2eq)\n",
    "GWP_best_wo_seq = value(model.obj)"
   ]
  },
  {
   "cell_type": "code",
   "execution_count": 75,
   "id": "6d76704c-1cb5-4838-b14b-763b72ba5b2a",
   "metadata": {},
   "outputs": [
    {
     "data": {
      "text/plain": [
       "192711620001.48288"
      ]
     },
     "execution_count": 75,
     "metadata": {},
     "output_type": "execute_result"
    }
   ],
   "source": [
    "GWP_best_wo_seq"
   ]
  },
  {
   "cell_type": "code",
   "execution_count": 76,
   "id": "7bcd516e-10f7-43a6-bec4-fa84b51cce9e",
   "metadata": {},
   "outputs": [],
   "source": [
    "#kg CO2 eq per kg of packaging product\n",
    "GWP_best_wo_seq_per_kg = value(model.obj)/168450000000 "
   ]
  },
  {
   "cell_type": "code",
   "execution_count": 77,
   "id": "c8f5330f-b014-4bdd-be77-c18dbcfcfdb8",
   "metadata": {},
   "outputs": [
    {
     "data": {
      "text/plain": [
       "1.1440286138408007"
      ]
     },
     "execution_count": 77,
     "metadata": {},
     "output_type": "execute_result"
    }
   ],
   "source": [
    "GWP_best_wo_seq_per_kg"
   ]
  },
  {
   "cell_type": "code",
   "execution_count": 78,
   "id": "96ae6783-6a0b-4eb7-a371-f43c6bda4b4d",
   "metadata": {},
   "outputs": [],
   "source": [
    "scaling_factors_wo_seq = []\n",
    "for j in model.s:\n",
    "    scaling_factors_wo_seq.append(model.s[j].value)  "
   ]
  },
  {
   "cell_type": "code",
   "execution_count": 79,
   "id": "204937d3-077f-477a-90d1-9dd2a83086d7",
   "metadata": {},
   "outputs": [
    {
     "data": {
      "text/plain": [
       "[13691834266.46352, 0.0, 0.0]"
      ]
     },
     "execution_count": 79,
     "metadata": {},
     "output_type": "execute_result"
    }
   ],
   "source": [
    "#1. monomer production\n",
    "#ethylene\n",
    "ethylene_s_indices = []\n",
    "scaling_factors_ethylene = []\n",
    "search_elements_ethylene = [\n",
    "    'fossil-ethylene production (monomer)',\n",
    "    'pyrolysis (monomer production), HDPE sorted',\n",
    "    'pyrolysis (monomer production), LDPE sorted'\n",
    "]\n",
    "ethylene_s_indices = [A_df_org.iloc[0,:].tolist().index(elem) for elem in search_elements_ethylene]\n",
    "ethylene_s_indices = [i-9 for i in ethylene_s_indices]\n",
    "for j in ethylene_s_indices:\n",
    "    scaling_factors_ethylene.append(model.s[j].value)\n",
    "scaling_factors_ethylene"
   ]
  },
  {
   "cell_type": "code",
   "execution_count": 80,
   "id": "accd68b1-f8b6-4d67-8734-efde321c59b1",
   "metadata": {},
   "outputs": [
    {
     "data": {
      "text/plain": [
       "[6660980804.936775, 0.0]"
      ]
     },
     "execution_count": 80,
     "metadata": {},
     "output_type": "execute_result"
    }
   ],
   "source": [
    "#propylene\n",
    "propylene_s_indices = []\n",
    "scaling_factors_propylene = []\n",
    "search_elements_propylene = [\n",
    "    'fossil-propylene production (monomer)',\n",
    "    'pyrolysis (monomer production), PP sorted',\n",
    "]\n",
    "propylene_s_indices = [A_df_org.iloc[0,:].tolist().index(elem) for elem in search_elements_propylene]\n",
    "propylene_s_indices = [i-9 for i in propylene_s_indices]\n",
    "for j in propylene_s_indices:\n",
    "    scaling_factors_propylene.append(model.s[j].value)\n",
    "scaling_factors_propylene   "
   ]
  },
  {
   "cell_type": "code",
   "execution_count": 81,
   "id": "79c718f6-f8de-40c4-b917-c7e347ef3556",
   "metadata": {},
   "outputs": [
    {
     "data": {
      "text/plain": [
       "[2985904507.0877905, 0.0, 0.0]"
      ]
     },
     "execution_count": 81,
     "metadata": {},
     "output_type": "execute_result"
    }
   ],
   "source": [
    "#MEG\n",
    "MEG_s_indices = []\n",
    "scaling_factors_MEG = []\n",
    "search_elements_MEG = [\n",
    "    'fossil-EG production (monomer)',\n",
    "    'depolymerization, enzymatic hyrdrolysis, PET sorted',\n",
    "    'depolymerization, glycolysis, PET sorted'\n",
    "]\n",
    "MEG_s_indices = [A_df_org.iloc[0,:].tolist().index(elem) for elem in search_elements_MEG]\n",
    "MEG_s_indices = [i-9 for i in MEG_s_indices]\n",
    "for j in MEG_s_indices:\n",
    "    scaling_factors_MEG.append(model.s[j].value)\n",
    "scaling_factors_MEG   "
   ]
  },
  {
   "cell_type": "code",
   "execution_count": 82,
   "id": "c95a45bd-d248-46e9-ba51-fc7ce3defcc9",
   "metadata": {},
   "outputs": [
    {
     "data": {
      "text/plain": [
       "[1688756840.8414593, 0.0]"
      ]
     },
     "execution_count": 82,
     "metadata": {},
     "output_type": "execute_result"
    }
   ],
   "source": [
    "#styrene\n",
    "styrene_s_indices = []\n",
    "scaling_factors_styrene = []\n",
    "search_elements_styrene = [\n",
    "    'fossil-styrene production (monomer)',\n",
    "    'chemical recycling with metal oxide, PS sorted',\n",
    "]\n",
    "styrene_s_indices = [A_df_org.iloc[0,:].tolist().index(elem) for elem in search_elements_styrene]\n",
    "styrene_s_indices = [i-9 for i in styrene_s_indices]\n",
    "for j in styrene_s_indices:\n",
    "    scaling_factors_styrene.append(model.s[j].value)\n",
    "scaling_factors_styrene "
   ]
  },
  {
   "cell_type": "code",
   "execution_count": 83,
   "id": "2caff8b2-101b-4aac-ace2-db2217cc0ca5",
   "metadata": {},
   "outputs": [
    {
     "data": {
      "text/plain": [
       "[578502596.1822491]"
      ]
     },
     "execution_count": 83,
     "metadata": {},
     "output_type": "execute_result"
    }
   ],
   "source": [
    "#vinyl chloride\n",
    "vinyl_chloride_s_indices = []\n",
    "scaling_factors_vinyl_chloride = []\n",
    "search_elements_vinyl_chloride = [\n",
    "    'fossil-vinyl chloride production (monomer)',\n",
    "]\n",
    "vinyl_chloride_s_indices = [A_df_org.iloc[0,:].tolist().index(elem) for elem in search_elements_vinyl_chloride]\n",
    "vinyl_chloride_s_indices = [i-9 for i in vinyl_chloride_s_indices]\n",
    "for j in vinyl_chloride_s_indices:\n",
    "    scaling_factors_vinyl_chloride.append(model.s[j].value)\n",
    "scaling_factors_vinyl_chloride  "
   ]
  },
  {
   "cell_type": "code",
   "execution_count": 84,
   "id": "d46a6c33-f52a-410a-ba31-ccadf91633da",
   "metadata": {},
   "outputs": [
    {
     "data": {
      "text/plain": [
       "[0.0, 18819234.0, 6456698222.681558, 26814375192.7485]"
      ]
     },
     "execution_count": 84,
     "metadata": {},
     "output_type": "execute_result"
    }
   ],
   "source": [
    "# 2. polymers\n",
    "#polyethylene\n",
    "scaling_factors_polyethylene = []\n",
    "polyethylene_s_indices = []\n",
    "search_elements_polyethylene = [\n",
    "    'advanced recycling, STRAP, multi-layer plastic packaging',\n",
    "    'advanced recycling, delamination, multi-layer plastic packaging',\n",
    "    'LDPE production',\n",
    "    'mechanical recycling, LDPE sorted'\n",
    "]\n",
    "polyethylene_s_indices = [A_df_org.iloc[0,:].tolist().index(elem) for elem in search_elements_polyethylene]\n",
    "polyethylene_s_indices = [i-9 for i in polyethylene_s_indices]\n",
    "for j in polyethylene_s_indices:\n",
    "    scaling_factors_polyethylene.append(model.s[j].value)\n",
    "scaling_factors_polyethylene"
   ]
  },
  {
   "cell_type": "code",
   "execution_count": 85,
   "id": "897c6c05-cb5c-4b07-a3f2-8a3c32678e74",
   "metadata": {},
   "outputs": [
    {
     "data": {
      "text/plain": [
       "[18819234.0, 0.0, 7340555390.756783, 28225369457.71275]"
      ]
     },
     "execution_count": 85,
     "metadata": {},
     "output_type": "execute_result"
    }
   ],
   "source": [
    "#polyethylene\n",
    "scaling_factors_polyethylene = []\n",
    "polyethylene_s_indices = []\n",
    "search_elements_polyethylene = [\n",
    "    'advanced recycling, delamination, multi-layer plastic packaging',\n",
    "    'advanced recycling, STRAP, multi-layer plastic packaging',\n",
    "    'HDPE production',\n",
    "    'mechanical recycling, HDPE sorted'\n",
    "]\n",
    "polyethylene_s_indices = [A_df_org.iloc[0,:].tolist().index(elem) for elem in search_elements_polyethylene]\n",
    "polyethylene_s_indices = [i-9 for i in polyethylene_s_indices]\n",
    "for j in polyethylene_s_indices:\n",
    "    scaling_factors_polyethylene.append(model.s[j].value)\n",
    "scaling_factors_polyethylene"
   ]
  },
  {
   "cell_type": "code",
   "execution_count": 86,
   "id": "9a6f3ebb-df9d-4df0-b46f-f77b26a81bb5",
   "metadata": {},
   "outputs": [
    {
     "data": {
      "text/plain": [
       "[18819234.0, 0.0, 9983212384.287066, 38386721832.027]"
      ]
     },
     "execution_count": 86,
     "metadata": {},
     "output_type": "execute_result"
    }
   ],
   "source": [
    "#polypropylene\n",
    "scaling_factors_polypropylene = []\n",
    "polypropylene_s_indices = []\n",
    "search_elements_polypropylene = [\n",
    "    'advanced recycling, delamination, multi-layer plastic packaging',\n",
    "    'advanced recycling, STRAP, multi-layer plastic packaging',\n",
    "    'PP production',\n",
    "    'mechanical recycling, PP sorted'\n",
    "]\n",
    "polypropylene_s_indices = [A_df_org.iloc[0,:].tolist().index(elem) for elem in search_elements_polypropylene]\n",
    "polypropylene_s_indices = [i-9 for i in polypropylene_s_indices]\n",
    "for j in polypropylene_s_indices:\n",
    "    scaling_factors_polypropylene.append(model.s[j].value)\n",
    "scaling_factors_polypropylene"
   ]
  },
  {
   "cell_type": "code",
   "execution_count": 87,
   "id": "81d4770e-9cc8-4a69-ac2a-0afb60d4691f",
   "metadata": {},
   "outputs": [
    {
     "data": {
      "text/plain": [
       "[18819234.0, 0.0, 8649781306.743309, 29197631480.53125]"
      ]
     },
     "execution_count": 87,
     "metadata": {},
     "output_type": "execute_result"
    }
   ],
   "source": [
    "#polyethylene terephthalate\n",
    "scaling_factors_PET = []\n",
    "PET_s_indices = []\n",
    "search_elements_PET = [\n",
    "    'advanced recycling, delamination, multi-layer plastic packaging',\n",
    "    'advanced recycling, STRAP, multi-layer plastic packaging',\n",
    "    'PET production',\n",
    "    'mechanical recycling, PET sorted'\n",
    "]\n",
    "PET_s_indices = [A_df_org.iloc[0,:].tolist().index(elem) for elem in search_elements_PET]\n",
    "PET_s_indices = [i-9 for i in PET_s_indices]\n",
    "for j in PET_s_indices:\n",
    "    scaling_factors_PET.append(model.s[j].value)\n",
    "scaling_factors_PET"
   ]
  },
  {
   "cell_type": "code",
   "execution_count": 88,
   "id": "26ed771a-eb35-47cb-a6d3-47ba201f92d6",
   "metadata": {},
   "outputs": [
    {
     "data": {
      "text/plain": [
       "[18819234.0, 0.0, 1712735132.6992488, 6585684505.610024]"
      ]
     },
     "execution_count": 88,
     "metadata": {},
     "output_type": "execute_result"
    }
   ],
   "source": [
    "#polystyrene terephthalate\n",
    "scaling_factors_PS = []\n",
    "PS_s_indices = []\n",
    "search_elements_PS = [\n",
    "    'advanced recycling, delamination, multi-layer plastic packaging',\n",
    "    'advanced recycling, STRAP, multi-layer plastic packaging',\n",
    "    'PS production',\n",
    "    'mechanical recycling, PS sorted'\n",
    "]\n",
    "PS_s_indices = [A_df_org.iloc[0,:].tolist().index(elem) for elem in search_elements_PS]\n",
    "PS_s_indices = [i-9 for i in PS_s_indices]\n",
    "for j in PS_s_indices:\n",
    "    scaling_factors_PS.append(model.s[j].value)\n",
    "scaling_factors_PS"
   ]
  },
  {
   "cell_type": "code",
   "execution_count": 89,
   "id": "f0a48c0d-b77e-46ac-a5d4-1ee136b20fb8",
   "metadata": {},
   "outputs": [
    {
     "data": {
      "text/plain": [
       "[18819234.0, 0.0, 580243326.1607313, 2509178.1319714095]"
      ]
     },
     "execution_count": 89,
     "metadata": {},
     "output_type": "execute_result"
    }
   ],
   "source": [
    "#polyvinyl chloride\n",
    "scaling_factors_PVC = []\n",
    "PVC_s_indices = []\n",
    "search_elements_PVC = [\n",
    "    'advanced recycling, delamination, multi-layer plastic packaging',\n",
    "    'advanced recycling, STRAP, multi-layer plastic packaging',\n",
    "    'PVC production',\n",
    "    'mechanical recycling, PVC sorted'\n",
    "]\n",
    "PVC_s_indices = [A_df_org.iloc[0,:].tolist().index(elem) for elem in search_elements_PVC]\n",
    "PVC_s_indices = [i-9 for i in PVC_s_indices]\n",
    "for j in PVC_s_indices:\n",
    "    scaling_factors_PVC.append(model.s[j].value)\n",
    "scaling_factors_PVC"
   ]
  },
  {
   "cell_type": "code",
   "execution_count": 90,
   "id": "7665347a-401c-4873-881a-cb27c18aa461",
   "metadata": {},
   "outputs": [
    {
     "data": {
      "text/plain": [
       "[0.0, 0.0, 160027500000.0, 0.0, 0.0]"
      ]
     },
     "execution_count": 90,
     "metadata": {},
     "output_type": "execute_result"
    }
   ],
   "source": [
    "#3. mixed plastic collected waste (sorting, energy recovery, landfill, mismanaged)\n",
    "\n",
    "scaling_factors_mixed = []\n",
    "mixed_s_indices = []\n",
    "search_elements_mixed = [\n",
    "    'incineration, electricity recovery, plastic packaging waste',\n",
    "    'landfill, plastic packaging waste',\n",
    "    'High-tech MRF',\n",
    "    'Med-tech MRF',\n",
    "    'Low-tech MRF',\n",
    "]\n",
    "mixed_s_indices = [A_df_org.iloc[0,:].tolist().index(elem) for elem in search_elements_mixed]\n",
    "mixed_s_indices = [i-9 for i in mixed_s_indices]\n",
    "for j in mixed_s_indices:\n",
    "    scaling_factors_mixed.append(model.s[j].value)\n",
    "scaling_factors_mixed"
   ]
  },
  {
   "cell_type": "code",
   "execution_count": 91,
   "id": "f3ec350e-7562-4b20-a417-20d96c02ff52",
   "metadata": {},
   "outputs": [
    {
     "data": {
      "text/plain": [
       "[0.0, 0.0, 0.0, 0.0, 0.0]"
      ]
     },
     "execution_count": 91,
     "metadata": {},
     "output_type": "execute_result"
    }
   ],
   "source": [
    "#4. mixed plastic waste, sorted (sorting, energy recovery, landfill, mismanaged)\n",
    "\n",
    "scaling_factors_mixed = []\n",
    "mixed_s_indices = []\n",
    "search_elements_mixed = [\n",
    "    'cement clinker, mixed plastic packaging, sorted',\n",
    "    'plastic lumber production from sorted mixed plastic waste',\n",
    "    'pyrolysis, feedstock recycling, mixed plastic waste, sorted',\n",
    "    'PET fiber production from sorted PET waste',\n",
    "    'road pavement production from sorted mixed plastic waste'\n",
    "]\n",
    "mixed_s_indices = [A_df_org.iloc[0,:].tolist().index(elem) for elem in search_elements_mixed]\n",
    "mixed_s_indices = [i-9 for i in mixed_s_indices]\n",
    "for j in mixed_s_indices:\n",
    "    scaling_factors_mixed.append(model.s[j].value)\n",
    "scaling_factors_mixed"
   ]
  },
  {
   "cell_type": "code",
   "execution_count": 92,
   "id": "86649a07-9522-412c-8000-92899cb589a3",
   "metadata": {},
   "outputs": [
    {
     "data": {
      "text/plain": [
       "[24017538114.78966, 0.0]"
      ]
     },
     "execution_count": 92,
     "metadata": {},
     "output_type": "execute_result"
    }
   ],
   "source": [
    "#5. Plastic residues\n",
    "scaling_factors_mixed = []\n",
    "mixed_s_indices = []\n",
    "search_elements_mixed = [\n",
    "    'landfill, plastic residues',\n",
    "    'incineration, electricity recovery, plastic residues'\n",
    "]\n",
    "mixed_s_indices = [A_df_org.iloc[0,:].tolist().index(elem) for elem in search_elements_mixed]\n",
    "mixed_s_indices = [i-9 for i in mixed_s_indices]\n",
    "for j in mixed_s_indices:\n",
    "    scaling_factors_mixed.append(model.s[j].value)\n",
    "scaling_factors_mixed"
   ]
  },
  {
   "cell_type": "code",
   "execution_count": 93,
   "id": "9a27fd34-6948-4f8d-b389-c0ce6f27d9c0",
   "metadata": {},
   "outputs": [
    {
     "data": {
      "text/plain": [
       "[198058799010.88776,\n",
       " 310005076712.69385,\n",
       " 25833756392.724487,\n",
       " 77501269178.17346,\n",
       " 68890017047.2653,\n",
       " 51667512785.448975,\n",
       " 120557529832.7143,\n",
       " 17222504261.816326,\n",
       " 0.0,\n",
       " 0.0]"
      ]
     },
     "execution_count": 93,
     "metadata": {},
     "output_type": "execute_result"
    }
   ],
   "source": [
    "#6. Energy Grid\n",
    "scaling_factors_mixed = []\n",
    "mixed_s_indices = []\n",
    "search_elements_mixed = [\n",
    "        'Electrcity, natural gas ',\n",
    "        'Electrcity, coal',\n",
    "        'Electrcity, oil',\n",
    "        'Electrcity, nuclear',\n",
    "        'Electrcity, wind',\n",
    "        'Electricity, solar',\n",
    "        'Electricity, hydropower',\n",
    "        'Electrcity, biopower',\n",
    "        'Electrcity, geothermal',\n",
    "        'Electrcity, ocean energy']\n",
    "mixed_s_indices = [A_df_org.iloc[0,:].tolist().index(elem) for elem in search_elements_mixed]\n",
    "mixed_s_indices = [i-9 for i in mixed_s_indices]\n",
    "for j in mixed_s_indices:\n",
    "    scaling_factors_mixed.append(model.s[j].value)\n",
    "scaling_factors_mixed"
   ]
  },
  {
   "cell_type": "markdown",
   "id": "d09453fe-d763-454f-adec-69ef6e8c196a",
   "metadata": {
    "jp-MarkdownHeadingCollapsed": true,
    "tags": []
   },
   "source": [
    "# Scenario 3: Renewable"
   ]
  },
  {
   "cell_type": "markdown",
   "id": "bea9238b-b0c2-4a37-8901-3ae018b4e1ab",
   "metadata": {},
   "source": [
    "## b:  Electricity generation UUIDs in USLCI"
   ]
  },
  {
   "cell_type": "code",
   "execution_count": 12,
   "id": "3a113c93-6a13-45f3-abe0-438ae178c976",
   "metadata": {},
   "outputs": [],
   "source": [
    "electricity_processes = ['Electrcity, solar photovoltatic',\n",
    "                         'Electricity',\n",
    "                         'Electricity, at cogen, for natural gas turbine',\n",
    "                         'Electricity, at Grid, US, 2010',\n",
    "                         'Electricity, biomass, at power plant',\n",
    "                         'Electricity, bituminous coal, at power plant',\n",
    "                         'Electricity, concentrated solar power (CSP)',\n",
    "                         'Electricity, diesel, at power plant',\n",
    "                         'Electricity, Eastern US, 2014',\n",
    "                         'Electricity, lignite coal, at power plant',\n",
    "                         'Electricity, natural gas, at power plant',\n",
    "                         'Electricity, nuclear, at power plant',\n",
    "                         'Electricity, residual fuel oil, at power plant',\n",
    "                         'Electricity, solar'\n",
    "                            ]"
   ]
  },
  {
   "cell_type": "code",
   "execution_count": 13,
   "id": "b1f069dc-f257-4eb9-b6a3-d2d08968834a",
   "metadata": {},
   "outputs": [],
   "source": [
    "#finding columns in A with electricity generation\n",
    "store_index_electricity_A_col = []\n",
    "stored_index_A = 0\n",
    "for i in range(len(A_df_org.T)):\n",
    "    if str(A_df_org.iloc[0, i]) in electricity_processes:\n",
    "        stored_index_A = i\n",
    "        store_index_electricity_A_col.append(stored_index_A)"
   ]
  },
  {
   "cell_type": "code",
   "execution_count": 14,
   "id": "edd75526-90a8-414d-9532-a0883f46cab9",
   "metadata": {},
   "outputs": [],
   "source": [
    "#finding rows in A with electricity generation\n",
    "store_index_electricity_A_row = []\n",
    "stored_index_A = 0\n",
    "for i in range(len(A_df_org)):\n",
    "    if str(A_df_org.iloc[i, 0]) in electricity_processes:\n",
    "        stored_index_A = i\n",
    "        store_index_electricity_A_row.append(stored_index_A)"
   ]
  },
  {
   "cell_type": "code",
   "execution_count": 15,
   "id": "782bec5e-6462-48c8-92e6-5f030f7dee01",
   "metadata": {},
   "outputs": [],
   "source": [
    "#finding columns in B with electricity generation\n",
    "store_index_electricity_B = []\n",
    "stored_index_B = 0\n",
    "for i in range(len(B_df_org.T)):\n",
    "    if str(B_df_org.iloc[0, i]) in electricity_processes:\n",
    "        stored_index_B = i\n",
    "        store_index_electricity_B.append(stored_index_B)"
   ]
  },
  {
   "cell_type": "markdown",
   "id": "37e95bc9-0265-4e14-a91e-51c62e940091",
   "metadata": {},
   "source": [
    "### Removing corresponding electricity columns from A and B"
   ]
  },
  {
   "cell_type": "code",
   "execution_count": 16,
   "id": "016bb8fe-3c09-477f-bb31-5fe12a86de04",
   "metadata": {},
   "outputs": [],
   "source": [
    "A_df_org = A_df_org.drop(A_df_org.columns[store_index_electricity_A_col], axis=1)\n",
    "B_df_org = B_df_org.drop(B_df_org.columns[store_index_electricity_B], axis=1)"
   ]
  },
  {
   "cell_type": "markdown",
   "id": "77d046e8-5c62-49a8-963a-ef030eacdfdf",
   "metadata": {},
   "source": [
    "### Aggregating all electricity flows in each process"
   ]
  },
  {
   "cell_type": "code",
   "execution_count": 17,
   "id": "1bfe2904-376c-4e9a-9302-8f32db4c7737",
   "metadata": {},
   "outputs": [],
   "source": [
    "electricity_sums = np.sum(np.array(A_df_org.loc[store_index_electricity_A_row].iloc[:, 10:].replace(np.nan, 0), dtype=float), axis=0)"
   ]
  },
  {
   "cell_type": "code",
   "execution_count": 18,
   "id": "2d981312-2730-4133-9a12-1933d6657b4b",
   "metadata": {},
   "outputs": [],
   "source": [
    "# Reset index and drop the old index\n",
    "A_df_org_tr = A_df_org.T.reset_index(drop=True)"
   ]
  },
  {
   "cell_type": "code",
   "execution_count": 19,
   "id": "a734c18a-028f-4488-a6a1-4306c117601b",
   "metadata": {
    "tags": []
   },
   "outputs": [],
   "source": [
    "A_df_org = A_df_org_tr.T"
   ]
  },
  {
   "cell_type": "code",
   "execution_count": 20,
   "id": "8bf3145b-8b85-4baa-9346-c52c956f0504",
   "metadata": {},
   "outputs": [],
   "source": [
    "# Reset index and drop the old index\n",
    "B_df_org_tr = B_df_org.T.reset_index(drop=True)"
   ]
  },
  {
   "cell_type": "code",
   "execution_count": 21,
   "id": "f5f6564a-eb50-425d-8219-e9a4dc14e522",
   "metadata": {
    "tags": []
   },
   "outputs": [],
   "source": [
    "B_df_org = B_df_org_tr.T"
   ]
  },
  {
   "cell_type": "markdown",
   "id": "604cc021-6b9b-4764-969a-41116ec62426",
   "metadata": {},
   "source": [
    "### Removing electricity rows from A"
   ]
  },
  {
   "cell_type": "code",
   "execution_count": 22,
   "id": "1def9436-03ef-43ce-8bfa-f27831bcd08b",
   "metadata": {},
   "outputs": [],
   "source": [
    "A_df_org = A_df_org.drop(A_df_org.columns[store_index_electricity_A_row], axis=0)"
   ]
  },
  {
   "cell_type": "markdown",
   "id": "0354d295-43a2-4f67-b211-65fea07c38e9",
   "metadata": {
    "tags": []
   },
   "source": [
    "### Add new electricity rows and columns"
   ]
  },
  {
   "cell_type": "code",
   "execution_count": 23,
   "id": "f29ee47c-8764-4e66-9714-c24862e580ca",
   "metadata": {},
   "outputs": [],
   "source": [
    "new_elec = [\n",
    "        'Electrcity, natural gas ',\n",
    "        'Electrcity, coal',\n",
    "        'Electrcity, oil',\n",
    "        'Electrcity, nuclear',\n",
    "        'Electrcity, wind',\n",
    "        'Electricity, solar',\n",
    "        'Electricity, hydropower',\n",
    "        'Electrcity, biopower',\n",
    "        'Electrcity, geothermal',\n",
    "        'Electrcity, ocean energy']\n",
    "\n",
    "new_elec_row = [\n",
    "        'Electricity']"
   ]
  },
  {
   "cell_type": "code",
   "execution_count": 24,
   "id": "e96c7556-d302-410f-a9a7-e363d2d9c660",
   "metadata": {},
   "outputs": [],
   "source": [
    "# Append new rows in A\n",
    "\n",
    "# Convert new_elec to a DataFrame\n",
    "new_elec_df = pd.DataFrame(new_elec_row) \n",
    "\n",
    "# Append new_elec to the first row\n",
    "A_df_org = pd.concat([A_df_org, new_elec_df], ignore_index=True)"
   ]
  },
  {
   "cell_type": "code",
   "execution_count": 25,
   "id": "f41d70bf-af98-4a33-a83d-34be02dc27fb",
   "metadata": {},
   "outputs": [],
   "source": [
    "# Append new columns in A\n",
    "for elec in new_elec:\n",
    "    A_df_org[elec] = None  # Create a new column with None values\n",
    "\n",
    "# Set the first row of each new column to the corresponding value\n",
    "for idx, elec in enumerate(new_elec):\n",
    "    A_df_org.at[0, elec] = elec  # Set the value in the first row"
   ]
  },
  {
   "cell_type": "code",
   "execution_count": 26,
   "id": "1e30e7e3-1bee-4799-b9dd-19f248955c3c",
   "metadata": {},
   "outputs": [],
   "source": [
    "# Append new columns in B\n",
    "for elec in new_elec:\n",
    "    B_df_org[elec] = None  # Create a new column with None values\n",
    "\n",
    "# Set the first row of each new column to the corresponding value\n",
    "for idx, elec in enumerate(new_elec):\n",
    "    B_df_org.at[0, elec] = elec  # Set the value in the first row"
   ]
  },
  {
   "cell_type": "code",
   "execution_count": 27,
   "id": "72d53fc6-ff9e-4d61-b0fa-2ff122cdf420",
   "metadata": {},
   "outputs": [],
   "source": [
    "# Reset index and drop the old index\n",
    "A_df_org_tr = A_df_org.T.reset_index(drop=True)"
   ]
  },
  {
   "cell_type": "code",
   "execution_count": 28,
   "id": "6cbfc174-7287-44ee-8608-eaa09198a85e",
   "metadata": {
    "tags": []
   },
   "outputs": [],
   "source": [
    "A_df_org = A_df_org_tr.T"
   ]
  },
  {
   "cell_type": "code",
   "execution_count": 29,
   "id": "96f94ef1-f5b2-458b-9f69-4b8c7674581f",
   "metadata": {},
   "outputs": [],
   "source": [
    "# Reset index and drop the old index\n",
    "B_df_org_tr = B_df_org.T.reset_index(drop=True)"
   ]
  },
  {
   "cell_type": "code",
   "execution_count": 30,
   "id": "c0bf9ce9-3676-414d-9c98-c94eb8fd2736",
   "metadata": {
    "tags": []
   },
   "outputs": [],
   "source": [
    "B_df_org = B_df_org_tr.T"
   ]
  },
  {
   "cell_type": "code",
   "execution_count": 31,
   "id": "02232f1f-df57-4b75-be6c-b715cb13e930",
   "metadata": {},
   "outputs": [],
   "source": [
    "A_df_org.reset_index(drop=True, inplace=True)"
   ]
  },
  {
   "cell_type": "code",
   "execution_count": 32,
   "id": "ad357e0c-0215-48e5-be49-d86432ff2970",
   "metadata": {},
   "outputs": [],
   "source": [
    "A_df_org.to_csv('A_df_org_electricity.csv', index=False)\n",
    "B_df_org.to_csv('B_df_org_electricity.csv', index=False)"
   ]
  },
  {
   "cell_type": "markdown",
   "id": "b87252ef-2e8c-4b82-9ab8-e12a7ff9da6f",
   "metadata": {},
   "source": [
    "## Heat"
   ]
  },
  {
   "cell_type": "code",
   "execution_count": 33,
   "id": "f282d5d8-b9f2-498c-b6ee-10652544b514",
   "metadata": {},
   "outputs": [],
   "source": [
    "heat_processes = [\n",
    "    '73cd1596-214d-3403-87f1-f69fc3818886', #'Bituminous coal, combusted in industrial boiler',\n",
    "    'e04995fa-935b-316c-b112-5b436c8ea3d6', #'Diesel, combusted in industrial boiler',\n",
    "    'f6e5887d-644b-44ee-bb9d-5c2fd3d07b4a', #'Heat',\n",
    "    '97624ce0-6d6a-3376-bfa7-c663b3c7e48d', #'Heat, onsite boiler, hardwood mill, average, SE',\n",
    "    '833c3f72-fbbe-37ea-adf8-929b47ec0255', #'Heat, onsite boiler, hardwood mill, average, SE',\n",
    "    'eb6394c1-0d19-3be3-99ab-ec572dec9926', #'Lignite coal, combusted in industrial boiler',\n",
    "    'f77da622-e84d-3639-8917-fcf792aaee13', #'Liquefied petroleum gas, combusted in industrial boiler',\n",
    "    'bb1dc159-fe13-3f8e-8197-361e8c770ba3', #'Natural gas, combusted in industrial boiler',\n",
    "    'f179160d-d402-3e37-8d65-93d09f309b99', #'Natural gas, combusted in industrial boiler, at hydrocracker, for ethylene',\n",
    "    'ea080df3-3823-3f40-89ed-1a45b561230e', #'Natural gas, combusted in industrial boiler, at hydrocracker, for pyrolysis gas',\n",
    "    '654a5cf6-185f-3d91-89ef-42442d1825e8', #'Residual fuel oil, combusted in industrial boiler',\n",
    "    '75c3bc19-9aeb-30a9-a43f-c862c7354c85', #Wood fuel, hardwood, generated at lumber mill, combusted in industrial boiler, SE\n",
    "    'ccf86743-6a0f-39d5-949e-6b2950bae209', #Wood fuel, hardwood, purchased, combusted in industrial boiler, SE\n",
    "    'ba4fbc4f-a9ab-387c-8bdd-9308dc19f404', #Wood fuel, unspecified\n",
    "    '1a76ed77-b97d-3070-85b7-b1f41906cece', #Wood waste, unspecified, combusted in industrial boiler\n",
    "]"
   ]
  },
  {
   "cell_type": "code",
   "execution_count": 34,
   "id": "f89b21fa-9cf9-4fb1-bb61-4477048a1c36",
   "metadata": {},
   "outputs": [],
   "source": [
    "Mj_per_unit = [23.9, #'Bituminous coal, combusted in industrial boiler',\n",
    "               37.4, #'Diesel, combusted in industrial boiler',\n",
    "               1, #'Heat',\n",
    "               1, #'Heat, onsite boiler, hardwood mill, average, SE',\n",
    "               1, #'Heat, onsite boiler, hardwood mill, average, SE',\n",
    "               23.9, #'Lignite coal, combusted in industrial boiler',\n",
    "               26, #'Liquefied petroleum gas, combusted in industrial boiler',\n",
    "               40, #'Natural gas, combusted in industrial boiler',\n",
    "               40, #'Natural gas, combusted in industrial boiler, at hydrocracker, for ethylene',\n",
    "               40, #'Natural gas, combusted in industrial boiler, at hydrocracker, for pyrolysis gas',\n",
    "               37, #'Residual fuel oil, combusted in industrial boiler',\n",
    "               16, #Wood fuel, hardwood, generated at lumber mill, combusted in industrial boiler, SE\n",
    "               16, #Wood fuel, hardwood, purchased, combusted in industrial boiler, SE\n",
    "               16, #Wood fuel, unspecified\n",
    "               16] #Wood waste, unspecified, combusted in industrial boiler"
   ]
  },
  {
   "cell_type": "code",
   "execution_count": 35,
   "id": "f4c5084f-a673-4c73-99b7-5bd1e79818d4",
   "metadata": {},
   "outputs": [],
   "source": [
    "boiler_efficiency = [1, 1, 1, 1, 1, 1, 1, 1, 1, 1, 1, 1, 1, 1, 1]"
   ]
  },
  {
   "cell_type": "code",
   "execution_count": 36,
   "id": "b2fc270c-eee1-4787-994e-dbdfde4880d0",
   "metadata": {},
   "outputs": [],
   "source": [
    "#step 1: identify all heat columns in A and B\n",
    "#finding columns in A with electricity generation\n",
    "store_index_heat_A_col = []\n",
    "stored_index_A = 0\n",
    "for i in range(len(A_df_org.T)):\n",
    "    if str(A_df_org.iloc[3, i]) in heat_processes:\n",
    "        stored_index_A = i\n",
    "        store_index_heat_A_col.append(stored_index_A)"
   ]
  },
  {
   "cell_type": "code",
   "execution_count": 37,
   "id": "7f597e0c-546e-418c-bab5-c25919bd2f44",
   "metadata": {},
   "outputs": [
    {
     "data": {
      "text/plain": [
       "[26, 36, 51, 52, 53, 69, 71, 91, 92, 93, 120, 131, 132, 133, 134]"
      ]
     },
     "execution_count": 37,
     "metadata": {},
     "output_type": "execute_result"
    }
   ],
   "source": [
    "store_index_heat_A_col"
   ]
  },
  {
   "cell_type": "code",
   "execution_count": 38,
   "id": "a43f7c0d-ed67-4fc0-9ed4-c2ce12caa05d",
   "metadata": {},
   "outputs": [],
   "source": [
    "#finding rows in A with electricity generation\n",
    "store_index_heat_A_row = []\n",
    "stored_index_A = 0\n",
    "for i in range(len(A_df_org)):\n",
    "    if str(A_df_org.iloc[i, 3]) in heat_processes:\n",
    "        stored_index_A = i\n",
    "        store_index_heat_A_row.append(stored_index_A)"
   ]
  },
  {
   "cell_type": "code",
   "execution_count": 39,
   "id": "c6600efa-1c15-41b7-b7fa-c9f0e16c5590",
   "metadata": {},
   "outputs": [
    {
     "data": {
      "text/plain": [
       "[25, 34, 43, 44, 45, 58, 60, 76, 77, 78, 99, 109, 110, 111, 112]"
      ]
     },
     "execution_count": 39,
     "metadata": {},
     "output_type": "execute_result"
    }
   ],
   "source": [
    "store_index_heat_A_row"
   ]
  },
  {
   "cell_type": "code",
   "execution_count": 40,
   "id": "7dd8c1e8-4943-4ebf-8893-174e8062da31",
   "metadata": {},
   "outputs": [],
   "source": [
    "#finding columns in B with electricity generation\n",
    "#finding columns in B with electricity generation\n",
    "store_index_heat_B = []\n",
    "stored_index_B = 0\n",
    "for i in range(len(B_df_org.T)):\n",
    "    if str(B_df_org.iloc[3, i]) in heat_processes:\n",
    "        stored_index_B = i\n",
    "        store_index_heat_B.append(stored_index_B)"
   ]
  },
  {
   "cell_type": "code",
   "execution_count": 41,
   "id": "6da1dd52-7a7e-40c0-a383-92dbd0d3810f",
   "metadata": {},
   "outputs": [
    {
     "data": {
      "text/plain": [
       "[23, 33, 48, 49, 50, 66, 68, 88, 89, 90, 117, 128, 129, 130, 131]"
      ]
     },
     "execution_count": 41,
     "metadata": {},
     "output_type": "execute_result"
    }
   ],
   "source": [
    "store_index_heat_B"
   ]
  },
  {
   "cell_type": "code",
   "execution_count": 42,
   "id": "673b754e-dd1a-419e-89a4-74c7e9eb5f46",
   "metadata": {},
   "outputs": [],
   "source": [
    "#Step 2: Remove heat columns from A and B\n",
    "A_df_org = A_df_org.drop(A_df_org.columns[store_index_heat_A_col], axis=1)\n",
    "B_df_org = B_df_org.drop(B_df_org.columns[store_index_heat_B], axis=1)"
   ]
  },
  {
   "cell_type": "code",
   "execution_count": 43,
   "id": "54f949c5-6a8e-431a-b74d-a3bffa8a60b4",
   "metadata": {},
   "outputs": [],
   "source": [
    "A_df_org.to_csv('A_df_org_heat-1.csv', index=False)\n",
    "B_df_org.to_csv('B_df_org_heat-1.csv', index=False)"
   ]
  },
  {
   "cell_type": "code",
   "execution_count": 44,
   "id": "653d498a-82ee-4f7a-8595-90271a532b4c",
   "metadata": {},
   "outputs": [],
   "source": [
    "X = np.array(Mj_per_unit) * np.array(boiler_efficiency)\n",
    "Y = np.array(A_df_org.loc[store_index_heat_A_row].iloc[:, 10:].replace(np.nan, 0), dtype=float)"
   ]
  },
  {
   "cell_type": "code",
   "execution_count": 45,
   "id": "51bf28ca-49c4-4104-a1a0-ab88de428480",
   "metadata": {},
   "outputs": [],
   "source": [
    "#Step 3: aggregate heat rows from A and B and convert them to absolute heat needed\n",
    "heat_sums = []\n",
    "heat_sums = np.transpose(Y)@X"
   ]
  },
  {
   "cell_type": "code",
   "execution_count": 46,
   "id": "483f442b-55a7-4f7e-986f-d552e87f9f3c",
   "metadata": {},
   "outputs": [],
   "source": [
    "# Reset index and drop the old index\n",
    "A_df_org_tr = A_df_org.T.reset_index(drop=True)\n",
    "A_df_org = A_df_org_tr.T\n",
    "# Reset index and drop the old index\n",
    "B_df_org_tr = B_df_org.T.reset_index(drop=True)\n",
    "B_df_org = B_df_org_tr.T\n",
    "A_df_org = A_df_org.drop(A_df_org.columns[store_index_heat_A_row], axis=0)\n",
    "# Reset index and drop the old index\n",
    "A_df_org_tr = A_df_org.T.reset_index(drop=True)\n",
    "A_df_org = A_df_org_tr.T\n",
    "# Reset index and drop the old index\n",
    "B_df_org_tr = B_df_org.T.reset_index(drop=True)\n",
    "B_df_org = B_df_org_tr.T\n",
    "A_df_org.reset_index(drop=True, inplace=True)"
   ]
  },
  {
   "cell_type": "code",
   "execution_count": 47,
   "id": "d25a6960-a6f0-4c38-a097-aa9700eb147a",
   "metadata": {},
   "outputs": [],
   "source": [
    "A_df_org.to_csv('A_df_org_heat-2.csv', index=False)\n",
    "B_df_org.to_csv('B_df_org_heat-2.csv', index=False)"
   ]
  },
  {
   "cell_type": "code",
   "execution_count": 48,
   "id": "83306da0-f981-4842-ac2c-9225817f3909",
   "metadata": {},
   "outputs": [],
   "source": [
    "update_store_index_heat_A_col = [x-10 for x in store_index_heat_A_col]"
   ]
  },
  {
   "cell_type": "code",
   "execution_count": 49,
   "id": "7635e20b-16a8-4c11-ae8d-a66662e75d56",
   "metadata": {},
   "outputs": [
    {
     "data": {
      "text/plain": [
       "[16, 26, 41, 42, 43, 59, 61, 81, 82, 83, 110, 121, 122, 123, 124]"
      ]
     },
     "execution_count": 49,
     "metadata": {},
     "output_type": "execute_result"
    }
   ],
   "source": [
    "update_store_index_heat_A_col"
   ]
  },
  {
   "cell_type": "code",
   "execution_count": 50,
   "id": "d8ed2e85-7304-4172-b3e9-9418aa7531f6",
   "metadata": {},
   "outputs": [],
   "source": [
    "electricity_sums = np.delete(electricity_sums,update_store_index_heat_A_col)"
   ]
  },
  {
   "cell_type": "code",
   "execution_count": 51,
   "id": "0344b2d9-c803-4d33-95eb-c8c888df4cf0",
   "metadata": {},
   "outputs": [],
   "source": [
    "for i in range(len(heat_sums)-len(electricity_sums)):\n",
    "    electricity_sums = np.append(electricity_sums, 0)"
   ]
  },
  {
   "cell_type": "markdown",
   "id": "77d1333a-baaa-48b8-a8d0-d7d9c17d4508",
   "metadata": {
    "tags": []
   },
   "source": [
    "### Add new heat rows and columns"
   ]
  },
  {
   "cell_type": "code",
   "execution_count": 52,
   "id": "d78aacb0-8a37-4cda-8a00-90c4501aa6d7",
   "metadata": {},
   "outputs": [],
   "source": [
    "new_heat = [\n",
    "        'Heat',\n",
    "        'Heat, oil',\n",
    "        'Heat, coal',\n",
    "        'Heat, natural gas',\n",
    "        'Heat, traditional biomass']\n",
    "\n",
    "new_heat_row = [\n",
    "        'Heat',\n",
    "        'Heat, oil',\n",
    "        'Heat, coal',\n",
    "        'Heat, natural gas',\n",
    "        'Heat, traditional biomass']"
   ]
  },
  {
   "cell_type": "code",
   "execution_count": 53,
   "id": "b111c886-61a7-4379-881f-761079e07705",
   "metadata": {},
   "outputs": [],
   "source": [
    "for i in range(len(new_heat)):\n",
    "    electricity_sums = np.append(electricity_sums, 0)"
   ]
  },
  {
   "cell_type": "code",
   "execution_count": 54,
   "id": "eb057754-ac8d-47d8-89da-1d78e3a68ab5",
   "metadata": {},
   "outputs": [],
   "source": [
    "for i in range(len(new_heat)):\n",
    "    heat_sums = np.append(heat_sums, 0)"
   ]
  },
  {
   "cell_type": "code",
   "execution_count": 55,
   "id": "931d8cdd-03a9-4f11-88f9-fe3883dda2da",
   "metadata": {},
   "outputs": [],
   "source": [
    "# Append new rows in A\n",
    "\n",
    "# Convert new_elec to a DataFrame\n",
    "new_heat_df = pd.DataFrame(new_heat_row) \n",
    "\n",
    "# Append new_elec to the first row\n",
    "A_df_org = pd.concat([A_df_org, new_heat_df], ignore_index=True)"
   ]
  },
  {
   "cell_type": "code",
   "execution_count": 56,
   "id": "3ddc2b95-7f78-47ab-b2cb-cf1121e71c0e",
   "metadata": {},
   "outputs": [],
   "source": [
    "# Append new columns in A\n",
    "for heat in new_heat:\n",
    "    A_df_org[heat] = None  # Create a new column with None values\n",
    "\n",
    "# Set the first row of each new column to the corresponding value\n",
    "for idx, heat in enumerate(new_heat):\n",
    "    A_df_org.at[0, heat] = heat  # Set the value in the first row"
   ]
  },
  {
   "cell_type": "code",
   "execution_count": 57,
   "id": "a1eb4333-0876-4390-a6f8-31a8baff9956",
   "metadata": {},
   "outputs": [],
   "source": [
    "# Append new columns in B\n",
    "for heat in new_heat:\n",
    "    B_df_org[heat] = None  # Create a new column with None values\n",
    "\n",
    "# Set the first row of each new column to the corresponding value\n",
    "for idx, heat in enumerate(new_heat):\n",
    "    B_df_org.at[0, heat] = heat  # Set the value in the first row"
   ]
  },
  {
   "cell_type": "code",
   "execution_count": 58,
   "id": "6b75f38a-8aae-44d0-943b-b22a8681e9dd",
   "metadata": {},
   "outputs": [],
   "source": [
    "# Reset index and drop the old index\n",
    "A_df_org_tr = A_df_org.T.reset_index(drop=True)\n",
    "A_df_org = A_df_org_tr.T\n",
    "# Reset index and drop the old index\n",
    "B_df_org_tr = B_df_org.T.reset_index(drop=True)\n",
    "B_df_org = B_df_org_tr.T\n",
    "A_df_org.reset_index(drop=True, inplace=True)"
   ]
  },
  {
   "cell_type": "code",
   "execution_count": 59,
   "id": "7ff24e5b-ed22-44d9-b6a4-e7e3a394bd9c",
   "metadata": {},
   "outputs": [],
   "source": [
    "A_df_org.to_csv('A_df_org_heat.csv', index=False)\n",
    "B_df_org.to_csv('B_df_org_heat.csv', index=False)"
   ]
  },
  {
   "cell_type": "markdown",
   "id": "6a5eccfa-9e60-4cd5-bbf1-5a3c7e25f751",
   "metadata": {},
   "source": [
    "### Add electricity and heat values to A and B"
   ]
  },
  {
   "cell_type": "code",
   "execution_count": 60,
   "id": "55423da7-3b00-48e6-a6fa-6df6cd7954ad",
   "metadata": {},
   "outputs": [],
   "source": [
    "for i in range (len(A_df_org.T)-10):\n",
    "    A_df_org.iloc [A_df_org.index[A_df_org.iloc[:, 0] == 'Electricity'].tolist()[0],i+10] = electricity_sums[i]"
   ]
  },
  {
   "cell_type": "code",
   "execution_count": 61,
   "id": "8a81741c-b5b0-4739-ac0a-1cc5332751c1",
   "metadata": {},
   "outputs": [],
   "source": [
    "for i in range (len(A_df_org.T)-10):\n",
    "    A_df_org.iloc [A_df_org.index[A_df_org.iloc[:, 0] == 'Heat'].tolist()[0],i+10] = heat_sums[i]"
   ]
  },
  {
   "cell_type": "code",
   "execution_count": 63,
   "id": "570967d8-849a-4bd4-89bc-d56ab420f26f",
   "metadata": {},
   "outputs": [],
   "source": [
    "#rest of the matrix\n",
    "A_df_org.iloc [A_df_org.index[A_df_org.iloc[:, 0] == 'Electricity'].tolist()[0],\n",
    "  A_df_org.T.index[A_df_org.T.iloc[:, 0] == 'Electrcity, natural gas '].tolist()[0]] = 1\n",
    "\n",
    "A_df_org.iloc [A_df_org.index[A_df_org.iloc[:, 0] == 'Electricity'].tolist()[0],\n",
    "  A_df_org.T.index[A_df_org.T.iloc[:, 0] == 'Electrcity, coal'].tolist()[0]] = 1\n",
    "\n",
    "A_df_org.iloc [A_df_org.index[A_df_org.iloc[:, 0] == 'Electricity'].tolist()[0],\n",
    "  A_df_org.T.index[A_df_org.T.iloc[:, 0] == 'Electrcity, oil'].tolist()[0]] = 1\n",
    "\n",
    "A_df_org.iloc [A_df_org.index[A_df_org.iloc[:, 0] == 'Electricity'].tolist()[0],\n",
    "  A_df_org.T.index[A_df_org.T.iloc[:, 0] == 'Electrcity, nuclear'].tolist()[0]] = 1\n",
    "\n",
    "A_df_org.iloc [A_df_org.index[A_df_org.iloc[:, 0] == 'Electricity'].tolist()[0],\n",
    "  A_df_org.T.index[A_df_org.T.iloc[:, 0] == 'Electrcity, wind'].tolist()[0]] = 1\n",
    "\n",
    "A_df_org.iloc [A_df_org.index[A_df_org.iloc[:, 0] == 'Electricity'].tolist()[0],\n",
    "  A_df_org.T.index[A_df_org.T.iloc[:, 0] == 'Electricity, solar'].tolist()[0]] = 1\n",
    "\n",
    "A_df_org.iloc [A_df_org.index[A_df_org.iloc[:, 0] == 'Electricity'].tolist()[0],\n",
    "  A_df_org.T.index[A_df_org.T.iloc[:, 0] == 'Electricity, hydropower'].tolist()[0]] = 1\n",
    "\n",
    "A_df_org.iloc [A_df_org.index[A_df_org.iloc[:, 0] == 'Electricity'].tolist()[0],\n",
    "  A_df_org.T.index[A_df_org.T.iloc[:, 0] == 'Electrcity, biopower'].tolist()[0]] = 1\n",
    "\n",
    "A_df_org.iloc [A_df_org.index[A_df_org.iloc[:, 0] == 'Electricity'].tolist()[0],\n",
    "  A_df_org.T.index[A_df_org.T.iloc[:, 0] == 'Electrcity, geothermal'].tolist()[0]] = 1\n",
    "\n",
    "A_df_org.iloc [A_df_org.index[A_df_org.iloc[:, 0] == 'Electricity'].tolist()[0],\n",
    "  A_df_org.T.index[A_df_org.T.iloc[:, 0] == 'Electrcity, ocean energy'].tolist()[0]] = 1"
   ]
  },
  {
   "cell_type": "code",
   "execution_count": 64,
   "id": "d207d634-6a5e-4077-ba87-91edbdaf6414",
   "metadata": {},
   "outputs": [],
   "source": [
    "A_df_org.iloc [A_df_org.index[A_df_org.iloc[:, 0] == 'Heat'].tolist()[0],\n",
    "  A_df_org.T.index[A_df_org.T.iloc[:, 0] == 'Heat'].tolist()[0]] = 1\n",
    "\n",
    "A_df_org.iloc [A_df_org.index[A_df_org.iloc[:, 0] == 'Heat, oil'].tolist()[0],\n",
    "  A_df_org.T.index[A_df_org.T.iloc[:, 0] == 'Heat'].tolist()[0]] = - 0.34\n",
    "\n",
    "A_df_org.iloc [A_df_org.index[A_df_org.iloc[:, 0] == 'Heat, coal'].tolist()[0],\n",
    "  A_df_org.T.index[A_df_org.T.iloc[:, 0] == 'Heat'].tolist()[0]] = - 0.28\n",
    "\n",
    "A_df_org.iloc [A_df_org.index[A_df_org.iloc[:, 0] == 'Heat, natural gas'].tolist()[0],\n",
    "  A_df_org.T.index[A_df_org.T.iloc[:, 0] == 'Heat'].tolist()[0]] = - 0.25\n",
    "\n",
    "A_df_org.iloc [A_df_org.index[A_df_org.iloc[:, 0] == 'Heat, traditional biomass'].tolist()[0],\n",
    "  A_df_org.T.index[A_df_org.T.iloc[:, 0] == 'Heat'].tolist()[0]] = - 0.13\n",
    "\n",
    "#rest of the matrix\n",
    "A_df_org.iloc [A_df_org.index[A_df_org.iloc[:, 0] == 'Heat, oil'].tolist()[0],\n",
    "  A_df_org.T.index[A_df_org.T.iloc[:, 0] == 'Heat, oil'].tolist()[0]] = 1\n",
    "\n",
    "A_df_org.iloc [A_df_org.index[A_df_org.iloc[:, 0] == 'Heat, coal'].tolist()[0],\n",
    "  A_df_org.T.index[A_df_org.T.iloc[:, 0] == 'Heat, coal'].tolist()[0]] = 1\n",
    "\n",
    "A_df_org.iloc [A_df_org.index[A_df_org.iloc[:, 0] == 'Heat, natural gas'].tolist()[0],\n",
    "  A_df_org.T.index[A_df_org.T.iloc[:, 0] == 'Heat, natural gas'].tolist()[0]] = 1\n",
    "\n",
    "A_df_org.iloc [A_df_org.index[A_df_org.iloc[:, 0] == 'Heat, traditional biomass'].tolist()[0],\n",
    "  A_df_org.T.index[A_df_org.T.iloc[:, 0] == 'Heat, traditional biomass'].tolist()[0]] = 1"
   ]
  },
  {
   "cell_type": "code",
   "execution_count": 65,
   "id": "726f2532-2b55-476b-80a3-98c9ca427c66",
   "metadata": {},
   "outputs": [],
   "source": [
    "B_df_org.iloc [B_df_org.index[B_df_org.iloc[:, 0] == 'b6f010fb-a764-3063-af2d-bcb8309a97b7'].tolist()[0],\n",
    "  B_df_org.T.index[B_df_org.iloc[0, :] == 'Electrcity, natural gas '].tolist()[0]] = 0.460/3.6\n",
    "\n",
    "B_df_org.iloc [B_df_org.index[B_df_org.iloc[:, 0] == 'b6f010fb-a764-3063-af2d-bcb8309a97b7'].tolist()[0],\n",
    "  B_df_org.T.index[B_df_org.iloc[0, :] == 'Electrcity, coal'].tolist()[0]] = 1/3.6\n",
    "\n",
    "B_df_org.iloc [B_df_org.index[B_df_org.iloc[:, 0] == 'b6f010fb-a764-3063-af2d-bcb8309a97b7'].tolist()[0],\n",
    "  B_df_org.T.index[B_df_org.iloc[0, :] == 'Electrcity, oil'].tolist()[0]] = 0.841/3.6\n",
    "\n",
    "B_df_org.iloc [B_df_org.index[B_df_org.iloc[:, 0] == 'b6f010fb-a764-3063-af2d-bcb8309a97b7'].tolist()[0],\n",
    "  B_df_org.T.index[B_df_org.iloc[0, :] == 'Electrcity, nuclear'].tolist()[0]] = 0.016/3.6\n",
    "\n",
    "B_df_org.iloc [B_df_org.index[B_df_org.iloc[:, 0] == 'b6f010fb-a764-3063-af2d-bcb8309a97b7'].tolist()[0],\n",
    "  B_df_org.T.index[B_df_org.iloc[0, :] == 'Electrcity, wind'].tolist()[0]] = 0.011/3.6\n",
    "\n",
    "B_df_org.iloc [B_df_org.index[B_df_org.iloc[:, 0] == 'b6f010fb-a764-3063-af2d-bcb8309a97b7'].tolist()[0],\n",
    "  B_df_org.T.index[B_df_org.iloc[0, :] == 'Electricity, solar'].tolist()[0]] = 0.045/3.6\n",
    "\n",
    "B_df_org.iloc [B_df_org.index[B_df_org.iloc[:, 0] == 'b6f010fb-a764-3063-af2d-bcb8309a97b7'].tolist()[0],\n",
    "  B_df_org.T.index[B_df_org.iloc[0, :] == 'Electricity, hydropower'].tolist()[0]] = 0.0065/3.6\n",
    "\n",
    "B_df_org.iloc [B_df_org.index[B_df_org.iloc[:, 0] == 'b6f010fb-a764-3063-af2d-bcb8309a97b7'].tolist()[0],\n",
    "  B_df_org.T.index[B_df_org.iloc[0, :] == 'Electrcity, biopower'].tolist()[0]] = 0.039/3.6\n",
    "\n",
    "B_df_org.iloc [B_df_org.index[B_df_org.iloc[:, 0] == 'b6f010fb-a764-3063-af2d-bcb8309a97b7'].tolist()[0],\n",
    "  B_df_org.T.index[B_df_org.iloc[0, :] == 'Electrcity, geothermal'].tolist()[0]] = 0.045/3.6\n",
    "\n",
    "B_df_org.iloc [B_df_org.index[B_df_org.iloc[:, 0] == 'b6f010fb-a764-3063-af2d-bcb8309a97b7'].tolist()[0],\n",
    "  B_df_org.T.index[B_df_org.iloc[0, :] == 'Electrcity, ocean energy'].tolist()[0]] = 0.008/3.6"
   ]
  },
  {
   "cell_type": "code",
   "execution_count": 66,
   "id": "7a8902e4-8887-4be1-b221-de6cf1827fc7",
   "metadata": {},
   "outputs": [],
   "source": [
    "B_df_org.iloc [B_df_org.index[B_df_org.iloc[:, 0] == 'b6f010fb-a764-3063-af2d-bcb8309a97b7'].tolist()[0],\n",
    "  B_df_org.T.index[B_df_org.iloc[0, :] == 'Heat, oil'].tolist()[0]] = 0.072\n",
    "\n",
    "B_df_org.iloc [B_df_org.index[B_df_org.iloc[:, 0] == 'b6f010fb-a764-3063-af2d-bcb8309a97b7'].tolist()[0],\n",
    "  B_df_org.T.index[B_df_org.iloc[0, :] == 'Heat, coal'].tolist()[0]] = 0.101\n",
    "\n",
    "B_df_org.iloc [B_df_org.index[B_df_org.iloc[:, 0] == 'b6f010fb-a764-3063-af2d-bcb8309a97b7'].tolist()[0],\n",
    "  B_df_org.T.index[B_df_org.iloc[0, :] == 'Heat, natural gas'].tolist()[0]] = 0.056\n",
    "\n",
    "B_df_org.iloc [B_df_org.index[B_df_org.iloc[:, 0] == 'b6f010fb-a764-3063-af2d-bcb8309a97b7'].tolist()[0],\n",
    "  B_df_org.T.index[B_df_org.iloc[0, :] == 'Heat, traditional biomass'].tolist()[0]] = 0.025"
   ]
  },
  {
   "cell_type": "code",
   "execution_count": 67,
   "id": "68b08b51-38bf-4a99-9a88-bd2a164da0bf",
   "metadata": {},
   "outputs": [],
   "source": [
    "A_df_org.to_csv('A_df_org_heat-5.csv', index=False)\n",
    "B_df_org.to_csv('B_df_org_heat-5.csv', index=False)"
   ]
  },
  {
   "cell_type": "markdown",
   "id": "063bff11-7b1b-46a0-801d-6e4aebc8d6fe",
   "metadata": {},
   "source": [
    "## Generation of A, B, and C"
   ]
  },
  {
   "cell_type": "code",
   "execution_count": 68,
   "id": "e2fb0cd7-5d5f-4850-965f-edd723a7bf3d",
   "metadata": {},
   "outputs": [],
   "source": [
    "A_df = copy.copy(A_df_org)\n",
    "B_df = copy.copy(B_df_org)"
   ]
  },
  {
   "cell_type": "code",
   "execution_count": 69,
   "id": "81f4c226-9847-45de-a4e2-d72699f1414f",
   "metadata": {},
   "outputs": [],
   "source": [
    "#Building A matrix\n",
    "# Step 1: Delete the first 10 columns\n",
    "A_df = A_df.drop(A_df.columns[:10], axis=1)\n",
    "\n",
    "# Step 2: Delete the first 10 rows \n",
    "A_df = A_df.iloc[10:]\n",
    "\n",
    "#Replacing empty values with zero and getting the final A matrix\n",
    "A=A_df\n",
    "A=A.replace(np.nan, 0)\n",
    "A=np.array(A,dtype='float64')"
   ]
  },
  {
   "cell_type": "code",
   "execution_count": 70,
   "id": "c67ac0a0-4e4f-4929-95c3-58a559b3c3c2",
   "metadata": {},
   "outputs": [],
   "source": [
    "# Building B matrix\n",
    "# Step 1: Delete the first 7 columns\n",
    "B_df = B_df.drop(B_df.columns[:7], axis=1)\n",
    "\n",
    "# Step 2: Delete the first 10 rows (first row is heading, so put 3)\n",
    "B_df = B_df.iloc[10:]\n",
    "\n",
    "# Replacing empty values with zero\n",
    "B_df = B_df.replace(np.nan, 0)\n",
    "\n",
    "# Converting all elements to float, handling empty strings and stripping whitespace\n",
    "def convert_to_float(x):\n",
    "    if isinstance(x, str):\n",
    "        x = x.strip()  # Remove any leading/trailing whitespace\n",
    "        if x == '':  # Handle empty strings\n",
    "            return 0.0\n",
    "        try:\n",
    "            return float(x)\n",
    "        except ValueError:\n",
    "            return 0.0  # Or raise an error if you want to catch non-numeric strings\n",
    "    return x\n",
    "\n",
    "B_df = B_df.applymap(convert_to_float)\n",
    "\n",
    "# Converting to a NumPy array\n",
    "B = np.array(B_df, dtype=float)"
   ]
  },
  {
   "cell_type": "code",
   "execution_count": 71,
   "id": "0f625772-3375-4937-b379-a1b1d0254048",
   "metadata": {},
   "outputs": [],
   "source": [
    "#Building C matrix\n",
    "# Step 1: Delete the first 7 columns\n",
    "C_df = C_df.drop(C_df.columns[:7], axis=1)\n",
    "\n",
    "# Step 2: Delete the first 5 rows (first row is heading, so put 3)\n",
    "C_df = C_df.iloc[5:]\n",
    "\n",
    "#Replacing empty values with zero and getting the final B matrix\n",
    "C=C_df\n",
    "C=C.replace(np.nan, 0)\n",
    "C=np.array(C,dtype='float64')"
   ]
  },
  {
   "cell_type": "code",
   "execution_count": 72,
   "id": "9abd4f24-4baa-47bb-91ec-6a83c4e697e1",
   "metadata": {},
   "outputs": [],
   "source": [
    "#Functional Unit\n",
    "# F = 168.450 million metric tons = 168,450,000 metric tons = 168,450,000,000 kg\n",
    "F=168450000000\n",
    "F=int(F)\n",
    "#defining f matrix\n",
    "f=np.zeros(len(A))\n",
    "f[0]=F"
   ]
  },
  {
   "cell_type": "code",
   "execution_count": 73,
   "id": "5f9e90e7-5b6a-48d4-955e-b2ff2106e9d6",
   "metadata": {},
   "outputs": [],
   "source": [
    "C_gwp_wo_seq= np.transpose(C)[[0]]\n",
    "coef_GWP_wo_seq = C_gwp_wo_seq@B\n",
    "coef_GWP_wo_seq = np.array(coef_GWP_wo_seq)\n",
    "coef_GWP_wo_seq = coef_GWP_wo_seq.reshape(-1)"
   ]
  },
  {
   "cell_type": "code",
   "execution_count": 75,
   "id": "20f65962-5eda-40ea-b04e-f8b619100ead",
   "metadata": {},
   "outputs": [
    {
     "data": {
      "text/plain": [
       "{'Problem': [{'Name': 'x127', 'Lower bound': 308631709693.5721, 'Upper bound': 308631709693.5721, 'Number of objectives': 1, 'Number of constraints': 230, 'Number of variables': 127, 'Number of binary variables': 0, 'Number of integer variables': 0, 'Number of continuous variables': 127, 'Number of nonzeros': 661, 'Sense': 'minimize'}], 'Solver': [{'Status': 'ok', 'Return code': '0', 'Message': 'Model was solved to optimality (subject to tolerances), and an optimal solution is available.', 'Termination condition': 'optimal', 'Termination message': 'Model was solved to optimality (subject to tolerances), and an optimal solution is available.', 'Wall time': '0.0005710124969482422', 'Error rc': 0, 'Time': 0.07258081436157227}], 'Solution': [OrderedDict([('number of solutions', 0), ('number of solutions displayed', 0)])]}"
      ]
     },
     "execution_count": 75,
     "metadata": {},
     "output_type": "execute_result"
    }
   ],
   "source": [
    "#Model Formulation\n",
    "# Create the model\n",
    "model = ConcreteModel()\n",
    "# List of processes with negative scaling factor due to open loop recovery and substitution approach\n",
    "negative_s_indices = []\n",
    "positive_s_indices = []\n",
    "all_s_indices = []\n",
    "\n",
    "search_elements_zero = ['High-tech MRF',\n",
    "                        'Med-tech MRF',\n",
    "                        'Low-tech MRF',\n",
    "                        'bio-ethylene production (monomer)',\n",
    "                        'bio-propylene production (monomer)',\n",
    "                        'bio-EG production (monomer)',\n",
    "                        'bio-styrene production (monomer)',\n",
    "                        'bio-vinyl chloride production (monomer)',]\n",
    "\n",
    "search_elements_zero_or_negative = []\n",
    "\n",
    "search_elements_zero_or_negative_or_positive = []\n",
    "\n",
    "#Search for elements in the first row of the DataFrame\n",
    "negative_s_indices = [A_df_org.iloc[0,:].tolist().index(elem) for elem in search_elements_zero_or_negative]\n",
    "negative_s_indices = [i-9 for i in negative_s_indices]\n",
    "zero_s_indices = [A_df_org.iloc[0,:].tolist().index(elem) for elem in search_elements_zero]\n",
    "zero_s_indices = [i-9 for i in zero_s_indices]\n",
    "all_s_indices = list(range(1, len(np.transpose(A))+1))\n",
    "positive_s_indices = all_s_indices\n",
    "\n",
    "\n",
    "# Define the decision variable\n",
    "model.set_s = RangeSet(len(np.transpose(A)))\n",
    "model.s = Var(model.set_s)\n",
    "model.set_negative_scale = Set(initialize=negative_s_indices)\n",
    "model.set_positive_scale = Set(initialize=positive_s_indices)\n",
    "model.set_zero_scale = Set(initialize=zero_s_indices)\n",
    "\n",
    "\n",
    "e = 0\n",
    "#model constraint: As = f and s>=0\n",
    "model.set_balance = RangeSet(len(f))\n",
    "def balance(model, p): # As = f\n",
    "    return sum(A[p-1,i-1]*model.s[i] for i in model.set_s) == f[p-1]\n",
    "def negative_scale(model, i):\n",
    "    return (model.s[i]<=0)\n",
    "def positive_scale(model, i):\n",
    "    return (model.s[i]>=e)\n",
    "def zero_scale(model, i):\n",
    "    return (model.s[i]==e)\n",
    "\n",
    "model.balance_constraints = Constraint(model.set_balance, rule=balance)\n",
    "#model.negative_scale_constraints = Constraint(model.set_negative_scale, rule=negative_scale)\n",
    "model.positive_scale_constraints = Constraint(model.set_positive_scale, rule=positive_scale)\n",
    "model.zero_scale_constraints = Constraint(model.set_zero_scale, rule=zero_scale)\n",
    "\n",
    "\n",
    "model.obj = Objective(expr = sum(coef_GWP_wo_seq[i-1]*model.s[i] for i in model.set_s), sense=minimize)\n",
    "#Solver\n",
    "solver = SolverFactory('gurobi')\n",
    "solver.solve(model) # solves and updates instance"
   ]
  },
  {
   "cell_type": "code",
   "execution_count": 76,
   "id": "053a78cb-80c3-4b9f-ae3f-6ea88effeccb",
   "metadata": {},
   "outputs": [],
   "source": [
    "#total CO2 emission (kg CO2eq)\n",
    "GWP_best_wo_seq = value(model.obj)"
   ]
  },
  {
   "cell_type": "code",
   "execution_count": 77,
   "id": "b3a4425d-4afc-4fdd-8ba7-7a3bbd80670e",
   "metadata": {},
   "outputs": [
    {
     "data": {
      "text/plain": [
       "308631709693.5721"
      ]
     },
     "execution_count": 77,
     "metadata": {},
     "output_type": "execute_result"
    }
   ],
   "source": [
    "GWP_best_wo_seq"
   ]
  },
  {
   "cell_type": "code",
   "execution_count": 78,
   "id": "7a185ab2-1234-44e4-a82b-3a11170f1f79",
   "metadata": {},
   "outputs": [],
   "source": [
    "#kg CO2 eq per kg of packaging product\n",
    "GWP_best_wo_seq_per_kg = value(model.obj)/168450000000 "
   ]
  },
  {
   "cell_type": "code",
   "execution_count": 79,
   "id": "d1b40254-35b9-41cc-b887-7dfc15a2b905",
   "metadata": {},
   "outputs": [
    {
     "data": {
      "text/plain": [
       "1.832185869359288"
      ]
     },
     "execution_count": 79,
     "metadata": {},
     "output_type": "execute_result"
    }
   ],
   "source": [
    "GWP_best_wo_seq_per_kg"
   ]
  },
  {
   "cell_type": "code",
   "execution_count": 80,
   "id": "eba6554b-0423-43fe-a7ba-1c6adb5509a1",
   "metadata": {},
   "outputs": [],
   "source": [
    "scaling_factors_wo_seq = []\n",
    "for j in model.s:\n",
    "    scaling_factors_wo_seq.append(model.s[j].value)  "
   ]
  },
  {
   "cell_type": "code",
   "execution_count": 81,
   "id": "95c8a019-0b01-4913-a47b-0bc7681802c3",
   "metadata": {},
   "outputs": [
    {
     "data": {
      "text/plain": [
       "[70441905713.75961, 0.0, 0.0]"
      ]
     },
     "execution_count": 81,
     "metadata": {},
     "output_type": "execute_result"
    }
   ],
   "source": [
    "#1. monomer production\n",
    "#ethylene\n",
    "ethylene_s_indices = []\n",
    "scaling_factors_ethylene = []\n",
    "search_elements_ethylene = [\n",
    "    'fossil-ethylene production (monomer)',\n",
    "    'pyrolysis (monomer production), HDPE sorted',\n",
    "    'pyrolysis (monomer production), LDPE sorted'\n",
    "]\n",
    "ethylene_s_indices = [A_df_org.iloc[0,:].tolist().index(elem) for elem in search_elements_ethylene]\n",
    "ethylene_s_indices = [i-9 for i in ethylene_s_indices]\n",
    "for j in ethylene_s_indices:\n",
    "    scaling_factors_ethylene.append(model.s[j].value)\n",
    "scaling_factors_ethylene"
   ]
  },
  {
   "cell_type": "code",
   "execution_count": 82,
   "id": "0ef9b1ae-651d-4866-9d52-e64e71a9c20d",
   "metadata": {},
   "outputs": [
    {
     "data": {
      "text/plain": [
       "[29078312901.27644, 0.0]"
      ]
     },
     "execution_count": 82,
     "metadata": {},
     "output_type": "execute_result"
    }
   ],
   "source": [
    "#propylene\n",
    "propylene_s_indices = []\n",
    "scaling_factors_propylene = []\n",
    "search_elements_propylene = [\n",
    "    'fossil-propylene production (monomer)',\n",
    "    'pyrolysis (monomer production), PP sorted',\n",
    "]\n",
    "propylene_s_indices = [A_df_org.iloc[0,:].tolist().index(elem) for elem in search_elements_propylene]\n",
    "propylene_s_indices = [i-9 for i in propylene_s_indices]\n",
    "for j in propylene_s_indices:\n",
    "    scaling_factors_propylene.append(model.s[j].value)\n",
    "scaling_factors_propylene   "
   ]
  },
  {
   "cell_type": "code",
   "execution_count": 83,
   "id": "810355f6-fb6e-4e4a-9313-aa0e9c9128b9",
   "metadata": {},
   "outputs": [
    {
     "data": {
      "text/plain": [
       "[12993794148.543934, 0.0, 0.0]"
      ]
     },
     "execution_count": 83,
     "metadata": {},
     "output_type": "execute_result"
    }
   ],
   "source": [
    "#MEG\n",
    "MEG_s_indices = []\n",
    "scaling_factors_MEG = []\n",
    "search_elements_MEG = [\n",
    "    'fossil-EG production (monomer)',\n",
    "    'depolymerization, enzymatic hyrdrolysis, PET sorted',\n",
    "    'depolymerization, glycolysis, PET sorted'\n",
    "]\n",
    "MEG_s_indices = [A_df_org.iloc[0,:].tolist().index(elem) for elem in search_elements_MEG]\n",
    "MEG_s_indices = [i-9 for i in MEG_s_indices]\n",
    "for j in MEG_s_indices:\n",
    "    scaling_factors_MEG.append(model.s[j].value)\n",
    "scaling_factors_MEG   "
   ]
  },
  {
   "cell_type": "code",
   "execution_count": 84,
   "id": "f8521395-e566-43cc-a425-75305c59f32b",
   "metadata": {},
   "outputs": [
    {
     "data": {
      "text/plain": [
       "[8371348249.218184, 0.0]"
      ]
     },
     "execution_count": 84,
     "metadata": {},
     "output_type": "execute_result"
    }
   ],
   "source": [
    "#styrene\n",
    "styrene_s_indices = []\n",
    "scaling_factors_styrene = []\n",
    "search_elements_styrene = [\n",
    "    'fossil-styrene production (monomer)',\n",
    "    'chemical recycling with metal oxide, PS sorted',\n",
    "]\n",
    "styrene_s_indices = [A_df_org.iloc[0,:].tolist().index(elem) for elem in search_elements_styrene]\n",
    "styrene_s_indices = [i-9 for i in styrene_s_indices]\n",
    "for j in styrene_s_indices:\n",
    "    scaling_factors_styrene.append(model.s[j].value)\n",
    "scaling_factors_styrene "
   ]
  },
  {
   "cell_type": "code",
   "execution_count": 85,
   "id": "5e06bb0a-202f-4cc9-8592-60f9f7db4bba",
   "metadata": {},
   "outputs": [
    {
     "data": {
      "text/plain": [
       "[3547618491.786369]"
      ]
     },
     "execution_count": 85,
     "metadata": {},
     "output_type": "execute_result"
    }
   ],
   "source": [
    "#vinyl chloride\n",
    "vinyl_chloride_s_indices = []\n",
    "scaling_factors_vinyl_chloride = []\n",
    "search_elements_vinyl_chloride = [\n",
    "    'fossil-vinyl chloride production (monomer)',\n",
    "]\n",
    "vinyl_chloride_s_indices = [A_df_org.iloc[0,:].tolist().index(elem) for elem in search_elements_vinyl_chloride]\n",
    "vinyl_chloride_s_indices = [i-9 for i in vinyl_chloride_s_indices]\n",
    "for j in vinyl_chloride_s_indices:\n",
    "    scaling_factors_vinyl_chloride.append(model.s[j].value)\n",
    "scaling_factors_vinyl_chloride  "
   ]
  },
  {
   "cell_type": "code",
   "execution_count": 86,
   "id": "bc3b326a-064a-42e9-b129-16e459782070",
   "metadata": {},
   "outputs": [
    {
     "data": {
      "text/plain": [
       "[0.0, 0.0, 34568875648.39365, 0.0]"
      ]
     },
     "execution_count": 86,
     "metadata": {},
     "output_type": "execute_result"
    }
   ],
   "source": [
    "# 2. polymers\n",
    "#polyethylene\n",
    "scaling_factors_polyethylene = []\n",
    "polyethylene_s_indices = []\n",
    "search_elements_polyethylene = [\n",
    "    'advanced recycling, STRAP, multi-layer plastic packaging',\n",
    "    'advanced recycling, delamination, multi-layer plastic packaging',\n",
    "    'LDPE production',\n",
    "    'mechanical recycling, LDPE sorted'\n",
    "]\n",
    "polyethylene_s_indices = [A_df_org.iloc[0,:].tolist().index(elem) for elem in search_elements_polyethylene]\n",
    "polyethylene_s_indices = [i-9 for i in polyethylene_s_indices]\n",
    "for j in polyethylene_s_indices:\n",
    "    scaling_factors_polyethylene.append(model.s[j].value)\n",
    "scaling_factors_polyethylene"
   ]
  },
  {
   "cell_type": "code",
   "execution_count": 87,
   "id": "dadc4a5c-7e37-4791-82d0-4947c7d80cfd",
   "metadata": {},
   "outputs": [
    {
     "data": {
      "text/plain": [
       "[0.0, 0.0, 36387918045.188995, 0.0]"
      ]
     },
     "execution_count": 87,
     "metadata": {},
     "output_type": "execute_result"
    }
   ],
   "source": [
    "#polyethylene\n",
    "scaling_factors_polyethylene = []\n",
    "polyethylene_s_indices = []\n",
    "search_elements_polyethylene = [\n",
    "    'advanced recycling, delamination, multi-layer plastic packaging',\n",
    "    'advanced recycling, STRAP, multi-layer plastic packaging',\n",
    "    'HDPE production',\n",
    "    'mechanical recycling, HDPE sorted'\n",
    "]\n",
    "polyethylene_s_indices = [A_df_org.iloc[0,:].tolist().index(elem) for elem in search_elements_polyethylene]\n",
    "polyethylene_s_indices = [i-9 for i in polyethylene_s_indices]\n",
    "for j in polyethylene_s_indices:\n",
    "    scaling_factors_polyethylene.append(model.s[j].value)\n",
    "scaling_factors_polyethylene"
   ]
  },
  {
   "cell_type": "code",
   "execution_count": 88,
   "id": "f4367148-8caf-4874-a5bc-fdbd99c9b3c2",
   "metadata": {},
   "outputs": [
    {
     "data": {
      "text/plain": [
       "[0.0, 0.0, 49487851352.6337, 0.0]"
      ]
     },
     "execution_count": 88,
     "metadata": {},
     "output_type": "execute_result"
    }
   ],
   "source": [
    "#polypropylene\n",
    "scaling_factors_polypropylene = []\n",
    "polypropylene_s_indices = []\n",
    "search_elements_polypropylene = [\n",
    "    'advanced recycling, delamination, multi-layer plastic packaging',\n",
    "    'advanced recycling, STRAP, multi-layer plastic packaging',\n",
    "    'PP production',\n",
    "    'mechanical recycling, PP sorted'\n",
    "]\n",
    "polypropylene_s_indices = [A_df_org.iloc[0,:].tolist().index(elem) for elem in search_elements_polypropylene]\n",
    "polypropylene_s_indices = [i-9 for i in polypropylene_s_indices]\n",
    "for j in polypropylene_s_indices:\n",
    "    scaling_factors_polypropylene.append(model.s[j].value)\n",
    "scaling_factors_polypropylene"
   ]
  },
  {
   "cell_type": "code",
   "execution_count": 89,
   "id": "8065d86b-7517-495f-a293-84278ea7f237",
   "metadata": {},
   "outputs": [
    {
     "data": {
      "text/plain": [
       "[0.0, 0.0, 37641350372.375244, 0.0]"
      ]
     },
     "execution_count": 89,
     "metadata": {},
     "output_type": "execute_result"
    }
   ],
   "source": [
    "#polyethylene terephthalate\n",
    "scaling_factors_PET = []\n",
    "PET_s_indices = []\n",
    "search_elements_PET = [\n",
    "    'advanced recycling, delamination, multi-layer plastic packaging',\n",
    "    'advanced recycling, STRAP, multi-layer plastic packaging',\n",
    "    'PET production',\n",
    "    'mechanical recycling, PET sorted'\n",
    "]\n",
    "PET_s_indices = [A_df_org.iloc[0,:].tolist().index(elem) for elem in search_elements_PET]\n",
    "PET_s_indices = [i-9 for i in PET_s_indices]\n",
    "for j in PET_s_indices:\n",
    "    scaling_factors_PET.append(model.s[j].value)\n",
    "scaling_factors_PET"
   ]
  },
  {
   "cell_type": "code",
   "execution_count": 90,
   "id": "2cf170a4-45ba-4a50-b443-375559ad3230",
   "metadata": {},
   "outputs": [
    {
     "data": {
      "text/plain": [
       "[0.0, 0.0, 8490211206.103636, 0.0]"
      ]
     },
     "execution_count": 90,
     "metadata": {},
     "output_type": "execute_result"
    }
   ],
   "source": [
    "#polystyrene terephthalate\n",
    "scaling_factors_PS = []\n",
    "PS_s_indices = []\n",
    "search_elements_PS = [\n",
    "    'advanced recycling, delamination, multi-layer plastic packaging',\n",
    "    'advanced recycling, STRAP, multi-layer plastic packaging',\n",
    "    'PS production',\n",
    "    'mechanical recycling, PS sorted'\n",
    "]\n",
    "PS_s_indices = [A_df_org.iloc[0,:].tolist().index(elem) for elem in search_elements_PS]\n",
    "PS_s_indices = [i-9 for i in PS_s_indices]\n",
    "for j in PS_s_indices:\n",
    "    scaling_factors_PS.append(model.s[j].value)\n",
    "scaling_factors_PS"
   ]
  },
  {
   "cell_type": "code",
   "execution_count": 91,
   "id": "d5e88304-283f-460b-85d2-dec880eb0a64",
   "metadata": {},
   "outputs": [
    {
     "data": {
      "text/plain": [
       "[0.0, 0.0, 3558293371.9020753, 0.0]"
      ]
     },
     "execution_count": 91,
     "metadata": {},
     "output_type": "execute_result"
    }
   ],
   "source": [
    "#polyvinyl chloride\n",
    "scaling_factors_PVC = []\n",
    "PVC_s_indices = []\n",
    "search_elements_PVC = [\n",
    "    'advanced recycling, delamination, multi-layer plastic packaging',\n",
    "    'advanced recycling, STRAP, multi-layer plastic packaging',\n",
    "    'PVC production',\n",
    "    'mechanical recycling, PVC sorted'\n",
    "]\n",
    "PVC_s_indices = [A_df_org.iloc[0,:].tolist().index(elem) for elem in search_elements_PVC]\n",
    "PVC_s_indices = [i-9 for i in PVC_s_indices]\n",
    "for j in PVC_s_indices:\n",
    "    scaling_factors_PVC.append(model.s[j].value)\n",
    "scaling_factors_PVC"
   ]
  },
  {
   "cell_type": "code",
   "execution_count": 92,
   "id": "4e0bd79c-a126-4aa6-80da-616d059a4042",
   "metadata": {},
   "outputs": [
    {
     "data": {
      "text/plain": [
       "[0.0, 160027500000.0, 0.0, 0.0, 0.0]"
      ]
     },
     "execution_count": 92,
     "metadata": {},
     "output_type": "execute_result"
    }
   ],
   "source": [
    "#3. mixed plastic collected waste (sorting, energy recovery, landfill, mismanaged)\n",
    "\n",
    "scaling_factors_mixed = []\n",
    "mixed_s_indices = []\n",
    "search_elements_mixed = [\n",
    "    'incineration, electricity recovery, plastic packaging waste',\n",
    "    'landfill, plastic packaging waste',\n",
    "    'High-tech MRF',\n",
    "    'Med-tech MRF',\n",
    "    'Low-tech MRF',\n",
    "]\n",
    "mixed_s_indices = [A_df_org.iloc[0,:].tolist().index(elem) for elem in search_elements_mixed]\n",
    "mixed_s_indices = [i-9 for i in mixed_s_indices]\n",
    "for j in mixed_s_indices:\n",
    "    scaling_factors_mixed.append(model.s[j].value)\n",
    "scaling_factors_mixed"
   ]
  },
  {
   "cell_type": "code",
   "execution_count": 93,
   "id": "fcdf07d7-3e48-4290-8825-bf3ca1c3c66c",
   "metadata": {},
   "outputs": [
    {
     "data": {
      "text/plain": [
       "[0.0, 0.0, 0.0, 0.0, 0.0]"
      ]
     },
     "execution_count": 93,
     "metadata": {},
     "output_type": "execute_result"
    }
   ],
   "source": [
    "#4. mixed plastic waste, sorted (sorting, energy recovery, landfill, mismanaged)\n",
    "\n",
    "scaling_factors_mixed = []\n",
    "mixed_s_indices = []\n",
    "search_elements_mixed = [\n",
    "    'cement clinker, mixed plastic packaging, sorted',\n",
    "    'plastic lumber production from sorted mixed plastic waste',\n",
    "    'pyrolysis, feedstock recycling, mixed plastic waste, sorted',\n",
    "    'PET fiber production from sorted PET waste',\n",
    "    'road pavement production from sorted mixed plastic waste'\n",
    "]\n",
    "mixed_s_indices = [A_df_org.iloc[0,:].tolist().index(elem) for elem in search_elements_mixed]\n",
    "mixed_s_indices = [i-9 for i in mixed_s_indices]\n",
    "for j in mixed_s_indices:\n",
    "    scaling_factors_mixed.append(model.s[j].value)\n",
    "scaling_factors_mixed"
   ]
  },
  {
   "cell_type": "code",
   "execution_count": 94,
   "id": "336e4141-2d06-478e-b34f-aad179f22864",
   "metadata": {},
   "outputs": [
    {
     "data": {
      "text/plain": [
       "[0.0, 0.0]"
      ]
     },
     "execution_count": 94,
     "metadata": {},
     "output_type": "execute_result"
    }
   ],
   "source": [
    "#5. Plastic residues\n",
    "scaling_factors_mixed = []\n",
    "mixed_s_indices = []\n",
    "search_elements_mixed = [\n",
    "    'landfill, plastic residues',\n",
    "    'incineration, electricity recovery, plastic residues'\n",
    "]\n",
    "mixed_s_indices = [A_df_org.iloc[0,:].tolist().index(elem) for elem in search_elements_mixed]\n",
    "mixed_s_indices = [i-9 for i in mixed_s_indices]\n",
    "for j in mixed_s_indices:\n",
    "    scaling_factors_mixed.append(model.s[j].value)\n",
    "scaling_factors_mixed"
   ]
  },
  {
   "cell_type": "code",
   "execution_count": 95,
   "id": "db959365-dbc7-4785-abb5-104469d0d64e",
   "metadata": {},
   "outputs": [
    {
     "data": {
      "text/plain": [
       "[0.0, 0.0, 0.0, 0.0, 0.0, 0.0, 447378401976.72577, 0.0, 0.0, 0.0]"
      ]
     },
     "execution_count": 95,
     "metadata": {},
     "output_type": "execute_result"
    }
   ],
   "source": [
    "#6. Energy Grid\n",
    "scaling_factors_mixed = []\n",
    "mixed_s_indices = []\n",
    "search_elements_mixed = [\n",
    "        'Electrcity, natural gas ',\n",
    "        'Electrcity, coal',\n",
    "        'Electrcity, oil',\n",
    "        'Electrcity, nuclear',\n",
    "        'Electrcity, wind',\n",
    "        'Electricity, solar',\n",
    "        'Electricity, hydropower',\n",
    "        'Electrcity, biopower',\n",
    "        'Electrcity, geothermal',\n",
    "        'Electrcity, ocean energy']\n",
    "mixed_s_indices = [A_df_org.iloc[0,:].tolist().index(elem) for elem in search_elements_mixed]\n",
    "mixed_s_indices = [i-9 for i in mixed_s_indices]\n",
    "for j in mixed_s_indices:\n",
    "    scaling_factors_mixed.append(model.s[j].value)\n",
    "scaling_factors_mixed"
   ]
  },
  {
   "cell_type": "markdown",
   "id": "3e068cb4-a9cf-4a6d-a68a-aa9294947a44",
   "metadata": {},
   "source": [
    "# Scenario 4: Electrification"
   ]
  },
  {
   "cell_type": "markdown",
   "id": "37031cb9-b8eb-4bcf-ba1e-72242e64ab52",
   "metadata": {},
   "source": [
    "## b:  Electricity generation UUIDs in USLCI"
   ]
  },
  {
   "cell_type": "code",
   "execution_count": 12,
   "id": "02ca3558-c4d0-4e93-8dd8-75adfc6e34ab",
   "metadata": {},
   "outputs": [],
   "source": [
    "electricity_processes = ['Electrcity, solar photovoltatic',\n",
    "                         'Electricity',\n",
    "                         'Electricity, at cogen, for natural gas turbine',\n",
    "                         'Electricity, at Grid, US, 2010',\n",
    "                         'Electricity, biomass, at power plant',\n",
    "                         'Electricity, bituminous coal, at power plant',\n",
    "                         'Electricity, concentrated solar power (CSP)',\n",
    "                         'Electricity, diesel, at power plant',\n",
    "                         'Electricity, Eastern US, 2014',\n",
    "                         'Electricity, lignite coal, at power plant',\n",
    "                         'Electricity, natural gas, at power plant',\n",
    "                         'Electricity, nuclear, at power plant',\n",
    "                         'Electricity, residual fuel oil, at power plant',\n",
    "                         'Electricity, solar']"
   ]
  },
  {
   "cell_type": "code",
   "execution_count": 13,
   "id": "185a4bf4-e203-4df9-ad27-791f1798c445",
   "metadata": {},
   "outputs": [],
   "source": [
    "#finding columns in A with electricity generation\n",
    "store_index_electricity_A_col = []\n",
    "stored_index_A = 0\n",
    "for i in range(len(A_df_org.T)):\n",
    "    if str(A_df_org.iloc[0, i]) in electricity_processes:\n",
    "        stored_index_A = i\n",
    "        store_index_electricity_A_col.append(stored_index_A)"
   ]
  },
  {
   "cell_type": "code",
   "execution_count": 14,
   "id": "96b3abeb-d662-40e9-98ed-888a98035f34",
   "metadata": {},
   "outputs": [],
   "source": [
    "#finding rows in A with electricity generation\n",
    "store_index_electricity_A_row = []\n",
    "stored_index_A = 0\n",
    "for i in range(len(A_df_org)):\n",
    "    if str(A_df_org.iloc[i, 0]) in electricity_processes:\n",
    "        stored_index_A = i\n",
    "        store_index_electricity_A_row.append(stored_index_A)"
   ]
  },
  {
   "cell_type": "code",
   "execution_count": 15,
   "id": "6fe63b91-2121-47c6-b321-1b03bfbfdf9f",
   "metadata": {},
   "outputs": [],
   "source": [
    "#finding columns in B with electricity generation\n",
    "store_index_electricity_B = []\n",
    "stored_index_B = 0\n",
    "for i in range(len(B_df_org.T)):\n",
    "    if str(B_df_org.iloc[0, i]) in electricity_processes:\n",
    "        stored_index_B = i\n",
    "        store_index_electricity_B.append(stored_index_B)"
   ]
  },
  {
   "cell_type": "markdown",
   "id": "06493547-ce30-48e3-b3ea-afd7d0a02e0c",
   "metadata": {},
   "source": [
    "### Removing corresponding electricity columns from A and B"
   ]
  },
  {
   "cell_type": "code",
   "execution_count": 16,
   "id": "4d37fbdf-f8c0-4ce9-b3dd-0b5245451fe9",
   "metadata": {},
   "outputs": [],
   "source": [
    "A_df_org = A_df_org.drop(A_df_org.columns[store_index_electricity_A_col], axis=1)\n",
    "B_df_org = B_df_org.drop(B_df_org.columns[store_index_electricity_B], axis=1)"
   ]
  },
  {
   "cell_type": "markdown",
   "id": "315b69bc-c2b3-4246-8a85-8d078e56b324",
   "metadata": {},
   "source": [
    "### Aggregating all electricity flows in each process"
   ]
  },
  {
   "cell_type": "code",
   "execution_count": 17,
   "id": "122c5f00-0850-43af-9442-a07ae67b0dc8",
   "metadata": {},
   "outputs": [],
   "source": [
    "electricity_sums = np.sum(np.array(A_df_org.loc[store_index_electricity_A_row].iloc[:, 10:].replace(np.nan, 0), dtype=float), axis=0)"
   ]
  },
  {
   "cell_type": "code",
   "execution_count": 18,
   "id": "d972a3fb-1614-4097-a14c-69d08468dfd9",
   "metadata": {},
   "outputs": [],
   "source": [
    "# Reset index and drop the old index\n",
    "A_df_org_tr = A_df_org.T.reset_index(drop=True)"
   ]
  },
  {
   "cell_type": "code",
   "execution_count": 19,
   "id": "a45d2895-722a-4739-821c-03c1a1de6398",
   "metadata": {
    "tags": []
   },
   "outputs": [],
   "source": [
    "A_df_org = A_df_org_tr.T"
   ]
  },
  {
   "cell_type": "code",
   "execution_count": 20,
   "id": "89cdeebb-6dd8-4396-b41a-b96b5dc55d07",
   "metadata": {},
   "outputs": [],
   "source": [
    "# Reset index and drop the old index\n",
    "B_df_org_tr = B_df_org.T.reset_index(drop=True)"
   ]
  },
  {
   "cell_type": "code",
   "execution_count": 21,
   "id": "49d1cb96-62a2-4ea5-acfc-9380ad43b167",
   "metadata": {
    "tags": []
   },
   "outputs": [],
   "source": [
    "B_df_org = B_df_org_tr.T"
   ]
  },
  {
   "cell_type": "markdown",
   "id": "66290992-18da-4519-825e-90deccac2b8e",
   "metadata": {},
   "source": [
    "### Removing electricity rows from A"
   ]
  },
  {
   "cell_type": "code",
   "execution_count": 22,
   "id": "d2710c3e-6159-4c20-b696-e01eefe43110",
   "metadata": {},
   "outputs": [],
   "source": [
    "A_df_org = A_df_org.drop(A_df_org.columns[store_index_electricity_A_row], axis=0)"
   ]
  },
  {
   "cell_type": "markdown",
   "id": "7f878398-d181-492d-aaf4-9acfa545469a",
   "metadata": {
    "tags": []
   },
   "source": [
    "### Add new electricity rows and columns"
   ]
  },
  {
   "cell_type": "code",
   "execution_count": 23,
   "id": "8859f351-81f6-4663-a547-ae9db07767b3",
   "metadata": {},
   "outputs": [],
   "source": [
    "new_elec = [\n",
    "        'Electricity',\n",
    "        'Electrcity, natural gas ',\n",
    "        'Electrcity, coal',\n",
    "        'Electrcity, oil',\n",
    "        'Electrcity, nuclear',\n",
    "        'Electrcity, wind',\n",
    "        'Electricity, solar',\n",
    "        'Electricity, hydropower',\n",
    "        'Electrcity, biopower',\n",
    "        'Electrcity, geothermal',\n",
    "        'Electrcity, ocean energy']\n",
    "\n",
    "new_elec_row = [\n",
    "        'Electricity',\n",
    "        'Electrcity, natural gas ',\n",
    "        'Electrcity, coal',\n",
    "        'Electrcity, oil',\n",
    "        'Electrcity, nuclear',\n",
    "        'Electrcity, wind',\n",
    "        'Electricity, solar',\n",
    "        'Electricity, hydropower',\n",
    "        'Electrcity, biopower',\n",
    "        'Electrcity, geothermal',\n",
    "        'Electrcity, ocean energy']"
   ]
  },
  {
   "cell_type": "code",
   "execution_count": 24,
   "id": "1b904d8d-b5a7-4d67-a07d-4a1d5208d087",
   "metadata": {},
   "outputs": [],
   "source": [
    "# Append new rows in A\n",
    "\n",
    "# Convert new_elec to a DataFrame\n",
    "new_elec_df = pd.DataFrame(new_elec_row) \n",
    "\n",
    "# Append new_elec to the first row\n",
    "A_df_org = pd.concat([A_df_org, new_elec_df], ignore_index=True)"
   ]
  },
  {
   "cell_type": "code",
   "execution_count": 25,
   "id": "e9dec32b-9323-4d58-ac0a-97afa94d94de",
   "metadata": {},
   "outputs": [],
   "source": [
    "# Append new columns in A\n",
    "for elec in new_elec:\n",
    "    A_df_org[elec] = None  # Create a new column with None values\n",
    "\n",
    "# Set the first row of each new column to the corresponding value\n",
    "for idx, elec in enumerate(new_elec):\n",
    "    A_df_org.at[0, elec] = elec  # Set the value in the first row"
   ]
  },
  {
   "cell_type": "code",
   "execution_count": 26,
   "id": "cd85c112-b37f-46eb-9b34-2d85858888de",
   "metadata": {},
   "outputs": [],
   "source": [
    "# Append new columns in B\n",
    "for elec in new_elec:\n",
    "    B_df_org[elec] = None  # Create a new column with None values\n",
    "\n",
    "# Set the first row of each new column to the corresponding value\n",
    "for idx, elec in enumerate(new_elec):\n",
    "    B_df_org.at[0, elec] = elec  # Set the value in the first row"
   ]
  },
  {
   "cell_type": "code",
   "execution_count": 27,
   "id": "029c7cd1-d4d2-41a3-a69e-9dd0cf44e908",
   "metadata": {},
   "outputs": [],
   "source": [
    "# Reset index and drop the old index\n",
    "A_df_org_tr = A_df_org.T.reset_index(drop=True)"
   ]
  },
  {
   "cell_type": "code",
   "execution_count": 28,
   "id": "290b4931-4930-4dde-8f82-5da15657ba40",
   "metadata": {
    "tags": []
   },
   "outputs": [],
   "source": [
    "A_df_org = A_df_org_tr.T"
   ]
  },
  {
   "cell_type": "code",
   "execution_count": 29,
   "id": "2ba8d656-0fa2-419c-b1f5-ec26aca99afa",
   "metadata": {},
   "outputs": [],
   "source": [
    "# Reset index and drop the old index\n",
    "B_df_org_tr = B_df_org.T.reset_index(drop=True)"
   ]
  },
  {
   "cell_type": "code",
   "execution_count": 30,
   "id": "ee9dd57a-e8a2-4430-aeb5-8234ccb64eb9",
   "metadata": {
    "tags": []
   },
   "outputs": [],
   "source": [
    "B_df_org = B_df_org_tr.T"
   ]
  },
  {
   "cell_type": "code",
   "execution_count": 31,
   "id": "490c2d47-49f5-41ee-9cc8-249fa4cba520",
   "metadata": {},
   "outputs": [],
   "source": [
    "A_df_org.reset_index(drop=True, inplace=True)"
   ]
  },
  {
   "cell_type": "code",
   "execution_count": 32,
   "id": "ce46efe7-aa43-460a-acca-2e2f49e93167",
   "metadata": {},
   "outputs": [],
   "source": [
    "A_df_org.to_csv('A_df_org_electricity.csv', index=False)\n",
    "B_df_org.to_csv('B_df_org_electricity.csv', index=False)"
   ]
  },
  {
   "cell_type": "markdown",
   "id": "61e38c11-7e7a-4d47-b3a1-7b2f847ac6d6",
   "metadata": {},
   "source": [
    "## Heat"
   ]
  },
  {
   "cell_type": "markdown",
   "id": "c70f7eb3-c84d-4a74-8fe1-3833b3dc8020",
   "metadata": {},
   "source": [
    "## c: Electrification (skip this for optimization w/o electrification)"
   ]
  },
  {
   "cell_type": "code",
   "execution_count": 34,
   "id": "46d40b56-b713-4d74-bec3-71e1f0d34dc5",
   "metadata": {},
   "outputs": [],
   "source": [
    "heat_processes = [\n",
    "    'Bituminous coal, combusted in industrial boiler',\n",
    "    'Diesel, combusted in industrial boiler',\n",
    "    'Heat',\n",
    "    'Heat, onsite boiler, hardwood mill, average, SE',\n",
    "    'Heat, onsite boiler, hardwood mill, average, SE',\n",
    "    'Lignite coal, combusted in industrial boiler',\n",
    "    'Liquefied petroleum gas, combusted in industrial boiler',\n",
    "    'Residual fuel oil, combusted in industrial boiler',\n",
    "    'Wood fuel, hardwood, generated at lumber mill, combusted in industrial boiler, SE',\n",
    "    'Wood fuel, hardwood, purchased, combusted in industrial boiler, SE',\n",
    "    'Wood waste, unspecified, combusted in industrial boiler',\n",
    "    'Natural gas, combusted in industrial boiler',\n",
    "    'Natural gas, combusted in industrial boiler, at hydrocracker, for ethylene',\n",
    "    'Natural gas, combusted in industrial boiler, at hydrocracker, for pyrolysis gas',\n",
    "    'Wood fuel, unspecified']"
   ]
  },
  {
   "cell_type": "code",
   "execution_count": 35,
   "id": "18e41fa7-1448-4279-8ef1-da53304fc504",
   "metadata": {},
   "outputs": [],
   "source": [
    "Mj_per_unit = [23.9, 37.4, 1, 1, 1, 23.9, 26, 37, 16, 16, 16, 40, 40, 40, 16]"
   ]
  },
  {
   "cell_type": "code",
   "execution_count": 36,
   "id": "dc952352-6a36-4a0f-b9f4-ee5a44fd0e40",
   "metadata": {},
   "outputs": [],
   "source": [
    "boiler_efficiency = [0.81, 0.83, 1, 0.7, 0.7, 0.81, 0.82, 0.83, 0.7, 0.7, 0.7, 0.75, 0.75, 0.75, 0.7]"
   ]
  },
  {
   "cell_type": "code",
   "execution_count": 37,
   "id": "35a8fdf6-0153-4388-9fce-09516ccdcf54",
   "metadata": {},
   "outputs": [],
   "source": [
    "#step 1: identify all heat columns in A and B\n",
    "#finding columns in A with electricity generation\n",
    "store_index_heat_A_col = []\n",
    "stored_index_A = 0\n",
    "for i in range(len(A_df_org.T)):\n",
    "    if str(A_df_org.iloc[0, i]) in heat_processes:\n",
    "        stored_index_A = i\n",
    "        store_index_heat_A_col.append(stored_index_A)"
   ]
  },
  {
   "cell_type": "code",
   "execution_count": 38,
   "id": "6bb617e6-f324-4624-959b-95b5ca5b7c1b",
   "metadata": {},
   "outputs": [],
   "source": [
    "#finding rows in A with electricity generation\n",
    "store_index_heat_A_row = []\n",
    "stored_index_A = 0\n",
    "for i in range(len(A_df_org)):\n",
    "    if str(A_df_org.iloc[i, 0]) in heat_processes:\n",
    "        stored_index_A = i\n",
    "        store_index_heat_A_row.append(stored_index_A)"
   ]
  },
  {
   "cell_type": "code",
   "execution_count": 39,
   "id": "efae723f-eed0-4ff0-961e-4e9c6940bd8d",
   "metadata": {},
   "outputs": [],
   "source": [
    "#finding columns in B with electricity generation\n",
    "#finding columns in B with electricity generation\n",
    "store_index_heat_B = []\n",
    "stored_index_B = 0\n",
    "for i in range(len(B_df_org.T)):\n",
    "    if str(B_df_org.iloc[0, i]) in heat_processes:\n",
    "        stored_index_B = i\n",
    "        store_index_heat_B.append(stored_index_B)"
   ]
  },
  {
   "cell_type": "code",
   "execution_count": 40,
   "id": "4c279295-e918-46c0-afef-8c240646518f",
   "metadata": {},
   "outputs": [],
   "source": [
    "#Step 2: Remove heat columns from A and B\n",
    "A_df_org = A_df_org.drop(A_df_org.columns[store_index_heat_A_col], axis=1)\n",
    "B_df_org = B_df_org.drop(B_df_org.columns[store_index_heat_B], axis=1)"
   ]
  },
  {
   "cell_type": "code",
   "execution_count": 41,
   "id": "72447720-54c9-466d-a7fb-c2b76777e808",
   "metadata": {},
   "outputs": [],
   "source": [
    "X = np.array(Mj_per_unit) * np.array(boiler_efficiency)\n",
    "Y = np.array(A_df_org.loc[store_index_heat_A_row].iloc[:, 10:].replace(np.nan, 0), dtype=float)"
   ]
  },
  {
   "cell_type": "code",
   "execution_count": 42,
   "id": "f30761d7-d86a-418f-a81a-d1b73d804263",
   "metadata": {},
   "outputs": [],
   "source": [
    "#Step 3: aggregate heat rows from A and B and convert them to absolute heat needed\n",
    "heat_sums = []\n",
    "heat_sums = np.transpose(Y)@X"
   ]
  },
  {
   "cell_type": "code",
   "execution_count": 43,
   "id": "1a8bc68e-33fc-4a43-8d01-5f24d1bb1e70",
   "metadata": {},
   "outputs": [],
   "source": [
    "# Reset index and drop the old index\n",
    "A_df_org_tr = A_df_org.T.reset_index(drop=True)"
   ]
  },
  {
   "cell_type": "code",
   "execution_count": 44,
   "id": "ef1d44d3-bb5a-4052-9455-c336341aff0a",
   "metadata": {},
   "outputs": [],
   "source": [
    "A_df_org = A_df_org_tr.T"
   ]
  },
  {
   "cell_type": "code",
   "execution_count": 45,
   "id": "c795a59b-707b-4bb3-ac8f-90f57e0c0f5b",
   "metadata": {},
   "outputs": [],
   "source": [
    "# Reset index and drop the old index\n",
    "B_df_org_tr = B_df_org.T.reset_index(drop=True)"
   ]
  },
  {
   "cell_type": "code",
   "execution_count": 46,
   "id": "a7d7cd89-4780-44cb-af6c-4a8a39d5677f",
   "metadata": {},
   "outputs": [],
   "source": [
    "B_df_org = B_df_org_tr.T"
   ]
  },
  {
   "cell_type": "code",
   "execution_count": 47,
   "id": "990a6eed-0112-4080-af3d-d57cad1affce",
   "metadata": {},
   "outputs": [],
   "source": [
    "A_df_org = A_df_org.drop(A_df_org.columns[store_index_heat_A_row], axis=0)"
   ]
  },
  {
   "cell_type": "code",
   "execution_count": 48,
   "id": "491b0df8-3622-4428-a75a-ecb6e152efeb",
   "metadata": {},
   "outputs": [],
   "source": [
    "# Reset index and drop the old index\n",
    "A_df_org_tr = A_df_org.T.reset_index(drop=True)"
   ]
  },
  {
   "cell_type": "code",
   "execution_count": 49,
   "id": "1a8be3c1-af28-4f23-bda3-08d2036af44f",
   "metadata": {},
   "outputs": [],
   "source": [
    "A_df_org = A_df_org_tr.T"
   ]
  },
  {
   "cell_type": "code",
   "execution_count": 50,
   "id": "82ce8186-e72c-4d66-8e94-0a63c3626c96",
   "metadata": {},
   "outputs": [],
   "source": [
    "# Reset index and drop the old index\n",
    "B_df_org_tr = B_df_org.T.reset_index(drop=True)"
   ]
  },
  {
   "cell_type": "code",
   "execution_count": 51,
   "id": "3caeec71-cc09-48a8-bc81-2c89b42d7cca",
   "metadata": {},
   "outputs": [],
   "source": [
    "B_df_org = B_df_org_tr.T"
   ]
  },
  {
   "cell_type": "code",
   "execution_count": 52,
   "id": "3fe45084-65d2-4862-9f18-b5d110f51482",
   "metadata": {},
   "outputs": [],
   "source": [
    "A_df_org.reset_index(drop=True, inplace=True)"
   ]
  },
  {
   "cell_type": "code",
   "execution_count": 53,
   "id": "a3fb2fd6-f406-4da5-bdd5-ca3003091354",
   "metadata": {},
   "outputs": [],
   "source": [
    "update_store_index_heat_A_row = [x-10 for x in store_index_heat_A_col]"
   ]
  },
  {
   "cell_type": "code",
   "execution_count": 54,
   "id": "eae8c2f0-3347-4b84-b3da-10c1e68651b3",
   "metadata": {},
   "outputs": [],
   "source": [
    "electricity_sums = np.delete(electricity_sums,update_store_index_heat_A_col)"
   ]
  },
  {
   "cell_type": "code",
   "execution_count": 55,
   "id": "896ac79c-bc84-43e2-bfa6-25f057c733f6",
   "metadata": {},
   "outputs": [],
   "source": [
    "for i in range(len(heat_sums)-len(electricity_sums)):\n",
    "    electricity_sums = np.append(electricity_sums, 0)"
   ]
  },
  {
   "cell_type": "markdown",
   "id": "55e9b3f7-6430-49ef-acce-46431f05a967",
   "metadata": {},
   "source": [
    "### Add electricity values to A and B"
   ]
  },
  {
   "cell_type": "code",
   "execution_count": 60,
   "id": "236fd0c2-1b62-4847-b158-c6ab7cf8f909",
   "metadata": {},
   "outputs": [],
   "source": [
    "for i in range (len(A_df_org.T)-10):\n",
    "    A_df_org.iloc [A_df_org.index[A_df_org.iloc[:, 0] == 'Electricity'].tolist()[0],i+10] = electricity_sums[i] + heat_sums[i]"
   ]
  },
  {
   "cell_type": "code",
   "execution_count": 62,
   "id": "a367b493-3057-46fa-9bcc-998d3b66197f",
   "metadata": {},
   "outputs": [],
   "source": [
    "A_df_org.iloc [A_df_org.index[A_df_org.iloc[:, 0] == 'Electricity'].tolist()[0],\n",
    "  A_df_org.T.index[A_df_org.T.iloc[:, 0] == 'Electricity'].tolist()[0]] = 1\n",
    "\n",
    "A_df_org.iloc [A_df_org.index[A_df_org.iloc[:, 0] == 'Electrcity, natural gas '].tolist()[0],\n",
    "  A_df_org.T.index[A_df_org.T.iloc[:, 0] == 'Electricity'].tolist()[0]] = - 0.23\n",
    "\n",
    "A_df_org.iloc [A_df_org.index[A_df_org.iloc[:, 0] == 'Electrcity, coal'].tolist()[0],\n",
    "  A_df_org.T.index[A_df_org.T.iloc[:, 0] == 'Electricity'].tolist()[0]] = - 0.36\n",
    "\n",
    "A_df_org.iloc [A_df_org.index[A_df_org.iloc[:, 0] == 'Electrcity, oil'].tolist()[0],\n",
    "  A_df_org.T.index[A_df_org.T.iloc[:, 0] == 'Electricity'].tolist()[0]] = - 0.03\n",
    "\n",
    "A_df_org.iloc [A_df_org.index[A_df_org.iloc[:, 0] == 'Electrcity, nuclear'].tolist()[0],\n",
    "  A_df_org.T.index[A_df_org.T.iloc[:, 0] == 'Electricity'].tolist()[0]] = - 0.09\n",
    "\n",
    "A_df_org.iloc [A_df_org.index[A_df_org.iloc[:, 0] == 'Electrcity, wind'].tolist()[0],\n",
    "  A_df_org.T.index[A_df_org.T.iloc[:, 0] == 'Electricity'].tolist()[0]] = - 0.08\n",
    "\n",
    "A_df_org.iloc [A_df_org.index[A_df_org.iloc[:, 0] == 'Electricity, solar'].tolist()[0],\n",
    "  A_df_org.T.index[A_df_org.T.iloc[:, 0] == 'Electricity'].tolist()[0]] = - 0.06\n",
    "\n",
    "A_df_org.iloc [A_df_org.index[A_df_org.iloc[:, 0] == 'Electricity, hydropower'].tolist()[0],\n",
    "  A_df_org.T.index[A_df_org.T.iloc[:, 0] == 'Electricity'].tolist()[0]] = - 0.14\n",
    "\n",
    "A_df_org.iloc [A_df_org.index[A_df_org.iloc[:, 0] == 'Electrcity, biopower'].tolist()[0],\n",
    "  A_df_org.T.index[A_df_org.T.iloc[:, 0] == 'Electricity'].tolist()[0]] = - 0.02\n",
    "\n",
    "A_df_org.iloc [A_df_org.index[A_df_org.iloc[:, 0] == 'Electrcity, geothermal'].tolist()[0],\n",
    "  A_df_org.T.index[A_df_org.T.iloc[:, 0] == 'Electricity'].tolist()[0]] = 0\n",
    "\n",
    "A_df_org.iloc [A_df_org.index[A_df_org.iloc[:, 0] == 'Electrcity, ocean energy'].tolist()[0],\n",
    "  A_df_org.T.index[A_df_org.T.iloc[:, 0] == 'Electricity'].tolist()[0]] = 0\n",
    "\n",
    "#rest of the matrix\n",
    "A_df_org.iloc [A_df_org.index[A_df_org.iloc[:, 0] == 'Electrcity, natural gas '].tolist()[0],\n",
    "  A_df_org.T.index[A_df_org.T.iloc[:, 0] == 'Electrcity, natural gas '].tolist()[0]] = 1\n",
    "\n",
    "A_df_org.iloc [A_df_org.index[A_df_org.iloc[:, 0] == 'Electrcity, coal'].tolist()[0],\n",
    "  A_df_org.T.index[A_df_org.T.iloc[:, 0] == 'Electrcity, coal'].tolist()[0]] = 1\n",
    "\n",
    "A_df_org.iloc [A_df_org.index[A_df_org.iloc[:, 0] == 'Electrcity, oil'].tolist()[0],\n",
    "  A_df_org.T.index[A_df_org.T.iloc[:, 0] == 'Electrcity, oil'].tolist()[0]] = 1\n",
    "\n",
    "A_df_org.iloc [A_df_org.index[A_df_org.iloc[:, 0] == 'Electrcity, nuclear'].tolist()[0],\n",
    "  A_df_org.T.index[A_df_org.T.iloc[:, 0] == 'Electrcity, nuclear'].tolist()[0]] = 1\n",
    "\n",
    "A_df_org.iloc [A_df_org.index[A_df_org.iloc[:, 0] == 'Electrcity, wind'].tolist()[0],\n",
    "  A_df_org.T.index[A_df_org.T.iloc[:, 0] == 'Electrcity, wind'].tolist()[0]] = 1\n",
    "\n",
    "A_df_org.iloc [A_df_org.index[A_df_org.iloc[:, 0] == 'Electricity, solar'].tolist()[0],\n",
    "  A_df_org.T.index[A_df_org.T.iloc[:, 0] == 'Electricity, solar'].tolist()[0]] = 1\n",
    "\n",
    "A_df_org.iloc [A_df_org.index[A_df_org.iloc[:, 0] == 'Electricity, hydropower'].tolist()[0],\n",
    "  A_df_org.T.index[A_df_org.T.iloc[:, 0] == 'Electricity, hydropower'].tolist()[0]] = 1\n",
    "\n",
    "A_df_org.iloc [A_df_org.index[A_df_org.iloc[:, 0] == 'Electrcity, biopower'].tolist()[0],\n",
    "  A_df_org.T.index[A_df_org.T.iloc[:, 0] == 'Electrcity, biopower'].tolist()[0]] = 1\n",
    "\n",
    "A_df_org.iloc [A_df_org.index[A_df_org.iloc[:, 0] == 'Electrcity, geothermal'].tolist()[0],\n",
    "  A_df_org.T.index[A_df_org.T.iloc[:, 0] == 'Electrcity, geothermal'].tolist()[0]] = 1\n",
    "\n",
    "A_df_org.iloc [A_df_org.index[A_df_org.iloc[:, 0] == 'Electrcity, ocean energy'].tolist()[0],\n",
    "  A_df_org.T.index[A_df_org.T.iloc[:, 0] == 'Electrcity, ocean energy'].tolist()[0]] = 1"
   ]
  },
  {
   "cell_type": "code",
   "execution_count": 64,
   "id": "811d9b78-6937-4864-a997-1cf2870e327a",
   "metadata": {},
   "outputs": [],
   "source": [
    "B_df_org.iloc [B_df_org.index[B_df_org.iloc[:, 0] == 'b6f010fb-a764-3063-af2d-bcb8309a97b7'].tolist()[0],\n",
    "  B_df_org.T.index[B_df_org.iloc[0, :] == 'Electrcity, natural gas '].tolist()[0]] = 0.460/3.6\n",
    "\n",
    "B_df_org.iloc [B_df_org.index[B_df_org.iloc[:, 0] == 'b6f010fb-a764-3063-af2d-bcb8309a97b7'].tolist()[0],\n",
    "  B_df_org.T.index[B_df_org.iloc[0, :] == 'Electrcity, coal'].tolist()[0]] = 1/3.6\n",
    "\n",
    "B_df_org.iloc [B_df_org.index[B_df_org.iloc[:, 0] == 'b6f010fb-a764-3063-af2d-bcb8309a97b7'].tolist()[0],\n",
    "  B_df_org.T.index[B_df_org.iloc[0, :] == 'Electrcity, oil'].tolist()[0]] = 0.841/3.6\n",
    "\n",
    "B_df_org.iloc [B_df_org.index[B_df_org.iloc[:, 0] == 'b6f010fb-a764-3063-af2d-bcb8309a97b7'].tolist()[0],\n",
    "  B_df_org.T.index[B_df_org.iloc[0, :] == 'Electrcity, nuclear'].tolist()[0]] = 0.016/3.6\n",
    "\n",
    "B_df_org.iloc [B_df_org.index[B_df_org.iloc[:, 0] == 'b6f010fb-a764-3063-af2d-bcb8309a97b7'].tolist()[0],\n",
    "  B_df_org.T.index[B_df_org.iloc[0, :] == 'Electrcity, wind'].tolist()[0]] = 0.011/3.6\n",
    "\n",
    "B_df_org.iloc [B_df_org.index[B_df_org.iloc[:, 0] == 'b6f010fb-a764-3063-af2d-bcb8309a97b7'].tolist()[0],\n",
    "  B_df_org.T.index[B_df_org.iloc[0, :] == 'Electricity, solar'].tolist()[0]] = 0.045/3.6\n",
    "\n",
    "B_df_org.iloc [B_df_org.index[B_df_org.iloc[:, 0] == 'b6f010fb-a764-3063-af2d-bcb8309a97b7'].tolist()[0],\n",
    "  B_df_org.T.index[B_df_org.iloc[0, :] == 'Electricity, hydropower'].tolist()[0]] = 0.0065/3.6\n",
    "\n",
    "B_df_org.iloc [B_df_org.index[B_df_org.iloc[:, 0] == 'b6f010fb-a764-3063-af2d-bcb8309a97b7'].tolist()[0],\n",
    "  B_df_org.T.index[B_df_org.iloc[0, :] == 'Electrcity, biopower'].tolist()[0]] = 0.039/3.6\n",
    "\n",
    "B_df_org.iloc [B_df_org.index[B_df_org.iloc[:, 0] == 'b6f010fb-a764-3063-af2d-bcb8309a97b7'].tolist()[0],\n",
    "  B_df_org.T.index[B_df_org.iloc[0, :] == 'Electrcity, geothermal'].tolist()[0]] = 0.045/3.6\n",
    "\n",
    "B_df_org.iloc [B_df_org.index[B_df_org.iloc[:, 0] == 'b6f010fb-a764-3063-af2d-bcb8309a97b7'].tolist()[0],\n",
    "  B_df_org.T.index[B_df_org.iloc[0, :] == 'Electrcity, ocean energy'].tolist()[0]] = 0.008/3.6"
   ]
  },
  {
   "cell_type": "code",
   "execution_count": 66,
   "id": "c608fb68-13ee-4478-b195-184529266f2b",
   "metadata": {},
   "outputs": [],
   "source": [
    "A_df_org.to_csv('A_df_org_heat-5.csv', index=False)\n",
    "B_df_org.to_csv('B_df_org_heat-5.csv', index=False)"
   ]
  },
  {
   "cell_type": "markdown",
   "id": "f37dacff-3b9a-492b-bef2-6f8dfb27ba6f",
   "metadata": {},
   "source": [
    "## Generation of A, B, and C"
   ]
  },
  {
   "cell_type": "code",
   "execution_count": 67,
   "id": "589790e5-4f76-48b6-8e93-9c54b93a0adc",
   "metadata": {},
   "outputs": [],
   "source": [
    "A_df = copy.copy(A_df_org)\n",
    "B_df = copy.copy(B_df_org)"
   ]
  },
  {
   "cell_type": "code",
   "execution_count": 68,
   "id": "c480ef4c-8fd3-4f59-aa00-09147d11c923",
   "metadata": {},
   "outputs": [],
   "source": [
    "#Building A matrix\n",
    "# Step 1: Delete the first 10 columns\n",
    "A_df = A_df.drop(A_df.columns[:10], axis=1)\n",
    "\n",
    "# Step 2: Delete the first 10 rows \n",
    "A_df = A_df.iloc[10:]\n",
    "\n",
    "#Replacing empty values with zero and getting the final A matrix\n",
    "A=A_df\n",
    "A=A.replace(np.nan, 0)\n",
    "A=np.array(A,dtype='float64')"
   ]
  },
  {
   "cell_type": "code",
   "execution_count": 69,
   "id": "03f0fa52-1f85-4993-a08b-08b7d00280f1",
   "metadata": {},
   "outputs": [],
   "source": [
    "# Building B matrix\n",
    "# Step 1: Delete the first 7 columns\n",
    "B_df = B_df.drop(B_df.columns[:7], axis=1)\n",
    "\n",
    "# Step 2: Delete the first 10 rows (first row is heading, so put 3)\n",
    "B_df = B_df.iloc[10:]\n",
    "\n",
    "# Replacing empty values with zero\n",
    "B_df = B_df.replace(np.nan, 0)\n",
    "\n",
    "# Converting all elements to float, handling empty strings and stripping whitespace\n",
    "def convert_to_float(x):\n",
    "    if isinstance(x, str):\n",
    "        x = x.strip()  # Remove any leading/trailing whitespace\n",
    "        if x == '':  # Handle empty strings\n",
    "            return 0.0\n",
    "        try:\n",
    "            return float(x)\n",
    "        except ValueError:\n",
    "            return 0.0  # Or raise an error if you want to catch non-numeric strings\n",
    "    return x\n",
    "\n",
    "B_df = B_df.applymap(convert_to_float)\n",
    "\n",
    "# Converting to a NumPy array\n",
    "B = np.array(B_df, dtype=float)"
   ]
  },
  {
   "cell_type": "code",
   "execution_count": 70,
   "id": "c6150f5f-c856-42f4-b2cc-d5fbbedaf010",
   "metadata": {},
   "outputs": [],
   "source": [
    "#Building C matrix\n",
    "# Step 1: Delete the first 7 columns\n",
    "C_df = C_df.drop(C_df.columns[:7], axis=1)\n",
    "\n",
    "# Step 2: Delete the first 5 rows (first row is heading, so put 3)\n",
    "C_df = C_df.iloc[5:]\n",
    "\n",
    "#Replacing empty values with zero and getting the final B matrix\n",
    "C=C_df\n",
    "C=C.replace(np.nan, 0)\n",
    "C=np.array(C,dtype='float64')"
   ]
  },
  {
   "cell_type": "code",
   "execution_count": 71,
   "id": "94e9eb29-2dd3-46e2-bad4-4c162084e04a",
   "metadata": {},
   "outputs": [],
   "source": [
    "#Functional Unit\n",
    "# F = 168.450 million metric tons = 168,450,000 metric tons = 168,450,000,000 kg\n",
    "F=168450000000\n",
    "F=int(F)\n",
    "#defining f matrix\n",
    "f=np.zeros(len(A))\n",
    "f[0]=F"
   ]
  },
  {
   "cell_type": "code",
   "execution_count": 74,
   "id": "672dc0e0-d5a8-427b-aa1c-00960efaa3b6",
   "metadata": {},
   "outputs": [],
   "source": [
    "C_gwp_wo_seq= np.transpose(C)[[0]]\n",
    "coef_GWP_wo_seq = C_gwp_wo_seq@B\n",
    "coef_GWP_wo_seq = np.array(coef_GWP_wo_seq)\n",
    "coef_GWP_wo_seq = coef_GWP_wo_seq.reshape(-1)"
   ]
  },
  {
   "cell_type": "code",
   "execution_count": 96,
   "id": "c6a050a4-1765-4e56-8f62-51d0bf88fca0",
   "metadata": {},
   "outputs": [
    {
     "data": {
      "text/plain": [
       "{'Problem': [{'Name': 'x128', 'Lower bound': 250781611354.24124, 'Upper bound': 250781611354.24124, 'Number of objectives': 1, 'Number of constraints': 239, 'Number of variables': 128, 'Number of binary variables': 0, 'Number of integer variables': 0, 'Number of continuous variables': 128, 'Number of nonzeros': 669, 'Sense': 'minimize'}], 'Solver': [{'Status': 'ok', 'Return code': '0', 'Message': 'Model was solved to optimality (subject to tolerances), and an optimal solution is available.', 'Termination condition': 'optimal', 'Termination message': 'Model was solved to optimality (subject to tolerances), and an optimal solution is available.', 'Wall time': '0.0008249282836914062', 'Error rc': 0, 'Time': 0.21617484092712402}], 'Solution': [OrderedDict([('number of solutions', 0), ('number of solutions displayed', 0)])]}"
      ]
     },
     "execution_count": 96,
     "metadata": {},
     "output_type": "execute_result"
    }
   ],
   "source": [
    "#Model Formulation\n",
    "# Create the model\n",
    "model = ConcreteModel()\n",
    "# List of processes with negative scaling factor due to open loop recovery and substitution approach\n",
    "negative_s_indices = []\n",
    "positive_s_indices = []\n",
    "all_s_indices = []\n",
    "\n",
    "search_elements_zero = ['High-tech MRF',\n",
    "                        #'Med-tech MRF',\n",
    "                        #'Low-tech MRF',\n",
    "                        'bio-ethylene production (monomer)',\n",
    "                        'bio-propylene production (monomer)',\n",
    "                        'bio-EG production (monomer)',\n",
    "                        'bio-styrene production (monomer)',\n",
    "                        'bio-vinyl chloride production (monomer)',]\n",
    "\n",
    "search_elements_zero_or_negative = []\n",
    "\n",
    "search_elements_zero_or_negative_or_positive = []\n",
    "\n",
    "#Search for elements in the first row of the DataFrame\n",
    "negative_s_indices = [A_df_org.iloc[0,:].tolist().index(elem) for elem in search_elements_zero_or_negative]\n",
    "negative_s_indices = [i-9 for i in negative_s_indices]\n",
    "zero_s_indices = [A_df_org.iloc[0,:].tolist().index(elem) for elem in search_elements_zero]\n",
    "zero_s_indices = [i-9 for i in zero_s_indices]\n",
    "all_s_indices = list(range(1, len(np.transpose(A))+1))\n",
    "positive_s_indices = all_s_indices\n",
    "\n",
    "\n",
    "# Define the decision variable\n",
    "model.set_s = RangeSet(len(np.transpose(A)))\n",
    "model.s = Var(model.set_s)\n",
    "model.set_negative_scale = Set(initialize=negative_s_indices)\n",
    "model.set_positive_scale = Set(initialize=positive_s_indices)\n",
    "model.set_zero_scale = Set(initialize=zero_s_indices)\n",
    "\n",
    "\n",
    "e = 0\n",
    "#model constraint: As = f and s>=0\n",
    "model.set_balance = RangeSet(len(f))\n",
    "def balance(model, p): # As = f\n",
    "    return sum(A[p-1,i-1]*model.s[i] for i in model.set_s) == f[p-1]\n",
    "def negative_scale(model, i):\n",
    "    return (model.s[i]<=0)\n",
    "def positive_scale(model, i):\n",
    "    return (model.s[i]>=e)\n",
    "def zero_scale(model, i):\n",
    "    return (model.s[i]==e)\n",
    "\n",
    "model.balance_constraints = Constraint(model.set_balance, rule=balance)\n",
    "#model.negative_scale_constraints = Constraint(model.set_negative_scale, rule=negative_scale)\n",
    "model.positive_scale_constraints = Constraint(model.set_positive_scale, rule=positive_scale)\n",
    "model.zero_scale_constraints = Constraint(model.set_zero_scale, rule=zero_scale)\n",
    "\n",
    "\n",
    "model.obj = Objective(expr = sum(coef_GWP_wo_seq[i-1]*model.s[i] for i in model.set_s), sense=minimize)\n",
    "#Solver\n",
    "solver = SolverFactory('gurobi')\n",
    "solver.solve(model) # solves and updates instance"
   ]
  },
  {
   "cell_type": "code",
   "execution_count": 97,
   "id": "6178026b-66f5-4340-812b-1ac90632127e",
   "metadata": {},
   "outputs": [],
   "source": [
    "#total CO2 emission (kg CO2eq)\n",
    "GWP_best_wo_seq = value(model.obj)"
   ]
  },
  {
   "cell_type": "code",
   "execution_count": 98,
   "id": "bbbcfc75-efa7-41f8-a767-8d4e27914b2d",
   "metadata": {},
   "outputs": [
    {
     "data": {
      "text/plain": [
       "250781611354.2413"
      ]
     },
     "execution_count": 98,
     "metadata": {},
     "output_type": "execute_result"
    }
   ],
   "source": [
    "GWP_best_wo_seq"
   ]
  },
  {
   "cell_type": "code",
   "execution_count": 99,
   "id": "44185f32-737c-4af6-aa60-3fe19be25b68",
   "metadata": {},
   "outputs": [],
   "source": [
    "#kg CO2 eq per kg of packaging product\n",
    "GWP_best_wo_seq_per_kg = value(model.obj)/168450000000 "
   ]
  },
  {
   "cell_type": "code",
   "execution_count": 100,
   "id": "59a6550a-2765-4bc0-9fb4-b8d5fc1f762e",
   "metadata": {},
   "outputs": [
    {
     "data": {
      "text/plain": [
       "1.48875993680167"
      ]
     },
     "execution_count": 100,
     "metadata": {},
     "output_type": "execute_result"
    }
   ],
   "source": [
    "GWP_best_wo_seq_per_kg"
   ]
  },
  {
   "cell_type": "code",
   "execution_count": 101,
   "id": "e83217f4-8675-42dc-87b7-e06fc6550242",
   "metadata": {},
   "outputs": [],
   "source": [
    "scaling_factors_wo_seq = []\n",
    "for j in model.s:\n",
    "    scaling_factors_wo_seq.append(model.s[j].value)  "
   ]
  },
  {
   "cell_type": "code",
   "execution_count": 102,
   "id": "51bf9a1a-eb26-443a-bf69-af1fa29d6193",
   "metadata": {},
   "outputs": [
    {
     "data": {
      "text/plain": [
       "[41933851140.15352, 0.0, 0.0]"
      ]
     },
     "execution_count": 102,
     "metadata": {},
     "output_type": "execute_result"
    }
   ],
   "source": [
    "#1. monomer production\n",
    "#ethylene\n",
    "ethylene_s_indices = []\n",
    "scaling_factors_ethylene = []\n",
    "search_elements_ethylene = [\n",
    "    'fossil-ethylene production (monomer)',\n",
    "    'pyrolysis (monomer production), HDPE sorted',\n",
    "    'pyrolysis (monomer production), LDPE sorted'\n",
    "]\n",
    "ethylene_s_indices = [A_df_org.iloc[0,:].tolist().index(elem) for elem in search_elements_ethylene]\n",
    "ethylene_s_indices = [i-9 for i in ethylene_s_indices]\n",
    "for j in ethylene_s_indices:\n",
    "    scaling_factors_ethylene.append(model.s[j].value)\n",
    "scaling_factors_ethylene"
   ]
  },
  {
   "cell_type": "code",
   "execution_count": 103,
   "id": "7238902f-2fc0-40e9-8dc4-79c7707718a7",
   "metadata": {},
   "outputs": [
    {
     "data": {
      "text/plain": [
       "[17897772039.904514, 0.0]"
      ]
     },
     "execution_count": 103,
     "metadata": {},
     "output_type": "execute_result"
    }
   ],
   "source": [
    "#propylene\n",
    "propylene_s_indices = []\n",
    "scaling_factors_propylene = []\n",
    "search_elements_propylene = [\n",
    "    'fossil-propylene production (monomer)',\n",
    "    'pyrolysis (monomer production), PP sorted',\n",
    "]\n",
    "propylene_s_indices = [A_df_org.iloc[0,:].tolist().index(elem) for elem in search_elements_propylene]\n",
    "propylene_s_indices = [i-9 for i in propylene_s_indices]\n",
    "for j in propylene_s_indices:\n",
    "    scaling_factors_propylene.append(model.s[j].value)\n",
    "scaling_factors_propylene   "
   ]
  },
  {
   "cell_type": "code",
   "execution_count": 104,
   "id": "647001d1-4483-4396-a418-2e1d98676355",
   "metadata": {},
   "outputs": [
    {
     "data": {
      "text/plain": [
       "[8003191666.057436, 0.0, 0.0]"
      ]
     },
     "execution_count": 104,
     "metadata": {},
     "output_type": "execute_result"
    }
   ],
   "source": [
    "#MEG\n",
    "MEG_s_indices = []\n",
    "scaling_factors_MEG = []\n",
    "search_elements_MEG = [\n",
    "    'fossil-EG production (monomer)',\n",
    "    'depolymerization, enzymatic hyrdrolysis, PET sorted',\n",
    "    'depolymerization, glycolysis, PET sorted'\n",
    "]\n",
    "MEG_s_indices = [A_df_org.iloc[0,:].tolist().index(elem) for elem in search_elements_MEG]\n",
    "MEG_s_indices = [i-9 for i in MEG_s_indices]\n",
    "for j in MEG_s_indices:\n",
    "    scaling_factors_MEG.append(model.s[j].value)\n",
    "scaling_factors_MEG   "
   ]
  },
  {
   "cell_type": "code",
   "execution_count": 105,
   "id": "1bedd31f-d8f3-4eb8-a371-ce5ba4663f94",
   "metadata": {},
   "outputs": [
    {
     "data": {
      "text/plain": [
       "[4950906029.9179535, 0.0]"
      ]
     },
     "execution_count": 105,
     "metadata": {},
     "output_type": "execute_result"
    }
   ],
   "source": [
    "#styrene\n",
    "styrene_s_indices = []\n",
    "scaling_factors_styrene = []\n",
    "search_elements_styrene = [\n",
    "    'fossil-styrene production (monomer)',\n",
    "    'chemical recycling with metal oxide, PS sorted',\n",
    "]\n",
    "styrene_s_indices = [A_df_org.iloc[0,:].tolist().index(elem) for elem in search_elements_styrene]\n",
    "styrene_s_indices = [i-9 for i in styrene_s_indices]\n",
    "for j in styrene_s_indices:\n",
    "    scaling_factors_styrene.append(model.s[j].value)\n",
    "scaling_factors_styrene "
   ]
  },
  {
   "cell_type": "code",
   "execution_count": 106,
   "id": "bb293e69-569c-4355-98ce-b32a9d2b9909",
   "metadata": {},
   "outputs": [
    {
     "data": {
      "text/plain": [
       "[2047222703.169283]"
      ]
     },
     "execution_count": 106,
     "metadata": {},
     "output_type": "execute_result"
    }
   ],
   "source": [
    "#vinyl chloride\n",
    "vinyl_chloride_s_indices = []\n",
    "scaling_factors_vinyl_chloride = []\n",
    "search_elements_vinyl_chloride = [\n",
    "    'fossil-vinyl chloride production (monomer)',\n",
    "]\n",
    "vinyl_chloride_s_indices = [A_df_org.iloc[0,:].tolist().index(elem) for elem in search_elements_vinyl_chloride]\n",
    "vinyl_chloride_s_indices = [i-9 for i in vinyl_chloride_s_indices]\n",
    "for j in vinyl_chloride_s_indices:\n",
    "    scaling_factors_vinyl_chloride.append(model.s[j].value)\n",
    "scaling_factors_vinyl_chloride  "
   ]
  },
  {
   "cell_type": "code",
   "execution_count": 107,
   "id": "c7167c76-3368-4479-a888-6ab8559c8f53",
   "metadata": {},
   "outputs": [
    {
     "data": {
      "text/plain": [
       "[0.0, 0.0, 20425908923.105957, 15613837013.467352]"
      ]
     },
     "execution_count": 107,
     "metadata": {},
     "output_type": "execute_result"
    }
   ],
   "source": [
    "# 2. polymers\n",
    "#polyethylene\n",
    "scaling_factors_polyethylene = []\n",
    "polyethylene_s_indices = []\n",
    "search_elements_polyethylene = [\n",
    "    'advanced recycling, STRAP, multi-layer plastic packaging',\n",
    "    'advanced recycling, delamination, multi-layer plastic packaging',\n",
    "    'LDPE production',\n",
    "    'mechanical recycling, LDPE sorted'\n",
    "]\n",
    "polyethylene_s_indices = [A_df_org.iloc[0,:].tolist().index(elem) for elem in search_elements_polyethylene]\n",
    "polyethylene_s_indices = [i-9 for i in polyethylene_s_indices]\n",
    "for j in polyethylene_s_indices:\n",
    "    scaling_factors_polyethylene.append(model.s[j].value)\n",
    "scaling_factors_polyethylene"
   ]
  },
  {
   "cell_type": "code",
   "execution_count": 108,
   "id": "31f7470e-fb0e-4282-9c4e-ff895406cecb",
   "metadata": {},
   "outputs": [
    {
     "data": {
      "text/plain": [
       "[0.0, 0.0, 21817563062.337997, 16435449829.503]"
      ]
     },
     "execution_count": 108,
     "metadata": {},
     "output_type": "execute_result"
    }
   ],
   "source": [
    "#polyethylene\n",
    "scaling_factors_polyethylene = []\n",
    "polyethylene_s_indices = []\n",
    "search_elements_polyethylene = [\n",
    "    'advanced recycling, delamination, multi-layer plastic packaging',\n",
    "    'advanced recycling, STRAP, multi-layer plastic packaging',\n",
    "    'HDPE production',\n",
    "    'mechanical recycling, HDPE sorted'\n",
    "]\n",
    "polyethylene_s_indices = [A_df_org.iloc[0,:].tolist().index(elem) for elem in search_elements_polyethylene]\n",
    "polyethylene_s_indices = [i-9 for i in polyethylene_s_indices]\n",
    "for j in polyethylene_s_indices:\n",
    "    scaling_factors_polyethylene.append(model.s[j].value)\n",
    "scaling_factors_polyethylene"
   ]
  },
  {
   "cell_type": "code",
   "execution_count": 109,
   "id": "9018af2a-6b96-4588-a9a5-42702d936c68",
   "metadata": {},
   "outputs": [
    {
     "data": {
      "text/plain": [
       "[0.0, 0.0, 29672055324.770195, 22352339516.157]"
      ]
     },
     "execution_count": 109,
     "metadata": {},
     "output_type": "execute_result"
    }
   ],
   "source": [
    "#polypropylene\n",
    "scaling_factors_polypropylene = []\n",
    "polypropylene_s_indices = []\n",
    "search_elements_polypropylene = [\n",
    "    'advanced recycling, delamination, multi-layer plastic packaging',\n",
    "    'advanced recycling, STRAP, multi-layer plastic packaging',\n",
    "    'PP production',\n",
    "    'mechanical recycling, PP sorted'\n",
    "]\n",
    "polypropylene_s_indices = [A_df_org.iloc[0,:].tolist().index(elem) for elem in search_elements_polypropylene]\n",
    "polypropylene_s_indices = [i-9 for i in polypropylene_s_indices]\n",
    "for j in polypropylene_s_indices:\n",
    "    scaling_factors_polypropylene.append(model.s[j].value)\n",
    "scaling_factors_polypropylene"
   ]
  },
  {
   "cell_type": "code",
   "execution_count": 110,
   "id": "69eca8db-31e0-49c8-9f3a-bf6d30f57bc2",
   "metadata": {},
   "outputs": [
    {
     "data": {
      "text/plain": [
       "[0.0, 0.0, 23184216877.33904, 17001591710.417252]"
      ]
     },
     "execution_count": 110,
     "metadata": {},
     "output_type": "execute_result"
    }
   ],
   "source": [
    "#polyethylene terephthalate\n",
    "scaling_factors_PET = []\n",
    "PET_s_indices = []\n",
    "search_elements_PET = [\n",
    "    'advanced recycling, delamination, multi-layer plastic packaging',\n",
    "    'advanced recycling, STRAP, multi-layer plastic packaging',\n",
    "    'PET production',\n",
    "    'mechanical recycling, PET sorted'\n",
    "]\n",
    "PET_s_indices = [A_df_org.iloc[0,:].tolist().index(elem) for elem in search_elements_PET]\n",
    "PET_s_indices = [i-9 for i in PET_s_indices]\n",
    "for j in PET_s_indices:\n",
    "    scaling_factors_PET.append(model.s[j].value)\n",
    "scaling_factors_PET"
   ]
  },
  {
   "cell_type": "code",
   "execution_count": 111,
   "id": "b7f7197d-f891-44e8-a58a-6823be11974d",
   "metadata": {},
   "outputs": [
    {
     "data": {
      "text/plain": [
       "[0.0, 0.0, 5021202870.099344, 3913062690.073875]"
      ]
     },
     "execution_count": 111,
     "metadata": {},
     "output_type": "execute_result"
    }
   ],
   "source": [
    "#polystyrene terephthalate\n",
    "scaling_factors_PS = []\n",
    "PS_s_indices = []\n",
    "search_elements_PS = [\n",
    "    'advanced recycling, delamination, multi-layer plastic packaging',\n",
    "    'advanced recycling, STRAP, multi-layer plastic packaging',\n",
    "    'PS production',\n",
    "    'mechanical recycling, PS sorted'\n",
    "]\n",
    "PS_s_indices = [A_df_org.iloc[0,:].tolist().index(elem) for elem in search_elements_PS]\n",
    "PS_s_indices = [i-9 for i in PS_s_indices]\n",
    "for j in PS_s_indices:\n",
    "    scaling_factors_PS.append(model.s[j].value)\n",
    "scaling_factors_PS"
   ]
  },
  {
   "cell_type": "code",
   "execution_count": 112,
   "id": "062a77a7-0179-477d-9986-d24b7e6bb7e2",
   "metadata": {},
   "outputs": [
    {
     "data": {
      "text/plain": [
       "[0.0, 0.0, 2053382851.7244563, 1461078.174929727]"
      ]
     },
     "execution_count": 112,
     "metadata": {},
     "output_type": "execute_result"
    }
   ],
   "source": [
    "#polyvinyl chloride\n",
    "scaling_factors_PVC = []\n",
    "PVC_s_indices = []\n",
    "search_elements_PVC = [\n",
    "    'advanced recycling, delamination, multi-layer plastic packaging',\n",
    "    'advanced recycling, STRAP, multi-layer plastic packaging',\n",
    "    'PVC production',\n",
    "    'mechanical recycling, PVC sorted'\n",
    "]\n",
    "PVC_s_indices = [A_df_org.iloc[0,:].tolist().index(elem) for elem in search_elements_PVC]\n",
    "PVC_s_indices = [i-9 for i in PVC_s_indices]\n",
    "for j in PVC_s_indices:\n",
    "    scaling_factors_PVC.append(model.s[j].value)\n",
    "scaling_factors_PVC"
   ]
  },
  {
   "cell_type": "code",
   "execution_count": 113,
   "id": "04c9037b-172a-40fc-a1bd-979111e40359",
   "metadata": {},
   "outputs": [
    {
     "data": {
      "text/plain": [
       "[0.0, 0.0, 0.0, 160027500000.0, 0.0]"
      ]
     },
     "execution_count": 113,
     "metadata": {},
     "output_type": "execute_result"
    }
   ],
   "source": [
    "#3. mixed plastic collected waste (sorting, energy recovery, landfill, mismanaged)\n",
    "\n",
    "scaling_factors_mixed = []\n",
    "mixed_s_indices = []\n",
    "search_elements_mixed = [\n",
    "    'incineration, electricity recovery, plastic packaging waste',\n",
    "    'landfill, plastic packaging waste',\n",
    "    'High-tech MRF',\n",
    "    'Med-tech MRF',\n",
    "    'Low-tech MRF',\n",
    "]\n",
    "mixed_s_indices = [A_df_org.iloc[0,:].tolist().index(elem) for elem in search_elements_mixed]\n",
    "mixed_s_indices = [i-9 for i in mixed_s_indices]\n",
    "for j in mixed_s_indices:\n",
    "    scaling_factors_mixed.append(model.s[j].value)\n",
    "scaling_factors_mixed"
   ]
  },
  {
   "cell_type": "code",
   "execution_count": 114,
   "id": "aa9ebf2d-e350-4cf6-adb4-78b0fd231570",
   "metadata": {},
   "outputs": [
    {
     "data": {
      "text/plain": [
       "[0.0, 0.0, 60010312500.0, 0.0, 0.0]"
      ]
     },
     "execution_count": 114,
     "metadata": {},
     "output_type": "execute_result"
    }
   ],
   "source": [
    "#4. mixed plastic waste, sorted (sorting, energy recovery, landfill, mismanaged)\n",
    "\n",
    "scaling_factors_mixed = []\n",
    "mixed_s_indices = []\n",
    "search_elements_mixed = [\n",
    "    'cement clinker, mixed plastic packaging, sorted',\n",
    "    'plastic lumber production from sorted mixed plastic waste',\n",
    "    'pyrolysis, feedstock recycling, mixed plastic waste, sorted',\n",
    "    'PET fiber production from sorted PET waste',\n",
    "    'road pavement production from sorted mixed plastic waste'\n",
    "]\n",
    "mixed_s_indices = [A_df_org.iloc[0,:].tolist().index(elem) for elem in search_elements_mixed]\n",
    "mixed_s_indices = [i-9 for i in mixed_s_indices]\n",
    "for j in mixed_s_indices:\n",
    "    scaling_factors_mixed.append(model.s[j].value)\n",
    "scaling_factors_mixed"
   ]
  },
  {
   "cell_type": "code",
   "execution_count": 94,
   "id": "9c93caa7-f1e6-4ba0-afac-4af618acabbe",
   "metadata": {},
   "outputs": [
    {
     "data": {
      "text/plain": [
       "[24017538114.78966, 0.0]"
      ]
     },
     "execution_count": 94,
     "metadata": {},
     "output_type": "execute_result"
    }
   ],
   "source": [
    "#5. Plastic residues\n",
    "scaling_factors_mixed = []\n",
    "mixed_s_indices = []\n",
    "search_elements_mixed = [\n",
    "    'landfill, plastic residues',\n",
    "    'incineration, electricity recovery, plastic residues'\n",
    "]\n",
    "mixed_s_indices = [A_df_org.iloc[0,:].tolist().index(elem) for elem in search_elements_mixed]\n",
    "mixed_s_indices = [i-9 for i in mixed_s_indices]\n",
    "for j in mixed_s_indices:\n",
    "    scaling_factors_mixed.append(model.s[j].value)\n",
    "scaling_factors_mixed"
   ]
  },
  {
   "cell_type": "code",
   "execution_count": 95,
   "id": "c616205d-8753-43cb-9f27-6c221ea8240d",
   "metadata": {},
   "outputs": [
    {
     "data": {
      "text/plain": [
       "[198058799010.88776,\n",
       " 310005076712.69385,\n",
       " 25833756392.724487,\n",
       " 77501269178.17346,\n",
       " 68890017047.2653,\n",
       " 51667512785.448975,\n",
       " 120557529832.7143,\n",
       " 17222504261.816326,\n",
       " 0.0,\n",
       " 0.0]"
      ]
     },
     "execution_count": 95,
     "metadata": {},
     "output_type": "execute_result"
    }
   ],
   "source": [
    "#6. Energy Grid\n",
    "scaling_factors_mixed = []\n",
    "mixed_s_indices = []\n",
    "search_elements_mixed = [\n",
    "        'Electrcity, natural gas ',\n",
    "        'Electrcity, coal',\n",
    "        'Electrcity, oil',\n",
    "        'Electrcity, nuclear',\n",
    "        'Electrcity, wind',\n",
    "        'Electricity, solar',\n",
    "        'Electricity, hydropower',\n",
    "        'Electrcity, biopower',\n",
    "        'Electrcity, geothermal',\n",
    "        'Electrcity, ocean energy']\n",
    "mixed_s_indices = [A_df_org.iloc[0,:].tolist().index(elem) for elem in search_elements_mixed]\n",
    "mixed_s_indices = [i-9 for i in mixed_s_indices]\n",
    "for j in mixed_s_indices:\n",
    "    scaling_factors_mixed.append(model.s[j].value)\n",
    "scaling_factors_mixed"
   ]
  },
  {
   "cell_type": "code",
   "execution_count": null,
   "id": "51ecf50f-f20c-439e-ad24-d20d321c03da",
   "metadata": {},
   "outputs": [],
   "source": []
  },
  {
   "cell_type": "code",
   "execution_count": null,
   "id": "dc41c186-e60d-4b14-b25f-a61983670038",
   "metadata": {},
   "outputs": [],
   "source": []
  }
 ],
 "metadata": {
  "kernelspec": {
   "display_name": "Python 3 (ipykernel)",
   "language": "python",
   "name": "python3"
  },
  "language_info": {
   "codemirror_mode": {
    "name": "ipython",
    "version": 3
   },
   "file_extension": ".py",
   "mimetype": "text/x-python",
   "name": "python",
   "nbconvert_exporter": "python",
   "pygments_lexer": "ipython3",
   "version": "3.9.13"
  }
 },
 "nbformat": 4,
 "nbformat_minor": 5
}
