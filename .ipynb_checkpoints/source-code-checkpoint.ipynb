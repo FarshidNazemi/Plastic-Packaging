{
 "cells": [
  {
   "cell_type": "code",
   "execution_count": 1,
   "id": "c2656b02-ab1a-440c-a740-470ae9a23ea3",
   "metadata": {},
   "outputs": [],
   "source": [
    "import numpy as np\n",
    "import pandas as pd\n",
    "import matplotlib.pyplot as plt\n",
    "import copy"
   ]
  },
  {
   "cell_type": "code",
   "execution_count": 2,
   "id": "ae1c0246-b4ed-40ee-b4bd-d3bb1f8f5845",
   "metadata": {},
   "outputs": [],
   "source": [
    "from pyomo.environ import *\n",
    "from pyomo.environ import RangeSet\n",
    "from pyomo.environ import value"
   ]
  },
  {
   "cell_type": "code",
   "execution_count": 3,
   "id": "7a861f89-67d8-4819-b42e-e6583d1493cc",
   "metadata": {},
   "outputs": [],
   "source": [
    "A_url = \"https://raw.githubusercontent.com/FarshidNazemi/Plastic-Packaging/main/csv-files/Technology%20Matrix%20(A)%20-%20Design.csv\"\n",
    "B_url = \"https://raw.githubusercontent.com/FarshidNazemi/Plastic-Packaging/main/csv-files/Environmental%20Matrix%20(B)%20-%20Design.csv\"\n",
    "C_url = \"https://raw.githubusercontent.com/FarshidNazemi/Plastic-Packaging/main/csv-files/Characterization%20Matrix%20(C)%20-%20Design.csv\""
   ]
  },
  {
   "cell_type": "code",
   "execution_count": 4,
   "id": "43f2c423-d1c6-479d-aec2-145f4fcf03cd",
   "metadata": {},
   "outputs": [],
   "source": [
    "A_df = pd.read_csv(A_url)\n",
    "B_df = pd.read_csv(B_url)\n",
    "C_df = pd.read_csv(C_url)"
   ]
  },
  {
   "cell_type": "code",
   "execution_count": 5,
   "id": "115f5c61-9b71-49b0-9e24-42e21ea68cea",
   "metadata": {},
   "outputs": [],
   "source": [
    "A_df_org = A_df\n",
    "B_df_org = B_df\n",
    "C_df_org = C_df"
   ]
  },
  {
   "cell_type": "code",
   "execution_count": 6,
   "id": "7d1f1a8e-2fe8-4fc9-8104-1f50f7451fc8",
   "metadata": {},
   "outputs": [],
   "source": [
    "#Building A matrix\n",
    "# Step 1: Delete the first 4 columns\n",
    "A_df = A_df.drop(A_df.columns[:4], axis=1)\n",
    "\n",
    "# Step 2: Delete the first 4 rows (first row is heading, so put 3)\n",
    "A_df = A_df.iloc[3:]\n",
    "\n",
    "#Replacing empty values with zero and getting the final A matrix\n",
    "A=A_df\n",
    "A=A.replace(np.nan, 0)\n",
    "A=np.array(A,dtype='float64')"
   ]
  },
  {
   "cell_type": "code",
   "execution_count": 7,
   "id": "bf3ebd60-f00e-4c40-9450-8c37c1791a42",
   "metadata": {},
   "outputs": [],
   "source": [
    "#Building B matrix\n",
    "# Step 1: Delete the first 6 columns\n",
    "B_df = B_df.drop(B_df.columns[:6], axis=1)\n",
    "\n",
    "# Step 2: Delete the first 4 rows (first row is heading, so put 3)\n",
    "B_df = B_df.iloc[3:]\n",
    "\n",
    "#Replacing empty values with zero and getting the final B matrix\n",
    "B=B_df\n",
    "B=B.replace(np.nan, 0)\n",
    "B=np.array(B,dtype='float64')"
   ]
  },
  {
   "cell_type": "code",
   "execution_count": 8,
   "id": "4cdd908a-7d69-4dd6-8d77-abe32416e4bc",
   "metadata": {},
   "outputs": [],
   "source": [
    "#Building C matrix\n",
    "# Step 1: Delete the first 6 columns\n",
    "C_df = C_df.drop(C_df.columns[:6], axis=1)\n",
    "\n",
    "# Step 2: Delete the first 5 rows (first row is heading, so put 3)\n",
    "C_df = C_df.iloc[4:]\n",
    "\n",
    "#Replacing empty values with zero and getting the final B matrix\n",
    "C=C_df\n",
    "C=C.replace(np.nan, 0)\n",
    "C=np.array(C,dtype='float64')"
   ]
  },
  {
   "cell_type": "code",
   "execution_count": 48,
   "id": "76dc7b6b-923b-4388-8244-fa8e32e7b316",
   "metadata": {},
   "outputs": [],
   "source": [
    "#Functional Unit\n",
    "# F = 168.450 million metric tons = 168,450,000 metric tons = 168,450,000,000 kg\n",
    "F=168450000000\n",
    "F=int(F)\n",
    "#defining f matrix\n",
    "f=np.zeros(len(A))\n",
    "f[0]=F"
   ]
  },
  {
   "cell_type": "code",
   "execution_count": 61,
   "id": "c6f861eb-432a-4119-93fe-8073e05c0548",
   "metadata": {},
   "outputs": [],
   "source": [
    "C_gwp= np.transpose(C)[[0]]\n",
    "coef_GWP=C_gwp@B\n",
    "coef_GWP=np.array(coef_GWP)\n",
    "coef_GWP = coef_GWP.reshape(-1)"
   ]
  },
  {
   "cell_type": "code",
   "execution_count": 62,
   "id": "d756d2b5-7523-4d96-a8bc-301f7625999a",
   "metadata": {},
   "outputs": [
    {
     "data": {
      "text/plain": [
       "{'Problem': [{'Name': 'unknown', 'Lower bound': 655493249414.225, 'Upper bound': 655493249414.225, 'Number of objectives': 1, 'Number of constraints': 261, 'Number of variables': 144, 'Number of nonzeros': 612, 'Sense': 'minimize'}], 'Solver': [{'Status': 'ok', 'Termination condition': 'optimal', 'Statistics': {'Branch and bound': {'Number of bounded subproblems': 0, 'Number of created subproblems': 0}}, 'Error rc': 0, 'Time': 0.08178901672363281}], 'Solution': [OrderedDict([('number of solutions', 0), ('number of solutions displayed', 0)])]}"
      ]
     },
     "execution_count": 62,
     "metadata": {},
     "output_type": "execute_result"
    }
   ],
   "source": [
    "#Model Formulation\n",
    "# Create the model\n",
    "model = ConcreteModel()\n",
    "# List of processes with negative scaling factor due to open loop recovery and substitution approach\n",
    "negative_s_indices = []\n",
    "positive_s_indices = []\n",
    "all_s_indices = []\n",
    "search_elements = [\n",
    "    'textile production, nonwoven polyester, needle-punched | textile, nonwoven polyester | APOS, S',\n",
    "    'market for sawlog and veneer log, softwood, debarked, measured as solid wood | sawlog and veneer log, softwood, debarked, measured as solid wood | APOS, S',\n",
    "    'pitch production, petroleum refinery operation | pitch | APOS, S',\n",
    "    'lignite mine operation | lignite | APOS, S',\n",
    "    'market group for electricity, medium voltage | electricity, medium voltage | APOS, S',\n",
    "    'heat production, natural gas, at industrial furnace low-NOx >100kW | heat, district or industrial, natural gas | APOS, S',\n",
    "    'naphtha production, petroleum refinery operation | naphtha | APOS, S',\n",
    "    'methanol production | methanol | APOS, S',\n",
    "    'petroleum production, onshore | petroleum | APOS, S'\n",
    "]\n",
    "\n",
    "# Search for elements in the first row of the DataFrame\n",
    "negative_s_indices = [A_df_org.iloc[:,0].tolist().index(elem) for elem in search_elements]\n",
    "negative_s_indices = [i-3 for i in negative_s_indices]\n",
    "all_s_indices = list(range(1, len(np.transpose(A))+1))\n",
    "positive_s_indices = [index for index in all_s_indices if index not in negative_s_indices]\n",
    "\n",
    "# Define the decision variable\n",
    "model.set_s = RangeSet(len(np.transpose(A)))\n",
    "model.s = Var(model.set_s)\n",
    "model.set_negative_scale = Set(initialize=negative_s_indices)\n",
    "model.set_positive_scale = Set(initialize=positive_s_indices)\n",
    "\n",
    "#model constraint: As = f and s>=0\n",
    "model.set_balance = RangeSet(len(f))\n",
    "def balance(model, p): # As = f\n",
    "    return sum(A[p-1,i-1]*model.s[i] for i in model.set_s) == f[p-1]\n",
    "def negative_scale(model, i):\n",
    "    return (model.s[i]<=0)\n",
    "def positive_scale(model, i):\n",
    "    return (model.s[i]>=0)\n",
    "\n",
    "model.balance_constraints = Constraint(model.set_balance, rule=balance)\n",
    "model.negative_scale_constraints = Constraint(model.set_negative_scale, rule=negative_scale)\n",
    "model.positive_scale_constraints = Constraint(model.set_positive_scale, rule=positive_scale)\n",
    "\n",
    "model.obj = Objective(expr = sum(coef_GWP[i-1]*model.s[i] for i in model.set_s), sense=minimize)\n",
    "#Solver\n",
    "solver = SolverFactory('glpk')\n",
    "solver.solve(model) # solves and updates instance"
   ]
  },
  {
   "cell_type": "code",
   "execution_count": 63,
   "id": "4edea4a0-48f3-432b-9a06-0936c59f1447",
   "metadata": {},
   "outputs": [
    {
     "data": {
      "text/plain": [
       "655493249414.2256"
      ]
     },
     "execution_count": 63,
     "metadata": {},
     "output_type": "execute_result"
    }
   ],
   "source": [
    "value(model.obj)"
   ]
  },
  {
   "cell_type": "code",
   "execution_count": 64,
   "id": "9d0adeb5-c3a5-400c-b1c1-fc639714fe3d",
   "metadata": {},
   "outputs": [],
   "source": [
    "scaling_factors = []\n",
    "for j in model.s:\n",
    "    scaling_factors.append(model.s[j].value)  "
   ]
  },
  {
   "cell_type": "code",
   "execution_count": 66,
   "id": "b6931858-fa0a-4fcd-ae25-837e4290331d",
   "metadata": {},
   "outputs": [],
   "source": [
    "# Sankey Diagram\n",
    "#data\n",
    "label = [\"Resources\",\"Feedstocks\",\"Fossil-based monomers\",\"Bio-based monomers\",\"Monomers\",\n",
    "        \"Polymers\",\"Products\",\"Use & collection\",\"Sorting\",\"Advanced Recycling\", \"Mechanical Recycling\",\n",
    "        \"Chemical Recycling\", \"Downcycling\", \"Energy Recovery\", \"Landfill\", \"Mismanaged Waste\",\n",
    "        \"Macroplastics\", \"Microplastics\"]\n",
    "\n",
    "#1: Resources\n",
    "#2: Feedstocks\n",
    "#3: Fossil-based monomers\n",
    "#4: Bio-based monomers\n",
    "#5: Monomers\n",
    "#6: Polymers\n",
    "#7: Products\n",
    "#8: Use & collection\n",
    "#9: Sorting\n",
    "#10: Advanced Recycling\n",
    "#11: Mechanical Recycling\n",
    "#12: Chemical Recycling\n",
    "#13: Downcycling\n",
    "#14: Energy Recovery\n",
    "#15: Landfill\n",
    "#16: Mismanaged Waste\n",
    "#17: Macroplastics\n",
    "#18: Microplastics\n",
    "\n",
    "source = [1,2,2,3,4,5,6,7,8, 8, 8, 8, 8, 9, 9, 9, 9, 9, 9, 9,10,10,10,10,11,11,11,11,12,12,12,12,12,13,13,13,16,17]\n",
    "target = [2,3,4,5,5,6,7,8,9,14,15,16,17,10,11,12,13,14,15,16, 7,14,15,16, 7,14,15,16, 5, 2,14,15,16,14,15,16,17,18]\n"
   ]
  },
  {
   "cell_type": "code",
   "execution_count": null,
   "id": "d13bd1e8-d400-454a-88a3-b05a9c36775a",
   "metadata": {},
   "outputs": [],
   "source": []
  }
 ],
 "metadata": {
  "kernelspec": {
   "display_name": "Python 3 (ipykernel)",
   "language": "python",
   "name": "python3"
  },
  "language_info": {
   "codemirror_mode": {
    "name": "ipython",
    "version": 3
   },
   "file_extension": ".py",
   "mimetype": "text/x-python",
   "name": "python",
   "nbconvert_exporter": "python",
   "pygments_lexer": "ipython3",
   "version": "3.9.13"
  }
 },
 "nbformat": 4,
 "nbformat_minor": 5
}
