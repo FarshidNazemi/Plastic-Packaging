{
 "cells": [
  {
   "cell_type": "markdown",
   "id": "46b22411-4a12-499f-bf0a-ea172845452e",
   "metadata": {
    "tags": []
   },
   "source": [
    "# General Setup"
   ]
  },
  {
   "cell_type": "code",
   "execution_count": 1,
   "id": "dc6f414d-0b01-4bd7-b53b-5551718a3d8a",
   "metadata": {},
   "outputs": [],
   "source": [
    "import numpy as np\n",
    "import pandas as pd\n",
    "import matplotlib.pyplot as plt\n",
    "import copy\n",
    "from pyomo.environ import *\n",
    "from pyomo.environ import RangeSet\n",
    "from pyomo.environ import value"
   ]
  },
  {
   "cell_type": "code",
   "execution_count": 2,
   "id": "7e2fd1f7-12f2-4c55-b110-5a114f8f9c60",
   "metadata": {},
   "outputs": [],
   "source": [
    "A_url = \"https://raw.githubusercontent.com/FarshidNazemi/Plastic-Packaging/refs/heads/main/csv-files/A%20(USLCI)-Design.csv\"\n",
    "B_url = \"https://raw.githubusercontent.com/FarshidNazemi/Plastic-Packaging/refs/heads/main/csv-files/B%20(USLCI)-Design.csv\"\n",
    "C_url = \"https://raw.githubusercontent.com/FarshidNazemi/Plastic-Packaging/refs/heads/main/csv-files/C%20(USLCI)-Design.csv\""
   ]
  },
  {
   "cell_type": "code",
   "execution_count": 3,
   "id": "32dafa57-fcfb-4969-bc76-bbdf80fecf38",
   "metadata": {},
   "outputs": [],
   "source": [
    "A_df_org = pd.read_csv(A_url,header=None)\n",
    "B_df_org = pd.read_csv(B_url,header=None)\n",
    "C_df_org = pd.read_csv(C_url,header=None)\n",
    "C_df = C_df_org"
   ]
  },
  {
   "cell_type": "code",
   "execution_count": 4,
   "id": "0f6cae29-215b-4e14-b710-234ebb83f8ca",
   "metadata": {},
   "outputs": [],
   "source": [
    "A_df_org.to_csv('A_df_org.csv', index=False)\n",
    "B_df_org.to_csv('B_df_org.csv', index=False)"
   ]
  },
  {
   "cell_type": "markdown",
   "id": "6447bbfb-851d-4d4c-bbcc-77659432f486",
   "metadata": {},
   "source": [
    "### Removing Transportation from A and B"
   ]
  },
  {
   "cell_type": "code",
   "execution_count": 5,
   "id": "8f64c71a-4e02-4227-905b-b2ba1ee0a5f2",
   "metadata": {},
   "outputs": [],
   "source": [
    "transport_processes = ['Transport, barge, average fuel mix',\n",
    "                            'Transport, barge, diesel powered',\n",
    "                            'Transport, barge, residual fuel oil powered',\n",
    "                            'Transport, combination truck, average fuel mix',\n",
    "                            'Transport, combination truck, diesel powered',\n",
    "                            'Transport, ocean freighter, average fuel mix',\n",
    "                            'Transport, ocean freighter, diesel powered',\n",
    "                            'Transport, ocean freighter, residual fuel oil powered',\n",
    "                            'Transport, pipeline, natural gas',\n",
    "                            'Transport, pipeline, unspecified petroleum products',\n",
    "                            'Transport, single unit truck, diesel powered',\n",
    "                            'Transport, train, diesel powered']"
   ]
  },
  {
   "cell_type": "code",
   "execution_count": 6,
   "id": "cd4a9b28-a62b-4dd1-82da-eb89441baf35",
   "metadata": {},
   "outputs": [],
   "source": [
    "#finding columns in A with transportation \n",
    "store_index_transport_A_col = []\n",
    "stored_index_A = 0\n",
    "for i in range(len(A_df_org.T)):\n",
    "    if str(A_df_org.iloc[0, i]) in transport_processes:\n",
    "        stored_index_A = i\n",
    "        store_index_transport_A_col.append(stored_index_A)"
   ]
  },
  {
   "cell_type": "code",
   "execution_count": 7,
   "id": "9197d087-7080-429a-8365-352a11d4f9c4",
   "metadata": {},
   "outputs": [],
   "source": [
    "#finding columns in B with transportation\n",
    "store_index_transport_B = []\n",
    "stored_index_B = 0\n",
    "for i in range(len(B_df_org.T)):\n",
    "    if str(B_df_org.iloc[0, i]) in transport_processes:\n",
    "        stored_index_B = i\n",
    "        store_index_transport_B.append(stored_index_B)"
   ]
  },
  {
   "cell_type": "code",
   "execution_count": 8,
   "id": "e6ef147e-996b-46e4-b328-d18efa7d5899",
   "metadata": {},
   "outputs": [],
   "source": [
    "A_df_org = A_df_org.drop(A_df_org.columns[store_index_transport_A_col], axis=1)\n",
    "B_df_org = B_df_org.drop(B_df_org.columns[store_index_transport_B], axis=1)"
   ]
  },
  {
   "cell_type": "code",
   "execution_count": 9,
   "id": "5d5ebe84-94fa-45b7-8c7f-182fc56fdefc",
   "metadata": {},
   "outputs": [],
   "source": [
    "#Finding Transportation rows\n",
    "store_index_transport_A_row = []\n",
    "stored_index_A = 0\n",
    "for i in range(len(A_df_org)):\n",
    "    if str(A_df_org.iloc[i, 0]) in transport_processes:\n",
    "        stored_index_A = i\n",
    "        store_index_transport_A_row.append(stored_index_A)"
   ]
  },
  {
   "cell_type": "code",
   "execution_count": 10,
   "id": "1f134272-e7ca-4b08-8770-7ed3d33b239d",
   "metadata": {},
   "outputs": [],
   "source": [
    "#removing transportation rows from A\n",
    "A_df_org = A_df_org.drop(A_df_org.columns[store_index_transport_A_row], axis=0)"
   ]
  },
  {
   "cell_type": "code",
   "execution_count": 11,
   "id": "c37df637-05d5-4dba-91fd-05c1b05fd3d2",
   "metadata": {},
   "outputs": [],
   "source": [
    "A_df_org.to_csv('A_df_org_transport.csv', index=False)"
   ]
  },
  {
   "cell_type": "markdown",
   "id": "e0ddaa5c-7e4b-429d-a3ec-3db096f61b5c",
   "metadata": {
    "tags": []
   },
   "source": [
    "# Scenario 1: EoL"
   ]
  },
  {
   "cell_type": "markdown",
   "id": "a9387f4e-2481-4945-87b9-bf245d814d2b",
   "metadata": {},
   "source": [
    "## b:  Electricity generation UUIDs in USLCI"
   ]
  },
  {
   "cell_type": "code",
   "execution_count": 12,
   "id": "e1b56b94-f30b-4c36-8b11-fe99a9832a5f",
   "metadata": {},
   "outputs": [],
   "source": [
    "electricity_processes = ['Electrcity, solar photovoltatic',\n",
    "                         'Electricity',\n",
    "                         'Electricity, at cogen, for natural gas turbine',\n",
    "                         'Electricity, at Grid, US, 2010',\n",
    "                         'Electricity, biomass, at power plant',\n",
    "                         'Electricity, bituminous coal, at power plant',\n",
    "                         'Electricity, concentrated solar power (CSP)',\n",
    "                         'Electricity, diesel, at power plant',\n",
    "                         'Electricity, Eastern US, 2014',\n",
    "                         'Electricity, lignite coal, at power plant',\n",
    "                         'Electricity, natural gas, at power plant',\n",
    "                         'Electricity, nuclear, at power plant',\n",
    "                         'Electricity, residual fuel oil, at power plant',\n",
    "                         'Electricity, solar'\n",
    "                            ]"
   ]
  },
  {
   "cell_type": "code",
   "execution_count": 13,
   "id": "02d2ee8e-02d5-4a2a-813f-f05b25777b0f",
   "metadata": {},
   "outputs": [],
   "source": [
    "#finding columns in A with electricity generation\n",
    "store_index_electricity_A_col = []\n",
    "stored_index_A = 0\n",
    "for i in range(len(A_df_org.T)):\n",
    "    if str(A_df_org.iloc[0, i]) in electricity_processes:\n",
    "        stored_index_A = i\n",
    "        store_index_electricity_A_col.append(stored_index_A)"
   ]
  },
  {
   "cell_type": "code",
   "execution_count": 14,
   "id": "d94142e3-909d-4cb8-8328-52a90c4d87de",
   "metadata": {},
   "outputs": [],
   "source": [
    "#finding rows in A with electricity generation\n",
    "store_index_electricity_A_row = []\n",
    "stored_index_A = 0\n",
    "for i in range(len(A_df_org)):\n",
    "    if str(A_df_org.iloc[i, 0]) in electricity_processes:\n",
    "        stored_index_A = i\n",
    "        store_index_electricity_A_row.append(stored_index_A)"
   ]
  },
  {
   "cell_type": "code",
   "execution_count": 15,
   "id": "2e4961c6-889f-4987-9d36-534c1f266bd1",
   "metadata": {},
   "outputs": [],
   "source": [
    "#finding columns in B with electricity generation\n",
    "store_index_electricity_B = []\n",
    "stored_index_B = 0\n",
    "for i in range(len(B_df_org.T)):\n",
    "    if str(B_df_org.iloc[0, i]) in electricity_processes:\n",
    "        stored_index_B = i\n",
    "        store_index_electricity_B.append(stored_index_B)"
   ]
  },
  {
   "cell_type": "markdown",
   "id": "55bd650e-82fe-4266-8352-6609df6b6f77",
   "metadata": {},
   "source": [
    "### Removing corresponding electricity columns from A and B"
   ]
  },
  {
   "cell_type": "code",
   "execution_count": 16,
   "id": "674dcf86-0ae2-45cb-8e95-7deb10876d25",
   "metadata": {},
   "outputs": [],
   "source": [
    "A_df_org = A_df_org.drop(A_df_org.columns[store_index_electricity_A_col], axis=1)\n",
    "B_df_org = B_df_org.drop(B_df_org.columns[store_index_electricity_B], axis=1)"
   ]
  },
  {
   "cell_type": "markdown",
   "id": "7ee0a975-5a35-4956-992d-14f0a235486b",
   "metadata": {},
   "source": [
    "### Aggregating all electricity flows in each process"
   ]
  },
  {
   "cell_type": "code",
   "execution_count": 17,
   "id": "5916341e-9a21-4cc4-a609-12725ab3271c",
   "metadata": {},
   "outputs": [],
   "source": [
    "electricity_sums = np.sum(np.array(A_df_org.loc[store_index_electricity_A_row].iloc[:, 10:].replace(np.nan, 0), dtype=float), axis=0)"
   ]
  },
  {
   "cell_type": "code",
   "execution_count": 18,
   "id": "06c6b75d-e954-41a8-b7db-b0f27e9307f7",
   "metadata": {},
   "outputs": [],
   "source": [
    "# Reset index and drop the old index\n",
    "A_df_org_tr = A_df_org.T.reset_index(drop=True)"
   ]
  },
  {
   "cell_type": "code",
   "execution_count": 19,
   "id": "dd11fe84-39dd-45df-b184-56ae5cb24047",
   "metadata": {
    "tags": []
   },
   "outputs": [],
   "source": [
    "A_df_org = A_df_org_tr.T"
   ]
  },
  {
   "cell_type": "code",
   "execution_count": 20,
   "id": "51a9998c-7ea2-46f0-b629-ec0673d361a0",
   "metadata": {},
   "outputs": [],
   "source": [
    "# Reset index and drop the old index\n",
    "B_df_org_tr = B_df_org.T.reset_index(drop=True)"
   ]
  },
  {
   "cell_type": "code",
   "execution_count": 21,
   "id": "768ce929-94e0-488e-b457-bef0abc628de",
   "metadata": {
    "tags": []
   },
   "outputs": [],
   "source": [
    "B_df_org = B_df_org_tr.T"
   ]
  },
  {
   "cell_type": "markdown",
   "id": "4bd107b8-cc06-4302-a3f4-830086be39b1",
   "metadata": {},
   "source": [
    "### Removing electricity rows from A"
   ]
  },
  {
   "cell_type": "code",
   "execution_count": 22,
   "id": "f4deb90f-a1a4-487a-b042-644b9dce4e58",
   "metadata": {},
   "outputs": [],
   "source": [
    "A_df_org = A_df_org.drop(A_df_org.columns[store_index_electricity_A_row], axis=0)"
   ]
  },
  {
   "cell_type": "markdown",
   "id": "8d89ff3b-279c-4285-8d90-dc42e11da51a",
   "metadata": {
    "tags": []
   },
   "source": [
    "### Add new electricity rows and columns"
   ]
  },
  {
   "cell_type": "code",
   "execution_count": 23,
   "id": "eefd23f6-22f4-4626-a063-acdbbeaa68a2",
   "metadata": {},
   "outputs": [],
   "source": [
    "new_elec = [\n",
    "        'Electricity',\n",
    "        'Electrcity, natural gas ',\n",
    "        'Electrcity, coal',\n",
    "        'Electrcity, oil',\n",
    "        'Electrcity, nuclear',\n",
    "        'Electrcity, wind',\n",
    "        'Electricity, solar',\n",
    "        'Electricity, hydropower',\n",
    "        'Electrcity, biopower',\n",
    "        'Electrcity, geothermal',\n",
    "        'Electrcity, ocean energy']\n",
    "\n",
    "new_elec_row = [\n",
    "        'Electricity',\n",
    "        'Electrcity, natural gas ',\n",
    "        'Electrcity, coal',\n",
    "        'Electrcity, oil',\n",
    "        'Electrcity, nuclear',\n",
    "        'Electrcity, wind',\n",
    "        'Electricity, solar',\n",
    "        'Electricity, hydropower',\n",
    "        'Electrcity, biopower',\n",
    "        'Electrcity, geothermal',\n",
    "        'Electrcity, ocean energy']"
   ]
  },
  {
   "cell_type": "code",
   "execution_count": 24,
   "id": "d1a135c7-38d6-4205-9740-15264f0c04b2",
   "metadata": {},
   "outputs": [],
   "source": [
    "# Append new rows in A\n",
    "\n",
    "# Convert new_elec to a DataFrame\n",
    "new_elec_df = pd.DataFrame(new_elec_row) \n",
    "\n",
    "# Append new_elec to the first row\n",
    "A_df_org = pd.concat([A_df_org, new_elec_df], ignore_index=True)"
   ]
  },
  {
   "cell_type": "code",
   "execution_count": 25,
   "id": "8106a419-9aee-4ff2-aaca-c0eed99ffa32",
   "metadata": {},
   "outputs": [],
   "source": [
    "# Append new columns in A\n",
    "for elec in new_elec:\n",
    "    A_df_org[elec] = None  # Create a new column with None values\n",
    "\n",
    "# Set the first row of each new column to the corresponding value\n",
    "for idx, elec in enumerate(new_elec):\n",
    "    A_df_org.at[0, elec] = elec  # Set the value in the first row"
   ]
  },
  {
   "cell_type": "code",
   "execution_count": 26,
   "id": "ac0c5f92-456c-4ba1-a9a0-970f960785b6",
   "metadata": {},
   "outputs": [],
   "source": [
    "# Append new columns in B\n",
    "for elec in new_elec:\n",
    "    B_df_org[elec] = None  # Create a new column with None values\n",
    "\n",
    "# Set the first row of each new column to the corresponding value\n",
    "for idx, elec in enumerate(new_elec):\n",
    "    B_df_org.at[0, elec] = elec  # Set the value in the first row"
   ]
  },
  {
   "cell_type": "code",
   "execution_count": 27,
   "id": "dddeead5-8fa0-4ae0-a3a2-44aea1f4931f",
   "metadata": {},
   "outputs": [],
   "source": [
    "# Reset index and drop the old index\n",
    "A_df_org_tr = A_df_org.T.reset_index(drop=True)"
   ]
  },
  {
   "cell_type": "code",
   "execution_count": 28,
   "id": "7ae2486c-1b1f-4c33-8a9f-c9b7cd009f65",
   "metadata": {
    "tags": []
   },
   "outputs": [],
   "source": [
    "A_df_org = A_df_org_tr.T"
   ]
  },
  {
   "cell_type": "code",
   "execution_count": 29,
   "id": "cbc5da79-8fdf-40f5-830d-275de8d36290",
   "metadata": {},
   "outputs": [],
   "source": [
    "# Reset index and drop the old index\n",
    "B_df_org_tr = B_df_org.T.reset_index(drop=True)"
   ]
  },
  {
   "cell_type": "code",
   "execution_count": 30,
   "id": "c2419d8c-bf26-4478-ba22-4507b268d5f6",
   "metadata": {
    "tags": []
   },
   "outputs": [],
   "source": [
    "B_df_org = B_df_org_tr.T"
   ]
  },
  {
   "cell_type": "code",
   "execution_count": 31,
   "id": "899928e4-6d39-437a-a662-cf60e771f937",
   "metadata": {},
   "outputs": [],
   "source": [
    "A_df_org.reset_index(drop=True, inplace=True)"
   ]
  },
  {
   "cell_type": "code",
   "execution_count": 32,
   "id": "8b06b9e9-86c3-4d8b-8264-6bd8eefa360b",
   "metadata": {},
   "outputs": [],
   "source": [
    "A_df_org.to_csv('A_df_org_electricity.csv', index=False)\n",
    "B_df_org.to_csv('B_df_org_electricity.csv', index=False)"
   ]
  },
  {
   "cell_type": "code",
   "execution_count": 33,
   "id": "e25586c1-d12b-46dd-9875-8fb5eb7ea26e",
   "metadata": {},
   "outputs": [],
   "source": [
    "heat_processes = [\n",
    "    'Bituminous coal, combusted in industrial boiler',\n",
    "    'Diesel, combusted in industrial boiler',\n",
    "    'Heat',\n",
    "    'Heat, onsite boiler, hardwood mill, average, SE',\n",
    "    'Heat, onsite boiler, hardwood mill, average, SE',\n",
    "    'Lignite coal, combusted in industrial boiler',\n",
    "    'Liquefied petroleum gas, combusted in industrial boiler',\n",
    "    'Residual fuel oil, combusted in industrial boiler',\n",
    "    'Wood fuel, hardwood, generated at lumber mill, combusted in industrial boiler, SE',\n",
    "    'Wood fuel, hardwood, purchased, combusted in industrial boiler, SE',\n",
    "    'Wood waste, unspecified, combusted in industrial boiler',\n",
    "    'Natural gas, combusted in industrial boiler',\n",
    "    'Natural gas, combusted in industrial boiler, at hydrocracker, for ethylene',\n",
    "    'Natural gas, combusted in industrial boiler, at hydrocracker, for pyrolysis gas',\n",
    "    'Wood fuel, unspecified'\n",
    "]"
   ]
  },
  {
   "cell_type": "code",
   "execution_count": 34,
   "id": "36abe2c8-21a1-4cfd-b39d-d87e59d75379",
   "metadata": {},
   "outputs": [],
   "source": [
    "Mj_per_unit = [23.9, 37.4, 1, 1, 1, 23.9, 26, 37, 16, 16, 16, 40, 40, 40, 16]"
   ]
  },
  {
   "cell_type": "code",
   "execution_count": 35,
   "id": "27765062-b622-48b0-8706-bbc19e4bc91f",
   "metadata": {},
   "outputs": [],
   "source": [
    "boiler_efficiency = [1, 1, 1, 1, 1, 1, 1, 1, 1, 1, 1, 1, 1, 1, 1]"
   ]
  },
  {
   "cell_type": "code",
   "execution_count": 36,
   "id": "c0bc6f88-651b-47f0-a19f-6946e8c2b83e",
   "metadata": {},
   "outputs": [],
   "source": [
    "#step 1: identify all heat columns in A and B\n",
    "#finding columns in A with electricity generation\n",
    "store_index_heat_A_col = []\n",
    "stored_index_A = 0\n",
    "for i in range(len(A_df_org.T)):\n",
    "    if str(A_df_org.iloc[0, i]) in heat_processes:\n",
    "        stored_index_A = i\n",
    "        store_index_heat_A_col.append(stored_index_A)"
   ]
  },
  {
   "cell_type": "code",
   "execution_count": 37,
   "id": "7ea696a9-ff53-4e88-809d-3773ad0975e9",
   "metadata": {},
   "outputs": [
    {
     "data": {
      "text/plain": [
       "[28, 38, 53, 54, 55, 71, 73, 93, 94, 95, 123, 144, 145, 146, 147]"
      ]
     },
     "execution_count": 37,
     "metadata": {},
     "output_type": "execute_result"
    }
   ],
   "source": [
    "store_index_heat_A_col"
   ]
  },
  {
   "cell_type": "code",
   "execution_count": 38,
   "id": "69a153a2-6a18-40f2-aeab-7885e9908615",
   "metadata": {},
   "outputs": [],
   "source": [
    "#finding rows in A with electricity generation\n",
    "store_index_heat_A_row = []\n",
    "stored_index_A = 0\n",
    "for i in range(len(A_df_org)):\n",
    "    if str(A_df_org.iloc[i, 0]) in heat_processes:\n",
    "        stored_index_A = i\n",
    "        store_index_heat_A_row.append(stored_index_A)"
   ]
  },
  {
   "cell_type": "code",
   "execution_count": 39,
   "id": "dfa0254a-db6b-4806-9beb-b072bae04a74",
   "metadata": {},
   "outputs": [
    {
     "data": {
      "text/plain": [
       "[27, 36, 45, 46, 47, 60, 62, 78, 79, 80, 102, 122, 123, 124, 125]"
      ]
     },
     "execution_count": 39,
     "metadata": {},
     "output_type": "execute_result"
    }
   ],
   "source": [
    "store_index_heat_A_row"
   ]
  },
  {
   "cell_type": "code",
   "execution_count": 40,
   "id": "8d3ea148-9a8c-4312-8327-1b1e3dc8949b",
   "metadata": {},
   "outputs": [],
   "source": [
    "#finding columns in B with electricity generation\n",
    "#finding columns in B with electricity generation\n",
    "store_index_heat_B = []\n",
    "stored_index_B = 0\n",
    "for i in range(len(B_df_org.T)):\n",
    "    if str(B_df_org.iloc[0, i]) in heat_processes:\n",
    "        stored_index_B = i\n",
    "        store_index_heat_B.append(stored_index_B)"
   ]
  },
  {
   "cell_type": "code",
   "execution_count": 41,
   "id": "c18dc79b-b0fd-4181-b23a-1b1fe2e7adc6",
   "metadata": {},
   "outputs": [],
   "source": [
    "#Step 2: Remove heat columns from A and B\n",
    "A_df_org = A_df_org.drop(A_df_org.columns[store_index_heat_A_col], axis=1)\n",
    "B_df_org = B_df_org.drop(B_df_org.columns[store_index_heat_B], axis=1)"
   ]
  },
  {
   "cell_type": "code",
   "execution_count": 42,
   "id": "78169ece-c3b8-41c2-a865-ee5125a87f61",
   "metadata": {},
   "outputs": [],
   "source": [
    "X = np.array(Mj_per_unit) * np.array(boiler_efficiency)\n",
    "Y = np.array(A_df_org.loc[store_index_heat_A_row].iloc[:, 10:].replace(np.nan, 0), dtype=float)"
   ]
  },
  {
   "cell_type": "code",
   "execution_count": 43,
   "id": "5aa92d66-5c41-4416-b18a-2c17745fe113",
   "metadata": {},
   "outputs": [],
   "source": [
    "#Step 3: aggregate heat rows from A and B and convert them to absolute heat needed\n",
    "heat_sums = []\n",
    "heat_sums = np.transpose(Y)@X"
   ]
  },
  {
   "cell_type": "code",
   "execution_count": 44,
   "id": "fa9d686a-e685-44a0-9024-93e369d91e62",
   "metadata": {},
   "outputs": [],
   "source": [
    "# Reset index and drop the old index\n",
    "A_df_org_tr = A_df_org.T.reset_index(drop=True)"
   ]
  },
  {
   "cell_type": "code",
   "execution_count": 45,
   "id": "3bacfaf1-f124-4939-a6e0-d8563a51b155",
   "metadata": {},
   "outputs": [],
   "source": [
    "A_df_org = A_df_org_tr.T"
   ]
  },
  {
   "cell_type": "code",
   "execution_count": 46,
   "id": "c161fa8c-665f-42d1-8050-b81456ca40e7",
   "metadata": {},
   "outputs": [],
   "source": [
    "# Reset index and drop the old index\n",
    "B_df_org_tr = B_df_org.T.reset_index(drop=True)"
   ]
  },
  {
   "cell_type": "code",
   "execution_count": 47,
   "id": "d129d8bd-260b-478a-87a5-7df00d8e2455",
   "metadata": {},
   "outputs": [],
   "source": [
    "B_df_org = B_df_org_tr.T"
   ]
  },
  {
   "cell_type": "code",
   "execution_count": 48,
   "id": "4333936a-c3ac-4243-8e59-7f8f17167a93",
   "metadata": {},
   "outputs": [],
   "source": [
    "A_df_org = A_df_org.drop(A_df_org.columns[store_index_heat_A_row], axis=0)"
   ]
  },
  {
   "cell_type": "code",
   "execution_count": 49,
   "id": "ef6ea036-fccc-47ef-95a1-0d8371471ffa",
   "metadata": {},
   "outputs": [],
   "source": [
    "# Reset index and drop the old index\n",
    "A_df_org_tr = A_df_org.T.reset_index(drop=True)"
   ]
  },
  {
   "cell_type": "code",
   "execution_count": 50,
   "id": "b38b3d8e-c7b2-40da-829b-02f8c617e4be",
   "metadata": {},
   "outputs": [],
   "source": [
    "A_df_org = A_df_org_tr.T"
   ]
  },
  {
   "cell_type": "code",
   "execution_count": 51,
   "id": "3e79d3b5-e60f-4dcb-b8f8-a06d7faa399a",
   "metadata": {},
   "outputs": [],
   "source": [
    "# Reset index and drop the old index\n",
    "B_df_org_tr = B_df_org.T.reset_index(drop=True)"
   ]
  },
  {
   "cell_type": "code",
   "execution_count": 52,
   "id": "4df10817-022b-4779-8fdf-0070ac4d09f0",
   "metadata": {},
   "outputs": [],
   "source": [
    "B_df_org = B_df_org_tr.T"
   ]
  },
  {
   "cell_type": "code",
   "execution_count": 53,
   "id": "cc53f8df-c508-495c-913d-c131c2bd1d2a",
   "metadata": {},
   "outputs": [],
   "source": [
    "A_df_org.reset_index(drop=True, inplace=True)"
   ]
  },
  {
   "cell_type": "code",
   "execution_count": 54,
   "id": "d3619a0b-b3b8-4029-98db-645ca099ad5b",
   "metadata": {},
   "outputs": [],
   "source": [
    "update_store_index_heat_A_col = [x-10 for x in store_index_heat_A_col]"
   ]
  },
  {
   "cell_type": "code",
   "execution_count": 55,
   "id": "00751979-a027-4d82-a0da-4c30b4025088",
   "metadata": {},
   "outputs": [
    {
     "data": {
      "text/plain": [
       "[18, 28, 43, 44, 45, 61, 63, 83, 84, 85, 113, 134, 135, 136, 137]"
      ]
     },
     "execution_count": 55,
     "metadata": {},
     "output_type": "execute_result"
    }
   ],
   "source": [
    "update_store_index_heat_A_col"
   ]
  },
  {
   "cell_type": "code",
   "execution_count": 56,
   "id": "8029e6f7-c57b-458e-a11d-c88762d5e8ee",
   "metadata": {},
   "outputs": [],
   "source": [
    "electricity_sums = np.delete(electricity_sums,update_store_index_heat_A_col)"
   ]
  },
  {
   "cell_type": "code",
   "execution_count": 57,
   "id": "39dcc0a7-f559-486c-abd9-f42672518dbc",
   "metadata": {},
   "outputs": [],
   "source": [
    "for i in range(len(heat_sums)-len(electricity_sums)):\n",
    "    electricity_sums = np.append(electricity_sums, 0)"
   ]
  },
  {
   "cell_type": "markdown",
   "id": "435bda6b-75ef-4b9d-9dee-406d6467ac8d",
   "metadata": {
    "tags": []
   },
   "source": [
    "### Add new heat rows and columns"
   ]
  },
  {
   "cell_type": "code",
   "execution_count": 58,
   "id": "89632941-d7a1-436f-810c-3568d0b62e13",
   "metadata": {},
   "outputs": [],
   "source": [
    "new_heat = [\n",
    "        'Heat',\n",
    "        'Heat, oil',\n",
    "        'Heat, coal',\n",
    "        'Heat, natural gas',\n",
    "        'Heat, traditional biomass']\n",
    "\n",
    "new_heat_row = [\n",
    "        'Heat',\n",
    "        'Heat, oil',\n",
    "        'Heat, coal',\n",
    "        'Heat, natural gas',\n",
    "        'Heat, traditional biomass']"
   ]
  },
  {
   "cell_type": "code",
   "execution_count": 59,
   "id": "799948ff-d4ad-497b-b13d-639789f2f703",
   "metadata": {},
   "outputs": [],
   "source": [
    "# Append new rows in A\n",
    "\n",
    "# Convert new_elec to a DataFrame\n",
    "new_heat_df = pd.DataFrame(new_heat_row) \n",
    "\n",
    "# Append new_elec to the first row\n",
    "A_df_org = pd.concat([A_df_org, new_heat_df], ignore_index=True)"
   ]
  },
  {
   "cell_type": "code",
   "execution_count": 60,
   "id": "21ac87ac-5a43-4927-9e44-3c860986c508",
   "metadata": {},
   "outputs": [],
   "source": [
    "# Append new columns in A\n",
    "for heat in new_heat:\n",
    "    A_df_org[heat] = None  # Create a new column with None values\n",
    "\n",
    "# Set the first row of each new column to the corresponding value\n",
    "for idx, heat in enumerate(new_heat):\n",
    "    A_df_org.at[0, heat] = heat  # Set the value in the first row"
   ]
  },
  {
   "cell_type": "code",
   "execution_count": 61,
   "id": "8ab8758f-8829-44e4-8427-fa5387be9920",
   "metadata": {},
   "outputs": [],
   "source": [
    "# Append new columns in B\n",
    "for heat in new_heat:\n",
    "    B_df_org[heat] = None  # Create a new column with None values\n",
    "\n",
    "# Set the first row of each new column to the corresponding value\n",
    "for idx, heat in enumerate(new_heat):\n",
    "    B_df_org.at[0, heat] = heat  # Set the value in the first row"
   ]
  },
  {
   "cell_type": "code",
   "execution_count": 62,
   "id": "112ec79a-186b-4a59-839a-a1704c5eca09",
   "metadata": {},
   "outputs": [],
   "source": [
    "# Reset index and drop the old index\n",
    "A_df_org_tr = A_df_org.T.reset_index(drop=True)"
   ]
  },
  {
   "cell_type": "code",
   "execution_count": 63,
   "id": "e71b71f9-f5c7-40d6-a1a6-4f619457f110",
   "metadata": {
    "tags": []
   },
   "outputs": [],
   "source": [
    "A_df_org = A_df_org_tr.T"
   ]
  },
  {
   "cell_type": "code",
   "execution_count": 64,
   "id": "08c36791-ef6a-449a-bad9-4ad094d321e2",
   "metadata": {},
   "outputs": [],
   "source": [
    "# Reset index and drop the old index\n",
    "B_df_org_tr = B_df_org.T.reset_index(drop=True)"
   ]
  },
  {
   "cell_type": "code",
   "execution_count": 65,
   "id": "a80df1b6-a64c-4a02-a21c-fc19ef921d95",
   "metadata": {
    "tags": []
   },
   "outputs": [],
   "source": [
    "B_df_org = B_df_org_tr.T"
   ]
  },
  {
   "cell_type": "code",
   "execution_count": 66,
   "id": "1cbe7994-e888-4222-abe4-77e82e7a9c1c",
   "metadata": {},
   "outputs": [],
   "source": [
    "A_df_org.reset_index(drop=True, inplace=True)"
   ]
  },
  {
   "cell_type": "code",
   "execution_count": 67,
   "id": "1bf347cd-e9d0-48b7-8009-b82e45112864",
   "metadata": {},
   "outputs": [],
   "source": [
    "A_df_org.to_csv('A_df_org_heat.csv', index=False)\n",
    "B_df_org.to_csv('B_df_org_heat.csv', index=False)"
   ]
  },
  {
   "cell_type": "markdown",
   "id": "2a22627d-ea9a-4a1b-9c01-f5538cb41d91",
   "metadata": {},
   "source": [
    "## Generation of A, B, and C"
   ]
  },
  {
   "cell_type": "code",
   "execution_count": 68,
   "id": "3beb2e23-ea33-465a-8bf1-55d0b1f393f0",
   "metadata": {},
   "outputs": [],
   "source": [
    "A_df = copy.copy(A_df_org)\n",
    "B_df = copy.copy(B_df_org)"
   ]
  },
  {
   "cell_type": "code",
   "execution_count": 69,
   "id": "de2be654-2721-4cae-b92e-9c2dfb97b37f",
   "metadata": {},
   "outputs": [],
   "source": [
    "#Building A matrix\n",
    "# Step 1: Delete the first 10 columns\n",
    "A_df = A_df.drop(A_df.columns[:10], axis=1)\n",
    "\n",
    "# Step 2: Delete the first 10 rows (first row is heading, so put 3)\n",
    "A_df = A_df.iloc[10:]\n",
    "\n",
    "#Replacing empty values with zero and getting the final A matrix\n",
    "A=A_df\n",
    "A=A.replace(np.nan, 0)\n",
    "A=np.array(A,dtype='float64')"
   ]
  },
  {
   "cell_type": "code",
   "execution_count": 70,
   "id": "65d84d6b-2744-48d2-9dfe-7a7136ed9810",
   "metadata": {},
   "outputs": [],
   "source": [
    "# Building B matrix\n",
    "# Step 1: Delete the first 7 columns\n",
    "B_df = B_df.drop(B_df.columns[:7], axis=1)\n",
    "\n",
    "# Step 2: Delete the first 10 rows (first row is heading, so put 3)\n",
    "B_df = B_df.iloc[10:]\n",
    "\n",
    "# Replacing empty values with zero\n",
    "B_df = B_df.replace(np.nan, 0)\n",
    "\n",
    "# Converting all elements to float, handling empty strings and stripping whitespace\n",
    "def convert_to_float(x):\n",
    "    if isinstance(x, str):\n",
    "        x = x.strip()  # Remove any leading/trailing whitespace\n",
    "        if x == '':  # Handle empty strings\n",
    "            return 0.0\n",
    "        try:\n",
    "            return float(x)\n",
    "        except ValueError:\n",
    "            return 0.0  # Or raise an error if you want to catch non-numeric strings\n",
    "    return x\n",
    "\n",
    "B_df = B_df.applymap(convert_to_float)\n",
    "\n",
    "# Converting to a NumPy array\n",
    "B = np.array(B_df, dtype=float)"
   ]
  },
  {
   "cell_type": "code",
   "execution_count": 71,
   "id": "5c0e7799-7aa0-4010-b472-1ad812416e91",
   "metadata": {},
   "outputs": [],
   "source": [
    "#Building C matrix\n",
    "# Step 1: Delete the first 7 columns\n",
    "C_df = C_df.drop(C_df.columns[:7], axis=1)\n",
    "\n",
    "# Step 2: Delete the first 5 rows (first row is heading, so put 3)\n",
    "C_df = C_df.iloc[5:]\n",
    "\n",
    "#Replacing empty values with zero and getting the final B matrix\n",
    "C=C_df\n",
    "C=C.replace(np.nan, 0)\n",
    "C=np.array(C,dtype='float64')"
   ]
  },
  {
   "cell_type": "code",
   "execution_count": 72,
   "id": "981b7d23-cc99-4bd8-80e0-112778bea15c",
   "metadata": {},
   "outputs": [],
   "source": [
    "#Functional Unit\n",
    "# F = 168.450 million metric tons = 168,450,000 metric tons = 168,450,000,000 kg\n",
    "F=168450000000\n",
    "F=int(F)\n",
    "#defining f matrix\n",
    "f=np.zeros(len(A))\n",
    "f[0]=F"
   ]
  },
  {
   "cell_type": "markdown",
   "id": "0dd071aa-87f6-4c5d-b81d-c4b1be2ca5be",
   "metadata": {},
   "source": [
    "## Implementing values in A"
   ]
  },
  {
   "cell_type": "markdown",
   "id": "4bff8aa5-43a4-4979-aac5-9613b47c7edc",
   "metadata": {},
   "source": [
    "#### Electricity"
   ]
  },
  {
   "cell_type": "code",
   "execution_count": 73,
   "id": "092e3e98-edb3-4c95-baf5-ac67e684fd00",
   "metadata": {},
   "outputs": [],
   "source": [
    "for i in range(len(electricity_sums)):\n",
    "    A [A_df_org.index[A_df_org.iloc[:, 0] == 'Electricity'].tolist()[0] - 10,i] = electricity_sums[i]"
   ]
  },
  {
   "cell_type": "code",
   "execution_count": 74,
   "id": "190e7cc5-0250-42c6-8d6a-4ed4512600f9",
   "metadata": {},
   "outputs": [
    {
     "data": {
      "text/plain": [
       "(135,)"
      ]
     },
     "execution_count": 74,
     "metadata": {},
     "output_type": "execute_result"
    }
   ],
   "source": [
    "electricity_sums.shape"
   ]
  },
  {
   "cell_type": "code",
   "execution_count": 75,
   "id": "500dd208-5626-40c8-8d48-82e5ca180768",
   "metadata": {},
   "outputs": [],
   "source": [
    "A [A_df_org.index[A_df_org.iloc[:, 0] == 'Electricity'].tolist()[0] - 10,\n",
    "  A_df_org.T.index[A_df_org.T.iloc[:, 0] == 'Electricity'].tolist()[0] - 10] = 1\n",
    "\n",
    "A [A_df_org.index[A_df_org.iloc[:, 0] == 'Electrcity, natural gas '].tolist()[0] - 10,\n",
    "  A_df_org.T.index[A_df_org.T.iloc[:, 0] == 'Electricity'].tolist()[0] - 10] = - 0.23\n",
    "\n",
    "A[A_df_org.index[A_df_org.iloc[:, 0] == 'Electrcity, coal'].tolist()[0] - 10,\n",
    "  A_df_org.T.index[A_df_org.T.iloc[:, 0] == 'Electricity'].tolist()[0] - 10] = - 0.36\n",
    "\n",
    "A [A_df_org.index[A_df_org.iloc[:, 0] == 'Electrcity, oil'].tolist()[0] - 10,\n",
    "  A_df_org.T.index[A_df_org.T.iloc[:, 0] == 'Electricity'].tolist()[0] - 10] = - 0.03\n",
    "\n",
    "A [A_df_org.index[A_df_org.iloc[:, 0] == 'Electrcity, nuclear'].tolist()[0] - 10,\n",
    "  A_df_org.T.index[A_df_org.T.iloc[:, 0] == 'Electricity'].tolist()[0] - 10] = - 0.09\n",
    "\n",
    "A [A_df_org.index[A_df_org.iloc[:, 0] == 'Electrcity, wind'].tolist()[0] - 10,\n",
    "  A_df_org.T.index[A_df_org.T.iloc[:, 0] == 'Electricity'].tolist()[0] - 10] = - 0.08\n",
    "\n",
    "A [A_df_org.index[A_df_org.iloc[:, 0] == 'Electricity, solar'].tolist()[0] - 10,\n",
    "  A_df_org.T.index[A_df_org.T.iloc[:, 0] == 'Electricity'].tolist()[0] - 10] = - 0.06\n",
    "\n",
    "A [A_df_org.index[A_df_org.iloc[:, 0] == 'Electricity, hydropower'].tolist()[0] - 10,\n",
    "  A_df_org.T.index[A_df_org.T.iloc[:, 0] == 'Electricity'].tolist()[0] - 10] = - 0.14\n",
    "\n",
    "A [A_df_org.index[A_df_org.iloc[:, 0] == 'Electrcity, biopower'].tolist()[0] - 10,\n",
    "  A_df_org.T.index[A_df_org.T.iloc[:, 0] == 'Electricity'].tolist()[0] - 10] = - 0.02\n",
    "\n",
    "A [A_df_org.index[A_df_org.iloc[:, 0] == 'Electrcity, geothermal'].tolist()[0] - 10,\n",
    "  A_df_org.T.index[A_df_org.T.iloc[:, 0] == 'Electricity'].tolist()[0] - 10] = 0\n",
    "\n",
    "A [A_df_org.index[A_df_org.iloc[:, 0] == 'Electrcity, ocean energy'].tolist()[0] - 10,\n",
    "  A_df_org.T.index[A_df_org.T.iloc[:, 0] == 'Electricity'].tolist()[0] - 10] = 0\n",
    "\n",
    "#rest of the matrix\n",
    "A [A_df_org.index[A_df_org.iloc[:, 0] == 'Electrcity, natural gas '].tolist()[0] - 10,\n",
    "  A_df_org.T.index[A_df_org.T.iloc[:, 0] == 'Electrcity, natural gas '].tolist()[0] - 10] = 1\n",
    "\n",
    "A [A_df_org.index[A_df_org.iloc[:, 0] == 'Electrcity, coal'].tolist()[0] - 10,\n",
    "  A_df_org.T.index[A_df_org.T.iloc[:, 0] == 'Electrcity, coal'].tolist()[0] - 10] = 1\n",
    "\n",
    "A [A_df_org.index[A_df_org.iloc[:, 0] == 'Electrcity, oil'].tolist()[0] - 10,\n",
    "  A_df_org.T.index[A_df_org.T.iloc[:, 0] == 'Electrcity, oil'].tolist()[0] - 10] = 1\n",
    "\n",
    "A [A_df_org.index[A_df_org.iloc[:, 0] == 'Electrcity, nuclear'].tolist()[0] - 10,\n",
    "  A_df_org.T.index[A_df_org.T.iloc[:, 0] == 'Electrcity, nuclear'].tolist()[0] - 10] = 1\n",
    "\n",
    "A [A_df_org.index[A_df_org.iloc[:, 0] == 'Electrcity, wind'].tolist()[0] - 10,\n",
    "  A_df_org.T.index[A_df_org.T.iloc[:, 0] == 'Electrcity, wind'].tolist()[0] - 10] = 1\n",
    "\n",
    "A [A_df_org.index[A_df_org.iloc[:, 0] == 'Electricity, solar'].tolist()[0] - 10,\n",
    "  A_df_org.T.index[A_df_org.T.iloc[:, 0] == 'Electricity, solar'].tolist()[0] - 10] = 1\n",
    "\n",
    "A [A_df_org.index[A_df_org.iloc[:, 0] == 'Electricity, hydropower'].tolist()[0] - 10,\n",
    "  A_df_org.T.index[A_df_org.T.iloc[:, 0] == 'Electricity, hydropower'].tolist()[0] - 10] = 1\n",
    "\n",
    "A [A_df_org.index[A_df_org.iloc[:, 0] == 'Electrcity, biopower'].tolist()[0] - 10,\n",
    "  A_df_org.T.index[A_df_org.T.iloc[:, 0] == 'Electrcity, biopower'].tolist()[0] - 10] = 1\n",
    "\n",
    "A [A_df_org.index[A_df_org.iloc[:, 0] == 'Electrcity, geothermal'].tolist()[0] - 10,\n",
    "  A_df_org.T.index[A_df_org.T.iloc[:, 0] == 'Electrcity, geothermal'].tolist()[0] - 10] = 1\n",
    "\n",
    "A [A_df_org.index[A_df_org.iloc[:, 0] == 'Electrcity, ocean energy'].tolist()[0] - 10,\n",
    "  A_df_org.T.index[A_df_org.T.iloc[:, 0] == 'Electrcity, ocean energy'].tolist()[0] - 10] = 1"
   ]
  },
  {
   "cell_type": "code",
   "execution_count": 76,
   "id": "c8e47e43-f764-4f62-97d4-5322989b56a6",
   "metadata": {},
   "outputs": [],
   "source": [
    "B [B_df_org.index[B_df_org.iloc[:, 0] == 'b6f010fb-a764-3063-af2d-bcb8309a97b7'].tolist()[0] - 10,\n",
    "  B_df_org.T.index[B_df_org.iloc[0, :] == 'Electrcity, natural gas '].tolist()[0] - 7] = 0.460/3.6\n",
    "\n",
    "B [B_df_org.index[B_df_org.iloc[:, 0] == 'b6f010fb-a764-3063-af2d-bcb8309a97b7'].tolist()[0] - 10,\n",
    "  B_df_org.T.index[B_df_org.iloc[0, :] == 'Electrcity, coal'].tolist()[0] - 7] = 1/3.6\n",
    "\n",
    "B [B_df_org.index[B_df_org.iloc[:, 0] == 'b6f010fb-a764-3063-af2d-bcb8309a97b7'].tolist()[0] - 10,\n",
    "  B_df_org.T.index[B_df_org.iloc[0, :] == 'Electrcity, oil'].tolist()[0] - 7] = 0.841/3.6\n",
    "\n",
    "B [B_df_org.index[B_df_org.iloc[:, 0] == 'b6f010fb-a764-3063-af2d-bcb8309a97b7'].tolist()[0] - 10,\n",
    "  B_df_org.T.index[B_df_org.iloc[0, :] == 'Electrcity, nuclear'].tolist()[0] - 7] = 0.016/3.6\n",
    "\n",
    "B [B_df_org.index[B_df_org.iloc[:, 0] == 'b6f010fb-a764-3063-af2d-bcb8309a97b7'].tolist()[0] - 10,\n",
    "  B_df_org.T.index[B_df_org.iloc[0, :] == 'Electrcity, wind'].tolist()[0] - 7] = 0.011/3.6\n",
    "\n",
    "B [B_df_org.index[B_df_org.iloc[:, 0] == 'b6f010fb-a764-3063-af2d-bcb8309a97b7'].tolist()[0] - 10,\n",
    "  B_df_org.T.index[B_df_org.iloc[0, :] == 'Electricity, solar'].tolist()[0] - 7] = 0.045/3.6\n",
    "\n",
    "B [B_df_org.index[B_df_org.iloc[:, 0] == 'b6f010fb-a764-3063-af2d-bcb8309a97b7'].tolist()[0] - 10,\n",
    "  B_df_org.T.index[B_df_org.iloc[0, :] == 'Electricity, hydropower'].tolist()[0] - 7] = 0.0065/3.6\n",
    "\n",
    "B [B_df_org.index[B_df_org.iloc[:, 0] == 'b6f010fb-a764-3063-af2d-bcb8309a97b7'].tolist()[0] - 10,\n",
    "  B_df_org.T.index[B_df_org.iloc[0, :] == 'Electrcity, biopower'].tolist()[0] - 7] = 0.039/3.6\n",
    "\n",
    "B [B_df_org.index[B_df_org.iloc[:, 0] == 'b6f010fb-a764-3063-af2d-bcb8309a97b7'].tolist()[0] - 10,\n",
    "  B_df_org.T.index[B_df_org.iloc[0, :] == 'Electrcity, geothermal'].tolist()[0] - 7] = 0.045/3.6\n",
    "\n",
    "B [B_df_org.index[B_df_org.iloc[:, 0] == 'b6f010fb-a764-3063-af2d-bcb8309a97b7'].tolist()[0] - 10,\n",
    "  B_df_org.T.index[B_df_org.iloc[0, :] == 'Electrcity, ocean energy'].tolist()[0] - 7] = 0.008/3.6"
   ]
  },
  {
   "cell_type": "markdown",
   "id": "2a64fe2f-e2f1-4783-9282-c44dfbbe08fd",
   "metadata": {},
   "source": [
    "#### Heat"
   ]
  },
  {
   "cell_type": "code",
   "execution_count": 77,
   "id": "fb4638e0-2704-4279-86d6-b29d8424daf7",
   "metadata": {},
   "outputs": [],
   "source": [
    "for i in range(len(heat_sums)):\n",
    "    A [A_df_org.index[A_df_org.iloc[:, 0] == 'Heat'].tolist()[0] - 10,i] = heat_sums[i]"
   ]
  },
  {
   "cell_type": "code",
   "execution_count": 78,
   "id": "3f8d063e-d208-4488-8ffc-2936233d3e5f",
   "metadata": {},
   "outputs": [
    {
     "data": {
      "text/plain": [
       "(135,)"
      ]
     },
     "execution_count": 78,
     "metadata": {},
     "output_type": "execute_result"
    }
   ],
   "source": [
    "heat_sums.shape"
   ]
  },
  {
   "cell_type": "code",
   "execution_count": 79,
   "id": "0bc99281-6720-435b-81b6-99c57a16679d",
   "metadata": {},
   "outputs": [
    {
     "data": {
      "text/plain": [
       "(118, 140)"
      ]
     },
     "execution_count": 79,
     "metadata": {},
     "output_type": "execute_result"
    }
   ],
   "source": [
    "A.shape"
   ]
  },
  {
   "cell_type": "code",
   "execution_count": 80,
   "id": "31f78538-af72-4658-b527-3f6a59fd6c14",
   "metadata": {},
   "outputs": [
    {
     "data": {
      "text/plain": [
       "(135,)"
      ]
     },
     "execution_count": 80,
     "metadata": {},
     "output_type": "execute_result"
    }
   ],
   "source": [
    "electricity_sums.shape"
   ]
  },
  {
   "cell_type": "code",
   "execution_count": 81,
   "id": "4aab2e7f-df66-4e94-a0aa-092ee42e78b7",
   "metadata": {},
   "outputs": [],
   "source": [
    "A [A_df_org.index[A_df_org.iloc[:, 0] == 'Heat'].tolist()[0] - 10,\n",
    "  A_df_org.T.index[A_df_org.T.iloc[:, 0] == 'Heat'].tolist()[0] - 10] = 1\n",
    "\n",
    "A [A_df_org.index[A_df_org.iloc[:, 0] == 'Heat, oil'].tolist()[0] - 10,\n",
    "  A_df_org.T.index[A_df_org.T.iloc[:, 0] == 'Heat'].tolist()[0] - 10] = - 0.34\n",
    "\n",
    "A [A_df_org.index[A_df_org.iloc[:, 0] == 'Heat, coal'].tolist()[0] - 10,\n",
    "  A_df_org.T.index[A_df_org.T.iloc[:, 0] == 'Heat'].tolist()[0] - 10] = - 0.28\n",
    "\n",
    "A [A_df_org.index[A_df_org.iloc[:, 0] == 'Heat, natural gas'].tolist()[0] - 10,\n",
    "  A_df_org.T.index[A_df_org.T.iloc[:, 0] == 'Heat'].tolist()[0] - 10] = - 0.25\n",
    "\n",
    "A [A_df_org.index[A_df_org.iloc[:, 0] == 'Heat, traditional biomass'].tolist()[0] - 10,\n",
    "  A_df_org.T.index[A_df_org.T.iloc[:, 0] == 'Heat'].tolist()[0] - 10] = - 0.13"
   ]
  },
  {
   "cell_type": "code",
   "execution_count": 82,
   "id": "e0263a56-b335-4613-88c1-95e9bcd22dd9",
   "metadata": {},
   "outputs": [],
   "source": [
    "B [B_df_org.index[B_df_org.iloc[:, 0] == 'b6f010fb-a764-3063-af2d-bcb8309a97b7'].tolist()[0] - 10,\n",
    "  B_df_org.T.index[B_df_org.iloc[0, :] == 'Heat, oil'].tolist()[0] - 7] = 0.072\n",
    "\n",
    "B [B_df_org.index[B_df_org.iloc[:, 0] == 'b6f010fb-a764-3063-af2d-bcb8309a97b7'].tolist()[0] - 10,\n",
    "  B_df_org.T.index[B_df_org.iloc[0, :] == 'Heat, coal'].tolist()[0] - 7] = 0.101\n",
    "\n",
    "B [B_df_org.index[B_df_org.iloc[:, 0] == 'b6f010fb-a764-3063-af2d-bcb8309a97b7'].tolist()[0] - 10,\n",
    "  B_df_org.T.index[B_df_org.iloc[0, :] == 'Heat, natural gas'].tolist()[0] - 7] = 0.056\n",
    "\n",
    "B [B_df_org.index[B_df_org.iloc[:, 0] == 'b6f010fb-a764-3063-af2d-bcb8309a97b7'].tolist()[0] - 10,\n",
    "  B_df_org.T.index[B_df_org.iloc[0, :] == 'Heat, traditional biomass'].tolist()[0] - 7] = 0.025"
   ]
  },
  {
   "cell_type": "code",
   "execution_count": 83,
   "id": "5ca5afae-6a28-4e81-99d7-fd19760f0fd1",
   "metadata": {},
   "outputs": [],
   "source": [
    "A [A_df_org.index[A_df_org.iloc[:, 0] == 'polyester fiber from PET'].tolist()[0] - 10,\n",
    "           A_df_org.T.index[A_df_org.T.iloc[:, 0] == 'PET fiber production from sorted PET waste'].tolist()[0] - 10]=0"
   ]
  },
  {
   "cell_type": "code",
   "execution_count": 84,
   "id": "effc0907-7dc8-42d7-b9fd-884c83216c07",
   "metadata": {},
   "outputs": [],
   "source": [
    "A [A_df_org.index[A_df_org.iloc[:, 0] == 'Sawn lumber, hardwood, planed, kiln dried, at planer mill, SE'].tolist()[0] - 10,\n",
    "           A_df_org.T.index[A_df_org.T.iloc[:, 0] == 'plastic lumber production from sorted mixed plastic waste'].tolist()[0] - 10]=0"
   ]
  },
  {
   "cell_type": "code",
   "execution_count": 85,
   "id": "f14a6524-60ad-4870-a73d-fdc88ee1efd5",
   "metadata": {},
   "outputs": [],
   "source": [
    "A [A_df_org.index[A_df_org.iloc[:, 0] == 'Asphalt binder, 3.5% styrene-butadiene-styrene (SBS), consumption mix, at terminal, from crude oil, 3.5% styrene-butadiene-styrene'].tolist()[0] - 10,\n",
    "           A_df_org.T.index[A_df_org.T.iloc[:, 0] == 'road pavement production from sorted mixed plastic waste'].tolist()[0] - 10]=0"
   ]
  },
  {
   "cell_type": "code",
   "execution_count": 86,
   "id": "5b9cd4c6-1e7e-4ba7-a497-4dff9299c6c2",
   "metadata": {},
   "outputs": [],
   "source": [
    "A [A_df_org.index[A_df_org.iloc[:, 0] == 'Electricity'].tolist()[0] - 10,\n",
    "           A_df_org.T.index[A_df_org.T.iloc[:, 0] == 'incineration, electricity recovery, plastic packaging waste'].tolist()[0] - 10]=0"
   ]
  },
  {
   "cell_type": "code",
   "execution_count": 87,
   "id": "a4d26201-f3c0-4c61-864e-9df243a98d11",
   "metadata": {},
   "outputs": [],
   "source": [
    "A [A_df_org.index[A_df_org.iloc[:, 0] == 'Heat'].tolist()[0] - 10,\n",
    "           A_df_org.T.index[A_df_org.T.iloc[:, 0] == 'incineration, electricity recovery, plastic packaging waste'].tolist()[0] - 10]=0"
   ]
  },
  {
   "cell_type": "code",
   "execution_count": 88,
   "id": "9054d4fd-3947-45fd-99a3-5f2747b9847f",
   "metadata": {},
   "outputs": [],
   "source": [
    "A [A_df_org.index[A_df_org.iloc[:, 0] == 'Electricity'].tolist()[0] - 10,\n",
    "           A_df_org.T.index[A_df_org.T.iloc[:, 0] == 'incineration, electricity recovery, plastic residues'].tolist()[0] - 10]=0"
   ]
  },
  {
   "cell_type": "code",
   "execution_count": 89,
   "id": "eeb8ebd8-a6a2-4cfc-ad78-def18910178f",
   "metadata": {},
   "outputs": [],
   "source": [
    "A [A_df_org.index[A_df_org.iloc[:, 0] == 'Heat'].tolist()[0] - 10,\n",
    "           A_df_org.T.index[A_df_org.T.iloc[:, 0] == 'incineration, electricity recovery, plastic residues'].tolist()[0] - 10]=0"
   ]
  },
  {
   "cell_type": "code",
   "execution_count": 92,
   "id": "62b0fe38-b43a-415c-bbea-b98d27f384c9",
   "metadata": {},
   "outputs": [],
   "source": [
    "A [A_df_org.index[A_df_org.iloc[:, 0] == 'Petroleum refining, at refinery'].tolist()[0] - 10,\n",
    "           A_df_org.T.index[A_df_org.T.iloc[:, 0] == 'pyrolysis, feedstock recycling, mixed plastic waste, sorted'].tolist()[0] - 10]=0"
   ]
  },
  {
   "cell_type": "code",
   "execution_count": 93,
   "id": "52e8683e-14ec-49de-932e-34eab2af43ed",
   "metadata": {},
   "outputs": [],
   "source": [
    "A [A_df_org.index[A_df_org.iloc[:, 0] == 'Petroleum refining, at refinery'].tolist()[0] - 10,\n",
    "           A_df_org.T.index[A_df_org.T.iloc[:, 0] == 'depolymerization, glycolysis, PET sorted'].tolist()[0] - 10]=0"
   ]
  },
  {
   "cell_type": "code",
   "execution_count": 94,
   "id": "73d74b6f-9ab1-496d-9e8e-06607e6c8976",
   "metadata": {},
   "outputs": [],
   "source": [
    "A [A_df_org.index[A_df_org.iloc[:, 0] == 'Lignite coal, at surface mine'].tolist()[0] - 10,\n",
    "           A_df_org.T.index[A_df_org.T.iloc[:, 0] == 'cement clinker, mixed plastic packaging, sorted'].tolist()[0] - 10]=0"
   ]
  },
  {
   "cell_type": "code",
   "execution_count": 83,
   "id": "68e285b7-9280-4455-9908-e29eb6cf4d36",
   "metadata": {},
   "outputs": [],
   "source": [
    "C_gwp_wo_seq= np.transpose(C)[[0]]\n",
    "coef_GWP_wo_seq = C_gwp_wo_seq@B\n",
    "coef_GWP_wo_seq = np.array(coef_GWP_wo_seq)\n",
    "coef_GWP_wo_seq = coef_GWP_wo_seq.reshape(-1)"
   ]
  },
  {
   "cell_type": "code",
   "execution_count": 96,
   "id": "f5bd9cb0-0e4e-4197-95ea-c79b721c5bdc",
   "metadata": {},
   "outputs": [
    {
     "data": {
      "text/plain": [
       "array([0.00000000e+00, 1.76000000e-03, 0.00000000e+00, 0.00000000e+00,\n",
       "       9.25089339e-01, 0.00000000e+00, 4.52100000e-02, 0.00000000e+00,\n",
       "       9.24500000e-02, 2.52600000e+00, 2.10000000e-01, 3.27000000e-01,\n",
       "       7.23000000e-01, 0.00000000e+00, 0.00000000e+00, 0.00000000e+00,\n",
       "       2.00420500e-02, 3.39150000e-01, 2.11196648e+00, 2.54900000e+00,\n",
       "       0.00000000e+00, 1.07362425e-03, 3.48000000e-06, 1.38864000e-01,\n",
       "       4.51600000e-01, 0.00000000e+00, 0.00000000e+00, 2.73028920e+00,\n",
       "       1.20000000e+00, 7.01300000e-01, 3.21114030e-01, 7.01300000e-01,\n",
       "       7.01300000e-01, 7.01300000e-01, 3.23509000e-01, 3.30111400e-01,\n",
       "       2.00420500e-02, 2.94000000e+01, 2.17938900e+00, 0.00000000e+00,\n",
       "       9.14084480e-02, 0.00000000e+00, 3.10876771e-02, 1.95495266e+00,\n",
       "       0.00000000e+00, 8.00000000e+00, 2.54900000e+00, 2.54900000e+00,\n",
       "       0.00000000e+00, 0.00000000e+00, 0.00000000e+00, 0.00000000e+00,\n",
       "       0.00000000e+00, 0.00000000e+00, 2.72890000e-02, 9.60500000e-02,\n",
       "       0.00000000e+00, 0.00000000e+00, 0.00000000e+00, 0.00000000e+00,\n",
       "       0.00000000e+00, 0.00000000e+00, 0.00000000e+00, 0.00000000e+00,\n",
       "       0.00000000e+00, 7.80150000e-01, 1.94277720e-01, 2.44627720e-01,\n",
       "       1.42161960e-01, 3.27093824e-01, 2.42093824e-01, 1.94277720e-01,\n",
       "       0.00000000e+00, 1.17630000e-01, 0.00000000e+00, 1.22950000e-01,\n",
       "       1.97381500e+00, 0.00000000e+00, 0.00000000e+00, 1.36767500e+00,\n",
       "       0.00000000e+00, 1.85100090e-01, 0.00000000e+00, 0.00000000e+00,\n",
       "       0.00000000e+00, 0.00000000e+00, 7.95680040e-04, 1.53405952e-03,\n",
       "       9.66929760e-05, 1.86852296e-04, 1.78044768e-04, 0.00000000e+00,\n",
       "       0.00000000e+00, 4.05000000e+00, 1.01114000e-02, 5.38349000e-03,\n",
       "       5.85000000e-05, 9.02800000e-05, 0.00000000e+00, 7.68000000e-01,\n",
       "       0.00000000e+00, 0.00000000e+00, 0.00000000e+00, 0.00000000e+00,\n",
       "       0.00000000e+00, 0.00000000e+00, 0.00000000e+00, 0.00000000e+00,\n",
       "       0.00000000e+00, 0.00000000e+00, 0.00000000e+00, 0.00000000e+00,\n",
       "       0.00000000e+00, 0.00000000e+00, 4.15000000e-01, 0.00000000e+00,\n",
       "       0.00000000e+00, 2.00000000e-01, 0.00000000e+00, 7.52900000e-01,\n",
       "       0.00000000e+00, 0.00000000e+00, 0.00000000e+00, 1.50000000e-01,\n",
       "       0.00000000e+00, 1.27777778e-01, 2.77777778e-01, 2.33611111e-01,\n",
       "       4.44444444e-03, 3.05555556e-03, 1.25000000e-02, 1.80555556e-03,\n",
       "       1.08333333e-02, 1.25000000e-02, 2.22222222e-03, 0.00000000e+00,\n",
       "       7.20000000e-02, 1.01000000e-01, 5.60000000e-02, 2.50000000e-02])"
      ]
     },
     "execution_count": 96,
     "metadata": {},
     "output_type": "execute_result"
    }
   ],
   "source": [
    "coef_GWP_wo_seq"
   ]
  },
  {
   "cell_type": "code",
   "execution_count": 97,
   "id": "75b5b553-db80-4dfc-8234-21f83fdf8e72",
   "metadata": {},
   "outputs": [
    {
     "data": {
      "text/plain": [
       "(118, 140)"
      ]
     },
     "execution_count": 97,
     "metadata": {},
     "output_type": "execute_result"
    }
   ],
   "source": [
    "A.shape"
   ]
  },
  {
   "cell_type": "code",
   "execution_count": 98,
   "id": "6c776e46-d6b4-4835-80d9-4e48f6505ac3",
   "metadata": {},
   "outputs": [
    {
     "data": {
      "text/plain": [
       "(1044, 140)"
      ]
     },
     "execution_count": 98,
     "metadata": {},
     "output_type": "execute_result"
    }
   ],
   "source": [
    "B.shape"
   ]
  },
  {
   "cell_type": "code",
   "execution_count": 113,
   "id": "50a20471-e4f7-4b39-b908-3ddc69b88a25",
   "metadata": {},
   "outputs": [
    {
     "name": "stdout",
     "output_type": "stream",
     "text": [
      "WARNING: Loading a SolverResults object with a warning status into\n",
      "    model.name=\"unknown\";\n",
      "      - termination condition: infeasibleOrUnbounded\n",
      "      - message from solver: Problem proven to be infeasible or unbounded.\n"
     ]
    },
    {
     "data": {
      "text/plain": [
       "{'Problem': [{'Name': 'x141', 'Lower bound': '-inf', 'Upper bound': inf, 'Number of objectives': 1, 'Number of constraints': 197, 'Number of variables': 141, 'Number of binary variables': 0, 'Number of integer variables': 0, 'Number of continuous variables': 141, 'Number of nonzeros': 680, 'Sense': 'minimize'}], 'Solver': [{'Status': 'warning', 'Return code': '0', 'Message': 'Problem proven to be infeasible or unbounded.', 'Termination condition': 'infeasibleOrUnbounded', 'Termination message': 'Problem proven to be infeasible or unbounded.', 'Wall time': '0.0007469654083251953', 'Error rc': 0, 'Time': 0.10756087303161621}]}"
      ]
     },
     "execution_count": 113,
     "metadata": {},
     "output_type": "execute_result"
    }
   ],
   "source": [
    "#Model Formulation\n",
    "# Create the model\n",
    "model = ConcreteModel()\n",
    "# List of processes with negative scaling factor due to open loop recovery and substitution approach\n",
    "negative_s_indices = []\n",
    "positive_s_indices = []\n",
    "all_s_indices = []\n",
    "\n",
    "search_elements_zero = [\n",
    "'PET fiber production from sorted PET waste',\n",
    "'incineration, electricity recovery, plastic packaging waste',\n",
    "'incineration, electricity recovery, plastic residues',\n",
    "'depolymerization, glycolysis, PET sorted',\n",
    "'cement clinker, mixed plastic packaging, sorted',\n",
    "'plastic lumber production from sorted mixed plastic waste']\n",
    "\n",
    "search_elements_zero_or_negative = ['sodium sulfate (carbon footprint process)',\n",
    "]\n",
    "\n",
    "search_elements_zero_or_positive = [\n",
    "'use & collection',\n",
    "'large, flexible, mono-layer plastic packaging production',\n",
    "'large, flexible, multi-layer plastic packaging production',\n",
    "'large, rigid, mono-layer plastic packaging production',\n",
    "'large, rigid, multi-layer plastic packaging production',\n",
    "'small format plastic packaging production',\n",
    "'HDPE production',\n",
    "'LDPE production',\n",
    "'PP production',\n",
    "'PET production',\n",
    "'PS production',\n",
    "'PVC production',\n",
    "'Electrcity, natural gas ',\n",
    "'Electrcity, coal',\n",
    "'Electrcity, oil',\n",
    "'Electrcity, nuclear',\n",
    "'Electrcity, wind',\n",
    "'Electricity, solar',\n",
    "'Electricity, hydropower',\n",
    "'Electrcity, biopower',\n",
    "'Electrcity, geothermal',\n",
    "'Electrcity, ocean energy',\n",
    "'bio-cyclohexa-2,5-diene-1,4-dicarboxylate production',\n",
    "'advanced recycling, delamination, multi-layer plastic packaging',\n",
    "'advanced recycling, STRAP, multi-layer plastic packaging',\n",
    "'bio-EG production (monomer)',\n",
    "'bio-ethanol production from corn',\n",
    "'bio-ethylene oxide production',\n",
    "'bio-ethylene production (monomer)',\n",
    "'bio-muconic acid production',\n",
    "'bio-propylene production (monomer)',\n",
    "'bio-PTA production (monomer)',\n",
    "'bio-styrene production (monomer)',\n",
    "'bio-vinyl chloride production (monomer)',\n",
    "'Bituminous coal, at mine',\n",
    "'Carbon monoxide, at plant',\n",
    "'Low-tech MRF',\n",
    "'Med-tech MRF',\n",
    "'High-tech MRF',\n",
    "'chemical recycling with metal oxide, PS sorted',\n",
    "'depolymerization, enzymatic hyrdrolysis, PET sorted',\n",
    "'depolymerization, glycolysis, PET sorted',\n",
    "'pyrolysis (monomer production), HDPE sorted',\n",
    "'pyrolysis (monomer production), LDPE sorted',\n",
    "'pyrolysis (monomer production), PP sorted',\n",
    "'pyrolysis, feedstock recycling, mixed plastic waste, sorted',\n",
    "'plastic lumber production from sorted mixed plastic waste',\n",
    "'road pavement production from sorted mixed plastic waste',\n",
    "'cement clinker, mixed plastic packaging, sorted',\n",
    "'incineration, electricity recovery, plastic packaging waste',\n",
    "'incineration, electricity recovery, plastic residues',\n",
    "'landfill, plastic packaging waste',\n",
    "'landfill, plastic residues',\n",
    "'mechanical recycling, HDPE sorted',\n",
    "'mechanical recycling, LDPE sorted',\n",
    "'mechanical recycling, PET sorted',\n",
    "'mechanical recycling, PP sorted',\n",
    "'mechanical recycling, PS sorted',\n",
    "'mechanical recycling, PVC sorted',\n",
    "'fossil-EG production (monomer)',\n",
    "'fossil-PTA production (monomer)',\n",
    "'fossil-ethylene production (monomer)',\n",
    "'fossil-propylene production (monomer)',\n",
    "'fossil-styrene production (monomer)',\n",
    "'fossil-vinyl chloride production (monomer)',\n",
    "'Heat',\n",
    "'Electricity',\n",
    "'Heat, oil',\n",
    "'Heat, natural gas',\n",
    "'Heat, coal',\n",
    "'Heat, traditional biomass'\n",
    "]\n",
    "\n",
    "#Search for elements in the first row of the DataFrame\n",
    "negative_s_indices = [A_df_org.iloc[0,:].tolist().index(elem) for elem in search_elements_zero_or_negative]\n",
    "negative_s_indices = [i-9 for i in negative_s_indices]\n",
    "positive_s_indices = [A_df_org.iloc[0,:].tolist().index(elem) for elem in search_elements_zero_or_positive]\n",
    "positive_s_indices = [i-9 for i in positive_s_indices]\n",
    "zero_s_indices = [A_df_org.iloc[0,:].tolist().index(elem) for elem in search_elements_zero]\n",
    "zero_s_indices = [i-9 for i in zero_s_indices]\n",
    "\n",
    "\n",
    "# Define the decision variable\n",
    "model.set_s = RangeSet(len(np.transpose(A)))\n",
    "model.s = Var(model.set_s)\n",
    "model.set_negative_scale = Set(initialize=negative_s_indices)\n",
    "model.set_positive_scale = Set(initialize=positive_s_indices)\n",
    "model.set_zero_scale = Set(initialize=zero_s_indices)\n",
    "\n",
    "\n",
    "e = 0\n",
    "#model constraint: As = f and s>=0\n",
    "model.set_balance = RangeSet(len(f))\n",
    "def balance(model, p): # As = f\n",
    "    return sum(A[p-1,i-1]*model.s[i] for i in model.set_s) == f[p-1]\n",
    "def negative_scale(model, i):\n",
    "    return (model.s[i]<=0)\n",
    "def positive_scale(model, i):\n",
    "    return (model.s[i]>=e)\n",
    "def zero_scale(model, i):\n",
    "    return (model.s[i]==e)\n",
    "\n",
    "model.balance_constraints = Constraint(model.set_balance, rule=balance)\n",
    "model.negative_scale_constraints = Constraint(model.set_negative_scale, rule=negative_scale)\n",
    "model.positive_scale_constraints = Constraint(model.set_positive_scale, rule=positive_scale)\n",
    "model.zero_scale_constraints = Constraint(model.set_zero_scale, rule=zero_scale)\n",
    "\n",
    "\n",
    "model.obj = Objective(expr = sum(coef_GWP_wo_seq[i-1]*model.s[i] for i in model.set_s), sense=minimize)\n",
    "#Solver\n",
    "solver = SolverFactory('gurobi')\n",
    "solver.solve(model) # solves and updates instance"
   ]
  },
  {
   "cell_type": "code",
   "execution_count": 106,
   "id": "32270a62-9bc5-42e0-b424-2f428a3816b6",
   "metadata": {},
   "outputs": [
    {
     "name": "stdout",
     "output_type": "stream",
     "text": [
      "WARNING: Loading a SolverResults object with a warning status into\n",
      "    model.name=\"unknown\";\n",
      "      - termination condition: infeasibleOrUnbounded\n",
      "      - message from solver: Problem proven to be infeasible or unbounded.\n"
     ]
    },
    {
     "data": {
      "text/plain": [
       "{'Problem': [{'Name': 'x141', 'Lower bound': '-inf', 'Upper bound': inf, 'Number of objectives': 1, 'Number of constraints': 266, 'Number of variables': 141, 'Number of binary variables': 0, 'Number of integer variables': 0, 'Number of continuous variables': 141, 'Number of nonzeros': 741, 'Sense': 'minimize'}], 'Solver': [{'Status': 'warning', 'Return code': '0', 'Message': 'Problem proven to be infeasible or unbounded.', 'Termination condition': 'infeasibleOrUnbounded', 'Termination message': 'Problem proven to be infeasible or unbounded.', 'Wall time': '0.0004379749298095703', 'Error rc': 0, 'Time': 0.10077428817749023}]}"
      ]
     },
     "execution_count": 106,
     "metadata": {},
     "output_type": "execute_result"
    }
   ],
   "source": [
    "#Model Formulation\n",
    "# Create the model\n",
    "model = ConcreteModel()\n",
    "# List of processes with negative scaling factor due to open loop recovery and substitution approach\n",
    "negative_s_indices = []\n",
    "positive_s_indices = []\n",
    "all_s_indices = []\n",
    "\n",
    "search_elements_zero = [\n",
    "'PET fiber production from sorted PET waste',\n",
    "'incineration, electricity recovery, plastic packaging waste',\n",
    "'incineration, electricity recovery, plastic residues',\n",
    "'pyrolysis, feedstock recycling, mixed plastic waste, sorted',\n",
    "'depolymerization, glycolysis, PET sorted',\n",
    "'cement clinker, mixed plastic packaging, sorted']\n",
    "\n",
    "search_elements_zero_or_negative = ['sodium sulfate (carbon footprint process)']\n",
    "\n",
    "search_elements_zero_or_negative_or_positive = [\n",
    "'Electrcity, natural gas ',\n",
    "'Electrcity, coal',\n",
    "'Electrcity, oil',\n",
    "'Electrcity, nuclear',\n",
    "'Electrcity, wind',\n",
    "'Electricity, solar',\n",
    "'Electricity, hydropower',\n",
    "'Electrcity, biopower',\n",
    "'Electrcity, geothermal',\n",
    "'Electrcity, ocean energy',\n",
    "'Heat',\n",
    "'Electricity',\n",
    "'Heat, oil',\n",
    "'Heat, natural gas',\n",
    "'Heat, coal',\n",
    "'Heat, traditional biomass',\n",
    "]\n",
    "\n",
    "#Search for elements in the first row of the DataFrame\n",
    "negative_s_indices = [A_df_org.iloc[0,:].tolist().index(elem) for elem in search_elements_zero_or_negative]\n",
    "negative_s_indices = [i-9 for i in negative_s_indices]\n",
    "zero_s_indices = [A_df_org.iloc[0,:].tolist().index(elem) for elem in search_elements_zero]\n",
    "zero_s_indices = [i-9 for i in zero_s_indices]\n",
    "all_s_indices = list(range(1, len(np.transpose(A))+1))\n",
    "positive_s_indices = [index for index in all_s_indices if index not in search_elements_zero_or_negative_or_positive]\n",
    "\n",
    "\n",
    "# Define the decision variable\n",
    "model.set_s = RangeSet(len(np.transpose(A)))\n",
    "model.s = Var(model.set_s)\n",
    "model.set_negative_scale = Set(initialize=negative_s_indices)\n",
    "model.set_positive_scale = Set(initialize=positive_s_indices)\n",
    "model.set_zero_scale = Set(initialize=zero_s_indices)\n",
    "\n",
    "\n",
    "e = 0\n",
    "#model constraint: As = f and s>=0\n",
    "model.set_balance = RangeSet(len(f))\n",
    "def balance(model, p): # As = f\n",
    "    return sum(A[p-1,i-1]*model.s[i] for i in model.set_s) == f[p-1]\n",
    "def negative_scale(model, i):\n",
    "    return (model.s[i]<=0)\n",
    "def positive_scale(model, i):\n",
    "    return (model.s[i]>=e)\n",
    "def zero_scale(model, i):\n",
    "    return (model.s[i]==e)\n",
    "\n",
    "model.balance_constraints = Constraint(model.set_balance, rule=balance)\n",
    "model.negative_scale_constraints = Constraint(model.set_negative_scale, rule=negative_scale)\n",
    "model.positive_scale_constraints = Constraint(model.set_positive_scale, rule=positive_scale)\n",
    "model.zero_scale_constraints = Constraint(model.set_zero_scale, rule=zero_scale)\n",
    "\n",
    "\n",
    "model.obj = Objective(expr = sum(coef_GWP_wo_seq[i-1]*model.s[i] for i in model.set_s), sense=minimize)\n",
    "#Solver\n",
    "solver = SolverFactory('gurobi')\n",
    "solver.solve(model) # solves and updates instance"
   ]
  },
  {
   "cell_type": "code",
   "execution_count": 107,
   "id": "912ee04b-b3c7-42c5-8401-c2ee27f40d14",
   "metadata": {},
   "outputs": [
    {
     "name": "stdout",
     "output_type": "stream",
     "text": [
      "WARNING: Loading a SolverResults object with a warning status into\n",
      "    model.name=\"unknown\";\n",
      "      - termination condition: infeasibleOrUnbounded\n",
      "      - message from solver: Problem proven to be infeasible or unbounded.\n"
     ]
    },
    {
     "data": {
      "text/plain": [
       "{'Problem': [{'Name': 'x141', 'Lower bound': '-inf', 'Upper bound': inf, 'Number of objectives': 1, 'Number of constraints': 183, 'Number of variables': 141, 'Number of binary variables': 0, 'Number of integer variables': 0, 'Number of continuous variables': 141, 'Number of nonzeros': 658, 'Sense': 'minimize'}], 'Solver': [{'Status': 'warning', 'Return code': '0', 'Message': 'Problem proven to be infeasible or unbounded.', 'Termination condition': 'infeasibleOrUnbounded', 'Termination message': 'Problem proven to be infeasible or unbounded.', 'Wall time': '0.00039696693420410156', 'Error rc': 0, 'Time': 0.07452201843261719}]}"
      ]
     },
     "execution_count": 107,
     "metadata": {},
     "output_type": "execute_result"
    }
   ],
   "source": [
    "#Model Formulation\n",
    "# Create the model\n",
    "model = ConcreteModel()\n",
    "# List of processes with negative scaling factor due to open loop recovery and substitution approach\n",
    "negative_s_indices = []\n",
    "positive_s_indices = []\n",
    "all_s_indices = []\n",
    "\n",
    "search_elements_zero = [\n",
    "'PET fiber production from sorted PET waste',\n",
    "'incineration, electricity recovery, plastic packaging waste',\n",
    "'incineration, electricity recovery, plastic residues',\n",
    "'pyrolysis, feedstock recycling, mixed plastic waste, sorted',\n",
    "'depolymerization, glycolysis, PET sorted',\n",
    "'cement clinker, mixed plastic packaging, sorted']\n",
    "\n",
    "search_elements_zero_or_negative = ['sodium sulfate (carbon footprint process)',\n",
    "]\n",
    "\n",
    "search_elements_zero_or_positive = [\n",
    "'use & collection',\n",
    "'large, flexible, mono-layer plastic packaging production',\n",
    "'large, flexible, multi-layer plastic packaging production',\n",
    "'large, rigid, mono-layer plastic packaging production',\n",
    "'large, rigid, multi-layer plastic packaging production',\n",
    "'small format plastic packaging production',\n",
    "'HDPE production',\n",
    "'LDPE production',\n",
    "'PP production',\n",
    "'PET production',\n",
    "'PS production',\n",
    "'PVC production',\n",
    "'bio-cyclohexa-2,5-diene-1,4-dicarboxylate production',\n",
    "'advanced recycling, delamination, multi-layer plastic packaging',\n",
    "'advanced recycling, STRAP, multi-layer plastic packaging',\n",
    "'bio-EG production (monomer)',\n",
    "'bio-ethanol production from corn',\n",
    "'bio-ethylene oxide production',\n",
    "'bio-ethylene production (monomer)',\n",
    "'bio-muconic acid production',\n",
    "'bio-propylene production (monomer)',\n",
    "'bio-PTA production (monomer)',\n",
    "'bio-styrene production (monomer)',\n",
    "'bio-vinyl chloride production (monomer)',\n",
    "'Low-tech MRF',\n",
    "'Med-tech MRF',\n",
    "'High-tech MRF',\n",
    "'chemical recycling with metal oxide, PS sorted',\n",
    "'depolymerization, enzymatic hyrdrolysis, PET sorted',\n",
    "'depolymerization, glycolysis, PET sorted',\n",
    "'pyrolysis (monomer production), HDPE sorted',\n",
    "'pyrolysis (monomer production), LDPE sorted',\n",
    "'pyrolysis (monomer production), PP sorted',\n",
    "'pyrolysis, feedstock recycling, mixed plastic waste, sorted',\n",
    "'plastic lumber production from sorted mixed plastic waste',\n",
    "'road pavement production from sorted mixed plastic waste',\n",
    "'cement clinker, mixed plastic packaging, sorted',\n",
    "'incineration, electricity recovery, plastic packaging waste',\n",
    "'incineration, electricity recovery, plastic residues',\n",
    "'landfill, plastic packaging waste',\n",
    "'landfill, plastic residues',\n",
    "'mechanical recycling, HDPE sorted',\n",
    "'mechanical recycling, LDPE sorted',\n",
    "'mechanical recycling, PET sorted',\n",
    "'mechanical recycling, PP sorted',\n",
    "'mechanical recycling, PS sorted',\n",
    "'mechanical recycling, PVC sorted',\n",
    "'fossil-EG production (monomer)',\n",
    "'fossil-PTA production (monomer)',\n",
    "'fossil-ethylene production (monomer)',\n",
    "'fossil-propylene production (monomer)',\n",
    "'fossil-styrene production (monomer)',\n",
    "'fossil-vinyl chloride production (monomer)',\n",
    "'Heat, oil',\n",
    "'Heat, natural gas',\n",
    "'Heat, coal',\n",
    "'Heat, traditional biomass'\n",
    "]\n",
    "\n",
    "#Search for elements in the first row of the DataFrame\n",
    "negative_s_indices = [A_df_org.iloc[0,:].tolist().index(elem) for elem in search_elements_zero_or_negative]\n",
    "negative_s_indices = [i-9 for i in negative_s_indices]\n",
    "positive_s_indices = [A_df_org.iloc[0,:].tolist().index(elem) for elem in search_elements_zero_or_positive]\n",
    "positive_s_indices = [i-9 for i in positive_s_indices]\n",
    "zero_s_indices = [A_df_org.iloc[0,:].tolist().index(elem) for elem in search_elements_zero]\n",
    "zero_s_indices = [i-9 for i in zero_s_indices]\n",
    "\n",
    "\n",
    "# Define the decision variable\n",
    "model.set_s = RangeSet(len(np.transpose(A)))\n",
    "model.s = Var(model.set_s)\n",
    "model.set_negative_scale = Set(initialize=negative_s_indices)\n",
    "model.set_positive_scale = Set(initialize=positive_s_indices)\n",
    "model.set_zero_scale = Set(initialize=zero_s_indices)\n",
    "\n",
    "\n",
    "e = 0\n",
    "#model constraint: As = f and s>=0\n",
    "model.set_balance = RangeSet(len(f))\n",
    "def balance(model, p): # As = f\n",
    "    return sum(A[p-1,i-1]*model.s[i] for i in model.set_s) == f[p-1]\n",
    "def negative_scale(model, i):\n",
    "    return (model.s[i]<=0)\n",
    "def positive_scale(model, i):\n",
    "    return (model.s[i]>=e)\n",
    "def zero_scale(model, i):\n",
    "    return (model.s[i]==e)\n",
    "\n",
    "model.balance_constraints = Constraint(model.set_balance, rule=balance)\n",
    "model.negative_scale_constraints = Constraint(model.set_negative_scale, rule=negative_scale)\n",
    "model.positive_scale_constraints = Constraint(model.set_positive_scale, rule=positive_scale)\n",
    "model.zero_scale_constraints = Constraint(model.set_zero_scale, rule=zero_scale)\n",
    "\n",
    "\n",
    "model.obj = Objective(expr = sum(coef_GWP_wo_seq[i-1]*model.s[i] for i in model.set_s), sense=minimize)\n",
    "#Solver\n",
    "solver = SolverFactory('gurobi')\n",
    "solver.solve(model) # solves and updates instance"
   ]
  },
  {
   "cell_type": "code",
   "execution_count": 107,
   "id": "4ff71e16-ab92-40c5-bce2-66b988e7a643",
   "metadata": {},
   "outputs": [],
   "source": [
    "#total CO2 emission (kg CO2eq)\n",
    "GWP_best_wo_seq = value(model.obj)"
   ]
  },
  {
   "cell_type": "code",
   "execution_count": 108,
   "id": "31f6a297-5026-4cfa-8bf3-2e91b761804c",
   "metadata": {},
   "outputs": [
    {
     "data": {
      "text/plain": [
       "173401633262.41943"
      ]
     },
     "execution_count": 108,
     "metadata": {},
     "output_type": "execute_result"
    }
   ],
   "source": [
    "GWP_best_wo_seq"
   ]
  },
  {
   "cell_type": "code",
   "execution_count": 109,
   "id": "25736806-976c-40ab-9d25-7c320ba46445",
   "metadata": {},
   "outputs": [],
   "source": [
    "#kg CO2 eq per kg of packaging product\n",
    "GWP_best_wo_seq_per_kg = value(model.obj)/168450000000 "
   ]
  },
  {
   "cell_type": "code",
   "execution_count": 110,
   "id": "46089797-60fe-44f1-86a5-90863b1e845e",
   "metadata": {},
   "outputs": [
    {
     "data": {
      "text/plain": [
       "1.0293952701835525"
      ]
     },
     "execution_count": 110,
     "metadata": {},
     "output_type": "execute_result"
    }
   ],
   "source": [
    "GWP_best_wo_seq_per_kg"
   ]
  },
  {
   "cell_type": "code",
   "execution_count": 111,
   "id": "8e66c510-b344-4f49-b6d8-37d0c985dbab",
   "metadata": {},
   "outputs": [],
   "source": [
    "scaling_factors_wo_seq = []\n",
    "for j in model.s:\n",
    "    scaling_factors_wo_seq.append(model.s[j].value)  "
   ]
  },
  {
   "cell_type": "code",
   "execution_count": 112,
   "id": "b2135aaa-afe4-4d12-885b-fcc5fb3ca2d3",
   "metadata": {},
   "outputs": [
    {
     "data": {
      "text/plain": [
       "[168450000000.0,\n",
       " 0.0,\n",
       " 0.0,\n",
       " 0.0,\n",
       " -28301386973.912956,\n",
       " -2533480439.4177446,\n",
       " 3866657609.365922,\n",
       " 0.0,\n",
       " 0.0,\n",
       " 0.0,\n",
       " 0.0,\n",
       " 0.0,\n",
       " 0.0,\n",
       " 0.0,\n",
       " 0.0,\n",
       " 0.0,\n",
       " 0.0,\n",
       " 0.0,\n",
       " 299041621.3923576,\n",
       " 0.0,\n",
       " 0.0,\n",
       " 1111969488.598636,\n",
       " 1228333621.9015696,\n",
       " 0.0,\n",
       " 32203734307.542713,\n",
       " 0.0,\n",
       " 0.0,\n",
       " 1445639156.7783692,\n",
       " 0.0,\n",
       " 7150883144.143207,\n",
       " 8003191666.057436,\n",
       " 41933851140.15352,\n",
       " 17897772039.904514,\n",
       " 30087464099.31698,\n",
       " 19936108092.82384,\n",
       " 4950906029.9179535,\n",
       " 2047222703.169283,\n",
       " 0.0,\n",
       " -3990261.540031898,\n",
       " 0.0,\n",
       " 21817563062.337997,\n",
       " 0.0,\n",
       " 0.0,\n",
       " 21558708.592491798,\n",
       " 3070834.0547539243,\n",
       " 39271613.512208395,\n",
       " 0.0,\n",
       " 0.0,\n",
       " 0.0,\n",
       " 31708127644.980164,\n",
       " 48850500000.0,\n",
       " 16845000000.0,\n",
       " 82540500000.0,\n",
       " 5053500000.0,\n",
       " 20425908923.105957,\n",
       " 0.0,\n",
       " 0.0,\n",
       " 0.0,\n",
       " 16435449829.503,\n",
       " 15613837013.467352,\n",
       " 17001591710.417252,\n",
       " 22352339516.157,\n",
       " 3913062690.073875,\n",
       " 1461078.174929727,\n",
       " 160027500000.0,\n",
       " 318977729.48518145,\n",
       " 27995241108.54024,\n",
       " 4291241337.8054385,\n",
       " 11545482646.952726,\n",
       " 13486758490.245665,\n",
       " 27484379044.515785,\n",
       " 17471482589.63643,\n",
       " 102172412804.89139,\n",
       " 52107930530.494606,\n",
       " 102172412804.89139,\n",
       " 50064482274.396774,\n",
       " -2108.8237024276295,\n",
       " 7897570553.064526,\n",
       " 42618219610.41136,\n",
       " 0.0,\n",
       " 4495094280.562765,\n",
       " 12958470260.335497,\n",
       " 0.0,\n",
       " 23184216877.33904,\n",
       " 2387460780.7996364,\n",
       " 27930969832.95663,\n",
       " 5736663320.549085,\n",
       " -7000458.842161224,\n",
       " 0.0,\n",
       " 589233696384.2708,\n",
       " 463307323.7176023,\n",
       " 0.0,\n",
       " 31708925526.087044,\n",
       " 0.0,\n",
       " 29672055324.770195,\n",
       " 5021202870.099344,\n",
       " 2053382851.7244563,\n",
       " 0.0,\n",
       " 0.0,\n",
       " 0.0,\n",
       " 1295330299.137584,\n",
       " 0.0,\n",
       " 0.0,\n",
       " 28301386973.912956,\n",
       " -49137935.23590588,\n",
       " -120056588.56394853,\n",
       " -117290761.08415483,\n",
       " -117290761.08415486,\n",
       " -86153150.65437849,\n",
       " 0.0,\n",
       " -65965158551.62007,\n",
       " 0.0,\n",
       " -86228965.42695434,\n",
       " 16845000000.0,\n",
       " 0.0,\n",
       " 989452690.3448383,\n",
       " 13921114.381551122,\n",
       " 0.0,\n",
       " 0.0,\n",
       " 3729220.876093165,\n",
       " 11300669.32149444,\n",
       " 492091461494.54486,\n",
       " 69292599.60737094,\n",
       " 12906636379.294155,\n",
       " 424654943448.6684,\n",
       " 97670636993.19374,\n",
       " 152875779641.52063,\n",
       " 12739648303.46005,\n",
       " 38218944910.38016,\n",
       " 33972395475.89347,\n",
       " 25479296606.9201,\n",
       " 59451692082.81358,\n",
       " 8493098868.973368,\n",
       " 0.0,\n",
       " 0.0,\n",
       " 0.0,\n",
       " 0.0,\n",
       " 0.0,\n",
       " 0.0,\n",
       " 0.0]"
      ]
     },
     "execution_count": 112,
     "metadata": {},
     "output_type": "execute_result"
    }
   ],
   "source": [
    "scaling_factors_wo_seq"
   ]
  },
  {
   "cell_type": "code",
   "execution_count": 91,
   "id": "98589029-c5d5-49d7-b29a-6c97f03601eb",
   "metadata": {},
   "outputs": [
    {
     "data": {
      "text/plain": [
       "[0.0, 41933851140.15352, 0.0, 0.0]"
      ]
     },
     "execution_count": 91,
     "metadata": {},
     "output_type": "execute_result"
    }
   ],
   "source": [
    "#1. monomer production\n",
    "#ethylene\n",
    "ethylene_s_indices = []\n",
    "scaling_factors_ethylene = []\n",
    "search_elements_ethylene = [\n",
    "    'bio-ethylene production (monomer)',\n",
    "    'fossil-ethylene production (monomer)',\n",
    "    'pyrolysis (monomer production), HDPE sorted',\n",
    "    'pyrolysis (monomer production), LDPE sorted'\n",
    "]\n",
    "ethylene_s_indices = [A_df_org.iloc[0,:].tolist().index(elem) for elem in search_elements_ethylene]\n",
    "ethylene_s_indices = [i-9 for i in ethylene_s_indices]\n",
    "for j in ethylene_s_indices:\n",
    "    scaling_factors_ethylene.append(model.s[j].value)\n",
    "scaling_factors_ethylene"
   ]
  },
  {
   "cell_type": "code",
   "execution_count": 92,
   "id": "0ff46b4d-568b-4c8d-9c9c-d76c69a77839",
   "metadata": {},
   "outputs": [
    {
     "data": {
      "text/plain": [
       "[0.0, 17897772039.904514, 0.0]"
      ]
     },
     "execution_count": 92,
     "metadata": {},
     "output_type": "execute_result"
    }
   ],
   "source": [
    "#propylene\n",
    "propylene_s_indices = []\n",
    "scaling_factors_propylene = []\n",
    "search_elements_propylene = [\n",
    "    'bio-propylene production (monomer)',\n",
    "    'fossil-propylene production (monomer)',\n",
    "    'pyrolysis (monomer production), PP sorted',\n",
    "]\n",
    "propylene_s_indices = [A_df_org.iloc[0,:].tolist().index(elem) for elem in search_elements_propylene]\n",
    "propylene_s_indices = [i-9 for i in propylene_s_indices]\n",
    "for j in propylene_s_indices:\n",
    "    scaling_factors_propylene.append(model.s[j].value)\n",
    "scaling_factors_propylene   "
   ]
  },
  {
   "cell_type": "code",
   "execution_count": 93,
   "id": "b2c2b808-7a45-4466-aea8-0a7686c0997f",
   "metadata": {},
   "outputs": [
    {
     "data": {
      "text/plain": [
       "[0.0, 8003191666.057436, 0.0, 0.0]"
      ]
     },
     "execution_count": 93,
     "metadata": {},
     "output_type": "execute_result"
    }
   ],
   "source": [
    "#MEG\n",
    "MEG_s_indices = []\n",
    "scaling_factors_MEG = []\n",
    "search_elements_MEG = [\n",
    "    'bio-EG production (monomer)',\n",
    "    'fossil-EG production (monomer)',\n",
    "    'depolymerization, enzymatic hyrdrolysis, PET sorted',\n",
    "    'depolymerization, glycolysis, PET sorted'\n",
    "]\n",
    "MEG_s_indices = [A_df_org.iloc[0,:].tolist().index(elem) for elem in search_elements_MEG]\n",
    "MEG_s_indices = [i-9 for i in MEG_s_indices]\n",
    "for j in MEG_s_indices:\n",
    "    scaling_factors_MEG.append(model.s[j].value)\n",
    "scaling_factors_MEG   "
   ]
  },
  {
   "cell_type": "code",
   "execution_count": 94,
   "id": "57ec662a-89e9-4ab4-8b51-d9e03f4a1088",
   "metadata": {},
   "outputs": [
    {
     "data": {
      "text/plain": [
       "[0.0, 4950906029.9179535, 0.0]"
      ]
     },
     "execution_count": 94,
     "metadata": {},
     "output_type": "execute_result"
    }
   ],
   "source": [
    "#styrene\n",
    "styrene_s_indices = []\n",
    "scaling_factors_styrene = []\n",
    "search_elements_styrene = [\n",
    "    'bio-styrene production (monomer)',\n",
    "    'fossil-styrene production (monomer)',\n",
    "    'chemical recycling with metal oxide, PS sorted',\n",
    "]\n",
    "styrene_s_indices = [A_df_org.iloc[0,:].tolist().index(elem) for elem in search_elements_styrene]\n",
    "styrene_s_indices = [i-9 for i in styrene_s_indices]\n",
    "for j in styrene_s_indices:\n",
    "    scaling_factors_styrene.append(model.s[j].value)\n",
    "scaling_factors_styrene "
   ]
  },
  {
   "cell_type": "code",
   "execution_count": 95,
   "id": "ad786f65-1c20-4169-9155-6cb59029883a",
   "metadata": {},
   "outputs": [
    {
     "data": {
      "text/plain": [
       "[0.0, 2047222703.169283]"
      ]
     },
     "execution_count": 95,
     "metadata": {},
     "output_type": "execute_result"
    }
   ],
   "source": [
    "#vinyl chloride\n",
    "vinyl_chloride_s_indices = []\n",
    "scaling_factors_vinyl_chloride = []\n",
    "search_elements_vinyl_chloride = [\n",
    "    'bio-vinyl chloride production (monomer)',\n",
    "    'fossil-vinyl chloride production (monomer)',\n",
    "]\n",
    "vinyl_chloride_s_indices = [A_df_org.iloc[0,:].tolist().index(elem) for elem in search_elements_vinyl_chloride]\n",
    "vinyl_chloride_s_indices = [i-9 for i in vinyl_chloride_s_indices]\n",
    "for j in vinyl_chloride_s_indices:\n",
    "    scaling_factors_vinyl_chloride.append(model.s[j].value)\n",
    "scaling_factors_vinyl_chloride  "
   ]
  },
  {
   "cell_type": "code",
   "execution_count": 96,
   "id": "9254c427-a833-45bf-b846-c7288c89bdee",
   "metadata": {},
   "outputs": [
    {
     "data": {
      "text/plain": [
       "[0.0, 0.0, 20425908923.105957, 15613837013.467352]"
      ]
     },
     "execution_count": 96,
     "metadata": {},
     "output_type": "execute_result"
    }
   ],
   "source": [
    "# 2. polymers\n",
    "#polyethylene\n",
    "scaling_factors_polyethylene = []\n",
    "polyethylene_s_indices = []\n",
    "search_elements_polyethylene = [\n",
    "    'advanced recycling, STRAP, multi-layer plastic packaging',\n",
    "    'advanced recycling, delamination, multi-layer plastic packaging',\n",
    "    'LDPE production',\n",
    "    'mechanical recycling, LDPE sorted'\n",
    "]\n",
    "polyethylene_s_indices = [A_df_org.iloc[0,:].tolist().index(elem) for elem in search_elements_polyethylene]\n",
    "polyethylene_s_indices = [i-9 for i in polyethylene_s_indices]\n",
    "for j in polyethylene_s_indices:\n",
    "    scaling_factors_polyethylene.append(model.s[j].value)\n",
    "scaling_factors_polyethylene"
   ]
  },
  {
   "cell_type": "code",
   "execution_count": 97,
   "id": "6d141c65-8304-44f7-9645-8e3800c1a89e",
   "metadata": {},
   "outputs": [
    {
     "data": {
      "text/plain": [
       "[0.0, 0.0, 21817563062.337997, 16435449829.503]"
      ]
     },
     "execution_count": 97,
     "metadata": {},
     "output_type": "execute_result"
    }
   ],
   "source": [
    "#polyethylene\n",
    "scaling_factors_polyethylene = []\n",
    "polyethylene_s_indices = []\n",
    "search_elements_polyethylene = [\n",
    "    'advanced recycling, delamination, multi-layer plastic packaging',\n",
    "    'advanced recycling, STRAP, multi-layer plastic packaging',\n",
    "    'HDPE production',\n",
    "    'mechanical recycling, HDPE sorted'\n",
    "]\n",
    "polyethylene_s_indices = [A_df_org.iloc[0,:].tolist().index(elem) for elem in search_elements_polyethylene]\n",
    "polyethylene_s_indices = [i-9 for i in polyethylene_s_indices]\n",
    "for j in polyethylene_s_indices:\n",
    "    scaling_factors_polyethylene.append(model.s[j].value)\n",
    "scaling_factors_polyethylene"
   ]
  },
  {
   "cell_type": "code",
   "execution_count": 98,
   "id": "bf6f1de6-89f0-4b34-ad12-fc4352956141",
   "metadata": {},
   "outputs": [
    {
     "data": {
      "text/plain": [
       "[0.0, 0.0, 29672055324.770195, 22352339516.157]"
      ]
     },
     "execution_count": 98,
     "metadata": {},
     "output_type": "execute_result"
    }
   ],
   "source": [
    "#polypropylene\n",
    "scaling_factors_polypropylene = []\n",
    "polypropylene_s_indices = []\n",
    "search_elements_polypropylene = [\n",
    "    'advanced recycling, delamination, multi-layer plastic packaging',\n",
    "    'advanced recycling, STRAP, multi-layer plastic packaging',\n",
    "    'PP production',\n",
    "    'mechanical recycling, PP sorted'\n",
    "]\n",
    "polypropylene_s_indices = [A_df_org.iloc[0,:].tolist().index(elem) for elem in search_elements_polypropylene]\n",
    "polypropylene_s_indices = [i-9 for i in polypropylene_s_indices]\n",
    "for j in polypropylene_s_indices:\n",
    "    scaling_factors_polypropylene.append(model.s[j].value)\n",
    "scaling_factors_polypropylene"
   ]
  },
  {
   "cell_type": "code",
   "execution_count": 99,
   "id": "5d25222d-1bb2-4bf5-883d-c19304631c4f",
   "metadata": {},
   "outputs": [
    {
     "data": {
      "text/plain": [
       "[0.0, 0.0, 23184216877.33904, 17001591710.417252]"
      ]
     },
     "execution_count": 99,
     "metadata": {},
     "output_type": "execute_result"
    }
   ],
   "source": [
    "#polyethylene terephthalate\n",
    "scaling_factors_PET = []\n",
    "PET_s_indices = []\n",
    "search_elements_PET = [\n",
    "    'advanced recycling, delamination, multi-layer plastic packaging',\n",
    "    'advanced recycling, STRAP, multi-layer plastic packaging',\n",
    "    'PET production',\n",
    "    'mechanical recycling, PET sorted'\n",
    "]\n",
    "PET_s_indices = [A_df_org.iloc[0,:].tolist().index(elem) for elem in search_elements_PET]\n",
    "PET_s_indices = [i-9 for i in PET_s_indices]\n",
    "for j in PET_s_indices:\n",
    "    scaling_factors_PET.append(model.s[j].value)\n",
    "scaling_factors_PET"
   ]
  },
  {
   "cell_type": "code",
   "execution_count": 100,
   "id": "4e9261f5-61c2-4471-a53f-b4acf66dcb8f",
   "metadata": {},
   "outputs": [
    {
     "data": {
      "text/plain": [
       "[0.0, 0.0, 5021202870.099344, 3913062690.073875]"
      ]
     },
     "execution_count": 100,
     "metadata": {},
     "output_type": "execute_result"
    }
   ],
   "source": [
    "#polystyrene terephthalate\n",
    "scaling_factors_PS = []\n",
    "PS_s_indices = []\n",
    "search_elements_PS = [\n",
    "    'advanced recycling, delamination, multi-layer plastic packaging',\n",
    "    'advanced recycling, STRAP, multi-layer plastic packaging',\n",
    "    'PS production',\n",
    "    'mechanical recycling, PS sorted'\n",
    "]\n",
    "PS_s_indices = [A_df_org.iloc[0,:].tolist().index(elem) for elem in search_elements_PS]\n",
    "PS_s_indices = [i-9 for i in PS_s_indices]\n",
    "for j in PS_s_indices:\n",
    "    scaling_factors_PS.append(model.s[j].value)\n",
    "scaling_factors_PS"
   ]
  },
  {
   "cell_type": "code",
   "execution_count": 101,
   "id": "a89a43fe-40c9-483d-8f89-ab9afec90903",
   "metadata": {},
   "outputs": [
    {
     "data": {
      "text/plain": [
       "[0.0, 0.0, 2053382851.7244563, 1461078.174929727]"
      ]
     },
     "execution_count": 101,
     "metadata": {},
     "output_type": "execute_result"
    }
   ],
   "source": [
    "#polyvinyl chloride\n",
    "scaling_factors_PVC = []\n",
    "PVC_s_indices = []\n",
    "search_elements_PVC = [\n",
    "    'advanced recycling, delamination, multi-layer plastic packaging',\n",
    "    'advanced recycling, STRAP, multi-layer plastic packaging',\n",
    "    'PVC production',\n",
    "    'mechanical recycling, PVC sorted'\n",
    "]\n",
    "PVC_s_indices = [A_df_org.iloc[0,:].tolist().index(elem) for elem in search_elements_PVC]\n",
    "PVC_s_indices = [i-9 for i in PVC_s_indices]\n",
    "for j in PVC_s_indices:\n",
    "    scaling_factors_PVC.append(model.s[j].value)\n",
    "scaling_factors_PVC"
   ]
  },
  {
   "cell_type": "code",
   "execution_count": 102,
   "id": "592292f2-89cc-4d4b-b197-6c397c313e62",
   "metadata": {},
   "outputs": [
    {
     "data": {
      "text/plain": [
       "[0.0, 0.0, 0.0, 160027500000.0, 0.0]"
      ]
     },
     "execution_count": 102,
     "metadata": {},
     "output_type": "execute_result"
    }
   ],
   "source": [
    "#3. mixed plastic collected waste (sorting, energy recovery, landfill, mismanaged)\n",
    "\n",
    "scaling_factors_mixed = []\n",
    "mixed_s_indices = []\n",
    "search_elements_mixed = [\n",
    "    'incineration, electricity recovery, plastic packaging waste',\n",
    "    'landfill, plastic packaging waste',\n",
    "    'High-tech MRF',\n",
    "    'Med-tech MRF',\n",
    "    'Low-tech MRF',\n",
    "]\n",
    "mixed_s_indices = [A_df_org.iloc[0,:].tolist().index(elem) for elem in search_elements_mixed]\n",
    "mixed_s_indices = [i-9 for i in mixed_s_indices]\n",
    "for j in mixed_s_indices:\n",
    "    scaling_factors_mixed.append(model.s[j].value)\n",
    "scaling_factors_mixed"
   ]
  },
  {
   "cell_type": "code",
   "execution_count": 103,
   "id": "e23d860b-ed37-4685-8720-1246569adc12",
   "metadata": {},
   "outputs": [
    {
     "data": {
      "text/plain": [
       "[0.0, 31708925526.087044, 0.0, 0.0, 28301386973.912956]"
      ]
     },
     "execution_count": 103,
     "metadata": {},
     "output_type": "execute_result"
    }
   ],
   "source": [
    "#4. mixed plastic waste, sorted (sorting, energy recovery, landfill, mismanaged)\n",
    "\n",
    "scaling_factors_mixed = []\n",
    "mixed_s_indices = []\n",
    "search_elements_mixed = [\n",
    "    'cement clinker, mixed plastic packaging, sorted',\n",
    "    'plastic lumber production from sorted mixed plastic waste',\n",
    "    'pyrolysis, feedstock recycling, mixed plastic waste, sorted',\n",
    "    'PET fiber production from sorted PET waste',\n",
    "    'road pavement production from sorted mixed plastic waste'\n",
    "]\n",
    "mixed_s_indices = [A_df_org.iloc[0,:].tolist().index(elem) for elem in search_elements_mixed]\n",
    "mixed_s_indices = [i-9 for i in mixed_s_indices]\n",
    "for j in mixed_s_indices:\n",
    "    scaling_factors_mixed.append(model.s[j].value)\n",
    "scaling_factors_mixed"
   ]
  },
  {
   "cell_type": "code",
   "execution_count": 104,
   "id": "007be644-fa8a-481e-ba9b-be60252863b0",
   "metadata": {},
   "outputs": [
    {
     "data": {
      "text/plain": [
       "[31708127644.980164, 0.0]"
      ]
     },
     "execution_count": 104,
     "metadata": {},
     "output_type": "execute_result"
    }
   ],
   "source": [
    "#5. Plastic residues\n",
    "scaling_factors_mixed = []\n",
    "mixed_s_indices = []\n",
    "search_elements_mixed = [\n",
    "    'landfill, plastic residues',\n",
    "    'incineration, electricity recovery, plastic residues'\n",
    "]\n",
    "mixed_s_indices = [A_df_org.iloc[0,:].tolist().index(elem) for elem in search_elements_mixed]\n",
    "mixed_s_indices = [i-9 for i in mixed_s_indices]\n",
    "for j in mixed_s_indices:\n",
    "    scaling_factors_mixed.append(model.s[j].value)\n",
    "scaling_factors_mixed"
   ]
  },
  {
   "cell_type": "code",
   "execution_count": 105,
   "id": "51e7dd8b-c557-44d2-8c6e-d23c41ecb0c8",
   "metadata": {},
   "outputs": [
    {
     "data": {
      "text/plain": [
       "[97670636993.19374,\n",
       " 152875779641.52063,\n",
       " 12739648303.46005,\n",
       " 38218944910.38016,\n",
       " 33972395475.89347,\n",
       " 25479296606.9201,\n",
       " 59451692082.81358,\n",
       " 8493098868.973368,\n",
       " 0.0,\n",
       " 0.0]"
      ]
     },
     "execution_count": 105,
     "metadata": {},
     "output_type": "execute_result"
    }
   ],
   "source": [
    "#6. Energy Grid\n",
    "scaling_factors_mixed = []\n",
    "mixed_s_indices = []\n",
    "search_elements_mixed = [\n",
    "        'Electrcity, natural gas ',\n",
    "        'Electrcity, coal',\n",
    "        'Electrcity, oil',\n",
    "        'Electrcity, nuclear',\n",
    "        'Electrcity, wind',\n",
    "        'Electricity, solar',\n",
    "        'Electricity, hydropower',\n",
    "        'Electrcity, biopower',\n",
    "        'Electrcity, geothermal',\n",
    "        'Electrcity, ocean energy']\n",
    "mixed_s_indices = [A_df_org.iloc[0,:].tolist().index(elem) for elem in search_elements_mixed]\n",
    "mixed_s_indices = [i-9 for i in mixed_s_indices]\n",
    "for j in mixed_s_indices:\n",
    "    scaling_factors_mixed.append(model.s[j].value)\n",
    "scaling_factors_mixed"
   ]
  },
  {
   "cell_type": "markdown",
   "id": "2cc411a2-211a-42f1-bd51-30e8a12af382",
   "metadata": {
    "tags": []
   },
   "source": [
    "# Scenario 2: EoL + Sorting"
   ]
  },
  {
   "cell_type": "markdown",
   "id": "8e5c43d6-a87f-41d9-b9be-4973d0ca8de0",
   "metadata": {
    "tags": []
   },
   "source": [
    "## b:  Electricity generation UUIDs in USLCI"
   ]
  },
  {
   "cell_type": "code",
   "execution_count": 13,
   "id": "7eafca2d-24f2-4b93-a29f-c6100843e491",
   "metadata": {},
   "outputs": [],
   "source": [
    "electricity_processes = ['Electrcity, solar photovoltatic',\n",
    "                         'Electricity',\n",
    "                         'Electricity, at cogen, for natural gas turbine',\n",
    "                         'Electricity, at Grid, US, 2010',\n",
    "                         'Electricity, biomass, at power plant',\n",
    "                         'Electricity, bituminous coal, at power plant',\n",
    "                         'Electricity, concentrated solar power (CSP)',\n",
    "                         'Electricity, diesel, at power plant',\n",
    "                         'Electricity, Eastern US, 2014',\n",
    "                         'Electricity, lignite coal, at power plant',\n",
    "                         'Electricity, natural gas, at power plant',\n",
    "                         'Electricity, nuclear, at power plant',\n",
    "                         'Electricity, residual fuel oil, at power plant',\n",
    "                         'Electricity, solar'\n",
    "                            ]"
   ]
  },
  {
   "cell_type": "code",
   "execution_count": 14,
   "id": "25afa574-bd4b-463c-b3ab-90584cafd1f3",
   "metadata": {},
   "outputs": [],
   "source": [
    "#finding columns in A with electricity generation\n",
    "store_index_electricity_A_col = []\n",
    "stored_index_A = 0\n",
    "for i in range(len(A_df_org.T)):\n",
    "    if str(A_df_org.iloc[0, i]) in electricity_processes:\n",
    "        stored_index_A = i\n",
    "        store_index_electricity_A_col.append(stored_index_A)"
   ]
  },
  {
   "cell_type": "code",
   "execution_count": 15,
   "id": "61738f2a-1e2d-4313-b3d9-372bf3f5be23",
   "metadata": {},
   "outputs": [],
   "source": [
    "#finding rows in A with electricity generation\n",
    "store_index_electricity_A_row = []\n",
    "stored_index_A = 0\n",
    "for i in range(len(A_df_org)):\n",
    "    if str(A_df_org.iloc[i, 0]) in electricity_processes:\n",
    "        stored_index_A = i\n",
    "        store_index_electricity_A_row.append(stored_index_A)"
   ]
  },
  {
   "cell_type": "code",
   "execution_count": 16,
   "id": "97a735a6-76a4-414b-b758-c7ed7750d549",
   "metadata": {},
   "outputs": [],
   "source": [
    "#finding columns in B with electricity generation\n",
    "store_index_electricity_B = []\n",
    "stored_index_B = 0\n",
    "for i in range(len(B_df_org.T)):\n",
    "    if str(B_df_org.iloc[0, i]) in electricity_processes:\n",
    "        stored_index_B = i\n",
    "        store_index_electricity_B.append(stored_index_B)"
   ]
  },
  {
   "cell_type": "markdown",
   "id": "89756aee-8f2d-4731-b144-2bc8b58a7afc",
   "metadata": {},
   "source": [
    "### Removing corresponding electricity columns from A and B"
   ]
  },
  {
   "cell_type": "code",
   "execution_count": 17,
   "id": "a1dcd46b-e2f7-48d4-b558-5f7c58fc7b85",
   "metadata": {},
   "outputs": [],
   "source": [
    "A_df_org = A_df_org.drop(A_df_org.columns[store_index_electricity_A_col], axis=1)\n",
    "B_df_org = B_df_org.drop(B_df_org.columns[store_index_electricity_B], axis=1)"
   ]
  },
  {
   "cell_type": "markdown",
   "id": "f6a8ae02-dd07-4648-83a4-43bf45cb49d2",
   "metadata": {},
   "source": [
    "### Aggregating all electricity flows in each process"
   ]
  },
  {
   "cell_type": "code",
   "execution_count": 18,
   "id": "aa663dc7-35ac-4e8b-8469-3f4173272c73",
   "metadata": {},
   "outputs": [],
   "source": [
    "electricity_sums = np.sum(np.array(A_df_org.loc[store_index_electricity_A_row].iloc[:, 10:].replace(np.nan, 0), dtype=float), axis=0)"
   ]
  },
  {
   "cell_type": "code",
   "execution_count": 19,
   "id": "42a6077c-12d7-488c-ba0c-248acd830c77",
   "metadata": {},
   "outputs": [],
   "source": [
    "# Reset index and drop the old index\n",
    "A_df_org_tr = A_df_org.T.reset_index(drop=True)"
   ]
  },
  {
   "cell_type": "code",
   "execution_count": 20,
   "id": "d4afbd90-d48b-4341-a50a-33c018e28285",
   "metadata": {
    "tags": []
   },
   "outputs": [],
   "source": [
    "A_df_org = A_df_org_tr.T"
   ]
  },
  {
   "cell_type": "code",
   "execution_count": 21,
   "id": "328bf4ea-188c-4288-990e-c987cedd7821",
   "metadata": {},
   "outputs": [],
   "source": [
    "# Reset index and drop the old index\n",
    "B_df_org_tr = B_df_org.T.reset_index(drop=True)"
   ]
  },
  {
   "cell_type": "code",
   "execution_count": 22,
   "id": "d42b1665-71ee-4435-9b3d-fcf5c5bf6b83",
   "metadata": {
    "tags": []
   },
   "outputs": [],
   "source": [
    "B_df_org = B_df_org_tr.T"
   ]
  },
  {
   "cell_type": "markdown",
   "id": "ebd8b3af-a7d2-4c19-a502-6bda7583fc75",
   "metadata": {},
   "source": [
    "### Removing electricity rows from A"
   ]
  },
  {
   "cell_type": "code",
   "execution_count": 23,
   "id": "a60dc09f-c7ff-40d8-a974-8573cc629057",
   "metadata": {},
   "outputs": [],
   "source": [
    "A_df_org = A_df_org.drop(A_df_org.columns[store_index_electricity_A_row], axis=0)"
   ]
  },
  {
   "cell_type": "markdown",
   "id": "ec08e29d-86e9-4444-af22-e289b8534123",
   "metadata": {
    "tags": []
   },
   "source": [
    "### Add new electricity rows and columns"
   ]
  },
  {
   "cell_type": "code",
   "execution_count": 24,
   "id": "b5783512-44fc-4c27-b21c-99d9d5d9e2c2",
   "metadata": {},
   "outputs": [],
   "source": [
    "new_elec = [\n",
    "        'Electrcity, natural gas ',\n",
    "        'Electrcity, coal',\n",
    "        'Electrcity, oil',\n",
    "        'Electrcity, nuclear',\n",
    "        'Electrcity, wind',\n",
    "        'Electricity, solar',\n",
    "        'Electricity, hydropower',\n",
    "        'Electrcity, biopower',\n",
    "        'Electrcity, geothermal',\n",
    "        'Electrcity, ocean energy']\n",
    "\n",
    "new_elec_row = ['Electricity']"
   ]
  },
  {
   "cell_type": "code",
   "execution_count": 25,
   "id": "c62957f0-2a27-4991-9362-500535cf85be",
   "metadata": {},
   "outputs": [],
   "source": [
    "# Append new rows in A\n",
    "\n",
    "# Convert new_elec to a DataFrame\n",
    "new_elec_df = pd.DataFrame(new_elec_row) \n",
    "\n",
    "# Append new_elec to the first row\n",
    "A_df_org = pd.concat([A_df_org, new_elec_df], ignore_index=True)"
   ]
  },
  {
   "cell_type": "code",
   "execution_count": 26,
   "id": "eb0eb577-a220-4a86-a3ce-122ce7021fca",
   "metadata": {},
   "outputs": [],
   "source": [
    "# Append new columns in A\n",
    "for elec in new_elec:\n",
    "    A_df_org[elec] = None  # Create a new column with None values\n",
    "\n",
    "# Set the first row of each new column to the corresponding value\n",
    "for idx, elec in enumerate(new_elec):\n",
    "    A_df_org.at[0, elec] = elec  # Set the value in the first row"
   ]
  },
  {
   "cell_type": "code",
   "execution_count": 27,
   "id": "fda566ae-f15b-4bf1-b009-849464abfe5f",
   "metadata": {},
   "outputs": [],
   "source": [
    "# Append new columns in B\n",
    "for elec in new_elec:\n",
    "    B_df_org[elec] = None  # Create a new column with None values\n",
    "\n",
    "# Set the first row of each new column to the corresponding value\n",
    "for idx, elec in enumerate(new_elec):\n",
    "    B_df_org.at[0, elec] = elec  # Set the value in the first row"
   ]
  },
  {
   "cell_type": "code",
   "execution_count": 28,
   "id": "007d1909-f0c7-419b-8a23-4cfc16f07897",
   "metadata": {},
   "outputs": [],
   "source": [
    "# Reset index and drop the old index\n",
    "A_df_org_tr = A_df_org.T.reset_index(drop=True)"
   ]
  },
  {
   "cell_type": "code",
   "execution_count": 29,
   "id": "31e7c7d9-4183-4275-bf17-600eb1e64f2a",
   "metadata": {
    "tags": []
   },
   "outputs": [],
   "source": [
    "A_df_org = A_df_org_tr.T"
   ]
  },
  {
   "cell_type": "code",
   "execution_count": 30,
   "id": "e4e8db56-7aba-4ed5-bca7-6c94ae9f51b4",
   "metadata": {},
   "outputs": [],
   "source": [
    "# Reset index and drop the old index\n",
    "B_df_org_tr = B_df_org.T.reset_index(drop=True)"
   ]
  },
  {
   "cell_type": "code",
   "execution_count": 31,
   "id": "60b4860c-d921-446c-b83b-5c2c114f3288",
   "metadata": {
    "tags": []
   },
   "outputs": [],
   "source": [
    "B_df_org = B_df_org_tr.T"
   ]
  },
  {
   "cell_type": "code",
   "execution_count": 32,
   "id": "eb803069-b9d8-4476-82a3-64506e2a6b95",
   "metadata": {},
   "outputs": [],
   "source": [
    "A_df_org.reset_index(drop=True, inplace=True)"
   ]
  },
  {
   "cell_type": "code",
   "execution_count": 33,
   "id": "45784e10-85af-4b60-9876-a740991e35dc",
   "metadata": {},
   "outputs": [],
   "source": [
    "A_df_org.to_csv('A_df_org_electricity.csv', index=False)\n",
    "B_df_org.to_csv('B_df_org_electricity.csv', index=False)"
   ]
  },
  {
   "cell_type": "markdown",
   "id": "6cb6b20e-631b-449f-910c-b106d55e1ad6",
   "metadata": {},
   "source": [
    "## c: Electrification (skip this for optimization w/o electrification)"
   ]
  },
  {
   "cell_type": "code",
   "execution_count": 34,
   "id": "6879a668-b4e7-43f8-9cde-0d31a11b117f",
   "metadata": {},
   "outputs": [],
   "source": [
    "heat_processes = [\n",
    "    'Bituminous coal, combusted in industrial boiler',\n",
    "    'Diesel, combusted in industrial boiler',\n",
    "    'Heat',\n",
    "    'Heat, onsite boiler, hardwood mill, average, SE',\n",
    "    'Heat, onsite boiler, hardwood mill, average, SE',\n",
    "    'Lignite coal, combusted in industrial boiler',\n",
    "    'Liquefied petroleum gas, combusted in industrial boiler',\n",
    "    'Residual fuel oil, combusted in industrial boiler',\n",
    "    'Wood fuel, hardwood, generated at lumber mill, combusted in industrial boiler, SE',\n",
    "    'Wood fuel, hardwood, purchased, combusted in industrial boiler, SE',\n",
    "    'Wood waste, unspecified, combusted in industrial boiler',\n",
    "    'Natural gas, combusted in industrial boiler',\n",
    "    'Natural gas, combusted in industrial boiler, at hydrocracker, for ethylene',\n",
    "    'Natural gas, combusted in industrial boiler, at hydrocracker, for pyrolysis gas',\n",
    "    'Wood fuel, unspecified'\n",
    "]"
   ]
  },
  {
   "cell_type": "code",
   "execution_count": 35,
   "id": "9654eb9d-d84c-4e19-850b-4091bcdc8746",
   "metadata": {},
   "outputs": [],
   "source": [
    "Mj_per_unit = [23.9, 37.4, 1, 1, 1, 23.9, 26, 37, 16, 16, 16, 40, 40, 40, 16]"
   ]
  },
  {
   "cell_type": "code",
   "execution_count": 36,
   "id": "2b8b5309-04e6-4b61-bae1-a95c26ed71fa",
   "metadata": {},
   "outputs": [],
   "source": [
    "boiler_efficiency = [0.81, 0.83, 1, 0.7, 0.7, 0.81, 0.82, 0.83, 0.7, 0.7, 0.7, 0.75, 0.75, 0.75, 0.7]"
   ]
  },
  {
   "cell_type": "code",
   "execution_count": 37,
   "id": "cd9c77b0-056f-4256-9a37-ab2e7cd1c139",
   "metadata": {},
   "outputs": [],
   "source": [
    "#step 1: identify all heat columns in A and B\n",
    "#finding columns in A with electricity generation\n",
    "store_index_heat_A_col = []\n",
    "stored_index_A = 0\n",
    "for i in range(len(A_df_org.T)):\n",
    "    if str(A_df_org.iloc[0, i]) in heat_processes:\n",
    "        stored_index_A = i\n",
    "        store_index_heat_A_col.append(stored_index_A)"
   ]
  },
  {
   "cell_type": "code",
   "execution_count": 38,
   "id": "ed77a341-4166-419f-8eec-3786a876a7d7",
   "metadata": {},
   "outputs": [],
   "source": [
    "#finding rows in A with electricity generation\n",
    "store_index_heat_A_row = []\n",
    "stored_index_A = 0\n",
    "for i in range(len(A_df_org)):\n",
    "    if str(A_df_org.iloc[i, 0]) in heat_processes:\n",
    "        stored_index_A = i\n",
    "        store_index_heat_A_row.append(stored_index_A)"
   ]
  },
  {
   "cell_type": "code",
   "execution_count": 39,
   "id": "37109f4c-65f4-40d3-bd86-7176bb0fa981",
   "metadata": {},
   "outputs": [],
   "source": [
    "#finding columns in B with electricity generation\n",
    "#finding columns in B with electricity generation\n",
    "store_index_heat_B = []\n",
    "stored_index_B = 0\n",
    "for i in range(len(B_df_org.T)):\n",
    "    if str(B_df_org.iloc[0, i]) in heat_processes:\n",
    "        stored_index_B = i\n",
    "        store_index_heat_B.append(stored_index_B)"
   ]
  },
  {
   "cell_type": "code",
   "execution_count": 40,
   "id": "ac5b7122-e7da-437a-9d3b-ed38101e3faf",
   "metadata": {},
   "outputs": [],
   "source": [
    "#Step 2: Remove heat columns from A and B\n",
    "A_df_org = A_df_org.drop(A_df_org.columns[store_index_heat_A_col], axis=1)\n",
    "B_df_org = B_df_org.drop(B_df_org.columns[store_index_heat_B], axis=1)"
   ]
  },
  {
   "cell_type": "code",
   "execution_count": 41,
   "id": "ab403fc5-1abe-44fe-a5ab-3f1f867728ac",
   "metadata": {},
   "outputs": [],
   "source": [
    "X = np.array(Mj_per_unit) * np.array(boiler_efficiency)\n",
    "Y = np.array(A_df_org.loc[store_index_heat_A_row].iloc[:, 10:].replace(np.nan, 0), dtype=float)"
   ]
  },
  {
   "cell_type": "code",
   "execution_count": 42,
   "id": "6c193188-6a2d-449e-9a03-61cb2cfe6a79",
   "metadata": {},
   "outputs": [],
   "source": [
    "#Step 3: aggregate heat rows from A and B and convert them to absolute heat needed\n",
    "heat_sums = []\n",
    "heat_sums = np.transpose(Y)@X"
   ]
  },
  {
   "cell_type": "code",
   "execution_count": 43,
   "id": "c9bb43a6-056e-4ee5-aacd-fe3a55fad3d6",
   "metadata": {},
   "outputs": [],
   "source": [
    "# Reset index and drop the old index\n",
    "A_df_org_tr = A_df_org.T.reset_index(drop=True)"
   ]
  },
  {
   "cell_type": "code",
   "execution_count": 44,
   "id": "a8644d72-1a16-4be9-b1f3-bb9364061a1c",
   "metadata": {},
   "outputs": [],
   "source": [
    "A_df_org = A_df_org_tr.T"
   ]
  },
  {
   "cell_type": "code",
   "execution_count": 45,
   "id": "1d31a242-af9a-4e74-a547-26d6b6dd6e4b",
   "metadata": {},
   "outputs": [],
   "source": [
    "# Reset index and drop the old index\n",
    "B_df_org_tr = B_df_org.T.reset_index(drop=True)"
   ]
  },
  {
   "cell_type": "code",
   "execution_count": 46,
   "id": "4c8a5c17-ccd3-45e8-8259-c16419b43440",
   "metadata": {},
   "outputs": [],
   "source": [
    "B_df_org = B_df_org_tr.T"
   ]
  },
  {
   "cell_type": "code",
   "execution_count": 47,
   "id": "04772c95-1c47-4a98-941d-4d4cb552e752",
   "metadata": {},
   "outputs": [],
   "source": [
    "A_df_org = A_df_org.drop(A_df_org.columns[store_index_heat_A_row], axis=0)"
   ]
  },
  {
   "cell_type": "code",
   "execution_count": 48,
   "id": "c30f3af9-b096-45a0-a50f-d0dc564282cd",
   "metadata": {},
   "outputs": [],
   "source": [
    "# Reset index and drop the old index\n",
    "A_df_org_tr = A_df_org.T.reset_index(drop=True)"
   ]
  },
  {
   "cell_type": "code",
   "execution_count": 49,
   "id": "846d57bf-7d63-4ffa-8782-775ef6070103",
   "metadata": {},
   "outputs": [],
   "source": [
    "A_df_org = A_df_org_tr.T"
   ]
  },
  {
   "cell_type": "code",
   "execution_count": 50,
   "id": "0201e9d4-d8fd-436e-872a-137fa02ebfb7",
   "metadata": {},
   "outputs": [],
   "source": [
    "# Reset index and drop the old index\n",
    "B_df_org_tr = B_df_org.T.reset_index(drop=True)"
   ]
  },
  {
   "cell_type": "code",
   "execution_count": 51,
   "id": "02e9bf5a-75c5-49bc-801c-5fc13990bdd9",
   "metadata": {},
   "outputs": [],
   "source": [
    "B_df_org = B_df_org_tr.T"
   ]
  },
  {
   "cell_type": "code",
   "execution_count": 52,
   "id": "75020844-59dc-4c92-8a20-632d1d238ef1",
   "metadata": {},
   "outputs": [],
   "source": [
    "A_df_org.reset_index(drop=True, inplace=True)"
   ]
  },
  {
   "cell_type": "code",
   "execution_count": 53,
   "id": "f4e7943e-face-473a-afab-703d400c983d",
   "metadata": {},
   "outputs": [],
   "source": [
    "update_store_index_heat_A_row = [x-10 for x in store_index_heat_A_row]"
   ]
  },
  {
   "cell_type": "code",
   "execution_count": 54,
   "id": "f82bc159-03f3-4dc8-9eb2-027d9ddd9e92",
   "metadata": {},
   "outputs": [],
   "source": [
    "electricity_sums = np.delete(electricity_sums,update_store_index_heat_A_row)"
   ]
  },
  {
   "cell_type": "code",
   "execution_count": 55,
   "id": "ddb9333d-4f96-4523-84cc-fb409ae94363",
   "metadata": {},
   "outputs": [],
   "source": [
    "for i in range(len(heat_sums)-len(electricity_sums)):\n",
    "    electricity_sums = np.append(electricity_sums, 0)"
   ]
  },
  {
   "cell_type": "code",
   "execution_count": 56,
   "id": "c28eeedd-61a6-4d8d-8508-3b3a825f0a7d",
   "metadata": {},
   "outputs": [],
   "source": [
    "A_df_org.to_csv('A_df_org_heat.csv', index=False)\n",
    "B_df_org.to_csv('B_df_org_heat.csv', index=False)"
   ]
  },
  {
   "cell_type": "markdown",
   "id": "82839fcf-db11-4d75-b9e0-ba87489b2e93",
   "metadata": {},
   "source": [
    "## Generation of A, B, and C"
   ]
  },
  {
   "cell_type": "code",
   "execution_count": 57,
   "id": "73900355-c74c-4f05-9458-c199a20eff2a",
   "metadata": {},
   "outputs": [],
   "source": [
    "A_df = copy.copy(A_df_org)\n",
    "B_df = copy.copy(B_df_org)"
   ]
  },
  {
   "cell_type": "code",
   "execution_count": 58,
   "id": "0bc22450-fbee-407c-9c41-8536fc6598c5",
   "metadata": {},
   "outputs": [],
   "source": [
    "#Building A matrix\n",
    "# Step 1: Delete the first 10 columns\n",
    "A_df = A_df.drop(A_df.columns[:10], axis=1)\n",
    "\n",
    "# Step 2: Delete the first 10 rows (first row is heading, so put 3)\n",
    "A_df = A_df.iloc[10:]\n",
    "\n",
    "#Replacing empty values with zero and getting the final A matrix\n",
    "A=A_df\n",
    "A=A.replace(np.nan, 0)\n",
    "A=np.array(A,dtype='float64')"
   ]
  },
  {
   "cell_type": "code",
   "execution_count": 59,
   "id": "83147843-0464-4ed6-b8e2-8a6cb3db8873",
   "metadata": {},
   "outputs": [
    {
     "data": {
      "text/plain": [
       "(103, 134)"
      ]
     },
     "execution_count": 59,
     "metadata": {},
     "output_type": "execute_result"
    }
   ],
   "source": [
    "A.shape"
   ]
  },
  {
   "cell_type": "code",
   "execution_count": 60,
   "id": "970a99bf-9876-462b-9e9f-6bded2816fd1",
   "metadata": {},
   "outputs": [],
   "source": [
    "# Building B matrix\n",
    "# Step 1: Delete the first 7 columns\n",
    "B_df = B_df.drop(B_df.columns[:7], axis=1)\n",
    "\n",
    "# Step 2: Delete the first 10 rows (first row is heading, so put 3)\n",
    "B_df = B_df.iloc[10:]\n",
    "\n",
    "# Replacing empty values with zero\n",
    "B_df = B_df.replace(np.nan, 0)\n",
    "\n",
    "# Converting all elements to float, handling empty strings and stripping whitespace\n",
    "def convert_to_float(x):\n",
    "    if isinstance(x, str):\n",
    "        x = x.strip()  # Remove any leading/trailing whitespace\n",
    "        if x == '':  # Handle empty strings\n",
    "            return 0.0\n",
    "        try:\n",
    "            return float(x)\n",
    "        except ValueError:\n",
    "            return 0.0  # Or raise an error if you want to catch non-numeric strings\n",
    "    return x\n",
    "\n",
    "B_df = B_df.applymap(convert_to_float)\n",
    "\n",
    "# Converting to a NumPy array\n",
    "B = np.array(B_df, dtype=float)"
   ]
  },
  {
   "cell_type": "code",
   "execution_count": 61,
   "id": "420b580d-f5cc-4d85-9145-46f7e3f57d96",
   "metadata": {},
   "outputs": [
    {
     "data": {
      "text/plain": [
       "(1044, 134)"
      ]
     },
     "execution_count": 61,
     "metadata": {},
     "output_type": "execute_result"
    }
   ],
   "source": [
    "B.shape"
   ]
  },
  {
   "cell_type": "code",
   "execution_count": 62,
   "id": "09a1634b-ef8e-42cd-8a4e-3dcb8860d8e6",
   "metadata": {},
   "outputs": [],
   "source": [
    "#Building C matrix\n",
    "# Step 1: Delete the first 7 columns\n",
    "C_df = C_df.drop(C_df.columns[:7], axis=1)\n",
    "\n",
    "# Step 2: Delete the first 5 rows (first row is heading, so put 3)\n",
    "C_df = C_df.iloc[5:]\n",
    "\n",
    "#Replacing empty values with zero and getting the final B matrix\n",
    "C=C_df\n",
    "C=C.replace(np.nan, 0)\n",
    "C=np.array(C,dtype='float64')"
   ]
  },
  {
   "cell_type": "code",
   "execution_count": 63,
   "id": "f263d543-dad3-492a-9caf-0ffe9fdb1a83",
   "metadata": {},
   "outputs": [],
   "source": [
    "#Functional Unit\n",
    "# F = 168.450 million metric tons = 168,450,000 metric tons = 168,450,000,000 kg\n",
    "F=168450000000\n",
    "F=int(F)\n",
    "#defining f matrix\n",
    "f=np.zeros(len(A))\n",
    "f[0]=F"
   ]
  },
  {
   "cell_type": "markdown",
   "id": "cbf94a12-c46c-4250-b7b6-a71b175dd4d2",
   "metadata": {},
   "source": [
    "## Implementing values in A"
   ]
  },
  {
   "cell_type": "code",
   "execution_count": 64,
   "id": "81f02ebf-5c43-4c5d-8ed6-2d6747fb6055",
   "metadata": {},
   "outputs": [],
   "source": [
    "\n",
    "for i in range(len(electricity_sums)):\n",
    "    A [A_df_org.index[A_df_org.iloc[:, 0] == 'Electricity'].tolist()[0] - 10,i] = electricity_sums[i] + heat_sums [i]"
   ]
  },
  {
   "cell_type": "code",
   "execution_count": 65,
   "id": "d01ee970-f4c6-47f3-8d4d-a16fee7b879a",
   "metadata": {},
   "outputs": [],
   "source": [
    "for i in range(len(electricity_sums)):\n",
    "    A [A_df_org.index[A_df_org.iloc[:, 0] == 'Electricity'].tolist()[0] - 10,i] = electricity_sums[i] "
   ]
  },
  {
   "cell_type": "code",
   "execution_count": 66,
   "id": "8ce082fb-84b2-4319-85f4-b6c9e8784127",
   "metadata": {},
   "outputs": [
    {
     "data": {
      "text/plain": [
       "134"
      ]
     },
     "execution_count": 66,
     "metadata": {},
     "output_type": "execute_result"
    }
   ],
   "source": [
    "len(electricity_sums)"
   ]
  },
  {
   "cell_type": "code",
   "execution_count": 67,
   "id": "7e1646fb-e03e-443c-bac9-805ec4493bf6",
   "metadata": {},
   "outputs": [
    {
     "data": {
      "text/plain": [
       "134"
      ]
     },
     "execution_count": 67,
     "metadata": {},
     "output_type": "execute_result"
    }
   ],
   "source": [
    "len(np.transpose(A))"
   ]
  },
  {
   "cell_type": "code",
   "execution_count": 68,
   "id": "0a805daa-d170-4ee0-931f-d1e1140cf968",
   "metadata": {},
   "outputs": [],
   "source": [
    "A [A_df_org.index[A_df_org.iloc[:, 0] == 'Electricity'].tolist()[0] - 10,\n",
    "           A_df_org.T.index[A_df_org.T.iloc[:, 0] == 'Electrcity, natural gas '].tolist()[0] - 10] = 1"
   ]
  },
  {
   "cell_type": "code",
   "execution_count": 69,
   "id": "d60549ac-6e76-4873-8003-c46917be031c",
   "metadata": {},
   "outputs": [],
   "source": [
    "A [A_df_org.index[A_df_org.iloc[:, 0] == 'Electricity'].tolist()[0] - 10,\n",
    "           A_df_org.T.index[A_df_org.T.iloc[:, 0] == 'Electrcity, coal'].tolist()[0] - 10] = 1"
   ]
  },
  {
   "cell_type": "code",
   "execution_count": 70,
   "id": "66ff37a6-bbf4-448b-935f-3fabd143d77a",
   "metadata": {},
   "outputs": [],
   "source": [
    "A [A_df_org.index[A_df_org.iloc[:, 0] == 'Electricity'].tolist()[0] - 10,\n",
    "           A_df_org.T.index[A_df_org.T.iloc[:, 0] == 'Electrcity, oil'].tolist()[0] - 10] = 1"
   ]
  },
  {
   "cell_type": "code",
   "execution_count": 71,
   "id": "7e05aa0e-a61f-4b08-954b-ca17ad3bf87b",
   "metadata": {},
   "outputs": [],
   "source": [
    "A [A_df_org.index[A_df_org.iloc[:, 0] == 'Electricity'].tolist()[0] - 10,\n",
    "           A_df_org.T.index[A_df_org.T.iloc[:, 0] == 'Electrcity, nuclear'].tolist()[0] - 10] = 1"
   ]
  },
  {
   "cell_type": "code",
   "execution_count": 72,
   "id": "2fdd0e42-04c1-4e7c-87dc-2fb40aad7bb9",
   "metadata": {},
   "outputs": [],
   "source": [
    "A [A_df_org.index[A_df_org.iloc[:, 0] == 'Electricity'].tolist()[0] - 10,\n",
    "           A_df_org.T.index[A_df_org.T.iloc[:, 0] == 'Electrcity, wind'].tolist()[0] - 10] = 1"
   ]
  },
  {
   "cell_type": "code",
   "execution_count": 73,
   "id": "823af18e-70fb-4699-95ce-6a4f282007c2",
   "metadata": {},
   "outputs": [],
   "source": [
    "A [A_df_org.index[A_df_org.iloc[:, 0] == 'Electricity'].tolist()[0] - 10,\n",
    "           A_df_org.T.index[A_df_org.T.iloc[:, 0] == 'Electricity, solar'].tolist()[0] - 10] = 1"
   ]
  },
  {
   "cell_type": "code",
   "execution_count": 74,
   "id": "32f54977-2b68-4af3-8d34-11929ba28aea",
   "metadata": {},
   "outputs": [],
   "source": [
    "A [A_df_org.index[A_df_org.iloc[:, 0] == 'Electricity'].tolist()[0] - 10,\n",
    "           A_df_org.T.index[A_df_org.T.iloc[:, 0] == 'Electricity, hydropower'].tolist()[0] - 10] = 1"
   ]
  },
  {
   "cell_type": "code",
   "execution_count": 75,
   "id": "f0520277-3110-4ccf-be6d-c1ab68323fb5",
   "metadata": {},
   "outputs": [],
   "source": [
    "A [A_df_org.index[A_df_org.iloc[:, 0] == 'Electricity'].tolist()[0] - 10,\n",
    "           A_df_org.T.index[A_df_org.T.iloc[:, 0] == 'Electrcity, biopower'].tolist()[0] - 10] = 1"
   ]
  },
  {
   "cell_type": "code",
   "execution_count": 76,
   "id": "154d4d48-c899-49e5-96d2-dadfb91e4cfa",
   "metadata": {},
   "outputs": [],
   "source": [
    "A [A_df_org.index[A_df_org.iloc[:, 0] == 'Electricity'].tolist()[0] - 10,\n",
    "           A_df_org.T.index[A_df_org.T.iloc[:, 0] == 'Electrcity, geothermal'].tolist()[0] - 10] = 1"
   ]
  },
  {
   "cell_type": "code",
   "execution_count": 77,
   "id": "0d0290b5-fcea-4a8b-bb41-f382765b5cb5",
   "metadata": {},
   "outputs": [],
   "source": [
    "A [A_df_org.index[A_df_org.iloc[:, 0] == 'Electricity'].tolist()[0] - 10,\n",
    "           A_df_org.T.index[A_df_org.T.iloc[:, 0] == 'Electrcity, ocean energy'].tolist()[0] - 10] = 1"
   ]
  },
  {
   "cell_type": "code",
   "execution_count": 78,
   "id": "a547d16a-4537-494d-9faa-8d1e37bcffad",
   "metadata": {},
   "outputs": [],
   "source": [
    "B [B_df_org.index[B_df_org.iloc[:, 0] == 'b6f010fb-a764-3063-af2d-bcb8309a97b7'].tolist()[0] - 10,\n",
    "  B_df_org.T.index[B_df_org.iloc[0, :] == 'Electrcity, natural gas '].tolist()[0] - 7] = 0.460/3.6\n",
    "\n",
    "B [B_df_org.index[B_df_org.iloc[:, 0] == 'b6f010fb-a764-3063-af2d-bcb8309a97b7'].tolist()[0] - 10,\n",
    "  B_df_org.T.index[B_df_org.iloc[0, :] == 'Electrcity, coal'].tolist()[0] - 7] = 1/3.6\n",
    "\n",
    "B [B_df_org.index[B_df_org.iloc[:, 0] == 'b6f010fb-a764-3063-af2d-bcb8309a97b7'].tolist()[0] - 10,\n",
    "  B_df_org.T.index[B_df_org.iloc[0, :] == 'Electrcity, oil'].tolist()[0] - 7] = 0.841/3.6\n",
    "\n",
    "B [B_df_org.index[B_df_org.iloc[:, 0] == 'b6f010fb-a764-3063-af2d-bcb8309a97b7'].tolist()[0] - 10,\n",
    "  B_df_org.T.index[B_df_org.iloc[0, :] == 'Electrcity, nuclear'].tolist()[0] - 7] = 0.016/3.6\n",
    "\n",
    "B [B_df_org.index[B_df_org.iloc[:, 0] == 'b6f010fb-a764-3063-af2d-bcb8309a97b7'].tolist()[0] - 10,\n",
    "  B_df_org.T.index[B_df_org.iloc[0, :] == 'Electrcity, wind'].tolist()[0] - 7] = 0.011/3.6\n",
    "\n",
    "B [B_df_org.index[B_df_org.iloc[:, 0] == 'b6f010fb-a764-3063-af2d-bcb8309a97b7'].tolist()[0] - 10,\n",
    "  B_df_org.T.index[B_df_org.iloc[0, :] == 'Electricity, solar'].tolist()[0] - 7] = 0.045/3.6\n",
    "\n",
    "B [B_df_org.index[B_df_org.iloc[:, 0] == 'b6f010fb-a764-3063-af2d-bcb8309a97b7'].tolist()[0] - 10,\n",
    "  B_df_org.T.index[B_df_org.iloc[0, :] == 'Electricity, hydropower'].tolist()[0] - 7] = 0.0065/3.6\n",
    "\n",
    "B [B_df_org.index[B_df_org.iloc[:, 0] == 'b6f010fb-a764-3063-af2d-bcb8309a97b7'].tolist()[0] - 10,\n",
    "  B_df_org.T.index[B_df_org.iloc[0, :] == 'Electrcity, biopower'].tolist()[0] - 7] = 0.039/3.6\n",
    "\n",
    "B [B_df_org.index[B_df_org.iloc[:, 0] == 'b6f010fb-a764-3063-af2d-bcb8309a97b7'].tolist()[0] - 10,\n",
    "  B_df_org.T.index[B_df_org.iloc[0, :] == 'Electrcity, geothermal'].tolist()[0] - 7] = 0.045/3.6\n",
    "\n",
    "B [B_df_org.index[B_df_org.iloc[:, 0] == 'b6f010fb-a764-3063-af2d-bcb8309a97b7'].tolist()[0] - 10,\n",
    "  B_df_org.T.index[B_df_org.iloc[0, :] == 'Electrcity, ocean energy'].tolist()[0] - 7] = 0.008/3.6"
   ]
  },
  {
   "cell_type": "code",
   "execution_count": 81,
   "id": "020e9f00-e29a-4fb4-ba72-2b5a5589eca5",
   "metadata": {},
   "outputs": [],
   "source": [
    "C_gwp_wo_seq= np.transpose(C)[[0]]\n",
    "coef_GWP_wo_seq=C_gwp_wo_seq@B\n",
    "coef_GWP_wo_seq=np.array(coef_GWP_wo_seq)\n",
    "coef_GWP_wo_seq = coef_GWP_wo_seq.reshape(-1)"
   ]
  },
  {
   "cell_type": "markdown",
   "id": "99a2f42b-b326-4931-9e97-657382eefab5",
   "metadata": {},
   "source": [
    "### All decision variables"
   ]
  },
  {
   "cell_type": "code",
   "execution_count": 85,
   "id": "b8288534-3d9e-4f38-add5-4e579ceb67d9",
   "metadata": {},
   "outputs": [
    {
     "data": {
      "text/plain": [
       "{'Problem': [{'Name': 'x135', 'Lower bound': 45625469248.24501, 'Upper bound': 45625469248.24501, 'Number of objectives': 1, 'Number of constraints': 171, 'Number of variables': 135, 'Number of binary variables': 0, 'Number of integer variables': 0, 'Number of continuous variables': 135, 'Number of nonzeros': 568, 'Sense': 'minimize'}], 'Solver': [{'Status': 'ok', 'Return code': '0', 'Message': 'Model was solved to optimality (subject to tolerances), and an optimal solution is available.', 'Termination condition': 'optimal', 'Termination message': 'Model was solved to optimality (subject to tolerances), and an optimal solution is available.', 'Wall time': '0.01651310920715332', 'Error rc': 0, 'Time': 0.13471198081970215}], 'Solution': [OrderedDict([('number of solutions', 0), ('number of solutions displayed', 0)])]}"
      ]
     },
     "execution_count": 85,
     "metadata": {},
     "output_type": "execute_result"
    }
   ],
   "source": [
    "#Model Formulation\n",
    "# Create the model\n",
    "model = ConcreteModel()\n",
    "# List of processes with negative scaling factor due to open loop recovery and substitution approach\n",
    "negative_s_indices = []\n",
    "positive_s_indices = []\n",
    "all_s_indices = []\n",
    "\n",
    "search_elements_zero = [\n",
    "'PET fiber production from sorted PET waste']\n",
    "\n",
    "\n",
    "search_elements_zero_or_negative = [\n",
    "'PET fiber production from sorted PET waste',\n",
    "'Sawn lumber, hardwood, planed, kiln dried, at planer mill, SE',\n",
    "'Asphalt binder, 3.5% styrene-butadiene-styrene (SBS), consumption mix, at terminal, from crude oil, 3.5% styrene-butadiene-styrene',\n",
    "'sodium sulfate (carbon footprint process)',\n",
    "'Bark, hardwood, average, at forest road, NE-NC',\n",
    "'Lignite coal, at surface mine']\n",
    "\n",
    "search_elements_zero_or_positive = [\n",
    "'use & collection',\n",
    "'large, flexible, mono-layer plastic packaging production',\n",
    "'large, flexible, multi-layer plastic packaging production',\n",
    "'large, rigid, mono-layer plastic packaging production',\n",
    "'large, rigid, multi-layer plastic packaging production',\n",
    "'small format plastic packaging production',\n",
    "'HDPE production',\n",
    "'LDPE production',\n",
    "'PP production',\n",
    "'PET production',\n",
    "'PS production',\n",
    "'PVC production',\n",
    "'Electrcity, natural gas ',\n",
    "'Electrcity, coal',\n",
    "'Electrcity, oil',\n",
    "'Electrcity, nuclear',\n",
    "'Electrcity, wind',\n",
    "'Electricity, solar',\n",
    "'Electricity, hydropower',\n",
    "'Electrcity, biopower',\n",
    "'Electrcity, geothermal',\n",
    "'Electrcity, ocean energy',\n",
    "'bio-cyclohexa-2,5-diene-1,4-dicarboxylate production',\n",
    "'advanced recycling, delamination, multi-layer plastic packaging',\n",
    "'advanced recycling, STRAP, multi-layer plastic packaging',\n",
    "'bio-EG production (monomer)',\n",
    "'bio-ethanol production from corn',\n",
    "'bio-ethylene oxide production',\n",
    "'bio-ethylene production (monomer)',\n",
    "'bio-muconic acid production',\n",
    "'bio-propylene production (monomer)',\n",
    "'bio-PTA production (monomer)',\n",
    "'bio-styrene production (monomer)',\n",
    "'bio-vinyl chloride production (monomer)',\n",
    "'Bituminous coal, at mine',\n",
    "'Carbon monoxide, at plant',\n",
    "'High-tech MRF',\n",
    "'Low-tech MRF',\n",
    "'Med-tech MRF',\n",
    "'chemical recycling with metal oxide, PS sorted',\n",
    "'depolymerization, enzymatic hyrdrolysis, PET sorted',\n",
    "'depolymerization, glycolysis, PET sorted',\n",
    "'pyrolysis (monomer production), HDPE sorted',\n",
    "'pyrolysis (monomer production), LDPE sorted',\n",
    "'pyrolysis (monomer production), PP sorted',\n",
    "'pyrolysis, feedstock recycling, mixed plastic waste, sorted',\n",
    "'PET fiber production from sorted PET waste',\n",
    "'plastic lumber production from sorted mixed plastic waste',\n",
    "'road pavement production from sorted mixed plastic waste',\n",
    "'cement clinker, mixed plastic packaging, sorted',\n",
    "'incineration, electricity recovery, plastic packaging waste',\n",
    "'incineration, electricity recovery, plastic residues',\n",
    "'landfill, plastic packaging waste',\n",
    "'landfill, plastic residues',\n",
    "'mechanical recycling, HDPE sorted',\n",
    "'mechanical recycling, LDPE sorted',\n",
    "'mechanical recycling, PET sorted',\n",
    "'mechanical recycling, PP sorted',\n",
    "'mechanical recycling, PS sorted',\n",
    "'mechanical recycling, PVC sorted',\n",
    "'fossil-EG production (monomer)',\n",
    "'fossil-PTA production (monomer)',\n",
    "'fossil-ethylene production (monomer)',\n",
    "'fossil-propylene production (monomer)',\n",
    "'fossil-styrene production (monomer)',\n",
    "'fossil-vinyl chloride production (monomer)'\n",
    "]\n",
    "\n",
    "#Search for elements in the first row of the DataFrame\n",
    "negative_s_indices = [A_df_org.iloc[0,:].tolist().index(elem) for elem in search_elements_zero_or_negative]\n",
    "negative_s_indices = [i-9 for i in negative_s_indices]\n",
    "positive_s_indices = [A_df_org.iloc[0,:].tolist().index(elem) for elem in search_elements_zero_or_positive]\n",
    "positive_s_indices = [i-9 for i in positive_s_indices]\n",
    "zero_s_indices = [A_df_org.iloc[0,:].tolist().index(elem) for elem in search_elements_zero]\n",
    "zero_s_indices = [i-9 for i in zero_s_indices]\n",
    "\n",
    "\n",
    "# Define the decision variable\n",
    "model.set_s = RangeSet(len(np.transpose(A)))\n",
    "model.s = Var(model.set_s)\n",
    "#model.set_negative_scale = Set(initialize=negative_s_indices)\n",
    "model.set_positive_scale = Set(initialize=positive_s_indices)\n",
    "model.set_zero_scale = Set(initialize=zero_s_indices)\n",
    "\n",
    "\n",
    "e = 0.0000001\n",
    "#model constraint: As = f and s>=0\n",
    "model.set_balance = RangeSet(len(f))\n",
    "def balance(model, p): # As = f\n",
    "    return sum(A[p-1,i-1]*model.s[i] for i in model.set_s) == f[p-1]\n",
    "def negative_scale(model, i):\n",
    "    return (model.s[i]<=0)\n",
    "def positive_scale(model, i):\n",
    "    return (model.s[i]>=e)\n",
    "def zero_scale(model, i):\n",
    "    return (model.s[i]==e)\n",
    "\n",
    "model.balance_constraints = Constraint(model.set_balance, rule=balance)\n",
    "#model.negative_scale_constraints = Constraint(model.set_negative_scale, rule=negative_scale)\n",
    "model.positive_scale_constraints = Constraint(model.set_positive_scale, rule=positive_scale)\n",
    "model.zero_scale_constraints = Constraint(model.set_zero_scale, rule=zero_scale)\n",
    "\n",
    "\n",
    "model.obj = Objective(expr = sum(coef_GWP_wo_seq[i-1]*model.s[i] for i in model.set_s), sense=minimize)\n",
    "#Solver\n",
    "solver = SolverFactory('gurobi')\n",
    "solver.solve(model) # solves and updates instance"
   ]
  },
  {
   "cell_type": "code",
   "execution_count": 86,
   "id": "1c53ad70-b374-4105-b8e9-6366e38365a5",
   "metadata": {},
   "outputs": [],
   "source": [
    "#total CO2 emission (kg CO2eq)\n",
    "GWP_best_wo_seq = value(model.obj)"
   ]
  },
  {
   "cell_type": "code",
   "execution_count": 87,
   "id": "072d35dc-cdde-4556-9a1f-986e158b1ffe",
   "metadata": {},
   "outputs": [
    {
     "data": {
      "text/plain": [
       "45625469248.24501"
      ]
     },
     "execution_count": 87,
     "metadata": {},
     "output_type": "execute_result"
    }
   ],
   "source": [
    "GWP_best_wo_seq"
   ]
  },
  {
   "cell_type": "code",
   "execution_count": 88,
   "id": "21f2cb0d-b09e-4aa3-95cb-f13044f27e51",
   "metadata": {},
   "outputs": [],
   "source": [
    "#kg CO2 eq per kg of packaging product\n",
    "GWP_best_wo_seq_per_kg = value(model.obj)/168450000000 "
   ]
  },
  {
   "cell_type": "code",
   "execution_count": 89,
   "id": "67b3f2ec-df4f-4b44-8df0-18b5a14d192a",
   "metadata": {},
   "outputs": [
    {
     "data": {
      "text/plain": [
       "0.27085467051496"
      ]
     },
     "execution_count": 89,
     "metadata": {},
     "output_type": "execute_result"
    }
   ],
   "source": [
    "GWP_best_wo_seq_per_kg"
   ]
  },
  {
   "cell_type": "code",
   "execution_count": 90,
   "id": "9d68aad9-0452-4a14-aca3-f982a5824a1b",
   "metadata": {},
   "outputs": [],
   "source": [
    "scaling_factors_wo_seq = []\n",
    "for j in model.s:\n",
    "    scaling_factors_wo_seq.append(model.s[j].value)  "
   ]
  },
  {
   "cell_type": "code",
   "execution_count": 91,
   "id": "8c74ff95-ac58-41cc-8cdc-9e7480f50403",
   "metadata": {},
   "outputs": [
    {
     "data": {
      "text/plain": [
       "[1e-07, 13975300538.592825, 1e-07, 1e-07]"
      ]
     },
     "execution_count": 91,
     "metadata": {},
     "output_type": "execute_result"
    }
   ],
   "source": [
    "#1. monomer production\n",
    "#ethylene\n",
    "ethylene_s_indices = []\n",
    "scaling_factors_ethylene = []\n",
    "search_elements_ethylene = [\n",
    "    'bio-ethylene production (monomer)',\n",
    "    'fossil-ethylene production (monomer)',\n",
    "    'pyrolysis (monomer production), HDPE sorted',\n",
    "    'pyrolysis (monomer production), LDPE sorted'\n",
    "]\n",
    "ethylene_s_indices = [A_df_org.iloc[0,:].tolist().index(elem) for elem in search_elements_ethylene]\n",
    "ethylene_s_indices = [i-9 for i in ethylene_s_indices]\n",
    "for j in ethylene_s_indices:\n",
    "    scaling_factors_ethylene.append(model.s[j].value)\n",
    "scaling_factors_ethylene"
   ]
  },
  {
   "cell_type": "code",
   "execution_count": 92,
   "id": "989a7cdc-c8cd-419b-a265-a8b61e25a8cb",
   "metadata": {},
   "outputs": [
    {
     "data": {
      "text/plain": [
       "[1e-07, 617816677.582713, 1e-07]"
      ]
     },
     "execution_count": 92,
     "metadata": {},
     "output_type": "execute_result"
    }
   ],
   "source": [
    "#propylene\n",
    "propylene_s_indices = []\n",
    "scaling_factors_propylene = []\n",
    "search_elements_propylene = [\n",
    "    'bio-propylene production (monomer)',\n",
    "    'fossil-propylene production (monomer)',\n",
    "    'pyrolysis (monomer production), PP sorted',\n",
    "]\n",
    "propylene_s_indices = [A_df_org.iloc[0,:].tolist().index(elem) for elem in search_elements_propylene]\n",
    "propylene_s_indices = [i-9 for i in propylene_s_indices]\n",
    "for j in propylene_s_indices:\n",
    "    scaling_factors_propylene.append(model.s[j].value)\n",
    "scaling_factors_propylene   "
   ]
  },
  {
   "cell_type": "code",
   "execution_count": 93,
   "id": "6c76e4d1-3e13-4798-9995-c2897955964f",
   "metadata": {},
   "outputs": [
    {
     "data": {
      "text/plain": [
       "[1e-07, 2985904507.0878606, 1e-07, 1e-07]"
      ]
     },
     "execution_count": 93,
     "metadata": {},
     "output_type": "execute_result"
    }
   ],
   "source": [
    "#MEG\n",
    "MEG_s_indices = []\n",
    "scaling_factors_MEG = []\n",
    "search_elements_MEG = [\n",
    "    'bio-EG production (monomer)',\n",
    "    'fossil-EG production (monomer)',\n",
    "    'depolymerization, enzymatic hyrdrolysis, PET sorted',\n",
    "    'depolymerization, glycolysis, PET sorted'\n",
    "]\n",
    "MEG_s_indices = [A_df_org.iloc[0,:].tolist().index(elem) for elem in search_elements_MEG]\n",
    "MEG_s_indices = [i-9 for i in MEG_s_indices]\n",
    "for j in MEG_s_indices:\n",
    "    scaling_factors_MEG.append(model.s[j].value)\n",
    "scaling_factors_MEG   "
   ]
  },
  {
   "cell_type": "code",
   "execution_count": 94,
   "id": "7d90f8c4-8701-4b91-a682-45d5bec1cad1",
   "metadata": {},
   "outputs": [
    {
     "data": {
      "text/plain": [
       "[1688756840.8414583, 1e-07, 1e-07]"
      ]
     },
     "execution_count": 94,
     "metadata": {},
     "output_type": "execute_result"
    }
   ],
   "source": [
    "#styrene\n",
    "styrene_s_indices = []\n",
    "scaling_factors_styrene = []\n",
    "search_elements_styrene = [\n",
    "    'bio-styrene production (monomer)',\n",
    "    'fossil-styrene production (monomer)',\n",
    "    'chemical recycling with metal oxide, PS sorted',\n",
    "]\n",
    "styrene_s_indices = [A_df_org.iloc[0,:].tolist().index(elem) for elem in search_elements_styrene]\n",
    "styrene_s_indices = [i-9 for i in styrene_s_indices]\n",
    "for j in styrene_s_indices:\n",
    "    scaling_factors_styrene.append(model.s[j].value)\n",
    "scaling_factors_styrene "
   ]
  },
  {
   "cell_type": "code",
   "execution_count": 95,
   "id": "6a2be00c-a0f9-4740-a4db-cb06f24c40b0",
   "metadata": {},
   "outputs": [
    {
     "data": {
      "text/plain": [
       "[578502596.1822492, 1e-07]"
      ]
     },
     "execution_count": 95,
     "metadata": {},
     "output_type": "execute_result"
    }
   ],
   "source": [
    "#vinyl chloride\n",
    "vinyl_chloride_s_indices = []\n",
    "scaling_factors_vinyl_chloride = []\n",
    "search_elements_vinyl_chloride = [\n",
    "    'bio-vinyl chloride production (monomer)',\n",
    "    'fossil-vinyl chloride production (monomer)',\n",
    "]\n",
    "vinyl_chloride_s_indices = [A_df_org.iloc[0,:].tolist().index(elem) for elem in search_elements_vinyl_chloride]\n",
    "vinyl_chloride_s_indices = [i-9 for i in vinyl_chloride_s_indices]\n",
    "for j in vinyl_chloride_s_indices:\n",
    "    scaling_factors_vinyl_chloride.append(model.s[j].value)\n",
    "scaling_factors_vinyl_chloride  "
   ]
  },
  {
   "cell_type": "code",
   "execution_count": 96,
   "id": "f470c2a0-f4dc-4190-8d27-51572f744ba7",
   "metadata": {},
   "outputs": [
    {
     "data": {
      "text/plain": [
       "[188192339.99999902, 1e-07, 6456698222.681562, 26814375192.7485]"
      ]
     },
     "execution_count": 96,
     "metadata": {},
     "output_type": "execute_result"
    }
   ],
   "source": [
    "# 2. polymers\n",
    "#polyethylene\n",
    "scaling_factors_polyethylene = []\n",
    "polyethylene_s_indices = []\n",
    "search_elements_polyethylene = [\n",
    "    'advanced recycling, STRAP, multi-layer plastic packaging',\n",
    "    'advanced recycling, delamination, multi-layer plastic packaging',\n",
    "    'LDPE production',\n",
    "    'mechanical recycling, LDPE sorted'\n",
    "]\n",
    "polyethylene_s_indices = [A_df_org.iloc[0,:].tolist().index(elem) for elem in search_elements_polyethylene]\n",
    "polyethylene_s_indices = [i-9 for i in polyethylene_s_indices]\n",
    "for j in polyethylene_s_indices:\n",
    "    scaling_factors_polyethylene.append(model.s[j].value)\n",
    "scaling_factors_polyethylene"
   ]
  },
  {
   "cell_type": "code",
   "execution_count": 97,
   "id": "002e793c-9a64-4805-be26-5ba3bb6b5b69",
   "metadata": {},
   "outputs": [
    {
     "data": {
      "text/plain": [
       "[1e-07, 1.752294545e-05, 1e-07, 1e-07]"
      ]
     },
     "execution_count": 97,
     "metadata": {},
     "output_type": "execute_result"
    }
   ],
   "source": [
    "#polyethylene\n",
    "scaling_factors_polyethylene = []\n",
    "polyethylene_s_indices = []\n",
    "search_elements_polyethylene = [\n",
    "    'advanced recycling, delamination, multi-layer plastic packaging',\n",
    "    'advanced recycling, STRAP, multi-layer plastic packaging',\n",
    "    'HDPE production',\n",
    "    'mechanical recycling, HDPE sorted'\n",
    "]\n",
    "polyethylene_s_indices = [A_df_org.iloc[0,:].tolist().index(elem) for elem in search_elements_polyethylene]\n",
    "polyethylene_s_indices = [i-3 for i in polyethylene_s_indices]\n",
    "for j in polyethylene_s_indices:\n",
    "    scaling_factors_polyethylene.append(model.s[j].value)\n",
    "scaling_factors_polyethylene"
   ]
  },
  {
   "cell_type": "code",
   "execution_count": 98,
   "id": "6215677f-2a1b-4f8a-a460-962c16412d51",
   "metadata": {},
   "outputs": [
    {
     "data": {
      "text/plain": [
       "[1e-07, 188192339.99999902, 9983212384.287064, 38386721832.027]"
      ]
     },
     "execution_count": 98,
     "metadata": {},
     "output_type": "execute_result"
    }
   ],
   "source": [
    "#polypropylene\n",
    "scaling_factors_polypropylene = []\n",
    "polypropylene_s_indices = []\n",
    "search_elements_polypropylene = [\n",
    "    'advanced recycling, delamination, multi-layer plastic packaging',\n",
    "    'advanced recycling, STRAP, multi-layer plastic packaging',\n",
    "    'PP production',\n",
    "    'mechanical recycling, PP sorted'\n",
    "]\n",
    "polypropylene_s_indices = [A_df_org.iloc[0,:].tolist().index(elem) for elem in search_elements_polypropylene]\n",
    "polypropylene_s_indices = [i-9 for i in polypropylene_s_indices]\n",
    "for j in polypropylene_s_indices:\n",
    "    scaling_factors_polypropylene.append(model.s[j].value)\n",
    "scaling_factors_polypropylene"
   ]
  },
  {
   "cell_type": "code",
   "execution_count": 99,
   "id": "8ea88481-b946-4a77-8351-929ff6aed6b8",
   "metadata": {},
   "outputs": [
    {
     "data": {
      "text/plain": [
       "[1e-07, 188192339.99999902, 8649781306.743553, 29197631480.53097]"
      ]
     },
     "execution_count": 99,
     "metadata": {},
     "output_type": "execute_result"
    }
   ],
   "source": [
    "#polyethylene terephthalate\n",
    "scaling_factors_PET = []\n",
    "PET_s_indices = []\n",
    "search_elements_PET = [\n",
    "    'advanced recycling, delamination, multi-layer plastic packaging',\n",
    "    'advanced recycling, STRAP, multi-layer plastic packaging',\n",
    "    'PET production',\n",
    "    'mechanical recycling, PET sorted'\n",
    "]\n",
    "PET_s_indices = [A_df_org.iloc[0,:].tolist().index(elem) for elem in search_elements_PET]\n",
    "PET_s_indices = [i-9 for i in PET_s_indices]\n",
    "for j in PET_s_indices:\n",
    "    scaling_factors_PET.append(model.s[j].value)\n",
    "scaling_factors_PET"
   ]
  },
  {
   "cell_type": "code",
   "execution_count": 100,
   "id": "3394edcb-a021-4d18-b759-c810e30297b9",
   "metadata": {},
   "outputs": [
    {
     "data": {
      "text/plain": [
       "[1e-07, 188192339.99999902, 1712735132.699248, 6585684505.610024]"
      ]
     },
     "execution_count": 100,
     "metadata": {},
     "output_type": "execute_result"
    }
   ],
   "source": [
    "#polystyrene terephthalate\n",
    "scaling_factors_PS = []\n",
    "PS_s_indices = []\n",
    "search_elements_PS = [\n",
    "    'advanced recycling, delamination, multi-layer plastic packaging',\n",
    "    'advanced recycling, STRAP, multi-layer plastic packaging',\n",
    "    'PS production',\n",
    "    'mechanical recycling, PS sorted'\n",
    "]\n",
    "PS_s_indices = [A_df_org.iloc[0,:].tolist().index(elem) for elem in search_elements_PS]\n",
    "PS_s_indices = [i-9 for i in PS_s_indices]\n",
    "for j in PS_s_indices:\n",
    "    scaling_factors_PS.append(model.s[j].value)\n",
    "scaling_factors_PS"
   ]
  },
  {
   "cell_type": "code",
   "execution_count": 101,
   "id": "c4d2e569-6844-4028-a6fe-98841a9010ed",
   "metadata": {},
   "outputs": [
    {
     "data": {
      "text/plain": [
       "[1e-07, 188192339.99999902, 580243326.1607316, 2509178.1319714095]"
      ]
     },
     "execution_count": 101,
     "metadata": {},
     "output_type": "execute_result"
    }
   ],
   "source": [
    "#polyvinyl chloride\n",
    "scaling_factors_PVC = []\n",
    "PVC_s_indices = []\n",
    "search_elements_PVC = [\n",
    "    'advanced recycling, delamination, multi-layer plastic packaging',\n",
    "    'advanced recycling, STRAP, multi-layer plastic packaging',\n",
    "    'PVC production',\n",
    "    'mechanical recycling, PVC sorted'\n",
    "]\n",
    "PVC_s_indices = [A_df_org.iloc[0,:].tolist().index(elem) for elem in search_elements_PVC]\n",
    "PVC_s_indices = [i-9 for i in PVC_s_indices]\n",
    "for j in PVC_s_indices:\n",
    "    scaling_factors_PVC.append(model.s[j].value)\n",
    "scaling_factors_PVC"
   ]
  },
  {
   "cell_type": "code",
   "execution_count": 102,
   "id": "e67f05f8-d9b8-45ce-b3f3-71f09a63d376",
   "metadata": {},
   "outputs": [
    {
     "data": {
      "text/plain": [
       "[1e-07, 1e-07, 160027500000.0, 1e-07, 1e-07]"
      ]
     },
     "execution_count": 102,
     "metadata": {},
     "output_type": "execute_result"
    }
   ],
   "source": [
    "#3. mixed plastic collected waste (sorting, energy recovery, landfill, mismanaged)\n",
    "\n",
    "scaling_factors_mixed = []\n",
    "mixed_s_indices = []\n",
    "search_elements_mixed = [\n",
    "    'incineration, electricity recovery, plastic packaging waste',\n",
    "    'landfill, plastic packaging waste',\n",
    "    'High-tech MRF',\n",
    "    'Med-tech MRF',\n",
    "    'Low-tech MRF',\n",
    "]\n",
    "mixed_s_indices = [A_df_org.iloc[0,:].tolist().index(elem) for elem in search_elements_mixed]\n",
    "mixed_s_indices = [i-9 for i in mixed_s_indices]\n",
    "for j in mixed_s_indices:\n",
    "    scaling_factors_mixed.append(model.s[j].value)\n",
    "scaling_factors_mixed"
   ]
  },
  {
   "cell_type": "code",
   "execution_count": 103,
   "id": "18ec5ed3-ec9b-41ad-969e-13699e74c7d1",
   "metadata": {},
   "outputs": [
    {
     "data": {
      "text/plain": [
       "[1e-07, 1e-07, 1e-07, 1e-07, -1.8874893912999998e-07]"
      ]
     },
     "execution_count": 103,
     "metadata": {},
     "output_type": "execute_result"
    }
   ],
   "source": [
    "#4. mixed plastic waste, sorted (sorting, energy recovery, landfill, mismanaged)\n",
    "\n",
    "scaling_factors_mixed = []\n",
    "mixed_s_indices = []\n",
    "search_elements_mixed = [\n",
    "    'cement clinker, mixed plastic packaging, sorted',\n",
    "    'plastic lumber production from sorted mixed plastic waste',\n",
    "    'pyrolysis, feedstock recycling, mixed plastic waste, sorted',\n",
    "    'PET fiber production from sorted PET waste',\n",
    "    'road pavement production from sorted mixed plastic waste'\n",
    "]\n",
    "mixed_s_indices = [A_df_org.iloc[0,:].tolist().index(elem) for elem in search_elements_mixed]\n",
    "mixed_s_indices = [i-9 for i in mixed_s_indices]\n",
    "for j in mixed_s_indices:\n",
    "    scaling_factors_mixed.append(model.s[j].value)\n",
    "scaling_factors_mixed"
   ]
  },
  {
   "cell_type": "code",
   "execution_count": 104,
   "id": "36d6fe14-4711-40b8-ba34-c2c1f13d9004",
   "metadata": {},
   "outputs": [
    {
     "data": {
      "text/plain": [
       "[24017538114.78965, 1e-07]"
      ]
     },
     "execution_count": 104,
     "metadata": {},
     "output_type": "execute_result"
    }
   ],
   "source": [
    "#5. Plastic residues\n",
    "scaling_factors_mixed = []\n",
    "mixed_s_indices = []\n",
    "search_elements_mixed = [\n",
    "    'landfill, plastic residues',\n",
    "    'incineration, electricity recovery, plastic residues'\n",
    "]\n",
    "mixed_s_indices = [A_df_org.iloc[0,:].tolist().index(elem) for elem in search_elements_mixed]\n",
    "mixed_s_indices = [i-9 for i in mixed_s_indices]\n",
    "for j in mixed_s_indices:\n",
    "    scaling_factors_mixed.append(model.s[j].value)\n",
    "scaling_factors_mixed"
   ]
  },
  {
   "cell_type": "code",
   "execution_count": 105,
   "id": "63ff53fa-d357-4fc5-bf52-f5e23267da14",
   "metadata": {},
   "outputs": [
    {
     "data": {
      "text/plain": [
       "[1e-07,\n",
       " 1e-07,\n",
       " 1e-07,\n",
       " 1e-07,\n",
       " 1e-07,\n",
       " 1e-07,\n",
       " 661907101356.5931,\n",
       " 1e-07,\n",
       " 1e-07,\n",
       " 1e-07]"
      ]
     },
     "execution_count": 105,
     "metadata": {},
     "output_type": "execute_result"
    }
   ],
   "source": [
    "#6. Energy Grid\n",
    "scaling_factors_mixed = []\n",
    "mixed_s_indices = []\n",
    "search_elements_mixed = [\n",
    "        'Electrcity, natural gas ',\n",
    "        'Electrcity, coal',\n",
    "        'Electrcity, oil',\n",
    "        'Electrcity, nuclear',\n",
    "        'Electrcity, wind',\n",
    "        'Electricity, solar',\n",
    "        'Electricity, hydropower',\n",
    "        'Electrcity, biopower',\n",
    "        'Electrcity, geothermal',\n",
    "        'Electrcity, ocean energy']\n",
    "mixed_s_indices = [A_df_org.iloc[0,:].tolist().index(elem) for elem in search_elements_mixed]\n",
    "mixed_s_indices = [i-9 for i in mixed_s_indices]\n",
    "for j in mixed_s_indices:\n",
    "    scaling_factors_mixed.append(model.s[j].value)\n",
    "scaling_factors_mixed"
   ]
  },
  {
   "cell_type": "markdown",
   "id": "5be31eb7-4f09-491a-a758-ee42dc46ddd8",
   "metadata": {
    "jp-MarkdownHeadingCollapsed": true,
    "tags": []
   },
   "source": [
    "# Scenario 3: Renewable"
   ]
  },
  {
   "cell_type": "markdown",
   "id": "d49e3dd3-f31e-44a3-8347-6c845e97a452",
   "metadata": {},
   "source": [
    "## b:  Electricity generation UUIDs in USLCI"
   ]
  },
  {
   "cell_type": "code",
   "execution_count": 13,
   "id": "a34816a2-be16-4747-95c0-52496af2ba24",
   "metadata": {},
   "outputs": [],
   "source": [
    "electricity_processes = ['Electrcity, solar photovoltatic',\n",
    "                         'Electricity',\n",
    "                         'Electricity, at cogen, for natural gas turbine',\n",
    "                         'Electricity, at Grid, US, 2010',\n",
    "                         'Electricity, biomass, at power plant',\n",
    "                         'Electricity, bituminous coal, at power plant',\n",
    "                         'Electricity, concentrated solar power (CSP)',\n",
    "                         'Electricity, diesel, at power plant',\n",
    "                         'Electricity, Eastern US, 2014',\n",
    "                         'Electricity, lignite coal, at power plant',\n",
    "                         'Electricity, natural gas, at power plant',\n",
    "                         'Electricity, nuclear, at power plant',\n",
    "                         'Electricity, residual fuel oil, at power plant',\n",
    "                         'Electricity, solar'\n",
    "                            ]"
   ]
  },
  {
   "cell_type": "code",
   "execution_count": 14,
   "id": "be956d27-d2b9-4fcd-be6f-1d9a2bb8d923",
   "metadata": {},
   "outputs": [],
   "source": [
    "#finding columns in A with electricity generation\n",
    "store_index_electricity_A_col = []\n",
    "stored_index_A = 0\n",
    "for i in range(len(A_df_org.T)):\n",
    "    if str(A_df_org.iloc[0, i]) in electricity_processes:\n",
    "        stored_index_A = i\n",
    "        store_index_electricity_A_col.append(stored_index_A)"
   ]
  },
  {
   "cell_type": "code",
   "execution_count": 15,
   "id": "6cced6b7-0154-49fd-9ae1-35b7af01dd6f",
   "metadata": {},
   "outputs": [],
   "source": [
    "#finding rows in A with electricity generation\n",
    "store_index_electricity_A_row = []\n",
    "stored_index_A = 0\n",
    "for i in range(len(A_df_org)):\n",
    "    if str(A_df_org.iloc[i, 0]) in electricity_processes:\n",
    "        stored_index_A = i\n",
    "        store_index_electricity_A_row.append(stored_index_A)"
   ]
  },
  {
   "cell_type": "code",
   "execution_count": 16,
   "id": "d5ecd725-e82e-4216-9c58-199094aa287a",
   "metadata": {},
   "outputs": [],
   "source": [
    "#finding columns in B with electricity generation\n",
    "store_index_electricity_B = []\n",
    "stored_index_B = 0\n",
    "for i in range(len(B_df_org.T)):\n",
    "    if str(B_df_org.iloc[0, i]) in electricity_processes:\n",
    "        stored_index_B = i\n",
    "        store_index_electricity_B.append(stored_index_B)"
   ]
  },
  {
   "cell_type": "markdown",
   "id": "ace14697-517e-4d21-a507-e0d040bb72eb",
   "metadata": {},
   "source": [
    "### Removing corresponding electricity columns from A and B"
   ]
  },
  {
   "cell_type": "code",
   "execution_count": 17,
   "id": "4967b1fb-2bb0-41d5-bb53-6dabeb9a7200",
   "metadata": {},
   "outputs": [],
   "source": [
    "A_df_org = A_df_org.drop(A_df_org.columns[store_index_electricity_A_col], axis=1)\n",
    "B_df_org = B_df_org.drop(B_df_org.columns[store_index_electricity_B], axis=1)"
   ]
  },
  {
   "cell_type": "markdown",
   "id": "344e0db7-25b6-49cc-b458-8ba66105d13f",
   "metadata": {},
   "source": [
    "### Aggregating all electricity flows in each process"
   ]
  },
  {
   "cell_type": "code",
   "execution_count": 18,
   "id": "cd11f3de-b2f3-4855-8841-6c3754005a47",
   "metadata": {},
   "outputs": [],
   "source": [
    "electricity_sums = np.sum(np.array(A_df_org.loc[store_index_electricity_A_row].iloc[:, 10:].replace(np.nan, 0), dtype=float), axis=0)"
   ]
  },
  {
   "cell_type": "code",
   "execution_count": 19,
   "id": "3f13f9b5-4c5e-442c-8d3a-9885f852a468",
   "metadata": {},
   "outputs": [],
   "source": [
    "# Reset index and drop the old index\n",
    "A_df_org_tr = A_df_org.T.reset_index(drop=True)"
   ]
  },
  {
   "cell_type": "code",
   "execution_count": 20,
   "id": "f363bca2-02e2-4b02-ad60-39b50587f428",
   "metadata": {
    "tags": []
   },
   "outputs": [],
   "source": [
    "A_df_org = A_df_org_tr.T"
   ]
  },
  {
   "cell_type": "code",
   "execution_count": 21,
   "id": "b0e857fa-4266-4f3e-b3e1-be4219312a41",
   "metadata": {},
   "outputs": [],
   "source": [
    "# Reset index and drop the old index\n",
    "B_df_org_tr = B_df_org.T.reset_index(drop=True)"
   ]
  },
  {
   "cell_type": "code",
   "execution_count": 22,
   "id": "eed82ef5-e5c0-462c-aa15-23ad2035f677",
   "metadata": {
    "tags": []
   },
   "outputs": [],
   "source": [
    "B_df_org = B_df_org_tr.T"
   ]
  },
  {
   "cell_type": "markdown",
   "id": "936ad0ce-947a-4458-b09e-524ac87e35af",
   "metadata": {},
   "source": [
    "### Removing electricity rows from A"
   ]
  },
  {
   "cell_type": "code",
   "execution_count": 23,
   "id": "b3a0cdaa-5de5-4c4a-886c-2e80f7d1b232",
   "metadata": {},
   "outputs": [],
   "source": [
    "A_df_org = A_df_org.drop(A_df_org.columns[store_index_electricity_A_row], axis=0)"
   ]
  },
  {
   "cell_type": "markdown",
   "id": "05bee7b8-1671-4355-9a99-0c562e157cbc",
   "metadata": {
    "tags": []
   },
   "source": [
    "### Add new electricity rows and columns"
   ]
  },
  {
   "cell_type": "code",
   "execution_count": 24,
   "id": "89518f85-3419-46b2-bb89-b6450801f2a3",
   "metadata": {},
   "outputs": [],
   "source": [
    "new_elec = [\n",
    "        'Electrcity, natural gas ',\n",
    "        'Electrcity, coal',\n",
    "        'Electrcity, oil',\n",
    "        'Electrcity, nuclear',\n",
    "        'Electrcity, wind',\n",
    "        'Electricity, solar',\n",
    "        'Electricity, hydropower',\n",
    "        'Electrcity, biopower',\n",
    "        'Electrcity, geothermal',\n",
    "        'Electrcity, ocean energy']\n",
    "\n",
    "new_elec_row = ['Electricity']"
   ]
  },
  {
   "cell_type": "code",
   "execution_count": 25,
   "id": "4fb03959-f8c3-4812-aee8-70f5aaead049",
   "metadata": {},
   "outputs": [],
   "source": [
    "# Append new rows in A\n",
    "\n",
    "# Convert new_elec to a DataFrame\n",
    "new_elec_df = pd.DataFrame(new_elec_row) \n",
    "\n",
    "# Append new_elec to the first row\n",
    "A_df_org = pd.concat([A_df_org, new_elec_df], ignore_index=True)"
   ]
  },
  {
   "cell_type": "code",
   "execution_count": 26,
   "id": "b7606533-b66f-4460-beed-692800e35bf1",
   "metadata": {},
   "outputs": [],
   "source": [
    "# Append new columns in A\n",
    "for elec in new_elec:\n",
    "    A_df_org[elec] = None  # Create a new column with None values\n",
    "\n",
    "# Set the first row of each new column to the corresponding value\n",
    "for idx, elec in enumerate(new_elec):\n",
    "    A_df_org.at[0, elec] = elec  # Set the value in the first row"
   ]
  },
  {
   "cell_type": "code",
   "execution_count": 27,
   "id": "cc6bc397-3430-4449-8342-d67567f0c880",
   "metadata": {},
   "outputs": [],
   "source": [
    "# Append new columns in B\n",
    "for elec in new_elec:\n",
    "    B_df_org[elec] = None  # Create a new column with None values\n",
    "\n",
    "# Set the first row of each new column to the corresponding value\n",
    "for idx, elec in enumerate(new_elec):\n",
    "    B_df_org.at[0, elec] = elec  # Set the value in the first row"
   ]
  },
  {
   "cell_type": "code",
   "execution_count": 28,
   "id": "dd02cc7e-a4e1-4836-8c06-c49498e49fc4",
   "metadata": {},
   "outputs": [],
   "source": [
    "# Reset index and drop the old index\n",
    "A_df_org_tr = A_df_org.T.reset_index(drop=True)"
   ]
  },
  {
   "cell_type": "code",
   "execution_count": 29,
   "id": "65fa9561-4273-4ec6-8224-48fdfb69fd4e",
   "metadata": {
    "tags": []
   },
   "outputs": [],
   "source": [
    "A_df_org = A_df_org_tr.T"
   ]
  },
  {
   "cell_type": "code",
   "execution_count": 30,
   "id": "cb7086fb-a228-4cff-b5a5-0f6a181e868c",
   "metadata": {},
   "outputs": [],
   "source": [
    "# Reset index and drop the old index\n",
    "B_df_org_tr = B_df_org.T.reset_index(drop=True)"
   ]
  },
  {
   "cell_type": "code",
   "execution_count": 31,
   "id": "0923d69f-7ad2-4a27-949c-04e9c64518ef",
   "metadata": {
    "tags": []
   },
   "outputs": [],
   "source": [
    "B_df_org = B_df_org_tr.T"
   ]
  },
  {
   "cell_type": "code",
   "execution_count": 32,
   "id": "9c7a4175-bbb4-4c35-8df4-57a030bf1673",
   "metadata": {},
   "outputs": [],
   "source": [
    "A_df_org.reset_index(drop=True, inplace=True)"
   ]
  },
  {
   "cell_type": "code",
   "execution_count": 33,
   "id": "2d1ad9de-8f82-480f-96a3-a8bb1169d818",
   "metadata": {},
   "outputs": [],
   "source": [
    "A_df_org.to_csv('A_df_org_electricity.csv', index=False)\n",
    "B_df_org.to_csv('B_df_org_electricity.csv', index=False)"
   ]
  },
  {
   "cell_type": "markdown",
   "id": "a7369d1b-2930-4995-bb97-1dfcc661c6b0",
   "metadata": {},
   "source": [
    "## c: Electrification (skip this for optimization w/o electrification)"
   ]
  },
  {
   "cell_type": "code",
   "execution_count": 34,
   "id": "9d598907-0bab-4b58-af37-86e1f8751a78",
   "metadata": {},
   "outputs": [],
   "source": [
    "heat_processes = [\n",
    "    'Bituminous coal, combusted in industrial boiler',\n",
    "    'Diesel, combusted in industrial boiler',\n",
    "    'Heat',\n",
    "    'Heat, onsite boiler, hardwood mill, average, SE',\n",
    "    'Heat, onsite boiler, hardwood mill, average, SE',\n",
    "    'Lignite coal, combusted in industrial boiler',\n",
    "    'Liquefied petroleum gas, combusted in industrial boiler',\n",
    "    'Residual fuel oil, combusted in industrial boiler',\n",
    "    'Wood fuel, hardwood, generated at lumber mill, combusted in industrial boiler, SE',\n",
    "    'Wood fuel, hardwood, purchased, combusted in industrial boiler, SE',\n",
    "    'Wood waste, unspecified, combusted in industrial boiler',\n",
    "    'Natural gas, combusted in industrial boiler',\n",
    "    'Natural gas, combusted in industrial boiler, at hydrocracker, for ethylene',\n",
    "    'Natural gas, combusted in industrial boiler, at hydrocracker, for pyrolysis gas',\n",
    "    'Wood fuel, unspecified'\n",
    "]"
   ]
  },
  {
   "cell_type": "code",
   "execution_count": 35,
   "id": "73d3d2bc-a5ae-495a-9035-a9169d0b606f",
   "metadata": {},
   "outputs": [],
   "source": [
    "Mj_per_unit = [23.9, 37.4, 1, 1, 1, 23.9, 26, 37, 16, 16, 16, 40, 40, 40, 16]"
   ]
  },
  {
   "cell_type": "code",
   "execution_count": 36,
   "id": "7c6cea22-8702-487d-83f1-fb6c66df63cf",
   "metadata": {},
   "outputs": [],
   "source": [
    "boiler_efficiency = [0.81, 0.83, 1, 0.7, 0.7, 0.81, 0.82, 0.83, 0.7, 0.7, 0.7, 0.75, 0.75, 0.75, 0.7]"
   ]
  },
  {
   "cell_type": "code",
   "execution_count": 37,
   "id": "3aefb120-2322-4c38-9654-c4a4752a9611",
   "metadata": {},
   "outputs": [],
   "source": [
    "#step 1: identify all heat columns in A and B\n",
    "#finding columns in A with electricity generation\n",
    "store_index_heat_A_col = []\n",
    "stored_index_A = 0\n",
    "for i in range(len(A_df_org.T)):\n",
    "    if str(A_df_org.iloc[0, i]) in heat_processes:\n",
    "        stored_index_A = i\n",
    "        store_index_heat_A_col.append(stored_index_A)"
   ]
  },
  {
   "cell_type": "code",
   "execution_count": 38,
   "id": "719eba87-ab86-4852-acb9-f6dc6f052dae",
   "metadata": {},
   "outputs": [],
   "source": [
    "#finding rows in A with electricity generation\n",
    "store_index_heat_A_row = []\n",
    "stored_index_A = 0\n",
    "for i in range(len(A_df_org)):\n",
    "    if str(A_df_org.iloc[i, 0]) in heat_processes:\n",
    "        stored_index_A = i\n",
    "        store_index_heat_A_row.append(stored_index_A)"
   ]
  },
  {
   "cell_type": "code",
   "execution_count": 39,
   "id": "1a69dc47-54ae-4308-9060-83e8c9decade",
   "metadata": {},
   "outputs": [],
   "source": [
    "#finding columns in B with electricity generation\n",
    "#finding columns in B with electricity generation\n",
    "store_index_heat_B = []\n",
    "stored_index_B = 0\n",
    "for i in range(len(B_df_org.T)):\n",
    "    if str(B_df_org.iloc[0, i]) in heat_processes:\n",
    "        stored_index_B = i\n",
    "        store_index_heat_B.append(stored_index_B)"
   ]
  },
  {
   "cell_type": "code",
   "execution_count": 40,
   "id": "17dafb03-e093-4d00-9a96-3852a7c454b6",
   "metadata": {},
   "outputs": [],
   "source": [
    "#Step 2: Remove heat columns from A and B\n",
    "A_df_org = A_df_org.drop(A_df_org.columns[store_index_heat_A_col], axis=1)\n",
    "B_df_org = B_df_org.drop(B_df_org.columns[store_index_heat_B], axis=1)"
   ]
  },
  {
   "cell_type": "code",
   "execution_count": 41,
   "id": "f3731f13-d7d1-4373-be1a-f0972df1c200",
   "metadata": {},
   "outputs": [],
   "source": [
    "X = np.array(Mj_per_unit) * np.array(boiler_efficiency)\n",
    "Y = np.array(A_df_org.loc[store_index_heat_A_row].iloc[:, 10:].replace(np.nan, 0), dtype=float)"
   ]
  },
  {
   "cell_type": "code",
   "execution_count": 42,
   "id": "389207dc-7402-4007-9e0d-713495dc1abd",
   "metadata": {},
   "outputs": [],
   "source": [
    "#Step 3: aggregate heat rows from A and B and convert them to absolute heat needed\n",
    "heat_sums = []\n",
    "heat_sums = np.transpose(Y)@X"
   ]
  },
  {
   "cell_type": "code",
   "execution_count": 43,
   "id": "9a736580-d480-4810-9240-98955ee4dced",
   "metadata": {},
   "outputs": [],
   "source": [
    "# Reset index and drop the old index\n",
    "A_df_org_tr = A_df_org.T.reset_index(drop=True)"
   ]
  },
  {
   "cell_type": "code",
   "execution_count": 44,
   "id": "e39e483e-8002-4667-9e6f-8813c5dd99f7",
   "metadata": {},
   "outputs": [],
   "source": [
    "A_df_org = A_df_org_tr.T"
   ]
  },
  {
   "cell_type": "code",
   "execution_count": 45,
   "id": "9cd2180b-b01f-4196-807d-6fc2dfacd7c3",
   "metadata": {},
   "outputs": [],
   "source": [
    "# Reset index and drop the old index\n",
    "B_df_org_tr = B_df_org.T.reset_index(drop=True)"
   ]
  },
  {
   "cell_type": "code",
   "execution_count": 46,
   "id": "9e93f3f4-27ac-4cee-a88d-9c9782a0db53",
   "metadata": {},
   "outputs": [],
   "source": [
    "B_df_org = B_df_org_tr.T"
   ]
  },
  {
   "cell_type": "code",
   "execution_count": 47,
   "id": "aa6aa9c6-e16f-42ea-9134-153867b3c2ac",
   "metadata": {},
   "outputs": [],
   "source": [
    "A_df_org = A_df_org.drop(A_df_org.columns[store_index_heat_A_row], axis=0)"
   ]
  },
  {
   "cell_type": "code",
   "execution_count": 48,
   "id": "01f79f19-e00c-4f38-aa5b-1b267276f1c4",
   "metadata": {},
   "outputs": [],
   "source": [
    "# Reset index and drop the old index\n",
    "A_df_org_tr = A_df_org.T.reset_index(drop=True)"
   ]
  },
  {
   "cell_type": "code",
   "execution_count": 49,
   "id": "4db2d2c8-f0e2-441d-aef0-4b40f5a40709",
   "metadata": {},
   "outputs": [],
   "source": [
    "A_df_org = A_df_org_tr.T"
   ]
  },
  {
   "cell_type": "code",
   "execution_count": 50,
   "id": "a75271cb-9f92-4083-ac38-2e37db4a0c42",
   "metadata": {},
   "outputs": [],
   "source": [
    "# Reset index and drop the old index\n",
    "B_df_org_tr = B_df_org.T.reset_index(drop=True)"
   ]
  },
  {
   "cell_type": "code",
   "execution_count": 51,
   "id": "e41086dc-8296-4bc6-a98d-e0632453453f",
   "metadata": {},
   "outputs": [],
   "source": [
    "B_df_org = B_df_org_tr.T"
   ]
  },
  {
   "cell_type": "code",
   "execution_count": 52,
   "id": "734a8634-8547-4935-86e9-6327fb09db9a",
   "metadata": {},
   "outputs": [],
   "source": [
    "A_df_org.reset_index(drop=True, inplace=True)"
   ]
  },
  {
   "cell_type": "code",
   "execution_count": 53,
   "id": "b682f990-6a93-4bb7-be49-ba65b7d319a3",
   "metadata": {},
   "outputs": [],
   "source": [
    "update_store_index_heat_A_row = [x-10 for x in store_index_heat_A_row]"
   ]
  },
  {
   "cell_type": "code",
   "execution_count": 54,
   "id": "e6ecdb30-3efd-4dc6-bd6c-3cf26f502105",
   "metadata": {},
   "outputs": [],
   "source": [
    "electricity_sums = np.delete(electricity_sums,update_store_index_heat_A_row)"
   ]
  },
  {
   "cell_type": "code",
   "execution_count": 55,
   "id": "212d5ff5-e7e6-4ad4-a474-370352cbcadf",
   "metadata": {},
   "outputs": [],
   "source": [
    "for i in range(len(heat_sums)-len(electricity_sums)):\n",
    "    electricity_sums = np.append(electricity_sums, 0)"
   ]
  },
  {
   "cell_type": "code",
   "execution_count": 56,
   "id": "ce129be5-2ca9-4f61-84d7-05909d5184ca",
   "metadata": {},
   "outputs": [],
   "source": [
    "A_df_org.to_csv('A_df_org_heat.csv', index=False)\n",
    "B_df_org.to_csv('B_df_org_heat.csv', index=False)"
   ]
  },
  {
   "cell_type": "markdown",
   "id": "ba8611e5-563c-4f88-85c0-0b4c71d8f370",
   "metadata": {},
   "source": [
    "## Generation of A, B, and C"
   ]
  },
  {
   "cell_type": "code",
   "execution_count": 57,
   "id": "9f796eec-2fb2-40b2-b74d-37bf05aa1737",
   "metadata": {},
   "outputs": [],
   "source": [
    "A_df = copy.copy(A_df_org)\n",
    "B_df = copy.copy(B_df_org)"
   ]
  },
  {
   "cell_type": "code",
   "execution_count": 58,
   "id": "d59060da-a859-408a-80ab-c9b768b88865",
   "metadata": {},
   "outputs": [],
   "source": [
    "#Building A matrix\n",
    "# Step 1: Delete the first 10 columns\n",
    "A_df = A_df.drop(A_df.columns[:10], axis=1)\n",
    "\n",
    "# Step 2: Delete the first 10 rows (first row is heading, so put 3)\n",
    "A_df = A_df.iloc[10:]\n",
    "\n",
    "#Replacing empty values with zero and getting the final A matrix\n",
    "A=A_df\n",
    "A=A.replace(np.nan, 0)\n",
    "A=np.array(A,dtype='float64')"
   ]
  },
  {
   "cell_type": "code",
   "execution_count": 59,
   "id": "cbda2b5e-eb77-4c62-a216-65e2c6c4bbb0",
   "metadata": {},
   "outputs": [
    {
     "data": {
      "text/plain": [
       "(103, 134)"
      ]
     },
     "execution_count": 59,
     "metadata": {},
     "output_type": "execute_result"
    }
   ],
   "source": [
    "A.shape"
   ]
  },
  {
   "cell_type": "code",
   "execution_count": 60,
   "id": "9027f237-5f07-4d81-aee8-9fdd8ffcf0b1",
   "metadata": {},
   "outputs": [],
   "source": [
    "# Building B matrix\n",
    "# Step 1: Delete the first 7 columns\n",
    "B_df = B_df.drop(B_df.columns[:7], axis=1)\n",
    "\n",
    "# Step 2: Delete the first 10 rows (first row is heading, so put 3)\n",
    "B_df = B_df.iloc[10:]\n",
    "\n",
    "# Replacing empty values with zero\n",
    "B_df = B_df.replace(np.nan, 0)\n",
    "\n",
    "# Converting all elements to float, handling empty strings and stripping whitespace\n",
    "def convert_to_float(x):\n",
    "    if isinstance(x, str):\n",
    "        x = x.strip()  # Remove any leading/trailing whitespace\n",
    "        if x == '':  # Handle empty strings\n",
    "            return 0.0\n",
    "        try:\n",
    "            return float(x)\n",
    "        except ValueError:\n",
    "            return 0.0  # Or raise an error if you want to catch non-numeric strings\n",
    "    return x\n",
    "\n",
    "B_df = B_df.applymap(convert_to_float)\n",
    "\n",
    "# Converting to a NumPy array\n",
    "B = np.array(B_df, dtype=float)"
   ]
  },
  {
   "cell_type": "code",
   "execution_count": 61,
   "id": "35dae68b-db57-43bb-bc95-3b51cc1c8f0a",
   "metadata": {},
   "outputs": [
    {
     "data": {
      "text/plain": [
       "(1044, 134)"
      ]
     },
     "execution_count": 61,
     "metadata": {},
     "output_type": "execute_result"
    }
   ],
   "source": [
    "B.shape"
   ]
  },
  {
   "cell_type": "code",
   "execution_count": 62,
   "id": "64658350-1e83-4b81-895e-e6865aebee52",
   "metadata": {},
   "outputs": [],
   "source": [
    "#Building C matrix\n",
    "# Step 1: Delete the first 7 columns\n",
    "C_df = C_df.drop(C_df.columns[:7], axis=1)\n",
    "\n",
    "# Step 2: Delete the first 5 rows (first row is heading, so put 3)\n",
    "C_df = C_df.iloc[5:]\n",
    "\n",
    "#Replacing empty values with zero and getting the final B matrix\n",
    "C=C_df\n",
    "C=C.replace(np.nan, 0)\n",
    "C=np.array(C,dtype='float64')"
   ]
  },
  {
   "cell_type": "code",
   "execution_count": 63,
   "id": "1ecf669a-2b30-49a5-af21-ee60e79a9bd7",
   "metadata": {},
   "outputs": [],
   "source": [
    "#Functional Unit\n",
    "# F = 168.450 million metric tons = 168,450,000 metric tons = 168,450,000,000 kg\n",
    "F=168450000000\n",
    "F=int(F)\n",
    "#defining f matrix\n",
    "f=np.zeros(len(A))\n",
    "f[0]=F"
   ]
  },
  {
   "cell_type": "markdown",
   "id": "b0855cd4-e8a8-47cd-a5c6-6cc36c14b4fd",
   "metadata": {},
   "source": [
    "## Implementing values in A"
   ]
  },
  {
   "cell_type": "code",
   "execution_count": 64,
   "id": "a1ba5f4d-0600-4831-9f1b-3cbf6cbadf88",
   "metadata": {},
   "outputs": [],
   "source": [
    "\n",
    "for i in range(len(electricity_sums)):\n",
    "    A [A_df_org.index[A_df_org.iloc[:, 0] == 'Electricity'].tolist()[0] - 10,i] = electricity_sums[i] + heat_sums [i]"
   ]
  },
  {
   "cell_type": "code",
   "execution_count": 65,
   "id": "e98ea14b-f5c2-4605-a19e-7e78f9135648",
   "metadata": {},
   "outputs": [],
   "source": [
    "for i in range(len(electricity_sums)):\n",
    "    A [A_df_org.index[A_df_org.iloc[:, 0] == 'Electricity'].tolist()[0] - 10,i] = electricity_sums[i] "
   ]
  },
  {
   "cell_type": "code",
   "execution_count": 66,
   "id": "f2df7c58-1dc1-4f4f-ac58-c3f012cba65b",
   "metadata": {},
   "outputs": [
    {
     "data": {
      "text/plain": [
       "134"
      ]
     },
     "execution_count": 66,
     "metadata": {},
     "output_type": "execute_result"
    }
   ],
   "source": [
    "len(electricity_sums)"
   ]
  },
  {
   "cell_type": "code",
   "execution_count": 67,
   "id": "da9c27fa-60fe-463f-90c6-bb4efad875f8",
   "metadata": {},
   "outputs": [
    {
     "data": {
      "text/plain": [
       "134"
      ]
     },
     "execution_count": 67,
     "metadata": {},
     "output_type": "execute_result"
    }
   ],
   "source": [
    "len(np.transpose(A))"
   ]
  },
  {
   "cell_type": "code",
   "execution_count": 68,
   "id": "446ba253-c482-4bf2-b319-527f0044bd79",
   "metadata": {},
   "outputs": [],
   "source": [
    "A [A_df_org.index[A_df_org.iloc[:, 0] == 'Electricity'].tolist()[0] - 10,\n",
    "           A_df_org.T.index[A_df_org.T.iloc[:, 0] == 'Electrcity, natural gas '].tolist()[0] - 10] = 1"
   ]
  },
  {
   "cell_type": "code",
   "execution_count": 69,
   "id": "3e2f3509-2243-47d4-9dc5-52fe9d62a432",
   "metadata": {},
   "outputs": [],
   "source": [
    "A [A_df_org.index[A_df_org.iloc[:, 0] == 'Electricity'].tolist()[0] - 10,\n",
    "           A_df_org.T.index[A_df_org.T.iloc[:, 0] == 'Electrcity, coal'].tolist()[0] - 10] = 1"
   ]
  },
  {
   "cell_type": "code",
   "execution_count": 70,
   "id": "2a7b4ec1-8112-444f-932c-e7de31d22941",
   "metadata": {},
   "outputs": [],
   "source": [
    "A [A_df_org.index[A_df_org.iloc[:, 0] == 'Electricity'].tolist()[0] - 10,\n",
    "           A_df_org.T.index[A_df_org.T.iloc[:, 0] == 'Electrcity, oil'].tolist()[0] - 10] = 1"
   ]
  },
  {
   "cell_type": "code",
   "execution_count": 71,
   "id": "faff922e-48b2-4385-a0e2-d91c00c05942",
   "metadata": {},
   "outputs": [],
   "source": [
    "A [A_df_org.index[A_df_org.iloc[:, 0] == 'Electricity'].tolist()[0] - 10,\n",
    "           A_df_org.T.index[A_df_org.T.iloc[:, 0] == 'Electrcity, nuclear'].tolist()[0] - 10] = 1"
   ]
  },
  {
   "cell_type": "code",
   "execution_count": 72,
   "id": "0f2db158-0269-4f40-8310-77a5b194d0ed",
   "metadata": {},
   "outputs": [],
   "source": [
    "A [A_df_org.index[A_df_org.iloc[:, 0] == 'Electricity'].tolist()[0] - 10,\n",
    "           A_df_org.T.index[A_df_org.T.iloc[:, 0] == 'Electrcity, wind'].tolist()[0] - 10] = 1"
   ]
  },
  {
   "cell_type": "code",
   "execution_count": 73,
   "id": "c71945a6-72ab-417f-aa86-79491f70eea2",
   "metadata": {},
   "outputs": [],
   "source": [
    "A [A_df_org.index[A_df_org.iloc[:, 0] == 'Electricity'].tolist()[0] - 10,\n",
    "           A_df_org.T.index[A_df_org.T.iloc[:, 0] == 'Electricity, solar'].tolist()[0] - 10] = 1"
   ]
  },
  {
   "cell_type": "code",
   "execution_count": 74,
   "id": "75334511-870b-4d76-837d-b224bd723ac6",
   "metadata": {},
   "outputs": [],
   "source": [
    "A [A_df_org.index[A_df_org.iloc[:, 0] == 'Electricity'].tolist()[0] - 10,\n",
    "           A_df_org.T.index[A_df_org.T.iloc[:, 0] == 'Electricity, hydropower'].tolist()[0] - 10] = 1"
   ]
  },
  {
   "cell_type": "code",
   "execution_count": 75,
   "id": "3f639eae-0c1f-4ee4-b304-f3e3f05146be",
   "metadata": {},
   "outputs": [],
   "source": [
    "A [A_df_org.index[A_df_org.iloc[:, 0] == 'Electricity'].tolist()[0] - 10,\n",
    "           A_df_org.T.index[A_df_org.T.iloc[:, 0] == 'Electrcity, biopower'].tolist()[0] - 10] = 1"
   ]
  },
  {
   "cell_type": "code",
   "execution_count": 76,
   "id": "793c8689-75eb-4bff-8c27-e9a52779d78b",
   "metadata": {},
   "outputs": [],
   "source": [
    "A [A_df_org.index[A_df_org.iloc[:, 0] == 'Electricity'].tolist()[0] - 10,\n",
    "           A_df_org.T.index[A_df_org.T.iloc[:, 0] == 'Electrcity, geothermal'].tolist()[0] - 10] = 1"
   ]
  },
  {
   "cell_type": "code",
   "execution_count": 77,
   "id": "34a7c7a1-5069-4aa8-bec0-ad6c0790232e",
   "metadata": {},
   "outputs": [],
   "source": [
    "A [A_df_org.index[A_df_org.iloc[:, 0] == 'Electricity'].tolist()[0] - 10,\n",
    "           A_df_org.T.index[A_df_org.T.iloc[:, 0] == 'Electrcity, ocean energy'].tolist()[0] - 10] = 1"
   ]
  },
  {
   "cell_type": "code",
   "execution_count": 78,
   "id": "1c60ebf1-be2a-4021-87ce-e6b2e55c8058",
   "metadata": {},
   "outputs": [],
   "source": [
    "B [B_df_org.index[B_df_org.iloc[:, 0] == 'b6f010fb-a764-3063-af2d-bcb8309a97b7'].tolist()[0] - 10,\n",
    "  B_df_org.T.index[B_df_org.iloc[0, :] == 'Electrcity, natural gas '].tolist()[0] - 7] = 0.460/3.6\n",
    "\n",
    "B [B_df_org.index[B_df_org.iloc[:, 0] == 'b6f010fb-a764-3063-af2d-bcb8309a97b7'].tolist()[0] - 10,\n",
    "  B_df_org.T.index[B_df_org.iloc[0, :] == 'Electrcity, coal'].tolist()[0] - 7] = 1/3.6\n",
    "\n",
    "B [B_df_org.index[B_df_org.iloc[:, 0] == 'b6f010fb-a764-3063-af2d-bcb8309a97b7'].tolist()[0] - 10,\n",
    "  B_df_org.T.index[B_df_org.iloc[0, :] == 'Electrcity, oil'].tolist()[0] - 7] = 0.841/3.6\n",
    "\n",
    "B [B_df_org.index[B_df_org.iloc[:, 0] == 'b6f010fb-a764-3063-af2d-bcb8309a97b7'].tolist()[0] - 10,\n",
    "  B_df_org.T.index[B_df_org.iloc[0, :] == 'Electrcity, nuclear'].tolist()[0] - 7] = 0.016/3.6\n",
    "\n",
    "B [B_df_org.index[B_df_org.iloc[:, 0] == 'b6f010fb-a764-3063-af2d-bcb8309a97b7'].tolist()[0] - 10,\n",
    "  B_df_org.T.index[B_df_org.iloc[0, :] == 'Electrcity, wind'].tolist()[0] - 7] = 0.011/3.6\n",
    "\n",
    "B [B_df_org.index[B_df_org.iloc[:, 0] == 'b6f010fb-a764-3063-af2d-bcb8309a97b7'].tolist()[0] - 10,\n",
    "  B_df_org.T.index[B_df_org.iloc[0, :] == 'Electricity, solar'].tolist()[0] - 7] = 0.045/3.6\n",
    "\n",
    "B [B_df_org.index[B_df_org.iloc[:, 0] == 'b6f010fb-a764-3063-af2d-bcb8309a97b7'].tolist()[0] - 10,\n",
    "  B_df_org.T.index[B_df_org.iloc[0, :] == 'Electricity, hydropower'].tolist()[0] - 7] = 0.0065/3.6\n",
    "\n",
    "B [B_df_org.index[B_df_org.iloc[:, 0] == 'b6f010fb-a764-3063-af2d-bcb8309a97b7'].tolist()[0] - 10,\n",
    "  B_df_org.T.index[B_df_org.iloc[0, :] == 'Electrcity, biopower'].tolist()[0] - 7] = 0.039/3.6\n",
    "\n",
    "B [B_df_org.index[B_df_org.iloc[:, 0] == 'b6f010fb-a764-3063-af2d-bcb8309a97b7'].tolist()[0] - 10,\n",
    "  B_df_org.T.index[B_df_org.iloc[0, :] == 'Electrcity, geothermal'].tolist()[0] - 7] = 0.045/3.6\n",
    "\n",
    "B [B_df_org.index[B_df_org.iloc[:, 0] == 'b6f010fb-a764-3063-af2d-bcb8309a97b7'].tolist()[0] - 10,\n",
    "  B_df_org.T.index[B_df_org.iloc[0, :] == 'Electrcity, ocean energy'].tolist()[0] - 7] = 0.008/3.6"
   ]
  },
  {
   "cell_type": "code",
   "execution_count": 79,
   "id": "2934fbc7-6932-4db2-b552-00fd75ad1a56",
   "metadata": {},
   "outputs": [
    {
     "data": {
      "text/plain": [
       "0.12777777777777777"
      ]
     },
     "execution_count": 79,
     "metadata": {},
     "output_type": "execute_result"
    }
   ],
   "source": [
    "B [B_df_org.index[B_df_org.iloc[:, 0] == 'b6f010fb-a764-3063-af2d-bcb8309a97b7'].tolist()[0] - 10,\n",
    "  B_df_org.T.index[B_df_org.iloc[0, :] == 'Electrcity, natural gas '].tolist()[0] - 7]"
   ]
  },
  {
   "cell_type": "code",
   "execution_count": 80,
   "id": "ea8e87f5-aa74-47be-8219-954992cf00bc",
   "metadata": {},
   "outputs": [
    {
     "data": {
      "text/plain": [
       "1.0"
      ]
     },
     "execution_count": 80,
     "metadata": {},
     "output_type": "execute_result"
    }
   ],
   "source": [
    "C [C_df_org.index[C_df_org.iloc[:, 0] == 'b6f010fb-a764-3063-af2d-bcb8309a97b7'].tolist()[0] - 5,\n",
    "  C_df_org.T.index[C_df_org.iloc[0, :] == '0cbbf9b1-046d-4ee3-9f3c-5e36d1106ea0'].tolist()[0] - 7]"
   ]
  },
  {
   "cell_type": "code",
   "execution_count": 81,
   "id": "6c6d52fb-aaae-466e-a0af-b4a787dc7c2f",
   "metadata": {},
   "outputs": [],
   "source": [
    "C_gwp_wo_seq= np.transpose(C)[[0]]\n",
    "coef_GWP_wo_seq=C_gwp_wo_seq@B\n",
    "coef_GWP_wo_seq=np.array(coef_GWP_wo_seq)\n",
    "coef_GWP_wo_seq = coef_GWP_wo_seq.reshape(-1)"
   ]
  },
  {
   "cell_type": "markdown",
   "id": "d048d918-69a8-45f8-bcea-01eb1e7b8fbd",
   "metadata": {},
   "source": [
    "### All decision variables"
   ]
  },
  {
   "cell_type": "code",
   "execution_count": 85,
   "id": "44f69a17-e726-475d-a6de-a04298bb40e3",
   "metadata": {},
   "outputs": [
    {
     "data": {
      "text/plain": [
       "{'Problem': [{'Name': 'x135', 'Lower bound': 45625469248.24501, 'Upper bound': 45625469248.24501, 'Number of objectives': 1, 'Number of constraints': 171, 'Number of variables': 135, 'Number of binary variables': 0, 'Number of integer variables': 0, 'Number of continuous variables': 135, 'Number of nonzeros': 568, 'Sense': 'minimize'}], 'Solver': [{'Status': 'ok', 'Return code': '0', 'Message': 'Model was solved to optimality (subject to tolerances), and an optimal solution is available.', 'Termination condition': 'optimal', 'Termination message': 'Model was solved to optimality (subject to tolerances), and an optimal solution is available.', 'Wall time': '0.01651310920715332', 'Error rc': 0, 'Time': 0.13471198081970215}], 'Solution': [OrderedDict([('number of solutions', 0), ('number of solutions displayed', 0)])]}"
      ]
     },
     "execution_count": 85,
     "metadata": {},
     "output_type": "execute_result"
    }
   ],
   "source": [
    "#Model Formulation\n",
    "# Create the model\n",
    "model = ConcreteModel()\n",
    "# List of processes with negative scaling factor due to open loop recovery and substitution approach\n",
    "negative_s_indices = []\n",
    "positive_s_indices = []\n",
    "all_s_indices = []\n",
    "\n",
    "search_elements_zero = [\n",
    "'PET fiber production from sorted PET waste']\n",
    "\n",
    "\n",
    "search_elements_zero_or_negative = [\n",
    "'PET fiber production from sorted PET waste',\n",
    "'Sawn lumber, hardwood, planed, kiln dried, at planer mill, SE',\n",
    "'Asphalt binder, 3.5% styrene-butadiene-styrene (SBS), consumption mix, at terminal, from crude oil, 3.5% styrene-butadiene-styrene',\n",
    "'sodium sulfate (carbon footprint process)',\n",
    "'Bark, hardwood, average, at forest road, NE-NC',\n",
    "'Lignite coal, at surface mine']\n",
    "\n",
    "search_elements_zero_or_positive = [\n",
    "'use & collection',\n",
    "'large, flexible, mono-layer plastic packaging production',\n",
    "'large, flexible, multi-layer plastic packaging production',\n",
    "'large, rigid, mono-layer plastic packaging production',\n",
    "'large, rigid, multi-layer plastic packaging production',\n",
    "'small format plastic packaging production',\n",
    "'HDPE production',\n",
    "'LDPE production',\n",
    "'PP production',\n",
    "'PET production',\n",
    "'PS production',\n",
    "'PVC production',\n",
    "'Electrcity, natural gas ',\n",
    "'Electrcity, coal',\n",
    "'Electrcity, oil',\n",
    "'Electrcity, nuclear',\n",
    "'Electrcity, wind',\n",
    "'Electricity, solar',\n",
    "'Electricity, hydropower',\n",
    "'Electrcity, biopower',\n",
    "'Electrcity, geothermal',\n",
    "'Electrcity, ocean energy',\n",
    "'bio-cyclohexa-2,5-diene-1,4-dicarboxylate production',\n",
    "'advanced recycling, delamination, multi-layer plastic packaging',\n",
    "'advanced recycling, STRAP, multi-layer plastic packaging',\n",
    "'bio-EG production (monomer)',\n",
    "'bio-ethanol production from corn',\n",
    "'bio-ethylene oxide production',\n",
    "'bio-ethylene production (monomer)',\n",
    "'bio-muconic acid production',\n",
    "'bio-propylene production (monomer)',\n",
    "'bio-PTA production (monomer)',\n",
    "'bio-styrene production (monomer)',\n",
    "'bio-vinyl chloride production (monomer)',\n",
    "'Bituminous coal, at mine',\n",
    "'Carbon monoxide, at plant',\n",
    "'High-tech MRF',\n",
    "'Low-tech MRF',\n",
    "'Med-tech MRF',\n",
    "'chemical recycling with metal oxide, PS sorted',\n",
    "'depolymerization, enzymatic hyrdrolysis, PET sorted',\n",
    "'depolymerization, glycolysis, PET sorted',\n",
    "'pyrolysis (monomer production), HDPE sorted',\n",
    "'pyrolysis (monomer production), LDPE sorted',\n",
    "'pyrolysis (monomer production), PP sorted',\n",
    "'pyrolysis, feedstock recycling, mixed plastic waste, sorted',\n",
    "'PET fiber production from sorted PET waste',\n",
    "'plastic lumber production from sorted mixed plastic waste',\n",
    "'road pavement production from sorted mixed plastic waste',\n",
    "'cement clinker, mixed plastic packaging, sorted',\n",
    "'incineration, electricity recovery, plastic packaging waste',\n",
    "'incineration, electricity recovery, plastic residues',\n",
    "'landfill, plastic packaging waste',\n",
    "'landfill, plastic residues',\n",
    "'mechanical recycling, HDPE sorted',\n",
    "'mechanical recycling, LDPE sorted',\n",
    "'mechanical recycling, PET sorted',\n",
    "'mechanical recycling, PP sorted',\n",
    "'mechanical recycling, PS sorted',\n",
    "'mechanical recycling, PVC sorted',\n",
    "'fossil-EG production (monomer)',\n",
    "'fossil-PTA production (monomer)',\n",
    "'fossil-ethylene production (monomer)',\n",
    "'fossil-propylene production (monomer)',\n",
    "'fossil-styrene production (monomer)',\n",
    "'fossil-vinyl chloride production (monomer)'\n",
    "]\n",
    "\n",
    "#Search for elements in the first row of the DataFrame\n",
    "negative_s_indices = [A_df_org.iloc[0,:].tolist().index(elem) for elem in search_elements_zero_or_negative]\n",
    "negative_s_indices = [i-9 for i in negative_s_indices]\n",
    "positive_s_indices = [A_df_org.iloc[0,:].tolist().index(elem) for elem in search_elements_zero_or_positive]\n",
    "positive_s_indices = [i-9 for i in positive_s_indices]\n",
    "zero_s_indices = [A_df_org.iloc[0,:].tolist().index(elem) for elem in search_elements_zero]\n",
    "zero_s_indices = [i-9 for i in zero_s_indices]\n",
    "\n",
    "\n",
    "# Define the decision variable\n",
    "model.set_s = RangeSet(len(np.transpose(A)))\n",
    "model.s = Var(model.set_s)\n",
    "#model.set_negative_scale = Set(initialize=negative_s_indices)\n",
    "model.set_positive_scale = Set(initialize=positive_s_indices)\n",
    "model.set_zero_scale = Set(initialize=zero_s_indices)\n",
    "\n",
    "\n",
    "e = 0.0000001\n",
    "#model constraint: As = f and s>=0\n",
    "model.set_balance = RangeSet(len(f))\n",
    "def balance(model, p): # As = f\n",
    "    return sum(A[p-1,i-1]*model.s[i] for i in model.set_s) == f[p-1]\n",
    "def negative_scale(model, i):\n",
    "    return (model.s[i]<=0)\n",
    "def positive_scale(model, i):\n",
    "    return (model.s[i]>=e)\n",
    "def zero_scale(model, i):\n",
    "    return (model.s[i]==e)\n",
    "\n",
    "model.balance_constraints = Constraint(model.set_balance, rule=balance)\n",
    "#model.negative_scale_constraints = Constraint(model.set_negative_scale, rule=negative_scale)\n",
    "model.positive_scale_constraints = Constraint(model.set_positive_scale, rule=positive_scale)\n",
    "model.zero_scale_constraints = Constraint(model.set_zero_scale, rule=zero_scale)\n",
    "\n",
    "\n",
    "model.obj = Objective(expr = sum(coef_GWP_wo_seq[i-1]*model.s[i] for i in model.set_s), sense=minimize)\n",
    "#Solver\n",
    "solver = SolverFactory('gurobi')\n",
    "solver.solve(model) # solves and updates instance"
   ]
  },
  {
   "cell_type": "code",
   "execution_count": 86,
   "id": "7e395bc3-8926-47af-988c-dad36fe5a791",
   "metadata": {},
   "outputs": [],
   "source": [
    "#total CO2 emission (kg CO2eq)\n",
    "GWP_best_wo_seq = value(model.obj)"
   ]
  },
  {
   "cell_type": "code",
   "execution_count": 87,
   "id": "dadc4815-3386-40ae-8c0e-702902559dae",
   "metadata": {},
   "outputs": [
    {
     "data": {
      "text/plain": [
       "45625469248.24501"
      ]
     },
     "execution_count": 87,
     "metadata": {},
     "output_type": "execute_result"
    }
   ],
   "source": [
    "GWP_best_wo_seq"
   ]
  },
  {
   "cell_type": "code",
   "execution_count": 88,
   "id": "6846ae2e-1a0a-414e-997e-0dba99df1ef0",
   "metadata": {},
   "outputs": [],
   "source": [
    "#kg CO2 eq per kg of packaging product\n",
    "GWP_best_wo_seq_per_kg = value(model.obj)/168450000000 "
   ]
  },
  {
   "cell_type": "code",
   "execution_count": 89,
   "id": "35db272d-569f-42a5-9c78-18d5e39e6a03",
   "metadata": {},
   "outputs": [
    {
     "data": {
      "text/plain": [
       "0.27085467051496"
      ]
     },
     "execution_count": 89,
     "metadata": {},
     "output_type": "execute_result"
    }
   ],
   "source": [
    "GWP_best_wo_seq_per_kg"
   ]
  },
  {
   "cell_type": "code",
   "execution_count": 90,
   "id": "81ad03de-f431-4cdc-81b7-a0aa96738076",
   "metadata": {},
   "outputs": [],
   "source": [
    "scaling_factors_wo_seq = []\n",
    "for j in model.s:\n",
    "    scaling_factors_wo_seq.append(model.s[j].value)  "
   ]
  },
  {
   "cell_type": "code",
   "execution_count": 91,
   "id": "bfaa41e4-1d79-407e-83f1-d4b992abf3a2",
   "metadata": {},
   "outputs": [
    {
     "data": {
      "text/plain": [
       "[1e-07, 13975300538.592825, 1e-07, 1e-07]"
      ]
     },
     "execution_count": 91,
     "metadata": {},
     "output_type": "execute_result"
    }
   ],
   "source": [
    "#1. monomer production\n",
    "#ethylene\n",
    "ethylene_s_indices = []\n",
    "scaling_factors_ethylene = []\n",
    "search_elements_ethylene = [\n",
    "    'bio-ethylene production (monomer)',\n",
    "    'fossil-ethylene production (monomer)',\n",
    "    'pyrolysis (monomer production), HDPE sorted',\n",
    "    'pyrolysis (monomer production), LDPE sorted'\n",
    "]\n",
    "ethylene_s_indices = [A_df_org.iloc[0,:].tolist().index(elem) for elem in search_elements_ethylene]\n",
    "ethylene_s_indices = [i-9 for i in ethylene_s_indices]\n",
    "for j in ethylene_s_indices:\n",
    "    scaling_factors_ethylene.append(model.s[j].value)\n",
    "scaling_factors_ethylene"
   ]
  },
  {
   "cell_type": "code",
   "execution_count": 92,
   "id": "4c7d7c89-5a94-47c8-9c4c-00e784bd4bec",
   "metadata": {},
   "outputs": [
    {
     "data": {
      "text/plain": [
       "[1e-07, 617816677.582713, 1e-07]"
      ]
     },
     "execution_count": 92,
     "metadata": {},
     "output_type": "execute_result"
    }
   ],
   "source": [
    "#propylene\n",
    "propylene_s_indices = []\n",
    "scaling_factors_propylene = []\n",
    "search_elements_propylene = [\n",
    "    'bio-propylene production (monomer)',\n",
    "    'fossil-propylene production (monomer)',\n",
    "    'pyrolysis (monomer production), PP sorted',\n",
    "]\n",
    "propylene_s_indices = [A_df_org.iloc[0,:].tolist().index(elem) for elem in search_elements_propylene]\n",
    "propylene_s_indices = [i-9 for i in propylene_s_indices]\n",
    "for j in propylene_s_indices:\n",
    "    scaling_factors_propylene.append(model.s[j].value)\n",
    "scaling_factors_propylene   "
   ]
  },
  {
   "cell_type": "code",
   "execution_count": 93,
   "id": "a66625f2-fc5c-4098-b103-1bc6dccc06a8",
   "metadata": {},
   "outputs": [
    {
     "data": {
      "text/plain": [
       "[1e-07, 2985904507.0878606, 1e-07, 1e-07]"
      ]
     },
     "execution_count": 93,
     "metadata": {},
     "output_type": "execute_result"
    }
   ],
   "source": [
    "#MEG\n",
    "MEG_s_indices = []\n",
    "scaling_factors_MEG = []\n",
    "search_elements_MEG = [\n",
    "    'bio-EG production (monomer)',\n",
    "    'fossil-EG production (monomer)',\n",
    "    'depolymerization, enzymatic hyrdrolysis, PET sorted',\n",
    "    'depolymerization, glycolysis, PET sorted'\n",
    "]\n",
    "MEG_s_indices = [A_df_org.iloc[0,:].tolist().index(elem) for elem in search_elements_MEG]\n",
    "MEG_s_indices = [i-9 for i in MEG_s_indices]\n",
    "for j in MEG_s_indices:\n",
    "    scaling_factors_MEG.append(model.s[j].value)\n",
    "scaling_factors_MEG   "
   ]
  },
  {
   "cell_type": "code",
   "execution_count": 94,
   "id": "29bf22f8-f06b-452a-9054-18e89e73acad",
   "metadata": {},
   "outputs": [
    {
     "data": {
      "text/plain": [
       "[1688756840.8414583, 1e-07, 1e-07]"
      ]
     },
     "execution_count": 94,
     "metadata": {},
     "output_type": "execute_result"
    }
   ],
   "source": [
    "#styrene\n",
    "styrene_s_indices = []\n",
    "scaling_factors_styrene = []\n",
    "search_elements_styrene = [\n",
    "    'bio-styrene production (monomer)',\n",
    "    'fossil-styrene production (monomer)',\n",
    "    'chemical recycling with metal oxide, PS sorted',\n",
    "]\n",
    "styrene_s_indices = [A_df_org.iloc[0,:].tolist().index(elem) for elem in search_elements_styrene]\n",
    "styrene_s_indices = [i-9 for i in styrene_s_indices]\n",
    "for j in styrene_s_indices:\n",
    "    scaling_factors_styrene.append(model.s[j].value)\n",
    "scaling_factors_styrene "
   ]
  },
  {
   "cell_type": "code",
   "execution_count": 95,
   "id": "1ecc740b-f8f6-4aed-859d-ea50da99ce7f",
   "metadata": {},
   "outputs": [
    {
     "data": {
      "text/plain": [
       "[578502596.1822492, 1e-07]"
      ]
     },
     "execution_count": 95,
     "metadata": {},
     "output_type": "execute_result"
    }
   ],
   "source": [
    "#vinyl chloride\n",
    "vinyl_chloride_s_indices = []\n",
    "scaling_factors_vinyl_chloride = []\n",
    "search_elements_vinyl_chloride = [\n",
    "    'bio-vinyl chloride production (monomer)',\n",
    "    'fossil-vinyl chloride production (monomer)',\n",
    "]\n",
    "vinyl_chloride_s_indices = [A_df_org.iloc[0,:].tolist().index(elem) for elem in search_elements_vinyl_chloride]\n",
    "vinyl_chloride_s_indices = [i-9 for i in vinyl_chloride_s_indices]\n",
    "for j in vinyl_chloride_s_indices:\n",
    "    scaling_factors_vinyl_chloride.append(model.s[j].value)\n",
    "scaling_factors_vinyl_chloride  "
   ]
  },
  {
   "cell_type": "code",
   "execution_count": 96,
   "id": "77cba1fa-7b81-4031-b1e8-ff4ec939f0e2",
   "metadata": {},
   "outputs": [
    {
     "data": {
      "text/plain": [
       "[188192339.99999902, 1e-07, 6456698222.681562, 26814375192.7485]"
      ]
     },
     "execution_count": 96,
     "metadata": {},
     "output_type": "execute_result"
    }
   ],
   "source": [
    "# 2. polymers\n",
    "#polyethylene\n",
    "scaling_factors_polyethylene = []\n",
    "polyethylene_s_indices = []\n",
    "search_elements_polyethylene = [\n",
    "    'advanced recycling, STRAP, multi-layer plastic packaging',\n",
    "    'advanced recycling, delamination, multi-layer plastic packaging',\n",
    "    'LDPE production',\n",
    "    'mechanical recycling, LDPE sorted'\n",
    "]\n",
    "polyethylene_s_indices = [A_df_org.iloc[0,:].tolist().index(elem) for elem in search_elements_polyethylene]\n",
    "polyethylene_s_indices = [i-9 for i in polyethylene_s_indices]\n",
    "for j in polyethylene_s_indices:\n",
    "    scaling_factors_polyethylene.append(model.s[j].value)\n",
    "scaling_factors_polyethylene"
   ]
  },
  {
   "cell_type": "code",
   "execution_count": 97,
   "id": "61ff08a9-9baf-4f0e-802d-b896d45763be",
   "metadata": {},
   "outputs": [
    {
     "data": {
      "text/plain": [
       "[1e-07, 1.752294545e-05, 1e-07, 1e-07]"
      ]
     },
     "execution_count": 97,
     "metadata": {},
     "output_type": "execute_result"
    }
   ],
   "source": [
    "#polyethylene\n",
    "scaling_factors_polyethylene = []\n",
    "polyethylene_s_indices = []\n",
    "search_elements_polyethylene = [\n",
    "    'advanced recycling, delamination, multi-layer plastic packaging',\n",
    "    'advanced recycling, STRAP, multi-layer plastic packaging',\n",
    "    'HDPE production',\n",
    "    'mechanical recycling, HDPE sorted'\n",
    "]\n",
    "polyethylene_s_indices = [A_df_org.iloc[0,:].tolist().index(elem) for elem in search_elements_polyethylene]\n",
    "polyethylene_s_indices = [i-3 for i in polyethylene_s_indices]\n",
    "for j in polyethylene_s_indices:\n",
    "    scaling_factors_polyethylene.append(model.s[j].value)\n",
    "scaling_factors_polyethylene"
   ]
  },
  {
   "cell_type": "code",
   "execution_count": 98,
   "id": "aac090db-4504-4cc0-9d95-af65b8e5de93",
   "metadata": {},
   "outputs": [
    {
     "data": {
      "text/plain": [
       "[1e-07, 188192339.99999902, 9983212384.287064, 38386721832.027]"
      ]
     },
     "execution_count": 98,
     "metadata": {},
     "output_type": "execute_result"
    }
   ],
   "source": [
    "#polypropylene\n",
    "scaling_factors_polypropylene = []\n",
    "polypropylene_s_indices = []\n",
    "search_elements_polypropylene = [\n",
    "    'advanced recycling, delamination, multi-layer plastic packaging',\n",
    "    'advanced recycling, STRAP, multi-layer plastic packaging',\n",
    "    'PP production',\n",
    "    'mechanical recycling, PP sorted'\n",
    "]\n",
    "polypropylene_s_indices = [A_df_org.iloc[0,:].tolist().index(elem) for elem in search_elements_polypropylene]\n",
    "polypropylene_s_indices = [i-9 for i in polypropylene_s_indices]\n",
    "for j in polypropylene_s_indices:\n",
    "    scaling_factors_polypropylene.append(model.s[j].value)\n",
    "scaling_factors_polypropylene"
   ]
  },
  {
   "cell_type": "code",
   "execution_count": 99,
   "id": "1738795f-37ed-4ab8-9752-257edfaf51ec",
   "metadata": {},
   "outputs": [
    {
     "data": {
      "text/plain": [
       "[1e-07, 188192339.99999902, 8649781306.743553, 29197631480.53097]"
      ]
     },
     "execution_count": 99,
     "metadata": {},
     "output_type": "execute_result"
    }
   ],
   "source": [
    "#polyethylene terephthalate\n",
    "scaling_factors_PET = []\n",
    "PET_s_indices = []\n",
    "search_elements_PET = [\n",
    "    'advanced recycling, delamination, multi-layer plastic packaging',\n",
    "    'advanced recycling, STRAP, multi-layer plastic packaging',\n",
    "    'PET production',\n",
    "    'mechanical recycling, PET sorted'\n",
    "]\n",
    "PET_s_indices = [A_df_org.iloc[0,:].tolist().index(elem) for elem in search_elements_PET]\n",
    "PET_s_indices = [i-9 for i in PET_s_indices]\n",
    "for j in PET_s_indices:\n",
    "    scaling_factors_PET.append(model.s[j].value)\n",
    "scaling_factors_PET"
   ]
  },
  {
   "cell_type": "code",
   "execution_count": 100,
   "id": "1518efb5-09fa-475d-8b2f-1b1b897dd9fa",
   "metadata": {},
   "outputs": [
    {
     "data": {
      "text/plain": [
       "[1e-07, 188192339.99999902, 1712735132.699248, 6585684505.610024]"
      ]
     },
     "execution_count": 100,
     "metadata": {},
     "output_type": "execute_result"
    }
   ],
   "source": [
    "#polystyrene terephthalate\n",
    "scaling_factors_PS = []\n",
    "PS_s_indices = []\n",
    "search_elements_PS = [\n",
    "    'advanced recycling, delamination, multi-layer plastic packaging',\n",
    "    'advanced recycling, STRAP, multi-layer plastic packaging',\n",
    "    'PS production',\n",
    "    'mechanical recycling, PS sorted'\n",
    "]\n",
    "PS_s_indices = [A_df_org.iloc[0,:].tolist().index(elem) for elem in search_elements_PS]\n",
    "PS_s_indices = [i-9 for i in PS_s_indices]\n",
    "for j in PS_s_indices:\n",
    "    scaling_factors_PS.append(model.s[j].value)\n",
    "scaling_factors_PS"
   ]
  },
  {
   "cell_type": "code",
   "execution_count": 101,
   "id": "903af9b5-5c17-4f2c-a0c6-8fd0c33f3ba2",
   "metadata": {},
   "outputs": [
    {
     "data": {
      "text/plain": [
       "[1e-07, 188192339.99999902, 580243326.1607316, 2509178.1319714095]"
      ]
     },
     "execution_count": 101,
     "metadata": {},
     "output_type": "execute_result"
    }
   ],
   "source": [
    "#polyvinyl chloride\n",
    "scaling_factors_PVC = []\n",
    "PVC_s_indices = []\n",
    "search_elements_PVC = [\n",
    "    'advanced recycling, delamination, multi-layer plastic packaging',\n",
    "    'advanced recycling, STRAP, multi-layer plastic packaging',\n",
    "    'PVC production',\n",
    "    'mechanical recycling, PVC sorted'\n",
    "]\n",
    "PVC_s_indices = [A_df_org.iloc[0,:].tolist().index(elem) for elem in search_elements_PVC]\n",
    "PVC_s_indices = [i-9 for i in PVC_s_indices]\n",
    "for j in PVC_s_indices:\n",
    "    scaling_factors_PVC.append(model.s[j].value)\n",
    "scaling_factors_PVC"
   ]
  },
  {
   "cell_type": "code",
   "execution_count": 102,
   "id": "6212c375-4760-4112-bec2-4ac0fa8cd17f",
   "metadata": {},
   "outputs": [
    {
     "data": {
      "text/plain": [
       "[1e-07, 1e-07, 160027500000.0, 1e-07, 1e-07]"
      ]
     },
     "execution_count": 102,
     "metadata": {},
     "output_type": "execute_result"
    }
   ],
   "source": [
    "#3. mixed plastic collected waste (sorting, energy recovery, landfill, mismanaged)\n",
    "\n",
    "scaling_factors_mixed = []\n",
    "mixed_s_indices = []\n",
    "search_elements_mixed = [\n",
    "    'incineration, electricity recovery, plastic packaging waste',\n",
    "    'landfill, plastic packaging waste',\n",
    "    'High-tech MRF',\n",
    "    'Med-tech MRF',\n",
    "    'Low-tech MRF',\n",
    "]\n",
    "mixed_s_indices = [A_df_org.iloc[0,:].tolist().index(elem) for elem in search_elements_mixed]\n",
    "mixed_s_indices = [i-9 for i in mixed_s_indices]\n",
    "for j in mixed_s_indices:\n",
    "    scaling_factors_mixed.append(model.s[j].value)\n",
    "scaling_factors_mixed"
   ]
  },
  {
   "cell_type": "code",
   "execution_count": 103,
   "id": "1b69afad-8ac2-45c5-a7c6-ed56d15515af",
   "metadata": {},
   "outputs": [
    {
     "data": {
      "text/plain": [
       "[1e-07, 1e-07, 1e-07, 1e-07, -1.8874893912999998e-07]"
      ]
     },
     "execution_count": 103,
     "metadata": {},
     "output_type": "execute_result"
    }
   ],
   "source": [
    "#4. mixed plastic waste, sorted (sorting, energy recovery, landfill, mismanaged)\n",
    "\n",
    "scaling_factors_mixed = []\n",
    "mixed_s_indices = []\n",
    "search_elements_mixed = [\n",
    "    'cement clinker, mixed plastic packaging, sorted',\n",
    "    'plastic lumber production from sorted mixed plastic waste',\n",
    "    'pyrolysis, feedstock recycling, mixed plastic waste, sorted',\n",
    "    'PET fiber production from sorted PET waste',\n",
    "    'road pavement production from sorted mixed plastic waste'\n",
    "]\n",
    "mixed_s_indices = [A_df_org.iloc[0,:].tolist().index(elem) for elem in search_elements_mixed]\n",
    "mixed_s_indices = [i-9 for i in mixed_s_indices]\n",
    "for j in mixed_s_indices:\n",
    "    scaling_factors_mixed.append(model.s[j].value)\n",
    "scaling_factors_mixed"
   ]
  },
  {
   "cell_type": "code",
   "execution_count": 104,
   "id": "2cd53750-9cc4-4b94-ad03-8fb256b80383",
   "metadata": {},
   "outputs": [
    {
     "data": {
      "text/plain": [
       "[24017538114.78965, 1e-07]"
      ]
     },
     "execution_count": 104,
     "metadata": {},
     "output_type": "execute_result"
    }
   ],
   "source": [
    "#5. Plastic residues\n",
    "scaling_factors_mixed = []\n",
    "mixed_s_indices = []\n",
    "search_elements_mixed = [\n",
    "    'landfill, plastic residues',\n",
    "    'incineration, electricity recovery, plastic residues'\n",
    "]\n",
    "mixed_s_indices = [A_df_org.iloc[0,:].tolist().index(elem) for elem in search_elements_mixed]\n",
    "mixed_s_indices = [i-9 for i in mixed_s_indices]\n",
    "for j in mixed_s_indices:\n",
    "    scaling_factors_mixed.append(model.s[j].value)\n",
    "scaling_factors_mixed"
   ]
  },
  {
   "cell_type": "code",
   "execution_count": 105,
   "id": "5315d538-c871-4058-8504-47164e7e02fe",
   "metadata": {},
   "outputs": [
    {
     "data": {
      "text/plain": [
       "[1e-07,\n",
       " 1e-07,\n",
       " 1e-07,\n",
       " 1e-07,\n",
       " 1e-07,\n",
       " 1e-07,\n",
       " 661907101356.5931,\n",
       " 1e-07,\n",
       " 1e-07,\n",
       " 1e-07]"
      ]
     },
     "execution_count": 105,
     "metadata": {},
     "output_type": "execute_result"
    }
   ],
   "source": [
    "#6. Energy Grid\n",
    "scaling_factors_mixed = []\n",
    "mixed_s_indices = []\n",
    "search_elements_mixed = [\n",
    "        'Electrcity, natural gas ',\n",
    "        'Electrcity, coal',\n",
    "        'Electrcity, oil',\n",
    "        'Electrcity, nuclear',\n",
    "        'Electrcity, wind',\n",
    "        'Electricity, solar',\n",
    "        'Electricity, hydropower',\n",
    "        'Electrcity, biopower',\n",
    "        'Electrcity, geothermal',\n",
    "        'Electrcity, ocean energy']\n",
    "mixed_s_indices = [A_df_org.iloc[0,:].tolist().index(elem) for elem in search_elements_mixed]\n",
    "mixed_s_indices = [i-9 for i in mixed_s_indices]\n",
    "for j in mixed_s_indices:\n",
    "    scaling_factors_mixed.append(model.s[j].value)\n",
    "scaling_factors_mixed"
   ]
  },
  {
   "cell_type": "markdown",
   "id": "fe7be93d-e54d-49a5-a2cd-db6bc3abb2c2",
   "metadata": {
    "jp-MarkdownHeadingCollapsed": true,
    "tags": []
   },
   "source": [
    "# Scenario 4: Electrification"
   ]
  },
  {
   "cell_type": "markdown",
   "id": "912643d0-0521-4654-98d0-37a9478ce66a",
   "metadata": {},
   "source": [
    "## b:  Electricity generation UUIDs in USLCI"
   ]
  },
  {
   "cell_type": "code",
   "execution_count": 13,
   "id": "fae268e4-c185-4aa8-94b3-5815142390ee",
   "metadata": {},
   "outputs": [],
   "source": [
    "electricity_processes = ['Electrcity, solar photovoltatic',\n",
    "                         'Electricity',\n",
    "                         'Electricity, at cogen, for natural gas turbine',\n",
    "                         'Electricity, at Grid, US, 2010',\n",
    "                         'Electricity, biomass, at power plant',\n",
    "                         'Electricity, bituminous coal, at power plant',\n",
    "                         'Electricity, concentrated solar power (CSP)',\n",
    "                         'Electricity, diesel, at power plant',\n",
    "                         'Electricity, Eastern US, 2014',\n",
    "                         'Electricity, lignite coal, at power plant',\n",
    "                         'Electricity, natural gas, at power plant',\n",
    "                         'Electricity, nuclear, at power plant',\n",
    "                         'Electricity, residual fuel oil, at power plant',\n",
    "                         'Electricity, solar'\n",
    "                            ]"
   ]
  },
  {
   "cell_type": "code",
   "execution_count": 14,
   "id": "ff193428-5861-4610-b478-d201898e15ce",
   "metadata": {},
   "outputs": [],
   "source": [
    "#finding columns in A with electricity generation\n",
    "store_index_electricity_A_col = []\n",
    "stored_index_A = 0\n",
    "for i in range(len(A_df_org.T)):\n",
    "    if str(A_df_org.iloc[0, i]) in electricity_processes:\n",
    "        stored_index_A = i\n",
    "        store_index_electricity_A_col.append(stored_index_A)"
   ]
  },
  {
   "cell_type": "code",
   "execution_count": 15,
   "id": "efe63b04-a7f4-4c06-b837-390043757337",
   "metadata": {},
   "outputs": [],
   "source": [
    "#finding rows in A with electricity generation\n",
    "store_index_electricity_A_row = []\n",
    "stored_index_A = 0\n",
    "for i in range(len(A_df_org)):\n",
    "    if str(A_df_org.iloc[i, 0]) in electricity_processes:\n",
    "        stored_index_A = i\n",
    "        store_index_electricity_A_row.append(stored_index_A)"
   ]
  },
  {
   "cell_type": "code",
   "execution_count": 16,
   "id": "f53f0d7f-51cb-4c1d-819d-3e5a5aa0075e",
   "metadata": {},
   "outputs": [],
   "source": [
    "#finding columns in B with electricity generation\n",
    "store_index_electricity_B = []\n",
    "stored_index_B = 0\n",
    "for i in range(len(B_df_org.T)):\n",
    "    if str(B_df_org.iloc[0, i]) in electricity_processes:\n",
    "        stored_index_B = i\n",
    "        store_index_electricity_B.append(stored_index_B)"
   ]
  },
  {
   "cell_type": "markdown",
   "id": "236808ed-93ee-45df-b0dd-dc320291715a",
   "metadata": {},
   "source": [
    "### Removing corresponding electricity columns from A and B"
   ]
  },
  {
   "cell_type": "code",
   "execution_count": 17,
   "id": "7fba66e4-ae53-47f6-95d1-46bb9046f16e",
   "metadata": {},
   "outputs": [],
   "source": [
    "A_df_org = A_df_org.drop(A_df_org.columns[store_index_electricity_A_col], axis=1)\n",
    "B_df_org = B_df_org.drop(B_df_org.columns[store_index_electricity_B], axis=1)"
   ]
  },
  {
   "cell_type": "markdown",
   "id": "93bdb158-1abc-4e36-8cad-b23cc616785c",
   "metadata": {},
   "source": [
    "### Aggregating all electricity flows in each process"
   ]
  },
  {
   "cell_type": "code",
   "execution_count": 18,
   "id": "508e8d33-c08b-46ab-a227-cc157b74078f",
   "metadata": {},
   "outputs": [],
   "source": [
    "electricity_sums = np.sum(np.array(A_df_org.loc[store_index_electricity_A_row].iloc[:, 10:].replace(np.nan, 0), dtype=float), axis=0)"
   ]
  },
  {
   "cell_type": "code",
   "execution_count": 19,
   "id": "f42485ef-1126-4318-9700-c2b007db3002",
   "metadata": {},
   "outputs": [],
   "source": [
    "# Reset index and drop the old index\n",
    "A_df_org_tr = A_df_org.T.reset_index(drop=True)"
   ]
  },
  {
   "cell_type": "code",
   "execution_count": 20,
   "id": "cc893a84-d90e-402a-a15a-bd8abc116178",
   "metadata": {
    "tags": []
   },
   "outputs": [],
   "source": [
    "A_df_org = A_df_org_tr.T"
   ]
  },
  {
   "cell_type": "code",
   "execution_count": 21,
   "id": "14d6180b-f477-43d2-9a1d-2ec537b8b9a4",
   "metadata": {},
   "outputs": [],
   "source": [
    "# Reset index and drop the old index\n",
    "B_df_org_tr = B_df_org.T.reset_index(drop=True)"
   ]
  },
  {
   "cell_type": "code",
   "execution_count": 22,
   "id": "55adeb46-8c0e-44b3-8724-9257404695fe",
   "metadata": {
    "tags": []
   },
   "outputs": [],
   "source": [
    "B_df_org = B_df_org_tr.T"
   ]
  },
  {
   "cell_type": "markdown",
   "id": "b292b673-a83f-40a6-a069-7994d2bb9e44",
   "metadata": {},
   "source": [
    "### Removing electricity rows from A"
   ]
  },
  {
   "cell_type": "code",
   "execution_count": 23,
   "id": "5b877f60-344e-4a7d-ab49-8b90a82bac1a",
   "metadata": {},
   "outputs": [],
   "source": [
    "A_df_org = A_df_org.drop(A_df_org.columns[store_index_electricity_A_row], axis=0)"
   ]
  },
  {
   "cell_type": "markdown",
   "id": "33b0307a-5ea1-422d-9b8b-69343daf907d",
   "metadata": {
    "tags": []
   },
   "source": [
    "### Add new electricity rows and columns"
   ]
  },
  {
   "cell_type": "code",
   "execution_count": 24,
   "id": "2c2d1b43-46d3-4a27-ba2a-039e15a6bee6",
   "metadata": {},
   "outputs": [],
   "source": [
    "new_elec = [\n",
    "        'Electrcity, natural gas ',\n",
    "        'Electrcity, coal',\n",
    "        'Electrcity, oil',\n",
    "        'Electrcity, nuclear',\n",
    "        'Electrcity, wind',\n",
    "        'Electricity, solar',\n",
    "        'Electricity, hydropower',\n",
    "        'Electrcity, biopower',\n",
    "        'Electrcity, geothermal',\n",
    "        'Electrcity, ocean energy']\n",
    "\n",
    "new_elec_row = ['Electricity']"
   ]
  },
  {
   "cell_type": "code",
   "execution_count": 25,
   "id": "ce871cde-6db5-4c7d-9077-a8709b53813d",
   "metadata": {},
   "outputs": [],
   "source": [
    "# Append new rows in A\n",
    "\n",
    "# Convert new_elec to a DataFrame\n",
    "new_elec_df = pd.DataFrame(new_elec_row) \n",
    "\n",
    "# Append new_elec to the first row\n",
    "A_df_org = pd.concat([A_df_org, new_elec_df], ignore_index=True)"
   ]
  },
  {
   "cell_type": "code",
   "execution_count": 26,
   "id": "0a902f75-cc12-4a1c-9895-10c190fccfa7",
   "metadata": {},
   "outputs": [],
   "source": [
    "# Append new columns in A\n",
    "for elec in new_elec:\n",
    "    A_df_org[elec] = None  # Create a new column with None values\n",
    "\n",
    "# Set the first row of each new column to the corresponding value\n",
    "for idx, elec in enumerate(new_elec):\n",
    "    A_df_org.at[0, elec] = elec  # Set the value in the first row"
   ]
  },
  {
   "cell_type": "code",
   "execution_count": 27,
   "id": "f16b93da-b39c-485d-82c8-1667c907c414",
   "metadata": {},
   "outputs": [],
   "source": [
    "# Append new columns in B\n",
    "for elec in new_elec:\n",
    "    B_df_org[elec] = None  # Create a new column with None values\n",
    "\n",
    "# Set the first row of each new column to the corresponding value\n",
    "for idx, elec in enumerate(new_elec):\n",
    "    B_df_org.at[0, elec] = elec  # Set the value in the first row"
   ]
  },
  {
   "cell_type": "code",
   "execution_count": 28,
   "id": "71048eb1-77ae-49be-86db-42fef9e5b259",
   "metadata": {},
   "outputs": [],
   "source": [
    "# Reset index and drop the old index\n",
    "A_df_org_tr = A_df_org.T.reset_index(drop=True)"
   ]
  },
  {
   "cell_type": "code",
   "execution_count": 29,
   "id": "68618663-bdcb-4ad7-8588-c01d22d86f2d",
   "metadata": {
    "tags": []
   },
   "outputs": [],
   "source": [
    "A_df_org = A_df_org_tr.T"
   ]
  },
  {
   "cell_type": "code",
   "execution_count": 30,
   "id": "9ab7205e-e595-4eb5-a7e6-70f4ef6d6392",
   "metadata": {},
   "outputs": [],
   "source": [
    "# Reset index and drop the old index\n",
    "B_df_org_tr = B_df_org.T.reset_index(drop=True)"
   ]
  },
  {
   "cell_type": "code",
   "execution_count": 31,
   "id": "7360552f-00b6-46d8-9da5-a88907ad1906",
   "metadata": {
    "tags": []
   },
   "outputs": [],
   "source": [
    "B_df_org = B_df_org_tr.T"
   ]
  },
  {
   "cell_type": "code",
   "execution_count": 32,
   "id": "0825773f-d4d8-4f14-b6aa-8da33013ad08",
   "metadata": {},
   "outputs": [],
   "source": [
    "A_df_org.reset_index(drop=True, inplace=True)"
   ]
  },
  {
   "cell_type": "code",
   "execution_count": 33,
   "id": "8e6117fa-cc9e-444e-8383-facbe2332728",
   "metadata": {},
   "outputs": [],
   "source": [
    "A_df_org.to_csv('A_df_org_electricity.csv', index=False)\n",
    "B_df_org.to_csv('B_df_org_electricity.csv', index=False)"
   ]
  },
  {
   "cell_type": "markdown",
   "id": "5d424dab-2342-4f35-9672-86ef2a97cf46",
   "metadata": {},
   "source": [
    "## c: Electrification (skip this for optimization w/o electrification)"
   ]
  },
  {
   "cell_type": "code",
   "execution_count": 34,
   "id": "711e013a-2eb0-4a8b-86b9-d5e551b20ff0",
   "metadata": {},
   "outputs": [],
   "source": [
    "heat_processes = [\n",
    "    'Bituminous coal, combusted in industrial boiler',\n",
    "    'Diesel, combusted in industrial boiler',\n",
    "    'Heat',\n",
    "    'Heat, onsite boiler, hardwood mill, average, SE',\n",
    "    'Heat, onsite boiler, hardwood mill, average, SE',\n",
    "    'Lignite coal, combusted in industrial boiler',\n",
    "    'Liquefied petroleum gas, combusted in industrial boiler',\n",
    "    'Residual fuel oil, combusted in industrial boiler',\n",
    "    'Wood fuel, hardwood, generated at lumber mill, combusted in industrial boiler, SE',\n",
    "    'Wood fuel, hardwood, purchased, combusted in industrial boiler, SE',\n",
    "    'Wood waste, unspecified, combusted in industrial boiler',\n",
    "    'Natural gas, combusted in industrial boiler',\n",
    "    'Natural gas, combusted in industrial boiler, at hydrocracker, for ethylene',\n",
    "    'Natural gas, combusted in industrial boiler, at hydrocracker, for pyrolysis gas',\n",
    "    'Wood fuel, unspecified'\n",
    "]"
   ]
  },
  {
   "cell_type": "code",
   "execution_count": 35,
   "id": "b4627fba-d290-45d6-915e-f85fc6aa6297",
   "metadata": {},
   "outputs": [],
   "source": [
    "Mj_per_unit = [23.9, 37.4, 1, 1, 1, 23.9, 26, 37, 16, 16, 16, 40, 40, 40, 16]"
   ]
  },
  {
   "cell_type": "code",
   "execution_count": 36,
   "id": "97d15b21-c3a9-4242-8b29-a1cab16c3fb8",
   "metadata": {},
   "outputs": [],
   "source": [
    "boiler_efficiency = [0.81, 0.83, 1, 0.7, 0.7, 0.81, 0.82, 0.83, 0.7, 0.7, 0.7, 0.75, 0.75, 0.75, 0.7]"
   ]
  },
  {
   "cell_type": "code",
   "execution_count": 37,
   "id": "d3e685f8-87ff-42d3-9da9-29df28ffabd3",
   "metadata": {},
   "outputs": [],
   "source": [
    "#step 1: identify all heat columns in A and B\n",
    "#finding columns in A with electricity generation\n",
    "store_index_heat_A_col = []\n",
    "stored_index_A = 0\n",
    "for i in range(len(A_df_org.T)):\n",
    "    if str(A_df_org.iloc[0, i]) in heat_processes:\n",
    "        stored_index_A = i\n",
    "        store_index_heat_A_col.append(stored_index_A)"
   ]
  },
  {
   "cell_type": "code",
   "execution_count": 38,
   "id": "cb89edfb-a7ec-49c2-b58c-1abca299cd99",
   "metadata": {},
   "outputs": [],
   "source": [
    "#finding rows in A with electricity generation\n",
    "store_index_heat_A_row = []\n",
    "stored_index_A = 0\n",
    "for i in range(len(A_df_org)):\n",
    "    if str(A_df_org.iloc[i, 0]) in heat_processes:\n",
    "        stored_index_A = i\n",
    "        store_index_heat_A_row.append(stored_index_A)"
   ]
  },
  {
   "cell_type": "code",
   "execution_count": 39,
   "id": "43d4bcff-e436-42a7-8653-5cd0004f5149",
   "metadata": {},
   "outputs": [],
   "source": [
    "#finding columns in B with electricity generation\n",
    "#finding columns in B with electricity generation\n",
    "store_index_heat_B = []\n",
    "stored_index_B = 0\n",
    "for i in range(len(B_df_org.T)):\n",
    "    if str(B_df_org.iloc[0, i]) in heat_processes:\n",
    "        stored_index_B = i\n",
    "        store_index_heat_B.append(stored_index_B)"
   ]
  },
  {
   "cell_type": "code",
   "execution_count": 40,
   "id": "2134696c-8a3f-49dc-ad82-05e8fc551984",
   "metadata": {},
   "outputs": [],
   "source": [
    "#Step 2: Remove heat columns from A and B\n",
    "A_df_org = A_df_org.drop(A_df_org.columns[store_index_heat_A_col], axis=1)\n",
    "B_df_org = B_df_org.drop(B_df_org.columns[store_index_heat_B], axis=1)"
   ]
  },
  {
   "cell_type": "code",
   "execution_count": 41,
   "id": "62c04ab9-d728-477d-b01f-1a63d8f54e3f",
   "metadata": {},
   "outputs": [],
   "source": [
    "X = np.array(Mj_per_unit) * np.array(boiler_efficiency)\n",
    "Y = np.array(A_df_org.loc[store_index_heat_A_row].iloc[:, 10:].replace(np.nan, 0), dtype=float)"
   ]
  },
  {
   "cell_type": "code",
   "execution_count": 42,
   "id": "0ef09a97-2c7d-486a-b7b3-337fd5c5f263",
   "metadata": {},
   "outputs": [],
   "source": [
    "#Step 3: aggregate heat rows from A and B and convert them to absolute heat needed\n",
    "heat_sums = []\n",
    "heat_sums = np.transpose(Y)@X"
   ]
  },
  {
   "cell_type": "code",
   "execution_count": 43,
   "id": "53e0328b-91f6-4472-b4e1-2350eeb759f8",
   "metadata": {},
   "outputs": [],
   "source": [
    "# Reset index and drop the old index\n",
    "A_df_org_tr = A_df_org.T.reset_index(drop=True)"
   ]
  },
  {
   "cell_type": "code",
   "execution_count": 44,
   "id": "d6b4e92d-72a0-4746-88e5-ac7486f567f3",
   "metadata": {},
   "outputs": [],
   "source": [
    "A_df_org = A_df_org_tr.T"
   ]
  },
  {
   "cell_type": "code",
   "execution_count": 45,
   "id": "0e82ee1c-712c-4f4a-9f32-c376680ddfb6",
   "metadata": {},
   "outputs": [],
   "source": [
    "# Reset index and drop the old index\n",
    "B_df_org_tr = B_df_org.T.reset_index(drop=True)"
   ]
  },
  {
   "cell_type": "code",
   "execution_count": 46,
   "id": "f640ddda-9fd3-4bb3-8f24-1e68aceefb5b",
   "metadata": {},
   "outputs": [],
   "source": [
    "B_df_org = B_df_org_tr.T"
   ]
  },
  {
   "cell_type": "code",
   "execution_count": 47,
   "id": "0214fe60-9ca8-4f3c-ba2a-7ae35f155ec9",
   "metadata": {},
   "outputs": [],
   "source": [
    "A_df_org = A_df_org.drop(A_df_org.columns[store_index_heat_A_row], axis=0)"
   ]
  },
  {
   "cell_type": "code",
   "execution_count": 48,
   "id": "7dd6a798-8fbe-4417-b4a5-1a8927393bb7",
   "metadata": {},
   "outputs": [],
   "source": [
    "# Reset index and drop the old index\n",
    "A_df_org_tr = A_df_org.T.reset_index(drop=True)"
   ]
  },
  {
   "cell_type": "code",
   "execution_count": 49,
   "id": "70de3dd5-ef0b-4c8b-9752-7d63983d976b",
   "metadata": {},
   "outputs": [],
   "source": [
    "A_df_org = A_df_org_tr.T"
   ]
  },
  {
   "cell_type": "code",
   "execution_count": 50,
   "id": "5d6b20f6-255d-44e7-9dc8-09cedcf2068d",
   "metadata": {},
   "outputs": [],
   "source": [
    "# Reset index and drop the old index\n",
    "B_df_org_tr = B_df_org.T.reset_index(drop=True)"
   ]
  },
  {
   "cell_type": "code",
   "execution_count": 51,
   "id": "a690bcfa-3f5e-4f01-9873-cb44d5d6a76c",
   "metadata": {},
   "outputs": [],
   "source": [
    "B_df_org = B_df_org_tr.T"
   ]
  },
  {
   "cell_type": "code",
   "execution_count": 52,
   "id": "bd9cd6b3-6e88-462a-bd7d-64acadf88bcb",
   "metadata": {},
   "outputs": [],
   "source": [
    "A_df_org.reset_index(drop=True, inplace=True)"
   ]
  },
  {
   "cell_type": "code",
   "execution_count": 53,
   "id": "9c8a826c-a315-43fd-bcc0-76c59b699e1f",
   "metadata": {},
   "outputs": [],
   "source": [
    "update_store_index_heat_A_row = [x-10 for x in store_index_heat_A_row]"
   ]
  },
  {
   "cell_type": "code",
   "execution_count": 54,
   "id": "34262ffe-62bb-40ed-85d9-f60d98db82db",
   "metadata": {},
   "outputs": [],
   "source": [
    "electricity_sums = np.delete(electricity_sums,update_store_index_heat_A_row)"
   ]
  },
  {
   "cell_type": "code",
   "execution_count": 55,
   "id": "7124dcc9-b954-42a1-8b0e-dc7fc2320a18",
   "metadata": {},
   "outputs": [],
   "source": [
    "for i in range(len(heat_sums)-len(electricity_sums)):\n",
    "    electricity_sums = np.append(electricity_sums, 0)"
   ]
  },
  {
   "cell_type": "code",
   "execution_count": 56,
   "id": "9fe2c7c9-f0d4-45ac-8bdc-0bafdc7e2ccc",
   "metadata": {},
   "outputs": [],
   "source": [
    "A_df_org.to_csv('A_df_org_heat.csv', index=False)\n",
    "B_df_org.to_csv('B_df_org_heat.csv', index=False)"
   ]
  },
  {
   "cell_type": "markdown",
   "id": "b57103e5-2637-4b06-990b-57ed82fe6244",
   "metadata": {},
   "source": [
    "## Generation of A, B, and C"
   ]
  },
  {
   "cell_type": "code",
   "execution_count": 57,
   "id": "abe948a0-8316-4aa8-b372-a392af727baf",
   "metadata": {},
   "outputs": [],
   "source": [
    "A_df = copy.copy(A_df_org)\n",
    "B_df = copy.copy(B_df_org)"
   ]
  },
  {
   "cell_type": "code",
   "execution_count": 58,
   "id": "75154c72-a710-4636-ba95-5e5999e6668e",
   "metadata": {},
   "outputs": [],
   "source": [
    "#Building A matrix\n",
    "# Step 1: Delete the first 10 columns\n",
    "A_df = A_df.drop(A_df.columns[:10], axis=1)\n",
    "\n",
    "# Step 2: Delete the first 10 rows (first row is heading, so put 3)\n",
    "A_df = A_df.iloc[10:]\n",
    "\n",
    "#Replacing empty values with zero and getting the final A matrix\n",
    "A=A_df\n",
    "A=A.replace(np.nan, 0)\n",
    "A=np.array(A,dtype='float64')"
   ]
  },
  {
   "cell_type": "code",
   "execution_count": 59,
   "id": "a0f15ddc-1053-411a-a578-28b4b7351d17",
   "metadata": {},
   "outputs": [
    {
     "data": {
      "text/plain": [
       "(103, 134)"
      ]
     },
     "execution_count": 59,
     "metadata": {},
     "output_type": "execute_result"
    }
   ],
   "source": [
    "A.shape"
   ]
  },
  {
   "cell_type": "code",
   "execution_count": 60,
   "id": "a1f50e2f-17ba-4711-94b7-e842df854e17",
   "metadata": {},
   "outputs": [],
   "source": [
    "# Building B matrix\n",
    "# Step 1: Delete the first 7 columns\n",
    "B_df = B_df.drop(B_df.columns[:7], axis=1)\n",
    "\n",
    "# Step 2: Delete the first 10 rows (first row is heading, so put 3)\n",
    "B_df = B_df.iloc[10:]\n",
    "\n",
    "# Replacing empty values with zero\n",
    "B_df = B_df.replace(np.nan, 0)\n",
    "\n",
    "# Converting all elements to float, handling empty strings and stripping whitespace\n",
    "def convert_to_float(x):\n",
    "    if isinstance(x, str):\n",
    "        x = x.strip()  # Remove any leading/trailing whitespace\n",
    "        if x == '':  # Handle empty strings\n",
    "            return 0.0\n",
    "        try:\n",
    "            return float(x)\n",
    "        except ValueError:\n",
    "            return 0.0  # Or raise an error if you want to catch non-numeric strings\n",
    "    return x\n",
    "\n",
    "B_df = B_df.applymap(convert_to_float)\n",
    "\n",
    "# Converting to a NumPy array\n",
    "B = np.array(B_df, dtype=float)"
   ]
  },
  {
   "cell_type": "code",
   "execution_count": 61,
   "id": "b14072e3-d172-4ca7-bf61-e4bfd61dcf1d",
   "metadata": {},
   "outputs": [
    {
     "data": {
      "text/plain": [
       "(1044, 134)"
      ]
     },
     "execution_count": 61,
     "metadata": {},
     "output_type": "execute_result"
    }
   ],
   "source": [
    "B.shape"
   ]
  },
  {
   "cell_type": "code",
   "execution_count": 62,
   "id": "baa7558e-6ed3-4860-8e60-f52a525fbb05",
   "metadata": {},
   "outputs": [],
   "source": [
    "#Building C matrix\n",
    "# Step 1: Delete the first 7 columns\n",
    "C_df = C_df.drop(C_df.columns[:7], axis=1)\n",
    "\n",
    "# Step 2: Delete the first 5 rows (first row is heading, so put 3)\n",
    "C_df = C_df.iloc[5:]\n",
    "\n",
    "#Replacing empty values with zero and getting the final B matrix\n",
    "C=C_df\n",
    "C=C.replace(np.nan, 0)\n",
    "C=np.array(C,dtype='float64')"
   ]
  },
  {
   "cell_type": "code",
   "execution_count": 63,
   "id": "5a9319fe-dfbf-418f-ab50-b3d80a88817e",
   "metadata": {},
   "outputs": [],
   "source": [
    "#Functional Unit\n",
    "# F = 168.450 million metric tons = 168,450,000 metric tons = 168,450,000,000 kg\n",
    "F=168450000000\n",
    "F=int(F)\n",
    "#defining f matrix\n",
    "f=np.zeros(len(A))\n",
    "f[0]=F"
   ]
  },
  {
   "cell_type": "markdown",
   "id": "0a24838d-48f9-42e3-9039-96ffc775b621",
   "metadata": {},
   "source": [
    "## Implementing values in A"
   ]
  },
  {
   "cell_type": "code",
   "execution_count": 64,
   "id": "a965453d-a36e-4732-a77c-dc4d82eb841c",
   "metadata": {},
   "outputs": [],
   "source": [
    "\n",
    "for i in range(len(electricity_sums)):\n",
    "    A [A_df_org.index[A_df_org.iloc[:, 0] == 'Electricity'].tolist()[0] - 10,i] = electricity_sums[i] + heat_sums [i]"
   ]
  },
  {
   "cell_type": "code",
   "execution_count": 65,
   "id": "893fccde-3e02-48a0-a518-e0829350bf7d",
   "metadata": {},
   "outputs": [],
   "source": [
    "for i in range(len(electricity_sums)):\n",
    "    A [A_df_org.index[A_df_org.iloc[:, 0] == 'Electricity'].tolist()[0] - 10,i] = electricity_sums[i] "
   ]
  },
  {
   "cell_type": "code",
   "execution_count": 66,
   "id": "503feba4-489f-46b8-9e31-25cfc972ed72",
   "metadata": {},
   "outputs": [
    {
     "data": {
      "text/plain": [
       "134"
      ]
     },
     "execution_count": 66,
     "metadata": {},
     "output_type": "execute_result"
    }
   ],
   "source": [
    "len(electricity_sums)"
   ]
  },
  {
   "cell_type": "code",
   "execution_count": 67,
   "id": "dc533648-96d8-41f9-b0e2-5db691b870ef",
   "metadata": {},
   "outputs": [
    {
     "data": {
      "text/plain": [
       "134"
      ]
     },
     "execution_count": 67,
     "metadata": {},
     "output_type": "execute_result"
    }
   ],
   "source": [
    "len(np.transpose(A))"
   ]
  },
  {
   "cell_type": "code",
   "execution_count": 68,
   "id": "ec741b12-e927-4ce5-be9d-845de9ac748d",
   "metadata": {},
   "outputs": [],
   "source": [
    "A [A_df_org.index[A_df_org.iloc[:, 0] == 'Electricity'].tolist()[0] - 10,\n",
    "           A_df_org.T.index[A_df_org.T.iloc[:, 0] == 'Electrcity, natural gas '].tolist()[0] - 10] = 1"
   ]
  },
  {
   "cell_type": "code",
   "execution_count": 69,
   "id": "d08cf9b9-b919-42ef-ab59-72944597645b",
   "metadata": {},
   "outputs": [],
   "source": [
    "A [A_df_org.index[A_df_org.iloc[:, 0] == 'Electricity'].tolist()[0] - 10,\n",
    "           A_df_org.T.index[A_df_org.T.iloc[:, 0] == 'Electrcity, coal'].tolist()[0] - 10] = 1"
   ]
  },
  {
   "cell_type": "code",
   "execution_count": 70,
   "id": "86174324-9172-4bc9-b96f-f474a22831dc",
   "metadata": {},
   "outputs": [],
   "source": [
    "A [A_df_org.index[A_df_org.iloc[:, 0] == 'Electricity'].tolist()[0] - 10,\n",
    "           A_df_org.T.index[A_df_org.T.iloc[:, 0] == 'Electrcity, oil'].tolist()[0] - 10] = 1"
   ]
  },
  {
   "cell_type": "code",
   "execution_count": 71,
   "id": "72bc1fab-af5e-42bb-88c1-739f1c42006e",
   "metadata": {},
   "outputs": [],
   "source": [
    "A [A_df_org.index[A_df_org.iloc[:, 0] == 'Electricity'].tolist()[0] - 10,\n",
    "           A_df_org.T.index[A_df_org.T.iloc[:, 0] == 'Electrcity, nuclear'].tolist()[0] - 10] = 1"
   ]
  },
  {
   "cell_type": "code",
   "execution_count": 72,
   "id": "85aa898d-e7d8-4242-8944-2c01a3abb4b5",
   "metadata": {},
   "outputs": [],
   "source": [
    "A [A_df_org.index[A_df_org.iloc[:, 0] == 'Electricity'].tolist()[0] - 10,\n",
    "           A_df_org.T.index[A_df_org.T.iloc[:, 0] == 'Electrcity, wind'].tolist()[0] - 10] = 1"
   ]
  },
  {
   "cell_type": "code",
   "execution_count": 73,
   "id": "5266b841-9d02-401b-a892-6394fee9ec75",
   "metadata": {},
   "outputs": [],
   "source": [
    "A [A_df_org.index[A_df_org.iloc[:, 0] == 'Electricity'].tolist()[0] - 10,\n",
    "           A_df_org.T.index[A_df_org.T.iloc[:, 0] == 'Electricity, solar'].tolist()[0] - 10] = 1"
   ]
  },
  {
   "cell_type": "code",
   "execution_count": 74,
   "id": "191553e6-9d30-4319-9a85-7c05fb0f9816",
   "metadata": {},
   "outputs": [],
   "source": [
    "A [A_df_org.index[A_df_org.iloc[:, 0] == 'Electricity'].tolist()[0] - 10,\n",
    "           A_df_org.T.index[A_df_org.T.iloc[:, 0] == 'Electricity, hydropower'].tolist()[0] - 10] = 1"
   ]
  },
  {
   "cell_type": "code",
   "execution_count": 75,
   "id": "67cc9149-11b1-4102-bd73-f758b1f51caa",
   "metadata": {},
   "outputs": [],
   "source": [
    "A [A_df_org.index[A_df_org.iloc[:, 0] == 'Electricity'].tolist()[0] - 10,\n",
    "           A_df_org.T.index[A_df_org.T.iloc[:, 0] == 'Electrcity, biopower'].tolist()[0] - 10] = 1"
   ]
  },
  {
   "cell_type": "code",
   "execution_count": 76,
   "id": "fed3be9a-5ebb-49ec-bfac-4b1b8772471e",
   "metadata": {},
   "outputs": [],
   "source": [
    "A [A_df_org.index[A_df_org.iloc[:, 0] == 'Electricity'].tolist()[0] - 10,\n",
    "           A_df_org.T.index[A_df_org.T.iloc[:, 0] == 'Electrcity, geothermal'].tolist()[0] - 10] = 1"
   ]
  },
  {
   "cell_type": "code",
   "execution_count": 77,
   "id": "42348e1b-68ab-486c-8459-3cd61b3df30c",
   "metadata": {},
   "outputs": [],
   "source": [
    "A [A_df_org.index[A_df_org.iloc[:, 0] == 'Electricity'].tolist()[0] - 10,\n",
    "           A_df_org.T.index[A_df_org.T.iloc[:, 0] == 'Electrcity, ocean energy'].tolist()[0] - 10] = 1"
   ]
  },
  {
   "cell_type": "code",
   "execution_count": 78,
   "id": "69f8df51-4855-4ec7-bd9f-dbc3506f1fe4",
   "metadata": {},
   "outputs": [],
   "source": [
    "B [B_df_org.index[B_df_org.iloc[:, 0] == 'b6f010fb-a764-3063-af2d-bcb8309a97b7'].tolist()[0] - 10,\n",
    "  B_df_org.T.index[B_df_org.iloc[0, :] == 'Electrcity, natural gas '].tolist()[0] - 7] = 0.460/3.6\n",
    "\n",
    "B [B_df_org.index[B_df_org.iloc[:, 0] == 'b6f010fb-a764-3063-af2d-bcb8309a97b7'].tolist()[0] - 10,\n",
    "  B_df_org.T.index[B_df_org.iloc[0, :] == 'Electrcity, coal'].tolist()[0] - 7] = 1/3.6\n",
    "\n",
    "B [B_df_org.index[B_df_org.iloc[:, 0] == 'b6f010fb-a764-3063-af2d-bcb8309a97b7'].tolist()[0] - 10,\n",
    "  B_df_org.T.index[B_df_org.iloc[0, :] == 'Electrcity, oil'].tolist()[0] - 7] = 0.841/3.6\n",
    "\n",
    "B [B_df_org.index[B_df_org.iloc[:, 0] == 'b6f010fb-a764-3063-af2d-bcb8309a97b7'].tolist()[0] - 10,\n",
    "  B_df_org.T.index[B_df_org.iloc[0, :] == 'Electrcity, nuclear'].tolist()[0] - 7] = 0.016/3.6\n",
    "\n",
    "B [B_df_org.index[B_df_org.iloc[:, 0] == 'b6f010fb-a764-3063-af2d-bcb8309a97b7'].tolist()[0] - 10,\n",
    "  B_df_org.T.index[B_df_org.iloc[0, :] == 'Electrcity, wind'].tolist()[0] - 7] = 0.011/3.6\n",
    "\n",
    "B [B_df_org.index[B_df_org.iloc[:, 0] == 'b6f010fb-a764-3063-af2d-bcb8309a97b7'].tolist()[0] - 10,\n",
    "  B_df_org.T.index[B_df_org.iloc[0, :] == 'Electricity, solar'].tolist()[0] - 7] = 0.045/3.6\n",
    "\n",
    "B [B_df_org.index[B_df_org.iloc[:, 0] == 'b6f010fb-a764-3063-af2d-bcb8309a97b7'].tolist()[0] - 10,\n",
    "  B_df_org.T.index[B_df_org.iloc[0, :] == 'Electricity, hydropower'].tolist()[0] - 7] = 0.0065/3.6\n",
    "\n",
    "B [B_df_org.index[B_df_org.iloc[:, 0] == 'b6f010fb-a764-3063-af2d-bcb8309a97b7'].tolist()[0] - 10,\n",
    "  B_df_org.T.index[B_df_org.iloc[0, :] == 'Electrcity, biopower'].tolist()[0] - 7] = 0.039/3.6\n",
    "\n",
    "B [B_df_org.index[B_df_org.iloc[:, 0] == 'b6f010fb-a764-3063-af2d-bcb8309a97b7'].tolist()[0] - 10,\n",
    "  B_df_org.T.index[B_df_org.iloc[0, :] == 'Electrcity, geothermal'].tolist()[0] - 7] = 0.045/3.6\n",
    "\n",
    "B [B_df_org.index[B_df_org.iloc[:, 0] == 'b6f010fb-a764-3063-af2d-bcb8309a97b7'].tolist()[0] - 10,\n",
    "  B_df_org.T.index[B_df_org.iloc[0, :] == 'Electrcity, ocean energy'].tolist()[0] - 7] = 0.008/3.6"
   ]
  },
  {
   "cell_type": "code",
   "execution_count": 79,
   "id": "eed86412-a2e4-4666-8597-0b3607af9c24",
   "metadata": {},
   "outputs": [
    {
     "data": {
      "text/plain": [
       "0.12777777777777777"
      ]
     },
     "execution_count": 79,
     "metadata": {},
     "output_type": "execute_result"
    }
   ],
   "source": [
    "B [B_df_org.index[B_df_org.iloc[:, 0] == 'b6f010fb-a764-3063-af2d-bcb8309a97b7'].tolist()[0] - 10,\n",
    "  B_df_org.T.index[B_df_org.iloc[0, :] == 'Electrcity, natural gas '].tolist()[0] - 7]"
   ]
  },
  {
   "cell_type": "code",
   "execution_count": 80,
   "id": "474c6fbb-42ab-4919-be68-6d4d527a22c4",
   "metadata": {},
   "outputs": [
    {
     "data": {
      "text/plain": [
       "1.0"
      ]
     },
     "execution_count": 80,
     "metadata": {},
     "output_type": "execute_result"
    }
   ],
   "source": [
    "C [C_df_org.index[C_df_org.iloc[:, 0] == 'b6f010fb-a764-3063-af2d-bcb8309a97b7'].tolist()[0] - 5,\n",
    "  C_df_org.T.index[C_df_org.iloc[0, :] == '0cbbf9b1-046d-4ee3-9f3c-5e36d1106ea0'].tolist()[0] - 7]"
   ]
  },
  {
   "cell_type": "code",
   "execution_count": 81,
   "id": "26bff0f8-a1b8-43ec-9626-f40759e87aef",
   "metadata": {},
   "outputs": [],
   "source": [
    "C_gwp_wo_seq= np.transpose(C)[[0]]\n",
    "coef_GWP_wo_seq=C_gwp_wo_seq@B\n",
    "coef_GWP_wo_seq=np.array(coef_GWP_wo_seq)\n",
    "coef_GWP_wo_seq = coef_GWP_wo_seq.reshape(-1)"
   ]
  },
  {
   "cell_type": "markdown",
   "id": "26df8bae-11fb-4a06-adc7-11997a0f7ee7",
   "metadata": {},
   "source": [
    "### All decision variables"
   ]
  },
  {
   "cell_type": "code",
   "execution_count": 85,
   "id": "b3b71292-949a-483e-a500-d84247b0f785",
   "metadata": {},
   "outputs": [
    {
     "data": {
      "text/plain": [
       "{'Problem': [{'Name': 'x135', 'Lower bound': 45625469248.24501, 'Upper bound': 45625469248.24501, 'Number of objectives': 1, 'Number of constraints': 171, 'Number of variables': 135, 'Number of binary variables': 0, 'Number of integer variables': 0, 'Number of continuous variables': 135, 'Number of nonzeros': 568, 'Sense': 'minimize'}], 'Solver': [{'Status': 'ok', 'Return code': '0', 'Message': 'Model was solved to optimality (subject to tolerances), and an optimal solution is available.', 'Termination condition': 'optimal', 'Termination message': 'Model was solved to optimality (subject to tolerances), and an optimal solution is available.', 'Wall time': '0.01651310920715332', 'Error rc': 0, 'Time': 0.13471198081970215}], 'Solution': [OrderedDict([('number of solutions', 0), ('number of solutions displayed', 0)])]}"
      ]
     },
     "execution_count": 85,
     "metadata": {},
     "output_type": "execute_result"
    }
   ],
   "source": [
    "#Model Formulation\n",
    "# Create the model\n",
    "model = ConcreteModel()\n",
    "# List of processes with negative scaling factor due to open loop recovery and substitution approach\n",
    "negative_s_indices = []\n",
    "positive_s_indices = []\n",
    "all_s_indices = []\n",
    "\n",
    "search_elements_zero = [\n",
    "'PET fiber production from sorted PET waste']\n",
    "\n",
    "\n",
    "search_elements_zero_or_negative = [\n",
    "'PET fiber production from sorted PET waste',\n",
    "'Sawn lumber, hardwood, planed, kiln dried, at planer mill, SE',\n",
    "'Asphalt binder, 3.5% styrene-butadiene-styrene (SBS), consumption mix, at terminal, from crude oil, 3.5% styrene-butadiene-styrene',\n",
    "'sodium sulfate (carbon footprint process)',\n",
    "'Bark, hardwood, average, at forest road, NE-NC',\n",
    "'Lignite coal, at surface mine']\n",
    "\n",
    "search_elements_zero_or_positive = [\n",
    "'use & collection',\n",
    "'large, flexible, mono-layer plastic packaging production',\n",
    "'large, flexible, multi-layer plastic packaging production',\n",
    "'large, rigid, mono-layer plastic packaging production',\n",
    "'large, rigid, multi-layer plastic packaging production',\n",
    "'small format plastic packaging production',\n",
    "'HDPE production',\n",
    "'LDPE production',\n",
    "'PP production',\n",
    "'PET production',\n",
    "'PS production',\n",
    "'PVC production',\n",
    "'Electrcity, natural gas ',\n",
    "'Electrcity, coal',\n",
    "'Electrcity, oil',\n",
    "'Electrcity, nuclear',\n",
    "'Electrcity, wind',\n",
    "'Electricity, solar',\n",
    "'Electricity, hydropower',\n",
    "'Electrcity, biopower',\n",
    "'Electrcity, geothermal',\n",
    "'Electrcity, ocean energy',\n",
    "'bio-cyclohexa-2,5-diene-1,4-dicarboxylate production',\n",
    "'advanced recycling, delamination, multi-layer plastic packaging',\n",
    "'advanced recycling, STRAP, multi-layer plastic packaging',\n",
    "'bio-EG production (monomer)',\n",
    "'bio-ethanol production from corn',\n",
    "'bio-ethylene oxide production',\n",
    "'bio-ethylene production (monomer)',\n",
    "'bio-muconic acid production',\n",
    "'bio-propylene production (monomer)',\n",
    "'bio-PTA production (monomer)',\n",
    "'bio-styrene production (monomer)',\n",
    "'bio-vinyl chloride production (monomer)',\n",
    "'Bituminous coal, at mine',\n",
    "'Carbon monoxide, at plant',\n",
    "'High-tech MRF',\n",
    "'Low-tech MRF',\n",
    "'Med-tech MRF',\n",
    "'chemical recycling with metal oxide, PS sorted',\n",
    "'depolymerization, enzymatic hyrdrolysis, PET sorted',\n",
    "'depolymerization, glycolysis, PET sorted',\n",
    "'pyrolysis (monomer production), HDPE sorted',\n",
    "'pyrolysis (monomer production), LDPE sorted',\n",
    "'pyrolysis (monomer production), PP sorted',\n",
    "'pyrolysis, feedstock recycling, mixed plastic waste, sorted',\n",
    "'PET fiber production from sorted PET waste',\n",
    "'plastic lumber production from sorted mixed plastic waste',\n",
    "'road pavement production from sorted mixed plastic waste',\n",
    "'cement clinker, mixed plastic packaging, sorted',\n",
    "'incineration, electricity recovery, plastic packaging waste',\n",
    "'incineration, electricity recovery, plastic residues',\n",
    "'landfill, plastic packaging waste',\n",
    "'landfill, plastic residues',\n",
    "'mechanical recycling, HDPE sorted',\n",
    "'mechanical recycling, LDPE sorted',\n",
    "'mechanical recycling, PET sorted',\n",
    "'mechanical recycling, PP sorted',\n",
    "'mechanical recycling, PS sorted',\n",
    "'mechanical recycling, PVC sorted',\n",
    "'fossil-EG production (monomer)',\n",
    "'fossil-PTA production (monomer)',\n",
    "'fossil-ethylene production (monomer)',\n",
    "'fossil-propylene production (monomer)',\n",
    "'fossil-styrene production (monomer)',\n",
    "'fossil-vinyl chloride production (monomer)'\n",
    "]\n",
    "\n",
    "#Search for elements in the first row of the DataFrame\n",
    "negative_s_indices = [A_df_org.iloc[0,:].tolist().index(elem) for elem in search_elements_zero_or_negative]\n",
    "negative_s_indices = [i-9 for i in negative_s_indices]\n",
    "positive_s_indices = [A_df_org.iloc[0,:].tolist().index(elem) for elem in search_elements_zero_or_positive]\n",
    "positive_s_indices = [i-9 for i in positive_s_indices]\n",
    "zero_s_indices = [A_df_org.iloc[0,:].tolist().index(elem) for elem in search_elements_zero]\n",
    "zero_s_indices = [i-9 for i in zero_s_indices]\n",
    "\n",
    "\n",
    "# Define the decision variable\n",
    "model.set_s = RangeSet(len(np.transpose(A)))\n",
    "model.s = Var(model.set_s)\n",
    "#model.set_negative_scale = Set(initialize=negative_s_indices)\n",
    "model.set_positive_scale = Set(initialize=positive_s_indices)\n",
    "model.set_zero_scale = Set(initialize=zero_s_indices)\n",
    "\n",
    "\n",
    "e = 0.0000001\n",
    "#model constraint: As = f and s>=0\n",
    "model.set_balance = RangeSet(len(f))\n",
    "def balance(model, p): # As = f\n",
    "    return sum(A[p-1,i-1]*model.s[i] for i in model.set_s) == f[p-1]\n",
    "def negative_scale(model, i):\n",
    "    return (model.s[i]<=0)\n",
    "def positive_scale(model, i):\n",
    "    return (model.s[i]>=e)\n",
    "def zero_scale(model, i):\n",
    "    return (model.s[i]==e)\n",
    "\n",
    "model.balance_constraints = Constraint(model.set_balance, rule=balance)\n",
    "#model.negative_scale_constraints = Constraint(model.set_negative_scale, rule=negative_scale)\n",
    "model.positive_scale_constraints = Constraint(model.set_positive_scale, rule=positive_scale)\n",
    "model.zero_scale_constraints = Constraint(model.set_zero_scale, rule=zero_scale)\n",
    "\n",
    "\n",
    "model.obj = Objective(expr = sum(coef_GWP_wo_seq[i-1]*model.s[i] for i in model.set_s), sense=minimize)\n",
    "#Solver\n",
    "solver = SolverFactory('gurobi')\n",
    "solver.solve(model) # solves and updates instance"
   ]
  },
  {
   "cell_type": "code",
   "execution_count": 86,
   "id": "d8839396-843b-4bdd-9da0-8aa018728dd4",
   "metadata": {},
   "outputs": [],
   "source": [
    "#total CO2 emission (kg CO2eq)\n",
    "GWP_best_wo_seq = value(model.obj)"
   ]
  },
  {
   "cell_type": "code",
   "execution_count": 87,
   "id": "faf83e86-bd52-422a-ac7d-2a9bb10955e4",
   "metadata": {},
   "outputs": [
    {
     "data": {
      "text/plain": [
       "45625469248.24501"
      ]
     },
     "execution_count": 87,
     "metadata": {},
     "output_type": "execute_result"
    }
   ],
   "source": [
    "GWP_best_wo_seq"
   ]
  },
  {
   "cell_type": "code",
   "execution_count": 88,
   "id": "aae113dd-a604-448c-92f1-0fb7bea8997b",
   "metadata": {},
   "outputs": [],
   "source": [
    "#kg CO2 eq per kg of packaging product\n",
    "GWP_best_wo_seq_per_kg = value(model.obj)/168450000000 "
   ]
  },
  {
   "cell_type": "code",
   "execution_count": 89,
   "id": "ffe9e941-81e8-400a-934e-ebffb7e19a7e",
   "metadata": {},
   "outputs": [
    {
     "data": {
      "text/plain": [
       "0.27085467051496"
      ]
     },
     "execution_count": 89,
     "metadata": {},
     "output_type": "execute_result"
    }
   ],
   "source": [
    "GWP_best_wo_seq_per_kg"
   ]
  },
  {
   "cell_type": "code",
   "execution_count": 90,
   "id": "78dd3bff-24fe-491b-9022-c0130902201a",
   "metadata": {},
   "outputs": [],
   "source": [
    "scaling_factors_wo_seq = []\n",
    "for j in model.s:\n",
    "    scaling_factors_wo_seq.append(model.s[j].value)  "
   ]
  },
  {
   "cell_type": "code",
   "execution_count": 91,
   "id": "a2f12f23-5faa-4b78-ba40-d97f2d2f4a6c",
   "metadata": {},
   "outputs": [
    {
     "data": {
      "text/plain": [
       "[1e-07, 13975300538.592825, 1e-07, 1e-07]"
      ]
     },
     "execution_count": 91,
     "metadata": {},
     "output_type": "execute_result"
    }
   ],
   "source": [
    "#1. monomer production\n",
    "#ethylene\n",
    "ethylene_s_indices = []\n",
    "scaling_factors_ethylene = []\n",
    "search_elements_ethylene = [\n",
    "    'bio-ethylene production (monomer)',\n",
    "    'fossil-ethylene production (monomer)',\n",
    "    'pyrolysis (monomer production), HDPE sorted',\n",
    "    'pyrolysis (monomer production), LDPE sorted'\n",
    "]\n",
    "ethylene_s_indices = [A_df_org.iloc[0,:].tolist().index(elem) for elem in search_elements_ethylene]\n",
    "ethylene_s_indices = [i-9 for i in ethylene_s_indices]\n",
    "for j in ethylene_s_indices:\n",
    "    scaling_factors_ethylene.append(model.s[j].value)\n",
    "scaling_factors_ethylene"
   ]
  },
  {
   "cell_type": "code",
   "execution_count": 92,
   "id": "8c326ed7-82b1-4748-9bdc-b7a32281a8a8",
   "metadata": {},
   "outputs": [
    {
     "data": {
      "text/plain": [
       "[1e-07, 617816677.582713, 1e-07]"
      ]
     },
     "execution_count": 92,
     "metadata": {},
     "output_type": "execute_result"
    }
   ],
   "source": [
    "#propylene\n",
    "propylene_s_indices = []\n",
    "scaling_factors_propylene = []\n",
    "search_elements_propylene = [\n",
    "    'bio-propylene production (monomer)',\n",
    "    'fossil-propylene production (monomer)',\n",
    "    'pyrolysis (monomer production), PP sorted',\n",
    "]\n",
    "propylene_s_indices = [A_df_org.iloc[0,:].tolist().index(elem) for elem in search_elements_propylene]\n",
    "propylene_s_indices = [i-9 for i in propylene_s_indices]\n",
    "for j in propylene_s_indices:\n",
    "    scaling_factors_propylene.append(model.s[j].value)\n",
    "scaling_factors_propylene   "
   ]
  },
  {
   "cell_type": "code",
   "execution_count": 93,
   "id": "56c5bc6f-c5f0-4557-b9e9-a25ff6de22f7",
   "metadata": {},
   "outputs": [
    {
     "data": {
      "text/plain": [
       "[1e-07, 2985904507.0878606, 1e-07, 1e-07]"
      ]
     },
     "execution_count": 93,
     "metadata": {},
     "output_type": "execute_result"
    }
   ],
   "source": [
    "#MEG\n",
    "MEG_s_indices = []\n",
    "scaling_factors_MEG = []\n",
    "search_elements_MEG = [\n",
    "    'bio-EG production (monomer)',\n",
    "    'fossil-EG production (monomer)',\n",
    "    'depolymerization, enzymatic hyrdrolysis, PET sorted',\n",
    "    'depolymerization, glycolysis, PET sorted'\n",
    "]\n",
    "MEG_s_indices = [A_df_org.iloc[0,:].tolist().index(elem) for elem in search_elements_MEG]\n",
    "MEG_s_indices = [i-9 for i in MEG_s_indices]\n",
    "for j in MEG_s_indices:\n",
    "    scaling_factors_MEG.append(model.s[j].value)\n",
    "scaling_factors_MEG   "
   ]
  },
  {
   "cell_type": "code",
   "execution_count": 94,
   "id": "19678831-63dc-4755-ad71-aaea37c1180a",
   "metadata": {},
   "outputs": [
    {
     "data": {
      "text/plain": [
       "[1688756840.8414583, 1e-07, 1e-07]"
      ]
     },
     "execution_count": 94,
     "metadata": {},
     "output_type": "execute_result"
    }
   ],
   "source": [
    "#styrene\n",
    "styrene_s_indices = []\n",
    "scaling_factors_styrene = []\n",
    "search_elements_styrene = [\n",
    "    'bio-styrene production (monomer)',\n",
    "    'fossil-styrene production (monomer)',\n",
    "    'chemical recycling with metal oxide, PS sorted',\n",
    "]\n",
    "styrene_s_indices = [A_df_org.iloc[0,:].tolist().index(elem) for elem in search_elements_styrene]\n",
    "styrene_s_indices = [i-9 for i in styrene_s_indices]\n",
    "for j in styrene_s_indices:\n",
    "    scaling_factors_styrene.append(model.s[j].value)\n",
    "scaling_factors_styrene "
   ]
  },
  {
   "cell_type": "code",
   "execution_count": 95,
   "id": "43c413c5-147f-43cd-bb26-7b9ee449a9e4",
   "metadata": {},
   "outputs": [
    {
     "data": {
      "text/plain": [
       "[578502596.1822492, 1e-07]"
      ]
     },
     "execution_count": 95,
     "metadata": {},
     "output_type": "execute_result"
    }
   ],
   "source": [
    "#vinyl chloride\n",
    "vinyl_chloride_s_indices = []\n",
    "scaling_factors_vinyl_chloride = []\n",
    "search_elements_vinyl_chloride = [\n",
    "    'bio-vinyl chloride production (monomer)',\n",
    "    'fossil-vinyl chloride production (monomer)',\n",
    "]\n",
    "vinyl_chloride_s_indices = [A_df_org.iloc[0,:].tolist().index(elem) for elem in search_elements_vinyl_chloride]\n",
    "vinyl_chloride_s_indices = [i-9 for i in vinyl_chloride_s_indices]\n",
    "for j in vinyl_chloride_s_indices:\n",
    "    scaling_factors_vinyl_chloride.append(model.s[j].value)\n",
    "scaling_factors_vinyl_chloride  "
   ]
  },
  {
   "cell_type": "code",
   "execution_count": 96,
   "id": "aff931fa-4b97-4199-a14b-65e48d66d987",
   "metadata": {},
   "outputs": [
    {
     "data": {
      "text/plain": [
       "[188192339.99999902, 1e-07, 6456698222.681562, 26814375192.7485]"
      ]
     },
     "execution_count": 96,
     "metadata": {},
     "output_type": "execute_result"
    }
   ],
   "source": [
    "# 2. polymers\n",
    "#polyethylene\n",
    "scaling_factors_polyethylene = []\n",
    "polyethylene_s_indices = []\n",
    "search_elements_polyethylene = [\n",
    "    'advanced recycling, STRAP, multi-layer plastic packaging',\n",
    "    'advanced recycling, delamination, multi-layer plastic packaging',\n",
    "    'LDPE production',\n",
    "    'mechanical recycling, LDPE sorted'\n",
    "]\n",
    "polyethylene_s_indices = [A_df_org.iloc[0,:].tolist().index(elem) for elem in search_elements_polyethylene]\n",
    "polyethylene_s_indices = [i-9 for i in polyethylene_s_indices]\n",
    "for j in polyethylene_s_indices:\n",
    "    scaling_factors_polyethylene.append(model.s[j].value)\n",
    "scaling_factors_polyethylene"
   ]
  },
  {
   "cell_type": "code",
   "execution_count": 97,
   "id": "d7a30302-4e7a-431b-828f-15c6dd256b8b",
   "metadata": {},
   "outputs": [
    {
     "data": {
      "text/plain": [
       "[1e-07, 1.752294545e-05, 1e-07, 1e-07]"
      ]
     },
     "execution_count": 97,
     "metadata": {},
     "output_type": "execute_result"
    }
   ],
   "source": [
    "#polyethylene\n",
    "scaling_factors_polyethylene = []\n",
    "polyethylene_s_indices = []\n",
    "search_elements_polyethylene = [\n",
    "    'advanced recycling, delamination, multi-layer plastic packaging',\n",
    "    'advanced recycling, STRAP, multi-layer plastic packaging',\n",
    "    'HDPE production',\n",
    "    'mechanical recycling, HDPE sorted'\n",
    "]\n",
    "polyethylene_s_indices = [A_df_org.iloc[0,:].tolist().index(elem) for elem in search_elements_polyethylene]\n",
    "polyethylene_s_indices = [i-3 for i in polyethylene_s_indices]\n",
    "for j in polyethylene_s_indices:\n",
    "    scaling_factors_polyethylene.append(model.s[j].value)\n",
    "scaling_factors_polyethylene"
   ]
  },
  {
   "cell_type": "code",
   "execution_count": 98,
   "id": "094e014d-41e5-4a04-8de5-388707d20a26",
   "metadata": {},
   "outputs": [
    {
     "data": {
      "text/plain": [
       "[1e-07, 188192339.99999902, 9983212384.287064, 38386721832.027]"
      ]
     },
     "execution_count": 98,
     "metadata": {},
     "output_type": "execute_result"
    }
   ],
   "source": [
    "#polypropylene\n",
    "scaling_factors_polypropylene = []\n",
    "polypropylene_s_indices = []\n",
    "search_elements_polypropylene = [\n",
    "    'advanced recycling, delamination, multi-layer plastic packaging',\n",
    "    'advanced recycling, STRAP, multi-layer plastic packaging',\n",
    "    'PP production',\n",
    "    'mechanical recycling, PP sorted'\n",
    "]\n",
    "polypropylene_s_indices = [A_df_org.iloc[0,:].tolist().index(elem) for elem in search_elements_polypropylene]\n",
    "polypropylene_s_indices = [i-9 for i in polypropylene_s_indices]\n",
    "for j in polypropylene_s_indices:\n",
    "    scaling_factors_polypropylene.append(model.s[j].value)\n",
    "scaling_factors_polypropylene"
   ]
  },
  {
   "cell_type": "code",
   "execution_count": 99,
   "id": "914b0583-d33d-428d-bc9e-4d69beb795fb",
   "metadata": {},
   "outputs": [
    {
     "data": {
      "text/plain": [
       "[1e-07, 188192339.99999902, 8649781306.743553, 29197631480.53097]"
      ]
     },
     "execution_count": 99,
     "metadata": {},
     "output_type": "execute_result"
    }
   ],
   "source": [
    "#polyethylene terephthalate\n",
    "scaling_factors_PET = []\n",
    "PET_s_indices = []\n",
    "search_elements_PET = [\n",
    "    'advanced recycling, delamination, multi-layer plastic packaging',\n",
    "    'advanced recycling, STRAP, multi-layer plastic packaging',\n",
    "    'PET production',\n",
    "    'mechanical recycling, PET sorted'\n",
    "]\n",
    "PET_s_indices = [A_df_org.iloc[0,:].tolist().index(elem) for elem in search_elements_PET]\n",
    "PET_s_indices = [i-9 for i in PET_s_indices]\n",
    "for j in PET_s_indices:\n",
    "    scaling_factors_PET.append(model.s[j].value)\n",
    "scaling_factors_PET"
   ]
  },
  {
   "cell_type": "code",
   "execution_count": 100,
   "id": "1526ad78-2282-4154-bf4c-3e3aa1b29f46",
   "metadata": {},
   "outputs": [
    {
     "data": {
      "text/plain": [
       "[1e-07, 188192339.99999902, 1712735132.699248, 6585684505.610024]"
      ]
     },
     "execution_count": 100,
     "metadata": {},
     "output_type": "execute_result"
    }
   ],
   "source": [
    "#polystyrene terephthalate\n",
    "scaling_factors_PS = []\n",
    "PS_s_indices = []\n",
    "search_elements_PS = [\n",
    "    'advanced recycling, delamination, multi-layer plastic packaging',\n",
    "    'advanced recycling, STRAP, multi-layer plastic packaging',\n",
    "    'PS production',\n",
    "    'mechanical recycling, PS sorted'\n",
    "]\n",
    "PS_s_indices = [A_df_org.iloc[0,:].tolist().index(elem) for elem in search_elements_PS]\n",
    "PS_s_indices = [i-9 for i in PS_s_indices]\n",
    "for j in PS_s_indices:\n",
    "    scaling_factors_PS.append(model.s[j].value)\n",
    "scaling_factors_PS"
   ]
  },
  {
   "cell_type": "code",
   "execution_count": 101,
   "id": "f3fca52d-ba43-441d-9d3e-807ef5924659",
   "metadata": {},
   "outputs": [
    {
     "data": {
      "text/plain": [
       "[1e-07, 188192339.99999902, 580243326.1607316, 2509178.1319714095]"
      ]
     },
     "execution_count": 101,
     "metadata": {},
     "output_type": "execute_result"
    }
   ],
   "source": [
    "#polyvinyl chloride\n",
    "scaling_factors_PVC = []\n",
    "PVC_s_indices = []\n",
    "search_elements_PVC = [\n",
    "    'advanced recycling, delamination, multi-layer plastic packaging',\n",
    "    'advanced recycling, STRAP, multi-layer plastic packaging',\n",
    "    'PVC production',\n",
    "    'mechanical recycling, PVC sorted'\n",
    "]\n",
    "PVC_s_indices = [A_df_org.iloc[0,:].tolist().index(elem) for elem in search_elements_PVC]\n",
    "PVC_s_indices = [i-9 for i in PVC_s_indices]\n",
    "for j in PVC_s_indices:\n",
    "    scaling_factors_PVC.append(model.s[j].value)\n",
    "scaling_factors_PVC"
   ]
  },
  {
   "cell_type": "code",
   "execution_count": 102,
   "id": "0411f4af-ad09-4da8-aa62-be7b04c6b96f",
   "metadata": {},
   "outputs": [
    {
     "data": {
      "text/plain": [
       "[1e-07, 1e-07, 160027500000.0, 1e-07, 1e-07]"
      ]
     },
     "execution_count": 102,
     "metadata": {},
     "output_type": "execute_result"
    }
   ],
   "source": [
    "#3. mixed plastic collected waste (sorting, energy recovery, landfill, mismanaged)\n",
    "\n",
    "scaling_factors_mixed = []\n",
    "mixed_s_indices = []\n",
    "search_elements_mixed = [\n",
    "    'incineration, electricity recovery, plastic packaging waste',\n",
    "    'landfill, plastic packaging waste',\n",
    "    'High-tech MRF',\n",
    "    'Med-tech MRF',\n",
    "    'Low-tech MRF',\n",
    "]\n",
    "mixed_s_indices = [A_df_org.iloc[0,:].tolist().index(elem) for elem in search_elements_mixed]\n",
    "mixed_s_indices = [i-9 for i in mixed_s_indices]\n",
    "for j in mixed_s_indices:\n",
    "    scaling_factors_mixed.append(model.s[j].value)\n",
    "scaling_factors_mixed"
   ]
  },
  {
   "cell_type": "code",
   "execution_count": 103,
   "id": "f14bc52a-870d-4efd-9b76-7a732f3acf7d",
   "metadata": {},
   "outputs": [
    {
     "data": {
      "text/plain": [
       "[1e-07, 1e-07, 1e-07, 1e-07, -1.8874893912999998e-07]"
      ]
     },
     "execution_count": 103,
     "metadata": {},
     "output_type": "execute_result"
    }
   ],
   "source": [
    "#4. mixed plastic waste, sorted (sorting, energy recovery, landfill, mismanaged)\n",
    "\n",
    "scaling_factors_mixed = []\n",
    "mixed_s_indices = []\n",
    "search_elements_mixed = [\n",
    "    'cement clinker, mixed plastic packaging, sorted',\n",
    "    'plastic lumber production from sorted mixed plastic waste',\n",
    "    'pyrolysis, feedstock recycling, mixed plastic waste, sorted',\n",
    "    'PET fiber production from sorted PET waste',\n",
    "    'road pavement production from sorted mixed plastic waste'\n",
    "]\n",
    "mixed_s_indices = [A_df_org.iloc[0,:].tolist().index(elem) for elem in search_elements_mixed]\n",
    "mixed_s_indices = [i-9 for i in mixed_s_indices]\n",
    "for j in mixed_s_indices:\n",
    "    scaling_factors_mixed.append(model.s[j].value)\n",
    "scaling_factors_mixed"
   ]
  },
  {
   "cell_type": "code",
   "execution_count": 104,
   "id": "d9eec2ee-07e1-4861-853b-656085015adb",
   "metadata": {},
   "outputs": [
    {
     "data": {
      "text/plain": [
       "[24017538114.78965, 1e-07]"
      ]
     },
     "execution_count": 104,
     "metadata": {},
     "output_type": "execute_result"
    }
   ],
   "source": [
    "#5. Plastic residues\n",
    "scaling_factors_mixed = []\n",
    "mixed_s_indices = []\n",
    "search_elements_mixed = [\n",
    "    'landfill, plastic residues',\n",
    "    'incineration, electricity recovery, plastic residues'\n",
    "]\n",
    "mixed_s_indices = [A_df_org.iloc[0,:].tolist().index(elem) for elem in search_elements_mixed]\n",
    "mixed_s_indices = [i-9 for i in mixed_s_indices]\n",
    "for j in mixed_s_indices:\n",
    "    scaling_factors_mixed.append(model.s[j].value)\n",
    "scaling_factors_mixed"
   ]
  },
  {
   "cell_type": "code",
   "execution_count": 105,
   "id": "4e5be618-033f-4672-af5b-b1f64ad6eafc",
   "metadata": {},
   "outputs": [
    {
     "data": {
      "text/plain": [
       "[1e-07,\n",
       " 1e-07,\n",
       " 1e-07,\n",
       " 1e-07,\n",
       " 1e-07,\n",
       " 1e-07,\n",
       " 661907101356.5931,\n",
       " 1e-07,\n",
       " 1e-07,\n",
       " 1e-07]"
      ]
     },
     "execution_count": 105,
     "metadata": {},
     "output_type": "execute_result"
    }
   ],
   "source": [
    "#6. Energy Grid\n",
    "scaling_factors_mixed = []\n",
    "mixed_s_indices = []\n",
    "search_elements_mixed = [\n",
    "        'Electrcity, natural gas ',\n",
    "        'Electrcity, coal',\n",
    "        'Electrcity, oil',\n",
    "        'Electrcity, nuclear',\n",
    "        'Electrcity, wind',\n",
    "        'Electricity, solar',\n",
    "        'Electricity, hydropower',\n",
    "        'Electrcity, biopower',\n",
    "        'Electrcity, geothermal',\n",
    "        'Electrcity, ocean energy']\n",
    "mixed_s_indices = [A_df_org.iloc[0,:].tolist().index(elem) for elem in search_elements_mixed]\n",
    "mixed_s_indices = [i-9 for i in mixed_s_indices]\n",
    "for j in mixed_s_indices:\n",
    "    scaling_factors_mixed.append(model.s[j].value)\n",
    "scaling_factors_mixed"
   ]
  },
  {
   "cell_type": "markdown",
   "id": "d405d0dd-1915-4fbe-b2d0-5e6098653993",
   "metadata": {
    "jp-MarkdownHeadingCollapsed": true,
    "tags": []
   },
   "source": [
    "# Scenario 5: Renewable + Electrification"
   ]
  },
  {
   "cell_type": "markdown",
   "id": "d4f0870d-1b4e-4b20-944c-560764c0c214",
   "metadata": {},
   "source": [
    "## b:  Electricity generation UUIDs in USLCI"
   ]
  },
  {
   "cell_type": "code",
   "execution_count": 13,
   "id": "d1302636-2870-470c-bb9c-af95d139c4d7",
   "metadata": {},
   "outputs": [],
   "source": [
    "electricity_processes = ['Electrcity, solar photovoltatic',\n",
    "                         'Electricity',\n",
    "                         'Electricity, at cogen, for natural gas turbine',\n",
    "                         'Electricity, at Grid, US, 2010',\n",
    "                         'Electricity, biomass, at power plant',\n",
    "                         'Electricity, bituminous coal, at power plant',\n",
    "                         'Electricity, concentrated solar power (CSP)',\n",
    "                         'Electricity, diesel, at power plant',\n",
    "                         'Electricity, Eastern US, 2014',\n",
    "                         'Electricity, lignite coal, at power plant',\n",
    "                         'Electricity, natural gas, at power plant',\n",
    "                         'Electricity, nuclear, at power plant',\n",
    "                         'Electricity, residual fuel oil, at power plant',\n",
    "                         'Electricity, solar'\n",
    "                            ]"
   ]
  },
  {
   "cell_type": "code",
   "execution_count": 14,
   "id": "21fc9f24-db7e-488f-a94f-c21c588138dd",
   "metadata": {},
   "outputs": [],
   "source": [
    "#finding columns in A with electricity generation\n",
    "store_index_electricity_A_col = []\n",
    "stored_index_A = 0\n",
    "for i in range(len(A_df_org.T)):\n",
    "    if str(A_df_org.iloc[0, i]) in electricity_processes:\n",
    "        stored_index_A = i\n",
    "        store_index_electricity_A_col.append(stored_index_A)"
   ]
  },
  {
   "cell_type": "code",
   "execution_count": 15,
   "id": "efc0d209-ccc3-4d9f-97d3-35f92ef3348f",
   "metadata": {},
   "outputs": [],
   "source": [
    "#finding rows in A with electricity generation\n",
    "store_index_electricity_A_row = []\n",
    "stored_index_A = 0\n",
    "for i in range(len(A_df_org)):\n",
    "    if str(A_df_org.iloc[i, 0]) in electricity_processes:\n",
    "        stored_index_A = i\n",
    "        store_index_electricity_A_row.append(stored_index_A)"
   ]
  },
  {
   "cell_type": "code",
   "execution_count": 16,
   "id": "3098dc21-fe6f-4f33-8878-0664b8cb12d4",
   "metadata": {},
   "outputs": [],
   "source": [
    "#finding columns in B with electricity generation\n",
    "store_index_electricity_B = []\n",
    "stored_index_B = 0\n",
    "for i in range(len(B_df_org.T)):\n",
    "    if str(B_df_org.iloc[0, i]) in electricity_processes:\n",
    "        stored_index_B = i\n",
    "        store_index_electricity_B.append(stored_index_B)"
   ]
  },
  {
   "cell_type": "markdown",
   "id": "a519ca2a-efb4-44fa-b619-a01f0338fd23",
   "metadata": {},
   "source": [
    "### Removing corresponding electricity columns from A and B"
   ]
  },
  {
   "cell_type": "code",
   "execution_count": 17,
   "id": "13f15464-c378-46b4-a387-5063f330ca7d",
   "metadata": {},
   "outputs": [],
   "source": [
    "A_df_org = A_df_org.drop(A_df_org.columns[store_index_electricity_A_col], axis=1)\n",
    "B_df_org = B_df_org.drop(B_df_org.columns[store_index_electricity_B], axis=1)"
   ]
  },
  {
   "cell_type": "markdown",
   "id": "7787ffbe-8c0a-4011-abc5-1365ba7437f9",
   "metadata": {},
   "source": [
    "### Aggregating all electricity flows in each process"
   ]
  },
  {
   "cell_type": "code",
   "execution_count": 18,
   "id": "ea7d80cb-bc6b-4a26-b6bf-6607a270c3b4",
   "metadata": {},
   "outputs": [],
   "source": [
    "electricity_sums = np.sum(np.array(A_df_org.loc[store_index_electricity_A_row].iloc[:, 10:].replace(np.nan, 0), dtype=float), axis=0)"
   ]
  },
  {
   "cell_type": "code",
   "execution_count": 19,
   "id": "c7969036-c555-4d8d-a107-38b4897566ee",
   "metadata": {},
   "outputs": [],
   "source": [
    "# Reset index and drop the old index\n",
    "A_df_org_tr = A_df_org.T.reset_index(drop=True)"
   ]
  },
  {
   "cell_type": "code",
   "execution_count": 20,
   "id": "ea111999-51c9-44df-a167-ca804fccfc78",
   "metadata": {
    "tags": []
   },
   "outputs": [],
   "source": [
    "A_df_org = A_df_org_tr.T"
   ]
  },
  {
   "cell_type": "code",
   "execution_count": 21,
   "id": "af0e22c4-e9d6-4e34-b5d2-1e02c650aa70",
   "metadata": {},
   "outputs": [],
   "source": [
    "# Reset index and drop the old index\n",
    "B_df_org_tr = B_df_org.T.reset_index(drop=True)"
   ]
  },
  {
   "cell_type": "code",
   "execution_count": 22,
   "id": "641bc634-e9fb-4a24-ab22-c57636717f0d",
   "metadata": {
    "tags": []
   },
   "outputs": [],
   "source": [
    "B_df_org = B_df_org_tr.T"
   ]
  },
  {
   "cell_type": "markdown",
   "id": "3a4b2948-de80-4348-b92a-b1a9f5a3e870",
   "metadata": {},
   "source": [
    "### Removing electricity rows from A"
   ]
  },
  {
   "cell_type": "code",
   "execution_count": 23,
   "id": "f6718ec6-536c-4847-899b-4b2d527659d9",
   "metadata": {},
   "outputs": [],
   "source": [
    "A_df_org = A_df_org.drop(A_df_org.columns[store_index_electricity_A_row], axis=0)"
   ]
  },
  {
   "cell_type": "markdown",
   "id": "377947f2-653f-4479-9b58-4e1ba28aaa71",
   "metadata": {
    "tags": []
   },
   "source": [
    "### Add new electricity rows and columns"
   ]
  },
  {
   "cell_type": "code",
   "execution_count": 24,
   "id": "3114d640-b5b1-490b-a74b-04c8aa69c38c",
   "metadata": {},
   "outputs": [],
   "source": [
    "new_elec = [\n",
    "        'Electrcity, natural gas ',\n",
    "        'Electrcity, coal',\n",
    "        'Electrcity, oil',\n",
    "        'Electrcity, nuclear',\n",
    "        'Electrcity, wind',\n",
    "        'Electricity, solar',\n",
    "        'Electricity, hydropower',\n",
    "        'Electrcity, biopower',\n",
    "        'Electrcity, geothermal',\n",
    "        'Electrcity, ocean energy']\n",
    "\n",
    "new_elec_row = ['Electricity']"
   ]
  },
  {
   "cell_type": "code",
   "execution_count": 25,
   "id": "0d4cb66d-d0ff-4aa8-a6fe-886b00c33fab",
   "metadata": {},
   "outputs": [],
   "source": [
    "# Append new rows in A\n",
    "\n",
    "# Convert new_elec to a DataFrame\n",
    "new_elec_df = pd.DataFrame(new_elec_row) \n",
    "\n",
    "# Append new_elec to the first row\n",
    "A_df_org = pd.concat([A_df_org, new_elec_df], ignore_index=True)"
   ]
  },
  {
   "cell_type": "code",
   "execution_count": 26,
   "id": "0998f2eb-fa76-488b-8944-67d2c7e5fdb7",
   "metadata": {},
   "outputs": [],
   "source": [
    "# Append new columns in A\n",
    "for elec in new_elec:\n",
    "    A_df_org[elec] = None  # Create a new column with None values\n",
    "\n",
    "# Set the first row of each new column to the corresponding value\n",
    "for idx, elec in enumerate(new_elec):\n",
    "    A_df_org.at[0, elec] = elec  # Set the value in the first row"
   ]
  },
  {
   "cell_type": "code",
   "execution_count": 27,
   "id": "9723566d-06c1-4b39-9a10-57f4cf75cf82",
   "metadata": {},
   "outputs": [],
   "source": [
    "# Append new columns in B\n",
    "for elec in new_elec:\n",
    "    B_df_org[elec] = None  # Create a new column with None values\n",
    "\n",
    "# Set the first row of each new column to the corresponding value\n",
    "for idx, elec in enumerate(new_elec):\n",
    "    B_df_org.at[0, elec] = elec  # Set the value in the first row"
   ]
  },
  {
   "cell_type": "code",
   "execution_count": 28,
   "id": "ea283317-c747-4417-bfe1-a6fdf28e3000",
   "metadata": {},
   "outputs": [],
   "source": [
    "# Reset index and drop the old index\n",
    "A_df_org_tr = A_df_org.T.reset_index(drop=True)"
   ]
  },
  {
   "cell_type": "code",
   "execution_count": 29,
   "id": "9ef420d2-a90c-4a64-9760-cd062a3c55db",
   "metadata": {
    "tags": []
   },
   "outputs": [],
   "source": [
    "A_df_org = A_df_org_tr.T"
   ]
  },
  {
   "cell_type": "code",
   "execution_count": 30,
   "id": "4472b610-92a7-4e74-be6f-df6de78fc4a3",
   "metadata": {},
   "outputs": [],
   "source": [
    "# Reset index and drop the old index\n",
    "B_df_org_tr = B_df_org.T.reset_index(drop=True)"
   ]
  },
  {
   "cell_type": "code",
   "execution_count": 31,
   "id": "c636a3ca-5bf3-4784-b514-873d87857a92",
   "metadata": {
    "tags": []
   },
   "outputs": [],
   "source": [
    "B_df_org = B_df_org_tr.T"
   ]
  },
  {
   "cell_type": "code",
   "execution_count": 32,
   "id": "206118f5-7406-427e-a155-b94bfca7d0df",
   "metadata": {},
   "outputs": [],
   "source": [
    "A_df_org.reset_index(drop=True, inplace=True)"
   ]
  },
  {
   "cell_type": "code",
   "execution_count": 33,
   "id": "4b408ea2-713b-4cbc-b3f6-ea2e9147c593",
   "metadata": {},
   "outputs": [],
   "source": [
    "A_df_org.to_csv('A_df_org_electricity.csv', index=False)\n",
    "B_df_org.to_csv('B_df_org_electricity.csv', index=False)"
   ]
  },
  {
   "cell_type": "markdown",
   "id": "9811d979-89ea-48a3-8d01-4b07fe4e7727",
   "metadata": {},
   "source": [
    "## c: Electrification (skip this for optimization w/o electrification)"
   ]
  },
  {
   "cell_type": "code",
   "execution_count": 34,
   "id": "bb8fbeb4-5908-416b-816c-539cc7c72a17",
   "metadata": {},
   "outputs": [],
   "source": [
    "heat_processes = [\n",
    "    'Bituminous coal, combusted in industrial boiler',\n",
    "    'Diesel, combusted in industrial boiler',\n",
    "    'Heat',\n",
    "    'Heat, onsite boiler, hardwood mill, average, SE',\n",
    "    'Heat, onsite boiler, hardwood mill, average, SE',\n",
    "    'Lignite coal, combusted in industrial boiler',\n",
    "    'Liquefied petroleum gas, combusted in industrial boiler',\n",
    "    'Residual fuel oil, combusted in industrial boiler',\n",
    "    'Wood fuel, hardwood, generated at lumber mill, combusted in industrial boiler, SE',\n",
    "    'Wood fuel, hardwood, purchased, combusted in industrial boiler, SE',\n",
    "    'Wood waste, unspecified, combusted in industrial boiler',\n",
    "    'Natural gas, combusted in industrial boiler',\n",
    "    'Natural gas, combusted in industrial boiler, at hydrocracker, for ethylene',\n",
    "    'Natural gas, combusted in industrial boiler, at hydrocracker, for pyrolysis gas',\n",
    "    'Wood fuel, unspecified'\n",
    "]"
   ]
  },
  {
   "cell_type": "code",
   "execution_count": 35,
   "id": "2616d2ce-f423-4e11-88f4-d4d883def16c",
   "metadata": {},
   "outputs": [],
   "source": [
    "Mj_per_unit = [23.9, 37.4, 1, 1, 1, 23.9, 26, 37, 16, 16, 16, 40, 40, 40, 16]"
   ]
  },
  {
   "cell_type": "code",
   "execution_count": 36,
   "id": "a639dee4-f8a3-49a7-a48d-c93dd80592e5",
   "metadata": {},
   "outputs": [],
   "source": [
    "boiler_efficiency = [0.81, 0.83, 1, 0.7, 0.7, 0.81, 0.82, 0.83, 0.7, 0.7, 0.7, 0.75, 0.75, 0.75, 0.7]"
   ]
  },
  {
   "cell_type": "code",
   "execution_count": 37,
   "id": "aec0d71e-78d8-4609-9ea2-da84a64e033f",
   "metadata": {},
   "outputs": [],
   "source": [
    "#step 1: identify all heat columns in A and B\n",
    "#finding columns in A with electricity generation\n",
    "store_index_heat_A_col = []\n",
    "stored_index_A = 0\n",
    "for i in range(len(A_df_org.T)):\n",
    "    if str(A_df_org.iloc[0, i]) in heat_processes:\n",
    "        stored_index_A = i\n",
    "        store_index_heat_A_col.append(stored_index_A)"
   ]
  },
  {
   "cell_type": "code",
   "execution_count": 38,
   "id": "52ee156d-7f50-4abf-833c-36d8b6691b37",
   "metadata": {},
   "outputs": [],
   "source": [
    "#finding rows in A with electricity generation\n",
    "store_index_heat_A_row = []\n",
    "stored_index_A = 0\n",
    "for i in range(len(A_df_org)):\n",
    "    if str(A_df_org.iloc[i, 0]) in heat_processes:\n",
    "        stored_index_A = i\n",
    "        store_index_heat_A_row.append(stored_index_A)"
   ]
  },
  {
   "cell_type": "code",
   "execution_count": 39,
   "id": "588bccd1-bc58-45c1-be52-cd7176792395",
   "metadata": {},
   "outputs": [],
   "source": [
    "#finding columns in B with electricity generation\n",
    "#finding columns in B with electricity generation\n",
    "store_index_heat_B = []\n",
    "stored_index_B = 0\n",
    "for i in range(len(B_df_org.T)):\n",
    "    if str(B_df_org.iloc[0, i]) in heat_processes:\n",
    "        stored_index_B = i\n",
    "        store_index_heat_B.append(stored_index_B)"
   ]
  },
  {
   "cell_type": "code",
   "execution_count": 40,
   "id": "fd1ac886-ead4-46da-a9fe-2d2b521042a9",
   "metadata": {},
   "outputs": [],
   "source": [
    "#Step 2: Remove heat columns from A and B\n",
    "A_df_org = A_df_org.drop(A_df_org.columns[store_index_heat_A_col], axis=1)\n",
    "B_df_org = B_df_org.drop(B_df_org.columns[store_index_heat_B], axis=1)"
   ]
  },
  {
   "cell_type": "code",
   "execution_count": 41,
   "id": "cdbb5ace-8efd-483b-86c4-9abe62b8554d",
   "metadata": {},
   "outputs": [],
   "source": [
    "X = np.array(Mj_per_unit) * np.array(boiler_efficiency)\n",
    "Y = np.array(A_df_org.loc[store_index_heat_A_row].iloc[:, 10:].replace(np.nan, 0), dtype=float)"
   ]
  },
  {
   "cell_type": "code",
   "execution_count": 42,
   "id": "bcedf935-27ff-4446-ac94-ceb56745e835",
   "metadata": {},
   "outputs": [],
   "source": [
    "#Step 3: aggregate heat rows from A and B and convert them to absolute heat needed\n",
    "heat_sums = []\n",
    "heat_sums = np.transpose(Y)@X"
   ]
  },
  {
   "cell_type": "code",
   "execution_count": 43,
   "id": "52fb69d5-66e8-4f51-a778-afe99e016e43",
   "metadata": {},
   "outputs": [],
   "source": [
    "# Reset index and drop the old index\n",
    "A_df_org_tr = A_df_org.T.reset_index(drop=True)"
   ]
  },
  {
   "cell_type": "code",
   "execution_count": 44,
   "id": "a7d4288a-1e87-4d84-a69b-271d2afd2b68",
   "metadata": {},
   "outputs": [],
   "source": [
    "A_df_org = A_df_org_tr.T"
   ]
  },
  {
   "cell_type": "code",
   "execution_count": 45,
   "id": "c6a1b3ed-69dd-4594-aeaf-5f6d6b5366cc",
   "metadata": {},
   "outputs": [],
   "source": [
    "# Reset index and drop the old index\n",
    "B_df_org_tr = B_df_org.T.reset_index(drop=True)"
   ]
  },
  {
   "cell_type": "code",
   "execution_count": 46,
   "id": "9369239f-e6a9-4892-952c-7a376c1936b1",
   "metadata": {},
   "outputs": [],
   "source": [
    "B_df_org = B_df_org_tr.T"
   ]
  },
  {
   "cell_type": "code",
   "execution_count": 47,
   "id": "3db6f22f-87ad-40ff-8f6c-5ad886700fc5",
   "metadata": {},
   "outputs": [],
   "source": [
    "A_df_org = A_df_org.drop(A_df_org.columns[store_index_heat_A_row], axis=0)"
   ]
  },
  {
   "cell_type": "code",
   "execution_count": 48,
   "id": "685c2030-e227-49b4-9331-7767e721d7fa",
   "metadata": {},
   "outputs": [],
   "source": [
    "# Reset index and drop the old index\n",
    "A_df_org_tr = A_df_org.T.reset_index(drop=True)"
   ]
  },
  {
   "cell_type": "code",
   "execution_count": 49,
   "id": "81d4a529-6ce9-411f-8771-2b068c97b725",
   "metadata": {},
   "outputs": [],
   "source": [
    "A_df_org = A_df_org_tr.T"
   ]
  },
  {
   "cell_type": "code",
   "execution_count": 50,
   "id": "702ed62c-c68b-42d0-a48b-e2fd021bb32d",
   "metadata": {},
   "outputs": [],
   "source": [
    "# Reset index and drop the old index\n",
    "B_df_org_tr = B_df_org.T.reset_index(drop=True)"
   ]
  },
  {
   "cell_type": "code",
   "execution_count": 51,
   "id": "11965ad4-5e56-43c8-912a-38d75ba378be",
   "metadata": {},
   "outputs": [],
   "source": [
    "B_df_org = B_df_org_tr.T"
   ]
  },
  {
   "cell_type": "code",
   "execution_count": 52,
   "id": "0c0518a8-dbd3-4197-936e-11bde8f7f4ae",
   "metadata": {},
   "outputs": [],
   "source": [
    "A_df_org.reset_index(drop=True, inplace=True)"
   ]
  },
  {
   "cell_type": "code",
   "execution_count": 53,
   "id": "506b44b6-f753-4d10-882a-a54aabfca2d2",
   "metadata": {},
   "outputs": [],
   "source": [
    "update_store_index_heat_A_row = [x-10 for x in store_index_heat_A_row]"
   ]
  },
  {
   "cell_type": "code",
   "execution_count": 54,
   "id": "c179c0fe-149d-4a85-b405-267a573090fb",
   "metadata": {},
   "outputs": [],
   "source": [
    "electricity_sums = np.delete(electricity_sums,update_store_index_heat_A_row)"
   ]
  },
  {
   "cell_type": "code",
   "execution_count": 55,
   "id": "642aa824-feb6-47da-bf81-71ca64867d14",
   "metadata": {},
   "outputs": [],
   "source": [
    "for i in range(len(heat_sums)-len(electricity_sums)):\n",
    "    electricity_sums = np.append(electricity_sums, 0)"
   ]
  },
  {
   "cell_type": "code",
   "execution_count": 56,
   "id": "855bfb98-b87f-42a0-b443-b1ccc02011e5",
   "metadata": {},
   "outputs": [],
   "source": [
    "A_df_org.to_csv('A_df_org_heat.csv', index=False)\n",
    "B_df_org.to_csv('B_df_org_heat.csv', index=False)"
   ]
  },
  {
   "cell_type": "markdown",
   "id": "771aa461-ef31-4b0d-a60f-22288369a023",
   "metadata": {},
   "source": [
    "## Generation of A, B, and C"
   ]
  },
  {
   "cell_type": "code",
   "execution_count": 57,
   "id": "511b9c48-812b-4e81-9941-74df491209bd",
   "metadata": {},
   "outputs": [],
   "source": [
    "A_df = copy.copy(A_df_org)\n",
    "B_df = copy.copy(B_df_org)"
   ]
  },
  {
   "cell_type": "code",
   "execution_count": 58,
   "id": "80de2e79-ea13-4d24-ae7e-8ba3e52ae2bc",
   "metadata": {},
   "outputs": [],
   "source": [
    "#Building A matrix\n",
    "# Step 1: Delete the first 10 columns\n",
    "A_df = A_df.drop(A_df.columns[:10], axis=1)\n",
    "\n",
    "# Step 2: Delete the first 10 rows (first row is heading, so put 3)\n",
    "A_df = A_df.iloc[10:]\n",
    "\n",
    "#Replacing empty values with zero and getting the final A matrix\n",
    "A=A_df\n",
    "A=A.replace(np.nan, 0)\n",
    "A=np.array(A,dtype='float64')"
   ]
  },
  {
   "cell_type": "code",
   "execution_count": 59,
   "id": "06c7acf4-3d62-4ca2-950e-10ca3cfab272",
   "metadata": {},
   "outputs": [
    {
     "data": {
      "text/plain": [
       "(103, 134)"
      ]
     },
     "execution_count": 59,
     "metadata": {},
     "output_type": "execute_result"
    }
   ],
   "source": [
    "A.shape"
   ]
  },
  {
   "cell_type": "code",
   "execution_count": 60,
   "id": "944ab7f0-c209-45a5-bcdb-c03b76f4f04d",
   "metadata": {},
   "outputs": [],
   "source": [
    "# Building B matrix\n",
    "# Step 1: Delete the first 7 columns\n",
    "B_df = B_df.drop(B_df.columns[:7], axis=1)\n",
    "\n",
    "# Step 2: Delete the first 10 rows (first row is heading, so put 3)\n",
    "B_df = B_df.iloc[10:]\n",
    "\n",
    "# Replacing empty values with zero\n",
    "B_df = B_df.replace(np.nan, 0)\n",
    "\n",
    "# Converting all elements to float, handling empty strings and stripping whitespace\n",
    "def convert_to_float(x):\n",
    "    if isinstance(x, str):\n",
    "        x = x.strip()  # Remove any leading/trailing whitespace\n",
    "        if x == '':  # Handle empty strings\n",
    "            return 0.0\n",
    "        try:\n",
    "            return float(x)\n",
    "        except ValueError:\n",
    "            return 0.0  # Or raise an error if you want to catch non-numeric strings\n",
    "    return x\n",
    "\n",
    "B_df = B_df.applymap(convert_to_float)\n",
    "\n",
    "# Converting to a NumPy array\n",
    "B = np.array(B_df, dtype=float)"
   ]
  },
  {
   "cell_type": "code",
   "execution_count": 61,
   "id": "dd7652e8-e173-4fdc-be49-91bae7e24647",
   "metadata": {},
   "outputs": [
    {
     "data": {
      "text/plain": [
       "(1044, 134)"
      ]
     },
     "execution_count": 61,
     "metadata": {},
     "output_type": "execute_result"
    }
   ],
   "source": [
    "B.shape"
   ]
  },
  {
   "cell_type": "code",
   "execution_count": 62,
   "id": "09796709-90f2-45c6-aa2c-de817daa972a",
   "metadata": {},
   "outputs": [],
   "source": [
    "#Building C matrix\n",
    "# Step 1: Delete the first 7 columns\n",
    "C_df = C_df.drop(C_df.columns[:7], axis=1)\n",
    "\n",
    "# Step 2: Delete the first 5 rows (first row is heading, so put 3)\n",
    "C_df = C_df.iloc[5:]\n",
    "\n",
    "#Replacing empty values with zero and getting the final B matrix\n",
    "C=C_df\n",
    "C=C.replace(np.nan, 0)\n",
    "C=np.array(C,dtype='float64')"
   ]
  },
  {
   "cell_type": "code",
   "execution_count": 63,
   "id": "6024c186-23cc-4f85-b70b-1c536c2a2cbb",
   "metadata": {},
   "outputs": [],
   "source": [
    "#Functional Unit\n",
    "# F = 168.450 million metric tons = 168,450,000 metric tons = 168,450,000,000 kg\n",
    "F=168450000000\n",
    "F=int(F)\n",
    "#defining f matrix\n",
    "f=np.zeros(len(A))\n",
    "f[0]=F"
   ]
  },
  {
   "cell_type": "markdown",
   "id": "ec217ed1-ee0a-4b7b-bad4-492f4ffe39ad",
   "metadata": {},
   "source": [
    "## Implementing values in A"
   ]
  },
  {
   "cell_type": "code",
   "execution_count": 64,
   "id": "dc41fc9d-66ae-4581-8c18-0e800dfefa76",
   "metadata": {},
   "outputs": [],
   "source": [
    "\n",
    "for i in range(len(electricity_sums)):\n",
    "    A [A_df_org.index[A_df_org.iloc[:, 0] == 'Electricity'].tolist()[0] - 10,i] = electricity_sums[i] + heat_sums [i]"
   ]
  },
  {
   "cell_type": "code",
   "execution_count": 65,
   "id": "d7fa68c8-b6e3-40ae-a32e-4c9fb2e9f339",
   "metadata": {},
   "outputs": [],
   "source": [
    "for i in range(len(electricity_sums)):\n",
    "    A [A_df_org.index[A_df_org.iloc[:, 0] == 'Electricity'].tolist()[0] - 10,i] = electricity_sums[i] "
   ]
  },
  {
   "cell_type": "code",
   "execution_count": 66,
   "id": "597aac6b-e193-4b59-8323-bd574e679aee",
   "metadata": {},
   "outputs": [
    {
     "data": {
      "text/plain": [
       "134"
      ]
     },
     "execution_count": 66,
     "metadata": {},
     "output_type": "execute_result"
    }
   ],
   "source": [
    "len(electricity_sums)"
   ]
  },
  {
   "cell_type": "code",
   "execution_count": 67,
   "id": "bfc887ee-b0ba-405f-8682-9ed51c937f27",
   "metadata": {},
   "outputs": [
    {
     "data": {
      "text/plain": [
       "134"
      ]
     },
     "execution_count": 67,
     "metadata": {},
     "output_type": "execute_result"
    }
   ],
   "source": [
    "len(np.transpose(A))"
   ]
  },
  {
   "cell_type": "code",
   "execution_count": 68,
   "id": "f44644c9-270e-4313-933d-496556a30305",
   "metadata": {},
   "outputs": [],
   "source": [
    "A [A_df_org.index[A_df_org.iloc[:, 0] == 'Electricity'].tolist()[0] - 10,\n",
    "           A_df_org.T.index[A_df_org.T.iloc[:, 0] == 'Electrcity, natural gas '].tolist()[0] - 10] = 1"
   ]
  },
  {
   "cell_type": "code",
   "execution_count": 69,
   "id": "3716c043-1894-46f9-9df8-47408fc2467e",
   "metadata": {},
   "outputs": [],
   "source": [
    "A [A_df_org.index[A_df_org.iloc[:, 0] == 'Electricity'].tolist()[0] - 10,\n",
    "           A_df_org.T.index[A_df_org.T.iloc[:, 0] == 'Electrcity, coal'].tolist()[0] - 10] = 1"
   ]
  },
  {
   "cell_type": "code",
   "execution_count": 70,
   "id": "27387526-194a-4151-9bcc-f5963fc16f48",
   "metadata": {},
   "outputs": [],
   "source": [
    "A [A_df_org.index[A_df_org.iloc[:, 0] == 'Electricity'].tolist()[0] - 10,\n",
    "           A_df_org.T.index[A_df_org.T.iloc[:, 0] == 'Electrcity, oil'].tolist()[0] - 10] = 1"
   ]
  },
  {
   "cell_type": "code",
   "execution_count": 71,
   "id": "638a4ae3-a5a8-4b88-adf4-df45b88b0d0e",
   "metadata": {},
   "outputs": [],
   "source": [
    "A [A_df_org.index[A_df_org.iloc[:, 0] == 'Electricity'].tolist()[0] - 10,\n",
    "           A_df_org.T.index[A_df_org.T.iloc[:, 0] == 'Electrcity, nuclear'].tolist()[0] - 10] = 1"
   ]
  },
  {
   "cell_type": "code",
   "execution_count": 72,
   "id": "ced0e69d-b4d8-47d0-94a9-b3a97703699f",
   "metadata": {},
   "outputs": [],
   "source": [
    "A [A_df_org.index[A_df_org.iloc[:, 0] == 'Electricity'].tolist()[0] - 10,\n",
    "           A_df_org.T.index[A_df_org.T.iloc[:, 0] == 'Electrcity, wind'].tolist()[0] - 10] = 1"
   ]
  },
  {
   "cell_type": "code",
   "execution_count": 73,
   "id": "05cfda0b-ac1b-4c00-9605-5f5808350458",
   "metadata": {},
   "outputs": [],
   "source": [
    "A [A_df_org.index[A_df_org.iloc[:, 0] == 'Electricity'].tolist()[0] - 10,\n",
    "           A_df_org.T.index[A_df_org.T.iloc[:, 0] == 'Electricity, solar'].tolist()[0] - 10] = 1"
   ]
  },
  {
   "cell_type": "code",
   "execution_count": 74,
   "id": "3b4616cb-19e6-4494-b665-d98e061bb98a",
   "metadata": {},
   "outputs": [],
   "source": [
    "A [A_df_org.index[A_df_org.iloc[:, 0] == 'Electricity'].tolist()[0] - 10,\n",
    "           A_df_org.T.index[A_df_org.T.iloc[:, 0] == 'Electricity, hydropower'].tolist()[0] - 10] = 1"
   ]
  },
  {
   "cell_type": "code",
   "execution_count": 75,
   "id": "7cd0cb1c-bda4-4acd-ac36-e01093db4100",
   "metadata": {},
   "outputs": [],
   "source": [
    "A [A_df_org.index[A_df_org.iloc[:, 0] == 'Electricity'].tolist()[0] - 10,\n",
    "           A_df_org.T.index[A_df_org.T.iloc[:, 0] == 'Electrcity, biopower'].tolist()[0] - 10] = 1"
   ]
  },
  {
   "cell_type": "code",
   "execution_count": 76,
   "id": "065a7033-cfdf-43c6-898c-da7e2ef46be4",
   "metadata": {},
   "outputs": [],
   "source": [
    "A [A_df_org.index[A_df_org.iloc[:, 0] == 'Electricity'].tolist()[0] - 10,\n",
    "           A_df_org.T.index[A_df_org.T.iloc[:, 0] == 'Electrcity, geothermal'].tolist()[0] - 10] = 1"
   ]
  },
  {
   "cell_type": "code",
   "execution_count": 77,
   "id": "3a860cec-3bea-4733-bd0f-7d9c2b724772",
   "metadata": {},
   "outputs": [],
   "source": [
    "A [A_df_org.index[A_df_org.iloc[:, 0] == 'Electricity'].tolist()[0] - 10,\n",
    "           A_df_org.T.index[A_df_org.T.iloc[:, 0] == 'Electrcity, ocean energy'].tolist()[0] - 10] = 1"
   ]
  },
  {
   "cell_type": "code",
   "execution_count": 78,
   "id": "e206f3fc-c54b-43aa-821e-6dd12401650f",
   "metadata": {},
   "outputs": [],
   "source": [
    "B [B_df_org.index[B_df_org.iloc[:, 0] == 'b6f010fb-a764-3063-af2d-bcb8309a97b7'].tolist()[0] - 10,\n",
    "  B_df_org.T.index[B_df_org.iloc[0, :] == 'Electrcity, natural gas '].tolist()[0] - 7] = 0.460/3.6\n",
    "\n",
    "B [B_df_org.index[B_df_org.iloc[:, 0] == 'b6f010fb-a764-3063-af2d-bcb8309a97b7'].tolist()[0] - 10,\n",
    "  B_df_org.T.index[B_df_org.iloc[0, :] == 'Electrcity, coal'].tolist()[0] - 7] = 1/3.6\n",
    "\n",
    "B [B_df_org.index[B_df_org.iloc[:, 0] == 'b6f010fb-a764-3063-af2d-bcb8309a97b7'].tolist()[0] - 10,\n",
    "  B_df_org.T.index[B_df_org.iloc[0, :] == 'Electrcity, oil'].tolist()[0] - 7] = 0.841/3.6\n",
    "\n",
    "B [B_df_org.index[B_df_org.iloc[:, 0] == 'b6f010fb-a764-3063-af2d-bcb8309a97b7'].tolist()[0] - 10,\n",
    "  B_df_org.T.index[B_df_org.iloc[0, :] == 'Electrcity, nuclear'].tolist()[0] - 7] = 0.016/3.6\n",
    "\n",
    "B [B_df_org.index[B_df_org.iloc[:, 0] == 'b6f010fb-a764-3063-af2d-bcb8309a97b7'].tolist()[0] - 10,\n",
    "  B_df_org.T.index[B_df_org.iloc[0, :] == 'Electrcity, wind'].tolist()[0] - 7] = 0.011/3.6\n",
    "\n",
    "B [B_df_org.index[B_df_org.iloc[:, 0] == 'b6f010fb-a764-3063-af2d-bcb8309a97b7'].tolist()[0] - 10,\n",
    "  B_df_org.T.index[B_df_org.iloc[0, :] == 'Electricity, solar'].tolist()[0] - 7] = 0.045/3.6\n",
    "\n",
    "B [B_df_org.index[B_df_org.iloc[:, 0] == 'b6f010fb-a764-3063-af2d-bcb8309a97b7'].tolist()[0] - 10,\n",
    "  B_df_org.T.index[B_df_org.iloc[0, :] == 'Electricity, hydropower'].tolist()[0] - 7] = 0.0065/3.6\n",
    "\n",
    "B [B_df_org.index[B_df_org.iloc[:, 0] == 'b6f010fb-a764-3063-af2d-bcb8309a97b7'].tolist()[0] - 10,\n",
    "  B_df_org.T.index[B_df_org.iloc[0, :] == 'Electrcity, biopower'].tolist()[0] - 7] = 0.039/3.6\n",
    "\n",
    "B [B_df_org.index[B_df_org.iloc[:, 0] == 'b6f010fb-a764-3063-af2d-bcb8309a97b7'].tolist()[0] - 10,\n",
    "  B_df_org.T.index[B_df_org.iloc[0, :] == 'Electrcity, geothermal'].tolist()[0] - 7] = 0.045/3.6\n",
    "\n",
    "B [B_df_org.index[B_df_org.iloc[:, 0] == 'b6f010fb-a764-3063-af2d-bcb8309a97b7'].tolist()[0] - 10,\n",
    "  B_df_org.T.index[B_df_org.iloc[0, :] == 'Electrcity, ocean energy'].tolist()[0] - 7] = 0.008/3.6"
   ]
  },
  {
   "cell_type": "code",
   "execution_count": 79,
   "id": "3ac33905-3669-47e6-bea7-48eec07c0812",
   "metadata": {},
   "outputs": [
    {
     "data": {
      "text/plain": [
       "0.12777777777777777"
      ]
     },
     "execution_count": 79,
     "metadata": {},
     "output_type": "execute_result"
    }
   ],
   "source": [
    "B [B_df_org.index[B_df_org.iloc[:, 0] == 'b6f010fb-a764-3063-af2d-bcb8309a97b7'].tolist()[0] - 10,\n",
    "  B_df_org.T.index[B_df_org.iloc[0, :] == 'Electrcity, natural gas '].tolist()[0] - 7]"
   ]
  },
  {
   "cell_type": "code",
   "execution_count": 80,
   "id": "aaeac858-ea5a-4494-84ea-9c4dba1dd7c0",
   "metadata": {},
   "outputs": [
    {
     "data": {
      "text/plain": [
       "1.0"
      ]
     },
     "execution_count": 80,
     "metadata": {},
     "output_type": "execute_result"
    }
   ],
   "source": [
    "C [C_df_org.index[C_df_org.iloc[:, 0] == 'b6f010fb-a764-3063-af2d-bcb8309a97b7'].tolist()[0] - 5,\n",
    "  C_df_org.T.index[C_df_org.iloc[0, :] == '0cbbf9b1-046d-4ee3-9f3c-5e36d1106ea0'].tolist()[0] - 7]"
   ]
  },
  {
   "cell_type": "code",
   "execution_count": 81,
   "id": "27a64ebb-ccf6-4e4b-8bd3-7d90c6f8228b",
   "metadata": {},
   "outputs": [],
   "source": [
    "C_gwp_wo_seq= np.transpose(C)[[0]]\n",
    "coef_GWP_wo_seq=C_gwp_wo_seq@B\n",
    "coef_GWP_wo_seq=np.array(coef_GWP_wo_seq)\n",
    "coef_GWP_wo_seq = coef_GWP_wo_seq.reshape(-1)"
   ]
  },
  {
   "cell_type": "markdown",
   "id": "9b1829a2-54cd-40d3-bcb5-360f339bb6a4",
   "metadata": {},
   "source": [
    "### All decision variables"
   ]
  },
  {
   "cell_type": "code",
   "execution_count": 85,
   "id": "a062e78b-c7c5-444f-8ba7-99071450f588",
   "metadata": {},
   "outputs": [
    {
     "data": {
      "text/plain": [
       "{'Problem': [{'Name': 'x135', 'Lower bound': 45625469248.24501, 'Upper bound': 45625469248.24501, 'Number of objectives': 1, 'Number of constraints': 171, 'Number of variables': 135, 'Number of binary variables': 0, 'Number of integer variables': 0, 'Number of continuous variables': 135, 'Number of nonzeros': 568, 'Sense': 'minimize'}], 'Solver': [{'Status': 'ok', 'Return code': '0', 'Message': 'Model was solved to optimality (subject to tolerances), and an optimal solution is available.', 'Termination condition': 'optimal', 'Termination message': 'Model was solved to optimality (subject to tolerances), and an optimal solution is available.', 'Wall time': '0.01651310920715332', 'Error rc': 0, 'Time': 0.13471198081970215}], 'Solution': [OrderedDict([('number of solutions', 0), ('number of solutions displayed', 0)])]}"
      ]
     },
     "execution_count": 85,
     "metadata": {},
     "output_type": "execute_result"
    }
   ],
   "source": [
    "#Model Formulation\n",
    "# Create the model\n",
    "model = ConcreteModel()\n",
    "# List of processes with negative scaling factor due to open loop recovery and substitution approach\n",
    "negative_s_indices = []\n",
    "positive_s_indices = []\n",
    "all_s_indices = []\n",
    "\n",
    "search_elements_zero = [\n",
    "'PET fiber production from sorted PET waste']\n",
    "\n",
    "\n",
    "search_elements_zero_or_negative = [\n",
    "'PET fiber production from sorted PET waste',\n",
    "'Sawn lumber, hardwood, planed, kiln dried, at planer mill, SE',\n",
    "'Asphalt binder, 3.5% styrene-butadiene-styrene (SBS), consumption mix, at terminal, from crude oil, 3.5% styrene-butadiene-styrene',\n",
    "'sodium sulfate (carbon footprint process)',\n",
    "'Bark, hardwood, average, at forest road, NE-NC',\n",
    "'Lignite coal, at surface mine']\n",
    "\n",
    "search_elements_zero_or_positive = [\n",
    "'use & collection',\n",
    "'large, flexible, mono-layer plastic packaging production',\n",
    "'large, flexible, multi-layer plastic packaging production',\n",
    "'large, rigid, mono-layer plastic packaging production',\n",
    "'large, rigid, multi-layer plastic packaging production',\n",
    "'small format plastic packaging production',\n",
    "'HDPE production',\n",
    "'LDPE production',\n",
    "'PP production',\n",
    "'PET production',\n",
    "'PS production',\n",
    "'PVC production',\n",
    "'Electrcity, natural gas ',\n",
    "'Electrcity, coal',\n",
    "'Electrcity, oil',\n",
    "'Electrcity, nuclear',\n",
    "'Electrcity, wind',\n",
    "'Electricity, solar',\n",
    "'Electricity, hydropower',\n",
    "'Electrcity, biopower',\n",
    "'Electrcity, geothermal',\n",
    "'Electrcity, ocean energy',\n",
    "'bio-cyclohexa-2,5-diene-1,4-dicarboxylate production',\n",
    "'advanced recycling, delamination, multi-layer plastic packaging',\n",
    "'advanced recycling, STRAP, multi-layer plastic packaging',\n",
    "'bio-EG production (monomer)',\n",
    "'bio-ethanol production from corn',\n",
    "'bio-ethylene oxide production',\n",
    "'bio-ethylene production (monomer)',\n",
    "'bio-muconic acid production',\n",
    "'bio-propylene production (monomer)',\n",
    "'bio-PTA production (monomer)',\n",
    "'bio-styrene production (monomer)',\n",
    "'bio-vinyl chloride production (monomer)',\n",
    "'Bituminous coal, at mine',\n",
    "'Carbon monoxide, at plant',\n",
    "'High-tech MRF',\n",
    "'Low-tech MRF',\n",
    "'Med-tech MRF',\n",
    "'chemical recycling with metal oxide, PS sorted',\n",
    "'depolymerization, enzymatic hyrdrolysis, PET sorted',\n",
    "'depolymerization, glycolysis, PET sorted',\n",
    "'pyrolysis (monomer production), HDPE sorted',\n",
    "'pyrolysis (monomer production), LDPE sorted',\n",
    "'pyrolysis (monomer production), PP sorted',\n",
    "'pyrolysis, feedstock recycling, mixed plastic waste, sorted',\n",
    "'PET fiber production from sorted PET waste',\n",
    "'plastic lumber production from sorted mixed plastic waste',\n",
    "'road pavement production from sorted mixed plastic waste',\n",
    "'cement clinker, mixed plastic packaging, sorted',\n",
    "'incineration, electricity recovery, plastic packaging waste',\n",
    "'incineration, electricity recovery, plastic residues',\n",
    "'landfill, plastic packaging waste',\n",
    "'landfill, plastic residues',\n",
    "'mechanical recycling, HDPE sorted',\n",
    "'mechanical recycling, LDPE sorted',\n",
    "'mechanical recycling, PET sorted',\n",
    "'mechanical recycling, PP sorted',\n",
    "'mechanical recycling, PS sorted',\n",
    "'mechanical recycling, PVC sorted',\n",
    "'fossil-EG production (monomer)',\n",
    "'fossil-PTA production (monomer)',\n",
    "'fossil-ethylene production (monomer)',\n",
    "'fossil-propylene production (monomer)',\n",
    "'fossil-styrene production (monomer)',\n",
    "'fossil-vinyl chloride production (monomer)'\n",
    "]\n",
    "\n",
    "#Search for elements in the first row of the DataFrame\n",
    "negative_s_indices = [A_df_org.iloc[0,:].tolist().index(elem) for elem in search_elements_zero_or_negative]\n",
    "negative_s_indices = [i-9 for i in negative_s_indices]\n",
    "positive_s_indices = [A_df_org.iloc[0,:].tolist().index(elem) for elem in search_elements_zero_or_positive]\n",
    "positive_s_indices = [i-9 for i in positive_s_indices]\n",
    "zero_s_indices = [A_df_org.iloc[0,:].tolist().index(elem) for elem in search_elements_zero]\n",
    "zero_s_indices = [i-9 for i in zero_s_indices]\n",
    "\n",
    "\n",
    "# Define the decision variable\n",
    "model.set_s = RangeSet(len(np.transpose(A)))\n",
    "model.s = Var(model.set_s)\n",
    "#model.set_negative_scale = Set(initialize=negative_s_indices)\n",
    "model.set_positive_scale = Set(initialize=positive_s_indices)\n",
    "model.set_zero_scale = Set(initialize=zero_s_indices)\n",
    "\n",
    "\n",
    "e = 0.0000001\n",
    "#model constraint: As = f and s>=0\n",
    "model.set_balance = RangeSet(len(f))\n",
    "def balance(model, p): # As = f\n",
    "    return sum(A[p-1,i-1]*model.s[i] for i in model.set_s) == f[p-1]\n",
    "def negative_scale(model, i):\n",
    "    return (model.s[i]<=0)\n",
    "def positive_scale(model, i):\n",
    "    return (model.s[i]>=e)\n",
    "def zero_scale(model, i):\n",
    "    return (model.s[i]==e)\n",
    "\n",
    "model.balance_constraints = Constraint(model.set_balance, rule=balance)\n",
    "#model.negative_scale_constraints = Constraint(model.set_negative_scale, rule=negative_scale)\n",
    "model.positive_scale_constraints = Constraint(model.set_positive_scale, rule=positive_scale)\n",
    "model.zero_scale_constraints = Constraint(model.set_zero_scale, rule=zero_scale)\n",
    "\n",
    "\n",
    "model.obj = Objective(expr = sum(coef_GWP_wo_seq[i-1]*model.s[i] for i in model.set_s), sense=minimize)\n",
    "#Solver\n",
    "solver = SolverFactory('gurobi')\n",
    "solver.solve(model) # solves and updates instance"
   ]
  },
  {
   "cell_type": "code",
   "execution_count": 86,
   "id": "a20f1d11-cae7-4b57-82d4-44b5d30801fe",
   "metadata": {},
   "outputs": [],
   "source": [
    "#total CO2 emission (kg CO2eq)\n",
    "GWP_best_wo_seq = value(model.obj)"
   ]
  },
  {
   "cell_type": "code",
   "execution_count": 87,
   "id": "b4c8c409-95e8-4ea7-9101-b532ac6c0091",
   "metadata": {},
   "outputs": [
    {
     "data": {
      "text/plain": [
       "45625469248.24501"
      ]
     },
     "execution_count": 87,
     "metadata": {},
     "output_type": "execute_result"
    }
   ],
   "source": [
    "GWP_best_wo_seq"
   ]
  },
  {
   "cell_type": "code",
   "execution_count": 88,
   "id": "4d77ce7e-e354-4098-83ce-cfc66bab5042",
   "metadata": {},
   "outputs": [],
   "source": [
    "#kg CO2 eq per kg of packaging product\n",
    "GWP_best_wo_seq_per_kg = value(model.obj)/168450000000 "
   ]
  },
  {
   "cell_type": "code",
   "execution_count": 89,
   "id": "cff6d779-9e30-40cf-8059-390a0da8fd6e",
   "metadata": {},
   "outputs": [
    {
     "data": {
      "text/plain": [
       "0.27085467051496"
      ]
     },
     "execution_count": 89,
     "metadata": {},
     "output_type": "execute_result"
    }
   ],
   "source": [
    "GWP_best_wo_seq_per_kg"
   ]
  },
  {
   "cell_type": "code",
   "execution_count": 90,
   "id": "19b40490-9bec-49f5-976f-63def7e4d4dc",
   "metadata": {},
   "outputs": [],
   "source": [
    "scaling_factors_wo_seq = []\n",
    "for j in model.s:\n",
    "    scaling_factors_wo_seq.append(model.s[j].value)  "
   ]
  },
  {
   "cell_type": "code",
   "execution_count": 91,
   "id": "3143ffc0-05f6-422d-b08b-48be7e00ab61",
   "metadata": {},
   "outputs": [
    {
     "data": {
      "text/plain": [
       "[1e-07, 13975300538.592825, 1e-07, 1e-07]"
      ]
     },
     "execution_count": 91,
     "metadata": {},
     "output_type": "execute_result"
    }
   ],
   "source": [
    "#1. monomer production\n",
    "#ethylene\n",
    "ethylene_s_indices = []\n",
    "scaling_factors_ethylene = []\n",
    "search_elements_ethylene = [\n",
    "    'bio-ethylene production (monomer)',\n",
    "    'fossil-ethylene production (monomer)',\n",
    "    'pyrolysis (monomer production), HDPE sorted',\n",
    "    'pyrolysis (monomer production), LDPE sorted'\n",
    "]\n",
    "ethylene_s_indices = [A_df_org.iloc[0,:].tolist().index(elem) for elem in search_elements_ethylene]\n",
    "ethylene_s_indices = [i-9 for i in ethylene_s_indices]\n",
    "for j in ethylene_s_indices:\n",
    "    scaling_factors_ethylene.append(model.s[j].value)\n",
    "scaling_factors_ethylene"
   ]
  },
  {
   "cell_type": "code",
   "execution_count": 92,
   "id": "dc549593-ae1d-4e32-b702-7ef4514beec8",
   "metadata": {},
   "outputs": [
    {
     "data": {
      "text/plain": [
       "[1e-07, 617816677.582713, 1e-07]"
      ]
     },
     "execution_count": 92,
     "metadata": {},
     "output_type": "execute_result"
    }
   ],
   "source": [
    "#propylene\n",
    "propylene_s_indices = []\n",
    "scaling_factors_propylene = []\n",
    "search_elements_propylene = [\n",
    "    'bio-propylene production (monomer)',\n",
    "    'fossil-propylene production (monomer)',\n",
    "    'pyrolysis (monomer production), PP sorted',\n",
    "]\n",
    "propylene_s_indices = [A_df_org.iloc[0,:].tolist().index(elem) for elem in search_elements_propylene]\n",
    "propylene_s_indices = [i-9 for i in propylene_s_indices]\n",
    "for j in propylene_s_indices:\n",
    "    scaling_factors_propylene.append(model.s[j].value)\n",
    "scaling_factors_propylene   "
   ]
  },
  {
   "cell_type": "code",
   "execution_count": 93,
   "id": "cb7c8d86-52d8-44d8-9f83-2b95d2e3fed6",
   "metadata": {},
   "outputs": [
    {
     "data": {
      "text/plain": [
       "[1e-07, 2985904507.0878606, 1e-07, 1e-07]"
      ]
     },
     "execution_count": 93,
     "metadata": {},
     "output_type": "execute_result"
    }
   ],
   "source": [
    "#MEG\n",
    "MEG_s_indices = []\n",
    "scaling_factors_MEG = []\n",
    "search_elements_MEG = [\n",
    "    'bio-EG production (monomer)',\n",
    "    'fossil-EG production (monomer)',\n",
    "    'depolymerization, enzymatic hyrdrolysis, PET sorted',\n",
    "    'depolymerization, glycolysis, PET sorted'\n",
    "]\n",
    "MEG_s_indices = [A_df_org.iloc[0,:].tolist().index(elem) for elem in search_elements_MEG]\n",
    "MEG_s_indices = [i-9 for i in MEG_s_indices]\n",
    "for j in MEG_s_indices:\n",
    "    scaling_factors_MEG.append(model.s[j].value)\n",
    "scaling_factors_MEG   "
   ]
  },
  {
   "cell_type": "code",
   "execution_count": 94,
   "id": "0e5e2e96-5161-4c7c-a0bc-2b452c44de40",
   "metadata": {},
   "outputs": [
    {
     "data": {
      "text/plain": [
       "[1688756840.8414583, 1e-07, 1e-07]"
      ]
     },
     "execution_count": 94,
     "metadata": {},
     "output_type": "execute_result"
    }
   ],
   "source": [
    "#styrene\n",
    "styrene_s_indices = []\n",
    "scaling_factors_styrene = []\n",
    "search_elements_styrene = [\n",
    "    'bio-styrene production (monomer)',\n",
    "    'fossil-styrene production (monomer)',\n",
    "    'chemical recycling with metal oxide, PS sorted',\n",
    "]\n",
    "styrene_s_indices = [A_df_org.iloc[0,:].tolist().index(elem) for elem in search_elements_styrene]\n",
    "styrene_s_indices = [i-9 for i in styrene_s_indices]\n",
    "for j in styrene_s_indices:\n",
    "    scaling_factors_styrene.append(model.s[j].value)\n",
    "scaling_factors_styrene "
   ]
  },
  {
   "cell_type": "code",
   "execution_count": 95,
   "id": "63735c7d-dfe9-4373-acd4-a9a5011e92c5",
   "metadata": {},
   "outputs": [
    {
     "data": {
      "text/plain": [
       "[578502596.1822492, 1e-07]"
      ]
     },
     "execution_count": 95,
     "metadata": {},
     "output_type": "execute_result"
    }
   ],
   "source": [
    "#vinyl chloride\n",
    "vinyl_chloride_s_indices = []\n",
    "scaling_factors_vinyl_chloride = []\n",
    "search_elements_vinyl_chloride = [\n",
    "    'bio-vinyl chloride production (monomer)',\n",
    "    'fossil-vinyl chloride production (monomer)',\n",
    "]\n",
    "vinyl_chloride_s_indices = [A_df_org.iloc[0,:].tolist().index(elem) for elem in search_elements_vinyl_chloride]\n",
    "vinyl_chloride_s_indices = [i-9 for i in vinyl_chloride_s_indices]\n",
    "for j in vinyl_chloride_s_indices:\n",
    "    scaling_factors_vinyl_chloride.append(model.s[j].value)\n",
    "scaling_factors_vinyl_chloride  "
   ]
  },
  {
   "cell_type": "code",
   "execution_count": 96,
   "id": "0a2db99b-f456-4213-9e84-408e99398af8",
   "metadata": {},
   "outputs": [
    {
     "data": {
      "text/plain": [
       "[188192339.99999902, 1e-07, 6456698222.681562, 26814375192.7485]"
      ]
     },
     "execution_count": 96,
     "metadata": {},
     "output_type": "execute_result"
    }
   ],
   "source": [
    "# 2. polymers\n",
    "#polyethylene\n",
    "scaling_factors_polyethylene = []\n",
    "polyethylene_s_indices = []\n",
    "search_elements_polyethylene = [\n",
    "    'advanced recycling, STRAP, multi-layer plastic packaging',\n",
    "    'advanced recycling, delamination, multi-layer plastic packaging',\n",
    "    'LDPE production',\n",
    "    'mechanical recycling, LDPE sorted'\n",
    "]\n",
    "polyethylene_s_indices = [A_df_org.iloc[0,:].tolist().index(elem) for elem in search_elements_polyethylene]\n",
    "polyethylene_s_indices = [i-9 for i in polyethylene_s_indices]\n",
    "for j in polyethylene_s_indices:\n",
    "    scaling_factors_polyethylene.append(model.s[j].value)\n",
    "scaling_factors_polyethylene"
   ]
  },
  {
   "cell_type": "code",
   "execution_count": 97,
   "id": "380a4bc7-53c0-4ddf-8c1a-49dec425a1e7",
   "metadata": {},
   "outputs": [
    {
     "data": {
      "text/plain": [
       "[1e-07, 1.752294545e-05, 1e-07, 1e-07]"
      ]
     },
     "execution_count": 97,
     "metadata": {},
     "output_type": "execute_result"
    }
   ],
   "source": [
    "#polyethylene\n",
    "scaling_factors_polyethylene = []\n",
    "polyethylene_s_indices = []\n",
    "search_elements_polyethylene = [\n",
    "    'advanced recycling, delamination, multi-layer plastic packaging',\n",
    "    'advanced recycling, STRAP, multi-layer plastic packaging',\n",
    "    'HDPE production',\n",
    "    'mechanical recycling, HDPE sorted'\n",
    "]\n",
    "polyethylene_s_indices = [A_df_org.iloc[0,:].tolist().index(elem) for elem in search_elements_polyethylene]\n",
    "polyethylene_s_indices = [i-3 for i in polyethylene_s_indices]\n",
    "for j in polyethylene_s_indices:\n",
    "    scaling_factors_polyethylene.append(model.s[j].value)\n",
    "scaling_factors_polyethylene"
   ]
  },
  {
   "cell_type": "code",
   "execution_count": 98,
   "id": "e7bfe0bc-29a9-47bc-9eec-d44b478089fb",
   "metadata": {},
   "outputs": [
    {
     "data": {
      "text/plain": [
       "[1e-07, 188192339.99999902, 9983212384.287064, 38386721832.027]"
      ]
     },
     "execution_count": 98,
     "metadata": {},
     "output_type": "execute_result"
    }
   ],
   "source": [
    "#polypropylene\n",
    "scaling_factors_polypropylene = []\n",
    "polypropylene_s_indices = []\n",
    "search_elements_polypropylene = [\n",
    "    'advanced recycling, delamination, multi-layer plastic packaging',\n",
    "    'advanced recycling, STRAP, multi-layer plastic packaging',\n",
    "    'PP production',\n",
    "    'mechanical recycling, PP sorted'\n",
    "]\n",
    "polypropylene_s_indices = [A_df_org.iloc[0,:].tolist().index(elem) for elem in search_elements_polypropylene]\n",
    "polypropylene_s_indices = [i-9 for i in polypropylene_s_indices]\n",
    "for j in polypropylene_s_indices:\n",
    "    scaling_factors_polypropylene.append(model.s[j].value)\n",
    "scaling_factors_polypropylene"
   ]
  },
  {
   "cell_type": "code",
   "execution_count": 99,
   "id": "37b0695f-4a01-4ca6-b2a2-dad4bda8a2ac",
   "metadata": {},
   "outputs": [
    {
     "data": {
      "text/plain": [
       "[1e-07, 188192339.99999902, 8649781306.743553, 29197631480.53097]"
      ]
     },
     "execution_count": 99,
     "metadata": {},
     "output_type": "execute_result"
    }
   ],
   "source": [
    "#polyethylene terephthalate\n",
    "scaling_factors_PET = []\n",
    "PET_s_indices = []\n",
    "search_elements_PET = [\n",
    "    'advanced recycling, delamination, multi-layer plastic packaging',\n",
    "    'advanced recycling, STRAP, multi-layer plastic packaging',\n",
    "    'PET production',\n",
    "    'mechanical recycling, PET sorted'\n",
    "]\n",
    "PET_s_indices = [A_df_org.iloc[0,:].tolist().index(elem) for elem in search_elements_PET]\n",
    "PET_s_indices = [i-9 for i in PET_s_indices]\n",
    "for j in PET_s_indices:\n",
    "    scaling_factors_PET.append(model.s[j].value)\n",
    "scaling_factors_PET"
   ]
  },
  {
   "cell_type": "code",
   "execution_count": 100,
   "id": "0a95a4ac-7ba2-4452-93cd-e0ea4813be23",
   "metadata": {},
   "outputs": [
    {
     "data": {
      "text/plain": [
       "[1e-07, 188192339.99999902, 1712735132.699248, 6585684505.610024]"
      ]
     },
     "execution_count": 100,
     "metadata": {},
     "output_type": "execute_result"
    }
   ],
   "source": [
    "#polystyrene terephthalate\n",
    "scaling_factors_PS = []\n",
    "PS_s_indices = []\n",
    "search_elements_PS = [\n",
    "    'advanced recycling, delamination, multi-layer plastic packaging',\n",
    "    'advanced recycling, STRAP, multi-layer plastic packaging',\n",
    "    'PS production',\n",
    "    'mechanical recycling, PS sorted'\n",
    "]\n",
    "PS_s_indices = [A_df_org.iloc[0,:].tolist().index(elem) for elem in search_elements_PS]\n",
    "PS_s_indices = [i-9 for i in PS_s_indices]\n",
    "for j in PS_s_indices:\n",
    "    scaling_factors_PS.append(model.s[j].value)\n",
    "scaling_factors_PS"
   ]
  },
  {
   "cell_type": "code",
   "execution_count": 101,
   "id": "511367a2-a526-451f-8afc-55188349f472",
   "metadata": {},
   "outputs": [
    {
     "data": {
      "text/plain": [
       "[1e-07, 188192339.99999902, 580243326.1607316, 2509178.1319714095]"
      ]
     },
     "execution_count": 101,
     "metadata": {},
     "output_type": "execute_result"
    }
   ],
   "source": [
    "#polyvinyl chloride\n",
    "scaling_factors_PVC = []\n",
    "PVC_s_indices = []\n",
    "search_elements_PVC = [\n",
    "    'advanced recycling, delamination, multi-layer plastic packaging',\n",
    "    'advanced recycling, STRAP, multi-layer plastic packaging',\n",
    "    'PVC production',\n",
    "    'mechanical recycling, PVC sorted'\n",
    "]\n",
    "PVC_s_indices = [A_df_org.iloc[0,:].tolist().index(elem) for elem in search_elements_PVC]\n",
    "PVC_s_indices = [i-9 for i in PVC_s_indices]\n",
    "for j in PVC_s_indices:\n",
    "    scaling_factors_PVC.append(model.s[j].value)\n",
    "scaling_factors_PVC"
   ]
  },
  {
   "cell_type": "code",
   "execution_count": 102,
   "id": "700d2b08-31c5-4cf7-82b3-390734a3c56f",
   "metadata": {},
   "outputs": [
    {
     "data": {
      "text/plain": [
       "[1e-07, 1e-07, 160027500000.0, 1e-07, 1e-07]"
      ]
     },
     "execution_count": 102,
     "metadata": {},
     "output_type": "execute_result"
    }
   ],
   "source": [
    "#3. mixed plastic collected waste (sorting, energy recovery, landfill, mismanaged)\n",
    "\n",
    "scaling_factors_mixed = []\n",
    "mixed_s_indices = []\n",
    "search_elements_mixed = [\n",
    "    'incineration, electricity recovery, plastic packaging waste',\n",
    "    'landfill, plastic packaging waste',\n",
    "    'High-tech MRF',\n",
    "    'Med-tech MRF',\n",
    "    'Low-tech MRF',\n",
    "]\n",
    "mixed_s_indices = [A_df_org.iloc[0,:].tolist().index(elem) for elem in search_elements_mixed]\n",
    "mixed_s_indices = [i-9 for i in mixed_s_indices]\n",
    "for j in mixed_s_indices:\n",
    "    scaling_factors_mixed.append(model.s[j].value)\n",
    "scaling_factors_mixed"
   ]
  },
  {
   "cell_type": "code",
   "execution_count": 103,
   "id": "38c74eca-d207-41b7-8881-76f40f083160",
   "metadata": {},
   "outputs": [
    {
     "data": {
      "text/plain": [
       "[1e-07, 1e-07, 1e-07, 1e-07, -1.8874893912999998e-07]"
      ]
     },
     "execution_count": 103,
     "metadata": {},
     "output_type": "execute_result"
    }
   ],
   "source": [
    "#4. mixed plastic waste, sorted (sorting, energy recovery, landfill, mismanaged)\n",
    "\n",
    "scaling_factors_mixed = []\n",
    "mixed_s_indices = []\n",
    "search_elements_mixed = [\n",
    "    'cement clinker, mixed plastic packaging, sorted',\n",
    "    'plastic lumber production from sorted mixed plastic waste',\n",
    "    'pyrolysis, feedstock recycling, mixed plastic waste, sorted',\n",
    "    'PET fiber production from sorted PET waste',\n",
    "    'road pavement production from sorted mixed plastic waste'\n",
    "]\n",
    "mixed_s_indices = [A_df_org.iloc[0,:].tolist().index(elem) for elem in search_elements_mixed]\n",
    "mixed_s_indices = [i-9 for i in mixed_s_indices]\n",
    "for j in mixed_s_indices:\n",
    "    scaling_factors_mixed.append(model.s[j].value)\n",
    "scaling_factors_mixed"
   ]
  },
  {
   "cell_type": "code",
   "execution_count": 104,
   "id": "4339653f-4b16-4edc-8800-38337d464c92",
   "metadata": {},
   "outputs": [
    {
     "data": {
      "text/plain": [
       "[24017538114.78965, 1e-07]"
      ]
     },
     "execution_count": 104,
     "metadata": {},
     "output_type": "execute_result"
    }
   ],
   "source": [
    "#5. Plastic residues\n",
    "scaling_factors_mixed = []\n",
    "mixed_s_indices = []\n",
    "search_elements_mixed = [\n",
    "    'landfill, plastic residues',\n",
    "    'incineration, electricity recovery, plastic residues'\n",
    "]\n",
    "mixed_s_indices = [A_df_org.iloc[0,:].tolist().index(elem) for elem in search_elements_mixed]\n",
    "mixed_s_indices = [i-9 for i in mixed_s_indices]\n",
    "for j in mixed_s_indices:\n",
    "    scaling_factors_mixed.append(model.s[j].value)\n",
    "scaling_factors_mixed"
   ]
  },
  {
   "cell_type": "code",
   "execution_count": 105,
   "id": "a3aee24e-5b1f-44d5-baca-b5227bfeb692",
   "metadata": {},
   "outputs": [
    {
     "data": {
      "text/plain": [
       "[1e-07,\n",
       " 1e-07,\n",
       " 1e-07,\n",
       " 1e-07,\n",
       " 1e-07,\n",
       " 1e-07,\n",
       " 661907101356.5931,\n",
       " 1e-07,\n",
       " 1e-07,\n",
       " 1e-07]"
      ]
     },
     "execution_count": 105,
     "metadata": {},
     "output_type": "execute_result"
    }
   ],
   "source": [
    "#6. Energy Grid\n",
    "scaling_factors_mixed = []\n",
    "mixed_s_indices = []\n",
    "search_elements_mixed = [\n",
    "        'Electrcity, natural gas ',\n",
    "        'Electrcity, coal',\n",
    "        'Electrcity, oil',\n",
    "        'Electrcity, nuclear',\n",
    "        'Electrcity, wind',\n",
    "        'Electricity, solar',\n",
    "        'Electricity, hydropower',\n",
    "        'Electrcity, biopower',\n",
    "        'Electrcity, geothermal',\n",
    "        'Electrcity, ocean energy']\n",
    "mixed_s_indices = [A_df_org.iloc[0,:].tolist().index(elem) for elem in search_elements_mixed]\n",
    "mixed_s_indices = [i-9 for i in mixed_s_indices]\n",
    "for j in mixed_s_indices:\n",
    "    scaling_factors_mixed.append(model.s[j].value)\n",
    "scaling_factors_mixed"
   ]
  },
  {
   "cell_type": "markdown",
   "id": "a90112d1-cb67-4005-a09e-42d65bcadfaf",
   "metadata": {
    "tags": []
   },
   "source": [
    "# Scenario 6: All"
   ]
  },
  {
   "cell_type": "markdown",
   "id": "632a5c8a-fbf7-4465-874a-271c325ae9fe",
   "metadata": {},
   "source": [
    "## b:  Electricity generation UUIDs in USLCI"
   ]
  },
  {
   "cell_type": "code",
   "execution_count": 13,
   "id": "8d2bdc66-2bae-440c-a499-d261dcf8826c",
   "metadata": {},
   "outputs": [],
   "source": [
    "electricity_processes = ['Electrcity, solar photovoltatic',\n",
    "                         'Electricity',\n",
    "                         'Electricity, at cogen, for natural gas turbine',\n",
    "                         'Electricity, at Grid, US, 2010',\n",
    "                         'Electricity, biomass, at power plant',\n",
    "                         'Electricity, bituminous coal, at power plant',\n",
    "                         'Electricity, concentrated solar power (CSP)',\n",
    "                         'Electricity, diesel, at power plant',\n",
    "                         'Electricity, Eastern US, 2014',\n",
    "                         'Electricity, lignite coal, at power plant',\n",
    "                         'Electricity, natural gas, at power plant',\n",
    "                         'Electricity, nuclear, at power plant',\n",
    "                         'Electricity, residual fuel oil, at power plant',\n",
    "                         'Electricity, solar'\n",
    "                            ]"
   ]
  },
  {
   "cell_type": "code",
   "execution_count": 14,
   "id": "e21882f8-0348-4bd0-a1bf-eff5de877fe5",
   "metadata": {},
   "outputs": [],
   "source": [
    "#finding columns in A with electricity generation\n",
    "store_index_electricity_A_col = []\n",
    "stored_index_A = 0\n",
    "for i in range(len(A_df_org.T)):\n",
    "    if str(A_df_org.iloc[0, i]) in electricity_processes:\n",
    "        stored_index_A = i\n",
    "        store_index_electricity_A_col.append(stored_index_A)"
   ]
  },
  {
   "cell_type": "code",
   "execution_count": 15,
   "id": "76b86492-8118-4d50-93d6-b3f86e6788ea",
   "metadata": {},
   "outputs": [],
   "source": [
    "#finding rows in A with electricity generation\n",
    "store_index_electricity_A_row = []\n",
    "stored_index_A = 0\n",
    "for i in range(len(A_df_org)):\n",
    "    if str(A_df_org.iloc[i, 0]) in electricity_processes:\n",
    "        stored_index_A = i\n",
    "        store_index_electricity_A_row.append(stored_index_A)"
   ]
  },
  {
   "cell_type": "code",
   "execution_count": 16,
   "id": "b6dbe826-933f-485d-8ade-ac83454883d2",
   "metadata": {},
   "outputs": [],
   "source": [
    "#finding columns in B with electricity generation\n",
    "store_index_electricity_B = []\n",
    "stored_index_B = 0\n",
    "for i in range(len(B_df_org.T)):\n",
    "    if str(B_df_org.iloc[0, i]) in electricity_processes:\n",
    "        stored_index_B = i\n",
    "        store_index_electricity_B.append(stored_index_B)"
   ]
  },
  {
   "cell_type": "markdown",
   "id": "bcc58507-7dfb-44e3-a073-cd5f5444c40a",
   "metadata": {},
   "source": [
    "### Removing corresponding electricity columns from A and B"
   ]
  },
  {
   "cell_type": "code",
   "execution_count": 17,
   "id": "ff55ac13-59a7-4f17-accc-37155686ea8d",
   "metadata": {},
   "outputs": [],
   "source": [
    "A_df_org = A_df_org.drop(A_df_org.columns[store_index_electricity_A_col], axis=1)\n",
    "B_df_org = B_df_org.drop(B_df_org.columns[store_index_electricity_B], axis=1)"
   ]
  },
  {
   "cell_type": "markdown",
   "id": "a9357f57-b156-41d2-9bad-ebc531a30a6c",
   "metadata": {},
   "source": [
    "### Aggregating all electricity flows in each process"
   ]
  },
  {
   "cell_type": "code",
   "execution_count": 18,
   "id": "e6a7a2ec-0d99-47d3-9264-d124c035677b",
   "metadata": {},
   "outputs": [],
   "source": [
    "electricity_sums = np.sum(np.array(A_df_org.loc[store_index_electricity_A_row].iloc[:, 10:].replace(np.nan, 0), dtype=float), axis=0)"
   ]
  },
  {
   "cell_type": "code",
   "execution_count": 19,
   "id": "3151de36-4e41-458c-8c69-a7f6ec3a0690",
   "metadata": {},
   "outputs": [],
   "source": [
    "# Reset index and drop the old index\n",
    "A_df_org_tr = A_df_org.T.reset_index(drop=True)"
   ]
  },
  {
   "cell_type": "code",
   "execution_count": 20,
   "id": "2721c23b-0e85-461e-aef8-bae515b9bba2",
   "metadata": {
    "tags": []
   },
   "outputs": [],
   "source": [
    "A_df_org = A_df_org_tr.T"
   ]
  },
  {
   "cell_type": "code",
   "execution_count": 21,
   "id": "405a7dea-d46f-4875-b59a-b735e1a716dc",
   "metadata": {},
   "outputs": [],
   "source": [
    "# Reset index and drop the old index\n",
    "B_df_org_tr = B_df_org.T.reset_index(drop=True)"
   ]
  },
  {
   "cell_type": "code",
   "execution_count": 22,
   "id": "973f5b51-1e6f-4986-a0bb-019c36439c21",
   "metadata": {
    "tags": []
   },
   "outputs": [],
   "source": [
    "B_df_org = B_df_org_tr.T"
   ]
  },
  {
   "cell_type": "markdown",
   "id": "573e281f-1531-457a-97fd-94cec2ec48d2",
   "metadata": {},
   "source": [
    "### Removing electricity rows from A"
   ]
  },
  {
   "cell_type": "code",
   "execution_count": 23,
   "id": "e7508f0c-13f4-4476-b07e-c32db40b8afa",
   "metadata": {},
   "outputs": [],
   "source": [
    "A_df_org = A_df_org.drop(A_df_org.columns[store_index_electricity_A_row], axis=0)"
   ]
  },
  {
   "cell_type": "markdown",
   "id": "bbbfefdd-b302-4e43-9852-1956b7766c56",
   "metadata": {
    "tags": []
   },
   "source": [
    "### Add new electricity rows and columns"
   ]
  },
  {
   "cell_type": "code",
   "execution_count": 24,
   "id": "e1adebbf-d1d5-442e-b645-bded1845dd26",
   "metadata": {},
   "outputs": [],
   "source": [
    "new_elec = [\n",
    "        'Electrcity, natural gas ',\n",
    "        'Electrcity, coal',\n",
    "        'Electrcity, oil',\n",
    "        'Electrcity, nuclear',\n",
    "        'Electrcity, wind',\n",
    "        'Electricity, solar',\n",
    "        'Electricity, hydropower',\n",
    "        'Electrcity, biopower',\n",
    "        'Electrcity, geothermal',\n",
    "        'Electrcity, ocean energy']\n",
    "\n",
    "new_elec_row = ['Electricity']"
   ]
  },
  {
   "cell_type": "code",
   "execution_count": 25,
   "id": "e4fde15a-b579-4906-aaea-7d4a9957a5dc",
   "metadata": {},
   "outputs": [],
   "source": [
    "# Append new rows in A\n",
    "\n",
    "# Convert new_elec to a DataFrame\n",
    "new_elec_df = pd.DataFrame(new_elec_row) \n",
    "\n",
    "# Append new_elec to the first row\n",
    "A_df_org = pd.concat([A_df_org, new_elec_df], ignore_index=True)"
   ]
  },
  {
   "cell_type": "code",
   "execution_count": 26,
   "id": "cea16b92-54cf-4df9-8269-64a55995a41e",
   "metadata": {},
   "outputs": [],
   "source": [
    "# Append new columns in A\n",
    "for elec in new_elec:\n",
    "    A_df_org[elec] = None  # Create a new column with None values\n",
    "\n",
    "# Set the first row of each new column to the corresponding value\n",
    "for idx, elec in enumerate(new_elec):\n",
    "    A_df_org.at[0, elec] = elec  # Set the value in the first row"
   ]
  },
  {
   "cell_type": "code",
   "execution_count": 27,
   "id": "d7a1a9f1-76b6-4e78-b673-195c4498df06",
   "metadata": {},
   "outputs": [],
   "source": [
    "# Append new columns in B\n",
    "for elec in new_elec:\n",
    "    B_df_org[elec] = None  # Create a new column with None values\n",
    "\n",
    "# Set the first row of each new column to the corresponding value\n",
    "for idx, elec in enumerate(new_elec):\n",
    "    B_df_org.at[0, elec] = elec  # Set the value in the first row"
   ]
  },
  {
   "cell_type": "code",
   "execution_count": 28,
   "id": "8fae271b-d246-46c7-b1f5-4c3e9d179d43",
   "metadata": {},
   "outputs": [],
   "source": [
    "# Reset index and drop the old index\n",
    "A_df_org_tr = A_df_org.T.reset_index(drop=True)"
   ]
  },
  {
   "cell_type": "code",
   "execution_count": 29,
   "id": "c7fe1ab2-cf82-4e1c-8d70-3277f1df01d2",
   "metadata": {
    "tags": []
   },
   "outputs": [],
   "source": [
    "A_df_org = A_df_org_tr.T"
   ]
  },
  {
   "cell_type": "code",
   "execution_count": 30,
   "id": "6ce30851-a73b-4413-bef9-96976f5568cd",
   "metadata": {},
   "outputs": [],
   "source": [
    "# Reset index and drop the old index\n",
    "B_df_org_tr = B_df_org.T.reset_index(drop=True)"
   ]
  },
  {
   "cell_type": "code",
   "execution_count": 31,
   "id": "6cfd8b66-56df-4d9e-b5ec-048b5497fedf",
   "metadata": {
    "tags": []
   },
   "outputs": [],
   "source": [
    "B_df_org = B_df_org_tr.T"
   ]
  },
  {
   "cell_type": "code",
   "execution_count": 32,
   "id": "88cb2479-c78d-4c8f-b2ca-99bf717f431d",
   "metadata": {},
   "outputs": [],
   "source": [
    "A_df_org.reset_index(drop=True, inplace=True)"
   ]
  },
  {
   "cell_type": "code",
   "execution_count": 33,
   "id": "68046b0c-4f24-42c2-a2ba-2b5341356e56",
   "metadata": {},
   "outputs": [],
   "source": [
    "A_df_org.to_csv('A_df_org_electricity.csv', index=False)\n",
    "B_df_org.to_csv('B_df_org_electricity.csv', index=False)"
   ]
  },
  {
   "cell_type": "markdown",
   "id": "6c5a7830-4470-4ad8-bd18-8a61d198ac1d",
   "metadata": {},
   "source": [
    "## c: Electrification (skip this for optimization w/o electrification)"
   ]
  },
  {
   "cell_type": "code",
   "execution_count": 34,
   "id": "2e6b96ff-1d72-40fb-aa30-2ce7458cb6f2",
   "metadata": {},
   "outputs": [],
   "source": [
    "heat_processes = [\n",
    "    'Bituminous coal, combusted in industrial boiler',\n",
    "    'Diesel, combusted in industrial boiler',\n",
    "    'Heat',\n",
    "    'Heat, onsite boiler, hardwood mill, average, SE',\n",
    "    'Heat, onsite boiler, hardwood mill, average, SE',\n",
    "    'Lignite coal, combusted in industrial boiler',\n",
    "    'Liquefied petroleum gas, combusted in industrial boiler',\n",
    "    'Residual fuel oil, combusted in industrial boiler',\n",
    "    'Wood fuel, hardwood, generated at lumber mill, combusted in industrial boiler, SE',\n",
    "    'Wood fuel, hardwood, purchased, combusted in industrial boiler, SE',\n",
    "    'Wood waste, unspecified, combusted in industrial boiler',\n",
    "    'Natural gas, combusted in industrial boiler',\n",
    "    'Natural gas, combusted in industrial boiler, at hydrocracker, for ethylene',\n",
    "    'Natural gas, combusted in industrial boiler, at hydrocracker, for pyrolysis gas',\n",
    "    'Wood fuel, unspecified'\n",
    "]"
   ]
  },
  {
   "cell_type": "code",
   "execution_count": 35,
   "id": "8c52db6f-60a2-4ce2-80a2-1ec63e5e36b2",
   "metadata": {},
   "outputs": [],
   "source": [
    "Mj_per_unit = [23.9, 37.4, 1, 1, 1, 23.9, 26, 37, 16, 16, 16, 40, 40, 40, 16]"
   ]
  },
  {
   "cell_type": "code",
   "execution_count": 36,
   "id": "8656bceb-b318-47f6-b5a1-bc6abab32db1",
   "metadata": {},
   "outputs": [],
   "source": [
    "boiler_efficiency = [0.81, 0.83, 1, 0.7, 0.7, 0.81, 0.82, 0.83, 0.7, 0.7, 0.7, 0.75, 0.75, 0.75, 0.7]"
   ]
  },
  {
   "cell_type": "code",
   "execution_count": 37,
   "id": "2ff8898a-1416-4c2e-a5eb-abd26286fc49",
   "metadata": {},
   "outputs": [],
   "source": [
    "#step 1: identify all heat columns in A and B\n",
    "#finding columns in A with electricity generation\n",
    "store_index_heat_A_col = []\n",
    "stored_index_A = 0\n",
    "for i in range(len(A_df_org.T)):\n",
    "    if str(A_df_org.iloc[0, i]) in heat_processes:\n",
    "        stored_index_A = i\n",
    "        store_index_heat_A_col.append(stored_index_A)"
   ]
  },
  {
   "cell_type": "code",
   "execution_count": 38,
   "id": "de93fcbf-79d2-4003-862f-1de3fb3fa2e1",
   "metadata": {},
   "outputs": [],
   "source": [
    "#finding rows in A with electricity generation\n",
    "store_index_heat_A_row = []\n",
    "stored_index_A = 0\n",
    "for i in range(len(A_df_org)):\n",
    "    if str(A_df_org.iloc[i, 0]) in heat_processes:\n",
    "        stored_index_A = i\n",
    "        store_index_heat_A_row.append(stored_index_A)"
   ]
  },
  {
   "cell_type": "code",
   "execution_count": 39,
   "id": "6d0ac505-a3bd-4d74-a6a5-4fbccef90d87",
   "metadata": {},
   "outputs": [],
   "source": [
    "#finding columns in B with electricity generation\n",
    "#finding columns in B with electricity generation\n",
    "store_index_heat_B = []\n",
    "stored_index_B = 0\n",
    "for i in range(len(B_df_org.T)):\n",
    "    if str(B_df_org.iloc[0, i]) in heat_processes:\n",
    "        stored_index_B = i\n",
    "        store_index_heat_B.append(stored_index_B)"
   ]
  },
  {
   "cell_type": "code",
   "execution_count": 40,
   "id": "2f8d055d-bb48-403b-a8eb-a62ac0e81475",
   "metadata": {},
   "outputs": [],
   "source": [
    "#Step 2: Remove heat columns from A and B\n",
    "A_df_org = A_df_org.drop(A_df_org.columns[store_index_heat_A_col], axis=1)\n",
    "B_df_org = B_df_org.drop(B_df_org.columns[store_index_heat_B], axis=1)"
   ]
  },
  {
   "cell_type": "code",
   "execution_count": 41,
   "id": "471cdda3-23c1-46bb-bbbc-5dbb59570bbc",
   "metadata": {},
   "outputs": [],
   "source": [
    "X = np.array(Mj_per_unit) * np.array(boiler_efficiency)\n",
    "Y = np.array(A_df_org.loc[store_index_heat_A_row].iloc[:, 10:].replace(np.nan, 0), dtype=float)"
   ]
  },
  {
   "cell_type": "code",
   "execution_count": 42,
   "id": "9fdee56e-4108-428b-94fb-158915ce6826",
   "metadata": {},
   "outputs": [],
   "source": [
    "#Step 3: aggregate heat rows from A and B and convert them to absolute heat needed\n",
    "heat_sums = []\n",
    "heat_sums = np.transpose(Y)@X"
   ]
  },
  {
   "cell_type": "code",
   "execution_count": 43,
   "id": "eb040663-f8ab-4699-a425-8cc578ffb7a0",
   "metadata": {},
   "outputs": [],
   "source": [
    "# Reset index and drop the old index\n",
    "A_df_org_tr = A_df_org.T.reset_index(drop=True)"
   ]
  },
  {
   "cell_type": "code",
   "execution_count": 44,
   "id": "8a4b9c37-1b34-4b1b-9fe0-cef5a9739c49",
   "metadata": {},
   "outputs": [],
   "source": [
    "A_df_org = A_df_org_tr.T"
   ]
  },
  {
   "cell_type": "code",
   "execution_count": 45,
   "id": "a88ab826-ba85-48be-bbfb-bbb7617be9a5",
   "metadata": {},
   "outputs": [],
   "source": [
    "# Reset index and drop the old index\n",
    "B_df_org_tr = B_df_org.T.reset_index(drop=True)"
   ]
  },
  {
   "cell_type": "code",
   "execution_count": 46,
   "id": "fe3479ea-5dd6-48c8-8a20-9c09f668d500",
   "metadata": {},
   "outputs": [],
   "source": [
    "B_df_org = B_df_org_tr.T"
   ]
  },
  {
   "cell_type": "code",
   "execution_count": 47,
   "id": "8bb2cc77-f66f-4bb9-bca0-63ce18eebe16",
   "metadata": {},
   "outputs": [],
   "source": [
    "A_df_org = A_df_org.drop(A_df_org.columns[store_index_heat_A_row], axis=0)"
   ]
  },
  {
   "cell_type": "code",
   "execution_count": 48,
   "id": "325fc0c1-1ce2-497a-a7f3-7ebf3d72bde9",
   "metadata": {},
   "outputs": [],
   "source": [
    "# Reset index and drop the old index\n",
    "A_df_org_tr = A_df_org.T.reset_index(drop=True)"
   ]
  },
  {
   "cell_type": "code",
   "execution_count": 49,
   "id": "8031864c-b12b-4d41-a834-9bff2c36e737",
   "metadata": {},
   "outputs": [],
   "source": [
    "A_df_org = A_df_org_tr.T"
   ]
  },
  {
   "cell_type": "code",
   "execution_count": 50,
   "id": "32c41a1d-b3f1-40fb-9390-e01c7df68877",
   "metadata": {},
   "outputs": [],
   "source": [
    "# Reset index and drop the old index\n",
    "B_df_org_tr = B_df_org.T.reset_index(drop=True)"
   ]
  },
  {
   "cell_type": "code",
   "execution_count": 51,
   "id": "df487916-6f49-4a42-bd56-cb149a2c3879",
   "metadata": {},
   "outputs": [],
   "source": [
    "B_df_org = B_df_org_tr.T"
   ]
  },
  {
   "cell_type": "code",
   "execution_count": 52,
   "id": "a3b9991d-94bf-47c8-9035-2a01871da6dd",
   "metadata": {},
   "outputs": [],
   "source": [
    "A_df_org.reset_index(drop=True, inplace=True)"
   ]
  },
  {
   "cell_type": "code",
   "execution_count": 53,
   "id": "3fe61af8-a9d9-4752-a912-4b3b6686718a",
   "metadata": {},
   "outputs": [],
   "source": [
    "update_store_index_heat_A_row = [x-10 for x in store_index_heat_A_row]"
   ]
  },
  {
   "cell_type": "code",
   "execution_count": 54,
   "id": "7837861c-44a4-49c5-9285-9bb26142e29f",
   "metadata": {},
   "outputs": [],
   "source": [
    "electricity_sums = np.delete(electricity_sums,update_store_index_heat_A_row)"
   ]
  },
  {
   "cell_type": "code",
   "execution_count": 55,
   "id": "49f1c71f-f7f1-4b8c-9fc7-9afbdd9bbf7d",
   "metadata": {},
   "outputs": [],
   "source": [
    "for i in range(len(heat_sums)-len(electricity_sums)):\n",
    "    electricity_sums = np.append(electricity_sums, 0)"
   ]
  },
  {
   "cell_type": "code",
   "execution_count": 56,
   "id": "00c28468-e661-4624-9086-0c6c5195a4d4",
   "metadata": {},
   "outputs": [],
   "source": [
    "A_df_org.to_csv('A_df_org_heat.csv', index=False)\n",
    "B_df_org.to_csv('B_df_org_heat.csv', index=False)"
   ]
  },
  {
   "cell_type": "markdown",
   "id": "ac98e30c-0b32-4893-949e-0bdd4f002a6e",
   "metadata": {},
   "source": [
    "## Generation of A, B, and C"
   ]
  },
  {
   "cell_type": "code",
   "execution_count": 57,
   "id": "4931e523-0ffd-4645-87c2-053950846ef9",
   "metadata": {},
   "outputs": [],
   "source": [
    "A_df = copy.copy(A_df_org)\n",
    "B_df = copy.copy(B_df_org)"
   ]
  },
  {
   "cell_type": "code",
   "execution_count": 58,
   "id": "c7e74b4f-ce01-458c-aebf-6a5fe1f395f5",
   "metadata": {},
   "outputs": [],
   "source": [
    "#Building A matrix\n",
    "# Step 1: Delete the first 10 columns\n",
    "A_df = A_df.drop(A_df.columns[:10], axis=1)\n",
    "\n",
    "# Step 2: Delete the first 10 rows (first row is heading, so put 3)\n",
    "A_df = A_df.iloc[10:]\n",
    "\n",
    "#Replacing empty values with zero and getting the final A matrix\n",
    "A=A_df\n",
    "A=A.replace(np.nan, 0)\n",
    "A=np.array(A,dtype='float64')"
   ]
  },
  {
   "cell_type": "code",
   "execution_count": 59,
   "id": "cbd300db-0775-4dc6-bdc6-9a1c33f46f47",
   "metadata": {},
   "outputs": [
    {
     "data": {
      "text/plain": [
       "(103, 134)"
      ]
     },
     "execution_count": 59,
     "metadata": {},
     "output_type": "execute_result"
    }
   ],
   "source": [
    "A.shape"
   ]
  },
  {
   "cell_type": "code",
   "execution_count": 60,
   "id": "f8cec167-a1fb-4a31-9321-87b912d43d6d",
   "metadata": {},
   "outputs": [],
   "source": [
    "# Building B matrix\n",
    "# Step 1: Delete the first 7 columns\n",
    "B_df = B_df.drop(B_df.columns[:7], axis=1)\n",
    "\n",
    "# Step 2: Delete the first 10 rows (first row is heading, so put 3)\n",
    "B_df = B_df.iloc[10:]\n",
    "\n",
    "# Replacing empty values with zero\n",
    "B_df = B_df.replace(np.nan, 0)\n",
    "\n",
    "# Converting all elements to float, handling empty strings and stripping whitespace\n",
    "def convert_to_float(x):\n",
    "    if isinstance(x, str):\n",
    "        x = x.strip()  # Remove any leading/trailing whitespace\n",
    "        if x == '':  # Handle empty strings\n",
    "            return 0.0\n",
    "        try:\n",
    "            return float(x)\n",
    "        except ValueError:\n",
    "            return 0.0  # Or raise an error if you want to catch non-numeric strings\n",
    "    return x\n",
    "\n",
    "B_df = B_df.applymap(convert_to_float)\n",
    "\n",
    "# Converting to a NumPy array\n",
    "B = np.array(B_df, dtype=float)"
   ]
  },
  {
   "cell_type": "code",
   "execution_count": 61,
   "id": "e9201f37-2f30-43c8-a8d4-f19e9f014597",
   "metadata": {},
   "outputs": [
    {
     "data": {
      "text/plain": [
       "(1044, 134)"
      ]
     },
     "execution_count": 61,
     "metadata": {},
     "output_type": "execute_result"
    }
   ],
   "source": [
    "B.shape"
   ]
  },
  {
   "cell_type": "code",
   "execution_count": 62,
   "id": "e7fa8886-b5d1-4921-a0cf-6de3a498193b",
   "metadata": {},
   "outputs": [],
   "source": [
    "#Building C matrix\n",
    "# Step 1: Delete the first 7 columns\n",
    "C_df = C_df.drop(C_df.columns[:7], axis=1)\n",
    "\n",
    "# Step 2: Delete the first 5 rows (first row is heading, so put 3)\n",
    "C_df = C_df.iloc[5:]\n",
    "\n",
    "#Replacing empty values with zero and getting the final B matrix\n",
    "C=C_df\n",
    "C=C.replace(np.nan, 0)\n",
    "C=np.array(C,dtype='float64')"
   ]
  },
  {
   "cell_type": "code",
   "execution_count": 63,
   "id": "70ea6984-ee5f-4244-8028-7b9e038d2571",
   "metadata": {},
   "outputs": [],
   "source": [
    "#Functional Unit\n",
    "# F = 168.450 million metric tons = 168,450,000 metric tons = 168,450,000,000 kg\n",
    "F=168450000000\n",
    "F=int(F)\n",
    "#defining f matrix\n",
    "f=np.zeros(len(A))\n",
    "f[0]=F"
   ]
  },
  {
   "cell_type": "markdown",
   "id": "5dcf6720-a7b4-429b-a042-a382fb5862fe",
   "metadata": {},
   "source": [
    "## Implementing values in A"
   ]
  },
  {
   "cell_type": "code",
   "execution_count": 64,
   "id": "f5abea72-55ab-4bc7-be96-262d2dac9e51",
   "metadata": {},
   "outputs": [],
   "source": [
    "\n",
    "for i in range(len(electricity_sums)):\n",
    "    A [A_df_org.index[A_df_org.iloc[:, 0] == 'Electricity'].tolist()[0] - 10,i] = electricity_sums[i] + heat_sums [i]"
   ]
  },
  {
   "cell_type": "code",
   "execution_count": 65,
   "id": "9db7126b-0966-4519-be2a-6b0934d0e2f4",
   "metadata": {},
   "outputs": [],
   "source": [
    "for i in range(len(electricity_sums)):\n",
    "    A [A_df_org.index[A_df_org.iloc[:, 0] == 'Electricity'].tolist()[0] - 10,i] = electricity_sums[i] "
   ]
  },
  {
   "cell_type": "code",
   "execution_count": 66,
   "id": "0056495e-b9cc-4c2b-a37a-090c468e6656",
   "metadata": {},
   "outputs": [
    {
     "data": {
      "text/plain": [
       "134"
      ]
     },
     "execution_count": 66,
     "metadata": {},
     "output_type": "execute_result"
    }
   ],
   "source": [
    "len(electricity_sums)"
   ]
  },
  {
   "cell_type": "code",
   "execution_count": 67,
   "id": "e830b982-e796-4444-aedf-60326f2024d9",
   "metadata": {},
   "outputs": [
    {
     "data": {
      "text/plain": [
       "134"
      ]
     },
     "execution_count": 67,
     "metadata": {},
     "output_type": "execute_result"
    }
   ],
   "source": [
    "len(np.transpose(A))"
   ]
  },
  {
   "cell_type": "code",
   "execution_count": 68,
   "id": "35774011-0ed2-4c1c-aa4b-b58fc16955b5",
   "metadata": {},
   "outputs": [],
   "source": [
    "A [A_df_org.index[A_df_org.iloc[:, 0] == 'Electricity'].tolist()[0] - 10,\n",
    "           A_df_org.T.index[A_df_org.T.iloc[:, 0] == 'Electrcity, natural gas '].tolist()[0] - 10] = 1"
   ]
  },
  {
   "cell_type": "code",
   "execution_count": 69,
   "id": "92b03995-2b13-42a9-a1f7-b49017f080af",
   "metadata": {},
   "outputs": [],
   "source": [
    "A [A_df_org.index[A_df_org.iloc[:, 0] == 'Electricity'].tolist()[0] - 10,\n",
    "           A_df_org.T.index[A_df_org.T.iloc[:, 0] == 'Electrcity, coal'].tolist()[0] - 10] = 1"
   ]
  },
  {
   "cell_type": "code",
   "execution_count": 70,
   "id": "3c003b4f-27db-428c-90d8-8e43d9ca2ca0",
   "metadata": {},
   "outputs": [],
   "source": [
    "A [A_df_org.index[A_df_org.iloc[:, 0] == 'Electricity'].tolist()[0] - 10,\n",
    "           A_df_org.T.index[A_df_org.T.iloc[:, 0] == 'Electrcity, oil'].tolist()[0] - 10] = 1"
   ]
  },
  {
   "cell_type": "code",
   "execution_count": 71,
   "id": "eec8055d-b83f-4404-8101-f2181467cd6a",
   "metadata": {},
   "outputs": [],
   "source": [
    "A [A_df_org.index[A_df_org.iloc[:, 0] == 'Electricity'].tolist()[0] - 10,\n",
    "           A_df_org.T.index[A_df_org.T.iloc[:, 0] == 'Electrcity, nuclear'].tolist()[0] - 10] = 1"
   ]
  },
  {
   "cell_type": "code",
   "execution_count": 72,
   "id": "b47474f5-0a10-4ba2-bf57-da8f34e69a82",
   "metadata": {},
   "outputs": [],
   "source": [
    "A [A_df_org.index[A_df_org.iloc[:, 0] == 'Electricity'].tolist()[0] - 10,\n",
    "           A_df_org.T.index[A_df_org.T.iloc[:, 0] == 'Electrcity, wind'].tolist()[0] - 10] = 1"
   ]
  },
  {
   "cell_type": "code",
   "execution_count": 73,
   "id": "a546b976-0bcf-4c4e-89fd-29d9f453a3af",
   "metadata": {},
   "outputs": [],
   "source": [
    "A [A_df_org.index[A_df_org.iloc[:, 0] == 'Electricity'].tolist()[0] - 10,\n",
    "           A_df_org.T.index[A_df_org.T.iloc[:, 0] == 'Electricity, solar'].tolist()[0] - 10] = 1"
   ]
  },
  {
   "cell_type": "code",
   "execution_count": 74,
   "id": "347de54a-860a-4711-9328-355597d12d59",
   "metadata": {},
   "outputs": [],
   "source": [
    "A [A_df_org.index[A_df_org.iloc[:, 0] == 'Electricity'].tolist()[0] - 10,\n",
    "           A_df_org.T.index[A_df_org.T.iloc[:, 0] == 'Electricity, hydropower'].tolist()[0] - 10] = 1"
   ]
  },
  {
   "cell_type": "code",
   "execution_count": 75,
   "id": "e7cda6f2-39bf-476f-aea7-2b0b412cbfe0",
   "metadata": {},
   "outputs": [],
   "source": [
    "A [A_df_org.index[A_df_org.iloc[:, 0] == 'Electricity'].tolist()[0] - 10,\n",
    "           A_df_org.T.index[A_df_org.T.iloc[:, 0] == 'Electrcity, biopower'].tolist()[0] - 10] = 1"
   ]
  },
  {
   "cell_type": "code",
   "execution_count": 76,
   "id": "821ab01f-4432-4433-b1ff-81aa85dee770",
   "metadata": {},
   "outputs": [],
   "source": [
    "A [A_df_org.index[A_df_org.iloc[:, 0] == 'Electricity'].tolist()[0] - 10,\n",
    "           A_df_org.T.index[A_df_org.T.iloc[:, 0] == 'Electrcity, geothermal'].tolist()[0] - 10] = 1"
   ]
  },
  {
   "cell_type": "code",
   "execution_count": 77,
   "id": "4e9ac9e8-ecf2-492a-866b-6103d095c70d",
   "metadata": {},
   "outputs": [],
   "source": [
    "A [A_df_org.index[A_df_org.iloc[:, 0] == 'Electricity'].tolist()[0] - 10,\n",
    "           A_df_org.T.index[A_df_org.T.iloc[:, 0] == 'Electrcity, ocean energy'].tolist()[0] - 10] = 1"
   ]
  },
  {
   "cell_type": "code",
   "execution_count": 78,
   "id": "389fcb6f-7b73-4ba3-adde-3acdc16a7f2d",
   "metadata": {},
   "outputs": [],
   "source": [
    "B [B_df_org.index[B_df_org.iloc[:, 0] == 'b6f010fb-a764-3063-af2d-bcb8309a97b7'].tolist()[0] - 10,\n",
    "  B_df_org.T.index[B_df_org.iloc[0, :] == 'Electrcity, natural gas '].tolist()[0] - 7] = 0.460/3.6\n",
    "\n",
    "B [B_df_org.index[B_df_org.iloc[:, 0] == 'b6f010fb-a764-3063-af2d-bcb8309a97b7'].tolist()[0] - 10,\n",
    "  B_df_org.T.index[B_df_org.iloc[0, :] == 'Electrcity, coal'].tolist()[0] - 7] = 1/3.6\n",
    "\n",
    "B [B_df_org.index[B_df_org.iloc[:, 0] == 'b6f010fb-a764-3063-af2d-bcb8309a97b7'].tolist()[0] - 10,\n",
    "  B_df_org.T.index[B_df_org.iloc[0, :] == 'Electrcity, oil'].tolist()[0] - 7] = 0.841/3.6\n",
    "\n",
    "B [B_df_org.index[B_df_org.iloc[:, 0] == 'b6f010fb-a764-3063-af2d-bcb8309a97b7'].tolist()[0] - 10,\n",
    "  B_df_org.T.index[B_df_org.iloc[0, :] == 'Electrcity, nuclear'].tolist()[0] - 7] = 0.016/3.6\n",
    "\n",
    "B [B_df_org.index[B_df_org.iloc[:, 0] == 'b6f010fb-a764-3063-af2d-bcb8309a97b7'].tolist()[0] - 10,\n",
    "  B_df_org.T.index[B_df_org.iloc[0, :] == 'Electrcity, wind'].tolist()[0] - 7] = 0.011/3.6\n",
    "\n",
    "B [B_df_org.index[B_df_org.iloc[:, 0] == 'b6f010fb-a764-3063-af2d-bcb8309a97b7'].tolist()[0] - 10,\n",
    "  B_df_org.T.index[B_df_org.iloc[0, :] == 'Electricity, solar'].tolist()[0] - 7] = 0.045/3.6\n",
    "\n",
    "B [B_df_org.index[B_df_org.iloc[:, 0] == 'b6f010fb-a764-3063-af2d-bcb8309a97b7'].tolist()[0] - 10,\n",
    "  B_df_org.T.index[B_df_org.iloc[0, :] == 'Electricity, hydropower'].tolist()[0] - 7] = 0.0065/3.6\n",
    "\n",
    "B [B_df_org.index[B_df_org.iloc[:, 0] == 'b6f010fb-a764-3063-af2d-bcb8309a97b7'].tolist()[0] - 10,\n",
    "  B_df_org.T.index[B_df_org.iloc[0, :] == 'Electrcity, biopower'].tolist()[0] - 7] = 0.039/3.6\n",
    "\n",
    "B [B_df_org.index[B_df_org.iloc[:, 0] == 'b6f010fb-a764-3063-af2d-bcb8309a97b7'].tolist()[0] - 10,\n",
    "  B_df_org.T.index[B_df_org.iloc[0, :] == 'Electrcity, geothermal'].tolist()[0] - 7] = 0.045/3.6\n",
    "\n",
    "B [B_df_org.index[B_df_org.iloc[:, 0] == 'b6f010fb-a764-3063-af2d-bcb8309a97b7'].tolist()[0] - 10,\n",
    "  B_df_org.T.index[B_df_org.iloc[0, :] == 'Electrcity, ocean energy'].tolist()[0] - 7] = 0.008/3.6"
   ]
  },
  {
   "cell_type": "code",
   "execution_count": 81,
   "id": "3e45f577-b88f-4986-a47d-286a581e6f42",
   "metadata": {},
   "outputs": [],
   "source": [
    "A [A_df_org.index[A_df_org.iloc[:, 0] == 'polyester fiber from PET'].tolist()[0] - 10,\n",
    "           A_df_org.T.index[A_df_org.T.iloc[:, 0] == 'PET fiber production from sorted PET waste'].tolist()[0] - 10]=0"
   ]
  },
  {
   "cell_type": "code",
   "execution_count": 97,
   "id": "8db148c8-49fc-4cdf-bf2b-f922bc50b94e",
   "metadata": {},
   "outputs": [],
   "source": [
    "A [A_df_org.index[A_df_org.iloc[:, 0] == 'Sawn lumber, hardwood, planed, kiln dried, at planer mill, SE'].tolist()[0] - 10,\n",
    "           A_df_org.T.index[A_df_org.T.iloc[:, 0] == 'plastic lumber production from sorted mixed plastic waste'].tolist()[0] - 10]=0"
   ]
  },
  {
   "cell_type": "code",
   "execution_count": 100,
   "id": "fc671adc-3065-4176-8175-4235848f4fe5",
   "metadata": {},
   "outputs": [],
   "source": [
    "A [A_df_org.index[A_df_org.iloc[:, 0] == 'Asphalt binder, 3.5% styrene-butadiene-styrene (SBS), consumption mix, at terminal, from crude oil, 3.5% styrene-butadiene-styrene'].tolist()[0] - 10,\n",
    "           A_df_org.T.index[A_df_org.T.iloc[:, 0] == 'road pavement production from sorted mixed plastic waste'].tolist()[0] - 10]=0"
   ]
  },
  {
   "cell_type": "code",
   "execution_count": 101,
   "id": "4fb01c46-d373-4a77-af2d-e69b667bc0ad",
   "metadata": {},
   "outputs": [],
   "source": [
    "C_gwp_wo_seq= np.transpose(C)[[0]]\n",
    "coef_GWP_wo_seq=C_gwp_wo_seq@B\n",
    "coef_GWP_wo_seq=np.array(coef_GWP_wo_seq)\n",
    "coef_GWP_wo_seq = coef_GWP_wo_seq.reshape(-1)"
   ]
  },
  {
   "cell_type": "markdown",
   "id": "b2173f62-a0db-4564-93d7-5366788c5ca1",
   "metadata": {},
   "source": [
    "### All decision variables"
   ]
  },
  {
   "cell_type": "code",
   "execution_count": 126,
   "id": "f8159726-4263-488a-afd4-db79272f36ea",
   "metadata": {},
   "outputs": [
    {
     "data": {
      "text/plain": [
       "{'Problem': [{'Name': 'x135', 'Lower bound': 45625469248.24513, 'Upper bound': 45625469248.24513, 'Number of objectives': 1, 'Number of constraints': 170, 'Number of variables': 135, 'Number of binary variables': 0, 'Number of integer variables': 0, 'Number of continuous variables': 135, 'Number of nonzeros': 564, 'Sense': 'minimize'}], 'Solver': [{'Status': 'ok', 'Return code': '0', 'Message': 'Model was solved to optimality (subject to tolerances), and an optimal solution is available.', 'Termination condition': 'optimal', 'Termination message': 'Model was solved to optimality (subject to tolerances), and an optimal solution is available.', 'Wall time': '0.01229095458984375', 'Error rc': 0, 'Time': 0.2321791648864746}], 'Solution': [OrderedDict([('number of solutions', 0), ('number of solutions displayed', 0)])]}"
      ]
     },
     "execution_count": 126,
     "metadata": {},
     "output_type": "execute_result"
    }
   ],
   "source": [
    "#Model Formulation\n",
    "# Create the model\n",
    "model = ConcreteModel()\n",
    "# List of processes with negative scaling factor due to open loop recovery and substitution approach\n",
    "negative_s_indices = []\n",
    "positive_s_indices = []\n",
    "all_s_indices = []\n",
    "\n",
    "search_elements_zero = [\n",
    "'PET fiber production from sorted PET waste']\n",
    "\n",
    "search_elements_zero_or_negative = [\n",
    "'Sawn lumber, hardwood, planed, kiln dried, at planer mill, SE',\n",
    "'Asphalt binder, 3.5% styrene-butadiene-styrene (SBS), consumption mix, at terminal, from crude oil, 3.5% styrene-butadiene-styrene',\n",
    "'sodium sulfate (carbon footprint process)',\n",
    "'Bark, hardwood, average, at forest road, NE-NC',\n",
    "'Lignite coal, at surface mine']\n",
    "\n",
    "search_elements_zero_or_positive = [\n",
    "'use & collection',\n",
    "'large, flexible, mono-layer plastic packaging production',\n",
    "'large, flexible, multi-layer plastic packaging production',\n",
    "'large, rigid, mono-layer plastic packaging production',\n",
    "'large, rigid, multi-layer plastic packaging production',\n",
    "'small format plastic packaging production',\n",
    "'HDPE production',\n",
    "'LDPE production',\n",
    "'PP production',\n",
    "'PET production',\n",
    "'PS production',\n",
    "'PVC production',\n",
    "'Electrcity, natural gas ',\n",
    "'Electrcity, coal',\n",
    "'Electrcity, oil',\n",
    "'Electrcity, nuclear',\n",
    "'Electrcity, wind',\n",
    "'Electricity, solar',\n",
    "'Electricity, hydropower',\n",
    "'Electrcity, biopower',\n",
    "'Electrcity, geothermal',\n",
    "'Electrcity, ocean energy',\n",
    "'bio-cyclohexa-2,5-diene-1,4-dicarboxylate production',\n",
    "'advanced recycling, delamination, multi-layer plastic packaging',\n",
    "'advanced recycling, STRAP, multi-layer plastic packaging',\n",
    "'bio-EG production (monomer)',\n",
    "'bio-ethanol production from corn',\n",
    "'bio-ethylene oxide production',\n",
    "'bio-ethylene production (monomer)',\n",
    "'bio-muconic acid production',\n",
    "'bio-propylene production (monomer)',\n",
    "'bio-PTA production (monomer)',\n",
    "'bio-styrene production (monomer)',\n",
    "'bio-vinyl chloride production (monomer)',\n",
    "'Bituminous coal, at mine',\n",
    "'Carbon monoxide, at plant',\n",
    "'High-tech MRF',\n",
    "'Low-tech MRF',\n",
    "'Med-tech MRF',\n",
    "'chemical recycling with metal oxide, PS sorted',\n",
    "'depolymerization, enzymatic hyrdrolysis, PET sorted',\n",
    "'depolymerization, glycolysis, PET sorted',\n",
    "'pyrolysis (monomer production), HDPE sorted',\n",
    "'pyrolysis (monomer production), LDPE sorted',\n",
    "'pyrolysis (monomer production), PP sorted',\n",
    "'pyrolysis, feedstock recycling, mixed plastic waste, sorted',\n",
    "'plastic lumber production from sorted mixed plastic waste',\n",
    "'road pavement production from sorted mixed plastic waste',\n",
    "'cement clinker, mixed plastic packaging, sorted',\n",
    "'incineration, electricity recovery, plastic packaging waste',\n",
    "'incineration, electricity recovery, plastic residues',\n",
    "'landfill, plastic packaging waste',\n",
    "'landfill, plastic residues',\n",
    "'mechanical recycling, HDPE sorted',\n",
    "'mechanical recycling, LDPE sorted',\n",
    "'mechanical recycling, PET sorted',\n",
    "'mechanical recycling, PP sorted',\n",
    "'mechanical recycling, PS sorted',\n",
    "'mechanical recycling, PVC sorted',\n",
    "'fossil-EG production (monomer)',\n",
    "'fossil-PTA production (monomer)',\n",
    "'fossil-ethylene production (monomer)',\n",
    "'fossil-propylene production (monomer)',\n",
    "'fossil-styrene production (monomer)',\n",
    "'fossil-vinyl chloride production (monomer)'\n",
    "]\n",
    "\n",
    "#Search for elements in the first row of the DataFrame\n",
    "negative_s_indices = [A_df_org.iloc[0,:].tolist().index(elem) for elem in search_elements_zero_or_negative]\n",
    "negative_s_indices = [i-9 for i in negative_s_indices]\n",
    "positive_s_indices = [A_df_org.iloc[0,:].tolist().index(elem) for elem in search_elements_zero_or_positive]\n",
    "positive_s_indices = [i-9 for i in positive_s_indices]\n",
    "zero_s_indices = [A_df_org.iloc[0,:].tolist().index(elem) for elem in search_elements_zero]\n",
    "zero_s_indices = [i-9 for i in zero_s_indices]\n",
    "\n",
    "\n",
    "# Define the decision variable\n",
    "model.set_s = RangeSet(len(np.transpose(A)))\n",
    "model.s = Var(model.set_s)\n",
    "#model.set_negative_scale = Set(initialize=negative_s_indices)\n",
    "model.set_positive_scale = Set(initialize=positive_s_indices)\n",
    "model.set_zero_scale = Set(initialize=zero_s_indices)\n",
    "\n",
    "\n",
    "e = 0\n",
    "#model constraint: As = f and s>=0\n",
    "model.set_balance = RangeSet(len(f))\n",
    "def balance(model, p): # As = f\n",
    "    return sum(A[p-1,i-1]*model.s[i] for i in model.set_s) == f[p-1]\n",
    "def negative_scale(model, i):\n",
    "    return (model.s[i]<=0)\n",
    "def positive_scale(model, i):\n",
    "    return (model.s[i]>=e)\n",
    "def zero_scale(model, i):\n",
    "    return (model.s[i]==e)\n",
    "\n",
    "model.balance_constraints = Constraint(model.set_balance, rule=balance)\n",
    "#model.negative_scale_constraints = Constraint(model.set_negative_scale, rule=negative_scale)\n",
    "model.positive_scale_constraints = Constraint(model.set_positive_scale, rule=positive_scale)\n",
    "model.zero_scale_constraints = Constraint(model.set_zero_scale, rule=zero_scale)\n",
    "\n",
    "\n",
    "model.obj = Objective(expr = sum(coef_GWP_wo_seq[i-1]*model.s[i] for i in model.set_s), sense=minimize)\n",
    "#Solver\n",
    "solver = SolverFactory('gurobi')\n",
    "solver.solve(model) # solves and updates instance"
   ]
  },
  {
   "cell_type": "code",
   "execution_count": 127,
   "id": "7b4cb0ad-3cd7-489c-a3ea-dc361a5e5927",
   "metadata": {},
   "outputs": [],
   "source": [
    "#total CO2 emission (kg CO2eq)\n",
    "GWP_best_wo_seq = value(model.obj)"
   ]
  },
  {
   "cell_type": "code",
   "execution_count": 128,
   "id": "c7241b2a-f5b6-4c58-89df-bf6d77fac79b",
   "metadata": {},
   "outputs": [
    {
     "data": {
      "text/plain": [
       "45625469248.24513"
      ]
     },
     "execution_count": 128,
     "metadata": {},
     "output_type": "execute_result"
    }
   ],
   "source": [
    "GWP_best_wo_seq"
   ]
  },
  {
   "cell_type": "code",
   "execution_count": 129,
   "id": "02db9108-1c3b-4b48-82d4-fdec62c81ed7",
   "metadata": {},
   "outputs": [],
   "source": [
    "#kg CO2 eq per kg of packaging product\n",
    "GWP_best_wo_seq_per_kg = value(model.obj)/168450000000 "
   ]
  },
  {
   "cell_type": "code",
   "execution_count": 130,
   "id": "471b1ce0-14eb-4ce3-8cc6-58bc3ff9ecf6",
   "metadata": {},
   "outputs": [
    {
     "data": {
      "text/plain": [
       "0.2708546705149607"
      ]
     },
     "execution_count": 130,
     "metadata": {},
     "output_type": "execute_result"
    }
   ],
   "source": [
    "GWP_best_wo_seq_per_kg"
   ]
  },
  {
   "cell_type": "code",
   "execution_count": 131,
   "id": "dd037415-58c8-4fbe-a39a-c53618d61d36",
   "metadata": {},
   "outputs": [],
   "source": [
    "scaling_factors_wo_seq = []\n",
    "for j in model.s:\n",
    "    scaling_factors_wo_seq.append(model.s[j].value)  "
   ]
  },
  {
   "cell_type": "code",
   "execution_count": 132,
   "id": "ce3c521b-e346-4883-8988-ecbddf19e0a2",
   "metadata": {},
   "outputs": [
    {
     "data": {
      "text/plain": [
       "[0.0, 13975300538.592821, 0.0, 0.0]"
      ]
     },
     "execution_count": 132,
     "metadata": {},
     "output_type": "execute_result"
    }
   ],
   "source": [
    "#1. monomer production\n",
    "#ethylene\n",
    "ethylene_s_indices = []\n",
    "scaling_factors_ethylene = []\n",
    "search_elements_ethylene = [\n",
    "    'bio-ethylene production (monomer)',\n",
    "    'fossil-ethylene production (monomer)',\n",
    "    'pyrolysis (monomer production), HDPE sorted',\n",
    "    'pyrolysis (monomer production), LDPE sorted'\n",
    "]\n",
    "ethylene_s_indices = [A_df_org.iloc[0,:].tolist().index(elem) for elem in search_elements_ethylene]\n",
    "ethylene_s_indices = [i-9 for i in ethylene_s_indices]\n",
    "for j in ethylene_s_indices:\n",
    "    scaling_factors_ethylene.append(model.s[j].value)\n",
    "scaling_factors_ethylene"
   ]
  },
  {
   "cell_type": "code",
   "execution_count": 133,
   "id": "281aea8d-1eed-42a4-9b02-c5d458991ebf",
   "metadata": {},
   "outputs": [
    {
     "data": {
      "text/plain": [
       "[0.0, 617816677.5827022, 0.0]"
      ]
     },
     "execution_count": 133,
     "metadata": {},
     "output_type": "execute_result"
    }
   ],
   "source": [
    "#propylene\n",
    "propylene_s_indices = []\n",
    "scaling_factors_propylene = []\n",
    "search_elements_propylene = [\n",
    "    'bio-propylene production (monomer)',\n",
    "    'fossil-propylene production (monomer)',\n",
    "    'pyrolysis (monomer production), PP sorted',\n",
    "]\n",
    "propylene_s_indices = [A_df_org.iloc[0,:].tolist().index(elem) for elem in search_elements_propylene]\n",
    "propylene_s_indices = [i-9 for i in propylene_s_indices]\n",
    "for j in propylene_s_indices:\n",
    "    scaling_factors_propylene.append(model.s[j].value)\n",
    "scaling_factors_propylene   "
   ]
  },
  {
   "cell_type": "code",
   "execution_count": 134,
   "id": "857dd14c-7751-4701-80b0-5c0c407dd589",
   "metadata": {},
   "outputs": [
    {
     "data": {
      "text/plain": [
       "[0.0, 2985904507.0877905, 0.0, 0.0]"
      ]
     },
     "execution_count": 134,
     "metadata": {},
     "output_type": "execute_result"
    }
   ],
   "source": [
    "#MEG\n",
    "MEG_s_indices = []\n",
    "scaling_factors_MEG = []\n",
    "search_elements_MEG = [\n",
    "    'bio-EG production (monomer)',\n",
    "    'fossil-EG production (monomer)',\n",
    "    'depolymerization, enzymatic hyrdrolysis, PET sorted',\n",
    "    'depolymerization, glycolysis, PET sorted'\n",
    "]\n",
    "MEG_s_indices = [A_df_org.iloc[0,:].tolist().index(elem) for elem in search_elements_MEG]\n",
    "MEG_s_indices = [i-9 for i in MEG_s_indices]\n",
    "for j in MEG_s_indices:\n",
    "    scaling_factors_MEG.append(model.s[j].value)\n",
    "scaling_factors_MEG   "
   ]
  },
  {
   "cell_type": "code",
   "execution_count": 135,
   "id": "7598be2b-d94f-451f-b822-17a912141d39",
   "metadata": {},
   "outputs": [
    {
     "data": {
      "text/plain": [
       "[1688756840.8414593, 0.0, 0.0]"
      ]
     },
     "execution_count": 135,
     "metadata": {},
     "output_type": "execute_result"
    }
   ],
   "source": [
    "#styrene\n",
    "styrene_s_indices = []\n",
    "scaling_factors_styrene = []\n",
    "search_elements_styrene = [\n",
    "    'bio-styrene production (monomer)',\n",
    "    'fossil-styrene production (monomer)',\n",
    "    'chemical recycling with metal oxide, PS sorted',\n",
    "]\n",
    "styrene_s_indices = [A_df_org.iloc[0,:].tolist().index(elem) for elem in search_elements_styrene]\n",
    "styrene_s_indices = [i-9 for i in styrene_s_indices]\n",
    "for j in styrene_s_indices:\n",
    "    scaling_factors_styrene.append(model.s[j].value)\n",
    "scaling_factors_styrene "
   ]
  },
  {
   "cell_type": "code",
   "execution_count": 136,
   "id": "af4ba7f2-530c-43f3-ae7f-01d3be1a887e",
   "metadata": {},
   "outputs": [
    {
     "data": {
      "text/plain": [
       "[578502596.1822491, 0.0]"
      ]
     },
     "execution_count": 136,
     "metadata": {},
     "output_type": "execute_result"
    }
   ],
   "source": [
    "#vinyl chloride\n",
    "vinyl_chloride_s_indices = []\n",
    "scaling_factors_vinyl_chloride = []\n",
    "search_elements_vinyl_chloride = [\n",
    "    'bio-vinyl chloride production (monomer)',\n",
    "    'fossil-vinyl chloride production (monomer)',\n",
    "]\n",
    "vinyl_chloride_s_indices = [A_df_org.iloc[0,:].tolist().index(elem) for elem in search_elements_vinyl_chloride]\n",
    "vinyl_chloride_s_indices = [i-9 for i in vinyl_chloride_s_indices]\n",
    "for j in vinyl_chloride_s_indices:\n",
    "    scaling_factors_vinyl_chloride.append(model.s[j].value)\n",
    "scaling_factors_vinyl_chloride  "
   ]
  },
  {
   "cell_type": "code",
   "execution_count": 137,
   "id": "819ebbf0-fe5d-4b34-bf9e-992b646ed9b7",
   "metadata": {},
   "outputs": [
    {
     "data": {
      "text/plain": [
       "[188192340.0, 0.0, 6456698222.681558, 26814375192.7485]"
      ]
     },
     "execution_count": 137,
     "metadata": {},
     "output_type": "execute_result"
    }
   ],
   "source": [
    "# 2. polymers\n",
    "#polyethylene\n",
    "scaling_factors_polyethylene = []\n",
    "polyethylene_s_indices = []\n",
    "search_elements_polyethylene = [\n",
    "    'advanced recycling, STRAP, multi-layer plastic packaging',\n",
    "    'advanced recycling, delamination, multi-layer plastic packaging',\n",
    "    'LDPE production',\n",
    "    'mechanical recycling, LDPE sorted'\n",
    "]\n",
    "polyethylene_s_indices = [A_df_org.iloc[0,:].tolist().index(elem) for elem in search_elements_polyethylene]\n",
    "polyethylene_s_indices = [i-9 for i in polyethylene_s_indices]\n",
    "for j in polyethylene_s_indices:\n",
    "    scaling_factors_polyethylene.append(model.s[j].value)\n",
    "scaling_factors_polyethylene"
   ]
  },
  {
   "cell_type": "code",
   "execution_count": 139,
   "id": "10e75c59-5128-4cf7-a4c0-727abb60cd91",
   "metadata": {},
   "outputs": [
    {
     "data": {
      "text/plain": [
       "[0.0, 188192340.0, 7340555390.756783, 28225369457.71275]"
      ]
     },
     "execution_count": 139,
     "metadata": {},
     "output_type": "execute_result"
    }
   ],
   "source": [
    "#polyethylene\n",
    "scaling_factors_polyethylene = []\n",
    "polyethylene_s_indices = []\n",
    "search_elements_polyethylene = [\n",
    "    'advanced recycling, delamination, multi-layer plastic packaging',\n",
    "    'advanced recycling, STRAP, multi-layer plastic packaging',\n",
    "    'HDPE production',\n",
    "    'mechanical recycling, HDPE sorted'\n",
    "]\n",
    "polyethylene_s_indices = [A_df_org.iloc[0,:].tolist().index(elem) for elem in search_elements_polyethylene]\n",
    "polyethylene_s_indices = [i-9 for i in polyethylene_s_indices]\n",
    "for j in polyethylene_s_indices:\n",
    "    scaling_factors_polyethylene.append(model.s[j].value)\n",
    "scaling_factors_polyethylene"
   ]
  },
  {
   "cell_type": "code",
   "execution_count": 117,
   "id": "94721dd4-e60a-497e-aad9-a14b8abc72e6",
   "metadata": {},
   "outputs": [
    {
     "data": {
      "text/plain": [
       "[0.0, 0.0, 29672055324.770195, 22352339516.157]"
      ]
     },
     "execution_count": 117,
     "metadata": {},
     "output_type": "execute_result"
    }
   ],
   "source": [
    "#polypropylene\n",
    "scaling_factors_polypropylene = []\n",
    "polypropylene_s_indices = []\n",
    "search_elements_polypropylene = [\n",
    "    'advanced recycling, delamination, multi-layer plastic packaging',\n",
    "    'advanced recycling, STRAP, multi-layer plastic packaging',\n",
    "    'PP production',\n",
    "    'mechanical recycling, PP sorted'\n",
    "]\n",
    "polypropylene_s_indices = [A_df_org.iloc[0,:].tolist().index(elem) for elem in search_elements_polypropylene]\n",
    "polypropylene_s_indices = [i-9 for i in polypropylene_s_indices]\n",
    "for j in polypropylene_s_indices:\n",
    "    scaling_factors_polypropylene.append(model.s[j].value)\n",
    "scaling_factors_polypropylene"
   ]
  },
  {
   "cell_type": "code",
   "execution_count": 118,
   "id": "519ad8d1-8ba6-499b-aac8-c0e5998923c0",
   "metadata": {},
   "outputs": [
    {
     "data": {
      "text/plain": [
       "[0.0, 0.0, 23184216877.33904, 17001591710.417252]"
      ]
     },
     "execution_count": 118,
     "metadata": {},
     "output_type": "execute_result"
    }
   ],
   "source": [
    "#polyethylene terephthalate\n",
    "scaling_factors_PET = []\n",
    "PET_s_indices = []\n",
    "search_elements_PET = [\n",
    "    'advanced recycling, delamination, multi-layer plastic packaging',\n",
    "    'advanced recycling, STRAP, multi-layer plastic packaging',\n",
    "    'PET production',\n",
    "    'mechanical recycling, PET sorted'\n",
    "]\n",
    "PET_s_indices = [A_df_org.iloc[0,:].tolist().index(elem) for elem in search_elements_PET]\n",
    "PET_s_indices = [i-9 for i in PET_s_indices]\n",
    "for j in PET_s_indices:\n",
    "    scaling_factors_PET.append(model.s[j].value)\n",
    "scaling_factors_PET"
   ]
  },
  {
   "cell_type": "code",
   "execution_count": 119,
   "id": "69fdfece-a303-4f95-a8b3-5b16dc2d8dea",
   "metadata": {},
   "outputs": [
    {
     "data": {
      "text/plain": [
       "[0.0, 0.0, 5021202870.099344, 3913062690.073875]"
      ]
     },
     "execution_count": 119,
     "metadata": {},
     "output_type": "execute_result"
    }
   ],
   "source": [
    "#polystyrene terephthalate\n",
    "scaling_factors_PS = []\n",
    "PS_s_indices = []\n",
    "search_elements_PS = [\n",
    "    'advanced recycling, delamination, multi-layer plastic packaging',\n",
    "    'advanced recycling, STRAP, multi-layer plastic packaging',\n",
    "    'PS production',\n",
    "    'mechanical recycling, PS sorted'\n",
    "]\n",
    "PS_s_indices = [A_df_org.iloc[0,:].tolist().index(elem) for elem in search_elements_PS]\n",
    "PS_s_indices = [i-9 for i in PS_s_indices]\n",
    "for j in PS_s_indices:\n",
    "    scaling_factors_PS.append(model.s[j].value)\n",
    "scaling_factors_PS"
   ]
  },
  {
   "cell_type": "code",
   "execution_count": 120,
   "id": "c08c3727-93eb-4be5-be3d-f001bca9badf",
   "metadata": {},
   "outputs": [
    {
     "data": {
      "text/plain": [
       "[0.0, 0.0, 2053382851.7244563, 1461078.174929727]"
      ]
     },
     "execution_count": 120,
     "metadata": {},
     "output_type": "execute_result"
    }
   ],
   "source": [
    "#polyvinyl chloride\n",
    "scaling_factors_PVC = []\n",
    "PVC_s_indices = []\n",
    "search_elements_PVC = [\n",
    "    'advanced recycling, delamination, multi-layer plastic packaging',\n",
    "    'advanced recycling, STRAP, multi-layer plastic packaging',\n",
    "    'PVC production',\n",
    "    'mechanical recycling, PVC sorted'\n",
    "]\n",
    "PVC_s_indices = [A_df_org.iloc[0,:].tolist().index(elem) for elem in search_elements_PVC]\n",
    "PVC_s_indices = [i-9 for i in PVC_s_indices]\n",
    "for j in PVC_s_indices:\n",
    "    scaling_factors_PVC.append(model.s[j].value)\n",
    "scaling_factors_PVC"
   ]
  },
  {
   "cell_type": "code",
   "execution_count": 121,
   "id": "4cb665c0-0be2-4f65-9ecb-74df516332bb",
   "metadata": {},
   "outputs": [
    {
     "data": {
      "text/plain": [
       "[0.0, 0.0, 0.0, 160027500000.0, 0.0]"
      ]
     },
     "execution_count": 121,
     "metadata": {},
     "output_type": "execute_result"
    }
   ],
   "source": [
    "#3. mixed plastic collected waste (sorting, energy recovery, landfill, mismanaged)\n",
    "\n",
    "scaling_factors_mixed = []\n",
    "mixed_s_indices = []\n",
    "search_elements_mixed = [\n",
    "    'incineration, electricity recovery, plastic packaging waste',\n",
    "    'landfill, plastic packaging waste',\n",
    "    'High-tech MRF',\n",
    "    'Med-tech MRF',\n",
    "    'Low-tech MRF',\n",
    "]\n",
    "mixed_s_indices = [A_df_org.iloc[0,:].tolist().index(elem) for elem in search_elements_mixed]\n",
    "mixed_s_indices = [i-9 for i in mixed_s_indices]\n",
    "for j in mixed_s_indices:\n",
    "    scaling_factors_mixed.append(model.s[j].value)\n",
    "scaling_factors_mixed"
   ]
  },
  {
   "cell_type": "code",
   "execution_count": 122,
   "id": "e5aa7190-25b4-454c-a37f-0946431be080",
   "metadata": {},
   "outputs": [
    {
     "data": {
      "text/plain": [
       "[0.0, 0.0, 60010312500.0, 0.0, 0.0]"
      ]
     },
     "execution_count": 122,
     "metadata": {},
     "output_type": "execute_result"
    }
   ],
   "source": [
    "#4. mixed plastic waste, sorted (sorting, energy recovery, landfill, mismanaged)\n",
    "\n",
    "scaling_factors_mixed = []\n",
    "mixed_s_indices = []\n",
    "search_elements_mixed = [\n",
    "    'cement clinker, mixed plastic packaging, sorted',\n",
    "    'plastic lumber production from sorted mixed plastic waste',\n",
    "    'pyrolysis, feedstock recycling, mixed plastic waste, sorted',\n",
    "    'PET fiber production from sorted PET waste',\n",
    "    'road pavement production from sorted mixed plastic waste'\n",
    "]\n",
    "mixed_s_indices = [A_df_org.iloc[0,:].tolist().index(elem) for elem in search_elements_mixed]\n",
    "mixed_s_indices = [i-9 for i in mixed_s_indices]\n",
    "for j in mixed_s_indices:\n",
    "    scaling_factors_mixed.append(model.s[j].value)\n",
    "scaling_factors_mixed"
   ]
  },
  {
   "cell_type": "code",
   "execution_count": 123,
   "id": "6a7b0b49-2792-4c22-869f-c0026c83c413",
   "metadata": {},
   "outputs": [
    {
     "data": {
      "text/plain": [
       "[31708127644.980164, 0.0]"
      ]
     },
     "execution_count": 123,
     "metadata": {},
     "output_type": "execute_result"
    }
   ],
   "source": [
    "#5. Plastic residues\n",
    "scaling_factors_mixed = []\n",
    "mixed_s_indices = []\n",
    "search_elements_mixed = [\n",
    "    'landfill, plastic residues',\n",
    "    'incineration, electricity recovery, plastic residues'\n",
    "]\n",
    "mixed_s_indices = [A_df_org.iloc[0,:].tolist().index(elem) for elem in search_elements_mixed]\n",
    "mixed_s_indices = [i-9 for i in mixed_s_indices]\n",
    "for j in mixed_s_indices:\n",
    "    scaling_factors_mixed.append(model.s[j].value)\n",
    "scaling_factors_mixed"
   ]
  },
  {
   "cell_type": "code",
   "execution_count": 124,
   "id": "893f7890-f8c8-4687-ad9d-264dc70ad92d",
   "metadata": {},
   "outputs": [
    {
     "data": {
      "text/plain": [
       "[0.0, 0.0, 0.0, 0.0, 0.0, 0.0, 1464448072025.8154, 0.0, 0.0, 0.0]"
      ]
     },
     "execution_count": 124,
     "metadata": {},
     "output_type": "execute_result"
    }
   ],
   "source": [
    "#6. Energy Grid\n",
    "scaling_factors_mixed = []\n",
    "mixed_s_indices = []\n",
    "search_elements_mixed = [\n",
    "        'Electrcity, natural gas ',\n",
    "        'Electrcity, coal',\n",
    "        'Electrcity, oil',\n",
    "        'Electrcity, nuclear',\n",
    "        'Electrcity, wind',\n",
    "        'Electricity, solar',\n",
    "        'Electricity, hydropower',\n",
    "        'Electrcity, biopower',\n",
    "        'Electrcity, geothermal',\n",
    "        'Electrcity, ocean energy']\n",
    "mixed_s_indices = [A_df_org.iloc[0,:].tolist().index(elem) for elem in search_elements_mixed]\n",
    "mixed_s_indices = [i-9 for i in mixed_s_indices]\n",
    "for j in mixed_s_indices:\n",
    "    scaling_factors_mixed.append(model.s[j].value)\n",
    "scaling_factors_mixed"
   ]
  },
  {
   "cell_type": "markdown",
   "id": "d767f720-1245-4fb9-944a-d337e68b8802",
   "metadata": {},
   "source": [
    "# Data Visualization"
   ]
  }
 ],
 "metadata": {
  "kernelspec": {
   "display_name": "Python 3 (ipykernel)",
   "language": "python",
   "name": "python3"
  },
  "language_info": {
   "codemirror_mode": {
    "name": "ipython",
    "version": 3
   },
   "file_extension": ".py",
   "mimetype": "text/x-python",
   "name": "python",
   "nbconvert_exporter": "python",
   "pygments_lexer": "ipython3",
   "version": "3.9.13"
  }
 },
 "nbformat": 4,
 "nbformat_minor": 5
}
