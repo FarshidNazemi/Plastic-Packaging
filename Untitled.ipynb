{
 "cells": [
  {
   "cell_type": "markdown",
   "id": "76fbc6bd-816b-43e4-a93e-397b3cf8de0a",
   "metadata": {},
   "source": [
    "# USLCI + CMI (background), literature (foreground)"
   ]
  },
  {
   "cell_type": "markdown",
   "id": "eda90e03-4e0d-4fad-97d5-9dd66c8ec2ec",
   "metadata": {},
   "source": [
    "# 2. Min GWP"
   ]
  },
  {
   "cell_type": "code",
   "execution_count": 1,
   "id": "a04eb012-a6d4-4f47-84d8-7e2602188868",
   "metadata": {},
   "outputs": [],
   "source": [
    "import numpy as np\n",
    "import pandas as pd\n",
    "import matplotlib.pyplot as plt\n",
    "import copy\n",
    "from pyomo.environ import *\n",
    "from pyomo.environ import RangeSet\n",
    "from pyomo.environ import value"
   ]
  },
  {
   "cell_type": "code",
   "execution_count": 2,
   "id": "7e2fd1f7-12f2-4c55-b110-5a114f8f9c60",
   "metadata": {},
   "outputs": [],
   "source": [
    "A_url = \"https://raw.githubusercontent.com/FarshidNazemi/Plastic-Packaging/refs/heads/main/csv-files/A%20(USLCI)-Design.csv\"\n",
    "B_url = \"https://raw.githubusercontent.com/FarshidNazemi/Plastic-Packaging/refs/heads/main/csv-files/B%20(USLCI)-Design.csv\"\n",
    "C_url = \"https://raw.githubusercontent.com/FarshidNazemi/Plastic-Packaging/refs/heads/main/csv-files/C%20(USLCI)-Design.csv\""
   ]
  },
  {
   "cell_type": "code",
   "execution_count": 3,
   "id": "32dafa57-fcfb-4969-bc76-bbdf80fecf38",
   "metadata": {},
   "outputs": [],
   "source": [
    "A_df_org = pd.read_csv(A_url,header=None)\n",
    "B_df_org = pd.read_csv(B_url,header=None)\n",
    "C_df_org = pd.read_csv(C_url,header=None)"
   ]
  },
  {
   "cell_type": "code",
   "execution_count": 4,
   "id": "80d4391a-4270-4ea3-b7c4-d054c2fbba97",
   "metadata": {},
   "outputs": [],
   "source": [
    "C_df = C_df_org"
   ]
  },
  {
   "cell_type": "code",
   "execution_count": 6,
   "id": "0f6cae29-215b-4e14-b710-234ebb83f8ca",
   "metadata": {},
   "outputs": [],
   "source": [
    "A_df_org.to_csv('A_df_org.csv', index=False)\n",
    "B_df_org.to_csv('B_df_org.csv', index=False)"
   ]
  },
  {
   "cell_type": "markdown",
   "id": "6447bbfb-851d-4d4c-bbcc-77659432f486",
   "metadata": {},
   "source": [
    "## a: Removing Transportation from A and B"
   ]
  },
  {
   "cell_type": "code",
   "execution_count": 7,
   "id": "8f64c71a-4e02-4227-905b-b2ba1ee0a5f2",
   "metadata": {},
   "outputs": [],
   "source": [
    "transport_processes = ['Transport, barge, average fuel mix',\n",
    "                            'Transport, barge, diesel powered',\n",
    "                            'Transport, barge, residual fuel oil powered',\n",
    "                            'Transport, combination truck, average fuel mix',\n",
    "                            'Transport, combination truck, diesel powered',\n",
    "                            'Transport, ocean freighter, average fuel mix',\n",
    "                            'Transport, ocean freighter, diesel powered',\n",
    "                            'Transport, ocean freighter, residual fuel oil powered',\n",
    "                            'Transport, pipeline, natural gas',\n",
    "                            'Transport, pipeline, unspecified petroleum products',\n",
    "                            'Transport, single unit truck, diesel powered',\n",
    "                            'Transport, train, diesel powered'\n",
    "                           ]"
   ]
  },
  {
   "cell_type": "code",
   "execution_count": 8,
   "id": "cd4a9b28-a62b-4dd1-82da-eb89441baf35",
   "metadata": {},
   "outputs": [],
   "source": [
    "#finding columns in A with transportation \n",
    "store_index_transport_A_col = []\n",
    "stored_index_A = 0\n",
    "for i in range(len(A_df_org.T)):\n",
    "    if str(A_df_org.iloc[0, i]) in transport_processes:\n",
    "        stored_index_A = i\n",
    "        store_index_transport_A_col.append(stored_index_A)"
   ]
  },
  {
   "cell_type": "code",
   "execution_count": 9,
   "id": "9197d087-7080-429a-8365-352a11d4f9c4",
   "metadata": {},
   "outputs": [],
   "source": [
    "#finding columns in B with transportation\n",
    "store_index_transport_B = []\n",
    "stored_index_B = 0\n",
    "for i in range(len(B_df_org.T)):\n",
    "    if str(B_df_org.iloc[0, i]) in transport_processes:\n",
    "        stored_index_B = i\n",
    "        store_index_transport_B.append(stored_index_B)"
   ]
  },
  {
   "cell_type": "code",
   "execution_count": 10,
   "id": "e6ef147e-996b-46e4-b328-d18efa7d5899",
   "metadata": {},
   "outputs": [],
   "source": [
    "A_df_org = A_df_org.drop(A_df_org.columns[store_index_transport_A_col], axis=1)\n",
    "B_df_org = B_df_org.drop(B_df_org.columns[store_index_transport_B], axis=1)"
   ]
  },
  {
   "cell_type": "code",
   "execution_count": 11,
   "id": "5d5ebe84-94fa-45b7-8c7f-182fc56fdefc",
   "metadata": {},
   "outputs": [],
   "source": [
    "#Finding Transportation rows\n",
    "store_index_transport_A_row = []\n",
    "stored_index_A = 0\n",
    "for i in range(len(A_df_org)):\n",
    "    if str(A_df_org.iloc[i, 0]) in transport_processes:\n",
    "        stored_index_A = i\n",
    "        store_index_transport_A_row.append(stored_index_A)"
   ]
  },
  {
   "cell_type": "code",
   "execution_count": 12,
   "id": "1f134272-e7ca-4b08-8770-7ed3d33b239d",
   "metadata": {},
   "outputs": [],
   "source": [
    "#removing transportation rows from A\n",
    "A_df_org = A_df_org.drop(A_df_org.columns[store_index_transport_A_row], axis=0)"
   ]
  },
  {
   "cell_type": "code",
   "execution_count": 13,
   "id": "c37df637-05d5-4dba-91fd-05c1b05fd3d2",
   "metadata": {},
   "outputs": [],
   "source": [
    "A_df_org.to_csv('A_df_org_transport.csv', index=False)"
   ]
  },
  {
   "cell_type": "markdown",
   "id": "a9387f4e-2481-4945-87b9-bf245d814d2b",
   "metadata": {},
   "source": [
    "## b:  Electricity generation UUIDs in USLCI"
   ]
  },
  {
   "cell_type": "code",
   "execution_count": 14,
   "id": "e1b56b94-f30b-4c36-8b11-fe99a9832a5f",
   "metadata": {},
   "outputs": [],
   "source": [
    "electricity_processes = ['Electrcity, solar photovoltatic',\n",
    "                         'Electricity',\n",
    "                         'Electricity, at cogen, for natural gas turbine',\n",
    "                         'Electricity, at Grid, US, 2010',\n",
    "                         'Electricity, biomass, at power plant',\n",
    "                         'Electricity, bituminous coal, at power plant',\n",
    "                         'Electricity, concentrated solar power (CSP)',\n",
    "                         'Electricity, diesel, at power plant',\n",
    "                         'Electricity, Eastern US, 2014',\n",
    "                         'Electricity, lignite coal, at power plant',\n",
    "                         'Electricity, natural gas, at power plant',\n",
    "                         'Electricity, nuclear, at power plant',\n",
    "                         'Electricity, residual fuel oil, at power plant',\n",
    "                         'Electricity, solar'\n",
    "                            ]"
   ]
  },
  {
   "cell_type": "code",
   "execution_count": 15,
   "id": "02d2ee8e-02d5-4a2a-813f-f05b25777b0f",
   "metadata": {},
   "outputs": [],
   "source": [
    "#finding columns in A with electricity generation\n",
    "store_index_electricity_A_col = []\n",
    "stored_index_A = 0\n",
    "for i in range(len(A_df_org.T)):\n",
    "    if str(A_df_org.iloc[0, i]) in electricity_processes:\n",
    "        stored_index_A = i\n",
    "        store_index_electricity_A_col.append(stored_index_A)"
   ]
  },
  {
   "cell_type": "code",
   "execution_count": 16,
   "id": "d94142e3-909d-4cb8-8328-52a90c4d87de",
   "metadata": {},
   "outputs": [],
   "source": [
    "#finding rows in A with electricity generation\n",
    "store_index_electricity_A_row = []\n",
    "stored_index_A = 0\n",
    "for i in range(len(A_df_org)):\n",
    "    if str(A_df_org.iloc[i, 0]) in electricity_processes:\n",
    "        stored_index_A = i\n",
    "        store_index_electricity_A_row.append(stored_index_A)"
   ]
  },
  {
   "cell_type": "code",
   "execution_count": 17,
   "id": "2e4961c6-889f-4987-9d36-534c1f266bd1",
   "metadata": {},
   "outputs": [],
   "source": [
    "#finding columns in B with electricity generation\n",
    "store_index_electricity_B = []\n",
    "stored_index_B = 0\n",
    "for i in range(len(B_df_org.T)):\n",
    "    if str(B_df_org.iloc[0, i]) in electricity_processes:\n",
    "        stored_index_B = i\n",
    "        store_index_electricity_B.append(stored_index_B)"
   ]
  },
  {
   "cell_type": "markdown",
   "id": "55bd650e-82fe-4266-8352-6609df6b6f77",
   "metadata": {},
   "source": [
    "### Removing corresponding electricity columns from A and B"
   ]
  },
  {
   "cell_type": "code",
   "execution_count": 18,
   "id": "674dcf86-0ae2-45cb-8e95-7deb10876d25",
   "metadata": {},
   "outputs": [],
   "source": [
    "A_df_org = A_df_org.drop(A_df_org.columns[store_index_electricity_A_col], axis=1)\n",
    "B_df_org = B_df_org.drop(B_df_org.columns[store_index_electricity_B], axis=1)"
   ]
  },
  {
   "cell_type": "markdown",
   "id": "7ee0a975-5a35-4956-992d-14f0a235486b",
   "metadata": {},
   "source": [
    "### Aggregating all electricity flows in each process"
   ]
  },
  {
   "cell_type": "code",
   "execution_count": 19,
   "id": "5916341e-9a21-4cc4-a609-12725ab3271c",
   "metadata": {},
   "outputs": [],
   "source": [
    "electricity_sums = np.sum(np.array(A_df_org.loc[store_index_electricity_A_row].iloc[:, 10:].replace(np.nan, 0), dtype=float), axis=0)"
   ]
  },
  {
   "cell_type": "code",
   "execution_count": 20,
   "id": "06c6b75d-e954-41a8-b7db-b0f27e9307f7",
   "metadata": {},
   "outputs": [],
   "source": [
    "# Reset index and drop the old index\n",
    "A_df_org_tr = A_df_org.T.reset_index(drop=True)"
   ]
  },
  {
   "cell_type": "code",
   "execution_count": 21,
   "id": "dd11fe84-39dd-45df-b184-56ae5cb24047",
   "metadata": {
    "tags": []
   },
   "outputs": [],
   "source": [
    "A_df_org = A_df_org_tr.T"
   ]
  },
  {
   "cell_type": "code",
   "execution_count": 22,
   "id": "51a9998c-7ea2-46f0-b629-ec0673d361a0",
   "metadata": {},
   "outputs": [],
   "source": [
    "# Reset index and drop the old index\n",
    "B_df_org_tr = B_df_org.T.reset_index(drop=True)"
   ]
  },
  {
   "cell_type": "code",
   "execution_count": 23,
   "id": "768ce929-94e0-488e-b457-bef0abc628de",
   "metadata": {
    "tags": []
   },
   "outputs": [],
   "source": [
    "B_df_org = B_df_org_tr.T"
   ]
  },
  {
   "cell_type": "markdown",
   "id": "4bd107b8-cc06-4302-a3f4-830086be39b1",
   "metadata": {},
   "source": [
    "### Removing electricity rows from A"
   ]
  },
  {
   "cell_type": "code",
   "execution_count": 24,
   "id": "f4deb90f-a1a4-487a-b042-644b9dce4e58",
   "metadata": {},
   "outputs": [],
   "source": [
    "A_df_org = A_df_org.drop(A_df_org.columns[store_index_electricity_A_row], axis=0)"
   ]
  },
  {
   "cell_type": "markdown",
   "id": "8d89ff3b-279c-4285-8d90-dc42e11da51a",
   "metadata": {
    "tags": []
   },
   "source": [
    "### Add new electricity rows and columns"
   ]
  },
  {
   "cell_type": "code",
   "execution_count": 25,
   "id": "eefd23f6-22f4-4626-a063-acdbbeaa68a2",
   "metadata": {},
   "outputs": [],
   "source": [
    "new_elec = [\n",
    "        'Electrcity, natural gas ',\n",
    "        'Electrcity, coal',\n",
    "        'Electrcity, oil',\n",
    "        'Electrcity, nuclear',\n",
    "        'Electrcity, wind',\n",
    "        'Electricity, solar',\n",
    "        'Electricity, hydropower',\n",
    "        'Electrcity, biopower',\n",
    "        'Electrcity, geothermal',\n",
    "        'Electrcity, ocean energy']\n",
    "\n",
    "new_elec_row = ['Electricity']"
   ]
  },
  {
   "cell_type": "code",
   "execution_count": 26,
   "id": "d1a135c7-38d6-4205-9740-15264f0c04b2",
   "metadata": {},
   "outputs": [],
   "source": [
    "# Append new rows in A\n",
    "\n",
    "# Convert new_elec to a DataFrame\n",
    "new_elec_df = pd.DataFrame(new_elec_row) \n",
    "\n",
    "# Append new_elec to the first row\n",
    "A_df_org = pd.concat([A_df_org, new_elec_df], ignore_index=True)"
   ]
  },
  {
   "cell_type": "code",
   "execution_count": 27,
   "id": "8106a419-9aee-4ff2-aaca-c0eed99ffa32",
   "metadata": {},
   "outputs": [],
   "source": [
    "# Append new columns in A\n",
    "for elec in new_elec:\n",
    "    A_df_org[elec] = None  # Create a new column with None values\n",
    "\n",
    "# Set the first row of each new column to the corresponding value\n",
    "for idx, elec in enumerate(new_elec):\n",
    "    A_df_org.at[0, elec] = elec  # Set the value in the first row"
   ]
  },
  {
   "cell_type": "code",
   "execution_count": 28,
   "id": "ac0c5f92-456c-4ba1-a9a0-970f960785b6",
   "metadata": {},
   "outputs": [],
   "source": [
    "# Append new columns in B\n",
    "for elec in new_elec:\n",
    "    B_df_org[elec] = None  # Create a new column with None values\n",
    "\n",
    "# Set the first row of each new column to the corresponding value\n",
    "for idx, elec in enumerate(new_elec):\n",
    "    B_df_org.at[0, elec] = elec  # Set the value in the first row"
   ]
  },
  {
   "cell_type": "code",
   "execution_count": 29,
   "id": "dddeead5-8fa0-4ae0-a3a2-44aea1f4931f",
   "metadata": {},
   "outputs": [],
   "source": [
    "# Reset index and drop the old index\n",
    "A_df_org_tr = A_df_org.T.reset_index(drop=True)"
   ]
  },
  {
   "cell_type": "code",
   "execution_count": 30,
   "id": "7ae2486c-1b1f-4c33-8a9f-c9b7cd009f65",
   "metadata": {
    "tags": []
   },
   "outputs": [],
   "source": [
    "A_df_org = A_df_org_tr.T"
   ]
  },
  {
   "cell_type": "code",
   "execution_count": 31,
   "id": "cbc5da79-8fdf-40f5-830d-275de8d36290",
   "metadata": {},
   "outputs": [],
   "source": [
    "# Reset index and drop the old index\n",
    "B_df_org_tr = B_df_org.T.reset_index(drop=True)"
   ]
  },
  {
   "cell_type": "code",
   "execution_count": 32,
   "id": "c2419d8c-bf26-4478-ba22-4507b268d5f6",
   "metadata": {
    "tags": []
   },
   "outputs": [],
   "source": [
    "B_df_org = B_df_org_tr.T"
   ]
  },
  {
   "cell_type": "code",
   "execution_count": 33,
   "id": "899928e4-6d39-437a-a662-cf60e771f937",
   "metadata": {},
   "outputs": [],
   "source": [
    "A_df_org.reset_index(drop=True, inplace=True)"
   ]
  },
  {
   "cell_type": "code",
   "execution_count": 34,
   "id": "8b06b9e9-86c3-4d8b-8264-6bd8eefa360b",
   "metadata": {},
   "outputs": [],
   "source": [
    "A_df_org.to_csv('A_df_org_electricity.csv', index=False)\n",
    "B_df_org.to_csv('B_df_org_electricity.csv', index=False)"
   ]
  },
  {
   "cell_type": "markdown",
   "id": "0b6632f6-c94d-4f70-ac14-8374b2203db0",
   "metadata": {},
   "source": [
    "## c: Electrification (skip this for optimization w/o electrification)"
   ]
  },
  {
   "cell_type": "code",
   "execution_count": 35,
   "id": "e25586c1-d12b-46dd-9875-8fb5eb7ea26e",
   "metadata": {},
   "outputs": [],
   "source": [
    "heat_processes = [\n",
    "    'Bituminous coal, combusted in industrial boiler',\n",
    "    'Diesel, combusted in industrial boiler',\n",
    "    'Heat',\n",
    "    'Heat, onsite boiler, hardwood mill, average, SE',\n",
    "    'Heat, onsite boiler, hardwood mill, average, SE',\n",
    "    'Lignite coal, combusted in industrial boiler',\n",
    "    'Liquefied petroleum gas, combusted in industrial boiler',\n",
    "    'Residual fuel oil, combusted in industrial boiler',\n",
    "    'Wood fuel, hardwood, generated at lumber mill, combusted in industrial boiler, SE',\n",
    "    'Wood fuel, hardwood, purchased, combusted in industrial boiler, SE',\n",
    "    'Wood waste, unspecified, combusted in industrial boiler',\n",
    "    'Natural gas, combusted in industrial boiler',\n",
    "    'Natural gas, combusted in industrial boiler, at hydrocracker, for ethylene',\n",
    "    'Natural gas, combusted in industrial boiler, at hydrocracker, for pyrolysis gas',\n",
    "    'Wood fuel, unspecified'\n",
    "]"
   ]
  },
  {
   "cell_type": "code",
   "execution_count": 36,
   "id": "36abe2c8-21a1-4cfd-b39d-d87e59d75379",
   "metadata": {},
   "outputs": [],
   "source": [
    "Mj_per_unit = [23.9, 37.4, 1, 1, 1, 23.9, 26, 37, 16, 16, 16, 40, 40, 40, 16]"
   ]
  },
  {
   "cell_type": "code",
   "execution_count": 37,
   "id": "27765062-b622-48b0-8706-bbc19e4bc91f",
   "metadata": {},
   "outputs": [],
   "source": [
    "boiler_efficiency = [0.81, 0.83, 1, 0.7, 0.7, 0.81, 0.82, 0.83, 0.7, 0.7, 0.7, 0.75, 0.75, 0.75, 0.7]"
   ]
  },
  {
   "cell_type": "code",
   "execution_count": 38,
   "id": "c0bc6f88-651b-47f0-a19f-6946e8c2b83e",
   "metadata": {},
   "outputs": [],
   "source": [
    "#step 1: identify all heat columns in A and B\n",
    "#finding columns in A with electricity generation\n",
    "store_index_heat_A_col = []\n",
    "stored_index_A = 0\n",
    "for i in range(len(A_df_org.T)):\n",
    "    if str(A_df_org.iloc[0, i]) in heat_processes:\n",
    "        stored_index_A = i\n",
    "        store_index_heat_A_col.append(stored_index_A)"
   ]
  },
  {
   "cell_type": "code",
   "execution_count": 39,
   "id": "69a153a2-6a18-40f2-aeab-7885e9908615",
   "metadata": {},
   "outputs": [],
   "source": [
    "#finding rows in A with electricity generation\n",
    "store_index_heat_A_row = []\n",
    "stored_index_A = 0\n",
    "for i in range(len(A_df_org)):\n",
    "    if str(A_df_org.iloc[i, 0]) in heat_processes:\n",
    "        stored_index_A = i\n",
    "        store_index_heat_A_row.append(stored_index_A)"
   ]
  },
  {
   "cell_type": "code",
   "execution_count": 40,
   "id": "8d3ea148-9a8c-4312-8327-1b1e3dc8949b",
   "metadata": {},
   "outputs": [],
   "source": [
    "#finding columns in B with electricity generation\n",
    "#finding columns in B with electricity generation\n",
    "store_index_heat_B = []\n",
    "stored_index_B = 0\n",
    "for i in range(len(B_df_org.T)):\n",
    "    if str(B_df_org.iloc[0, i]) in heat_processes:\n",
    "        stored_index_B = i\n",
    "        store_index_heat_B.append(stored_index_B)"
   ]
  },
  {
   "cell_type": "code",
   "execution_count": 41,
   "id": "c18dc79b-b0fd-4181-b23a-1b1fe2e7adc6",
   "metadata": {},
   "outputs": [],
   "source": [
    "#Step 2: Remove heat columns from A and B\n",
    "A_df_org = A_df_org.drop(A_df_org.columns[store_index_heat_A_col], axis=1)\n",
    "B_df_org = B_df_org.drop(B_df_org.columns[store_index_heat_B], axis=1)"
   ]
  },
  {
   "cell_type": "code",
   "execution_count": 42,
   "id": "78169ece-c3b8-41c2-a865-ee5125a87f61",
   "metadata": {},
   "outputs": [],
   "source": [
    "X = np.array(Mj_per_unit) * np.array(boiler_efficiency)\n",
    "Y = np.array(A_df_org.loc[store_index_heat_A_row].iloc[:, 10:].replace(np.nan, 0), dtype=float)"
   ]
  },
  {
   "cell_type": "code",
   "execution_count": 43,
   "id": "5aa92d66-5c41-4416-b18a-2c17745fe113",
   "metadata": {},
   "outputs": [],
   "source": [
    "#Step 3: aggregate heat rows from A and B and convert them to absolute heat needed\n",
    "heat_sums = []\n",
    "heat_sums = np.transpose(Y)@X"
   ]
  },
  {
   "cell_type": "code",
   "execution_count": 44,
   "id": "fa9d686a-e685-44a0-9024-93e369d91e62",
   "metadata": {},
   "outputs": [],
   "source": [
    "# Reset index and drop the old index\n",
    "A_df_org_tr = A_df_org.T.reset_index(drop=True)"
   ]
  },
  {
   "cell_type": "code",
   "execution_count": 45,
   "id": "3bacfaf1-f124-4939-a6e0-d8563a51b155",
   "metadata": {},
   "outputs": [],
   "source": [
    "A_df_org = A_df_org_tr.T"
   ]
  },
  {
   "cell_type": "code",
   "execution_count": 46,
   "id": "c161fa8c-665f-42d1-8050-b81456ca40e7",
   "metadata": {},
   "outputs": [],
   "source": [
    "# Reset index and drop the old index\n",
    "B_df_org_tr = B_df_org.T.reset_index(drop=True)"
   ]
  },
  {
   "cell_type": "code",
   "execution_count": 47,
   "id": "d129d8bd-260b-478a-87a5-7df00d8e2455",
   "metadata": {},
   "outputs": [],
   "source": [
    "B_df_org = B_df_org_tr.T"
   ]
  },
  {
   "cell_type": "code",
   "execution_count": 48,
   "id": "4333936a-c3ac-4243-8e59-7f8f17167a93",
   "metadata": {},
   "outputs": [],
   "source": [
    "A_df_org = A_df_org.drop(A_df_org.columns[store_index_heat_A_row], axis=0)"
   ]
  },
  {
   "cell_type": "code",
   "execution_count": 49,
   "id": "ef6ea036-fccc-47ef-95a1-0d8371471ffa",
   "metadata": {},
   "outputs": [],
   "source": [
    "# Reset index and drop the old index\n",
    "A_df_org_tr = A_df_org.T.reset_index(drop=True)"
   ]
  },
  {
   "cell_type": "code",
   "execution_count": 50,
   "id": "b38b3d8e-c7b2-40da-829b-02f8c617e4be",
   "metadata": {},
   "outputs": [],
   "source": [
    "A_df_org = A_df_org_tr.T"
   ]
  },
  {
   "cell_type": "code",
   "execution_count": 51,
   "id": "3e79d3b5-e60f-4dcb-b8f8-a06d7faa399a",
   "metadata": {},
   "outputs": [],
   "source": [
    "# Reset index and drop the old index\n",
    "B_df_org_tr = B_df_org.T.reset_index(drop=True)"
   ]
  },
  {
   "cell_type": "code",
   "execution_count": 52,
   "id": "4df10817-022b-4779-8fdf-0070ac4d09f0",
   "metadata": {},
   "outputs": [],
   "source": [
    "B_df_org = B_df_org_tr.T"
   ]
  },
  {
   "cell_type": "code",
   "execution_count": 53,
   "id": "cc53f8df-c508-495c-913d-c131c2bd1d2a",
   "metadata": {},
   "outputs": [],
   "source": [
    "A_df_org.reset_index(drop=True, inplace=True)"
   ]
  },
  {
   "cell_type": "code",
   "execution_count": 54,
   "id": "d3619a0b-b3b8-4029-98db-645ca099ad5b",
   "metadata": {},
   "outputs": [],
   "source": [
    "update_store_index_heat_A_row = [x-10 for x in store_index_heat_A_row]"
   ]
  },
  {
   "cell_type": "code",
   "execution_count": 55,
   "id": "8029e6f7-c57b-458e-a11d-c88762d5e8ee",
   "metadata": {},
   "outputs": [],
   "source": [
    "electricity_sums = np.delete(electricity_sums,update_store_index_heat_A_row)"
   ]
  },
  {
   "cell_type": "code",
   "execution_count": 56,
   "id": "39dcc0a7-f559-486c-abd9-f42672518dbc",
   "metadata": {},
   "outputs": [],
   "source": [
    "for i in range(len(heat_sums)-len(electricity_sums)):\n",
    "    electricity_sums = np.append(electricity_sums, 0)"
   ]
  },
  {
   "cell_type": "code",
   "execution_count": 57,
   "id": "37396fa3-e3b9-4954-8607-9f9765bfafac",
   "metadata": {},
   "outputs": [],
   "source": [
    "A_df_org.to_csv('A_df_org_heat.csv', index=False)\n",
    "B_df_org.to_csv('B_df_org_heat.csv', index=False)"
   ]
  },
  {
   "cell_type": "markdown",
   "id": "2a22627d-ea9a-4a1b-9c01-f5538cb41d91",
   "metadata": {},
   "source": [
    "# Generation of A, B, and C"
   ]
  },
  {
   "cell_type": "code",
   "execution_count": 58,
   "id": "3beb2e23-ea33-465a-8bf1-55d0b1f393f0",
   "metadata": {},
   "outputs": [],
   "source": [
    "A_df = copy.copy(A_df_org)\n",
    "B_df = copy.copy(B_df_org)"
   ]
  },
  {
   "cell_type": "code",
   "execution_count": 59,
   "id": "de2be654-2721-4cae-b92e-9c2dfb97b37f",
   "metadata": {},
   "outputs": [],
   "source": [
    "#Building A matrix\n",
    "# Step 1: Delete the first 10 columns\n",
    "A_df = A_df.drop(A_df.columns[:10], axis=1)\n",
    "\n",
    "# Step 2: Delete the first 10 rows (first row is heading, so put 3)\n",
    "A_df = A_df.iloc[10:]\n",
    "\n",
    "#Replacing empty values with zero and getting the final A matrix\n",
    "A=A_df\n",
    "A=A.replace(np.nan, 0)\n",
    "A=np.array(A,dtype='float64')"
   ]
  },
  {
   "cell_type": "code",
   "execution_count": 60,
   "id": "3f405dfa-3e35-4e5b-8a92-644f63deb4fb",
   "metadata": {},
   "outputs": [
    {
     "data": {
      "text/plain": [
       "(103, 134)"
      ]
     },
     "execution_count": 60,
     "metadata": {},
     "output_type": "execute_result"
    }
   ],
   "source": [
    "A.shape"
   ]
  },
  {
   "cell_type": "code",
   "execution_count": 61,
   "id": "65d84d6b-2744-48d2-9dfe-7a7136ed9810",
   "metadata": {},
   "outputs": [],
   "source": [
    "# Building B matrix\n",
    "# Step 1: Delete the first 7 columns\n",
    "B_df = B_df.drop(B_df.columns[:7], axis=1)\n",
    "\n",
    "# Step 2: Delete the first 10 rows (first row is heading, so put 3)\n",
    "B_df = B_df.iloc[10:]\n",
    "\n",
    "# Replacing empty values with zero\n",
    "B_df = B_df.replace(np.nan, 0)\n",
    "\n",
    "# Converting all elements to float, handling empty strings and stripping whitespace\n",
    "def convert_to_float(x):\n",
    "    if isinstance(x, str):\n",
    "        x = x.strip()  # Remove any leading/trailing whitespace\n",
    "        if x == '':  # Handle empty strings\n",
    "            return 0.0\n",
    "        try:\n",
    "            return float(x)\n",
    "        except ValueError:\n",
    "            return 0.0  # Or raise an error if you want to catch non-numeric strings\n",
    "    return x\n",
    "\n",
    "B_df = B_df.applymap(convert_to_float)\n",
    "\n",
    "# Converting to a NumPy array\n",
    "B = np.array(B_df, dtype=float)"
   ]
  },
  {
   "cell_type": "code",
   "execution_count": 62,
   "id": "e4fd0555-55ce-45f0-8223-b1744296dfd6",
   "metadata": {},
   "outputs": [
    {
     "data": {
      "text/plain": [
       "(1044, 135)"
      ]
     },
     "execution_count": 62,
     "metadata": {},
     "output_type": "execute_result"
    }
   ],
   "source": [
    "B.shape"
   ]
  },
  {
   "cell_type": "code",
   "execution_count": 60,
   "id": "5c0e7799-7aa0-4010-b472-1ad812416e91",
   "metadata": {},
   "outputs": [],
   "source": [
    "#Building C matrix\n",
    "# Step 1: Delete the first 7 columns\n",
    "C_df = C_df.drop(C_df.columns[:7], axis=1)\n",
    "\n",
    "# Step 2: Delete the first 5 rows (first row is heading, so put 3)\n",
    "C_df = C_df.iloc[5:]\n",
    "\n",
    "#Replacing empty values with zero and getting the final B matrix\n",
    "C=C_df\n",
    "C=C.replace(np.nan, 0)\n",
    "C=np.array(C,dtype='float64')"
   ]
  },
  {
   "cell_type": "code",
   "execution_count": 61,
   "id": "981b7d23-cc99-4bd8-80e0-112778bea15c",
   "metadata": {},
   "outputs": [],
   "source": [
    "#Functional Unit\n",
    "# F = 168.450 million metric tons = 168,450,000 metric tons = 168,450,000,000 kg\n",
    "F=168450000000\n",
    "F=int(F)\n",
    "#defining f matrix\n",
    "f=np.zeros(len(A))\n",
    "f[0]=F"
   ]
  },
  {
   "cell_type": "markdown",
   "id": "0dd071aa-87f6-4c5d-b81d-c4b1be2ca5be",
   "metadata": {},
   "source": [
    "## Implementing values in A"
   ]
  },
  {
   "cell_type": "code",
   "execution_count": 62,
   "id": "f715e47c-d1ec-4d13-addd-127369f60317",
   "metadata": {},
   "outputs": [],
   "source": [
    "for i in range(len(electricity_sums)):\n",
    "    A [A_df_org.index[A_df_org.iloc[:, 0] == 'Electricity'].tolist()[0] - 10,i] = electricity_sums[i] + heat_sums [i]"
   ]
  },
  {
   "cell_type": "code",
   "execution_count": 63,
   "id": "13a96d99-410b-45eb-a37a-cf9f1a4e1cd7",
   "metadata": {},
   "outputs": [
    {
     "data": {
      "text/plain": [
       "135"
      ]
     },
     "execution_count": 63,
     "metadata": {},
     "output_type": "execute_result"
    }
   ],
   "source": [
    "len(electricity_sums)"
   ]
  },
  {
   "cell_type": "code",
   "execution_count": 64,
   "id": "819f5e9b-acdc-424f-95db-111ec4027763",
   "metadata": {},
   "outputs": [
    {
     "data": {
      "text/plain": [
       "135"
      ]
     },
     "execution_count": 64,
     "metadata": {},
     "output_type": "execute_result"
    }
   ],
   "source": [
    "len(np.transpose(A))"
   ]
  },
  {
   "cell_type": "code",
   "execution_count": 65,
   "id": "f868605a-c4d5-42e3-826d-561b241856a8",
   "metadata": {},
   "outputs": [],
   "source": [
    "A [A_df_org.index[A_df_org.iloc[:, 0] == 'Electricity'].tolist()[0] - 10,\n",
    "           A_df_org.T.index[A_df_org.T.iloc[:, 0] == 'Electrcity, natural gas '].tolist()[0] - 10] = 1"
   ]
  },
  {
   "cell_type": "code",
   "execution_count": 66,
   "id": "8de711f1-c562-4cce-afe3-d0121fa434f6",
   "metadata": {},
   "outputs": [],
   "source": [
    "A [A_df_org.index[A_df_org.iloc[:, 0] == 'Electricity'].tolist()[0] - 10,\n",
    "           A_df_org.T.index[A_df_org.T.iloc[:, 0] == 'Electrcity, coal'].tolist()[0] - 10] = 1"
   ]
  },
  {
   "cell_type": "code",
   "execution_count": 67,
   "id": "69a5ab4c-6295-4ba3-a8d4-a1c4d7b01135",
   "metadata": {},
   "outputs": [],
   "source": [
    "A [A_df_org.index[A_df_org.iloc[:, 0] == 'Electricity'].tolist()[0] - 10,\n",
    "           A_df_org.T.index[A_df_org.T.iloc[:, 0] == 'Electrcity, oil'].tolist()[0] - 10] = 1"
   ]
  },
  {
   "cell_type": "code",
   "execution_count": 68,
   "id": "6f0d1bc3-591e-4f00-aacc-e6b4adde3339",
   "metadata": {},
   "outputs": [],
   "source": [
    "A [A_df_org.index[A_df_org.iloc[:, 0] == 'Electricity'].tolist()[0] - 10,\n",
    "           A_df_org.T.index[A_df_org.T.iloc[:, 0] == 'Electrcity, nuclear'].tolist()[0] - 10] = 1"
   ]
  },
  {
   "cell_type": "code",
   "execution_count": 69,
   "id": "6fd8e645-2a4c-4862-9e1f-ccd0e41e24d7",
   "metadata": {},
   "outputs": [],
   "source": [
    "A [A_df_org.index[A_df_org.iloc[:, 0] == 'Electricity'].tolist()[0] - 10,\n",
    "           A_df_org.T.index[A_df_org.T.iloc[:, 0] == 'Electrcity, wind'].tolist()[0] - 10] = 1"
   ]
  },
  {
   "cell_type": "code",
   "execution_count": 70,
   "id": "6d5d51ec-8392-4cb7-83f9-24b5f1237a52",
   "metadata": {},
   "outputs": [],
   "source": [
    "A [A_df_org.index[A_df_org.iloc[:, 0] == 'Electricity'].tolist()[0] - 10,\n",
    "           A_df_org.T.index[A_df_org.T.iloc[:, 0] == 'Electricity, solar'].tolist()[0] - 10] = 1"
   ]
  },
  {
   "cell_type": "code",
   "execution_count": 71,
   "id": "29e4b864-a08a-49fb-bad4-d5286d216133",
   "metadata": {},
   "outputs": [],
   "source": [
    "A [A_df_org.index[A_df_org.iloc[:, 0] == 'Electricity'].tolist()[0] - 10,\n",
    "           A_df_org.T.index[A_df_org.T.iloc[:, 0] == 'Electricity, hydropower'].tolist()[0] - 10] = 1"
   ]
  },
  {
   "cell_type": "code",
   "execution_count": 72,
   "id": "f58de317-4c7d-470d-869d-26209bbeae68",
   "metadata": {},
   "outputs": [],
   "source": [
    "A [A_df_org.index[A_df_org.iloc[:, 0] == 'Electricity'].tolist()[0] - 10,\n",
    "           A_df_org.T.index[A_df_org.T.iloc[:, 0] == 'Electrcity, biopower'].tolist()[0] - 10] = 1"
   ]
  },
  {
   "cell_type": "code",
   "execution_count": 73,
   "id": "85159cbf-00b2-4dc4-a82c-d5e366bb357c",
   "metadata": {},
   "outputs": [],
   "source": [
    "A [A_df_org.index[A_df_org.iloc[:, 0] == 'Electricity'].tolist()[0] - 10,\n",
    "           A_df_org.T.index[A_df_org.T.iloc[:, 0] == 'Electrcity, geothermal'].tolist()[0] - 10] = 1"
   ]
  },
  {
   "cell_type": "code",
   "execution_count": 74,
   "id": "35fe5cc6-f56e-42bf-9d82-a61a92ec7499",
   "metadata": {},
   "outputs": [],
   "source": [
    "A [A_df_org.index[A_df_org.iloc[:, 0] == 'Electricity'].tolist()[0] - 10,\n",
    "           A_df_org.T.index[A_df_org.T.iloc[:, 0] == 'Electrcity, ocean energy'].tolist()[0] - 10] = 1"
   ]
  },
  {
   "cell_type": "code",
   "execution_count": 75,
   "id": "33fa7dcc-95ea-470e-a30b-ce880028c340",
   "metadata": {},
   "outputs": [],
   "source": [
    "B [B_df_org.index[B_df_org.iloc[:, 0] == 'b6f010fb-a764-3063-af2d-bcb8309a97b7'].tolist()[0] - 10,\n",
    "  B_df_org.T.index[B_df_org.iloc[0, :] == 'Electrcity, natural gas '].tolist()[0] - 7] = 0.460/3.6\n",
    "\n",
    "B [B_df_org.index[B_df_org.iloc[:, 0] == 'b6f010fb-a764-3063-af2d-bcb8309a97b7'].tolist()[0] - 10,\n",
    "  B_df_org.T.index[B_df_org.iloc[0, :] == 'Electrcity, coal'].tolist()[0] - 7] = 1/3.6\n",
    "\n",
    "B [B_df_org.index[B_df_org.iloc[:, 0] == 'b6f010fb-a764-3063-af2d-bcb8309a97b7'].tolist()[0] - 10,\n",
    "  B_df_org.T.index[B_df_org.iloc[0, :] == 'Electrcity, oil'].tolist()[0] - 7] = 0.841/3.6\n",
    "\n",
    "B [B_df_org.index[B_df_org.iloc[:, 0] == 'b6f010fb-a764-3063-af2d-bcb8309a97b7'].tolist()[0] - 10,\n",
    "  B_df_org.T.index[B_df_org.iloc[0, :] == 'Electrcity, nuclear'].tolist()[0] - 7] = 0.016/3.6\n",
    "\n",
    "B [B_df_org.index[B_df_org.iloc[:, 0] == 'b6f010fb-a764-3063-af2d-bcb8309a97b7'].tolist()[0] - 10,\n",
    "  B_df_org.T.index[B_df_org.iloc[0, :] == 'Electrcity, wind'].tolist()[0] - 7] = 0.011/3.6\n",
    "\n",
    "B [B_df_org.index[B_df_org.iloc[:, 0] == 'b6f010fb-a764-3063-af2d-bcb8309a97b7'].tolist()[0] - 10,\n",
    "  B_df_org.T.index[B_df_org.iloc[0, :] == 'Electricity, solar'].tolist()[0] - 7] = 0.045/3.6\n",
    "\n",
    "B [B_df_org.index[B_df_org.iloc[:, 0] == 'b6f010fb-a764-3063-af2d-bcb8309a97b7'].tolist()[0] - 10,\n",
    "  B_df_org.T.index[B_df_org.iloc[0, :] == 'Electricity, hydropower'].tolist()[0] - 7] = 0.0065/3.6\n",
    "\n",
    "B [B_df_org.index[B_df_org.iloc[:, 0] == 'b6f010fb-a764-3063-af2d-bcb8309a97b7'].tolist()[0] - 10,\n",
    "  B_df_org.T.index[B_df_org.iloc[0, :] == 'Electrcity, biopower'].tolist()[0] - 7] = 0.039/3.6\n",
    "\n",
    "B [B_df_org.index[B_df_org.iloc[:, 0] == 'b6f010fb-a764-3063-af2d-bcb8309a97b7'].tolist()[0] - 10,\n",
    "  B_df_org.T.index[B_df_org.iloc[0, :] == 'Electrcity, geothermal'].tolist()[0] - 7] = 0.045/3.6\n",
    "\n",
    "B [B_df_org.index[B_df_org.iloc[:, 0] == 'b6f010fb-a764-3063-af2d-bcb8309a97b7'].tolist()[0] - 10,\n",
    "  B_df_org.T.index[B_df_org.iloc[0, :] == 'Electrcity, ocean energy'].tolist()[0] - 7] = 0.008/3.6"
   ]
  },
  {
   "cell_type": "code",
   "execution_count": 76,
   "id": "879a6c24-88d1-4c04-80f0-e2f16abc57a7",
   "metadata": {},
   "outputs": [
    {
     "data": {
      "text/plain": [
       "0.12777777777777777"
      ]
     },
     "execution_count": 76,
     "metadata": {},
     "output_type": "execute_result"
    }
   ],
   "source": [
    "B [B_df_org.index[B_df_org.iloc[:, 0] == 'b6f010fb-a764-3063-af2d-bcb8309a97b7'].tolist()[0] - 10,\n",
    "  B_df_org.T.index[B_df_org.iloc[0, :] == 'Electrcity, natural gas '].tolist()[0] - 7]"
   ]
  },
  {
   "cell_type": "code",
   "execution_count": 77,
   "id": "e07df955-262b-48e3-932c-8f3ff36e11d1",
   "metadata": {},
   "outputs": [
    {
     "data": {
      "text/plain": [
       "1.0"
      ]
     },
     "execution_count": 77,
     "metadata": {},
     "output_type": "execute_result"
    }
   ],
   "source": [
    "C [C_df_org.index[C_df_org.iloc[:, 0] == 'b6f010fb-a764-3063-af2d-bcb8309a97b7'].tolist()[0] - 5,\n",
    "  C_df_org.T.index[C_df_org.iloc[0, :] == '0cbbf9b1-046d-4ee3-9f3c-5e36d1106ea0'].tolist()[0] - 7]"
   ]
  },
  {
   "cell_type": "markdown",
   "id": "6742b1b1-9dcb-4434-874c-526474ce4e65",
   "metadata": {},
   "source": [
    "# 2.1. Without carbon sequestration"
   ]
  },
  {
   "cell_type": "code",
   "execution_count": 84,
   "id": "189839d2-5868-46ad-a06f-f4dbbc0072dd",
   "metadata": {},
   "outputs": [],
   "source": [
    "C_gwp_wo_seq= np.transpose(C)[[0]]\n",
    "coef_GWP_wo_seq=C_gwp_wo_seq@B\n",
    "coef_GWP_wo_seq=np.array(coef_GWP_wo_seq)\n",
    "coef_GWP_wo_seq = coef_GWP_wo_seq.reshape(-1)"
   ]
  },
  {
   "cell_type": "code",
   "execution_count": 86,
   "id": "e28f42ea-a225-44de-a62a-8eda62f793f1",
   "metadata": {},
   "outputs": [
    {
     "data": {
      "text/plain": [
       "(150,)"
      ]
     },
     "execution_count": 86,
     "metadata": {},
     "output_type": "execute_result"
    }
   ],
   "source": [
    "coef_GWP_wo_seq.shape"
   ]
  },
  {
   "cell_type": "code",
   "execution_count": 88,
   "id": "782af89f-5634-4699-a44b-3f8030d986ae",
   "metadata": {},
   "outputs": [
    {
     "data": {
      "text/plain": [
       "(1044, 150)"
      ]
     },
     "execution_count": 88,
     "metadata": {},
     "output_type": "execute_result"
    }
   ],
   "source": [
    "B.shape"
   ]
  },
  {
   "cell_type": "code",
   "execution_count": 87,
   "id": "53116f4d-66e3-4376-bc99-683806859f5a",
   "metadata": {},
   "outputs": [
    {
     "data": {
      "text/plain": [
       "(104, 135)"
      ]
     },
     "execution_count": 87,
     "metadata": {},
     "output_type": "execute_result"
    }
   ],
   "source": [
    "A.shape"
   ]
  },
  {
   "cell_type": "code",
   "execution_count": 79,
   "id": "f58a8306-acc7-4755-bc9e-28352d3184cf",
   "metadata": {},
   "outputs": [
    {
     "data": {
      "text/plain": [
       "{'Problem': [{'Name': 'x136', 'Lower bound': 89820154531.29027, 'Upper bound': 89820154531.29027, 'Number of objectives': 1, 'Number of constraints': 171, 'Number of variables': 136, 'Number of binary variables': 0, 'Number of integer variables': 0, 'Number of continuous variables': 136, 'Number of nonzeros': 595, 'Sense': 'minimize'}], 'Solver': [{'Status': 'ok', 'Return code': '0', 'Message': 'Model was solved to optimality (subject to tolerances), and an optimal solution is available.', 'Termination condition': 'optimal', 'Termination message': 'Model was solved to optimality (subject to tolerances), and an optimal solution is available.', 'Wall time': '0.011729001998901367', 'Error rc': 0, 'Time': 0.10329389572143555}], 'Solution': [OrderedDict([('number of solutions', 0), ('number of solutions displayed', 0)])]}"
      ]
     },
     "execution_count": 79,
     "metadata": {},
     "output_type": "execute_result"
    }
   ],
   "source": [
    "#Model Formulation\n",
    "# Create the model\n",
    "model = ConcreteModel()\n",
    "# List of processes with negative scaling factor due to open loop recovery and substitution approach\n",
    "negative_s_indices = []\n",
    "positive_s_indices = []\n",
    "all_s_indices = []\n",
    "\n",
    "search_elements_zero_or_negative = [\n",
    "'PET fiber production from sorted PET waste',\n",
    "'Sawn lumber, hardwood, planed, kiln dried, at planer mill, SE',\n",
    "'Asphalt binder, 3.5% styrene-butadiene-styrene (SBS), consumption mix, at terminal, from crude oil, 3.5% styrene-butadiene-styrene',\n",
    "'sodium sulfate (carbon footprint process)',\n",
    "'Bark, hardwood, average, at forest road, NE-NC',\n",
    "'Lignite coal, at surface mine']\n",
    "\n",
    "search_elements_zero_or_positive = [\n",
    "'use & collection',\n",
    "'large, flexible, mono-layer plastic packaging production',\n",
    "'large, flexible, multi-layer plastic packaging production',\n",
    "'large, rigid, mono-layer plastic packaging production',\n",
    "'large, rigid, multi-layer plastic packaging production',\n",
    "'small format plastic packaging production',\n",
    "'HDPE production',\n",
    "'LDPE production',\n",
    "'PP production',\n",
    "'PET production',\n",
    "'PS production',\n",
    "'PVC production',\n",
    "'Electrcity, natural gas ',\n",
    "'Electrcity, coal',\n",
    "'Electrcity, oil',\n",
    "'Electrcity, nuclear',\n",
    "'Electrcity, wind',\n",
    "'Electricity, solar',\n",
    "'Electricity, hydropower',\n",
    "'Electrcity, biopower',\n",
    "'Electrcity, geothermal',\n",
    "'Electrcity, ocean energy',\n",
    "'bio-cyclohexa-2,5-diene-1,4-dicarboxylate production',\n",
    "'advanced recycling, delamination, multi-layer plastic packaging',\n",
    "'advanced recycling, STRAP, multi-layer plastic packaging',\n",
    "'bio-EG production (monomer)',\n",
    "'bio-ethanol production from corn',\n",
    "'bio-ethylene oxide production',\n",
    "'bio-ethylene production (monomer)',\n",
    "'bio-muconic acid production',\n",
    "'bio-propylene production (monomer)',\n",
    "'bio-PTA production (monomer)',\n",
    "'bio-styrene production (monomer)',\n",
    "'bio-vinyl chloride production (monomer)',\n",
    "'Bituminous coal, at mine',\n",
    "'Carbon monoxide, at plant',\n",
    "'High-tech MRF',\n",
    "'Low-tech MRF',\n",
    "'Med-tech MRF',\n",
    "'chemical recycling with metal oxide, PS sorted',\n",
    "'depolymerization, enzymatic hyrdrolysis, PET sorted',\n",
    "'depolymerization, glycolysis, PET sorted',\n",
    "'pyrolysis (monomer production), HDPE sorted',\n",
    "'pyrolysis (monomer production), LDPE sorted',\n",
    "'pyrolysis (monomer production), PP sorted',\n",
    "'pyrolysis, feedstock recycling, mixed plastic waste, sorted',\n",
    "'PET fiber production from sorted PET waste',\n",
    "'plastic lumber production from sorted mixed plastic waste',\n",
    "'road pavement production from sorted mixed plastic waste',\n",
    "'cement clinker, mixed plastic packaging, sorted',\n",
    "'incineration, electricity recovery, plastic packaging waste',\n",
    "'incineration, electricity recovery, plastic residues',\n",
    "'landfill, plastic packaging waste',\n",
    "'landfill, plastic residues',\n",
    "'mechanical recycling, HDPE sorted',\n",
    "'mechanical recycling, LDPE sorted',\n",
    "'mechanical recycling, PET sorted',\n",
    "'mechanical recycling, PP sorted',\n",
    "'mechanical recycling, PS sorted',\n",
    "'mechanical recycling, PVC sorted',\n",
    "'fossil-EG production (monomer)',\n",
    "'fossil-PTA production (monomer)',\n",
    "'fossil-ethylene production (monomer)',\n",
    "'fossil-propylene production (monomer)',\n",
    "'fossil-styrene production (monomer)',\n",
    "'fossil-vinyl chloride production (monomer)'\n",
    "]\n",
    "\n",
    "#Search for elements in the first row of the DataFrame\n",
    "negative_s_indices = [A_df_org.iloc[0,:].tolist().index(elem) for elem in search_elements_zero_or_negative]\n",
    "negative_s_indices = [i-9 for i in negative_s_indices]\n",
    "positive_s_indices = [A_df_org.iloc[0,:].tolist().index(elem) for elem in search_elements_zero_or_positive]\n",
    "positive_s_indices = [i-9 for i in positive_s_indices]\n",
    "\n",
    "\n",
    "# Define the decision variable\n",
    "model.set_s = RangeSet(len(np.transpose(A)))\n",
    "model.s = Var(model.set_s)\n",
    "#model.set_negative_scale = Set(initialize=negative_s_indices)\n",
    "model.set_positive_scale = Set(initialize=positive_s_indices)\n",
    "\n",
    "e = 0.0000001\n",
    "#model constraint: As = f and s>=0\n",
    "model.set_balance = RangeSet(len(f))\n",
    "def balance(model, p): # As = f\n",
    "    return sum(A[p-1,i-1]*model.s[i] for i in model.set_s) == f[p-1]\n",
    "def negative_scale(model, i):\n",
    "    return (model.s[i]<=0)\n",
    "def positive_scale(model, i):\n",
    "    return (model.s[i]>=e)\n",
    "\n",
    "model.balance_constraints = Constraint(model.set_balance, rule=balance)\n",
    "#model.negative_scale_constraints = Constraint(model.set_negative_scale, rule=negative_scale)\n",
    "model.positive_scale_constraints = Constraint(model.set_positive_scale, rule=positive_scale)\n",
    "\n",
    "model.obj = Objective(expr = sum(coef_GWP_wo_seq[i-1]*model.s[i] for i in model.set_s), sense=minimize)\n",
    "#Solver\n",
    "solver = SolverFactory('gurobi')\n",
    "solver.solve(model) # solves and updates instance"
   ]
  },
  {
   "cell_type": "code",
   "execution_count": 80,
   "id": "4ff71e16-ab92-40c5-bce2-66b988e7a643",
   "metadata": {},
   "outputs": [],
   "source": [
    "#total CO2 emission (kg CO2eq)\n",
    "GWP_best_wo_seq = value(model.obj)"
   ]
  },
  {
   "cell_type": "code",
   "execution_count": 81,
   "id": "31f6a297-5026-4cfa-8bf3-2e91b761804c",
   "metadata": {},
   "outputs": [
    {
     "data": {
      "text/plain": [
       "89820154531.29024"
      ]
     },
     "execution_count": 81,
     "metadata": {},
     "output_type": "execute_result"
    }
   ],
   "source": [
    "GWP_best_wo_seq"
   ]
  },
  {
   "cell_type": "code",
   "execution_count": 82,
   "id": "25736806-976c-40ab-9d25-7c320ba46445",
   "metadata": {},
   "outputs": [],
   "source": [
    "#kg CO2 eq per kg of packaging product\n",
    "GWP_best_wo_seq_per_kg = value(model.obj)/168450000000 "
   ]
  },
  {
   "cell_type": "code",
   "execution_count": 83,
   "id": "46089797-60fe-44f1-86a5-90863b1e845e",
   "metadata": {},
   "outputs": [
    {
     "data": {
      "text/plain": [
       "0.5332155211118447"
      ]
     },
     "execution_count": 83,
     "metadata": {},
     "output_type": "execute_result"
    }
   ],
   "source": [
    "GWP_best_wo_seq_per_kg"
   ]
  },
  {
   "cell_type": "code",
   "execution_count": 84,
   "id": "8e66c510-b344-4f49-b6d8-37d0c985dbab",
   "metadata": {},
   "outputs": [],
   "source": [
    "scaling_factors_wo_seq = []\n",
    "for j in model.s:\n",
    "    scaling_factors_wo_seq.append(model.s[j].value)  "
   ]
  },
  {
   "cell_type": "code",
   "execution_count": 85,
   "id": "98589029-c5d5-49d7-b29a-6c97f03601eb",
   "metadata": {},
   "outputs": [
    {
     "data": {
      "text/plain": [
       "[1e-07, 13975300538.592825, 1e-07, 1e-07]"
      ]
     },
     "execution_count": 85,
     "metadata": {},
     "output_type": "execute_result"
    }
   ],
   "source": [
    "#1. monomer production\n",
    "#ethylene\n",
    "ethylene_s_indices = []\n",
    "scaling_factors_ethylene = []\n",
    "search_elements_ethylene = [\n",
    "    'bio-ethylene production (monomer)',\n",
    "    'fossil-ethylene production (monomer)',\n",
    "    'pyrolysis (monomer production), HDPE sorted',\n",
    "    'pyrolysis (monomer production), LDPE sorted'\n",
    "]\n",
    "ethylene_s_indices = [A_df_org.iloc[0,:].tolist().index(elem) for elem in search_elements_ethylene]\n",
    "ethylene_s_indices = [i-9 for i in ethylene_s_indices]\n",
    "for j in ethylene_s_indices:\n",
    "    scaling_factors_ethylene.append(model.s[j].value)\n",
    "scaling_factors_ethylene"
   ]
  },
  {
   "cell_type": "code",
   "execution_count": 86,
   "id": "0ff46b4d-568b-4c8d-9c9c-d76c69a77839",
   "metadata": {},
   "outputs": [
    {
     "data": {
      "text/plain": [
       "[1e-07, 617816677.582713, 1e-07]"
      ]
     },
     "execution_count": 86,
     "metadata": {},
     "output_type": "execute_result"
    }
   ],
   "source": [
    "#propylene\n",
    "propylene_s_indices = []\n",
    "scaling_factors_propylene = []\n",
    "search_elements_propylene = [\n",
    "    'bio-propylene production (monomer)',\n",
    "    'fossil-propylene production (monomer)',\n",
    "    'pyrolysis (monomer production), PP sorted',\n",
    "]\n",
    "propylene_s_indices = [A_df_org.iloc[0,:].tolist().index(elem) for elem in search_elements_propylene]\n",
    "propylene_s_indices = [i-9 for i in propylene_s_indices]\n",
    "for j in propylene_s_indices:\n",
    "    scaling_factors_propylene.append(model.s[j].value)\n",
    "scaling_factors_propylene   "
   ]
  },
  {
   "cell_type": "code",
   "execution_count": 87,
   "id": "b2c2b808-7a45-4466-aea8-0a7686c0997f",
   "metadata": {},
   "outputs": [
    {
     "data": {
      "text/plain": [
       "[1e-07, 2985904507.0878606, 1e-07, 1e-07]"
      ]
     },
     "execution_count": 87,
     "metadata": {},
     "output_type": "execute_result"
    }
   ],
   "source": [
    "#MEG\n",
    "MEG_s_indices = []\n",
    "scaling_factors_MEG = []\n",
    "search_elements_MEG = [\n",
    "    'bio-EG production (monomer)',\n",
    "    'fossil-EG production (monomer)',\n",
    "    'depolymerization, enzymatic hyrdrolysis, PET sorted',\n",
    "    'depolymerization, glycolysis, PET sorted'\n",
    "]\n",
    "MEG_s_indices = [A_df_org.iloc[0,:].tolist().index(elem) for elem in search_elements_MEG]\n",
    "MEG_s_indices = [i-9 for i in MEG_s_indices]\n",
    "for j in MEG_s_indices:\n",
    "    scaling_factors_MEG.append(model.s[j].value)\n",
    "scaling_factors_MEG   "
   ]
  },
  {
   "cell_type": "code",
   "execution_count": 88,
   "id": "57ec662a-89e9-4ab4-8b51-d9e03f4a1088",
   "metadata": {},
   "outputs": [
    {
     "data": {
      "text/plain": [
       "[1688756840.8414583, 1e-07, 1e-07]"
      ]
     },
     "execution_count": 88,
     "metadata": {},
     "output_type": "execute_result"
    }
   ],
   "source": [
    "#styrene\n",
    "styrene_s_indices = []\n",
    "scaling_factors_styrene = []\n",
    "search_elements_styrene = [\n",
    "    'bio-styrene production (monomer)',\n",
    "    'fossil-styrene production (monomer)',\n",
    "    'chemical recycling with metal oxide, PS sorted',\n",
    "]\n",
    "styrene_s_indices = [A_df_org.iloc[0,:].tolist().index(elem) for elem in search_elements_styrene]\n",
    "styrene_s_indices = [i-9 for i in styrene_s_indices]\n",
    "for j in styrene_s_indices:\n",
    "    scaling_factors_styrene.append(model.s[j].value)\n",
    "scaling_factors_styrene "
   ]
  },
  {
   "cell_type": "code",
   "execution_count": 89,
   "id": "ad786f65-1c20-4169-9155-6cb59029883a",
   "metadata": {},
   "outputs": [
    {
     "data": {
      "text/plain": [
       "[578502596.1822492, 1e-07]"
      ]
     },
     "execution_count": 89,
     "metadata": {},
     "output_type": "execute_result"
    }
   ],
   "source": [
    "#vinyl chloride\n",
    "vinyl_chloride_s_indices = []\n",
    "scaling_factors_vinyl_chloride = []\n",
    "search_elements_vinyl_chloride = [\n",
    "    'bio-vinyl chloride production (monomer)',\n",
    "    'fossil-vinyl chloride production (monomer)',\n",
    "]\n",
    "vinyl_chloride_s_indices = [A_df_org.iloc[0,:].tolist().index(elem) for elem in search_elements_vinyl_chloride]\n",
    "vinyl_chloride_s_indices = [i-9 for i in vinyl_chloride_s_indices]\n",
    "for j in vinyl_chloride_s_indices:\n",
    "    scaling_factors_vinyl_chloride.append(model.s[j].value)\n",
    "scaling_factors_vinyl_chloride  "
   ]
  },
  {
   "cell_type": "code",
   "execution_count": 90,
   "id": "9254c427-a833-45bf-b846-c7288c89bdee",
   "metadata": {},
   "outputs": [
    {
     "data": {
      "text/plain": [
       "[188192339.99999902, 1e-07, 6456698222.681562, 26814375192.7485]"
      ]
     },
     "execution_count": 90,
     "metadata": {},
     "output_type": "execute_result"
    }
   ],
   "source": [
    "# 2. polymers\n",
    "#polyethylene\n",
    "scaling_factors_polyethylene = []\n",
    "polyethylene_s_indices = []\n",
    "search_elements_polyethylene = [\n",
    "    'advanced recycling, STRAP, multi-layer plastic packaging',\n",
    "    'advanced recycling, delamination, multi-layer plastic packaging',\n",
    "    'LDPE production',\n",
    "    'mechanical recycling, LDPE sorted'\n",
    "]\n",
    "polyethylene_s_indices = [A_df_org.iloc[0,:].tolist().index(elem) for elem in search_elements_polyethylene]\n",
    "polyethylene_s_indices = [i-9 for i in polyethylene_s_indices]\n",
    "for j in polyethylene_s_indices:\n",
    "    scaling_factors_polyethylene.append(model.s[j].value)\n",
    "scaling_factors_polyethylene"
   ]
  },
  {
   "cell_type": "code",
   "execution_count": 91,
   "id": "6d141c65-8304-44f7-9645-8e3800c1a89e",
   "metadata": {},
   "outputs": [
    {
     "data": {
      "text/plain": [
       "[1e-07, 1.752294545e-05, 1e-07, 1e-07]"
      ]
     },
     "execution_count": 91,
     "metadata": {},
     "output_type": "execute_result"
    }
   ],
   "source": [
    "#polyethylene\n",
    "scaling_factors_polyethylene = []\n",
    "polyethylene_s_indices = []\n",
    "search_elements_polyethylene = [\n",
    "    'advanced recycling, delamination, multi-layer plastic packaging',\n",
    "    'advanced recycling, STRAP, multi-layer plastic packaging',\n",
    "    'HDPE production',\n",
    "    'mechanical recycling, HDPE sorted'\n",
    "]\n",
    "polyethylene_s_indices = [A_df_org.iloc[0,:].tolist().index(elem) for elem in search_elements_polyethylene]\n",
    "polyethylene_s_indices = [i-3 for i in polyethylene_s_indices]\n",
    "for j in polyethylene_s_indices:\n",
    "    scaling_factors_polyethylene.append(model.s[j].value)\n",
    "scaling_factors_polyethylene"
   ]
  },
  {
   "cell_type": "code",
   "execution_count": 92,
   "id": "bf6f1de6-89f0-4b34-ad12-fc4352956141",
   "metadata": {},
   "outputs": [
    {
     "data": {
      "text/plain": [
       "[1e-07, 188192339.99999902, 9983212384.287064, 38386721832.027]"
      ]
     },
     "execution_count": 92,
     "metadata": {},
     "output_type": "execute_result"
    }
   ],
   "source": [
    "#polypropylene\n",
    "scaling_factors_polypropylene = []\n",
    "polypropylene_s_indices = []\n",
    "search_elements_polypropylene = [\n",
    "    'advanced recycling, delamination, multi-layer plastic packaging',\n",
    "    'advanced recycling, STRAP, multi-layer plastic packaging',\n",
    "    'PP production',\n",
    "    'mechanical recycling, PP sorted'\n",
    "]\n",
    "polypropylene_s_indices = [A_df_org.iloc[0,:].tolist().index(elem) for elem in search_elements_polypropylene]\n",
    "polypropylene_s_indices = [i-9 for i in polypropylene_s_indices]\n",
    "for j in polypropylene_s_indices:\n",
    "    scaling_factors_polypropylene.append(model.s[j].value)\n",
    "scaling_factors_polypropylene"
   ]
  },
  {
   "cell_type": "code",
   "execution_count": 93,
   "id": "5d25222d-1bb2-4bf5-883d-c19304631c4f",
   "metadata": {},
   "outputs": [
    {
     "data": {
      "text/plain": [
       "[1e-07, 188192339.99999902, 8649781306.743553, 29197631480.53097]"
      ]
     },
     "execution_count": 93,
     "metadata": {},
     "output_type": "execute_result"
    }
   ],
   "source": [
    "#polyethylene terephthalate\n",
    "scaling_factors_PET = []\n",
    "PET_s_indices = []\n",
    "search_elements_PET = [\n",
    "    'advanced recycling, delamination, multi-layer plastic packaging',\n",
    "    'advanced recycling, STRAP, multi-layer plastic packaging',\n",
    "    'PET production',\n",
    "    'mechanical recycling, PET sorted'\n",
    "]\n",
    "PET_s_indices = [A_df_org.iloc[0,:].tolist().index(elem) for elem in search_elements_PET]\n",
    "PET_s_indices = [i-9 for i in PET_s_indices]\n",
    "for j in PET_s_indices:\n",
    "    scaling_factors_PET.append(model.s[j].value)\n",
    "scaling_factors_PET"
   ]
  },
  {
   "cell_type": "code",
   "execution_count": 94,
   "id": "4e9261f5-61c2-4471-a53f-b4acf66dcb8f",
   "metadata": {},
   "outputs": [
    {
     "data": {
      "text/plain": [
       "[1e-07, 188192339.99999902, 1712735132.699248, 6585684505.610024]"
      ]
     },
     "execution_count": 94,
     "metadata": {},
     "output_type": "execute_result"
    }
   ],
   "source": [
    "#polystyrene terephthalate\n",
    "scaling_factors_PS = []\n",
    "PS_s_indices = []\n",
    "search_elements_PS = [\n",
    "    'advanced recycling, delamination, multi-layer plastic packaging',\n",
    "    'advanced recycling, STRAP, multi-layer plastic packaging',\n",
    "    'PS production',\n",
    "    'mechanical recycling, PS sorted'\n",
    "]\n",
    "PS_s_indices = [A_df_org.iloc[0,:].tolist().index(elem) for elem in search_elements_PS]\n",
    "PS_s_indices = [i-9 for i in PS_s_indices]\n",
    "for j in PS_s_indices:\n",
    "    scaling_factors_PS.append(model.s[j].value)\n",
    "scaling_factors_PS"
   ]
  },
  {
   "cell_type": "code",
   "execution_count": 95,
   "id": "a89a43fe-40c9-483d-8f89-ab9afec90903",
   "metadata": {},
   "outputs": [
    {
     "data": {
      "text/plain": [
       "[1e-07, 188192339.99999902, 580243326.1607316, 2509178.1319714095]"
      ]
     },
     "execution_count": 95,
     "metadata": {},
     "output_type": "execute_result"
    }
   ],
   "source": [
    "#polyvinyl chloride\n",
    "scaling_factors_PVC = []\n",
    "PVC_s_indices = []\n",
    "search_elements_PVC = [\n",
    "    'advanced recycling, delamination, multi-layer plastic packaging',\n",
    "    'advanced recycling, STRAP, multi-layer plastic packaging',\n",
    "    'PVC production',\n",
    "    'mechanical recycling, PVC sorted'\n",
    "]\n",
    "PVC_s_indices = [A_df_org.iloc[0,:].tolist().index(elem) for elem in search_elements_PVC]\n",
    "PVC_s_indices = [i-9 for i in PVC_s_indices]\n",
    "for j in PVC_s_indices:\n",
    "    scaling_factors_PVC.append(model.s[j].value)\n",
    "scaling_factors_PVC"
   ]
  },
  {
   "cell_type": "code",
   "execution_count": 96,
   "id": "592292f2-89cc-4d4b-b197-6c397c313e62",
   "metadata": {},
   "outputs": [
    {
     "data": {
      "text/plain": [
       "[1e-07, 1e-07, 160027500000.0, 1e-07, 1e-07]"
      ]
     },
     "execution_count": 96,
     "metadata": {},
     "output_type": "execute_result"
    }
   ],
   "source": [
    "#3. mixed plastic collected waste (sorting, energy recovery, landfill, mismanaged)\n",
    "\n",
    "scaling_factors_mixed = []\n",
    "mixed_s_indices = []\n",
    "search_elements_mixed = [\n",
    "    'incineration, electricity recovery, plastic packaging waste',\n",
    "    'landfill, plastic packaging waste',\n",
    "    'High-tech MRF',\n",
    "    'Med-tech MRF',\n",
    "    'Low-tech MRF',\n",
    "]\n",
    "mixed_s_indices = [A_df_org.iloc[0,:].tolist().index(elem) for elem in search_elements_mixed]\n",
    "mixed_s_indices = [i-9 for i in mixed_s_indices]\n",
    "for j in mixed_s_indices:\n",
    "    scaling_factors_mixed.append(model.s[j].value)\n",
    "scaling_factors_mixed"
   ]
  },
  {
   "cell_type": "code",
   "execution_count": 97,
   "id": "e23d860b-ed37-4685-8720-1246569adc12",
   "metadata": {},
   "outputs": [
    {
     "data": {
      "text/plain": [
       "[1e-07, 1e-07, 1e-07, 1e-07, -1.8874893912999998e-07]"
      ]
     },
     "execution_count": 97,
     "metadata": {},
     "output_type": "execute_result"
    }
   ],
   "source": [
    "#4. mixed plastic waste, sorted (sorting, energy recovery, landfill, mismanaged)\n",
    "\n",
    "scaling_factors_mixed = []\n",
    "mixed_s_indices = []\n",
    "search_elements_mixed = [\n",
    "    'cement clinker, mixed plastic packaging, sorted',\n",
    "    'plastic lumber production from sorted mixed plastic waste',\n",
    "    'pyrolysis, feedstock recycling, mixed plastic waste, sorted',\n",
    "    'PET fiber production from sorted PET waste',\n",
    "    'road pavement production from sorted mixed plastic waste'\n",
    "]\n",
    "mixed_s_indices = [A_df_org.iloc[0,:].tolist().index(elem) for elem in search_elements_mixed]\n",
    "mixed_s_indices = [i-9 for i in mixed_s_indices]\n",
    "for j in mixed_s_indices:\n",
    "    scaling_factors_mixed.append(model.s[j].value)\n",
    "scaling_factors_mixed"
   ]
  },
  {
   "cell_type": "code",
   "execution_count": 98,
   "id": "007be644-fa8a-481e-ba9b-be60252863b0",
   "metadata": {},
   "outputs": [
    {
     "data": {
      "text/plain": [
       "[24017538114.78965, 1e-07]"
      ]
     },
     "execution_count": 98,
     "metadata": {},
     "output_type": "execute_result"
    }
   ],
   "source": [
    "#5. Plastic residues\n",
    "scaling_factors_mixed = []\n",
    "mixed_s_indices = []\n",
    "search_elements_mixed = [\n",
    "    'landfill, plastic residues',\n",
    "    'incineration, electricity recovery, plastic residues'\n",
    "]\n",
    "mixed_s_indices = [A_df_org.iloc[0,:].tolist().index(elem) for elem in search_elements_mixed]\n",
    "mixed_s_indices = [i-9 for i in mixed_s_indices]\n",
    "for j in mixed_s_indices:\n",
    "    scaling_factors_mixed.append(model.s[j].value)\n",
    "scaling_factors_mixed"
   ]
  },
  {
   "cell_type": "code",
   "execution_count": 99,
   "id": "51e7dd8b-c557-44d2-8c6e-d23c41ecb0c8",
   "metadata": {},
   "outputs": [
    {
     "data": {
      "text/plain": [
       "[1e-07,\n",
       " 3178441115501.3555,\n",
       " 1e-07,\n",
       " 1e-07,\n",
       " 1e-07,\n",
       " 1e-07,\n",
       " 1e-07,\n",
       " 1e-07,\n",
       " 1e-07,\n",
       " 1e-07]"
      ]
     },
     "execution_count": 99,
     "metadata": {},
     "output_type": "execute_result"
    }
   ],
   "source": [
    "#6. Energy Grid\n",
    "scaling_factors_mixed = []\n",
    "mixed_s_indices = []\n",
    "search_elements_mixed = [\n",
    "        'Electrcity, natural gas ',\n",
    "        'Electrcity, coal',\n",
    "        'Electrcity, oil',\n",
    "        'Electrcity, nuclear',\n",
    "        'Electrcity, wind',\n",
    "        'Electricity, solar',\n",
    "        'Electricity, hydropower',\n",
    "        'Electrcity, biopower',\n",
    "        'Electrcity, geothermal',\n",
    "        'Electrcity, ocean energy']\n",
    "mixed_s_indices = [A_df_org.iloc[0,:].tolist().index(elem) for elem in search_elements_mixed]\n",
    "mixed_s_indices = [i-9 for i in mixed_s_indices]\n",
    "for j in mixed_s_indices:\n",
    "    scaling_factors_mixed.append(model.s[j].value)\n",
    "scaling_factors_mixed"
   ]
  },
  {
   "cell_type": "code",
   "execution_count": null,
   "id": "fcfad377-7fdf-44f8-97fe-772ea0048162",
   "metadata": {},
   "outputs": [],
   "source": []
  }
 ],
 "metadata": {
  "kernelspec": {
   "display_name": "Python 3 (ipykernel)",
   "language": "python",
   "name": "python3"
  },
  "language_info": {
   "codemirror_mode": {
    "name": "ipython",
    "version": 3
   },
   "file_extension": ".py",
   "mimetype": "text/x-python",
   "name": "python",
   "nbconvert_exporter": "python",
   "pygments_lexer": "ipython3",
   "version": "3.9.13"
  }
 },
 "nbformat": 4,
 "nbformat_minor": 5
}
