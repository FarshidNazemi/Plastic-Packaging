{
 "cells": [
  {
   "cell_type": "code",
   "execution_count": 1,
   "id": "c2656b02-ab1a-440c-a740-470ae9a23ea3",
   "metadata": {},
   "outputs": [],
   "source": [
    "import numpy as np\n",
    "import pandas as pd\n",
    "import matplotlib.pyplot as plt\n",
    "import copy"
   ]
  },
  {
   "cell_type": "code",
   "execution_count": 2,
   "id": "ae1c0246-b4ed-40ee-b4bd-d3bb1f8f5845",
   "metadata": {},
   "outputs": [],
   "source": [
    "from pyomo.environ import *\n",
    "from pyomo.environ import RangeSet\n",
    "from pyomo.environ import value"
   ]
  },
  {
   "cell_type": "code",
   "execution_count": 11,
   "id": "7a861f89-67d8-4819-b42e-e6583d1493cc",
   "metadata": {},
   "outputs": [],
   "source": [
    "A_url = \"https://raw.githubusercontent.com/FarshidNazemi/Plastic-Packaging/main/csv-files/Technology%20Matrix%20(A)%20-%20Design.csv\"\n",
    "B_url = \"https://raw.githubusercontent.com/FarshidNazemi/Plastic-Packaging/main/csv-files/Environmental%20Matrix%20(B)%20-%20Design.csv\"\n",
    "C_url = \"https://raw.githubusercontent.com/FarshidNazemi/Plastic-Packaging/main/csv-files/Characterization%20Matrix%20(C)%20-%20Design.csv\""
   ]
  },
  {
   "cell_type": "code",
   "execution_count": 16,
   "id": "43f2c423-d1c6-479d-aec2-145f4fcf03cd",
   "metadata": {},
   "outputs": [],
   "source": [
    "A_df = pd.read_csv(A_url)\n",
    "B_df = pd.read_csv(B_url)\n",
    "C_df = pd.read_csv(C_url)"
   ]
  },
  {
   "cell_type": "code",
   "execution_count": 17,
   "id": "115f5c61-9b71-49b0-9e24-42e21ea68cea",
   "metadata": {},
   "outputs": [],
   "source": [
    "A_df_org = A_df\n",
    "B_df_org = B_df\n",
    "C_df_org = C_df"
   ]
  },
  {
   "cell_type": "code",
   "execution_count": 18,
   "id": "7d1f1a8e-2fe8-4fc9-8104-1f50f7451fc8",
   "metadata": {},
   "outputs": [],
   "source": [
    "#Building A matrix\n",
    "# Step 1: Delete the first 4 columns\n",
    "A_df = A_df.drop(A_df.columns[:4], axis=1)\n",
    "\n",
    "# Step 2: Delete the first 4 rows (first row is heading, so put 3)\n",
    "A_df = A_df.iloc[3:]\n",
    "\n",
    "#Replacing empty values with zero and getting the final A matrix\n",
    "A=A_df\n",
    "A=A.replace(np.nan, 0)\n",
    "A=np.array(A,dtype='float64')"
   ]
  },
  {
   "cell_type": "code",
   "execution_count": 22,
   "id": "bf3ebd60-f00e-4c40-9450-8c37c1791a42",
   "metadata": {},
   "outputs": [],
   "source": [
    "#Building B matrix\n",
    "# Step 1: Delete the first 6 columns\n",
    "B_df = B_df.drop(B_df.columns[:6], axis=1)\n",
    "\n",
    "# Step 2: Delete the first 4 rows (first row is heading, so put 3)\n",
    "B_df = B_df.iloc[3:]\n",
    "\n",
    "#Replacing empty values with zero and getting the final B matrix\n",
    "B=B_df\n",
    "B=B.replace(np.nan, 0)\n",
    "B=np.array(B,dtype='float64')"
   ]
  },
  {
   "cell_type": "code",
   "execution_count": 28,
   "id": "4cdd908a-7d69-4dd6-8d77-abe32416e4bc",
   "metadata": {},
   "outputs": [],
   "source": [
    "#Building C matrix\n",
    "# Step 1: Delete the first 6 columns\n",
    "C_df = C_df.drop(C_df.columns[:6], axis=1)\n",
    "\n",
    "# Step 2: Delete the first 5 rows (first row is heading, so put 3)\n",
    "C_df = C_df.iloc[4:]\n",
    "\n",
    "#Replacing empty values with zero and getting the final B matrix\n",
    "C=C_df\n",
    "C=C.replace(np.nan, 0)\n",
    "C=np.array(C,dtype='float64')"
   ]
  },
  {
   "cell_type": "code",
   "execution_count": null,
   "id": "76dc7b6b-923b-4388-8244-fa8e32e7b316",
   "metadata": {},
   "outputs": [],
   "source": []
  }
 ],
 "metadata": {
  "kernelspec": {
   "display_name": "Python 3 (ipykernel)",
   "language": "python",
   "name": "python3"
  },
  "language_info": {
   "codemirror_mode": {
    "name": "ipython",
    "version": 3
   },
   "file_extension": ".py",
   "mimetype": "text/x-python",
   "name": "python",
   "nbconvert_exporter": "python",
   "pygments_lexer": "ipython3",
   "version": "3.9.13"
  }
 },
 "nbformat": 4,
 "nbformat_minor": 5
}
