{
 "cells": [
  {
   "cell_type": "code",
   "execution_count": 29,
   "id": "c2656b02-ab1a-440c-a740-470ae9a23ea3",
   "metadata": {},
   "outputs": [],
   "source": [
    "import numpy as np\n",
    "import pandas as pd\n",
    "import matplotlib.pyplot as plt\n",
    "import copy"
   ]
  },
  {
   "cell_type": "code",
   "execution_count": 30,
   "id": "ae1c0246-b4ed-40ee-b4bd-d3bb1f8f5845",
   "metadata": {},
   "outputs": [],
   "source": [
    "from pyomo.environ import *\n",
    "from pyomo.environ import RangeSet\n",
    "from pyomo.environ import value"
   ]
  },
  {
   "cell_type": "code",
   "execution_count": 31,
   "id": "7a861f89-67d8-4819-b42e-e6583d1493cc",
   "metadata": {},
   "outputs": [],
   "source": [
    "A_url = \"https://raw.githubusercontent.com/FarshidNazemi/Plastic-Packaging/main/csv-files/Technology%20Matrix%20(A)%20-%20Design.csv\"\n",
    "B_url = \"https://raw.githubusercontent.com/FarshidNazemi/Plastic-Packaging/main/csv-files/Environmental%20Matrix%20(B)%20-%20Design.csv\"\n",
    "C_url = \"https://raw.githubusercontent.com/FarshidNazemi/Plastic-Packaging/main/csv-files/Characterization%20Matrix%20(C)%20-%20Design.csv\""
   ]
  },
  {
   "cell_type": "code",
   "execution_count": 32,
   "id": "43f2c423-d1c6-479d-aec2-145f4fcf03cd",
   "metadata": {},
   "outputs": [],
   "source": [
    "A_df = pd.read_csv(A_url,header=None)\n",
    "B_df = pd.read_csv(B_url,header=None)\n",
    "C_df = pd.read_csv(C_url,header=None)"
   ]
  },
  {
   "cell_type": "code",
   "execution_count": 33,
   "id": "115f5c61-9b71-49b0-9e24-42e21ea68cea",
   "metadata": {},
   "outputs": [],
   "source": [
    "A_df_org = A_df\n",
    "B_df_org = B_df\n",
    "C_df_org = C_df"
   ]
  },
  {
   "cell_type": "code",
   "execution_count": 34,
   "id": "7d1f1a8e-2fe8-4fc9-8104-1f50f7451fc8",
   "metadata": {},
   "outputs": [],
   "source": [
    "#Building A matrix\n",
    "# Step 1: Delete the first 4 columns\n",
    "A_df = A_df.drop(A_df.columns[:4], axis=1)\n",
    "\n",
    "# Step 2: Delete the first 4 rows (first row is heading, so put 3)\n",
    "A_df = A_df.iloc[4:]\n",
    "\n",
    "#Replacing empty values with zero and getting the final A matrix\n",
    "A=A_df\n",
    "A=A.replace(np.nan, 0)\n",
    "A=np.array(A,dtype='float64')"
   ]
  },
  {
   "cell_type": "code",
   "execution_count": 35,
   "id": "bf3ebd60-f00e-4c40-9450-8c37c1791a42",
   "metadata": {},
   "outputs": [],
   "source": [
    "#Building B matrix\n",
    "# Step 1: Delete the first 6 columns\n",
    "B_df = B_df.drop(B_df.columns[:6], axis=1)\n",
    "\n",
    "# Step 2: Delete the first 4 rows (first row is heading, so put 3)\n",
    "B_df = B_df.iloc[4:]\n",
    "\n",
    "#Replacing empty values with zero and getting the final B matrix\n",
    "B=B_df\n",
    "B=B.replace(np.nan, 0)\n",
    "B=np.array(B,dtype='float64')"
   ]
  },
  {
   "cell_type": "code",
   "execution_count": 36,
   "id": "4cdd908a-7d69-4dd6-8d77-abe32416e4bc",
   "metadata": {},
   "outputs": [],
   "source": [
    "#Building C matrix\n",
    "# Step 1: Delete the first 6 columns\n",
    "C_df = C_df.drop(C_df.columns[:6], axis=1)\n",
    "\n",
    "# Step 2: Delete the first 5 rows (first row is heading, so put 3)\n",
    "C_df = C_df.iloc[5:]\n",
    "\n",
    "#Replacing empty values with zero and getting the final B matrix\n",
    "C=C_df\n",
    "C=C.replace(np.nan, 0)\n",
    "C=np.array(C,dtype='float64')"
   ]
  },
  {
   "cell_type": "code",
   "execution_count": 37,
   "id": "76dc7b6b-923b-4388-8244-fa8e32e7b316",
   "metadata": {},
   "outputs": [],
   "source": [
    "#Functional Unit\n",
    "# F = 168.450 million metric tons = 168,450,000 metric tons = 168,450,000,000 kg\n",
    "F=168450000000\n",
    "F=int(F)\n",
    "#defining f matrix\n",
    "f=np.zeros(len(A))\n",
    "f[0]=F"
   ]
  },
  {
   "cell_type": "code",
   "execution_count": 38,
   "id": "c6f861eb-432a-4119-93fe-8073e05c0548",
   "metadata": {},
   "outputs": [],
   "source": [
    "C_gwp= np.transpose(C)[[0]]\n",
    "coef_GWP=C_gwp@B\n",
    "coef_GWP=np.array(coef_GWP)\n",
    "coef_GWP = coef_GWP.reshape(-1)"
   ]
  },
  {
   "cell_type": "code",
   "execution_count": 57,
   "id": "d756d2b5-7523-4d96-a8bc-301f7625999a",
   "metadata": {},
   "outputs": [
    {
     "data": {
      "text/plain": [
       "{'Problem': [{'Name': 'x144', 'Lower bound': 384122725898.23236, 'Upper bound': 384122725898.23236, 'Number of objectives': 1, 'Number of constraints': 259, 'Number of variables': 144, 'Number of binary variables': 0, 'Number of integer variables': 0, 'Number of continuous variables': 144, 'Number of nonzeros': 610, 'Sense': 'minimize'}], 'Solver': [{'Status': 'ok', 'Return code': '0', 'Message': 'Model was solved to optimality (subject to tolerances), and an optimal solution is available.', 'Termination condition': 'optimal', 'Termination message': 'Model was solved to optimality (subject to tolerances), and an optimal solution is available.', 'Wall time': '0.0006971359252929688', 'Error rc': 0, 'Time': 0.0762779712677002}], 'Solution': [OrderedDict([('number of solutions', 0), ('number of solutions displayed', 0)])]}"
      ]
     },
     "execution_count": 57,
     "metadata": {},
     "output_type": "execute_result"
    }
   ],
   "source": [
    "#Model Formulation\n",
    "# Create the model\n",
    "model = ConcreteModel()\n",
    "# List of processes with negative scaling factor due to open loop recovery and substitution approach\n",
    "negative_s_indices = []\n",
    "positive_s_indices = []\n",
    "all_s_indices = []\n",
    "search_elements_zero_or_negative = [\n",
    "    'textile production, nonwoven polyester, needle-punched | textile, nonwoven polyester | APOS, S',\n",
    "    'market for sawlog and veneer log, softwood, debarked, measured as solid wood | sawlog and veneer log, softwood, debarked, measured as solid wood | APOS, S',\n",
    "    'pitch production, petroleum refinery operation | pitch | APOS, S',\n",
    "    'lignite mine operation | lignite | APOS, S',\n",
    "    'naphtha production, petroleum refinery operation | naphtha | APOS, S',\n",
    "    'sodium sulfate production, from natural sources | sodium sulfate, anhydrite | APOS, S',\n",
    "    'methanol production | methanol | APOS, S',\n",
    "    'petroleum production, onshore | petroleum | APOS, S'\n",
    "]\n",
    "\n",
    "search_elements_zero_or_negative_or_positive = [\n",
    "    'textile production, nonwoven polyester, needle-punched | textile, nonwoven polyester | APOS, S',\n",
    "    'market for sawlog and veneer log, softwood, debarked, measured as solid wood | sawlog and veneer log, softwood, debarked, measured as solid wood | APOS, S',\n",
    "    'pitch production, petroleum refinery operation | pitch | APOS, S',\n",
    "    'lignite mine operation | lignite | APOS, S',\n",
    "    'market group for electricity, medium voltage | electricity, medium voltage | APOS, S',\n",
    "    'heat production, natural gas, at industrial furnace low-NOx >100kW | heat, district or industrial, natural gas | APOS, S',\n",
    "    'naphtha production, petroleum refinery operation | naphtha | APOS, S',\n",
    "    'sodium sulfate production, from natural sources | sodium sulfate, anhydrite | APOS, S',\n",
    "    'methanol production | methanol | APOS, S',\n",
    "    'petroleum production, onshore | petroleum | APOS, S'\n",
    "]\n",
    "\n",
    "# Search for elements in the first row of the DataFrame\n",
    "negative_s_indices = [A_df_org.iloc[0,:].tolist().index(elem) for elem in search_elements_zero_or_negative]\n",
    "negative_s_indices = [i-3 for i in negative_s_indices]\n",
    "negative_or_positive_s_indices = [A_df_org.iloc[0,:].tolist().index(elem) for elem in search_elements_zero_or_negative_or_positive]\n",
    "negative_or_positive_s_indices = [i-3 for i in negative_or_positive_s_indices]\n",
    "all_s_indices = list(range(1, len(np.transpose(A))+1))\n",
    "positive_s_indices = [index for index in all_s_indices if index not in negative_or_positive_s_indices]\n",
    "\n",
    "# Define the decision variable\n",
    "model.set_s = RangeSet(len(np.transpose(A)))\n",
    "model.s = Var(model.set_s)\n",
    "model.set_negative_scale = Set(initialize=negative_s_indices)\n",
    "model.set_positive_scale = Set(initialize=positive_s_indices)\n",
    "\n",
    "#model constraint: As = f and s>=0\n",
    "model.set_balance = RangeSet(len(f))\n",
    "def balance(model, p): # As = f\n",
    "    return sum(A[p-1,i-1]*model.s[i] for i in model.set_s) == f[p-1]\n",
    "def negative_scale(model, i):\n",
    "    return (model.s[i]<=0)\n",
    "def positive_scale(model, i):\n",
    "    return (model.s[i]>=0)\n",
    "\n",
    "model.balance_constraints = Constraint(model.set_balance, rule=balance)\n",
    "model.negative_scale_constraints = Constraint(model.set_negative_scale, rule=negative_scale)\n",
    "model.positive_scale_constraints = Constraint(model.set_positive_scale, rule=positive_scale)\n",
    "\n",
    "model.obj = Objective(expr = sum(coef_GWP[i-1]*model.s[i] for i in model.set_s), sense=minimize)\n",
    "#Solver\n",
    "solver = SolverFactory('gurobi')\n",
    "solver.solve(model) # solves and updates instance"
   ]
  },
  {
   "cell_type": "code",
   "execution_count": 58,
   "id": "2cd9c1c2-e0af-49dd-b69b-8f0f6bf3ff77",
   "metadata": {},
   "outputs": [
    {
     "data": {
      "text/plain": [
       "384122725898.2325"
      ]
     },
     "execution_count": 58,
     "metadata": {},
     "output_type": "execute_result"
    }
   ],
   "source": [
    "#total CO2 emission (kg CO2eq)\n",
    "value(model.obj)"
   ]
  },
  {
   "cell_type": "code",
   "execution_count": 59,
   "id": "4edea4a0-48f3-432b-9a06-0936c59f1447",
   "metadata": {},
   "outputs": [
    {
     "data": {
      "text/plain": [
       "2.2803367521414812"
      ]
     },
     "execution_count": 59,
     "metadata": {},
     "output_type": "execute_result"
    }
   ],
   "source": [
    "#kg CO2 eq per kg of packaging product\n",
    "value(model.obj)/168450000000"
   ]
  },
  {
   "cell_type": "code",
   "execution_count": 60,
   "id": "f5176bd9-705c-46e4-b62c-49920ef8a23f",
   "metadata": {},
   "outputs": [
    {
     "data": {
      "text/plain": [
       "0.006984049561786045"
      ]
     },
     "execution_count": 60,
     "metadata": {},
     "output_type": "execute_result"
    }
   ],
   "source": [
    "#share of global CO2 emissions\n",
    "value(model.obj)/55000000000000"
   ]
  },
  {
   "cell_type": "code",
   "execution_count": 61,
   "id": "9d0adeb5-c3a5-400c-b1c1-fc639714fe3d",
   "metadata": {},
   "outputs": [],
   "source": [
    "scaling_factors = []\n",
    "for j in model.s:\n",
    "    scaling_factors.append(model.s[j].value)  "
   ]
  },
  {
   "cell_type": "code",
   "execution_count": 62,
   "id": "a352124c-1b29-46a8-83ad-f96797a69401",
   "metadata": {},
   "outputs": [
    {
     "data": {
      "text/plain": [
       "[0.0, 74362954650.72348, 0.0, 0.0]"
      ]
     },
     "execution_count": 62,
     "metadata": {},
     "output_type": "execute_result"
    }
   ],
   "source": [
    "#1. monomer production\n",
    "#ethylene\n",
    "ethylene_s_indices = []\n",
    "scaling_factors_ethylene = []\n",
    "search_elements_ethylene = [\n",
    "    'Bio-ethylene production (monomer)',\n",
    "    'Fossil-ethylene production',\n",
    "    'pyrolysis (monomer production), HDPE sorted',\n",
    "    'pyrolysis (monomer production), LDPE sorted'\n",
    "]\n",
    "ethylene_s_indices = [A_df_org.iloc[0,:].tolist().index(elem) for elem in search_elements_ethylene]\n",
    "ethylene_s_indices = [i-3 for i in ethylene_s_indices]\n",
    "for j in ethylene_s_indices:\n",
    "    scaling_factors_ethylene.append(model.s[j].value)\n",
    "scaling_factors_ethylene"
   ]
  },
  {
   "cell_type": "code",
   "execution_count": 63,
   "id": "a07bae0f-f736-4dfe-a846-6574167d4578",
   "metadata": {},
   "outputs": [
    {
     "data": {
      "text/plain": [
       "[0.0, 48857376126.401146, 0.0]"
      ]
     },
     "execution_count": 63,
     "metadata": {},
     "output_type": "execute_result"
    }
   ],
   "source": [
    "#propylene\n",
    "propylene_s_indices = []\n",
    "scaling_factors_propylene = []\n",
    "search_elements_propylene = [\n",
    "    'Bio-propylene production (monomer)',\n",
    "    'Fossil-propylene production',\n",
    "    'pyrolysis (monomer production), PP sorted',\n",
    "]\n",
    "propylene_s_indices = [A_df_org.iloc[0,:].tolist().index(elem) for elem in search_elements_propylene]\n",
    "propylene_s_indices = [i-3 for i in propylene_s_indices]\n",
    "for j in propylene_s_indices:\n",
    "    scaling_factors_propylene.append(model.s[j].value)\n",
    "scaling_factors_propylene   "
   ]
  },
  {
   "cell_type": "code",
   "execution_count": 64,
   "id": "f6eecdd3-86a7-4bb6-9173-78f4a5e2f278",
   "metadata": {},
   "outputs": [
    {
     "data": {
      "text/plain": [
       "[0.0, 12986265878.469458, 0.0, 0.0]"
      ]
     },
     "execution_count": 64,
     "metadata": {},
     "output_type": "execute_result"
    }
   ],
   "source": [
    "#MEG\n",
    "MEG_s_indices = []\n",
    "scaling_factors_MEG = []\n",
    "search_elements_MEG = [\n",
    "    'Bio-MEG production (monomer)',\n",
    "    'Fossil-MEG production',\n",
    "    'depolymerization, enzymatic hydrolysis, PET sorted',\n",
    "    'depolymerization, glycolysis, PET sorted'\n",
    "]\n",
    "MEG_s_indices = [A_df_org.iloc[0,:].tolist().index(elem) for elem in search_elements_MEG]\n",
    "MEG_s_indices = [i-3 for i in MEG_s_indices]\n",
    "for j in MEG_s_indices:\n",
    "    scaling_factors_MEG.append(model.s[j].value)\n",
    "scaling_factors_MEG   "
   ]
  },
  {
   "cell_type": "code",
   "execution_count": 65,
   "id": "f9a73b00-e21d-496e-bd9e-10d588f45ff4",
   "metadata": {},
   "outputs": [
    {
     "data": {
      "text/plain": [
       "[0.0, 8490211206.103636, 0.0]"
      ]
     },
     "execution_count": 65,
     "metadata": {},
     "output_type": "execute_result"
    }
   ],
   "source": [
    "#styrene\n",
    "styrene_s_indices = []\n",
    "scaling_factors_styrene = []\n",
    "search_elements_styrene = [\n",
    "    'Bio-styrene production',\n",
    "    'Fossil-styrene production',\n",
    "    'chemical recycling with metal oxide, PS sorted',\n",
    "]\n",
    "styrene_s_indices = [A_df_org.iloc[0,:].tolist().index(elem) for elem in search_elements_styrene]\n",
    "styrene_s_indices = [i-3 for i in styrene_s_indices]\n",
    "for j in styrene_s_indices:\n",
    "    scaling_factors_styrene.append(model.s[j].value)\n",
    "scaling_factors_styrene "
   ]
  },
  {
   "cell_type": "code",
   "execution_count": 66,
   "id": "caa8e73d-0619-431a-b9b6-3089ee42284d",
   "metadata": {},
   "outputs": [
    {
     "data": {
      "text/plain": [
       "[0.0, 3564093390.0982757]"
      ]
     },
     "execution_count": 66,
     "metadata": {},
     "output_type": "execute_result"
    }
   ],
   "source": [
    "#vinyl chloride\n",
    "vinyl_chloride_s_indices = []\n",
    "scaling_factors_vinyl_chloride = []\n",
    "search_elements_vinyl_chloride = [\n",
    "    'Bio-vinyl chloride production',\n",
    "    'Fossil-vinyl chloride production',\n",
    "]\n",
    "vinyl_chloride_s_indices = [A_df_org.iloc[0,:].tolist().index(elem) for elem in search_elements_vinyl_chloride]\n",
    "vinyl_chloride_s_indices = [i-3 for i in vinyl_chloride_s_indices]\n",
    "for j in vinyl_chloride_s_indices:\n",
    "    scaling_factors_vinyl_chloride.append(model.s[j].value)\n",
    "scaling_factors_vinyl_chloride  "
   ]
  },
  {
   "cell_type": "code",
   "execution_count": 67,
   "id": "80fb7b7f-23c3-40b7-9a3d-b944e2b6cff9",
   "metadata": {},
   "outputs": [
    {
     "data": {
      "text/plain": [
       "[0.0, 0.0, 34568875648.39365, 0.0]"
      ]
     },
     "execution_count": 67,
     "metadata": {},
     "output_type": "execute_result"
    }
   ],
   "source": [
    "# 2. polymers\n",
    "#polyethylene\n",
    "scaling_factors_polyethylene = []\n",
    "polyethylene_s_indices = []\n",
    "search_elements_polyethylene = [\n",
    "    'advanced recycling, delamination, multi-layer plastic packaging',\n",
    "    'advanced recycling, STRAP, multi-layer plastic packaging',\n",
    "    'LDPE production',\n",
    "    'mechanical recycling, LDPE sorted'\n",
    "]\n",
    "polyethylene_s_indices = [A_df_org.iloc[0,:].tolist().index(elem) for elem in search_elements_polyethylene]\n",
    "polyethylene_s_indices = [i-3 for i in polyethylene_s_indices]\n",
    "for j in polyethylene_s_indices:\n",
    "    scaling_factors_polyethylene.append(model.s[j].value)\n",
    "scaling_factors_polyethylene"
   ]
  },
  {
   "cell_type": "code",
   "execution_count": 68,
   "id": "513f3fd5-42f6-4b61-98ed-eb9536018029",
   "metadata": {},
   "outputs": [
    {
     "data": {
      "text/plain": [
       "[0.0, 0.0, 49487851352.6337, 0.0]"
      ]
     },
     "execution_count": 68,
     "metadata": {},
     "output_type": "execute_result"
    }
   ],
   "source": [
    "#polypropylene\n",
    "scaling_factors_polypropylene = []\n",
    "polypropylene_s_indices = []\n",
    "search_elements_polypropylene = [\n",
    "    'advanced recycling, delamination, multi-layer plastic packaging',\n",
    "    'advanced recycling, STRAP, multi-layer plastic packaging',\n",
    "    'PP production',\n",
    "    'mechanical recycling, PP sorted'\n",
    "]\n",
    "polypropylene_s_indices = [A_df_org.iloc[0,:].tolist().index(elem) for elem in search_elements_polypropylene]\n",
    "polypropylene_s_indices = [i-3 for i in polypropylene_s_indices]\n",
    "for j in polypropylene_s_indices:\n",
    "    scaling_factors_polypropylene.append(model.s[j].value)\n",
    "scaling_factors_polypropylene"
   ]
  },
  {
   "cell_type": "code",
   "execution_count": 69,
   "id": "82218728-f53a-4217-b578-c27a246bcd9a",
   "metadata": {},
   "outputs": [
    {
     "data": {
      "text/plain": [
       "[0.0, 0.0, 0.0, 160027500000.0, 0.0, 0.0, 0.0]"
      ]
     },
     "execution_count": 69,
     "metadata": {},
     "output_type": "execute_result"
    }
   ],
   "source": [
    "#3. mixed plastic collected waste (sorting, energy recovery, landfill, mismanaged)\n",
    "\n",
    "scaling_factors_mixed = []\n",
    "mixed_s_indices = []\n",
    "search_elements_mixed = [\n",
    "    'incineration, electricity recovery, plastic packaging waste',\n",
    "    'landfill, plastic packaging waste',\n",
    "    'Mismanaged waste treatment, uncontrolled landfill, plastic packaging waste',\n",
    "    'sorting, non-optical manual and automatic sorter (commercial)',\n",
    "    'sorting, optiacl sorter (commercial)',\n",
    "    'sorting, optical with film sorter (commercial)',\n",
    "    'sorting, optical with film, multilayer, and AI sorter (emerging)'\n",
    "]\n",
    "mixed_s_indices = [A_df_org.iloc[0,:].tolist().index(elem) for elem in search_elements_mixed]\n",
    "mixed_s_indices = [i-3 for i in mixed_s_indices]\n",
    "for j in mixed_s_indices:\n",
    "    scaling_factors_mixed.append(model.s[j].value)\n",
    "scaling_factors_mixed"
   ]
  },
  {
   "cell_type": "code",
   "execution_count": 70,
   "id": "15eccb21-62a3-47b7-b5be-a241323b4cde",
   "metadata": {},
   "outputs": [
    {
     "data": {
      "text/plain": [
       "[0.0, 0.0, 0.0, 0.0, 70732155000.0]"
      ]
     },
     "execution_count": 70,
     "metadata": {},
     "output_type": "execute_result"
    }
   ],
   "source": [
    "#4. mixed plastic waste, sorted (sorting, energy recovery, landfill, mismanaged)\n",
    "\n",
    "scaling_factors_mixed = []\n",
    "mixed_s_indices = []\n",
    "search_elements_mixed = [\n",
    "    'cement clinker, mixed plastic packaging,sorted',\n",
    "    'gasification to methanol, mixed plastic waste sorted',\n",
    "    'plastic lumber production, mixed plastic waste, sorted',\n",
    "    'pyrolysis, feedstock recycling, mixed plastic waste, sorted',\n",
    "    'road pavement production, mixed plastic waste, sorted'\n",
    "]\n",
    "mixed_s_indices = [A_df_org.iloc[0,:].tolist().index(elem) for elem in search_elements_mixed]\n",
    "mixed_s_indices = [i-3 for i in mixed_s_indices]\n",
    "for j in mixed_s_indices:\n",
    "    scaling_factors_mixed.append(model.s[j].value)\n",
    "scaling_factors_mixed"
   ]
  },
  {
   "cell_type": "code",
   "execution_count": 71,
   "id": "b6931858-fa0a-4fcd-ae25-837e4290331d",
   "metadata": {},
   "outputs": [
    {
     "ename": "SyntaxError",
     "evalue": "unexpected EOF while parsing (2032102939.py, line 35)",
     "output_type": "error",
     "traceback": [
      "\u001b[0;36m  File \u001b[0;32m\"/var/folders/q1/dbyqy0pj3lv2d5259l03mn_00000gn/T/ipykernel_94572/2032102939.py\"\u001b[0;36m, line \u001b[0;32m35\u001b[0m\n\u001b[0;31m    * abs(s[A_df_org.index[A_df_org.iloc[:, 0] == 'market for nylon 6 | nylon 6 | APOS, S'].tolist()[0] - 10])/1000\u001b[0m\n\u001b[0m                                                                                                                   ^\u001b[0m\n\u001b[0;31mSyntaxError\u001b[0m\u001b[0;31m:\u001b[0m unexpected EOF while parsing\n"
     ]
    }
   ],
   "source": [
    "# Sankey Diagram\n",
    "#data\n",
    "label = [\"Resources\",\"Feedstocks\",\"Fossil-based monomers\",\"Bio-based monomers\",\"Monomers\",\n",
    "        \"Polymers\",\"Products\",\"Use & collection\",\"Sorting\",\"Advanced Recycling\", \"Mechanical Recycling\",\n",
    "        \"Chemical Recycling\", \"Downcycling\", \"Energy Recovery\", \"Landfill\", \"Mismanaged Waste\",\n",
    "        \"Macroplastics\", \"Microplastics\"]\n",
    "\n",
    "#1: Resources\n",
    "#2: Feedstocks\n",
    "#3: Fossil-based monomers\n",
    "#4: Bio-based monomers\n",
    "#5: Monomers\n",
    "#6: Polymers\n",
    "#7: Products\n",
    "#8: Use & collection\n",
    "#9: Sorting\n",
    "#10: Advanced Recycling\n",
    "#11: Mechanical Recycling\n",
    "#12: Chemical Recycling\n",
    "#13: Downcycling\n",
    "#14: Energy Recovery\n",
    "#15: Landfill\n",
    "#16: Mismanaged Waste\n",
    "#17: Macroplastics\n",
    "#18: Microplastics\n",
    "\n",
    "source = [1,2,2,3,4,5,6,7,8, 8, 8, 8, 8, 9, 9, 9, 9, 9, 9, 9,10,10,10,10,11,11,11,11,12,12,12,12,12,13,13,13,16,17]\n",
    "target = [2,3,4,5,5,6,7,8,9,14,15,16,17,10,11,12,13,14,15,16, 7,14,15,16, 7,14,15,16, 5, 2,14,15,16,14,15,16,17,18]\n",
    "value = [\n",
    "    round(abs(A[A_df_org.index[A_df_org.iloc[:, 0] == 'market for maleic anhydride | maleic anhydride | APOS, S'].tolist()[0] - 10,\n",
    "                   A_df_org.index[A_df_org.iloc[:, 0] == 'market for maleic anhydride | maleic anhydride | APOS, S'].tolist()[0] - 10])\n",
    "                      * abs(s[A_df_org.index[A_df_org.iloc[:, 0] == 'market for maleic anhydride | maleic anhydride | APOS, S'].tolist()[0] - 10])/1000\n",
    "                      + abs(A_modified[A_df_org.index[A_df_org.iloc[:, 0] == 'market for nylon 6 | nylon 6 | APOS, S'].tolist()[0] - 10,\n",
    "                                        A_df_org.index[A_df_org.iloc[:, 0] == 'market for nylon 6 | nylon 6 | APOS, S'].tolist()[0] - 10])\n",
    "                      * abs(s[A_df_org.index[A_df_org.iloc[:, 0] == 'market for nylon 6 | nylon 6 | APOS, S'].tolist()[0] - 10])/1000\n"
   ]
  },
  {
   "cell_type": "code",
   "execution_count": null,
   "id": "48ca92b6-4ee5-4f75-90bf-500e6e0bbbf4",
   "metadata": {},
   "outputs": [],
   "source": []
  }
 ],
 "metadata": {
  "kernelspec": {
   "display_name": "Python 3 (ipykernel)",
   "language": "python",
   "name": "python3"
  },
  "language_info": {
   "codemirror_mode": {
    "name": "ipython",
    "version": 3
   },
   "file_extension": ".py",
   "mimetype": "text/x-python",
   "name": "python",
   "nbconvert_exporter": "python",
   "pygments_lexer": "ipython3",
   "version": "3.9.13"
  }
 },
 "nbformat": 4,
 "nbformat_minor": 5
}
