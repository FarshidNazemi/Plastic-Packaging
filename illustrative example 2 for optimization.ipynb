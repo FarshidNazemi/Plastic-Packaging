{
 "cells": [
  {
   "cell_type": "code",
   "execution_count": 1,
   "id": "b9e9a3de-1b49-4b66-8e8b-f96b16d5fb65",
   "metadata": {},
   "outputs": [],
   "source": [
    "import numpy as np"
   ]
  },
  {
   "cell_type": "code",
   "execution_count": 2,
   "id": "5ce6b81b-49eb-4b16-b5e7-c4414d160afb",
   "metadata": {},
   "outputs": [],
   "source": [
    "from pyomo.environ import *\n",
    "from pyomo.environ import RangeSet\n",
    "from pyomo.environ import value"
   ]
  },
  {
   "cell_type": "code",
   "execution_count": 3,
   "id": "4fa8e6b5-0986-4101-90ca-ba9b0137748e",
   "metadata": {},
   "outputs": [],
   "source": [
    "A = np.array([\n",
    "    [1,0,-1,0,0,0,0,0,0,0,0],\n",
    "    [0,1,0,-1,0,0,0,0,0,0,0],\n",
    "    [0,0,1,1,-1,0,0,0,0,0,0.6],\n",
    "    [0,0,0,0,1,-1,0,0,0,0.5,0],\n",
    "    [0,0,0,0,0,1,-1,0,0,0,0],\n",
    "    [0,0,0,0,0,0,1,0,0,0,0],\n",
    "    [0,0,0,0,0,0,1,-1,-1,0,0],\n",
    "    [0,0,0,0,0,0,0,0,1,-1,-1]\n",
    "])"
   ]
  },
  {
   "cell_type": "code",
   "execution_count": 11,
   "id": "c9cea229-065a-4953-a44e-57dbd21aef71",
   "metadata": {},
   "outputs": [
    {
     "data": {
      "text/plain": [
       "(8, 11)"
      ]
     },
     "execution_count": 11,
     "metadata": {},
     "output_type": "execute_result"
    }
   ],
   "source": [
    "np.shape(A)"
   ]
  },
  {
   "cell_type": "code",
   "execution_count": 4,
   "id": "685b8cef-561e-4441-8cf2-c732c9397dcc",
   "metadata": {},
   "outputs": [],
   "source": [
    "B = np.array ([\n",
    "    [1,2,1,1,0,0,0,0.1,0.1,0.5,0.7]\n",
    "])"
   ]
  },
  {
   "cell_type": "code",
   "execution_count": 5,
   "id": "47ba69b1-7d6a-4125-bae9-4fc060817d8b",
   "metadata": {},
   "outputs": [],
   "source": [
    "C = np.array ([\n",
    "    [1]\n",
    "])"
   ]
  },
  {
   "cell_type": "code",
   "execution_count": 6,
   "id": "806a6ddb-8333-4930-bba9-97aeed3dfe89",
   "metadata": {},
   "outputs": [],
   "source": [
    "coef_GWP=C@B\n",
    "coef_GWP=np.array(coef_GWP)\n",
    "coef_GWP = coef_GWP.reshape(-1)"
   ]
  },
  {
   "cell_type": "code",
   "execution_count": 24,
   "id": "31ca453c-2eb2-4abb-8a60-d897e50939f8",
   "metadata": {},
   "outputs": [],
   "source": [
    "F=1\n",
    "f=np.zeros(len(A))\n",
    "f[5]=F"
   ]
  },
  {
   "cell_type": "code",
   "execution_count": 25,
   "id": "40f555d4-e92e-49ca-8b5f-86b61c00ffef",
   "metadata": {},
   "outputs": [
    {
     "data": {
      "text/plain": [
       "8"
      ]
     },
     "execution_count": 25,
     "metadata": {},
     "output_type": "execute_result"
    }
   ],
   "source": [
    "len(A)"
   ]
  },
  {
   "cell_type": "code",
   "execution_count": 31,
   "id": "cca30ba7-5716-4b95-b4ec-1de05a35995c",
   "metadata": {},
   "outputs": [
    {
     "name": "stdout",
     "output_type": "stream",
     "text": [
      "ERROR: Solver (gurobi) returned non-zero return code (1)\n",
      "ERROR: Solver log: Set parameter Username Traceback (most recent call last):\n",
      "      File \"<stdin>\", line 5, in <module> File\n",
      "      \"/Users/farshidnazemi/opt/anaconda3/envs/REMADE/lib/python3.9/site-\n",
      "      packages/pyomo/solvers/plugins/solvers/GUROBI_RUN.py\", line 67, in\n",
      "      gurobi_run\n",
      "        model = read(model_file)\n",
      "      File \"src/gurobipy/gurobi.pxi\", line 3779, in gurobipy.read File\n",
      "      \"src/gurobipy/gurobi.pxi\", line 112, in gurobipy.gurobi.read File\n",
      "      \"src/gurobipy/gurobi.pxi\", line 60, in gurobipy.gurobi._getdefaultenv\n",
      "      File \"src/gurobipy/env.pxi\", line 70, in gurobipy.Env.__init__\n",
      "    gurobipy.GurobiError: Version number is 11.0, license is for version 10.0\n"
     ]
    },
    {
     "ename": "ApplicationError",
     "evalue": "Solver (gurobi) did not exit normally",
     "output_type": "error",
     "traceback": [
      "\u001b[0;31m---------------------------------------------------------------------------\u001b[0m",
      "\u001b[0;31mApplicationError\u001b[0m                          Traceback (most recent call last)",
      "\u001b[0;32m/var/folders/q1/dbyqy0pj3lv2d5259l03mn_00000gn/T/ipykernel_93351/1009831411.py\u001b[0m in \u001b[0;36m<module>\u001b[0;34m\u001b[0m\n\u001b[1;32m     23\u001b[0m \u001b[0;31m#Solver\u001b[0m\u001b[0;34m\u001b[0m\u001b[0;34m\u001b[0m\u001b[0m\n\u001b[1;32m     24\u001b[0m \u001b[0msolver\u001b[0m \u001b[0;34m=\u001b[0m \u001b[0mSolverFactory\u001b[0m\u001b[0;34m(\u001b[0m\u001b[0;34m'gurobi'\u001b[0m\u001b[0;34m)\u001b[0m\u001b[0;34m\u001b[0m\u001b[0;34m\u001b[0m\u001b[0m\n\u001b[0;32m---> 25\u001b[0;31m \u001b[0msolver\u001b[0m\u001b[0;34m.\u001b[0m\u001b[0msolve\u001b[0m\u001b[0;34m(\u001b[0m\u001b[0mmodel\u001b[0m\u001b[0;34m)\u001b[0m \u001b[0;31m# solves and updates instance\u001b[0m\u001b[0;34m\u001b[0m\u001b[0;34m\u001b[0m\u001b[0m\n\u001b[0m",
      "\u001b[0;32m~/opt/anaconda3/envs/REMADE/lib/python3.9/site-packages/pyomo/opt/base/solvers.py\u001b[0m in \u001b[0;36msolve\u001b[0;34m(self, *args, **kwds)\u001b[0m\n\u001b[1;32m    594\u001b[0m                 \u001b[0;32melif\u001b[0m \u001b[0mhasattr\u001b[0m\u001b[0;34m(\u001b[0m\u001b[0m_status\u001b[0m\u001b[0;34m,\u001b[0m \u001b[0;34m'log'\u001b[0m\u001b[0;34m)\u001b[0m \u001b[0;32mand\u001b[0m \u001b[0m_status\u001b[0m\u001b[0;34m.\u001b[0m\u001b[0mlog\u001b[0m\u001b[0;34m:\u001b[0m\u001b[0;34m\u001b[0m\u001b[0;34m\u001b[0m\u001b[0m\n\u001b[1;32m    595\u001b[0m                     \u001b[0mlogger\u001b[0m\u001b[0;34m.\u001b[0m\u001b[0merror\u001b[0m\u001b[0;34m(\u001b[0m\u001b[0;34m\"Solver log:\\n\"\u001b[0m \u001b[0;34m+\u001b[0m \u001b[0mstr\u001b[0m\u001b[0;34m(\u001b[0m\u001b[0m_status\u001b[0m\u001b[0;34m.\u001b[0m\u001b[0mlog\u001b[0m\u001b[0;34m)\u001b[0m\u001b[0;34m)\u001b[0m\u001b[0;34m\u001b[0m\u001b[0;34m\u001b[0m\u001b[0m\n\u001b[0;32m--> 596\u001b[0;31m                 raise ApplicationError(\n\u001b[0m\u001b[1;32m    597\u001b[0m                     \"Solver (%s) did not exit normally\" % self.name)\n\u001b[1;32m    598\u001b[0m             \u001b[0msolve_completion_time\u001b[0m \u001b[0;34m=\u001b[0m \u001b[0mtime\u001b[0m\u001b[0;34m.\u001b[0m\u001b[0mtime\u001b[0m\u001b[0;34m(\u001b[0m\u001b[0;34m)\u001b[0m\u001b[0;34m\u001b[0m\u001b[0;34m\u001b[0m\u001b[0m\n",
      "\u001b[0;31mApplicationError\u001b[0m: Solver (gurobi) did not exit normally"
     ]
    }
   ],
   "source": [
    "positive_s_indices = []\n",
    "positive_s_indices = list(range(1, len(np.transpose(A))+1))\n",
    "#Model Formulation\n",
    "# Create the model\n",
    "model = ConcreteModel()\n",
    "\n",
    "# Define the decision variable\n",
    "model.set_s = RangeSet(len(np.transpose(A)))\n",
    "model.s = Var(model.set_s)\n",
    "model.set_positive_scale = Set(initialize=positive_s_indices)\n",
    "\n",
    "#model constraint: As = f and s>=0\n",
    "model.set_balance = RangeSet(len(f))\n",
    "def balance(model, p): # As = f\n",
    "    return sum(A[p-1,i-1]*model.s[i] for i in model.set_s) == f[p-1]\n",
    "def positive_scale(model, i): # s>=0\n",
    "    return (model.s[i]>=0)\n",
    "\n",
    "model.balance_constraints = Constraint(model.set_balance, rule=balance)\n",
    "model.positive_scale_constraints = Constraint(model.set_positive_scale, rule=positive_scale)\n",
    "\n",
    "model.obj = Objective(expr = sum(coef_GWP[i-1]*model.s[i] for i in model.set_s), sense=minimize)\n",
    "#Solver\n",
    "solver = SolverFactory('gurobi')\n",
    "solver.solve(model) # solves and updates instance"
   ]
  },
  {
   "cell_type": "code",
   "execution_count": 27,
   "id": "f9d39b23-2b4b-47fb-8f99-d6690a79e930",
   "metadata": {},
   "outputs": [
    {
     "data": {
      "text/plain": [
       "1.6"
      ]
     },
     "execution_count": 27,
     "metadata": {},
     "output_type": "execute_result"
    }
   ],
   "source": [
    "value(model.obj)"
   ]
  },
  {
   "cell_type": "code",
   "execution_count": 28,
   "id": "508abc6b-f21f-4ae1-9e9d-97b813ffd498",
   "metadata": {},
   "outputs": [],
   "source": [
    "scaling_factors = []\n",
    "for j in model.s:\n",
    "    scaling_factors.append(model.s[j].value)       "
   ]
  },
  {
   "cell_type": "code",
   "execution_count": 29,
   "id": "5a87c1d9-df9e-421a-a8ee-c80881555e24",
   "metadata": {},
   "outputs": [
    {
     "data": {
      "text/plain": [
       "[0.5, 0.0, 0.5, 0.0, 0.5, 1.0, 1.0, -0.0, 1.0, 1.0, 0.0]"
      ]
     },
     "execution_count": 29,
     "metadata": {},
     "output_type": "execute_result"
    }
   ],
   "source": [
    "scaling_factors"
   ]
  },
  {
   "cell_type": "code",
   "execution_count": null,
   "id": "80e642b6-a695-4a86-90e7-d76e66e2713a",
   "metadata": {},
   "outputs": [],
   "source": []
  },
  {
   "cell_type": "code",
   "execution_count": null,
   "id": "27dc41ab-520e-41a9-bb66-e5d68c550f88",
   "metadata": {},
   "outputs": [],
   "source": []
  }
 ],
 "metadata": {
  "kernelspec": {
   "display_name": "Python 3 (ipykernel)",
   "language": "python",
   "name": "python3"
  },
  "language_info": {
   "codemirror_mode": {
    "name": "ipython",
    "version": 3
   },
   "file_extension": ".py",
   "mimetype": "text/x-python",
   "name": "python",
   "nbconvert_exporter": "python",
   "pygments_lexer": "ipython3",
   "version": "3.9.13"
  }
 },
 "nbformat": 4,
 "nbformat_minor": 5
}
